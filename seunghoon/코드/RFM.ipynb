{
 "cells": [
  {
   "cell_type": "code",
   "execution_count": 29,
   "id": "39f2bd81",
   "metadata": {},
   "outputs": [],
   "source": [
    "import pandas as pd\n",
    "import numpy as np\n",
    "import matplotlib.pyplot as plt\n",
    "import seaborn as sns\n",
    "import scipy.stats as stats\n",
    "from sklearn.preprocessing import LabelEncoder\n",
    "from sklearn.model_selection import train_test_split\n",
    "from sklearn.ensemble import ExtraTreesClassifier\n",
    "from sklearn.ensemble import RandomForestClassifier\n",
    "from sklearn.metrics import accuracy_score\n",
    "from matplotlib.ticker import ScalarFormatter\n",
    "from sklearn.metrics import confusion_matrix\n",
    "from sklearn.preprocessing import StandardScaler\n",
    "from sklearn.decomposition import PCA"
   ]
  },
  {
   "cell_type": "code",
   "execution_count": 30,
   "id": "5a520650",
   "metadata": {},
   "outputs": [],
   "source": [
    "import os\n",
    "\n",
    "if os.name == 'posix':\n",
    "    plt.rc(\"font\", family=\"AppleGothic\")\n",
    "else:\n",
    "    plt.rc(\"font\", family=\"Malgun Gothic\")"
   ]
  },
  {
   "cell_type": "code",
   "execution_count": 31,
   "id": "ffb8085f",
   "metadata": {},
   "outputs": [],
   "source": [
    "df = pd.read_csv('C:/Users/Home/Desktop/Data/2차/CardData_new.csv', encoding = 'cp949')"
   ]
  },
  {
   "cell_type": "code",
   "execution_count": 32,
   "id": "aa327d56",
   "metadata": {},
   "outputs": [],
   "source": [
    "df2 = df.copy()"
   ]
  },
  {
   "cell_type": "code",
   "execution_count": 33,
   "id": "75f8b2b0",
   "metadata": {},
   "outputs": [],
   "source": [
    "d = {\n",
    "    '21.Active_연속' : 0,\n",
    "    '22.Active_간헐' : 1,\n",
    "    '34.휴면_9M+' : 2,\n",
    "    '32.휴면_6M-' : 2,\n",
    "    '33.휴면_9M-' : 2,\n",
    "    '31.휴면_3M' : 2\n",
    "}\n",
    "df2['고객구분'] = df2['고객구분'].map(d)"
   ]
  },
  {
   "cell_type": "markdown",
   "id": "5b1d1b6e",
   "metadata": {},
   "source": [
    "# RFM 0,1 분류"
   ]
  },
  {
   "cell_type": "code",
   "execution_count": 34,
   "id": "270c9a46",
   "metadata": {},
   "outputs": [],
   "source": [
    "df2['Recency'] = (df[['이용후경과월_신용','이용후경과월_체크', '이용후경과월_카드론']]).min(axis= 1)"
   ]
  },
  {
   "cell_type": "code",
   "execution_count": 35,
   "id": "ce1f4975",
   "metadata": {},
   "outputs": [],
   "source": [
    "df2['Recency_2'] = 0\n",
    "const = (df2[['이용건수_신용_B0M', '이용건수_체크_B0M', '이용건수_카드론_B0M']].sum(axis = 1)).quantile(0.40)\n",
    "\n",
    "df2.loc[(df2['Recency'] == 0) & (df2[['이용건수_신용_B0M', '이용건수_체크_B0M', '이용건수_카드론_B0M']].sum(axis = 1) >= const), ['Recency_2']] = 1"
   ]
  },
  {
   "cell_type": "code",
   "execution_count": 36,
   "id": "8e9108ff",
   "metadata": {},
   "outputs": [
    {
     "data": {
      "text/plain": [
       "1    183224\n",
       "0    116776\n",
       "Name: Recency_2, dtype: int64"
      ]
     },
     "execution_count": 36,
     "metadata": {},
     "output_type": "execute_result"
    }
   ],
   "source": [
    "df2['Recency_2'].value_counts()"
   ]
  },
  {
   "cell_type": "code",
   "execution_count": 37,
   "id": "0621b1d6",
   "metadata": {},
   "outputs": [],
   "source": [
    "df2['Frequency'] = df2['이용건수_신용_R12M'] + df2['이용건수_체크_R12M'] + df2['이용건수_카드론_R12M']"
   ]
  },
  {
   "cell_type": "code",
   "execution_count": 38,
   "id": "0b569a4c",
   "metadata": {},
   "outputs": [],
   "source": [
    "threshold = df2['Frequency'].quantile(0.9)\n",
    "df2['Frequency_2'] = df2['Frequency'].apply(lambda x: 1 if x >= threshold else 0)"
   ]
  },
  {
   "cell_type": "code",
   "execution_count": 39,
   "id": "ec21f20e",
   "metadata": {},
   "outputs": [],
   "source": [
    "df2['Monetary'] = df2['이용금액_신용_R12M'] + df2['이용금액_체크_R12M'] + df2['이용금액_카드론_R12M'] + df2['이용금액_업종기준']"
   ]
  },
  {
   "cell_type": "code",
   "execution_count": 40,
   "id": "601bd6ff",
   "metadata": {},
   "outputs": [],
   "source": [
    "threshold = df2['Monetary'].quantile(0.9)\n",
    "df2['Monetary_2'] = df2['Monetary'].apply(lambda x: 1 if x >= threshold else 0)"
   ]
  },
  {
   "cell_type": "code",
   "execution_count": 41,
   "id": "a4d706cf",
   "metadata": {},
   "outputs": [],
   "source": [
    "df2['고객분류_RFM_2'] = '임시'\n",
    "\n",
    "df2.loc[(df2['Recency_2'] == 1) & (df2['Frequency_2'] == 1) & (df2['Monetary_2'] == 1), ['고객분류_RFM_2']] = 'VIP고객'\n",
    "df2.loc[(df2['Recency_2'] == 1) & (df2['Frequency_2'] == 1) & (df2['Monetary_2'] == 0), ['고객분류_RFM_2']] = '충성고객'\n",
    "df2.loc[(df2['Recency_2'] == 1) & (df2['Frequency_2'] == 0) & (df2['Monetary_2'] == 1), ['고객분류_RFM_2']] = '잠재VIP고객'\n",
    "df2.loc[(df2['Recency_2'] == 1) & (df2['Frequency_2'] == 0) & (df2['Monetary_2'] == 0), ['고객분류_RFM_2']] = '잠재충성고객'\n",
    "df2.loc[(df2['Recency_2'] == 0) & (df2['Frequency_2'] == 1) & (df2['Monetary_2'] == 1), ['고객분류_RFM_2']] = '놓치면안될고객'\n",
    "df2.loc[(df2['Recency_2'] == 0) & (df2['Frequency_2'] == 1) & (df2['Monetary_2'] == 0), ['고객분류_RFM_2']] = '관심필요고객'\n",
    "df2.loc[(df2['Recency_2'] == 0) & (df2['Frequency_2'] == 0) & (df2['Monetary_2'] == 1), ['고객분류_RFM_2']] = '이탈우려고객'\n",
    "df2.loc[(df2['Recency_2'] == 0) & (df2['Frequency_2'] == 0) & (df2['Monetary_2'] == 0), ['고객분류_RFM_2']] = '겨울잠고객'"
   ]
  },
  {
   "cell_type": "code",
   "execution_count": 42,
   "id": "3137c63c",
   "metadata": {},
   "outputs": [
    {
     "data": {
      "text/plain": [
       "잠재충성고객     138529\n",
       "겨울잠고객      114367\n",
       "충성고객        16767\n",
       "잠재VIP고객     15001\n",
       "VIP고객       12927\n",
       "이탈우려고객       2000\n",
       "관심필요고객        337\n",
       "놓치면안될고객        72\n",
       "Name: 고객분류_RFM_2, dtype: int64"
      ]
     },
     "execution_count": 42,
     "metadata": {},
     "output_type": "execute_result"
    }
   ],
   "source": [
    "df2['고객분류_RFM_2'].value_counts()"
   ]
  },
  {
   "cell_type": "code",
   "execution_count": 43,
   "id": "ba837bc1",
   "metadata": {},
   "outputs": [
    {
     "data": {
      "text/plain": [
       "잠재충성고객     138529\n",
       "겨울잠고객      114367\n",
       "충성고객        16767\n",
       "잠재VIP고객     15001\n",
       "VIP고객       12927\n",
       "이탈우려고객       2000\n",
       "관심필요고객        337\n",
       "놓치면안될고객        72\n",
       "Name: 고객분류_RFM_2, dtype: int64"
      ]
     },
     "execution_count": 43,
     "metadata": {},
     "output_type": "execute_result"
    }
   ],
   "source": [
    "df2['고객분류_RFM_2'].value_counts()"
   ]
  },
  {
   "cell_type": "markdown",
   "id": "d71a5ec4",
   "metadata": {},
   "source": [
    "# RFM 5개 값 분류"
   ]
  },
  {
   "cell_type": "code",
   "execution_count": 44,
   "id": "a613b588",
   "metadata": {},
   "outputs": [],
   "source": [
    "df2['Recency_5'] = (df[['이용후경과월_신용','이용후경과월_체크', '이용후경과월_카드론']]).min(axis= 1)"
   ]
  },
  {
   "cell_type": "code",
   "execution_count": 45,
   "id": "124aca94",
   "metadata": {
    "scrolled": false
   },
   "outputs": [
    {
     "data": {
      "text/plain": [
       "0     243637\n",
       "1       8549\n",
       "2       5339\n",
       "3       4252\n",
       "4       3121\n",
       "5       2768\n",
       "6       2468\n",
       "7       2273\n",
       "8       1903\n",
       "9       1721\n",
       "10      1644\n",
       "11      1539\n",
       "12     20786\n",
       "Name: Recency_5, dtype: int64"
      ]
     },
     "execution_count": 45,
     "metadata": {},
     "output_type": "execute_result"
    }
   ],
   "source": [
    "df2['Recency_5'].value_counts().sort_index()"
   ]
  },
  {
   "cell_type": "code",
   "execution_count": 46,
   "id": "13c7c7c2",
   "metadata": {},
   "outputs": [],
   "source": [
    "df2['Recency_5'] = df2['Recency'].map(lambda x : {0 : 5, 1 : 4, 2 :4, 3 : 4, 4: 3, 5:3, 6:3, 7:2, 8:2, 9:2, 10:1, 11:1, 12:1}[x])"
   ]
  },
  {
   "cell_type": "code",
   "execution_count": 47,
   "id": "92bbe824",
   "metadata": {},
   "outputs": [],
   "source": [
    "df2['Frequency_5'] = pd.cut(df2['Frequency'], bins = [df2['Frequency'].quantile(0), df2['Frequency'].quantile(0.2), df2['Frequency'].quantile(0.4),\n",
    "                                 df2['Frequency'].quantile(0.6), df2['Frequency'].quantile(0.8), df2['Frequency'].quantile(1)],\n",
    "      labels = [1, 2, 3, 4, 5], include_lowest = True)"
   ]
  },
  {
   "cell_type": "code",
   "execution_count": 48,
   "id": "b74237b5",
   "metadata": {},
   "outputs": [],
   "source": [
    "df2['Monetary_5'] = pd.cut(df2['Monetary'], bins = [df2['Monetary'].quantile(0), df2['Monetary'].quantile(0.2), df2['Monetary'].quantile(0.4),\n",
    "                                 df2['Monetary'].quantile(0.6), df2['Monetary'].quantile(0.8), df2['Monetary'].quantile(1)],\n",
    "      labels = [1, 2, 3, 4, 5], include_lowest = True)"
   ]
  },
  {
   "cell_type": "code",
   "execution_count": null,
   "id": "c91d0515",
   "metadata": {},
   "outputs": [],
   "source": []
  },
  {
   "cell_type": "code",
   "execution_count": null,
   "id": "a1d94507",
   "metadata": {},
   "outputs": [],
   "source": []
  }
 ],
 "metadata": {
  "kernelspec": {
   "display_name": "Python 3 (ipykernel)",
   "language": "python",
   "name": "python3"
  },
  "language_info": {
   "codemirror_mode": {
    "name": "ipython",
    "version": 3
   },
   "file_extension": ".py",
   "mimetype": "text/x-python",
   "name": "python",
   "nbconvert_exporter": "python",
   "pygments_lexer": "ipython3",
   "version": "3.10.9"
  }
 },
 "nbformat": 4,
 "nbformat_minor": 5
}
