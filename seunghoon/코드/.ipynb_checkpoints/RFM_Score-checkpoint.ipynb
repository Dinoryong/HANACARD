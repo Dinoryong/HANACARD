{
 "cells": [
  {
   "cell_type": "code",
   "execution_count": 92,
   "id": "3dd49b1a",
   "metadata": {},
   "outputs": [],
   "source": [
    "# !pip install pingouin"
   ]
  },
  {
   "cell_type": "code",
   "execution_count": 93,
   "id": "b461f52f",
   "metadata": {},
   "outputs": [],
   "source": [
    "# !pip install scikit-posthocs"
   ]
  },
  {
   "cell_type": "code",
   "execution_count": 94,
   "id": "ef48bee0",
   "metadata": {},
   "outputs": [],
   "source": [
    "# !pip install yellowbrick"
   ]
  },
  {
   "cell_type": "code",
   "execution_count": 231,
   "id": "5de80d3a",
   "metadata": {},
   "outputs": [],
   "source": [
    "import pandas as pd\n",
    "import numpy as np\n",
    "import matplotlib.pyplot as plt\n",
    "import seaborn as sns\n",
    "import scipy.stats as stats\n",
    "from sklearn.preprocessing import LabelEncoder\n",
    "from sklearn.model_selection import train_test_split\n",
    "from sklearn.ensemble import ExtraTreesClassifier\n",
    "from sklearn.ensemble import RandomForestClassifier\n",
    "from sklearn.metrics import accuracy_score\n",
    "from matplotlib.ticker import ScalarFormatter\n",
    "from sklearn.metrics import confusion_matrix\n",
    "from sklearn.preprocessing import StandardScaler\n",
    "from sklearn.decomposition import PCA\n",
    "from sklearn.preprocessing import MinMaxScaler\n",
    "from sklearn.cluster import KMeans\n",
    "from yellowbrick.cluster import KElbowVisualizer\n",
    "from scipy.stats import pearsonr, bartlett, levene, wilcoxon, mannwhitneyu, ttest_ind, f_oneway, kruskal\n",
    "from scipy.stats import shapiro, anderson, kstest, normaltest, jarque_bera\n",
    "from scipy.stats import chi2_contingency, chisquare\n",
    "import pingouin as pg\n",
    "import scikit_posthocs as sp\n",
    "from statsmodels.formula.api import ols\n",
    "from statsmodels.stats.anova import anova_lm\n",
    "from statsmodels.stats.multicomp import pairwise_tukeyhsd\n",
    "from statsmodels.stats.outliers_influence import variance_inflation_factor"
   ]
  },
  {
   "cell_type": "code",
   "execution_count": 173,
   "id": "a051e7e0",
   "metadata": {},
   "outputs": [],
   "source": [
    "import os\n",
    "\n",
    "if os.name == 'posix':\n",
    "    plt.rc(\"font\", family=\"AppleGothic\")\n",
    "else:\n",
    "    plt.rc(\"font\", family=\"Malgun Gothic\")"
   ]
  },
  {
   "cell_type": "code",
   "execution_count": 174,
   "id": "4152a650",
   "metadata": {},
   "outputs": [],
   "source": [
    "df = pd.read_csv(r'C:\\Users\\User\\Desktop\\DigitalHana_Project2\\Data\\HanaCard_Data.csv', encoding = 'cp949')"
   ]
  },
  {
   "cell_type": "code",
   "execution_count": 175,
   "id": "b591c54c",
   "metadata": {},
   "outputs": [],
   "source": [
    "df2 = df.copy()"
   ]
  },
  {
   "cell_type": "code",
   "execution_count": 176,
   "id": "6774961a",
   "metadata": {},
   "outputs": [],
   "source": [
    "# 활용할 수 없는 Column들을 삭제\n",
    "df2.drop(columns = ['남녀구분코드', '연령', '거주시도명', '거주시군구명', '직장시도명', '직장시군구명', '납부_렌탈료이용금액', '컨택건수_CA_TM_B0M', '컨택건수_CA_EM_B0M', '컨택건수_리볼빙_EM_B0M', '컨택건수_리볼빙_청구서_B0M', '컨택건수_카드론_인터넷_B0M', '컨택건수_CA_인터넷_B0M', '컨택건수_리볼빙_인터넷_B0M', '컨택건수_CA_EM_R6M', '컨택건수_리볼빙_EM_R6M', '컨택건수_리볼빙_청구서_R6M', '컨택건수_카드론_인터넷_R6M', '컨택건수_CA_인터넷_R6M', '컨택건수_리볼빙_인터넷_R6M'], inplace = True)"
   ]
  },
  {
   "cell_type": "code",
   "execution_count": 177,
   "id": "191f20c1",
   "metadata": {},
   "outputs": [],
   "source": [
    "d = {\n",
    "    '21.Active_연속' : 0,\n",
    "    '22.Active_간헐' : 1,\n",
    "    '34.휴면_9M+' : 2,\n",
    "    '32.휴면_6M-' : 2,\n",
    "    '33.휴면_9M-' : 2,\n",
    "    '31.휴면_3M' : 2\n",
    "}\n",
    "df2['고객구분'] = df2['고객구분'].map(d)"
   ]
  },
  {
   "cell_type": "code",
   "execution_count": 178,
   "id": "c76b13b9",
   "metadata": {},
   "outputs": [],
   "source": [
    "df2['Recency'] = (df[['이용후경과월_신용','이용후경과월_체크', '이용후경과월_카드론']]).min(axis= 1)"
   ]
  },
  {
   "cell_type": "code",
   "execution_count": 179,
   "id": "31200527",
   "metadata": {},
   "outputs": [
    {
     "data": {
      "text/plain": [
       "0     243637\n",
       "1       8549\n",
       "2       5339\n",
       "3       4252\n",
       "4       3121\n",
       "5       2768\n",
       "6       2468\n",
       "7       2273\n",
       "8       1903\n",
       "9       1721\n",
       "10      1644\n",
       "11      1539\n",
       "12     20786\n",
       "Name: Recency, dtype: int64"
      ]
     },
     "execution_count": 179,
     "metadata": {},
     "output_type": "execute_result"
    }
   ],
   "source": [
    "df2['Recency'].value_counts().sort_index()"
   ]
  },
  {
   "cell_type": "code",
   "execution_count": 180,
   "id": "2997238e",
   "metadata": {},
   "outputs": [
    {
     "data": {
      "text/plain": [
       "array([243637,   8549,   5339,   4252,   3121,   2768,   2468,   2273,\n",
       "         1903,   1721,   1644,   1539,  20786], dtype=int64)"
      ]
     },
     "execution_count": 180,
     "metadata": {},
     "output_type": "execute_result"
    }
   ],
   "source": [
    "df2['Recency'].value_counts().sort_index().values"
   ]
  },
  {
   "cell_type": "code",
   "execution_count": 181,
   "id": "8c5d2315",
   "metadata": {},
   "outputs": [
    {
     "data": {
      "text/plain": [
       "[((1, 1, 1, 2, 3, 3, 1, 1), 83535.69104623143),\n",
       " ((1, 1, 1, 2, 2, 4, 1, 1), 83535.81543437351),\n",
       " ((1, 1, 1, 1, 3, 4, 1, 1), 83541.06718939409),\n",
       " ((1, 1, 2, 2, 2, 3, 1, 1), 83544.15026285716),\n",
       " ((1, 1, 1, 1, 2, 5, 1, 1), 83548.03889465543),\n",
       " ((1, 1, 1, 3, 2, 3, 1, 1), 83548.14907926702),\n",
       " ((1, 1, 2, 2, 3, 2, 1, 1), 83548.62772062747),\n",
       " ((1, 1, 1, 2, 4, 2, 1, 1), 83549.17612144016),\n",
       " ((1, 1, 2, 1, 3, 3, 1, 1), 83551.8176445868),\n",
       " ((1, 1, 2, 1, 2, 4, 1, 1), 83551.94200872038)]"
      ]
     },
     "execution_count": 181,
     "metadata": {},
     "output_type": "execute_result"
    }
   ],
   "source": [
    "import itertools\n",
    "val = [243637,   8549,   5339,   4252,   3121,   2768,   2468,   2273, 1903,   1721,   1644,   1539,  20786]\n",
    "res = []\n",
    "\n",
    "for case in filter(lambda x : sum(x) == 13, itertools.product(range(1, 7), repeat = 8)):\n",
    "    res.append((case, pd.Series([sum(val[:case[0]]), sum(val[case[0]:sum(case[:1])]), sum(val[sum(case[:1]):sum(case[:2])]), sum(val[sum(case[:2]):sum(case[:3])]), sum(val[sum(case[:3]):sum(case[:4])]), sum(val[sum(case[:4]):sum(case[:5])]), sum(val[sum(case[:5]):sum(case[:6])]), sum(val[sum(case[:6]):])]).std()))\n",
    "\n",
    "sorted(res, key = lambda x : x[1])[:10]"
   ]
  },
  {
   "cell_type": "code",
   "execution_count": 182,
   "id": "0efcfe4b",
   "metadata": {},
   "outputs": [],
   "source": [
    "df2['Recency_8'] = df2['Recency'].map(lambda x : dict(zip(range(13), [8, 7, 6, 5, 5, 4, 4, 4, 3, 3, 3, 2, 1]))[x])"
   ]
  },
  {
   "cell_type": "code",
   "execution_count": 183,
   "id": "08df4f95",
   "metadata": {},
   "outputs": [],
   "source": [
    "df2['Frequency'] = df2['이용건수_신용_R12M'] + df2['이용건수_체크_R12M'] + df2['이용건수_카드론_R12M']"
   ]
  },
  {
   "cell_type": "code",
   "execution_count": 184,
   "id": "ddcb0ca7",
   "metadata": {},
   "outputs": [],
   "source": [
    "df2['Frequency_8'] = pd.cut(df2['Frequency'], bins = [df2['Frequency'].quantile(0), df2['Frequency'].quantile(0.125), df2['Frequency'].quantile(0.25), df2['Frequency'].quantile(0.375), df2['Frequency'].quantile(0.5), df2['Frequency'].quantile(0.625), df2['Frequency'].quantile(0.75), df2['Frequency'].quantile(0.875), df2['Frequency'].quantile(1)], labels = range(1, 9), include_lowest = True).astype(np.int64)"
   ]
  },
  {
   "cell_type": "code",
   "execution_count": 185,
   "id": "6ba02fa4",
   "metadata": {},
   "outputs": [],
   "source": [
    "df2['Monetary'] = df2['이용금액_신용_R12M'] + df2['이용금액_체크_R12M'] + df2['이용금액_카드론_R12M'] + df2['이용금액_업종기준']"
   ]
  },
  {
   "cell_type": "code",
   "execution_count": 186,
   "id": "efd9b40a",
   "metadata": {},
   "outputs": [],
   "source": [
    "df2['Monetary_8'] = pd.cut(df2['Monetary'], bins = [df2['Monetary'].quantile(0), df2['Monetary'].quantile(0.125), df2['Monetary'].quantile(0.25), df2['Monetary'].quantile(0.375), df2['Monetary'].quantile(0.5), df2['Monetary'].quantile(0.625), df2['Monetary'].quantile(0.75), df2['Monetary'].quantile(0.875), df2['Monetary'].quantile(1)], labels = range(1, 9), include_lowest = True).astype(np.int64)"
   ]
  },
  {
   "cell_type": "markdown",
   "id": "21d937e3",
   "metadata": {},
   "source": [
    "# RFM 8개 값 분류"
   ]
  },
  {
   "cell_type": "code",
   "execution_count": 187,
   "id": "19ce3fbb",
   "metadata": {},
   "outputs": [],
   "source": [
    "scaler = MinMaxScaler()\n",
    "df2['Recency_s'] = scaler.fit_transform(df2[['Recency']])\n",
    "df2['Frequency_s'] = scaler.fit_transform(df2[['Frequency']])\n",
    "df2['Monetary_s'] = scaler.fit_transform(df2[['Monetary']])"
   ]
  },
  {
   "cell_type": "code",
   "execution_count": 188,
   "id": "3fc420f8",
   "metadata": {},
   "outputs": [
    {
     "name": "stderr",
     "output_type": "stream",
     "text": [
      "C:\\Users\\User\\anaconda3\\lib\\site-packages\\sklearn\\cluster\\_kmeans.py:870: FutureWarning: The default value of `n_init` will change from 10 to 'auto' in 1.4. Set the value of `n_init` explicitly to suppress the warning\n",
      "  warnings.warn(\n",
      "C:\\Users\\User\\anaconda3\\lib\\site-packages\\sklearn\\cluster\\_kmeans.py:870: FutureWarning: The default value of `n_init` will change from 10 to 'auto' in 1.4. Set the value of `n_init` explicitly to suppress the warning\n",
      "  warnings.warn(\n",
      "C:\\Users\\User\\anaconda3\\lib\\site-packages\\sklearn\\cluster\\_kmeans.py:870: FutureWarning: The default value of `n_init` will change from 10 to 'auto' in 1.4. Set the value of `n_init` explicitly to suppress the warning\n",
      "  warnings.warn(\n",
      "C:\\Users\\User\\anaconda3\\lib\\site-packages\\sklearn\\cluster\\_kmeans.py:870: FutureWarning: The default value of `n_init` will change from 10 to 'auto' in 1.4. Set the value of `n_init` explicitly to suppress the warning\n",
      "  warnings.warn(\n",
      "C:\\Users\\User\\anaconda3\\lib\\site-packages\\sklearn\\cluster\\_kmeans.py:870: FutureWarning: The default value of `n_init` will change from 10 to 'auto' in 1.4. Set the value of `n_init` explicitly to suppress the warning\n",
      "  warnings.warn(\n",
      "C:\\Users\\User\\anaconda3\\lib\\site-packages\\sklearn\\cluster\\_kmeans.py:870: FutureWarning: The default value of `n_init` will change from 10 to 'auto' in 1.4. Set the value of `n_init` explicitly to suppress the warning\n",
      "  warnings.warn(\n",
      "C:\\Users\\User\\anaconda3\\lib\\site-packages\\sklearn\\cluster\\_kmeans.py:870: FutureWarning: The default value of `n_init` will change from 10 to 'auto' in 1.4. Set the value of `n_init` explicitly to suppress the warning\n",
      "  warnings.warn(\n",
      "C:\\Users\\User\\anaconda3\\lib\\site-packages\\sklearn\\cluster\\_kmeans.py:870: FutureWarning: The default value of `n_init` will change from 10 to 'auto' in 1.4. Set the value of `n_init` explicitly to suppress the warning\n",
      "  warnings.warn(\n",
      "C:\\Users\\User\\anaconda3\\lib\\site-packages\\sklearn\\cluster\\_kmeans.py:870: FutureWarning: The default value of `n_init` will change from 10 to 'auto' in 1.4. Set the value of `n_init` explicitly to suppress the warning\n",
      "  warnings.warn(\n"
     ]
    },
    {
     "data": {
      "text/html": [
       "<style>#sk-container-id-4 {color: black;background-color: white;}#sk-container-id-4 pre{padding: 0;}#sk-container-id-4 div.sk-toggleable {background-color: white;}#sk-container-id-4 label.sk-toggleable__label {cursor: pointer;display: block;width: 100%;margin-bottom: 0;padding: 0.3em;box-sizing: border-box;text-align: center;}#sk-container-id-4 label.sk-toggleable__label-arrow:before {content: \"▸\";float: left;margin-right: 0.25em;color: #696969;}#sk-container-id-4 label.sk-toggleable__label-arrow:hover:before {color: black;}#sk-container-id-4 div.sk-estimator:hover label.sk-toggleable__label-arrow:before {color: black;}#sk-container-id-4 div.sk-toggleable__content {max-height: 0;max-width: 0;overflow: hidden;text-align: left;background-color: #f0f8ff;}#sk-container-id-4 div.sk-toggleable__content pre {margin: 0.2em;color: black;border-radius: 0.25em;background-color: #f0f8ff;}#sk-container-id-4 input.sk-toggleable__control:checked~div.sk-toggleable__content {max-height: 200px;max-width: 100%;overflow: auto;}#sk-container-id-4 input.sk-toggleable__control:checked~label.sk-toggleable__label-arrow:before {content: \"▾\";}#sk-container-id-4 div.sk-estimator input.sk-toggleable__control:checked~label.sk-toggleable__label {background-color: #d4ebff;}#sk-container-id-4 div.sk-label input.sk-toggleable__control:checked~label.sk-toggleable__label {background-color: #d4ebff;}#sk-container-id-4 input.sk-hidden--visually {border: 0;clip: rect(1px 1px 1px 1px);clip: rect(1px, 1px, 1px, 1px);height: 1px;margin: -1px;overflow: hidden;padding: 0;position: absolute;width: 1px;}#sk-container-id-4 div.sk-estimator {font-family: monospace;background-color: #f0f8ff;border: 1px dotted black;border-radius: 0.25em;box-sizing: border-box;margin-bottom: 0.5em;}#sk-container-id-4 div.sk-estimator:hover {background-color: #d4ebff;}#sk-container-id-4 div.sk-parallel-item::after {content: \"\";width: 100%;border-bottom: 1px solid gray;flex-grow: 1;}#sk-container-id-4 div.sk-label:hover label.sk-toggleable__label {background-color: #d4ebff;}#sk-container-id-4 div.sk-serial::before {content: \"\";position: absolute;border-left: 1px solid gray;box-sizing: border-box;top: 0;bottom: 0;left: 50%;z-index: 0;}#sk-container-id-4 div.sk-serial {display: flex;flex-direction: column;align-items: center;background-color: white;padding-right: 0.2em;padding-left: 0.2em;position: relative;}#sk-container-id-4 div.sk-item {position: relative;z-index: 1;}#sk-container-id-4 div.sk-parallel {display: flex;align-items: stretch;justify-content: center;background-color: white;position: relative;}#sk-container-id-4 div.sk-item::before, #sk-container-id-4 div.sk-parallel-item::before {content: \"\";position: absolute;border-left: 1px solid gray;box-sizing: border-box;top: 0;bottom: 0;left: 50%;z-index: -1;}#sk-container-id-4 div.sk-parallel-item {display: flex;flex-direction: column;z-index: 1;position: relative;background-color: white;}#sk-container-id-4 div.sk-parallel-item:first-child::after {align-self: flex-end;width: 50%;}#sk-container-id-4 div.sk-parallel-item:last-child::after {align-self: flex-start;width: 50%;}#sk-container-id-4 div.sk-parallel-item:only-child::after {width: 0;}#sk-container-id-4 div.sk-dashed-wrapped {border: 1px dashed gray;margin: 0 0.4em 0.5em 0.4em;box-sizing: border-box;padding-bottom: 0.4em;background-color: white;}#sk-container-id-4 div.sk-label label {font-family: monospace;font-weight: bold;display: inline-block;line-height: 1.2em;}#sk-container-id-4 div.sk-label-container {text-align: center;}#sk-container-id-4 div.sk-container {/* jupyter's `normalize.less` sets `[hidden] { display: none; }` but bootstrap.min.css set `[hidden] { display: none !important; }` so we also need the `!important` here to be able to override the default hidden behavior on the sphinx rendered scikit-learn.org. See: https://github.com/scikit-learn/scikit-learn/issues/21755 */display: inline-block !important;position: relative;}#sk-container-id-4 div.sk-text-repr-fallback {display: none;}</style><div id=\"sk-container-id-4\" class=\"sk-top-container\"><div class=\"sk-text-repr-fallback\"><pre>KElbowVisualizer(ax=&lt;Axes: &gt;, estimator=KMeans(n_clusters=9), k=(1, 10))</pre><b>In a Jupyter environment, please rerun this cell to show the HTML representation or trust the notebook. <br />On GitHub, the HTML representation is unable to render, please try loading this page with nbviewer.org.</b></div><div class=\"sk-container\" hidden><div class=\"sk-item sk-dashed-wrapped\"><div class=\"sk-label-container\"><div class=\"sk-label sk-toggleable\"><input class=\"sk-toggleable__control sk-hidden--visually\" id=\"sk-estimator-id-10\" type=\"checkbox\" ><label for=\"sk-estimator-id-10\" class=\"sk-toggleable__label sk-toggleable__label-arrow\">KElbowVisualizer</label><div class=\"sk-toggleable__content\"><pre>KElbowVisualizer(ax=&lt;Axes: &gt;, estimator=KMeans(n_clusters=9), k=(1, 10))</pre></div></div></div><div class=\"sk-parallel\"><div class=\"sk-parallel-item\"><div class=\"sk-item\"><div class=\"sk-label-container\"><div class=\"sk-label sk-toggleable\"><input class=\"sk-toggleable__control sk-hidden--visually\" id=\"sk-estimator-id-11\" type=\"checkbox\" ><label for=\"sk-estimator-id-11\" class=\"sk-toggleable__label sk-toggleable__label-arrow\">estimator: KMeans</label><div class=\"sk-toggleable__content\"><pre>KMeans(n_clusters=9)</pre></div></div></div><div class=\"sk-serial\"><div class=\"sk-item\"><div class=\"sk-estimator sk-toggleable\"><input class=\"sk-toggleable__control sk-hidden--visually\" id=\"sk-estimator-id-12\" type=\"checkbox\" ><label for=\"sk-estimator-id-12\" class=\"sk-toggleable__label sk-toggleable__label-arrow\">KMeans</label><div class=\"sk-toggleable__content\"><pre>KMeans(n_clusters=9)</pre></div></div></div></div></div></div></div></div></div></div>"
      ],
      "text/plain": [
       "KElbowVisualizer(ax=<Axes: >, estimator=KMeans(n_clusters=9), k=(1, 10))"
      ]
     },
     "execution_count": 188,
     "metadata": {},
     "output_type": "execute_result"
    },
    {
     "data": {
      "image/png": "[encoded data removed]",
      "text/plain": [
       "<Figure size 800x550 with 2 Axes>"
      ]
     },
     "metadata": {},
     "output_type": "display_data"
    }
   ],
   "source": [
    "model = KMeans()\n",
    "visualizer = KElbowVisualizer(model, k=(1,10))\n",
    "visualizer.fit(df2[['Recency_s','Frequency_s','Monetary_s']])\n",
    "# k = 2"
   ]
  },
  {
   "cell_type": "code",
   "execution_count": 189,
   "id": "df66bd5d",
   "metadata": {},
   "outputs": [
    {
     "name": "stderr",
     "output_type": "stream",
     "text": [
      "C:\\Users\\User\\anaconda3\\lib\\site-packages\\sklearn\\cluster\\_kmeans.py:870: FutureWarning: The default value of `n_init` will change from 10 to 'auto' in 1.4. Set the value of `n_init` explicitly to suppress the warning\n",
      "  warnings.warn(\n"
     ]
    }
   ],
   "source": [
    "# KMeans 모델 생성 (k=2)\n",
    "kmeans = KMeans(n_clusters=2)\n",
    "# 모델 학습 및 예측\n",
    "labels = kmeans.fit_predict(df2[['Recency_s','Frequency_s','Monetary_s']])"
   ]
  },
  {
   "cell_type": "code",
   "execution_count": 190,
   "id": "5c7b1951",
   "metadata": {},
   "outputs": [],
   "source": [
    "df2['labels_k'] = labels"
   ]
  },
  {
   "cell_type": "code",
   "execution_count": 191,
   "id": "b311a869",
   "metadata": {},
   "outputs": [
    {
     "data": {
      "text/html": [
       "<div>\n",
       "<style scoped>\n",
       "    .dataframe tbody tr th:only-of-type {\n",
       "        vertical-align: middle;\n",
       "    }\n",
       "\n",
       "    .dataframe tbody tr th {\n",
       "        vertical-align: top;\n",
       "    }\n",
       "\n",
       "    .dataframe thead th {\n",
       "        text-align: right;\n",
       "    }\n",
       "</style>\n",
       "<table border=\"1\" class=\"dataframe\">\n",
       "  <thead>\n",
       "    <tr style=\"text-align: right;\">\n",
       "      <th></th>\n",
       "      <th>Recency_s</th>\n",
       "      <th>Frequency_s</th>\n",
       "      <th>Monetary_s</th>\n",
       "    </tr>\n",
       "    <tr>\n",
       "      <th>labels_k</th>\n",
       "      <th></th>\n",
       "      <th></th>\n",
       "      <th></th>\n",
       "    </tr>\n",
       "  </thead>\n",
       "  <tbody>\n",
       "    <tr>\n",
       "      <th>0</th>\n",
       "      <td>3.707733</td>\n",
       "      <td>1.040649</td>\n",
       "      <td>1.242323</td>\n",
       "    </tr>\n",
       "    <tr>\n",
       "      <th>1</th>\n",
       "      <td>0.195777</td>\n",
       "      <td>1.055173</td>\n",
       "      <td>0.395543</td>\n",
       "    </tr>\n",
       "  </tbody>\n",
       "</table>\n",
       "</div>"
      ],
      "text/plain": [
       "          Recency_s  Frequency_s  Monetary_s\n",
       "labels_k                                    \n",
       "0          3.707733     1.040649    1.242323\n",
       "1          0.195777     1.055173    0.395543"
      ]
     },
     "execution_count": 191,
     "metadata": {},
     "output_type": "execute_result"
    }
   ],
   "source": [
    "# CV = k개 그룹에 대한 각 R,F,M의 표준편차 / 평균\n",
    "cv_k = df2.groupby('labels_k')[['Recency_s', 'Frequency_s', 'Monetary_s']].agg('std') / df2.groupby('labels_k')[['Recency_s', 'Frequency_s', 'Monetary_s']].agg('mean')\n",
    "cv_k"
   ]
  },
  {
   "cell_type": "code",
   "execution_count": 192,
   "id": "df7bca36",
   "metadata": {},
   "outputs": [
    {
     "data": {
      "text/plain": [
       "Recency_s      0.050154\n",
       "Frequency_s    0.496535\n",
       "Monetary_s     0.241499\n",
       "dtype: float64"
      ]
     },
     "execution_count": 192,
     "metadata": {},
     "output_type": "execute_result"
    }
   ],
   "source": [
    "res = cv_k.min(axis = 0) / cv_k.sum()\n",
    "res"
   ]
  },
  {
   "cell_type": "code",
   "execution_count": 193,
   "id": "7d6b92ca",
   "metadata": {},
   "outputs": [
    {
     "name": "stdout",
     "output_type": "stream",
     "text": [
      "0.0636321049561043 0.629970431576547 0.30639746346734875\n"
     ]
    }
   ],
   "source": [
    "# 가중치\n",
    "w1, w2, w3 = (res / res.sum())\n",
    "print(w1, w2, w3)"
   ]
  },
  {
   "cell_type": "code",
   "execution_count": 194,
   "id": "05ab69e1",
   "metadata": {},
   "outputs": [],
   "source": [
    "df2['RFM_Score'] = ((w1 * df2['Recency_8'] + w2 * df2['Frequency_8'] + w3 * df2['Monetary_8']) / 8) * 100"
   ]
  },
  {
   "cell_type": "code",
   "execution_count": 195,
   "id": "6411a9f3",
   "metadata": {},
   "outputs": [
    {
     "data": {
      "text/plain": [
       "VIP고객      33888\n",
       "충성고객       35958\n",
       "잠재VIP고객    41408\n",
       "잠재충성고객     37134\n",
       "놓치면안될고객    32255\n",
       "관심필요고객     37092\n",
       "이탈우려고객     44743\n",
       "겨울잠고객      37522\n",
       "Name: RFM_Class, dtype: int64"
      ]
     },
     "execution_count": 195,
     "metadata": {},
     "output_type": "execute_result"
    }
   ],
   "source": [
    "df2['RFM_Class'] = pd.cut(df2['RFM_Score'], bins = [df2['RFM_Score'].quantile(0), df2['RFM_Score'].quantile(0.125), df2['RFM_Score'].quantile(0.25), df2['RFM_Score'].quantile(0.375), df2['RFM_Score'].quantile(0.5), df2['RFM_Score'].quantile(0.625), df2['RFM_Score'].quantile(0.75), df2['RFM_Score'].quantile(0.875), df2['RFM_Score'].quantile(1)], labels = ['겨울잠고객','이탈우려고객','관심필요고객','놓치면안될고객','잠재충성고객','잠재VIP고객','충성고객','VIP고객'], include_lowest = True).astype(np.dtype('O'))\n",
    "df2['RFM_Class'].value_counts().sort_index(key = lambda x : x.map(lambda y : dict(zip(['겨울잠고객','이탈우려고객','관심필요고객','놓치면안될고객','잠재충성고객','잠재VIP고객','충성고객','VIP고객'], range(8, 0, -1)))[y]))"
   ]
  },
  {
   "cell_type": "code",
   "execution_count": 196,
   "id": "cc4cf01c",
   "metadata": {},
   "outputs": [
    {
     "data": {
      "text/html": [
       "<div>\n",
       "<style scoped>\n",
       "    .dataframe tbody tr th:only-of-type {\n",
       "        vertical-align: middle;\n",
       "    }\n",
       "\n",
       "    .dataframe tbody tr th {\n",
       "        vertical-align: top;\n",
       "    }\n",
       "\n",
       "    .dataframe thead th {\n",
       "        text-align: right;\n",
       "    }\n",
       "</style>\n",
       "<table border=\"1\" class=\"dataframe\">\n",
       "  <thead>\n",
       "    <tr style=\"text-align: right;\">\n",
       "      <th></th>\n",
       "      <th>Recency</th>\n",
       "      <th>Frequency</th>\n",
       "      <th>Monetary</th>\n",
       "    </tr>\n",
       "    <tr>\n",
       "      <th>RFM_Class</th>\n",
       "      <th></th>\n",
       "      <th></th>\n",
       "      <th></th>\n",
       "    </tr>\n",
       "  </thead>\n",
       "  <tbody>\n",
       "    <tr>\n",
       "      <th>VIP고객</th>\n",
       "      <td>0.0</td>\n",
       "      <td>832.0</td>\n",
       "      <td>24057959.0</td>\n",
       "    </tr>\n",
       "    <tr>\n",
       "      <th>충성고객</th>\n",
       "      <td>0.0</td>\n",
       "      <td>459.0</td>\n",
       "      <td>18081942.5</td>\n",
       "    </tr>\n",
       "    <tr>\n",
       "      <th>잠재VIP고객</th>\n",
       "      <td>0.0</td>\n",
       "      <td>296.0</td>\n",
       "      <td>10628446.0</td>\n",
       "    </tr>\n",
       "    <tr>\n",
       "      <th>잠재충성고객</th>\n",
       "      <td>0.0</td>\n",
       "      <td>186.0</td>\n",
       "      <td>6953471.0</td>\n",
       "    </tr>\n",
       "    <tr>\n",
       "      <th>놓치면안될고객</th>\n",
       "      <td>0.0</td>\n",
       "      <td>105.0</td>\n",
       "      <td>6323250.0</td>\n",
       "    </tr>\n",
       "    <tr>\n",
       "      <th>관심필요고객</th>\n",
       "      <td>0.0</td>\n",
       "      <td>56.0</td>\n",
       "      <td>2930139.5</td>\n",
       "    </tr>\n",
       "    <tr>\n",
       "      <th>이탈우려고객</th>\n",
       "      <td>0.0</td>\n",
       "      <td>17.0</td>\n",
       "      <td>640360.0</td>\n",
       "    </tr>\n",
       "    <tr>\n",
       "      <th>겨울잠고객</th>\n",
       "      <td>12.0</td>\n",
       "      <td>0.0</td>\n",
       "      <td>0.0</td>\n",
       "    </tr>\n",
       "  </tbody>\n",
       "</table>\n",
       "</div>"
      ],
      "text/plain": [
       "           Recency  Frequency    Monetary\n",
       "RFM_Class                                \n",
       "VIP고객          0.0      832.0  24057959.0\n",
       "충성고객           0.0      459.0  18081942.5\n",
       "잠재VIP고객        0.0      296.0  10628446.0\n",
       "잠재충성고객         0.0      186.0   6953471.0\n",
       "놓치면안될고객        0.0      105.0   6323250.0\n",
       "관심필요고객         0.0       56.0   2930139.5\n",
       "이탈우려고객         0.0       17.0    640360.0\n",
       "겨울잠고객         12.0        0.0         0.0"
      ]
     },
     "execution_count": 196,
     "metadata": {},
     "output_type": "execute_result"
    }
   ],
   "source": [
    "df2.groupby(by = ['RFM_Class'])[['Recency', 'Frequency', 'Monetary']].agg('median').sort_index(key = lambda x : x.map(lambda y : dict(zip(['겨울잠고객','이탈우려고객','관심필요고객','놓치면안될고객','잠재충성고객','잠재VIP고객','충성고객','VIP고객'], range(8, 0, -1)))[y]))"
   ]
  },
  {
   "cell_type": "code",
   "execution_count": 197,
   "id": "3e129686",
   "metadata": {},
   "outputs": [],
   "source": [
    "# 연속 : VIP고객, 충성고객, 잠재VIP고객\n",
    "# 간헐 : 잠재충성고객, 놓치면안될고객\n",
    "# 휴면 : 겨울잠고객,이탈우려고객, 관심필요고객"
   ]
  },
  {
   "cell_type": "code",
   "execution_count": 198,
   "id": "5c7300a3",
   "metadata": {},
   "outputs": [],
   "source": [
    "df2['고객구분_New'] = '임시'\n",
    "df2.loc[df2['RFM_Class'].isin(['VIP고객', '충성고객', '잠재VIP고객']), '고객구분_New'] = '연속'\n",
    "df2.loc[df2['RFM_Class'].isin(['잠재충성고객', '놓치면안될고객']), '고객구분_New'] = '간헐'\n",
    "df2.loc[df2['RFM_Class'].isin(['관심필요고객', '이탈우려고객', '겨울잠고객']), '고객구분_New'] = '휴면'"
   ]
  },
  {
   "cell_type": "code",
   "execution_count": 199,
   "id": "00942ccb",
   "metadata": {},
   "outputs": [
    {
     "data": {
      "text/plain": [
       "휴면    119357\n",
       "연속    111254\n",
       "간헐     69389\n",
       "Name: 고객구분_New, dtype: int64"
      ]
     },
     "execution_count": 199,
     "metadata": {},
     "output_type": "execute_result"
    }
   ],
   "source": [
    "df2['고객구분_New'].value_counts()"
   ]
  },
  {
   "cell_type": "code",
   "execution_count": 200,
   "id": "e85532b6",
   "metadata": {},
   "outputs": [
    {
     "name": "stdout",
     "output_type": "stream",
     "text": [
      "VIP고객\n",
      "0    33121\n",
      "1      540\n",
      "2      227\n",
      "Name: 고객구분, dtype: int64\n",
      "\n",
      "충성고객\n",
      "0    34469\n",
      "1     1038\n",
      "2      451\n",
      "Name: 고객구분, dtype: int64\n",
      "\n",
      "잠재VIP고객\n",
      "0    38619\n",
      "1     1805\n",
      "2      984\n",
      "Name: 고객구분, dtype: int64\n",
      "\n",
      "잠재충성고객\n",
      "0    33689\n",
      "1     2129\n",
      "2     1316\n",
      "Name: 고객구분, dtype: int64\n",
      "\n",
      "놓치면안될고객\n",
      "0    26534\n",
      "1     3544\n",
      "2     2177\n",
      "Name: 고객구분, dtype: int64\n",
      "\n",
      "관심필요고객\n",
      "0    26307\n",
      "1     6563\n",
      "2     4222\n",
      "Name: 고객구분, dtype: int64\n",
      "\n",
      "이탈우려고객\n",
      "0    28217\n",
      "1     9055\n",
      "2     7471\n",
      "Name: 고객구분, dtype: int64\n",
      "\n",
      "겨울잠고객\n",
      "2    31254\n",
      "1     4361\n",
      "0     1907\n",
      "Name: 고객구분, dtype: int64\n",
      "\n"
     ]
    }
   ],
   "source": [
    "for rfm, customer_group in sorted(df2.groupby(by = ['RFM_Class'])[['고객구분']], key = lambda x : dict(zip(['겨울잠고객','이탈우려고객','관심필요고객','놓치면안될고객','잠재충성고객','잠재VIP고객','충성고객','VIP고객'], range(8, 0, -1)))[x[0]]):\n",
    "    print(rfm)\n",
    "    print(customer_group['고객구분'].value_counts())\n",
    "    print()"
   ]
  },
  {
   "cell_type": "code",
   "execution_count": 201,
   "id": "0b32c9dc",
   "metadata": {},
   "outputs": [
    {
     "data": {
      "image/png": "[encoded data removed]",
      "text/plain": [
       "<Figure size 800x550 with 1 Axes>"
      ]
     },
     "metadata": {},
     "output_type": "display_data"
    }
   ],
   "source": [
    "sns.countplot(y = 'RFM_Class', data = df2, orient = 'h', order = reversed(['겨울잠고객','이탈우려고객','관심필요고객','놓치면안될고객', '잠재충성고객','잠재VIP고객','충성고객','VIP고객']))\n",
    "plt.show()"
   ]
  },
  {
   "cell_type": "code",
   "execution_count": 202,
   "id": "b1839662",
   "metadata": {},
   "outputs": [
    {
     "name": "stdout",
     "output_type": "stream",
     "text": [
      "column : Recency,     kruskal_pv : 0.0\n",
      "column : Frequency,     kruskal_pv : 0.0\n",
      "column : Monetary,     kruskal_pv : 0.0\n"
     ]
    }
   ],
   "source": [
    "# RFM_Class 그룹에 따른 R, F, M들의 평균값/중위값 차이가 있는지 분산분석\n",
    "for column in ['Recency', 'Frequency', 'Monetary']:\n",
    "  normally = []\n",
    "  for cla in df2['RFM_Class'].unique():\n",
    "    # 1. 정규성 검정\n",
    "    # shapiro나 kolmogorov-smirnov 같은 검정방법은 데이터의 갯수에 따라 달라지므로 데이터 갯수에 상관없이 하기 위해 normaltest로 검정\n",
    "    cla_tv, cla_pv = normaltest(df2.loc[df2['RFM_Class'] == cla, column])\n",
    "    if cla_pv >= 0.05:\n",
    "      normally.append(True)\n",
    "    else:\n",
    "      normally.append(False)\n",
    "\n",
    "  # 정규성인지 아닌지에 따라 등분산분석 할지 정하기\n",
    "  if all(normally):\n",
    "    # 2. 등분산분석\n",
    "    bartlett_tv, bartlett_pv = bartlett(*[df2.loc[df2['RFM_Class'] == cla, column] for cla in df2['RFM_Class'].unique()])\n",
    "    # 등분산이므로 F검정으로 일원분산분석\n",
    "    if bartlett_pv >= 0.05:\n",
    "      f_oneway_tv, f_oneway_pv = f_oneway(*[df2.loc[df2['RFM_Class'] == cla, column] for cla in df2['RFM_Class'].unique()])\n",
    "      if f_oneway_pv < 0.05:\n",
    "        print(f'column : {column},     f_oneway : {f_oneway_pv}')\n",
    "    # 등분산이 아니므로 Welch_Anova로 일원분산분석\n",
    "    else:\n",
    "      welch_anova_tv, welch_anova_pv = pg.welch_anova(dv = column, between = 'RFM_Class', data = df2)\n",
    "      if welch_anova_pv < 0.05:\n",
    "        print(f'column : {column},     welch_anova_pv : {welch_anova_pv}')\n",
    "  # 정규성을 만족하지 않으므로 Kruskal-Wallis H-test로 일원분산분석\n",
    "  else:\n",
    "    kruskal_tv, kruskal_pv = kruskal(*[df2.loc[df2['RFM_Class'] == cla, column] for cla in df2['RFM_Class'].unique()])\n",
    "    if kruskal_pv < 0.05:\n",
    "      print(f'column : {column},     kruskal_pv : {kruskal_pv}')"
   ]
  },
  {
   "cell_type": "code",
   "execution_count": 203,
   "id": "fac69675",
   "metadata": {},
   "outputs": [
    {
     "data": {
      "text/html": [
       "<div>\n",
       "<style scoped>\n",
       "    .dataframe tbody tr th:only-of-type {\n",
       "        vertical-align: middle;\n",
       "    }\n",
       "\n",
       "    .dataframe tbody tr th {\n",
       "        vertical-align: top;\n",
       "    }\n",
       "\n",
       "    .dataframe thead th {\n",
       "        text-align: right;\n",
       "    }\n",
       "</style>\n",
       "<table border=\"1\" class=\"dataframe\">\n",
       "  <thead>\n",
       "    <tr style=\"text-align: right;\">\n",
       "      <th></th>\n",
       "      <th>Recency</th>\n",
       "      <th>Frequency</th>\n",
       "      <th>Monetary</th>\n",
       "    </tr>\n",
       "    <tr>\n",
       "      <th>RFM_Class</th>\n",
       "      <th></th>\n",
       "      <th></th>\n",
       "      <th></th>\n",
       "    </tr>\n",
       "  </thead>\n",
       "  <tbody>\n",
       "    <tr>\n",
       "      <th>VIP고객</th>\n",
       "      <td>0.0</td>\n",
       "      <td>832.0</td>\n",
       "      <td>24057959.0</td>\n",
       "    </tr>\n",
       "    <tr>\n",
       "      <th>충성고객</th>\n",
       "      <td>0.0</td>\n",
       "      <td>459.0</td>\n",
       "      <td>18081942.5</td>\n",
       "    </tr>\n",
       "    <tr>\n",
       "      <th>잠재VIP고객</th>\n",
       "      <td>0.0</td>\n",
       "      <td>296.0</td>\n",
       "      <td>10628446.0</td>\n",
       "    </tr>\n",
       "    <tr>\n",
       "      <th>잠재충성고객</th>\n",
       "      <td>0.0</td>\n",
       "      <td>186.0</td>\n",
       "      <td>6953471.0</td>\n",
       "    </tr>\n",
       "    <tr>\n",
       "      <th>놓치면안될고객</th>\n",
       "      <td>0.0</td>\n",
       "      <td>105.0</td>\n",
       "      <td>6323250.0</td>\n",
       "    </tr>\n",
       "    <tr>\n",
       "      <th>관심필요고객</th>\n",
       "      <td>0.0</td>\n",
       "      <td>56.0</td>\n",
       "      <td>2930139.5</td>\n",
       "    </tr>\n",
       "    <tr>\n",
       "      <th>이탈우려고객</th>\n",
       "      <td>0.0</td>\n",
       "      <td>17.0</td>\n",
       "      <td>640360.0</td>\n",
       "    </tr>\n",
       "    <tr>\n",
       "      <th>겨울잠고객</th>\n",
       "      <td>12.0</td>\n",
       "      <td>0.0</td>\n",
       "      <td>0.0</td>\n",
       "    </tr>\n",
       "  </tbody>\n",
       "</table>\n",
       "</div>"
      ],
      "text/plain": [
       "           Recency  Frequency    Monetary\n",
       "RFM_Class                                \n",
       "VIP고객          0.0      832.0  24057959.0\n",
       "충성고객           0.0      459.0  18081942.5\n",
       "잠재VIP고객        0.0      296.0  10628446.0\n",
       "잠재충성고객         0.0      186.0   6953471.0\n",
       "놓치면안될고객        0.0      105.0   6323250.0\n",
       "관심필요고객         0.0       56.0   2930139.5\n",
       "이탈우려고객         0.0       17.0    640360.0\n",
       "겨울잠고객         12.0        0.0         0.0"
      ]
     },
     "execution_count": 203,
     "metadata": {},
     "output_type": "execute_result"
    }
   ],
   "source": [
    "df2.groupby(by = ['RFM_Class'])[['Recency', 'Frequency', 'Monetary']].agg('median').sort_index(key = lambda x : x.map(lambda y : dict(zip(['겨울잠고객','이탈우려고객','관심필요고객','놓치면안될고객','잠재충성고객','잠재VIP고객','충성고객','VIP고객'], range(8, 0, -1)))[y]))"
   ]
  },
  {
   "cell_type": "code",
   "execution_count": 240,
   "id": "c3b1b45d",
   "metadata": {},
   "outputs": [
    {
     "name": "stdout",
     "output_type": "stream",
     "text": [
      "column : 소지여부_신용,     kruskal_pv : 0.0\n",
      "column : 입회경과개월수_신용,     kruskal_pv : 0.0\n",
      "column : 탈회여부,     kruskal_pv : 5.374148817184009e-84\n",
      "column : 회원여부_연체,     kruskal_pv : 4.5608067582684725e-39\n",
      "column : 수신거부여부_TM,     kruskal_pv : 0.0\n",
      "column : 수신거부여부_DM,     kruskal_pv : 0.0\n",
      "column : 수신거부여부_메일,     kruskal_pv : 0.0\n",
      "column : 수신거부여부_SMS,     kruskal_pv : 4.591168661180841e-49\n",
      "column : BL여부_R12M,     kruskal_pv : 0.0\n",
      "column : 탈회횟수_누적,     kruskal_pv : 1.8470625039026443e-119\n",
      "column : 탈회횟수_발급1년이내,     kruskal_pv : 7.196637318898511e-19\n",
      "column : 마케팅동의여부,     kruskal_pv : 1.3413823105802966e-125\n",
      "column : 유효카드수_신용체크,     kruskal_pv : 0.0\n",
      "column : 유효카드수_신용,     kruskal_pv : 0.0\n",
      "column : 유효카드수_체크,     kruskal_pv : 0.0\n",
      "column : 이용금액_R3M_신용체크,     kruskal_pv : 0.0\n",
      "column : 이용금액_R3M_신용,     kruskal_pv : 0.0\n",
      "column : 이용금액_R3M_체크,     kruskal_pv : 0.0\n",
      "column : _1순위카드ID,     kruskal_pv : 0.0\n",
      "column : _1순위카드이용금액,     kruskal_pv : 0.0\n",
      "column : _1순위카드이용건수,     kruskal_pv : 0.0\n",
      "column : 기본연회비_B0M,     kruskal_pv : 8.934996782962478e-283\n",
      "column : 카드이용한도금액,     kruskal_pv : 0.0\n",
      "column : 이용건수_신용_B0M,     kruskal_pv : 0.0\n",
      "column : 이용건수_신판_B0M,     kruskal_pv : 0.0\n",
      "column : 이용건수_일시불_B0M,     kruskal_pv : 0.0\n",
      "column : 이용건수_할부_B0M,     kruskal_pv : 0.0\n",
      "column : 이용건수_할부_유이자_B0M,     kruskal_pv : 0.0\n",
      "column : 이용건수_할부_무이자_B0M,     kruskal_pv : 0.0\n",
      "column : 이용건수_부분무이자_B0M,     kruskal_pv : 4.7900018575319893e-35\n",
      "column : 이용건수_CA_B0M,     kruskal_pv : 0.0\n",
      "column : 이용건수_체크_B0M,     kruskal_pv : 0.0\n",
      "column : 이용건수_카드론_B0M,     kruskal_pv : 2.6145288113391785e-125\n",
      "column : 이용금액_신용_B0M,     kruskal_pv : 0.0\n",
      "column : 이용금액_신판_B0M,     kruskal_pv : 0.0\n",
      "column : 이용금액_일시불_B0M,     kruskal_pv : 0.0\n",
      "column : 이용금액_할부_B0M,     kruskal_pv : 0.0\n",
      "column : 이용금액_할부_유이자_B0M,     kruskal_pv : 0.0\n",
      "column : 이용금액_할부_무이자_B0M,     kruskal_pv : 0.0\n",
      "column : 이용금액_부분무이자_B0M,     kruskal_pv : 2.2458541914777373e-39\n",
      "column : 이용금액_CA_B0M,     kruskal_pv : 0.0\n",
      "column : 이용금액_체크_B0M,     kruskal_pv : 0.0\n",
      "column : 이용금액_카드론_B0M,     kruskal_pv : 2.618805263334923e-125\n",
      "column : 이용후경과월_신용,     kruskal_pv : 0.0\n",
      "column : 이용후경과월_신판,     kruskal_pv : 0.0\n",
      "column : 이용후경과월_일시불,     kruskal_pv : 0.0\n",
      "column : 이용후경과월_할부,     kruskal_pv : 0.0\n",
      "column : 이용후경과월_할부_유이자,     kruskal_pv : 0.0\n",
      "column : 이용후경과월_할부_무이자,     kruskal_pv : 0.0\n",
      "column : 이용후경과월_부분무이자,     kruskal_pv : 0.0\n",
      "column : 이용후경과월_CA,     kruskal_pv : 0.0\n",
      "column : 이용후경과월_체크,     kruskal_pv : 0.0\n",
      "column : 이용후경과월_카드론,     kruskal_pv : 0.0\n",
      "column : 이용건수_신용_R12M,     kruskal_pv : 0.0\n",
      "column : 이용건수_신판_R12M,     kruskal_pv : 0.0\n",
      "column : 이용건수_일시불_R12M,     kruskal_pv : 0.0\n",
      "column : 이용건수_할부_R12M,     kruskal_pv : 0.0\n",
      "column : 이용건수_할부_유이자_R12M,     kruskal_pv : 0.0\n",
      "column : 이용건수_할부_무이자_R12M,     kruskal_pv : 0.0\n",
      "column : 이용건수_부분무이자_R12M,     kruskal_pv : 0.0\n",
      "column : 이용건수_CA_R12M,     kruskal_pv : 0.0\n",
      "column : 이용건수_체크_R12M,     kruskal_pv : 0.0\n",
      "column : 이용건수_카드론_R12M,     kruskal_pv : 0.0\n",
      "column : 이용금액_신용_R12M,     kruskal_pv : 0.0\n",
      "column : 이용금액_신판_R12M,     kruskal_pv : 0.0\n",
      "column : 이용금액_일시불_R12M,     kruskal_pv : 0.0\n",
      "column : 이용금액_할부_R12M,     kruskal_pv : 0.0\n",
      "column : 이용금액_할부_유이자_R12M,     kruskal_pv : 0.0\n",
      "column : 이용금액_할부_무이자_R12M,     kruskal_pv : 0.0\n",
      "column : 이용금액_부분무이자_R12M,     kruskal_pv : 0.0\n",
      "column : 이용금액_CA_R12M,     kruskal_pv : 0.0\n",
      "column : 이용금액_체크_R12M,     kruskal_pv : 0.0\n",
      "column : 이용금액_카드론_R12M,     kruskal_pv : 0.0\n",
      "column : 이용개월수_신용_R12M,     kruskal_pv : 0.0\n",
      "column : 이용개월수_신판_R12M,     kruskal_pv : 0.0\n",
      "column : 이용개월수_일시불_R12M,     kruskal_pv : 0.0\n",
      "column : 이용개월수_할부_R12M,     kruskal_pv : 0.0\n",
      "column : 이용개월수_할부_유이자_R12M,     kruskal_pv : 0.0\n",
      "column : 이용개월수_할부_무이자_R12M,     kruskal_pv : 0.0\n",
      "column : 이용개월수_부분무이자_R12M,     kruskal_pv : 0.0\n",
      "column : 이용개월수_CA_R12M,     kruskal_pv : 0.0\n",
      "column : 이용개월수_체크_R12M,     kruskal_pv : 0.0\n",
      "column : 이용개월수_카드론_R12M,     kruskal_pv : 0.0\n",
      "column : 이용건수_신용_R6M,     kruskal_pv : 0.0\n",
      "column : 이용건수_신판_R6M,     kruskal_pv : 0.0\n",
      "column : 이용건수_일시불_R6M,     kruskal_pv : 0.0\n",
      "column : 이용건수_할부_R6M,     kruskal_pv : 0.0\n",
      "column : 이용건수_할부_유이자_R6M,     kruskal_pv : 0.0\n",
      "column : 이용건수_할부_무이자_R6M,     kruskal_pv : 0.0\n",
      "column : 이용건수_CA_R6M,     kruskal_pv : 0.0\n",
      "column : 이용건수_체크_R6M,     kruskal_pv : 0.0\n",
      "column : 이용건수_카드론_R6M,     kruskal_pv : 0.0\n",
      "column : 이용금액_신용_R6M,     kruskal_pv : 0.0\n",
      "column : 이용금액_신판_R6M,     kruskal_pv : 0.0\n",
      "column : 이용금액_일시불_R6M,     kruskal_pv : 0.0\n",
      "column : 이용금액_할부_R6M,     kruskal_pv : 0.0\n",
      "column : 이용금액_할부_유이자_R6M,     kruskal_pv : 0.0\n",
      "column : 이용금액_할부_무이자_R6M,     kruskal_pv : 0.0\n",
      "column : 이용금액_부분무이자_R6M,     kruskal_pv : 3.2293793520162594e-186\n",
      "column : 이용금액_CA_R6M,     kruskal_pv : 0.0\n",
      "column : 이용금액_체크_R6M,     kruskal_pv : 0.0\n",
      "column : 이용금액_카드론_R6M,     kruskal_pv : 0.0\n",
      "column : 이용개월수_신용_R6M,     kruskal_pv : 0.0\n",
      "column : 이용개월수_신판_R6M,     kruskal_pv : 0.0\n",
      "column : 이용개월수_일시불_R6M,     kruskal_pv : 0.0\n",
      "column : 이용개월수_할부_R6M,     kruskal_pv : 0.0\n",
      "column : 이용개월수_할부_유이자_R6M,     kruskal_pv : 0.0\n",
      "column : 이용개월수_할부_무이자_R6M,     kruskal_pv : 0.0\n",
      "column : 이용개월수_부분무이자_R6M,     kruskal_pv : 5.62952824722421e-203\n",
      "column : 이용개월수_CA_R6M,     kruskal_pv : 0.0\n",
      "column : 이용개월수_체크_R6M,     kruskal_pv : 0.0\n",
      "column : 이용개월수_카드론_R6M,     kruskal_pv : 0.0\n",
      "column : 이용건수_신용_R3M,     kruskal_pv : 0.0\n",
      "column : 이용건수_신판_R3M,     kruskal_pv : 0.0\n",
      "column : 이용건수_일시불_R3M,     kruskal_pv : 0.0\n",
      "column : 이용건수_할부_R3M,     kruskal_pv : 0.0\n",
      "column : 이용건수_할부_유이자_R3M,     kruskal_pv : 0.0\n",
      "column : 이용건수_할부_무이자_R3M,     kruskal_pv : 0.0\n",
      "column : 이용건수_부분무이자_R3M,     kruskal_pv : 1.2059877312087705e-105\n",
      "column : 이용건수_CA_R3M,     kruskal_pv : 0.0\n",
      "column : 이용건수_체크_R3M,     kruskal_pv : 0.0\n",
      "column : 이용건수_카드론_R3M,     kruskal_pv : 0.0\n",
      "column : 이용금액_신용_R3M,     kruskal_pv : 0.0\n",
      "column : 이용금액_신판_R3M,     kruskal_pv : 0.0\n",
      "column : 이용금액_일시불_R3M,     kruskal_pv : 0.0\n",
      "column : 이용금액_할부_R3M,     kruskal_pv : 0.0\n",
      "column : 이용금액_할부_유이자_R3M,     kruskal_pv : 0.0\n",
      "column : 이용금액_할부_무이자_R3M,     kruskal_pv : 0.0\n",
      "column : 이용금액_부분무이자_R3M,     kruskal_pv : 2.8104554884566473e-115\n",
      "column : 이용금액_CA_R3M,     kruskal_pv : 0.0\n",
      "column : 이용금액_체크_R3M,     kruskal_pv : 0.0\n",
      "column : 이용금액_카드론_R3M,     kruskal_pv : 0.0\n",
      "column : 이용개월수_신용_R3M,     kruskal_pv : 0.0\n",
      "column : 이용개월수_신판_R3M,     kruskal_pv : 0.0\n",
      "column : 이용개월수_일시불_R3M,     kruskal_pv : 0.0\n",
      "column : 이용개월수_할부_R3M,     kruskal_pv : 0.0\n",
      "column : 이용개월수_할부_유이자_R3M,     kruskal_pv : 0.0\n",
      "column : 이용개월수_할부_무이자_R3M,     kruskal_pv : 0.0\n",
      "column : 이용개월수_부분무이자_R3M,     kruskal_pv : 1.66818781447829e-124\n",
      "column : 이용개월수_CA_R3M,     kruskal_pv : 0.0\n",
      "column : 이용개월수_체크_R3M,     kruskal_pv : 0.0\n",
      "column : 이용개월수_카드론_R3M,     kruskal_pv : 0.0\n",
      "column : 이용가맹점수,     kruskal_pv : 0.0\n",
      "column : 이용금액_업종기준,     kruskal_pv : 0.0\n",
      "column : 이용금액_쇼핑,     kruskal_pv : 0.0\n",
      "column : 이용금액_요식,     kruskal_pv : 0.0\n",
      "column : 이용금액_교통,     kruskal_pv : 0.0\n",
      "column : 이용금액_의료,     kruskal_pv : 0.0\n",
      "column : 이용금액_납부,     kruskal_pv : 0.0\n",
      "column : 이용금액_교육,     kruskal_pv : 0.0\n",
      "column : 이용금액_여유생활,     kruskal_pv : 0.0\n",
      "column : 이용금액_사교활동,     kruskal_pv : 0.0\n",
      "column : 이용금액_일상생활,     kruskal_pv : 0.0\n",
      "column : 이용금액_해외,     kruskal_pv : 0.0\n",
      "column : 쇼핑_도소매_이용금액,     kruskal_pv : 0.0\n",
      "column : 쇼핑_백화점_이용금액,     kruskal_pv : 0.0\n",
      "column : 쇼핑_마트_이용금액,     kruskal_pv : 0.0\n",
      "column : 쇼핑_슈퍼마켓_이용금액,     kruskal_pv : 0.0\n",
      "column : 쇼핑_편의점_이용금액,     kruskal_pv : 0.0\n",
      "column : 쇼핑_아울렛_이용금액,     kruskal_pv : 0.0\n",
      "column : 쇼핑_온라인_이용금액,     kruskal_pv : 0.0\n",
      "column : 쇼핑_기타_이용금액,     kruskal_pv : 0.0\n",
      "column : 쇼핑_전체_이용금액,     kruskal_pv : 0.0\n",
      "column : 교통_주유이용금액,     kruskal_pv : 0.0\n",
      "column : 교통_정비이용금액,     kruskal_pv : 0.0\n",
      "column : 교통_통행료이용금액,     kruskal_pv : 0.0\n",
      "column : 교통_버스지하철이용금액,     kruskal_pv : 0.0\n",
      "column : 교통_택시이용금액,     kruskal_pv : 0.0\n",
      "column : 교통_철도버스이용금액,     kruskal_pv : 0.0\n",
      "column : 교통_전체이용금액,     kruskal_pv : 0.0\n",
      "column : 여유_운동이용금액,     kruskal_pv : 0.0\n",
      "column : 여유_Pet이용금액,     kruskal_pv : 0.0\n",
      "column : 여유_공연이용금액,     kruskal_pv : 0.0\n",
      "column : 여유_공원이용금액,     kruskal_pv : 0.0\n",
      "column : 여유_숙박이용금액,     kruskal_pv : 0.0\n",
      "column : 여유_여행이용금액,     kruskal_pv : 0.0\n",
      "column : 여유_항공이용금액,     kruskal_pv : 0.0\n",
      "column : 여유_기타이용금액,     kruskal_pv : 0.0\n",
      "column : 여유_전체이용금액,     kruskal_pv : 0.0\n",
      "column : 납부_통신비이용금액,     kruskal_pv : 0.0\n",
      "column : 납부_관리비이용금액,     kruskal_pv : 0.0\n",
      "column : 납부_가스전기료이용금액,     kruskal_pv : 0.0\n"
     ]
    },
    {
     "name": "stdout",
     "output_type": "stream",
     "text": [
      "column : 납부_보험료이용금액,     kruskal_pv : 0.0\n",
      "column : 납부_유선방송이용금액,     kruskal_pv : 1.7734577388696674e-53\n",
      "column : 납부_건강연금이용금액,     kruskal_pv : 1.9324275437312137e-115\n",
      "column : 납부_기타이용금액,     kruskal_pv : 0.0\n",
      "column : 납부_전체이용금액,     kruskal_pv : 0.0\n",
      "column : 할부건수_3M_R12M,     kruskal_pv : 0.0\n",
      "column : 할부건수_6M_R12M,     kruskal_pv : 0.0\n",
      "column : 할부건수_12M_R12M,     kruskal_pv : 0.0\n",
      "column : RP건수_B0M,     kruskal_pv : 0.0\n",
      "column : RP금액_B0M,     kruskal_pv : 0.0\n",
      "column : 증감_RP건수_전월,     kruskal_pv : 2.985214091293267e-24\n",
      "column : 증감_RP유형건수_전월,     kruskal_pv : 3.3227318478042725e-17\n",
      "column : 이용개월수_온라인_R6M,     kruskal_pv : 0.0\n",
      "column : 이용개월수_오프라인_R6M,     kruskal_pv : 0.0\n",
      "column : 이용건수_오프라인_R6M,     kruskal_pv : 0.0\n",
      "column : 이용건수_온라인_B0M,     kruskal_pv : 0.0\n",
      "column : 이용건수_오프라인_B0M,     kruskal_pv : 0.0\n",
      "column : 이용개월수_페이_온라인_R6M,     kruskal_pv : 0.0\n",
      "column : 이용개월수_페이_오프라인_R6M,     kruskal_pv : 0.0\n",
      "column : 이용금액_페이_온라인_R6M,     kruskal_pv : 0.0\n",
      "column : 이용건수_페이_온라인_R6M,     kruskal_pv : 0.0\n",
      "column : 이용건수_페이_오프라인_R6M,     kruskal_pv : 0.0\n",
      "column : 이용건수_페이_오프라인_R3M,     kruskal_pv : 0.0\n",
      "column : 이용건수_페이_온라인_B0M,     kruskal_pv : 0.0\n",
      "column : 이용건수_페이_오프라인_B0M,     kruskal_pv : 0.0\n",
      "column : 이용개월수_간편결제_R6M,     kruskal_pv : 0.0\n",
      "column : 이용개월수_전체_R6M,     kruskal_pv : 0.0\n",
      "column : 이용개월수_전체_R3M,     kruskal_pv : 0.0\n",
      "column : 이용개월수_결제일_R6M,     kruskal_pv : 0.0\n",
      "column : 청구금액_B0,     kruskal_pv : 0.0\n",
      "column : 청구금액_R3M,     kruskal_pv : 0.0\n",
      "column : 청구금액_R6M,     kruskal_pv : 0.0\n",
      "column : 할인건수_R3M,     kruskal_pv : 0.0\n",
      "column : 할인금액_R3M,     kruskal_pv : 0.0\n",
      "column : 할인건수_B0M,     kruskal_pv : 0.0\n",
      "column : 할인금액_B0M,     kruskal_pv : 0.0\n",
      "column : 상환개월수_R12M,     kruskal_pv : 0.0\n",
      "column : 상환개월수_결제일_R12M,     kruskal_pv : 0.0\n",
      "column : 상환개월수_결제일_R6M,     kruskal_pv : 0.0\n",
      "column : 상환개월수_결제일_R3M,     kruskal_pv : 0.0\n",
      "column : 연체건수_R12M,     kruskal_pv : 0.0\n",
      "column : 연체건수_R6M,     kruskal_pv : 0.0\n",
      "column : 연체건수_R3M,     kruskal_pv : 0.0\n",
      "column : 혜택수혜금액,     kruskal_pv : 0.0\n",
      "column : 컨택건수_카드론_TM_B0M,     kruskal_pv : 2.425858748320931e-09\n",
      "column : 컨택건수_리볼빙_TM_B0M,     kruskal_pv : 7.886668620446793e-132\n",
      "column : 컨택건수_이용유도_TM_B0M,     kruskal_pv : 0.0\n",
      "column : 컨택건수_신용발급_TM_B0M,     kruskal_pv : 6.703521585788174e-269\n",
      "column : 컨택건수_부대서비스_TM_B0M,     kruskal_pv : 4.347262480897815e-21\n",
      "column : 컨택건수_포인트소진_TM_B0M,     kruskal_pv : 2.2500460422948293e-92\n",
      "column : 컨택건수_보험_TM_B0M,     kruskal_pv : 1.8369117039647764e-69\n",
      "column : 컨택건수_카드론_LMS_B0M,     kruskal_pv : 0.0\n",
      "column : 컨택건수_CA_LMS_B0M,     kruskal_pv : 1.2592565507326345e-305\n",
      "column : 컨택건수_리볼빙_LMS_B0M,     kruskal_pv : 0.0\n",
      "column : 컨택건수_이용유도_LMS_B0M,     kruskal_pv : 1.5445455552624988e-104\n",
      "column : 컨택건수_카드론_EM_B0M,     kruskal_pv : 5.263775889029318e-75\n",
      "column : 컨택건수_이용유도_EM_B0M,     kruskal_pv : 0.0\n",
      "column : 컨택건수_카드론_청구서_B0M,     kruskal_pv : 3.428440119746996e-34\n",
      "column : 컨택건수_CA_청구서_B0M,     kruskal_pv : 0.0\n",
      "column : 컨택건수_이용유도_청구서_B0M,     kruskal_pv : 0.0\n",
      "column : 컨택건수_이용유도_인터넷_B0M,     kruskal_pv : 0.0\n",
      "column : 컨택건수_카드론_TM_R6M,     kruskal_pv : 7.234047855936377e-124\n",
      "column : 컨택건수_리볼빙_TM_R6M,     kruskal_pv : 0.0\n",
      "column : 컨택건수_이용유도_TM_R6M,     kruskal_pv : 0.0\n",
      "column : 컨택건수_신용발급_TM_R6M,     kruskal_pv : 0.0\n",
      "column : 컨택건수_부대서비스_TM_R6M,     kruskal_pv : 3.1227734646532665e-182\n",
      "column : 컨택건수_포인트소진_TM_R6M,     kruskal_pv : 0.0\n",
      "column : 컨택건수_보험_TM_R6M,     kruskal_pv : 4.406301891198041e-244\n",
      "column : 컨택건수_카드론_LMS_R6M,     kruskal_pv : 0.0\n",
      "column : 컨택건수_CA_LMS_R6M,     kruskal_pv : 0.0\n",
      "column : 컨택건수_리볼빙_LMS_R6M,     kruskal_pv : 0.0\n",
      "column : 컨택건수_이용유도_LMS_R6M,     kruskal_pv : 1.1163123101413873e-115\n",
      "column : 컨택건수_카드론_EM_R6M,     kruskal_pv : 4.0904818145463994e-153\n",
      "column : 컨택건수_이용유도_EM_R6M,     kruskal_pv : 0.0\n",
      "column : 컨택건수_카드론_청구서_R6M,     kruskal_pv : 2.556165103893114e-74\n",
      "column : 컨택건수_CA_청구서_R6M,     kruskal_pv : 2.874421353225e-311\n",
      "column : 컨택건수_이용유도_청구서_R6M,     kruskal_pv : 0.0\n",
      "column : 컨택건수_채권_B0M,     kruskal_pv : 4.822735960682744e-53\n",
      "column : 컨택건수_FDS_B0M,     kruskal_pv : 3.6745264099976163e-28\n",
      "column : 컨택건수_채권_R6M,     kruskal_pv : 9.75611807874787e-91\n",
      "column : 컨택건수_FDS_R6M,     kruskal_pv : 3.0548489331769157e-156\n",
      "column : 캠페인접촉건수_R12M,     kruskal_pv : 2.3439779272961945e-35\n",
      "column : 캠페인접촉일수_R12M,     kruskal_pv : 4.2195734191834845e-33\n",
      "column : 캠페인접촉월수_R12M,     kruskal_pv : 6.3757583893279005e-46\n",
      "column : 접촉후경과월_R12M,     kruskal_pv : 7.110714565706296e-119\n",
      "column : 보험콜대상월수_R12M,     kruskal_pv : 9.976892508255875e-265\n",
      "column : 보험콜대상횟수_R12M,     kruskal_pv : 1.0420228899155141e-265\n",
      "column : 보험콜통화횟수_R12M,     kruskal_pv : 4.66727430961742e-258\n",
      "column : 보험콜배정후경과월_R12M,     kruskal_pv : 2.9985311130386912e-235\n",
      "column : 보험콜통화후경과월_R12M,     kruskal_pv : 1.1439224708430035e-230\n",
      "column : 고객구분,     kruskal_pv : 0.0\n",
      "column : Recency,     kruskal_pv : 0.0\n",
      "column : Recency_8,     kruskal_pv : 0.0\n",
      "column : Frequency,     kruskal_pv : 0.0\n",
      "column : Frequency_8,     kruskal_pv : 0.0\n",
      "column : Monetary,     kruskal_pv : 0.0\n",
      "column : Monetary_8,     kruskal_pv : 0.0\n",
      "column : Recency_s,     kruskal_pv : 0.0\n",
      "column : Frequency_s,     kruskal_pv : 0.0\n",
      "column : Monetary_s,     kruskal_pv : 0.0\n",
      "column : RFM_Score,     kruskal_pv : 0.0\n",
      "['소지여부_신용', '입회경과개월수_신용', '탈회여부', '회원여부_연체', '수신거부여부_TM', '수신거부여부_DM', '수신거부여부_메일', '수신거부여부_SMS', 'BL여부_R12M', '탈회횟수_누적', '탈회횟수_발급1년이내', '마케팅동의여부', '유효카드수_신용체크', '유효카드수_신용', '유효카드수_체크', '이용금액_R3M_신용체크', '이용금액_R3M_신용', '이용금액_R3M_체크', '_1순위카드ID', '_1순위카드이용금액', '_1순위카드이용건수', '기본연회비_B0M', '카드이용한도금액', '이용건수_신용_B0M', '이용건수_신판_B0M', '이용건수_일시불_B0M', '이용건수_할부_B0M', '이용건수_할부_유이자_B0M', '이용건수_할부_무이자_B0M', '이용건수_부분무이자_B0M', '이용건수_CA_B0M', '이용건수_체크_B0M', '이용건수_카드론_B0M', '이용금액_신용_B0M', '이용금액_신판_B0M', '이용금액_일시불_B0M', '이용금액_할부_B0M', '이용금액_할부_유이자_B0M', '이용금액_할부_무이자_B0M', '이용금액_부분무이자_B0M', '이용금액_CA_B0M', '이용금액_체크_B0M', '이용금액_카드론_B0M', '이용후경과월_신용', '이용후경과월_신판', '이용후경과월_일시불', '이용후경과월_할부', '이용후경과월_할부_유이자', '이용후경과월_할부_무이자', '이용후경과월_부분무이자', '이용후경과월_CA', '이용후경과월_체크', '이용후경과월_카드론', '이용건수_신용_R12M', '이용건수_신판_R12M', '이용건수_일시불_R12M', '이용건수_할부_R12M', '이용건수_할부_유이자_R12M', '이용건수_할부_무이자_R12M', '이용건수_부분무이자_R12M', '이용건수_CA_R12M', '이용건수_체크_R12M', '이용건수_카드론_R12M', '이용금액_신용_R12M', '이용금액_신판_R12M', '이용금액_일시불_R12M', '이용금액_할부_R12M', '이용금액_할부_유이자_R12M', '이용금액_할부_무이자_R12M', '이용금액_부분무이자_R12M', '이용금액_CA_R12M', '이용금액_체크_R12M', '이용금액_카드론_R12M', '이용개월수_신용_R12M', '이용개월수_신판_R12M', '이용개월수_일시불_R12M', '이용개월수_할부_R12M', '이용개월수_할부_유이자_R12M', '이용개월수_할부_무이자_R12M', '이용개월수_부분무이자_R12M', '이용개월수_CA_R12M', '이용개월수_체크_R12M', '이용개월수_카드론_R12M', '이용건수_신용_R6M', '이용건수_신판_R6M', '이용건수_일시불_R6M', '이용건수_할부_R6M', '이용건수_할부_유이자_R6M', '이용건수_할부_무이자_R6M', '이용건수_CA_R6M', '이용건수_체크_R6M', '이용건수_카드론_R6M', '이용금액_신용_R6M', '이용금액_신판_R6M', '이용금액_일시불_R6M', '이용금액_할부_R6M', '이용금액_할부_유이자_R6M', '이용금액_할부_무이자_R6M', '이용금액_부분무이자_R6M', '이용금액_CA_R6M', '이용금액_체크_R6M', '이용금액_카드론_R6M', '이용개월수_신용_R6M', '이용개월수_신판_R6M', '이용개월수_일시불_R6M', '이용개월수_할부_R6M', '이용개월수_할부_유이자_R6M', '이용개월수_할부_무이자_R6M', '이용개월수_부분무이자_R6M', '이용개월수_CA_R6M', '이용개월수_체크_R6M', '이용개월수_카드론_R6M', '이용건수_신용_R3M', '이용건수_신판_R3M', '이용건수_일시불_R3M', '이용건수_할부_R3M', '이용건수_할부_유이자_R3M', '이용건수_할부_무이자_R3M', '이용건수_부분무이자_R3M', '이용건수_CA_R3M', '이용건수_체크_R3M', '이용건수_카드론_R3M', '이용금액_신용_R3M', '이용금액_신판_R3M', '이용금액_일시불_R3M', '이용금액_할부_R3M', '이용금액_할부_유이자_R3M', '이용금액_할부_무이자_R3M', '이용금액_부분무이자_R3M', '이용금액_CA_R3M', '이용금액_체크_R3M', '이용금액_카드론_R3M', '이용개월수_신용_R3M', '이용개월수_신판_R3M', '이용개월수_일시불_R3M', '이용개월수_할부_R3M', '이용개월수_할부_유이자_R3M', '이용개월수_할부_무이자_R3M', '이용개월수_부분무이자_R3M', '이용개월수_CA_R3M', '이용개월수_체크_R3M', '이용개월수_카드론_R3M', '이용가맹점수', '이용금액_업종기준', '이용금액_쇼핑', '이용금액_요식', '이용금액_교통', '이용금액_의료', '이용금액_납부', '이용금액_교육', '이용금액_여유생활', '이용금액_사교활동', '이용금액_일상생활', '이용금액_해외', '쇼핑_도소매_이용금액', '쇼핑_백화점_이용금액', '쇼핑_마트_이용금액', '쇼핑_슈퍼마켓_이용금액', '쇼핑_편의점_이용금액', '쇼핑_아울렛_이용금액', '쇼핑_온라인_이용금액', '쇼핑_기타_이용금액', '쇼핑_전체_이용금액', '교통_주유이용금액', '교통_정비이용금액', '교통_통행료이용금액', '교통_버스지하철이용금액', '교통_택시이용금액', '교통_철도버스이용금액', '교통_전체이용금액', '여유_운동이용금액', '여유_Pet이용금액', '여유_공연이용금액', '여유_공원이용금액', '여유_숙박이용금액', '여유_여행이용금액', '여유_항공이용금액', '여유_기타이용금액', '여유_전체이용금액', '납부_통신비이용금액', '납부_관리비이용금액', '납부_가스전기료이용금액', '납부_보험료이용금액', '납부_유선방송이용금액', '납부_건강연금이용금액', '납부_기타이용금액', '납부_전체이용금액', '할부건수_3M_R12M', '할부건수_6M_R12M', '할부건수_12M_R12M', 'RP건수_B0M', 'RP금액_B0M', '증감_RP건수_전월', '증감_RP유형건수_전월', '이용개월수_온라인_R6M', '이용개월수_오프라인_R6M', '이용건수_오프라인_R6M', '이용건수_온라인_B0M', '이용건수_오프라인_B0M', '이용개월수_페이_온라인_R6M', '이용개월수_페이_오프라인_R6M', '이용금액_페이_온라인_R6M', '이용건수_페이_온라인_R6M', '이용건수_페이_오프라인_R6M', '이용건수_페이_오프라인_R3M', '이용건수_페이_온라인_B0M', '이용건수_페이_오프라인_B0M', '이용개월수_간편결제_R6M', '이용개월수_전체_R6M', '이용개월수_전체_R3M', '이용개월수_결제일_R6M', '청구금액_B0', '청구금액_R3M', '청구금액_R6M', '할인건수_R3M', '할인금액_R3M', '할인건수_B0M', '할인금액_B0M', '상환개월수_R12M', '상환개월수_결제일_R12M', '상환개월수_결제일_R6M', '상환개월수_결제일_R3M', '연체건수_R12M', '연체건수_R6M', '연체건수_R3M', '혜택수혜금액', '컨택건수_카드론_TM_B0M', '컨택건수_리볼빙_TM_B0M', '컨택건수_이용유도_TM_B0M', '컨택건수_신용발급_TM_B0M', '컨택건수_부대서비스_TM_B0M', '컨택건수_포인트소진_TM_B0M', '컨택건수_보험_TM_B0M', '컨택건수_카드론_LMS_B0M', '컨택건수_CA_LMS_B0M', '컨택건수_리볼빙_LMS_B0M', '컨택건수_이용유도_LMS_B0M', '컨택건수_카드론_EM_B0M', '컨택건수_이용유도_EM_B0M', '컨택건수_카드론_청구서_B0M', '컨택건수_CA_청구서_B0M', '컨택건수_이용유도_청구서_B0M', '컨택건수_이용유도_인터넷_B0M', '컨택건수_카드론_TM_R6M', '컨택건수_리볼빙_TM_R6M', '컨택건수_이용유도_TM_R6M', '컨택건수_신용발급_TM_R6M', '컨택건수_부대서비스_TM_R6M', '컨택건수_포인트소진_TM_R6M', '컨택건수_보험_TM_R6M', '컨택건수_카드론_LMS_R6M', '컨택건수_CA_LMS_R6M', '컨택건수_리볼빙_LMS_R6M', '컨택건수_이용유도_LMS_R6M', '컨택건수_카드론_EM_R6M', '컨택건수_이용유도_EM_R6M', '컨택건수_카드론_청구서_R6M', '컨택건수_CA_청구서_R6M', '컨택건수_이용유도_청구서_R6M', '컨택건수_채권_B0M', '컨택건수_FDS_B0M', '컨택건수_채권_R6M', '컨택건수_FDS_R6M', '캠페인접촉건수_R12M', '캠페인접촉일수_R12M', '캠페인접촉월수_R12M', '접촉후경과월_R12M', '보험콜대상월수_R12M', '보험콜대상횟수_R12M', '보험콜통화횟수_R12M', '보험콜배정후경과월_R12M', '보험콜통화후경과월_R12M', '고객구분', 'Recency', 'Recency_8', 'Frequency', 'Frequency_8', 'Monetary', 'Monetary_8', 'Recency_s', 'Frequency_s', 'Monetary_s', 'RFM_Score']\n",
      "['컨택건수_CA_TM_R6M']\n"
     ]
    }
   ],
   "source": [
    "# 고객구분_New 그룹에 따른 int64 또는 float64 Column들의 평균값/중위값 차이가 있는지 분산분석\n",
    "Different_Columns = []\n",
    "NonDifferent_Columns = []\n",
    "\n",
    "for column in df2.columns[(df2.columns != '회원번호') & ((df2.dtypes == np.int64) | (df2.dtypes == np.float64))]:\n",
    "  normally = []\n",
    "  for cla in df2['고객구분_New'].unique():\n",
    "    # 1. 정규성 검정\n",
    "    # shapiro나 kolmogorov-smirnov 같은 검정방법은 데이터의 갯수에 따라 달라지므로 데이터 갯수에 상관없이 하기 위해 normaltest로 검정\n",
    "    cla_tv, cla_pv = normaltest(df2.loc[df2['고객구분_New'] == cla, column])\n",
    "    if cla_pv >= 0.05:\n",
    "      normally.append(True)\n",
    "    else:\n",
    "      normally.append(False)\n",
    "\n",
    "  # 정규성인지 아닌지에 따라 등분산분석 할지 정하기\n",
    "  if all(normally):\n",
    "    # 2. 등분산분석\n",
    "    bartlett_tv, bartlett_pv = bartlett(*[df2.loc[df2['고객구분_New'] == cla, column] for cla in df2['고객구분_New'].unique()])\n",
    "    # 등분산이므로 F검정으로 일원분산분석\n",
    "    if bartlett_pv >= 0.05:\n",
    "      f_oneway_tv, f_oneway_pv = f_oneway(*[df2.loc[df2['고객구분_New'] == cla, column] for cla in df2['고객구분_New'].unique()])\n",
    "      if f_oneway_pv < 0.05:\n",
    "        print(f'column : {column},     f_oneway : {f_oneway_pv}')\n",
    "        Different_Columns.append(column)\n",
    "      else:\n",
    "        NonDifferent_Columns.append(column)\n",
    "    # 등분산이 아니므로 Welch_Anova로 일원분산분석\n",
    "    else:\n",
    "      welch_anova_tv, welch_anova_pv = pg.welch_anova(dv = column, between = '고객구분_New', data = df2)\n",
    "      if welch_anova_pv < 0.05:\n",
    "        print(f'column : {column},     welch_anova_pv : {welch_anova_pv}')\n",
    "        Different_Columns.append(column)\n",
    "      else:\n",
    "        NonDifferent_Columns.append(column)\n",
    "  # 정규성을 만족하지 않으므로 Kruskal-Wallis H-test로 일원분산분석\n",
    "  else:\n",
    "    kruskal_tv, kruskal_pv = kruskal(*[df2.loc[df2['고객구분_New'] == cla, column] for cla in df2['고객구분_New'].unique()])\n",
    "    if kruskal_pv < 0.05:\n",
    "      print(f'column : {column},     kruskal_pv : {kruskal_pv}')\n",
    "      Different_Columns.append(column)\n",
    "    else:\n",
    "      NonDifferent_Columns.append(column)\n",
    "\n",
    "print(Different_Columns)\n",
    "print(NonDifferent_Columns)"
   ]
  },
  {
   "cell_type": "code",
   "execution_count": 227,
   "id": "a658dcea",
   "metadata": {},
   "outputs": [],
   "source": [
    "df3 = df2[['소지여부_신용', '탈회여부', '회원여부_연체', '수신거부여부_TM', '수신거부여부_DM','수신거부여부_메일', '수신거부여부_SMS', '자격기준', '자격구분상세', '연회비청구구분_B0M', 'BL여부_R12M','마케팅동의여부', '_1순위신용체크구분', 'Life_Stage', '이용금액대', '고객구분', 'RFM_Class']].copy()\n",
    "df3['소지여부_신용'] = df3['소지여부_신용'].map(lambda x : {0 : '미소지', 1 : '소지'}[x])\n",
    "df3['탈회여부'] = df3['탈회여부'].map(lambda x : {0 : '유지', 1 : '탈퇴'}[x])\n",
    "df3['회원여부_연체'] = df3['회원여부_연체'].map(lambda x : {0 : '미연체', 1 : '연체'}[x])\n",
    "df3['수신거부여부_TM'] = df3['수신거부여부_TM'].map(lambda x : {0 : '승인', 1 : '거부'}[x])\n",
    "df3['수신거부여부_DM'] = df3['수신거부여부_DM'].map(lambda x : {0 : '승인', 1 : '거부'}[x])\n",
    "df3['수신거부여부_메일'] = df3['수신거부여부_메일'].map(lambda x : {0 : '승인', 1 : '거부'}[x])\n",
    "df3['수신거부여부_SMS'] = df3['수신거부여부_SMS'].map(lambda x : {0 : '승인', 1 : '거부'}[x])\n",
    "df3['BL여부_R12M'] = df3['BL여부_R12M'].map(lambda x : {0 : '미등록', 1 : '등록'}[x])\n",
    "df3['마케팅동의여부'] = df3['마케팅동의여부'].map(lambda x : {0 : '미동의', 1 : '동의'}[x])\n",
    "df3['고객구분'] = df3['고객구분'].map(lambda x : {0 : '연속', 1 : '간헐', 2 : '휴면'}[x])"
   ]
  },
  {
   "cell_type": "code",
   "execution_count": 237,
   "id": "1d6e16b1",
   "metadata": {},
   "outputs": [
    {
     "name": "stdout",
     "output_type": "stream",
     "text": [
      "column : 소지여부_신용,     chi2_pv : 0.0\n",
      "column : 탈회여부,     chi2_pv : 5.684016079591092e-84\n",
      "column : 회원여부_연체,     chi2_pv : 4.54851843249192e-39\n",
      "column : 수신거부여부_TM,     chi2_pv : 0.0\n",
      "column : 수신거부여부_DM,     chi2_pv : 0.0\n",
      "column : 수신거부여부_메일,     chi2_pv : 0.0\n",
      "column : 수신거부여부_SMS,     chi2_pv : 4.718975801359319e-49\n",
      "column : 자격기준,     chi2_pv : 0.0\n",
      "column : 자격구분상세,     chi2_pv : 0.0\n",
      "column : 연회비청구구분_B0M,     chi2_pv : 0.0\n",
      "column : BL여부_R12M,     chi2_pv : 0.0\n",
      "column : 마케팅동의여부,     chi2_pv : 1.3776149065568385e-125\n",
      "column : _1순위신용체크구분,     chi2_pv : 0.0\n",
      "column : Life_Stage,     chi2_pv : 0.0\n",
      "column : 이용금액대,     chi2_pv : 0.0\n",
      "column : 고객구분,     chi2_pv : 0.0\n",
      "column : RFM_Class,     chi2_pv : 0.0\n",
      "['소지여부_신용', '탈회여부', '회원여부_연체', '수신거부여부_TM', '수신거부여부_DM', '수신거부여부_메일', '수신거부여부_SMS', '자격기준', '자격구분상세', '연회비청구구분_B0M', 'BL여부_R12M', '마케팅동의여부', '_1순위신용체크구분', 'Life_Stage', '이용금액대', '고객구분', 'RFM_Class']\n",
      "[]\n"
     ]
    }
   ],
   "source": [
    "# 고객구분_New과 np.dtype('O') Column들이 서로 독립인지 아닌지 카이제곱 독립성 검정\n",
    "Different_Columns = []\n",
    "NonDifferent_Columns = []\n",
    "\n",
    "for column in ['소지여부_신용', '탈회여부', '회원여부_연체', '수신거부여부_TM', '수신거부여부_DM','수신거부여부_메일', '수신거부여부_SMS', '자격기준', '자격구분상세', '연회비청구구분_B0M', 'BL여부_R12M','마케팅동의여부', '_1순위신용체크구분', 'Life_Stage', '이용금액대', '고객구분', 'RFM_Class']:\n",
    "    # 카이제곱 독립섬 검정\n",
    "    chi2_tv, chi2_pv, dof, expect = chi2_contingency(pd.crosstab(df2['고객구분_New'], df3[column]))\n",
    "    if chi2_pv < 0.05:\n",
    "        print(f'column : {column},     chi2_pv : {chi2_pv}')\n",
    "        Different_Columns.append(column)\n",
    "    else:\n",
    "        NonDifferent_Columns.append(column)\n",
    "\n",
    "print(Different_Columns)\n",
    "print(NonDifferent_Columns)"
   ]
  },
  {
   "cell_type": "code",
   "execution_count": 230,
   "id": "9ea67a7b",
   "metadata": {},
   "outputs": [
    {
     "name": "stdout",
     "output_type": "stream",
     "text": [
      "column : 소지여부_신용,     chi2_pv : 0.0\n",
      "column : 탈회여부,     chi2_pv : 5.684016079591092e-84\n",
      "column : 회원여부_연체,     chi2_pv : 4.54851843249192e-39\n",
      "column : 수신거부여부_TM,     chi2_pv : 0.0\n",
      "column : 수신거부여부_DM,     chi2_pv : 0.0\n",
      "column : 수신거부여부_메일,     chi2_pv : 0.0\n",
      "column : 수신거부여부_SMS,     chi2_pv : 4.718975801359319e-49\n",
      "column : 자격기준,     chi2_pv : 0.0\n",
      "column : 자격구분상세,     chi2_pv : 0.0\n",
      "column : 연회비청구구분_B0M,     chi2_pv : 0.0\n",
      "column : BL여부_R12M,     chi2_pv : 0.0\n",
      "column : 마케팅동의여부,     chi2_pv : 1.3776149065568385e-125\n",
      "column : _1순위신용체크구분,     chi2_pv : 0.0\n",
      "column : Life_Stage,     chi2_pv : 0.0\n",
      "column : 이용금액대,     chi2_pv : 0.0\n",
      "column : 고객구분,     chi2_pv : 0.0\n",
      "column : RFM_Class,     chi2_pv : 0.0\n",
      "['소지여부_신용', '탈회여부', '회원여부_연체', '수신거부여부_TM', '수신거부여부_DM', '수신거부여부_메일', '수신거부여부_SMS', '자격기준', '자격구분상세', '연회비청구구분_B0M', 'BL여부_R12M', '마케팅동의여부', '_1순위신용체크구분', 'Life_Stage', '이용금액대', '고객구분', 'RFM_Class']\n",
      "[]\n"
     ]
    }
   ],
   "source": [
    "# 고객구분_New과 np.dtype('O') Column들이 서로 독립인지 아닌지 카이제곱 동질성 검정\n",
    "Different_Columns = []\n",
    "NonDifferent_Columns = []\n",
    "\n",
    "for column in ['소지여부_신용', '탈회여부', '회원여부_연체', '수신거부여부_TM', '수신거부여부_DM','수신거부여부_메일', '수신거부여부_SMS', '자격기준', '자격구분상세', '연회비청구구분_B0M', 'BL여부_R12M','마케팅동의여부', '_1순위신용체크구분', 'Life_Stage', '이용금액대', '고객구분', 'RFM_Class']:\n",
    "    # 카이제곱 독립섬 검정\n",
    "    chi2_tv, chi2_pv, dof, expect = chi2_contingency(pd.crosstab(df2['고객구분_New'], df3[column]))\n",
    "    if chi2_pv < 0.05:\n",
    "        print(f'column : {column},     chi2_pv : {chi2_pv}')\n",
    "        Different_Columns.append(column)\n",
    "    else:\n",
    "        NonDifferent_Columns.append(column)\n",
    "\n",
    "print(Different_Columns)\n",
    "print(NonDifferent_Columns)"
   ]
  },
  {
   "cell_type": "markdown",
   "id": "f2a2ccc6",
   "metadata": {},
   "source": [
    "# RFM_Class 분석"
   ]
  },
  {
   "cell_type": "code",
   "execution_count": 241,
   "id": "78f6d4c1",
   "metadata": {},
   "outputs": [],
   "source": [
    "# 활용할 수 없는 Column들을 삭제\n",
    "df2.drop(columns = ['회원번호'], inplace = True)"
   ]
  },
  {
   "cell_type": "code",
   "execution_count": 242,
   "id": "d1faab70",
   "metadata": {},
   "outputs": [],
   "source": [
    "# 입회일자_신용의 자료형을 날짜 데이터로 변환하고 결측치 1개를 삭제\n",
    "df2['입회일자_신용'] = pd.to_datetime(df['입회일자_신용'], errors = 'coerce', format = \"%Y%m%d\")\n",
    "df2.dropna(inplace = True)"
   ]
  },
  {
   "cell_type": "code",
   "execution_count": 243,
   "id": "60596a0d",
   "metadata": {},
   "outputs": [],
   "source": [
    "# 알아보기 쉽게 변환\n",
    "df2['소지여부_신용'] = df2['소지여부_신용'].map(lambda x : {0 : '미소지', 1 : '소지'}[x])\n",
    "df2['탈회여부'] = df2['탈회여부'].map(lambda x : {0 : '유지', 1 : '탈퇴'}[x])\n",
    "df2['회원여부_연체'] = df2['회원여부_연체'].map(lambda x : {0 : '미연체', 1 : '연체'}[x])\n",
    "df2['수신거부여부_TM'] = df2['수신거부여부_TM'].map(lambda x : {0 : '승인', 1 : '거부'}[x])\n",
    "df2['수신거부여부_DM'] = df2['수신거부여부_DM'].map(lambda x : {0 : '승인', 1 : '거부'}[x])\n",
    "df2['수신거부여부_메일'] = df2['수신거부여부_메일'].map(lambda x : {0 : '승인', 1 : '거부'}[x])\n",
    "df2['수신거부여부_SMS'] = df2['수신거부여부_SMS'].map(lambda x : {0 : '승인', 1 : '거부'}[x])\n",
    "df2['BL여부_R12M'] = df2['BL여부_R12M'].map(lambda x : {0 : '미등록', 1 : '등록'}[x])\n",
    "df2['마케팅동의여부'] = df2['마케팅동의여부'].map(lambda x : {0 : '미동의', 1 : '동의'}[x])\n",
    "df2['고객구분'] = df2['고객구분'].map(lambda x : dict(zip(range(3), ['Active_연속', 'Active_간헐', '휴면']))[x])"
   ]
  },
  {
   "cell_type": "code",
   "execution_count": 275,
   "id": "fe4407ca",
   "metadata": {},
   "outputs": [
    {
     "data": {
      "text/plain": [
       "Index(['소지여부_신용', '탈회여부', '회원여부_연체', '수신거부여부_TM', '수신거부여부_DM', '수신거부여부_메일',\n",
       "       '수신거부여부_SMS', '자격기준', '자격구분상세', '연회비청구구분_B0M', 'BL여부_R12M', '마케팅동의여부',\n",
       "       '_1순위신용체크구분', 'Life_Stage', '이용금액대', '고객구분', 'RFM_Class', '고객구분_New'],\n",
       "      dtype='object')"
      ]
     },
     "execution_count": 275,
     "metadata": {},
     "output_type": "execute_result"
    }
   ],
   "source": [
    "# df2에서 자료형이 np.dtype('O')인 Column들 \n",
    "df2.columns[df2.dtypes == np.dtype('O')]"
   ]
  },
  {
   "cell_type": "code",
   "execution_count": 274,
   "id": "5e4100a2",
   "metadata": {},
   "outputs": [
    {
     "data": {
      "image/png": "[encoded data removed]",
      "text/plain": [
       "<Figure size 1800x3000 with 2 Axes>"
      ]
     },
     "metadata": {},
     "output_type": "display_data"
    }
   ],
   "source": [
    "# 소지여부_신용에 따른 RFM_Class의 빈도\n",
    "fig, axs = plt.subplots(1, 2, figsize = (18, 30))\n",
    "\n",
    "for i in range(2):\n",
    "    st = '소지' if i == 0 else '미소지' \n",
    "    sns.countplot(y = 'RFM_Class', data = df2[df2['소지여부_신용'] == st], orient = 'h', order = reversed(['겨울잠고객','이탈우려고객','관심필요고객','놓치면안될고객', '잠재충성고객','잠재VIP고객','충성고객','VIP고객']), ax = axs[i])\n",
    "    axs[i].set_title(st)\n",
    "plt.show()"
   ]
  },
  {
   "cell_type": "code",
   "execution_count": 276,
   "id": "9580f08b",
   "metadata": {},
   "outputs": [
    {
     "data": {
      "image/png": "[encoded data removed]",
      "text/plain": [
       "<Figure size 1800x3000 with 2 Axes>"
      ]
     },
     "metadata": {},
     "output_type": "display_data"
    }
   ],
   "source": [
    "# 탈회여부에 따른 RFM_Class의 빈도\n",
    "fig, axs = plt.subplots(1, 2, figsize = (18, 30))\n",
    "\n",
    "for i in range(2):\n",
    "    st = '탈퇴' if i == 0 else '유지' \n",
    "    sns.countplot(y = 'RFM_Class', data = df2[df2['탈회여부'] == st], orient = 'h', order = reversed(['겨울잠고객','이탈우려고객','관심필요고객','놓치면안될고객', '잠재충성고객','잠재VIP고객','충성고객','VIP고객']), ax = axs[i])\n",
    "    axs[i].set_title(st)\n",
    "plt.show()"
   ]
  },
  {
   "cell_type": "code",
   "execution_count": 277,
   "id": "cb4af398",
   "metadata": {},
   "outputs": [
    {
     "data": {
      "image/png": "[encoded data removed]",
      "text/plain": [
       "<Figure size 1800x3000 with 2 Axes>"
      ]
     },
     "metadata": {},
     "output_type": "display_data"
    }
   ],
   "source": [
    "# 회원여부_연체에 따른 RFM_Class의 빈도\n",
    "fig, axs = plt.subplots(1, 2, figsize = (18, 30))\n",
    "\n",
    "for i in range(2):\n",
    "    st = '연체' if i == 0 else '미연체' \n",
    "    sns.countplot(y = 'RFM_Class', data = df2[df2['회원여부_연체'] == st], orient = 'h', order = reversed(['겨울잠고객','이탈우려고객','관심필요고객','놓치면안될고객', '잠재충성고객','잠재VIP고객','충성고객','VIP고객']), ax = axs[i])\n",
    "    axs[i].set_title(st)\n",
    "plt.show()"
   ]
  },
  {
   "cell_type": "code",
   "execution_count": 280,
   "id": "6c4d43e6",
   "metadata": {},
   "outputs": [
    {
     "data": {
      "image/png": "[encoded data removed]",
      "text/plain": [
       "<Figure size 800x550 with 1 Axes>"
      ]
     },
     "metadata": {},
     "output_type": "display_data"
    }
   ],
   "source": [
    "# 회원여부_연체에 따른 RFM_Class의 빈도\n",
    "sns.countplot(y = 'RFM_Class', data = df2[df2['회원여부_연체'] == st], orient = 'h', order = reversed(['겨울잠고객','이탈우려고객','관심필요고객','놓치면안될고객', '잠재충성고객','잠재VIP고객','충성고객','VIP고객']), hue = '자격기준', hue_order = sorted(df2['자격기준'].unique(), key = lambda x : int(x[:2])))\n",
    "plt.show()"
   ]
  },
  {
   "cell_type": "code",
   "execution_count": 292,
   "id": "3a0d3858",
   "metadata": {},
   "outputs": [
    {
     "ename": "KeyError",
     "evalue": "0",
     "output_type": "error",
     "traceback": [
      "\u001b[1;31m---------------------------------------------------------------------------\u001b[0m",
      "\u001b[1;31mValueError\u001b[0m                                Traceback (most recent call last)",
      "File \u001b[1;32m~\\anaconda3\\lib\\site-packages\\pandas\\core\\indexes\\range.py:391\u001b[0m, in \u001b[0;36mRangeIndex.get_loc\u001b[1;34m(self, key, method, tolerance)\u001b[0m\n\u001b[0;32m    390\u001b[0m \u001b[38;5;28;01mtry\u001b[39;00m:\n\u001b[1;32m--> 391\u001b[0m     \u001b[38;5;28;01mreturn\u001b[39;00m \u001b[38;5;28;43mself\u001b[39;49m\u001b[38;5;241;43m.\u001b[39;49m\u001b[43m_range\u001b[49m\u001b[38;5;241;43m.\u001b[39;49m\u001b[43mindex\u001b[49m\u001b[43m(\u001b[49m\u001b[43mnew_key\u001b[49m\u001b[43m)\u001b[49m\n\u001b[0;32m    392\u001b[0m \u001b[38;5;28;01mexcept\u001b[39;00m \u001b[38;5;167;01mValueError\u001b[39;00m \u001b[38;5;28;01mas\u001b[39;00m err:\n",
      "\u001b[1;31mValueError\u001b[0m: 0 is not in range",
      "\nThe above exception was the direct cause of the following exception:\n",
      "\u001b[1;31mKeyError\u001b[0m                                  Traceback (most recent call last)",
      "Cell \u001b[1;32mIn[292], line 2\u001b[0m\n\u001b[0;32m      1\u001b[0m temp \u001b[38;5;241m=\u001b[39m pd\u001b[38;5;241m.\u001b[39mDataFrame({\u001b[38;5;124m'\u001b[39m\u001b[38;5;124mRFM\u001b[39m\u001b[38;5;124m'\u001b[39m : [\u001b[38;5;124m'\u001b[39m\u001b[38;5;124m겨울잠고객\u001b[39m\u001b[38;5;124m'\u001b[39m,\u001b[38;5;124m'\u001b[39m\u001b[38;5;124m이탈우려고객\u001b[39m\u001b[38;5;124m'\u001b[39m,\u001b[38;5;124m'\u001b[39m\u001b[38;5;124m관심필요고객\u001b[39m\u001b[38;5;124m'\u001b[39m,\u001b[38;5;124m'\u001b[39m\u001b[38;5;124m놓치면안될고객\u001b[39m\u001b[38;5;124m'\u001b[39m,\u001b[38;5;124m'\u001b[39m\u001b[38;5;124m잠재충성고b객\u001b[39m\u001b[38;5;124m'\u001b[39m,\u001b[38;5;124m'\u001b[39m\u001b[38;5;124m잠재VIP고객\u001b[39m\u001b[38;5;124m'\u001b[39m,\u001b[38;5;124m'\u001b[39m\u001b[38;5;124m충성고객\u001b[39m\u001b[38;5;124m'\u001b[39m,\u001b[38;5;124m'\u001b[39m\u001b[38;5;124mVIP고객\u001b[39m\u001b[38;5;124m'\u001b[39m]})\n\u001b[1;32m----> 2\u001b[0m temp[\u001b[38;5;124m'\u001b[39m\u001b[38;5;124mOccupation_Max\u001b[39m\u001b[38;5;124m'\u001b[39m] \u001b[38;5;241m=\u001b[39m \u001b[43mtemp\u001b[49m\u001b[43m[\u001b[49m\u001b[38;5;124;43m'\u001b[39;49m\u001b[38;5;124;43mRFM\u001b[39;49m\u001b[38;5;124;43m'\u001b[39;49m\u001b[43m]\u001b[49m\u001b[38;5;241;43m.\u001b[39;49m\u001b[43mmap\u001b[49m\u001b[43m(\u001b[49m\u001b[38;5;28;43;01mlambda\u001b[39;49;00m\u001b[43m \u001b[49m\u001b[43mx\u001b[49m\u001b[43m \u001b[49m\u001b[43m:\u001b[49m\u001b[43m \u001b[49m\u001b[43mdf2\u001b[49m\u001b[38;5;241;43m.\u001b[39;49m\u001b[43mloc\u001b[49m\u001b[43m[\u001b[49m\u001b[43mdf2\u001b[49m\u001b[43m[\u001b[49m\u001b[38;5;124;43m'\u001b[39;49m\u001b[38;5;124;43mRFM_Class\u001b[39;49m\u001b[38;5;124;43m'\u001b[39;49m\u001b[43m]\u001b[49m\u001b[43m \u001b[49m\u001b[38;5;241;43m==\u001b[39;49m\u001b[43m \u001b[49m\u001b[43mx\u001b[49m\u001b[43m,\u001b[49m\u001b[43m \u001b[49m\u001b[38;5;124;43m'\u001b[39;49m\u001b[38;5;124;43m자격기준\u001b[39;49m\u001b[38;5;124;43m'\u001b[39;49m\u001b[43m]\u001b[49m\u001b[38;5;241;43m.\u001b[39;49m\u001b[43mmode\u001b[49m\u001b[43m(\u001b[49m\u001b[43m)\u001b[49m\u001b[43m[\u001b[49m\u001b[38;5;241;43m0\u001b[39;49m\u001b[43m]\u001b[49m\u001b[43m)\u001b[49m\n\u001b[0;32m      3\u001b[0m temp[\u001b[38;5;124m'\u001b[39m\u001b[38;5;124mOccupation_Min\u001b[39m\u001b[38;5;124m'\u001b[39m] \u001b[38;5;241m=\u001b[39m temp[\u001b[38;5;124m'\u001b[39m\u001b[38;5;124mRFM\u001b[39m\u001b[38;5;124m'\u001b[39m]\u001b[38;5;241m.\u001b[39mmap(\u001b[38;5;28;01mlambda\u001b[39;00m x : df2\u001b[38;5;241m.\u001b[39mloc[df2[\u001b[38;5;124m'\u001b[39m\u001b[38;5;124mRFM_Class\u001b[39m\u001b[38;5;124m'\u001b[39m] \u001b[38;5;241m==\u001b[39m x, \u001b[38;5;124m'\u001b[39m\u001b[38;5;124m자격기준\u001b[39m\u001b[38;5;124m'\u001b[39m]\u001b[38;5;241m.\u001b[39mvalue_counts()\u001b[38;5;241m.\u001b[39mindex[\u001b[38;5;241m-\u001b[39m\u001b[38;5;241m1\u001b[39m])\n",
      "File \u001b[1;32m~\\anaconda3\\lib\\site-packages\\pandas\\core\\series.py:4539\u001b[0m, in \u001b[0;36mSeries.map\u001b[1;34m(self, arg, na_action)\u001b[0m\n\u001b[0;32m   4460\u001b[0m \u001b[38;5;28;01mdef\u001b[39;00m \u001b[38;5;21mmap\u001b[39m(\n\u001b[0;32m   4461\u001b[0m     \u001b[38;5;28mself\u001b[39m,\n\u001b[0;32m   4462\u001b[0m     arg: Callable \u001b[38;5;241m|\u001b[39m Mapping \u001b[38;5;241m|\u001b[39m Series,\n\u001b[0;32m   4463\u001b[0m     na_action: Literal[\u001b[38;5;124m\"\u001b[39m\u001b[38;5;124mignore\u001b[39m\u001b[38;5;124m\"\u001b[39m] \u001b[38;5;241m|\u001b[39m \u001b[38;5;28;01mNone\u001b[39;00m \u001b[38;5;241m=\u001b[39m \u001b[38;5;28;01mNone\u001b[39;00m,\n\u001b[0;32m   4464\u001b[0m ) \u001b[38;5;241m-\u001b[39m\u001b[38;5;241m>\u001b[39m Series:\n\u001b[0;32m   4465\u001b[0m     \u001b[38;5;124;03m\"\"\"\u001b[39;00m\n\u001b[0;32m   4466\u001b[0m \u001b[38;5;124;03m    Map values of Series according to an input mapping or function.\u001b[39;00m\n\u001b[0;32m   4467\u001b[0m \n\u001b[1;32m   (...)\u001b[0m\n\u001b[0;32m   4537\u001b[0m \u001b[38;5;124;03m    dtype: object\u001b[39;00m\n\u001b[0;32m   4538\u001b[0m \u001b[38;5;124;03m    \"\"\"\u001b[39;00m\n\u001b[1;32m-> 4539\u001b[0m     new_values \u001b[38;5;241m=\u001b[39m \u001b[38;5;28;43mself\u001b[39;49m\u001b[38;5;241;43m.\u001b[39;49m\u001b[43m_map_values\u001b[49m\u001b[43m(\u001b[49m\u001b[43marg\u001b[49m\u001b[43m,\u001b[49m\u001b[43m \u001b[49m\u001b[43mna_action\u001b[49m\u001b[38;5;241;43m=\u001b[39;49m\u001b[43mna_action\u001b[49m\u001b[43m)\u001b[49m\n\u001b[0;32m   4540\u001b[0m     \u001b[38;5;28;01mreturn\u001b[39;00m \u001b[38;5;28mself\u001b[39m\u001b[38;5;241m.\u001b[39m_constructor(new_values, index\u001b[38;5;241m=\u001b[39m\u001b[38;5;28mself\u001b[39m\u001b[38;5;241m.\u001b[39mindex)\u001b[38;5;241m.\u001b[39m__finalize__(\n\u001b[0;32m   4541\u001b[0m         \u001b[38;5;28mself\u001b[39m, method\u001b[38;5;241m=\u001b[39m\u001b[38;5;124m\"\u001b[39m\u001b[38;5;124mmap\u001b[39m\u001b[38;5;124m\"\u001b[39m\n\u001b[0;32m   4542\u001b[0m     )\n",
      "File \u001b[1;32m~\\anaconda3\\lib\\site-packages\\pandas\\core\\base.py:890\u001b[0m, in \u001b[0;36mIndexOpsMixin._map_values\u001b[1;34m(self, mapper, na_action)\u001b[0m\n\u001b[0;32m    887\u001b[0m         \u001b[38;5;28;01mraise\u001b[39;00m \u001b[38;5;167;01mValueError\u001b[39;00m(msg)\n\u001b[0;32m    889\u001b[0m \u001b[38;5;66;03m# mapper is a function\u001b[39;00m\n\u001b[1;32m--> 890\u001b[0m new_values \u001b[38;5;241m=\u001b[39m \u001b[43mmap_f\u001b[49m\u001b[43m(\u001b[49m\u001b[43mvalues\u001b[49m\u001b[43m,\u001b[49m\u001b[43m \u001b[49m\u001b[43mmapper\u001b[49m\u001b[43m)\u001b[49m\n\u001b[0;32m    892\u001b[0m \u001b[38;5;28;01mreturn\u001b[39;00m new_values\n",
      "File \u001b[1;32m~\\anaconda3\\lib\\site-packages\\pandas\\_libs\\lib.pyx:2924\u001b[0m, in \u001b[0;36mpandas._libs.lib.map_infer\u001b[1;34m()\u001b[0m\n",
      "Cell \u001b[1;32mIn[292], line 2\u001b[0m, in \u001b[0;36m<lambda>\u001b[1;34m(x)\u001b[0m\n\u001b[0;32m      1\u001b[0m temp \u001b[38;5;241m=\u001b[39m pd\u001b[38;5;241m.\u001b[39mDataFrame({\u001b[38;5;124m'\u001b[39m\u001b[38;5;124mRFM\u001b[39m\u001b[38;5;124m'\u001b[39m : [\u001b[38;5;124m'\u001b[39m\u001b[38;5;124m겨울잠고객\u001b[39m\u001b[38;5;124m'\u001b[39m,\u001b[38;5;124m'\u001b[39m\u001b[38;5;124m이탈우려고객\u001b[39m\u001b[38;5;124m'\u001b[39m,\u001b[38;5;124m'\u001b[39m\u001b[38;5;124m관심필요고객\u001b[39m\u001b[38;5;124m'\u001b[39m,\u001b[38;5;124m'\u001b[39m\u001b[38;5;124m놓치면안될고객\u001b[39m\u001b[38;5;124m'\u001b[39m,\u001b[38;5;124m'\u001b[39m\u001b[38;5;124m잠재충성고b객\u001b[39m\u001b[38;5;124m'\u001b[39m,\u001b[38;5;124m'\u001b[39m\u001b[38;5;124m잠재VIP고객\u001b[39m\u001b[38;5;124m'\u001b[39m,\u001b[38;5;124m'\u001b[39m\u001b[38;5;124m충성고객\u001b[39m\u001b[38;5;124m'\u001b[39m,\u001b[38;5;124m'\u001b[39m\u001b[38;5;124mVIP고객\u001b[39m\u001b[38;5;124m'\u001b[39m]})\n\u001b[1;32m----> 2\u001b[0m temp[\u001b[38;5;124m'\u001b[39m\u001b[38;5;124mOccupation_Max\u001b[39m\u001b[38;5;124m'\u001b[39m] \u001b[38;5;241m=\u001b[39m temp[\u001b[38;5;124m'\u001b[39m\u001b[38;5;124mRFM\u001b[39m\u001b[38;5;124m'\u001b[39m]\u001b[38;5;241m.\u001b[39mmap(\u001b[38;5;28;01mlambda\u001b[39;00m x : \u001b[43mdf2\u001b[49m\u001b[38;5;241;43m.\u001b[39;49m\u001b[43mloc\u001b[49m\u001b[43m[\u001b[49m\u001b[43mdf2\u001b[49m\u001b[43m[\u001b[49m\u001b[38;5;124;43m'\u001b[39;49m\u001b[38;5;124;43mRFM_Class\u001b[39;49m\u001b[38;5;124;43m'\u001b[39;49m\u001b[43m]\u001b[49m\u001b[43m \u001b[49m\u001b[38;5;241;43m==\u001b[39;49m\u001b[43m \u001b[49m\u001b[43mx\u001b[49m\u001b[43m,\u001b[49m\u001b[43m \u001b[49m\u001b[38;5;124;43m'\u001b[39;49m\u001b[38;5;124;43m자격기준\u001b[39;49m\u001b[38;5;124;43m'\u001b[39;49m\u001b[43m]\u001b[49m\u001b[38;5;241;43m.\u001b[39;49m\u001b[43mmode\u001b[49m\u001b[43m(\u001b[49m\u001b[43m)\u001b[49m\u001b[43m[\u001b[49m\u001b[38;5;241;43m0\u001b[39;49m\u001b[43m]\u001b[49m)\n\u001b[0;32m      3\u001b[0m temp[\u001b[38;5;124m'\u001b[39m\u001b[38;5;124mOccupation_Min\u001b[39m\u001b[38;5;124m'\u001b[39m] \u001b[38;5;241m=\u001b[39m temp[\u001b[38;5;124m'\u001b[39m\u001b[38;5;124mRFM\u001b[39m\u001b[38;5;124m'\u001b[39m]\u001b[38;5;241m.\u001b[39mmap(\u001b[38;5;28;01mlambda\u001b[39;00m x : df2\u001b[38;5;241m.\u001b[39mloc[df2[\u001b[38;5;124m'\u001b[39m\u001b[38;5;124mRFM_Class\u001b[39m\u001b[38;5;124m'\u001b[39m] \u001b[38;5;241m==\u001b[39m x, \u001b[38;5;124m'\u001b[39m\u001b[38;5;124m자격기준\u001b[39m\u001b[38;5;124m'\u001b[39m]\u001b[38;5;241m.\u001b[39mvalue_counts()\u001b[38;5;241m.\u001b[39mindex[\u001b[38;5;241m-\u001b[39m\u001b[38;5;241m1\u001b[39m])\n",
      "File \u001b[1;32m~\\anaconda3\\lib\\site-packages\\pandas\\core\\series.py:981\u001b[0m, in \u001b[0;36mSeries.__getitem__\u001b[1;34m(self, key)\u001b[0m\n\u001b[0;32m    978\u001b[0m     \u001b[38;5;28;01mreturn\u001b[39;00m \u001b[38;5;28mself\u001b[39m\u001b[38;5;241m.\u001b[39m_values[key]\n\u001b[0;32m    980\u001b[0m \u001b[38;5;28;01melif\u001b[39;00m key_is_scalar:\n\u001b[1;32m--> 981\u001b[0m     \u001b[38;5;28;01mreturn\u001b[39;00m \u001b[38;5;28;43mself\u001b[39;49m\u001b[38;5;241;43m.\u001b[39;49m\u001b[43m_get_value\u001b[49m\u001b[43m(\u001b[49m\u001b[43mkey\u001b[49m\u001b[43m)\u001b[49m\n\u001b[0;32m    983\u001b[0m \u001b[38;5;28;01mif\u001b[39;00m is_hashable(key):\n\u001b[0;32m    984\u001b[0m     \u001b[38;5;66;03m# Otherwise index.get_value will raise InvalidIndexError\u001b[39;00m\n\u001b[0;32m    985\u001b[0m     \u001b[38;5;28;01mtry\u001b[39;00m:\n\u001b[0;32m    986\u001b[0m         \u001b[38;5;66;03m# For labels that don't resolve as scalars like tuples and frozensets\u001b[39;00m\n",
      "File \u001b[1;32m~\\anaconda3\\lib\\site-packages\\pandas\\core\\series.py:1089\u001b[0m, in \u001b[0;36mSeries._get_value\u001b[1;34m(self, label, takeable)\u001b[0m\n\u001b[0;32m   1086\u001b[0m     \u001b[38;5;28;01mreturn\u001b[39;00m \u001b[38;5;28mself\u001b[39m\u001b[38;5;241m.\u001b[39m_values[label]\n\u001b[0;32m   1088\u001b[0m \u001b[38;5;66;03m# Similar to Index.get_value, but we do not fall back to positional\u001b[39;00m\n\u001b[1;32m-> 1089\u001b[0m loc \u001b[38;5;241m=\u001b[39m \u001b[38;5;28;43mself\u001b[39;49m\u001b[38;5;241;43m.\u001b[39;49m\u001b[43mindex\u001b[49m\u001b[38;5;241;43m.\u001b[39;49m\u001b[43mget_loc\u001b[49m\u001b[43m(\u001b[49m\u001b[43mlabel\u001b[49m\u001b[43m)\u001b[49m\n\u001b[0;32m   1090\u001b[0m \u001b[38;5;28;01mreturn\u001b[39;00m \u001b[38;5;28mself\u001b[39m\u001b[38;5;241m.\u001b[39mindex\u001b[38;5;241m.\u001b[39m_get_values_for_loc(\u001b[38;5;28mself\u001b[39m, loc, label)\n",
      "File \u001b[1;32m~\\anaconda3\\lib\\site-packages\\pandas\\core\\indexes\\range.py:393\u001b[0m, in \u001b[0;36mRangeIndex.get_loc\u001b[1;34m(self, key, method, tolerance)\u001b[0m\n\u001b[0;32m    391\u001b[0m         \u001b[38;5;28;01mreturn\u001b[39;00m \u001b[38;5;28mself\u001b[39m\u001b[38;5;241m.\u001b[39m_range\u001b[38;5;241m.\u001b[39mindex(new_key)\n\u001b[0;32m    392\u001b[0m     \u001b[38;5;28;01mexcept\u001b[39;00m \u001b[38;5;167;01mValueError\u001b[39;00m \u001b[38;5;28;01mas\u001b[39;00m err:\n\u001b[1;32m--> 393\u001b[0m         \u001b[38;5;28;01mraise\u001b[39;00m \u001b[38;5;167;01mKeyError\u001b[39;00m(key) \u001b[38;5;28;01mfrom\u001b[39;00m \u001b[38;5;21;01merr\u001b[39;00m\n\u001b[0;32m    394\u001b[0m \u001b[38;5;28mself\u001b[39m\u001b[38;5;241m.\u001b[39m_check_indexing_error(key)\n\u001b[0;32m    395\u001b[0m \u001b[38;5;28;01mraise\u001b[39;00m \u001b[38;5;167;01mKeyError\u001b[39;00m(key)\n",
      "\u001b[1;31mKeyError\u001b[0m: 0"
     ]
    }
   ],
   "source": [
    "temp = pd.DataFrame({'RFM' : ['겨울잠고객','이탈우려고객','관심필요고객','놓치면안될고객','잠재충성고b객','잠재VIP고객','충성고객','VIP고객']})\n",
    "temp['Occupation_Max'] = temp['RFM'].map(lambda x : df2.loc[df2['RFM_Class'] == x, '자격기준'].mode()[0])\n",
    "temp['Occupation_Min'] = temp['RFM'].map(lambda x : df2.loc[df2['RFM_Class'] == x, '자격기준'].value_counts().index[-1])"
   ]
  },
  {
   "cell_type": "markdown",
   "id": "32b4ad6d",
   "metadata": {},
   "source": [
    "# 데이터 전처리 및 EDA"
   ]
  },
  {
   "cell_type": "code",
   "execution_count": 129,
   "id": "f9805b1e",
   "metadata": {},
   "outputs": [
    {
     "data": {
      "text/html": [
       "<div>\n",
       "<style scoped>\n",
       "    .dataframe tbody tr th:only-of-type {\n",
       "        vertical-align: middle;\n",
       "    }\n",
       "\n",
       "    .dataframe tbody tr th {\n",
       "        vertical-align: top;\n",
       "    }\n",
       "\n",
       "    .dataframe thead th {\n",
       "        text-align: right;\n",
       "    }\n",
       "</style>\n",
       "<table border=\"1\" class=\"dataframe\">\n",
       "  <thead>\n",
       "    <tr style=\"text-align: right;\">\n",
       "      <th></th>\n",
       "      <th>남녀구분코드</th>\n",
       "      <th>연령</th>\n",
       "      <th>소지여부_신용</th>\n",
       "      <th>입회일자_신용</th>\n",
       "      <th>입회경과개월수_신용</th>\n",
       "      <th>탈회여부</th>\n",
       "      <th>회원여부_연체</th>\n",
       "      <th>수신거부여부_TM</th>\n",
       "      <th>수신거부여부_DM</th>\n",
       "      <th>수신거부여부_메일</th>\n",
       "      <th>...</th>\n",
       "      <th>Frequency_8</th>\n",
       "      <th>Monetary</th>\n",
       "      <th>Monetary_8</th>\n",
       "      <th>Recency_s</th>\n",
       "      <th>Frequency_s</th>\n",
       "      <th>Monetary_s</th>\n",
       "      <th>labels_k</th>\n",
       "      <th>RFM_Score</th>\n",
       "      <th>RFM_Class</th>\n",
       "      <th>고객구분_New</th>\n",
       "    </tr>\n",
       "  </thead>\n",
       "  <tbody>\n",
       "    <tr>\n",
       "      <th>0</th>\n",
       "      <td>여자</td>\n",
       "      <td>64</td>\n",
       "      <td>소지</td>\n",
       "      <td>2014-07-09</td>\n",
       "      <td>54</td>\n",
       "      <td>탈퇴</td>\n",
       "      <td>미연체</td>\n",
       "      <td>승인</td>\n",
       "      <td>승인</td>\n",
       "      <td>승인</td>\n",
       "      <td>...</td>\n",
       "      <td>3</td>\n",
       "      <td>615650</td>\n",
       "      <td>2</td>\n",
       "      <td>0.0</td>\n",
       "      <td>0.007771</td>\n",
       "      <td>0.001007</td>\n",
       "      <td>0</td>\n",
       "      <td>37.647038</td>\n",
       "      <td>이탈우려고객</td>\n",
       "      <td>휴면</td>\n",
       "    </tr>\n",
       "    <tr>\n",
       "      <th>1</th>\n",
       "      <td>남자</td>\n",
       "      <td>24</td>\n",
       "      <td>소지</td>\n",
       "      <td>2017-04-12</td>\n",
       "      <td>21</td>\n",
       "      <td>유지</td>\n",
       "      <td>미연체</td>\n",
       "      <td>승인</td>\n",
       "      <td>승인</td>\n",
       "      <td>승인</td>\n",
       "      <td>...</td>\n",
       "      <td>2</td>\n",
       "      <td>840480</td>\n",
       "      <td>2</td>\n",
       "      <td>0.0</td>\n",
       "      <td>0.007009</td>\n",
       "      <td>0.001039</td>\n",
       "      <td>0</td>\n",
       "      <td>29.772408</td>\n",
       "      <td>이탈우려고객</td>\n",
       "      <td>휴면</td>\n",
       "    </tr>\n",
       "    <tr>\n",
       "      <th>2</th>\n",
       "      <td>여자</td>\n",
       "      <td>43</td>\n",
       "      <td>소지</td>\n",
       "      <td>2017-04-26</td>\n",
       "      <td>21</td>\n",
       "      <td>탈퇴</td>\n",
       "      <td>미연체</td>\n",
       "      <td>거부</td>\n",
       "      <td>승인</td>\n",
       "      <td>승인</td>\n",
       "      <td>...</td>\n",
       "      <td>3</td>\n",
       "      <td>905580</td>\n",
       "      <td>2</td>\n",
       "      <td>0.0</td>\n",
       "      <td>0.008990</td>\n",
       "      <td>0.001048</td>\n",
       "      <td>0</td>\n",
       "      <td>37.647038</td>\n",
       "      <td>이탈우려고객</td>\n",
       "      <td>휴면</td>\n",
       "    </tr>\n",
       "    <tr>\n",
       "      <th>3</th>\n",
       "      <td>여자</td>\n",
       "      <td>79</td>\n",
       "      <td>소지</td>\n",
       "      <td>2014-11-28</td>\n",
       "      <td>50</td>\n",
       "      <td>유지</td>\n",
       "      <td>미연체</td>\n",
       "      <td>승인</td>\n",
       "      <td>승인</td>\n",
       "      <td>승인</td>\n",
       "      <td>...</td>\n",
       "      <td>4</td>\n",
       "      <td>3116870</td>\n",
       "      <td>3</td>\n",
       "      <td>0.0</td>\n",
       "      <td>0.018132</td>\n",
       "      <td>0.001366</td>\n",
       "      <td>0</td>\n",
       "      <td>49.351637</td>\n",
       "      <td>관심필요고객</td>\n",
       "      <td>휴면</td>\n",
       "    </tr>\n",
       "    <tr>\n",
       "      <th>4</th>\n",
       "      <td>여자</td>\n",
       "      <td>82</td>\n",
       "      <td>소지</td>\n",
       "      <td>2012-09-05</td>\n",
       "      <td>76</td>\n",
       "      <td>유지</td>\n",
       "      <td>미연체</td>\n",
       "      <td>승인</td>\n",
       "      <td>승인</td>\n",
       "      <td>승인</td>\n",
       "      <td>...</td>\n",
       "      <td>7</td>\n",
       "      <td>5391290</td>\n",
       "      <td>4</td>\n",
       "      <td>0.0</td>\n",
       "      <td>0.074052</td>\n",
       "      <td>0.001692</td>\n",
       "      <td>0</td>\n",
       "      <td>76.805496</td>\n",
       "      <td>잠재VIP고객</td>\n",
       "      <td>연속</td>\n",
       "    </tr>\n",
       "    <tr>\n",
       "      <th>...</th>\n",
       "      <td>...</td>\n",
       "      <td>...</td>\n",
       "      <td>...</td>\n",
       "      <td>...</td>\n",
       "      <td>...</td>\n",
       "      <td>...</td>\n",
       "      <td>...</td>\n",
       "      <td>...</td>\n",
       "      <td>...</td>\n",
       "      <td>...</td>\n",
       "      <td>...</td>\n",
       "      <td>...</td>\n",
       "      <td>...</td>\n",
       "      <td>...</td>\n",
       "      <td>...</td>\n",
       "      <td>...</td>\n",
       "      <td>...</td>\n",
       "      <td>...</td>\n",
       "      <td>...</td>\n",
       "      <td>...</td>\n",
       "      <td>...</td>\n",
       "    </tr>\n",
       "    <tr>\n",
       "      <th>299995</th>\n",
       "      <td>여자</td>\n",
       "      <td>47</td>\n",
       "      <td>소지</td>\n",
       "      <td>2017-06-30</td>\n",
       "      <td>18</td>\n",
       "      <td>유지</td>\n",
       "      <td>미연체</td>\n",
       "      <td>승인</td>\n",
       "      <td>승인</td>\n",
       "      <td>승인</td>\n",
       "      <td>...</td>\n",
       "      <td>7</td>\n",
       "      <td>17636638</td>\n",
       "      <td>7</td>\n",
       "      <td>0.0</td>\n",
       "      <td>0.059119</td>\n",
       "      <td>0.003450</td>\n",
       "      <td>0</td>\n",
       "      <td>88.295401</td>\n",
       "      <td>충성고객</td>\n",
       "      <td>연속</td>\n",
       "    </tr>\n",
       "    <tr>\n",
       "      <th>299996</th>\n",
       "      <td>여자</td>\n",
       "      <td>69</td>\n",
       "      <td>소지</td>\n",
       "      <td>2015-04-17</td>\n",
       "      <td>45</td>\n",
       "      <td>유지</td>\n",
       "      <td>미연체</td>\n",
       "      <td>승인</td>\n",
       "      <td>승인</td>\n",
       "      <td>승인</td>\n",
       "      <td>...</td>\n",
       "      <td>4</td>\n",
       "      <td>5935210</td>\n",
       "      <td>4</td>\n",
       "      <td>0.0</td>\n",
       "      <td>0.021332</td>\n",
       "      <td>0.001770</td>\n",
       "      <td>0</td>\n",
       "      <td>53.181605</td>\n",
       "      <td>놓치면안될고객</td>\n",
       "      <td>간헐</td>\n",
       "    </tr>\n",
       "    <tr>\n",
       "      <th>299997</th>\n",
       "      <td>남자</td>\n",
       "      <td>36</td>\n",
       "      <td>소지</td>\n",
       "      <td>2012-06-08</td>\n",
       "      <td>79</td>\n",
       "      <td>유지</td>\n",
       "      <td>미연체</td>\n",
       "      <td>승인</td>\n",
       "      <td>승인</td>\n",
       "      <td>승인</td>\n",
       "      <td>...</td>\n",
       "      <td>8</td>\n",
       "      <td>4893790</td>\n",
       "      <td>4</td>\n",
       "      <td>0.0</td>\n",
       "      <td>0.132866</td>\n",
       "      <td>0.001621</td>\n",
       "      <td>0</td>\n",
       "      <td>84.680127</td>\n",
       "      <td>충성고객</td>\n",
       "      <td>연속</td>\n",
       "    </tr>\n",
       "    <tr>\n",
       "      <th>299998</th>\n",
       "      <td>남자</td>\n",
       "      <td>48</td>\n",
       "      <td>소지</td>\n",
       "      <td>2012-05-08</td>\n",
       "      <td>80</td>\n",
       "      <td>탈퇴</td>\n",
       "      <td>미연체</td>\n",
       "      <td>승인</td>\n",
       "      <td>승인</td>\n",
       "      <td>승인</td>\n",
       "      <td>...</td>\n",
       "      <td>2</td>\n",
       "      <td>1274300</td>\n",
       "      <td>2</td>\n",
       "      <td>0.0</td>\n",
       "      <td>0.005638</td>\n",
       "      <td>0.001101</td>\n",
       "      <td>0</td>\n",
       "      <td>29.772408</td>\n",
       "      <td>이탈우려고객</td>\n",
       "      <td>휴면</td>\n",
       "    </tr>\n",
       "    <tr>\n",
       "      <th>299999</th>\n",
       "      <td>여자</td>\n",
       "      <td>36</td>\n",
       "      <td>소지</td>\n",
       "      <td>2018-02-22</td>\n",
       "      <td>11</td>\n",
       "      <td>탈퇴</td>\n",
       "      <td>미연체</td>\n",
       "      <td>승인</td>\n",
       "      <td>승인</td>\n",
       "      <td>승인</td>\n",
       "      <td>...</td>\n",
       "      <td>5</td>\n",
       "      <td>7108150</td>\n",
       "      <td>5</td>\n",
       "      <td>0.0</td>\n",
       "      <td>0.029864</td>\n",
       "      <td>0.001939</td>\n",
       "      <td>0</td>\n",
       "      <td>64.886204</td>\n",
       "      <td>잠재충성고객</td>\n",
       "      <td>간헐</td>\n",
       "    </tr>\n",
       "  </tbody>\n",
       "</table>\n",
       "<p>299488 rows × 296 columns</p>\n",
       "</div>"
      ],
      "text/plain": [
       "       남녀구분코드  연령 소지여부_신용    입회일자_신용  입회경과개월수_신용 탈회여부 회원여부_연체 수신거부여부_TM  \\\n",
       "0          여자  64      소지 2014-07-09          54   탈퇴     미연체        승인   \n",
       "1          남자  24      소지 2017-04-12          21   유지     미연체        승인   \n",
       "2          여자  43      소지 2017-04-26          21   탈퇴     미연체        거부   \n",
       "3          여자  79      소지 2014-11-28          50   유지     미연체        승인   \n",
       "4          여자  82      소지 2012-09-05          76   유지     미연체        승인   \n",
       "...       ...  ..     ...        ...         ...  ...     ...       ...   \n",
       "299995     여자  47      소지 2017-06-30          18   유지     미연체        승인   \n",
       "299996     여자  69      소지 2015-04-17          45   유지     미연체        승인   \n",
       "299997     남자  36      소지 2012-06-08          79   유지     미연체        승인   \n",
       "299998     남자  48      소지 2012-05-08          80   탈퇴     미연체        승인   \n",
       "299999     여자  36      소지 2018-02-22          11   탈퇴     미연체        승인   \n",
       "\n",
       "       수신거부여부_DM 수신거부여부_메일  ... Frequency_8  Monetary Monetary_8 Recency_s  \\\n",
       "0             승인        승인  ...           3    615650          2       0.0   \n",
       "1             승인        승인  ...           2    840480          2       0.0   \n",
       "2             승인        승인  ...           3    905580          2       0.0   \n",
       "3             승인        승인  ...           4   3116870          3       0.0   \n",
       "4             승인        승인  ...           7   5391290          4       0.0   \n",
       "...          ...       ...  ...         ...       ...        ...       ...   \n",
       "299995        승인        승인  ...           7  17636638          7       0.0   \n",
       "299996        승인        승인  ...           4   5935210          4       0.0   \n",
       "299997        승인        승인  ...           8   4893790          4       0.0   \n",
       "299998        승인        승인  ...           2   1274300          2       0.0   \n",
       "299999        승인        승인  ...           5   7108150          5       0.0   \n",
       "\n",
       "       Frequency_s  Monetary_s  labels_k  RFM_Score  RFM_Class  고객구분_New  \n",
       "0         0.007771    0.001007         0  37.647038     이탈우려고객        휴면  \n",
       "1         0.007009    0.001039         0  29.772408     이탈우려고객        휴면  \n",
       "2         0.008990    0.001048         0  37.647038     이탈우려고객        휴면  \n",
       "3         0.018132    0.001366         0  49.351637     관심필요고객        휴면  \n",
       "4         0.074052    0.001692         0  76.805496    잠재VIP고객        연속  \n",
       "...            ...         ...       ...        ...        ...       ...  \n",
       "299995    0.059119    0.003450         0  88.295401       충성고객        연속  \n",
       "299996    0.021332    0.001770         0  53.181605    놓치면안될고객        간헐  \n",
       "299997    0.132866    0.001621         0  84.680127       충성고객        연속  \n",
       "299998    0.005638    0.001101         0  29.772408     이탈우려고객        휴면  \n",
       "299999    0.029864    0.001939         0  64.886204     잠재충성고객        간헐  \n",
       "\n",
       "[299488 rows x 296 columns]"
      ]
     },
     "execution_count": 129,
     "metadata": {},
     "output_type": "execute_result"
    }
   ],
   "source": [
    "# 연령 개월수보다 입회경과개월수_신용가 더 큰 것들\n",
    "df2[df2['연령'] * 12 >= df2['입회경과개월수_신용']]"
   ]
  },
  {
   "cell_type": "code",
   "execution_count": 130,
   "id": "f3d26b8b",
   "metadata": {},
   "outputs": [
    {
     "data": {
      "text/plain": [
       "2735      104.500000\n",
       "2786      109.083333\n",
       "3203      104.666667\n",
       "3609      102.250000\n",
       "3692      104.000000\n",
       "             ...    \n",
       "297230    100.166667\n",
       "298141    103.583333\n",
       "298290    103.000000\n",
       "298762    107.666667\n",
       "299424    109.000000\n",
       "Length: 364, dtype: float64"
      ]
     },
     "execution_count": 130,
     "metadata": {},
     "output_type": "execute_result"
    }
   ],
   "source": [
    "t = (df2['연령'] + (df2['입회경과개월수_신용'] / 12))\n",
    "t[t > 100]"
   ]
  },
  {
   "cell_type": "code",
   "execution_count": 131,
   "id": "bc3355fa",
   "metadata": {},
   "outputs": [
    {
     "data": {
      "text/plain": [
       "1         25.750000\n",
       "7         27.666667\n",
       "21        28.666667\n",
       "27        22.833333\n",
       "53        28.916667\n",
       "            ...    \n",
       "299876    23.833333\n",
       "299938    28.333333\n",
       "299951    29.333333\n",
       "299954    28.000000\n",
       "299958    28.583333\n",
       "Length: 8270, dtype: float64"
      ]
     },
     "execution_count": 131,
     "metadata": {},
     "output_type": "execute_result"
    }
   ],
   "source": [
    "t[(t >= 20) & (t < 30)]"
   ]
  },
  {
   "cell_type": "code",
   "execution_count": 132,
   "id": "88afe02a",
   "metadata": {},
   "outputs": [
    {
     "data": {
      "text/plain": [
       "count    299999.000000\n",
       "mean         53.210373\n",
       "std          13.724348\n",
       "min          19.666667\n",
       "25%          43.083333\n",
       "50%          52.250000\n",
       "75%          62.083333\n",
       "max         120.166667\n",
       "dtype: float64"
      ]
     },
     "execution_count": 132,
     "metadata": {},
     "output_type": "execute_result"
    }
   ],
   "source": [
    "t.describe()"
   ]
  },
  {
   "cell_type": "code",
   "execution_count": 133,
   "id": "c0e83841",
   "metadata": {},
   "outputs": [
    {
     "data": {
      "text/plain": [
       "2         44.750000\n",
       "5         38.916667\n",
       "6         39.583333\n",
       "8         44.416667\n",
       "12        37.583333\n",
       "            ...    \n",
       "299992    39.750000\n",
       "299993    49.666667\n",
       "299995    48.500000\n",
       "299997    42.583333\n",
       "299999    36.916667\n",
       "Length: 122571, dtype: float64"
      ]
     },
     "execution_count": 133,
     "metadata": {},
     "output_type": "execute_result"
    }
   ],
   "source": [
    "t[(t >= 30) & (t < 50)]"
   ]
  },
  {
   "cell_type": "code",
   "execution_count": 134,
   "id": "89e5502f",
   "metadata": {},
   "outputs": [
    {
     "data": {
      "text/plain": [
       "0         68.500000\n",
       "3         83.166667\n",
       "4         88.333333\n",
       "9         50.416667\n",
       "10        70.916667\n",
       "            ...    \n",
       "299990    65.833333\n",
       "299991    52.916667\n",
       "299994    50.083333\n",
       "299996    72.750000\n",
       "299998    54.666667\n",
       "Length: 168466, dtype: float64"
      ]
     },
     "execution_count": 134,
     "metadata": {},
     "output_type": "execute_result"
    }
   ],
   "source": [
    "t[t > 50]"
   ]
  }
 ],
 "metadata": {
  "kernelspec": {
   "display_name": "Python 3 (ipykernel)",
   "language": "python",
   "name": "python3"
  },
  "language_info": {
   "codemirror_mode": {
    "name": "ipython",
    "version": 3
   },
   "file_extension": ".py",
   "mimetype": "text/x-python",
   "name": "python",
   "nbconvert_exporter": "python",
   "pygments_lexer": "ipython3",
   "version": "3.10.9"
  }
 },
 "nbformat": 4,
 "nbformat_minor": 5
}
