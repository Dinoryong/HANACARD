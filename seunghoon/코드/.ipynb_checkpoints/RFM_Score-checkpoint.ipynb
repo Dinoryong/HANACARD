{
 "cells": [
  {
   "cell_type": "code",
   "execution_count": 2,
   "id": "3dd49b1a",
   "metadata": {},
   "outputs": [],
   "source": [
    "# !pip install pingouin"
   ]
  },
  {
   "cell_type": "code",
   "execution_count": 3,
   "id": "b461f52f",
   "metadata": {},
   "outputs": [],
   "source": [
    "# !pip install scikit-posthocs"
   ]
  },
  {
   "cell_type": "code",
   "execution_count": 4,
   "id": "ef48bee0",
   "metadata": {},
   "outputs": [],
   "source": [
    "# !pip install yellowbrick"
   ]
  },
  {
   "cell_type": "code",
   "execution_count": 5,
   "id": "5de80d3a",
   "metadata": {},
   "outputs": [],
   "source": [
    "import pandas as pd\n",
    "import numpy as np\n",
    "import matplotlib.pyplot as plt\n",
    "import seaborn as sns\n",
    "import scipy.stats as stats\n",
    "from sklearn.preprocessing import LabelEncoder\n",
    "from sklearn.model_selection import train_test_split\n",
    "from sklearn.ensemble import ExtraTreesClassifier\n",
    "from sklearn.ensemble import RandomForestClassifier\n",
    "from sklearn.metrics import accuracy_score\n",
    "from matplotlib.ticker import ScalarFormatter\n",
    "from sklearn.metrics import confusion_matrix\n",
    "from sklearn.preprocessing import StandardScaler\n",
    "from sklearn.decomposition import PCA\n",
    "from sklearn.preprocessing import MinMaxScaler\n",
    "from sklearn.cluster import KMeans\n",
    "from yellowbrick.cluster import KElbowVisualizer\n",
    "from scipy.stats import pearsonr, bartlett, levene, wilcoxon, mannwhitneyu, ttest_ind, f_oneway, kruskal\n",
    "from scipy.stats import shapiro, anderson, kstest, normaltest, jarque_bera\n",
    "import pingouin as pg\n",
    "import scikit_posthocs as sp\n",
    "from statsmodels.formula.api import ols\n",
    "from statsmodels.stats.anova import anova_lm\n",
    "from statsmodels.stats.multicomp import pairwise_tukeyhsd\n",
    "from statsmodels.stats.outliers_influence import variance_inflation_factor"
   ]
  },
  {
   "cell_type": "code",
   "execution_count": 6,
   "id": "a051e7e0",
   "metadata": {},
   "outputs": [],
   "source": [
    "import os\n",
    "\n",
    "if os.name == 'posix':\n",
    "    plt.rc(\"font\", family=\"AppleGothic\")\n",
    "else:\n",
    "    plt.rc(\"font\", family=\"Malgun Gothic\")"
   ]
  },
  {
   "cell_type": "code",
   "execution_count": 7,
   "id": "4152a650",
   "metadata": {},
   "outputs": [],
   "source": [
    "df = pd.read_csv(r'C:\\Users\\User\\Desktop\\DigitalHana_Project2\\Data\\HanaCard_Data.csv', encoding = 'cp949')"
   ]
  },
  {
   "cell_type": "code",
   "execution_count": 8,
   "id": "b591c54c",
   "metadata": {},
   "outputs": [],
   "source": [
    "df2 = df.copy()"
   ]
  },
  {
   "cell_type": "code",
   "execution_count": 9,
   "id": "191f20c1",
   "metadata": {},
   "outputs": [],
   "source": [
    "d = {\n",
    "    '21.Active_연속' : 0,\n",
    "    '22.Active_간헐' : 1,\n",
    "    '34.휴면_9M+' : 2,\n",
    "    '32.휴면_6M-' : 2,\n",
    "    '33.휴면_9M-' : 2,\n",
    "    '31.휴면_3M' : 2\n",
    "}\n",
    "df2['고객구분'] = df2['고객구분'].map(d)"
   ]
  },
  {
   "cell_type": "code",
   "execution_count": 10,
   "id": "c76b13b9",
   "metadata": {},
   "outputs": [],
   "source": [
    "df2['Recency'] = (df[['이용후경과월_신용','이용후경과월_체크', '이용후경과월_카드론']]).min(axis= 1)"
   ]
  },
  {
   "cell_type": "code",
   "execution_count": 11,
   "id": "31200527",
   "metadata": {},
   "outputs": [
    {
     "data": {
      "text/plain": [
       "0     243637\n",
       "1       8549\n",
       "2       5339\n",
       "3       4252\n",
       "4       3121\n",
       "5       2768\n",
       "6       2468\n",
       "7       2273\n",
       "8       1903\n",
       "9       1721\n",
       "10      1644\n",
       "11      1539\n",
       "12     20786\n",
       "Name: Recency, dtype: int64"
      ]
     },
     "execution_count": 11,
     "metadata": {},
     "output_type": "execute_result"
    }
   ],
   "source": [
    "df2['Recency'].value_counts().sort_index()"
   ]
  },
  {
   "cell_type": "code",
   "execution_count": 76,
   "id": "2997238e",
   "metadata": {},
   "outputs": [
    {
     "data": {
      "text/plain": [
       "array([243637,   8549,   5339,   4252,   3121,   2768,   2468,   2273,\n",
       "         1903,   1721,   1644,   1539,  20786], dtype=int64)"
      ]
     },
     "execution_count": 76,
     "metadata": {},
     "output_type": "execute_result"
    }
   ],
   "source": [
    "df2['Recency'].value_counts().sort_index().values"
   ]
  },
  {
   "cell_type": "code",
   "execution_count": 15,
   "id": "8c5d2315",
   "metadata": {},
   "outputs": [
    {
     "data": {
      "text/plain": [
       "[((1, 1, 1, 2, 3, 3, 1, 1), 83535.69104623143),\n",
       " ((1, 1, 1, 2, 2, 4, 1, 1), 83535.81543437351),\n",
       " ((1, 1, 1, 1, 3, 4, 1, 1), 83541.06718939409),\n",
       " ((1, 1, 2, 2, 2, 3, 1, 1), 83544.15026285716),\n",
       " ((1, 1, 1, 1, 2, 5, 1, 1), 83548.03889465543),\n",
       " ((1, 1, 1, 3, 2, 3, 1, 1), 83548.14907926702),\n",
       " ((1, 1, 2, 2, 3, 2, 1, 1), 83548.62772062747),\n",
       " ((1, 1, 1, 2, 4, 2, 1, 1), 83549.17612144016),\n",
       " ((1, 1, 2, 1, 3, 3, 1, 1), 83551.8176445868),\n",
       " ((1, 1, 2, 1, 2, 4, 1, 1), 83551.94200872038)]"
      ]
     },
     "execution_count": 15,
     "metadata": {},
     "output_type": "execute_result"
    }
   ],
   "source": [
    "import itertools\n",
    "val = [243637,   8549,   5339,   4252,   3121,   2768,   2468,   2273, 1903,   1721,   1644,   1539,  20786]\n",
    "res = []\n",
    "\n",
    "for case in filter(lambda x : sum(x) == 13, itertools.product(range(1, 7), repeat = 8)):\n",
    "    res.append((case, pd.Series([sum(val[:case[0]]), sum(val[case[0]:sum(case[:1])]), sum(val[sum(case[:1]):sum(case[:2])]), sum(val[sum(case[:2]):sum(case[:3])]), sum(val[sum(case[:3]):sum(case[:4])]), sum(val[sum(case[:4]):sum(case[:5])]), sum(val[sum(case[:5]):sum(case[:6])]), sum(val[sum(case[:6]):])]).std()))\n",
    "\n",
    "sorted(res, key = lambda x : x[1])[:10]"
   ]
  },
  {
   "cell_type": "code",
   "execution_count": 16,
   "id": "0efcfe4b",
   "metadata": {},
   "outputs": [],
   "source": [
    "df2['Recency_8'] = df2['Recency'].map(lambda x : dict(zip(range(13), [8, 7, 6, 5, 5, 4, 4, 4, 3, 3, 3, 2, 1]))[x])"
   ]
  },
  {
   "cell_type": "code",
   "execution_count": 17,
   "id": "08df4f95",
   "metadata": {},
   "outputs": [],
   "source": [
    "df2['Frequency'] = df2['이용건수_신용_R12M'] + df2['이용건수_체크_R12M'] + df2['이용건수_카드론_R12M']"
   ]
  },
  {
   "cell_type": "code",
   "execution_count": 18,
   "id": "ddcb0ca7",
   "metadata": {},
   "outputs": [],
   "source": [
    "df2['Frequency_8'] = pd.cut(df2['Frequency'], bins = [df2['Frequency'].quantile(0), df2['Frequency'].quantile(0.125), df2['Frequency'].quantile(0.25), df2['Frequency'].quantile(0.375), df2['Frequency'].quantile(0.5), df2['Frequency'].quantile(0.625), df2['Frequency'].quantile(0.75), df2['Frequency'].quantile(0.875), df2['Frequency'].quantile(1)], labels = range(1, 9), include_lowest = True).astype(np.int64)"
   ]
  },
  {
   "cell_type": "code",
   "execution_count": 19,
   "id": "6ba02fa4",
   "metadata": {},
   "outputs": [],
   "source": [
    "df2['Monetary'] = df2['이용금액_신용_R12M'] + df2['이용금액_체크_R12M'] + df2['이용금액_카드론_R12M'] + df2['이용금액_업종기준']"
   ]
  },
  {
   "cell_type": "code",
   "execution_count": 20,
   "id": "efd9b40a",
   "metadata": {},
   "outputs": [],
   "source": [
    "df2['Monetary_8'] = pd.cut(df2['Monetary'], bins = [df2['Monetary'].quantile(0), df2['Monetary'].quantile(0.125), df2['Monetary'].quantile(0.25), df2['Monetary'].quantile(0.375), df2['Monetary'].quantile(0.5), df2['Monetary'].quantile(0.625), df2['Monetary'].quantile(0.75), df2['Monetary'].quantile(0.875), df2['Monetary'].quantile(1)], labels = range(1, 9), include_lowest = True).astype(np.int64)"
   ]
  },
  {
   "cell_type": "markdown",
   "id": "21d937e3",
   "metadata": {},
   "source": [
    "# RFM 8개 값 분류"
   ]
  },
  {
   "cell_type": "code",
   "execution_count": 21,
   "id": "19ce3fbb",
   "metadata": {},
   "outputs": [],
   "source": [
    "scaler = MinMaxScaler()\n",
    "df2['Recency_s'] = scaler.fit_transform(df2[['Recency']])\n",
    "df2['Frequency_s'] = scaler.fit_transform(df2[['Frequency']])\n",
    "df2['Monetary_s'] = scaler.fit_transform(df2[['Monetary']])"
   ]
  },
  {
   "cell_type": "code",
   "execution_count": 22,
   "id": "3fc420f8",
   "metadata": {},
   "outputs": [
    {
     "name": "stderr",
     "output_type": "stream",
     "text": [
      "C:\\Users\\User\\anaconda3\\lib\\site-packages\\sklearn\\cluster\\_kmeans.py:870: FutureWarning: The default value of `n_init` will change from 10 to 'auto' in 1.4. Set the value of `n_init` explicitly to suppress the warning\n",
      "  warnings.warn(\n",
      "C:\\Users\\User\\anaconda3\\lib\\site-packages\\sklearn\\cluster\\_kmeans.py:870: FutureWarning: The default value of `n_init` will change from 10 to 'auto' in 1.4. Set the value of `n_init` explicitly to suppress the warning\n",
      "  warnings.warn(\n",
      "C:\\Users\\User\\anaconda3\\lib\\site-packages\\sklearn\\cluster\\_kmeans.py:870: FutureWarning: The default value of `n_init` will change from 10 to 'auto' in 1.4. Set the value of `n_init` explicitly to suppress the warning\n",
      "  warnings.warn(\n",
      "C:\\Users\\User\\anaconda3\\lib\\site-packages\\sklearn\\cluster\\_kmeans.py:870: FutureWarning: The default value of `n_init` will change from 10 to 'auto' in 1.4. Set the value of `n_init` explicitly to suppress the warning\n",
      "  warnings.warn(\n",
      "C:\\Users\\User\\anaconda3\\lib\\site-packages\\sklearn\\cluster\\_kmeans.py:870: FutureWarning: The default value of `n_init` will change from 10 to 'auto' in 1.4. Set the value of `n_init` explicitly to suppress the warning\n",
      "  warnings.warn(\n",
      "C:\\Users\\User\\anaconda3\\lib\\site-packages\\sklearn\\cluster\\_kmeans.py:870: FutureWarning: The default value of `n_init` will change from 10 to 'auto' in 1.4. Set the value of `n_init` explicitly to suppress the warning\n",
      "  warnings.warn(\n",
      "C:\\Users\\User\\anaconda3\\lib\\site-packages\\sklearn\\cluster\\_kmeans.py:870: FutureWarning: The default value of `n_init` will change from 10 to 'auto' in 1.4. Set the value of `n_init` explicitly to suppress the warning\n",
      "  warnings.warn(\n",
      "C:\\Users\\User\\anaconda3\\lib\\site-packages\\sklearn\\cluster\\_kmeans.py:870: FutureWarning: The default value of `n_init` will change from 10 to 'auto' in 1.4. Set the value of `n_init` explicitly to suppress the warning\n",
      "  warnings.warn(\n",
      "C:\\Users\\User\\anaconda3\\lib\\site-packages\\sklearn\\cluster\\_kmeans.py:870: FutureWarning: The default value of `n_init` will change from 10 to 'auto' in 1.4. Set the value of `n_init` explicitly to suppress the warning\n",
      "  warnings.warn(\n"
     ]
    },
    {
     "data": {
      "text/html": [
       "<style>#sk-container-id-1 {color: black;background-color: white;}#sk-container-id-1 pre{padding: 0;}#sk-container-id-1 div.sk-toggleable {background-color: white;}#sk-container-id-1 label.sk-toggleable__label {cursor: pointer;display: block;width: 100%;margin-bottom: 0;padding: 0.3em;box-sizing: border-box;text-align: center;}#sk-container-id-1 label.sk-toggleable__label-arrow:before {content: \"▸\";float: left;margin-right: 0.25em;color: #696969;}#sk-container-id-1 label.sk-toggleable__label-arrow:hover:before {color: black;}#sk-container-id-1 div.sk-estimator:hover label.sk-toggleable__label-arrow:before {color: black;}#sk-container-id-1 div.sk-toggleable__content {max-height: 0;max-width: 0;overflow: hidden;text-align: left;background-color: #f0f8ff;}#sk-container-id-1 div.sk-toggleable__content pre {margin: 0.2em;color: black;border-radius: 0.25em;background-color: #f0f8ff;}#sk-container-id-1 input.sk-toggleable__control:checked~div.sk-toggleable__content {max-height: 200px;max-width: 100%;overflow: auto;}#sk-container-id-1 input.sk-toggleable__control:checked~label.sk-toggleable__label-arrow:before {content: \"▾\";}#sk-container-id-1 div.sk-estimator input.sk-toggleable__control:checked~label.sk-toggleable__label {background-color: #d4ebff;}#sk-container-id-1 div.sk-label input.sk-toggleable__control:checked~label.sk-toggleable__label {background-color: #d4ebff;}#sk-container-id-1 input.sk-hidden--visually {border: 0;clip: rect(1px 1px 1px 1px);clip: rect(1px, 1px, 1px, 1px);height: 1px;margin: -1px;overflow: hidden;padding: 0;position: absolute;width: 1px;}#sk-container-id-1 div.sk-estimator {font-family: monospace;background-color: #f0f8ff;border: 1px dotted black;border-radius: 0.25em;box-sizing: border-box;margin-bottom: 0.5em;}#sk-container-id-1 div.sk-estimator:hover {background-color: #d4ebff;}#sk-container-id-1 div.sk-parallel-item::after {content: \"\";width: 100%;border-bottom: 1px solid gray;flex-grow: 1;}#sk-container-id-1 div.sk-label:hover label.sk-toggleable__label {background-color: #d4ebff;}#sk-container-id-1 div.sk-serial::before {content: \"\";position: absolute;border-left: 1px solid gray;box-sizing: border-box;top: 0;bottom: 0;left: 50%;z-index: 0;}#sk-container-id-1 div.sk-serial {display: flex;flex-direction: column;align-items: center;background-color: white;padding-right: 0.2em;padding-left: 0.2em;position: relative;}#sk-container-id-1 div.sk-item {position: relative;z-index: 1;}#sk-container-id-1 div.sk-parallel {display: flex;align-items: stretch;justify-content: center;background-color: white;position: relative;}#sk-container-id-1 div.sk-item::before, #sk-container-id-1 div.sk-parallel-item::before {content: \"\";position: absolute;border-left: 1px solid gray;box-sizing: border-box;top: 0;bottom: 0;left: 50%;z-index: -1;}#sk-container-id-1 div.sk-parallel-item {display: flex;flex-direction: column;z-index: 1;position: relative;background-color: white;}#sk-container-id-1 div.sk-parallel-item:first-child::after {align-self: flex-end;width: 50%;}#sk-container-id-1 div.sk-parallel-item:last-child::after {align-self: flex-start;width: 50%;}#sk-container-id-1 div.sk-parallel-item:only-child::after {width: 0;}#sk-container-id-1 div.sk-dashed-wrapped {border: 1px dashed gray;margin: 0 0.4em 0.5em 0.4em;box-sizing: border-box;padding-bottom: 0.4em;background-color: white;}#sk-container-id-1 div.sk-label label {font-family: monospace;font-weight: bold;display: inline-block;line-height: 1.2em;}#sk-container-id-1 div.sk-label-container {text-align: center;}#sk-container-id-1 div.sk-container {/* jupyter's `normalize.less` sets `[hidden] { display: none; }` but bootstrap.min.css set `[hidden] { display: none !important; }` so we also need the `!important` here to be able to override the default hidden behavior on the sphinx rendered scikit-learn.org. See: https://github.com/scikit-learn/scikit-learn/issues/21755 */display: inline-block !important;position: relative;}#sk-container-id-1 div.sk-text-repr-fallback {display: none;}</style><div id=\"sk-container-id-1\" class=\"sk-top-container\"><div class=\"sk-text-repr-fallback\"><pre>KElbowVisualizer(ax=&lt;Axes: &gt;, estimator=KMeans(n_clusters=9), k=(1, 10))</pre><b>In a Jupyter environment, please rerun this cell to show the HTML representation or trust the notebook. <br />On GitHub, the HTML representation is unable to render, please try loading this page with nbviewer.org.</b></div><div class=\"sk-container\" hidden><div class=\"sk-item sk-dashed-wrapped\"><div class=\"sk-label-container\"><div class=\"sk-label sk-toggleable\"><input class=\"sk-toggleable__control sk-hidden--visually\" id=\"sk-estimator-id-1\" type=\"checkbox\" ><label for=\"sk-estimator-id-1\" class=\"sk-toggleable__label sk-toggleable__label-arrow\">KElbowVisualizer</label><div class=\"sk-toggleable__content\"><pre>KElbowVisualizer(ax=&lt;Axes: &gt;, estimator=KMeans(n_clusters=9), k=(1, 10))</pre></div></div></div><div class=\"sk-parallel\"><div class=\"sk-parallel-item\"><div class=\"sk-item\"><div class=\"sk-label-container\"><div class=\"sk-label sk-toggleable\"><input class=\"sk-toggleable__control sk-hidden--visually\" id=\"sk-estimator-id-2\" type=\"checkbox\" ><label for=\"sk-estimator-id-2\" class=\"sk-toggleable__label sk-toggleable__label-arrow\">estimator: KMeans</label><div class=\"sk-toggleable__content\"><pre>KMeans(n_clusters=9)</pre></div></div></div><div class=\"sk-serial\"><div class=\"sk-item\"><div class=\"sk-estimator sk-toggleable\"><input class=\"sk-toggleable__control sk-hidden--visually\" id=\"sk-estimator-id-3\" type=\"checkbox\" ><label for=\"sk-estimator-id-3\" class=\"sk-toggleable__label sk-toggleable__label-arrow\">KMeans</label><div class=\"sk-toggleable__content\"><pre>KMeans(n_clusters=9)</pre></div></div></div></div></div></div></div></div></div></div>"
      ],
      "text/plain": [
       "KElbowVisualizer(ax=<Axes: >, estimator=KMeans(n_clusters=9), k=(1, 10))"
      ]
     },
     "execution_count": 22,
     "metadata": {},
     "output_type": "execute_result"
    },
    {
     "data": {
      "image/png": "[encoded data removed]",
      "text/plain": [
       "<Figure size 800x550 with 2 Axes>"
      ]
     },
     "metadata": {},
     "output_type": "display_data"
    }
   ],
   "source": [
    "model = KMeans()\n",
    "visualizer = KElbowVisualizer(model, k=(1,10))\n",
    "visualizer.fit(df2[['Recency_s','Frequency_s','Monetary_s']])\n",
    "# k = 2"
   ]
  },
  {
   "cell_type": "code",
   "execution_count": 23,
   "id": "df66bd5d",
   "metadata": {},
   "outputs": [
    {
     "name": "stderr",
     "output_type": "stream",
     "text": [
      "C:\\Users\\User\\anaconda3\\lib\\site-packages\\sklearn\\cluster\\_kmeans.py:870: FutureWarning: The default value of `n_init` will change from 10 to 'auto' in 1.4. Set the value of `n_init` explicitly to suppress the warning\n",
      "  warnings.warn(\n"
     ]
    }
   ],
   "source": [
    "# KMeans 모델 생성 (k=2)\n",
    "kmeans = KMeans(n_clusters=2)\n",
    "# 모델 학습 및 예측\n",
    "labels = kmeans.fit_predict(df2[['Recency_s','Frequency_s','Monetary_s']])"
   ]
  },
  {
   "cell_type": "code",
   "execution_count": 24,
   "id": "5c7b1951",
   "metadata": {},
   "outputs": [],
   "source": [
    "df2['labels_k'] = labels"
   ]
  },
  {
   "cell_type": "code",
   "execution_count": 25,
   "id": "b311a869",
   "metadata": {},
   "outputs": [
    {
     "data": {
      "text/html": [
       "<div>\n",
       "<style scoped>\n",
       "    .dataframe tbody tr th:only-of-type {\n",
       "        vertical-align: middle;\n",
       "    }\n",
       "\n",
       "    .dataframe tbody tr th {\n",
       "        vertical-align: top;\n",
       "    }\n",
       "\n",
       "    .dataframe thead th {\n",
       "        text-align: right;\n",
       "    }\n",
       "</style>\n",
       "<table border=\"1\" class=\"dataframe\">\n",
       "  <thead>\n",
       "    <tr style=\"text-align: right;\">\n",
       "      <th></th>\n",
       "      <th>Recency_s</th>\n",
       "      <th>Frequency_s</th>\n",
       "      <th>Monetary_s</th>\n",
       "    </tr>\n",
       "    <tr>\n",
       "      <th>labels_k</th>\n",
       "      <th></th>\n",
       "      <th></th>\n",
       "      <th></th>\n",
       "    </tr>\n",
       "  </thead>\n",
       "  <tbody>\n",
       "    <tr>\n",
       "      <th>0</th>\n",
       "      <td>3.707733</td>\n",
       "      <td>1.040649</td>\n",
       "      <td>1.242323</td>\n",
       "    </tr>\n",
       "    <tr>\n",
       "      <th>1</th>\n",
       "      <td>0.195777</td>\n",
       "      <td>1.055173</td>\n",
       "      <td>0.395543</td>\n",
       "    </tr>\n",
       "  </tbody>\n",
       "</table>\n",
       "</div>"
      ],
      "text/plain": [
       "          Recency_s  Frequency_s  Monetary_s\n",
       "labels_k                                    \n",
       "0          3.707733     1.040649    1.242323\n",
       "1          0.195777     1.055173    0.395543"
      ]
     },
     "execution_count": 25,
     "metadata": {},
     "output_type": "execute_result"
    }
   ],
   "source": [
    "# CV = k개 그룹에 대한 각 R,F,M의 표준편차 / 평균\n",
    "cv_k = df2.groupby('labels_k')[['Recency_s', 'Frequency_s', 'Monetary_s']].agg('std') / df2.groupby('labels_k')[['Recency_s', 'Frequency_s', 'Monetary_s']].agg('mean')\n",
    "cv_k"
   ]
  },
  {
   "cell_type": "code",
   "execution_count": 26,
   "id": "df7bca36",
   "metadata": {},
   "outputs": [
    {
     "data": {
      "text/plain": [
       "Recency_s      0.050154\n",
       "Frequency_s    0.496535\n",
       "Monetary_s     0.241499\n",
       "dtype: float64"
      ]
     },
     "execution_count": 26,
     "metadata": {},
     "output_type": "execute_result"
    }
   ],
   "source": [
    "res = cv_k.min(axis = 0) / cv_k.sum()\n",
    "res"
   ]
  },
  {
   "cell_type": "code",
   "execution_count": 27,
   "id": "7d6b92ca",
   "metadata": {},
   "outputs": [
    {
     "name": "stdout",
     "output_type": "stream",
     "text": [
      "0.0636321049561043 0.629970431576547 0.30639746346734875\n"
     ]
    }
   ],
   "source": [
    "# 가중치\n",
    "w1, w2, w3 = (res / res.sum())\n",
    "print(w1, w2, w3)"
   ]
  },
  {
   "cell_type": "code",
   "execution_count": 28,
   "id": "05ab69e1",
   "metadata": {},
   "outputs": [],
   "source": [
    "df2['RFM_Score'] = ((w1 * df2['Recency_8'] + w2 * df2['Frequency_8'] + w3 * df2['Monetary_8']) / 8) * 100"
   ]
  },
  {
   "cell_type": "code",
   "execution_count": 79,
   "id": "6411a9f3",
   "metadata": {},
   "outputs": [
    {
     "data": {
      "text/plain": [
       "VIP고객      33888\n",
       "충성고객       35958\n",
       "잠재VIP고객    41408\n",
       "잠재충성고객     37134\n",
       "놓치면안될고객    32255\n",
       "관심필요고객     37092\n",
       "이탈우려고객     44743\n",
       "겨울잠고객      37522\n",
       "Name: RFM_Class, dtype: int64"
      ]
     },
     "execution_count": 79,
     "metadata": {},
     "output_type": "execute_result"
    }
   ],
   "source": [
    "df2['RFM_Class'] = pd.cut(df2['RFM_Score'], bins = [df2['RFM_Score'].quantile(0), df2['RFM_Score'].quantile(0.125), df2['RFM_Score'].quantile(0.25), df2['RFM_Score'].quantile(0.375), df2['RFM_Score'].quantile(0.5), df2['RFM_Score'].quantile(0.625), df2['RFM_Score'].quantile(0.75), df2['RFM_Score'].quantile(0.875), df2['RFM_Score'].quantile(1)], labels = ['겨울잠고객','이탈우려고객','관심필요고객','놓치면안될고객','잠재충성고객','잠재VIP고객','충성고객','VIP고객'], include_lowest = True).astype(np.dtype('O'))\n",
    "df2['RFM_Class'].value_counts().sort_index(key = lambda x : x.map(lambda y : dict(zip(['겨울잠고객','이탈우려고객','관심필요고객','놓치면안될고객','잠재충성고객','잠재VIP고객','충성고객','VIP고객'], range(8, 0, -1)))[y]))"
   ]
  },
  {
   "cell_type": "code",
   "execution_count": 80,
   "id": "cc4cf01c",
   "metadata": {},
   "outputs": [
    {
     "data": {
      "text/html": [
       "<div>\n",
       "<style scoped>\n",
       "    .dataframe tbody tr th:only-of-type {\n",
       "        vertical-align: middle;\n",
       "    }\n",
       "\n",
       "    .dataframe tbody tr th {\n",
       "        vertical-align: top;\n",
       "    }\n",
       "\n",
       "    .dataframe thead th {\n",
       "        text-align: right;\n",
       "    }\n",
       "</style>\n",
       "<table border=\"1\" class=\"dataframe\">\n",
       "  <thead>\n",
       "    <tr style=\"text-align: right;\">\n",
       "      <th></th>\n",
       "      <th>Recency</th>\n",
       "      <th>Frequency</th>\n",
       "      <th>Monetary</th>\n",
       "    </tr>\n",
       "    <tr>\n",
       "      <th>RFM_Class</th>\n",
       "      <th></th>\n",
       "      <th></th>\n",
       "      <th></th>\n",
       "    </tr>\n",
       "  </thead>\n",
       "  <tbody>\n",
       "    <tr>\n",
       "      <th>VIP고객</th>\n",
       "      <td>0.0</td>\n",
       "      <td>832.0</td>\n",
       "      <td>24057959.0</td>\n",
       "    </tr>\n",
       "    <tr>\n",
       "      <th>충성고객</th>\n",
       "      <td>0.0</td>\n",
       "      <td>459.0</td>\n",
       "      <td>18081942.5</td>\n",
       "    </tr>\n",
       "    <tr>\n",
       "      <th>잠재VIP고객</th>\n",
       "      <td>0.0</td>\n",
       "      <td>296.0</td>\n",
       "      <td>10628446.0</td>\n",
       "    </tr>\n",
       "    <tr>\n",
       "      <th>잠재충성고객</th>\n",
       "      <td>0.0</td>\n",
       "      <td>186.0</td>\n",
       "      <td>6953471.0</td>\n",
       "    </tr>\n",
       "    <tr>\n",
       "      <th>놓치면안될고객</th>\n",
       "      <td>0.0</td>\n",
       "      <td>105.0</td>\n",
       "      <td>6323250.0</td>\n",
       "    </tr>\n",
       "    <tr>\n",
       "      <th>관심필요고객</th>\n",
       "      <td>0.0</td>\n",
       "      <td>56.0</td>\n",
       "      <td>2930139.5</td>\n",
       "    </tr>\n",
       "    <tr>\n",
       "      <th>이탈우려고객</th>\n",
       "      <td>0.0</td>\n",
       "      <td>17.0</td>\n",
       "      <td>640360.0</td>\n",
       "    </tr>\n",
       "    <tr>\n",
       "      <th>겨울잠고객</th>\n",
       "      <td>12.0</td>\n",
       "      <td>0.0</td>\n",
       "      <td>0.0</td>\n",
       "    </tr>\n",
       "  </tbody>\n",
       "</table>\n",
       "</div>"
      ],
      "text/plain": [
       "           Recency  Frequency    Monetary\n",
       "RFM_Class                                \n",
       "VIP고객          0.0      832.0  24057959.0\n",
       "충성고객           0.0      459.0  18081942.5\n",
       "잠재VIP고객        0.0      296.0  10628446.0\n",
       "잠재충성고객         0.0      186.0   6953471.0\n",
       "놓치면안될고객        0.0      105.0   6323250.0\n",
       "관심필요고객         0.0       56.0   2930139.5\n",
       "이탈우려고객         0.0       17.0    640360.0\n",
       "겨울잠고객         12.0        0.0         0.0"
      ]
     },
     "execution_count": 80,
     "metadata": {},
     "output_type": "execute_result"
    }
   ],
   "source": [
    "df2.groupby(by = ['RFM_Class'])[['Recency', 'Frequency', 'Monetary']].agg('median').sort_index(key = lambda x : x.map(lambda y : dict(zip(['겨울잠고객','이탈우려고객','관심필요고객','놓치면안될고객','잠재충성고객','잠재VIP고객','충성고객','VIP고객'], range(8, 0, -1)))[y]))"
   ]
  },
  {
   "cell_type": "code",
   "execution_count": null,
   "id": "3e129686",
   "metadata": {},
   "outputs": [],
   "source": [
    "# 연속 : VIP고객, 충성고객, 잠재VIP고객\n",
    "# 간헐 : 잠재충성고객, 놓치면안될고객\n",
    "# 휴면 : 겨울잠고객,이탈우려고객, 관심필요고객"
   ]
  },
  {
   "cell_type": "code",
   "execution_count": 83,
   "id": "5c7300a3",
   "metadata": {},
   "outputs": [],
   "source": [
    "df2['고객구분_New'] = '임시'\n",
    "df2.loc[df2['RFM_Class'].isin(['VIP고객', '충성고객', '잠재VIP고객']), '고객구분_New'] = '연속'\n",
    "df2.loc[df2['RFM_Class'].isin(['잠재충성고객', '놓치면안될고객']), '고객구분_New'] = '간헐'\n",
    "df2.loc[df2['RFM_Class'].isin(['관심필요고객', '이탈우려고객', '겨울잠고객']), '고객구분_New'] = '휴면'"
   ]
  },
  {
   "cell_type": "code",
   "execution_count": 84,
   "id": "00942ccb",
   "metadata": {},
   "outputs": [
    {
     "data": {
      "text/plain": [
       "휴면    119357\n",
       "연속    111254\n",
       "간헐     69389\n",
       "Name: 고객구분_New, dtype: int64"
      ]
     },
     "execution_count": 84,
     "metadata": {},
     "output_type": "execute_result"
    }
   ],
   "source": [
    "df2['고객구분_New'].value_counts()"
   ]
  },
  {
   "cell_type": "code",
   "execution_count": 30,
   "id": "e85532b6",
   "metadata": {},
   "outputs": [
    {
     "name": "stdout",
     "output_type": "stream",
     "text": [
      "VIP고객\n",
      "0    33121\n",
      "1      540\n",
      "2      227\n",
      "Name: 고객구분, dtype: int64\n",
      "\n",
      "충성고객\n",
      "0    34469\n",
      "1     1038\n",
      "2      451\n",
      "Name: 고객구분, dtype: int64\n",
      "\n",
      "잠재VIP고객\n",
      "0    38619\n",
      "1     1805\n",
      "2      984\n",
      "Name: 고객구분, dtype: int64\n",
      "\n",
      "잠재충성고객\n",
      "0    33689\n",
      "1     2129\n",
      "2     1316\n",
      "Name: 고객구분, dtype: int64\n",
      "\n",
      "놓치면안될고객\n",
      "0    26534\n",
      "1     3544\n",
      "2     2177\n",
      "Name: 고객구분, dtype: int64\n",
      "\n",
      "관심필요고객\n",
      "0    26307\n",
      "1     6563\n",
      "2     4222\n",
      "Name: 고객구분, dtype: int64\n",
      "\n",
      "이탈우려고객\n",
      "0    28217\n",
      "1     9055\n",
      "2     7471\n",
      "Name: 고객구분, dtype: int64\n",
      "\n",
      "겨울잠고객\n",
      "2    31254\n",
      "1     4361\n",
      "0     1907\n",
      "Name: 고객구분, dtype: int64\n",
      "\n"
     ]
    }
   ],
   "source": [
    "for rfm, customer_group in sorted(df2.groupby(by = ['RFM_Class'])[['고객구분']], key = lambda x : dict(zip(['겨울잠고객','이탈우려고객','관심필요고객','놓치면안될고객','잠재충성고객','잠재VIP고객','충성고객','VIP고객'], range(8, 0, -1)))[x[0]]):\n",
    "    print(rfm)\n",
    "    print(customer_group['고객구분'].value_counts())\n",
    "    print()"
   ]
  },
  {
   "cell_type": "code",
   "execution_count": 31,
   "id": "0b32c9dc",
   "metadata": {},
   "outputs": [
    {
     "data": {
      "image/png": "[encoded data removed]",
      "text/plain": [
       "<Figure size 800x550 with 1 Axes>"
      ]
     },
     "metadata": {},
     "output_type": "display_data"
    }
   ],
   "source": [
    "sns.countplot(y = 'RFM_Class', data = df2, orient = 'h', order = reversed(['겨울잠고객','이탈우려고객','관심필요고객','놓치면안될고객', '잠재충성고객','잠재VIP고객','충성고객','VIP고객']))\n",
    "plt.show()"
   ]
  },
  {
   "cell_type": "code",
   "execution_count": 32,
   "id": "b1839662",
   "metadata": {},
   "outputs": [
    {
     "name": "stdout",
     "output_type": "stream",
     "text": [
      "column : Recency,     kruskal_pv : 0.0\n",
      "column : Frequency,     kruskal_pv : 0.0\n",
      "column : Monetary,     kruskal_pv : 0.0\n"
     ]
    }
   ],
   "source": [
    "# RFM_Class 그룹에 따른 R, F, M들의 평균값/중위값 차이가 있는지 분산분석\n",
    "for column in ['Recency', 'Frequency', 'Monetary']:\n",
    "  normally = []\n",
    "  for cla in df2['RFM_Class'].unique():\n",
    "    # 1. 정규성 검정\n",
    "    # shapiro나 kolmogorov-smirnov 같은 검정방법은 데이터의 갯수에 따라 달라지므로 데이터 갯수에 상관없이 하기 위해 normaltest로 검정\n",
    "    cla_tv, cla_pv = normaltest(df2.loc[df2['RFM_Class'] == cla, column])\n",
    "    if cla_pv >= 0.05:\n",
    "      normally.append(True)\n",
    "    else:\n",
    "      normally.append(False)\n",
    "\n",
    "  # 정규성인지 아닌지에 따라 등분산분석 할지 정하기\n",
    "  if all(normally):\n",
    "    # 2. 등분산분석\n",
    "    bartlett_tv, bartlett_pv = bartlett(*[df2.loc[df2['RFM_Class'] == cla, column] for cla in df2['RFM_Class'].unique()])\n",
    "    # 등분산이므로 F검정으로 일원분산분석\n",
    "    if bartlett_pv >= 0.05:\n",
    "      f_oneway_tv, f_oneway_pv = f_oneway(*[df2.loc[df2['RFM_Class'] == cla, column] for cla in df2['RFM_Class'].unique()])\n",
    "      if f_oneway_pv < 0.05:\n",
    "        print(f'column : {column},     f_oneway : {f_oneway_pv}')\n",
    "    # 등분산이 아니므로 Welch_Anova로 일원분산분석\n",
    "    else:\n",
    "      welch_anova_tv, welch_anova_pv = pg.welch_anova(dv = column, between = 'RFM_Class', data = df2)\n",
    "      if welch_anova_pv < 0.05:\n",
    "        print(f'column : {column},     welch_anova_pv : {welch_anova_pv}')\n",
    "  # 정규성을 만족하지 않으므로 Kruskal-Wallis H-test로 일원분산분석\n",
    "  else:\n",
    "    kruskal_tv, kruskal_pv = kruskal(*[df2.loc[df2['RFM_Class'] == cla, column] for cla in df2['RFM_Class'].unique()])\n",
    "    if kruskal_pv < 0.05:\n",
    "      print(f'column : {column},     kruskal_pv : {kruskal_pv}')"
   ]
  },
  {
   "cell_type": "code",
   "execution_count": 33,
   "id": "fac69675",
   "metadata": {},
   "outputs": [
    {
     "data": {
      "text/html": [
       "<div>\n",
       "<style scoped>\n",
       "    .dataframe tbody tr th:only-of-type {\n",
       "        vertical-align: middle;\n",
       "    }\n",
       "\n",
       "    .dataframe tbody tr th {\n",
       "        vertical-align: top;\n",
       "    }\n",
       "\n",
       "    .dataframe thead th {\n",
       "        text-align: right;\n",
       "    }\n",
       "</style>\n",
       "<table border=\"1\" class=\"dataframe\">\n",
       "  <thead>\n",
       "    <tr style=\"text-align: right;\">\n",
       "      <th></th>\n",
       "      <th>Recency</th>\n",
       "      <th>Frequency</th>\n",
       "      <th>Monetary</th>\n",
       "    </tr>\n",
       "    <tr>\n",
       "      <th>RFM_Class</th>\n",
       "      <th></th>\n",
       "      <th></th>\n",
       "      <th></th>\n",
       "    </tr>\n",
       "  </thead>\n",
       "  <tbody>\n",
       "    <tr>\n",
       "      <th>VIP고객</th>\n",
       "      <td>0.0</td>\n",
       "      <td>832.0</td>\n",
       "      <td>24057959.0</td>\n",
       "    </tr>\n",
       "    <tr>\n",
       "      <th>충성고객</th>\n",
       "      <td>0.0</td>\n",
       "      <td>459.0</td>\n",
       "      <td>18081942.5</td>\n",
       "    </tr>\n",
       "    <tr>\n",
       "      <th>잠재VIP고객</th>\n",
       "      <td>0.0</td>\n",
       "      <td>296.0</td>\n",
       "      <td>10628446.0</td>\n",
       "    </tr>\n",
       "    <tr>\n",
       "      <th>잠재충성고객</th>\n",
       "      <td>0.0</td>\n",
       "      <td>186.0</td>\n",
       "      <td>6953471.0</td>\n",
       "    </tr>\n",
       "    <tr>\n",
       "      <th>놓치면안될고객</th>\n",
       "      <td>0.0</td>\n",
       "      <td>105.0</td>\n",
       "      <td>6323250.0</td>\n",
       "    </tr>\n",
       "    <tr>\n",
       "      <th>관심필요고객</th>\n",
       "      <td>0.0</td>\n",
       "      <td>56.0</td>\n",
       "      <td>2930139.5</td>\n",
       "    </tr>\n",
       "    <tr>\n",
       "      <th>이탈우려고객</th>\n",
       "      <td>0.0</td>\n",
       "      <td>17.0</td>\n",
       "      <td>640360.0</td>\n",
       "    </tr>\n",
       "    <tr>\n",
       "      <th>겨울잠고객</th>\n",
       "      <td>12.0</td>\n",
       "      <td>0.0</td>\n",
       "      <td>0.0</td>\n",
       "    </tr>\n",
       "  </tbody>\n",
       "</table>\n",
       "</div>"
      ],
      "text/plain": [
       "           Recency  Frequency    Monetary\n",
       "RFM_Class                                \n",
       "VIP고객          0.0      832.0  24057959.0\n",
       "충성고객           0.0      459.0  18081942.5\n",
       "잠재VIP고객        0.0      296.0  10628446.0\n",
       "잠재충성고객         0.0      186.0   6953471.0\n",
       "놓치면안될고객        0.0      105.0   6323250.0\n",
       "관심필요고객         0.0       56.0   2930139.5\n",
       "이탈우려고객         0.0       17.0    640360.0\n",
       "겨울잠고객         12.0        0.0         0.0"
      ]
     },
     "execution_count": 33,
     "metadata": {},
     "output_type": "execute_result"
    }
   ],
   "source": [
    "df2.groupby(by = ['RFM_Class'])[['Recency', 'Frequency', 'Monetary']].agg('median').sort_index(key = lambda x : x.map(lambda y : dict(zip(['겨울잠고객','이탈우려고객','관심필요고객','놓치면안될고객','잠재충성고객','잠재VIP고객','충성고객','VIP고객'], range(8, 0, -1)))[y]))"
   ]
  },
  {
   "cell_type": "markdown",
   "id": "32b4ad6d",
   "metadata": {},
   "source": [
    "# 데이터 전처리 및 EDA"
   ]
  },
  {
   "cell_type": "code",
   "execution_count": 35,
   "id": "f9805b1e",
   "metadata": {},
   "outputs": [
    {
     "data": {
      "text/html": [
       "<div>\n",
       "<style scoped>\n",
       "    .dataframe tbody tr th:only-of-type {\n",
       "        vertical-align: middle;\n",
       "    }\n",
       "\n",
       "    .dataframe tbody tr th {\n",
       "        vertical-align: top;\n",
       "    }\n",
       "\n",
       "    .dataframe thead th {\n",
       "        text-align: right;\n",
       "    }\n",
       "</style>\n",
       "<table border=\"1\" class=\"dataframe\">\n",
       "  <thead>\n",
       "    <tr style=\"text-align: right;\">\n",
       "      <th></th>\n",
       "      <th>회원번호</th>\n",
       "      <th>남녀구분코드</th>\n",
       "      <th>연령</th>\n",
       "      <th>소지여부_신용</th>\n",
       "      <th>입회일자_신용</th>\n",
       "      <th>입회경과개월수_신용</th>\n",
       "      <th>탈회여부</th>\n",
       "      <th>회원여부_연체</th>\n",
       "      <th>수신거부여부_TM</th>\n",
       "      <th>수신거부여부_DM</th>\n",
       "      <th>...</th>\n",
       "      <th>Frequency</th>\n",
       "      <th>Frequency_8</th>\n",
       "      <th>Monetary</th>\n",
       "      <th>Monetary_8</th>\n",
       "      <th>Recency_s</th>\n",
       "      <th>Frequency_s</th>\n",
       "      <th>Monetary_s</th>\n",
       "      <th>labels_k</th>\n",
       "      <th>RFM_Score</th>\n",
       "      <th>RFM_Class</th>\n",
       "    </tr>\n",
       "  </thead>\n",
       "  <tbody>\n",
       "    <tr>\n",
       "      <th>560</th>\n",
       "      <td>HrVZTCyn</td>\n",
       "      <td>1</td>\n",
       "      <td>29</td>\n",
       "      <td>1</td>\n",
       "      <td>19890601</td>\n",
       "      <td>355</td>\n",
       "      <td>1</td>\n",
       "      <td>0</td>\n",
       "      <td>1</td>\n",
       "      <td>1</td>\n",
       "      <td>...</td>\n",
       "      <td>50</td>\n",
       "      <td>3</td>\n",
       "      <td>1443740</td>\n",
       "      <td>3</td>\n",
       "      <td>0.000000</td>\n",
       "      <td>0.010971</td>\n",
       "      <td>0.001126</td>\n",
       "      <td>0</td>\n",
       "      <td>41.477007</td>\n",
       "      <td>관심필요고객</td>\n",
       "    </tr>\n",
       "    <tr>\n",
       "      <th>1206</th>\n",
       "      <td>SX8gfIgx</td>\n",
       "      <td>2</td>\n",
       "      <td>23</td>\n",
       "      <td>1</td>\n",
       "      <td>19921113</td>\n",
       "      <td>314</td>\n",
       "      <td>1</td>\n",
       "      <td>0</td>\n",
       "      <td>0</td>\n",
       "      <td>0</td>\n",
       "      <td>...</td>\n",
       "      <td>739</td>\n",
       "      <td>8</td>\n",
       "      <td>29703436</td>\n",
       "      <td>8</td>\n",
       "      <td>0.000000</td>\n",
       "      <td>0.115953</td>\n",
       "      <td>0.005181</td>\n",
       "      <td>0</td>\n",
       "      <td>100.000000</td>\n",
       "      <td>VIP고객</td>\n",
       "    </tr>\n",
       "    <tr>\n",
       "      <th>1573</th>\n",
       "      <td>h3Q6G4MP</td>\n",
       "      <td>1</td>\n",
       "      <td>30</td>\n",
       "      <td>1</td>\n",
       "      <td>19840712</td>\n",
       "      <td>414</td>\n",
       "      <td>1</td>\n",
       "      <td>0</td>\n",
       "      <td>1</td>\n",
       "      <td>1</td>\n",
       "      <td>...</td>\n",
       "      <td>746</td>\n",
       "      <td>8</td>\n",
       "      <td>3953950</td>\n",
       "      <td>4</td>\n",
       "      <td>0.000000</td>\n",
       "      <td>0.117020</td>\n",
       "      <td>0.001486</td>\n",
       "      <td>0</td>\n",
       "      <td>84.680127</td>\n",
       "      <td>충성고객</td>\n",
       "    </tr>\n",
       "    <tr>\n",
       "      <th>2765</th>\n",
       "      <td>0QPPvF6w</td>\n",
       "      <td>2</td>\n",
       "      <td>21</td>\n",
       "      <td>1</td>\n",
       "      <td>19900309</td>\n",
       "      <td>346</td>\n",
       "      <td>1</td>\n",
       "      <td>0</td>\n",
       "      <td>0</td>\n",
       "      <td>0</td>\n",
       "      <td>...</td>\n",
       "      <td>21</td>\n",
       "      <td>2</td>\n",
       "      <td>510980</td>\n",
       "      <td>2</td>\n",
       "      <td>0.416667</td>\n",
       "      <td>0.006552</td>\n",
       "      <td>0.000992</td>\n",
       "      <td>0</td>\n",
       "      <td>26.590803</td>\n",
       "      <td>이탈우려고객</td>\n",
       "    </tr>\n",
       "    <tr>\n",
       "      <th>2922</th>\n",
       "      <td>Q9O23VAm</td>\n",
       "      <td>1</td>\n",
       "      <td>23</td>\n",
       "      <td>1</td>\n",
       "      <td>19930608</td>\n",
       "      <td>307</td>\n",
       "      <td>0</td>\n",
       "      <td>0</td>\n",
       "      <td>0</td>\n",
       "      <td>0</td>\n",
       "      <td>...</td>\n",
       "      <td>413</td>\n",
       "      <td>7</td>\n",
       "      <td>18862229</td>\n",
       "      <td>7</td>\n",
       "      <td>0.000000</td>\n",
       "      <td>0.066281</td>\n",
       "      <td>0.003626</td>\n",
       "      <td>0</td>\n",
       "      <td>88.295401</td>\n",
       "      <td>충성고객</td>\n",
       "    </tr>\n",
       "    <tr>\n",
       "      <th>...</th>\n",
       "      <td>...</td>\n",
       "      <td>...</td>\n",
       "      <td>...</td>\n",
       "      <td>...</td>\n",
       "      <td>...</td>\n",
       "      <td>...</td>\n",
       "      <td>...</td>\n",
       "      <td>...</td>\n",
       "      <td>...</td>\n",
       "      <td>...</td>\n",
       "      <td>...</td>\n",
       "      <td>...</td>\n",
       "      <td>...</td>\n",
       "      <td>...</td>\n",
       "      <td>...</td>\n",
       "      <td>...</td>\n",
       "      <td>...</td>\n",
       "      <td>...</td>\n",
       "      <td>...</td>\n",
       "      <td>...</td>\n",
       "      <td>...</td>\n",
       "    </tr>\n",
       "    <tr>\n",
       "      <th>297032</th>\n",
       "      <td>LmNxNQ3y</td>\n",
       "      <td>1</td>\n",
       "      <td>25</td>\n",
       "      <td>1</td>\n",
       "      <td>19881229</td>\n",
       "      <td>361</td>\n",
       "      <td>0</td>\n",
       "      <td>0</td>\n",
       "      <td>0</td>\n",
       "      <td>0</td>\n",
       "      <td>...</td>\n",
       "      <td>0</td>\n",
       "      <td>1</td>\n",
       "      <td>0</td>\n",
       "      <td>1</td>\n",
       "      <td>1.000000</td>\n",
       "      <td>0.003352</td>\n",
       "      <td>0.000918</td>\n",
       "      <td>1</td>\n",
       "      <td>12.500000</td>\n",
       "      <td>겨울잠고객</td>\n",
       "    </tr>\n",
       "    <tr>\n",
       "      <th>297176</th>\n",
       "      <td>2BZ4cPy4</td>\n",
       "      <td>1</td>\n",
       "      <td>21</td>\n",
       "      <td>1</td>\n",
       "      <td>19951208</td>\n",
       "      <td>277</td>\n",
       "      <td>0</td>\n",
       "      <td>0</td>\n",
       "      <td>1</td>\n",
       "      <td>1</td>\n",
       "      <td>...</td>\n",
       "      <td>378</td>\n",
       "      <td>7</td>\n",
       "      <td>22891614</td>\n",
       "      <td>7</td>\n",
       "      <td>0.000000</td>\n",
       "      <td>0.060948</td>\n",
       "      <td>0.004204</td>\n",
       "      <td>0</td>\n",
       "      <td>88.295401</td>\n",
       "      <td>충성고객</td>\n",
       "    </tr>\n",
       "    <tr>\n",
       "      <th>297411</th>\n",
       "      <td>j72lKiNH</td>\n",
       "      <td>2</td>\n",
       "      <td>25</td>\n",
       "      <td>1</td>\n",
       "      <td>19900705</td>\n",
       "      <td>342</td>\n",
       "      <td>1</td>\n",
       "      <td>0</td>\n",
       "      <td>0</td>\n",
       "      <td>0</td>\n",
       "      <td>...</td>\n",
       "      <td>116</td>\n",
       "      <td>4</td>\n",
       "      <td>51091520</td>\n",
       "      <td>8</td>\n",
       "      <td>0.000000</td>\n",
       "      <td>0.021027</td>\n",
       "      <td>0.008251</td>\n",
       "      <td>0</td>\n",
       "      <td>68.501478</td>\n",
       "      <td>잠재충성고객</td>\n",
       "    </tr>\n",
       "    <tr>\n",
       "      <th>298122</th>\n",
       "      <td>3QFTawTF</td>\n",
       "      <td>2</td>\n",
       "      <td>23</td>\n",
       "      <td>1</td>\n",
       "      <td>19950828</td>\n",
       "      <td>281</td>\n",
       "      <td>0</td>\n",
       "      <td>0</td>\n",
       "      <td>0</td>\n",
       "      <td>0</td>\n",
       "      <td>...</td>\n",
       "      <td>22</td>\n",
       "      <td>2</td>\n",
       "      <td>2568090</td>\n",
       "      <td>3</td>\n",
       "      <td>0.000000</td>\n",
       "      <td>0.006704</td>\n",
       "      <td>0.001287</td>\n",
       "      <td>0</td>\n",
       "      <td>33.602376</td>\n",
       "      <td>이탈우려고객</td>\n",
       "    </tr>\n",
       "    <tr>\n",
       "      <th>299547</th>\n",
       "      <td>KEj1Ob0P</td>\n",
       "      <td>2</td>\n",
       "      <td>28</td>\n",
       "      <td>1</td>\n",
       "      <td>19840207</td>\n",
       "      <td>419</td>\n",
       "      <td>1</td>\n",
       "      <td>0</td>\n",
       "      <td>1</td>\n",
       "      <td>1</td>\n",
       "      <td>...</td>\n",
       "      <td>477</td>\n",
       "      <td>7</td>\n",
       "      <td>46848790</td>\n",
       "      <td>8</td>\n",
       "      <td>0.000000</td>\n",
       "      <td>0.076032</td>\n",
       "      <td>0.007642</td>\n",
       "      <td>0</td>\n",
       "      <td>92.125370</td>\n",
       "      <td>충성고객</td>\n",
       "    </tr>\n",
       "  </tbody>\n",
       "</table>\n",
       "<p>511 rows × 314 columns</p>\n",
       "</div>"
      ],
      "text/plain": [
       "            회원번호  남녀구분코드  연령  소지여부_신용   입회일자_신용  입회경과개월수_신용  탈회여부  회원여부_연체  \\\n",
       "560     HrVZTCyn       1  29        1  19890601         355     1        0   \n",
       "1206    SX8gfIgx       2  23        1  19921113         314     1        0   \n",
       "1573    h3Q6G4MP       1  30        1  19840712         414     1        0   \n",
       "2765    0QPPvF6w       2  21        1  19900309         346     1        0   \n",
       "2922    Q9O23VAm       1  23        1  19930608         307     0        0   \n",
       "...          ...     ...  ..      ...       ...         ...   ...      ...   \n",
       "297032  LmNxNQ3y       1  25        1  19881229         361     0        0   \n",
       "297176  2BZ4cPy4       1  21        1  19951208         277     0        0   \n",
       "297411  j72lKiNH       2  25        1  19900705         342     1        0   \n",
       "298122  3QFTawTF       2  23        1  19950828         281     0        0   \n",
       "299547  KEj1Ob0P       2  28        1  19840207         419     1        0   \n",
       "\n",
       "        수신거부여부_TM  수신거부여부_DM  ...  Frequency  Frequency_8  Monetary  \\\n",
       "560             1          1  ...         50            3   1443740   \n",
       "1206            0          0  ...        739            8  29703436   \n",
       "1573            1          1  ...        746            8   3953950   \n",
       "2765            0          0  ...         21            2    510980   \n",
       "2922            0          0  ...        413            7  18862229   \n",
       "...           ...        ...  ...        ...          ...       ...   \n",
       "297032          0          0  ...          0            1         0   \n",
       "297176          1          1  ...        378            7  22891614   \n",
       "297411          0          0  ...        116            4  51091520   \n",
       "298122          0          0  ...         22            2   2568090   \n",
       "299547          1          1  ...        477            7  46848790   \n",
       "\n",
       "       Monetary_8 Recency_s  Frequency_s  Monetary_s  labels_k   RFM_Score  \\\n",
       "560             3  0.000000     0.010971    0.001126         0   41.477007   \n",
       "1206            8  0.000000     0.115953    0.005181         0  100.000000   \n",
       "1573            4  0.000000     0.117020    0.001486         0   84.680127   \n",
       "2765            2  0.416667     0.006552    0.000992         0   26.590803   \n",
       "2922            7  0.000000     0.066281    0.003626         0   88.295401   \n",
       "...           ...       ...          ...         ...       ...         ...   \n",
       "297032          1  1.000000     0.003352    0.000918         1   12.500000   \n",
       "297176          7  0.000000     0.060948    0.004204         0   88.295401   \n",
       "297411          8  0.000000     0.021027    0.008251         0   68.501478   \n",
       "298122          3  0.000000     0.006704    0.001287         0   33.602376   \n",
       "299547          8  0.000000     0.076032    0.007642         0   92.125370   \n",
       "\n",
       "       RFM_Class  \n",
       "560       관심필요고객  \n",
       "1206       VIP고객  \n",
       "1573        충성고객  \n",
       "2765      이탈우려고객  \n",
       "2922        충성고객  \n",
       "...          ...  \n",
       "297032     겨울잠고객  \n",
       "297176      충성고객  \n",
       "297411    잠재충성고객  \n",
       "298122    이탈우려고객  \n",
       "299547      충성고객  \n",
       "\n",
       "[511 rows x 314 columns]"
      ]
     },
     "execution_count": 35,
     "metadata": {},
     "output_type": "execute_result"
    }
   ],
   "source": [
    "# 연령 개월수보다 입회경과개월수_신용가 더 큰 것들\n",
    "df2[df2['연령'] * 12 >= df2['입회경과개월수_신용']]"
   ]
  },
  {
   "cell_type": "code",
   "execution_count": null,
   "id": "bb0f3b46",
   "metadata": {},
   "outputs": [],
   "source": []
  },
  {
   "cell_type": "code",
   "execution_count": 70,
   "id": "f3d26b8b",
   "metadata": {},
   "outputs": [
    {
     "data": {
      "text/plain": [
       "2735      104.500000\n",
       "2786      109.083333\n",
       "3203      104.666667\n",
       "3609      102.250000\n",
       "3692      104.000000\n",
       "             ...    \n",
       "297230    100.166667\n",
       "298141    103.583333\n",
       "298290    103.000000\n",
       "298762    107.666667\n",
       "299424    109.000000\n",
       "Length: 364, dtype: float64"
      ]
     },
     "execution_count": 70,
     "metadata": {},
     "output_type": "execute_result"
    }
   ],
   "source": [
    "t = (df2['연령'] + (df2['입회경과개월수_신용'] / 12))\n",
    "t[t > 100]"
   ]
  },
  {
   "cell_type": "code",
   "execution_count": 74,
   "id": "bc3355fa",
   "metadata": {},
   "outputs": [
    {
     "data": {
      "text/plain": [
       "1         25.750000\n",
       "7         27.666667\n",
       "21        28.666667\n",
       "27        22.833333\n",
       "53        28.916667\n",
       "            ...    \n",
       "299876    23.833333\n",
       "299938    28.333333\n",
       "299951    29.333333\n",
       "299954    28.000000\n",
       "299958    28.583333\n",
       "Length: 8270, dtype: float64"
      ]
     },
     "execution_count": 74,
     "metadata": {},
     "output_type": "execute_result"
    }
   ],
   "source": [
    "t[(t >= 20) & (t < 30)]"
   ]
  },
  {
   "cell_type": "code",
   "execution_count": 71,
   "id": "88afe02a",
   "metadata": {},
   "outputs": [
    {
     "data": {
      "text/plain": [
       "count    300000.000000\n",
       "mean         53.210386\n",
       "std          13.724327\n",
       "min          19.666667\n",
       "25%          43.083333\n",
       "50%          52.250000\n",
       "75%          62.083333\n",
       "max         120.166667\n",
       "dtype: float64"
      ]
     },
     "execution_count": 71,
     "metadata": {},
     "output_type": "execute_result"
    }
   ],
   "source": [
    "t.describe()"
   ]
  },
  {
   "cell_type": "code",
   "execution_count": 73,
   "id": "c0e83841",
   "metadata": {},
   "outputs": [
    {
     "data": {
      "text/plain": [
       "2         44.750000\n",
       "5         38.916667\n",
       "6         39.583333\n",
       "8         44.416667\n",
       "12        37.583333\n",
       "            ...    \n",
       "299992    39.750000\n",
       "299993    49.666667\n",
       "299995    48.500000\n",
       "299997    42.583333\n",
       "299999    36.916667\n",
       "Length: 122571, dtype: float64"
      ]
     },
     "execution_count": 73,
     "metadata": {},
     "output_type": "execute_result"
    }
   ],
   "source": [
    "t[(t >= 30) & (t < 50)]"
   ]
  },
  {
   "cell_type": "code",
   "execution_count": 75,
   "id": "89e5502f",
   "metadata": {},
   "outputs": [
    {
     "data": {
      "text/plain": [
       "0         68.500000\n",
       "3         83.166667\n",
       "4         88.333333\n",
       "9         50.416667\n",
       "10        70.916667\n",
       "            ...    \n",
       "299990    65.833333\n",
       "299991    52.916667\n",
       "299994    50.083333\n",
       "299996    72.750000\n",
       "299998    54.666667\n",
       "Length: 168467, dtype: float64"
      ]
     },
     "execution_count": 75,
     "metadata": {},
     "output_type": "execute_result"
    }
   ],
   "source": [
    "t[t > 50]"
   ]
  },
  {
   "cell_type": "code",
   "execution_count": null,
   "id": "f76b43b7",
   "metadata": {},
   "outputs": [],
   "source": [
    "df2['']"
   ]
  }
 ],
 "metadata": {
  "kernelspec": {
   "display_name": "Python 3 (ipykernel)",
   "language": "python",
   "name": "python3"
  },
  "language_info": {
   "codemirror_mode": {
    "name": "ipython",
    "version": 3
   },
   "file_extension": ".py",
   "mimetype": "text/x-python",
   "name": "python",
   "nbconvert_exporter": "python",
   "pygments_lexer": "ipython3",
   "version": "3.10.9"
  }
 },
 "nbformat": 4,
 "nbformat_minor": 5
}
