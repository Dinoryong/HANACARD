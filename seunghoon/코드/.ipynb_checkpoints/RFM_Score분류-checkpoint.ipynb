{
 "cells": [
  {
   "cell_type": "code",
   "execution_count": 1,
   "id": "5de80d3a",
   "metadata": {},
   "outputs": [],
   "source": [
    "import pandas as pd\n",
    "import numpy as np\n",
    "import matplotlib.pyplot as plt\n",
    "import seaborn as sns\n",
    "import scipy.stats as stats\n",
    "from sklearn.preprocessing import LabelEncoder\n",
    "from sklearn.model_selection import train_test_split\n",
    "from sklearn.ensemble import ExtraTreesClassifier\n",
    "from sklearn.ensemble import RandomForestClassifier\n",
    "from sklearn.metrics import accuracy_score\n",
    "from matplotlib.ticker import ScalarFormatter\n",
    "from sklearn.metrics import confusion_matrix\n",
    "from sklearn.preprocessing import StandardScaler\n",
    "from sklearn.decomposition import PCA\n",
    "from sklearn.preprocessing import MinMaxScaler\n",
    "from sklearn.cluster import KMeans\n",
    "from yellowbrick.cluster import KElbowVisualizer"
   ]
  },
  {
   "cell_type": "code",
   "execution_count": 2,
   "id": "a051e7e0",
   "metadata": {},
   "outputs": [],
   "source": [
    "import os\n",
    "\n",
    "if os.name == 'posix':\n",
    "    plt.rc(\"font\", family=\"AppleGothic\")\n",
    "else:\n",
    "    plt.rc(\"font\", family=\"Malgun Gothic\")"
   ]
  },
  {
   "cell_type": "code",
   "execution_count": 3,
   "id": "4152a650",
   "metadata": {},
   "outputs": [],
   "source": [
    "df = pd.read_csv(r'C:\\Users\\User\\Desktop\\DigitalHana_Project2\\Data\\HanaCard_Data.csv', encoding = 'cp949')"
   ]
  },
  {
   "cell_type": "code",
   "execution_count": 4,
   "id": "b591c54c",
   "metadata": {},
   "outputs": [],
   "source": [
    "df2 = df.copy()"
   ]
  },
  {
   "cell_type": "code",
   "execution_count": 5,
   "id": "191f20c1",
   "metadata": {},
   "outputs": [],
   "source": [
    "d = {\n",
    "    '21.Active_연속' : 0,\n",
    "    '22.Active_간헐' : 1,\n",
    "    '34.휴면_9M+' : 2,\n",
    "    '32.휴면_6M-' : 2,\n",
    "    '33.휴면_9M-' : 2,\n",
    "    '31.휴면_3M' : 2\n",
    "}\n",
    "df2['고객구분'] = df2['고객구분'].map(d)"
   ]
  },
  {
   "cell_type": "markdown",
   "id": "f131c765",
   "metadata": {},
   "source": [
    "# RFM 0,1 분류"
   ]
  },
  {
   "cell_type": "code",
   "execution_count": 6,
   "id": "c76b13b9",
   "metadata": {},
   "outputs": [],
   "source": [
    "df2['Recency'] = (df[['이용후경과월_신용','이용후경과월_체크', '이용후경과월_카드론']]).min(axis= 1)"
   ]
  },
  {
   "cell_type": "code",
   "execution_count": 7,
   "id": "51da01c2",
   "metadata": {},
   "outputs": [],
   "source": [
    "df2['Recency_2'] = 0\n",
    "const = (df2[['이용건수_신용_B0M', '이용건수_체크_B0M', '이용건수_카드론_B0M']].sum(axis = 1)).quantile(0.40)\n",
    "\n",
    "df2.loc[(df2['Recency'] == 0) & (df2[['이용건수_신용_B0M', '이용건수_체크_B0M', '이용건수_카드론_B0M']].sum(axis = 1) >= const), ['Recency_2']] = 1"
   ]
  },
  {
   "cell_type": "code",
   "execution_count": 8,
   "id": "39e3185c",
   "metadata": {},
   "outputs": [
    {
     "data": {
      "text/plain": [
       "1    183224\n",
       "0    116776\n",
       "Name: Recency_2, dtype: int64"
      ]
     },
     "execution_count": 8,
     "metadata": {},
     "output_type": "execute_result"
    }
   ],
   "source": [
    "df2['Recency_2'].value_counts()"
   ]
  },
  {
   "cell_type": "code",
   "execution_count": 9,
   "id": "08df4f95",
   "metadata": {},
   "outputs": [],
   "source": [
    "df2['Frequency'] = df2['이용건수_신용_R12M'] + df2['이용건수_체크_R12M'] + df2['이용건수_카드론_R12M']"
   ]
  },
  {
   "cell_type": "code",
   "execution_count": 10,
   "id": "eead8622",
   "metadata": {},
   "outputs": [],
   "source": [
    "threshold = df2['Frequency'].quantile(0.9)\n",
    "df2['Frequency_2'] = df2['Frequency'].apply(lambda x: 1 if x >= threshold else 0)"
   ]
  },
  {
   "cell_type": "code",
   "execution_count": 11,
   "id": "6ba02fa4",
   "metadata": {},
   "outputs": [],
   "source": [
    "df2['Monetary'] = df2['이용금액_신용_R12M'] + df2['이용금액_체크_R12M'] + df2['이용금액_카드론_R12M'] + df2['이용금액_업종기준']"
   ]
  },
  {
   "cell_type": "code",
   "execution_count": 12,
   "id": "ae32da04",
   "metadata": {},
   "outputs": [],
   "source": [
    "threshold = df2['Monetary'].quantile(0.9)\n",
    "df2['Monetary_2'] = df2['Monetary'].apply(lambda x: 1 if x >= threshold else 0)"
   ]
  },
  {
   "cell_type": "code",
   "execution_count": 13,
   "id": "8e9ebe07",
   "metadata": {},
   "outputs": [],
   "source": [
    "df2['고객분류_RFM_2'] = '임시'\n",
    "\n",
    "df2.loc[(df2['Recency_2'] == 1) & (df2['Frequency_2'] == 1) & (df2['Monetary_2'] == 1), ['고객분류_RFM_2']] = 'VIP고객'\n",
    "df2.loc[(df2['Recency_2'] == 1) & (df2['Frequency_2'] == 1) & (df2['Monetary_2'] == 0), ['고객분류_RFM_2']] = '충성고객'\n",
    "df2.loc[(df2['Recency_2'] == 1) & (df2['Frequency_2'] == 0) & (df2['Monetary_2'] == 1), ['고객분류_RFM_2']] = '잠재VIP고객'\n",
    "df2.loc[(df2['Recency_2'] == 1) & (df2['Frequency_2'] == 0) & (df2['Monetary_2'] == 0), ['고객분류_RFM_2']] = '잠재충성고객'\n",
    "df2.loc[(df2['Recency_2'] == 0) & (df2['Frequency_2'] == 1) & (df2['Monetary_2'] == 1), ['고객분류_RFM_2']] = '놓치면안될고객'\n",
    "df2.loc[(df2['Recency_2'] == 0) & (df2['Frequency_2'] == 1) & (df2['Monetary_2'] == 0), ['고객분류_RFM_2']] = '관심필요고객'\n",
    "df2.loc[(df2['Recency_2'] == 0) & (df2['Frequency_2'] == 0) & (df2['Monetary_2'] == 1), ['고객분류_RFM_2']] = '이탈우려고객'\n",
    "df2.loc[(df2['Recency_2'] == 0) & (df2['Frequency_2'] == 0) & (df2['Monetary_2'] == 0), ['고객분류_RFM_2']] = '겨울잠고객'"
   ]
  },
  {
   "cell_type": "code",
   "execution_count": 14,
   "id": "dc080fdc",
   "metadata": {},
   "outputs": [
    {
     "data": {
      "text/plain": [
       "잠재충성고객     138529\n",
       "겨울잠고객      114367\n",
       "충성고객        16767\n",
       "잠재VIP고객     15001\n",
       "VIP고객       12927\n",
       "이탈우려고객       2000\n",
       "관심필요고객        337\n",
       "놓치면안될고객        72\n",
       "Name: 고객분류_RFM_2, dtype: int64"
      ]
     },
     "execution_count": 14,
     "metadata": {},
     "output_type": "execute_result"
    }
   ],
   "source": [
    "df2['고객분류_RFM_2'].value_counts()"
   ]
  },
  {
   "cell_type": "code",
   "execution_count": 15,
   "id": "c7fba95d",
   "metadata": {},
   "outputs": [
    {
     "data": {
      "text/plain": [
       "잠재충성고객     138529\n",
       "겨울잠고객      114367\n",
       "충성고객        16767\n",
       "잠재VIP고객     15001\n",
       "VIP고객       12927\n",
       "이탈우려고객       2000\n",
       "관심필요고객        337\n",
       "놓치면안될고객        72\n",
       "Name: 고객분류_RFM_2, dtype: int64"
      ]
     },
     "execution_count": 15,
     "metadata": {},
     "output_type": "execute_result"
    }
   ],
   "source": [
    "df2['고객분류_RFM_2'].value_counts()"
   ]
  },
  {
   "cell_type": "markdown",
   "id": "21d937e3",
   "metadata": {},
   "source": [
    "# RFM 5개 값 분류"
   ]
  },
  {
   "cell_type": "code",
   "execution_count": 16,
   "id": "58c57d06",
   "metadata": {},
   "outputs": [],
   "source": [
    "df2['Recency_5'] = (df[['이용후경과월_신용','이용후경과월_체크', '이용후경과월_카드론']]).min(axis= 1)"
   ]
  },
  {
   "cell_type": "code",
   "execution_count": 17,
   "id": "415c7d22",
   "metadata": {},
   "outputs": [
    {
     "data": {
      "text/plain": [
       "0     243637\n",
       "1       8549\n",
       "2       5339\n",
       "3       4252\n",
       "4       3121\n",
       "5       2768\n",
       "6       2468\n",
       "7       2273\n",
       "8       1903\n",
       "9       1721\n",
       "10      1644\n",
       "11      1539\n",
       "12     20786\n",
       "Name: Recency_5, dtype: int64"
      ]
     },
     "execution_count": 17,
     "metadata": {},
     "output_type": "execute_result"
    }
   ],
   "source": [
    "df2['Recency_5'].value_counts().sort_index()"
   ]
  },
  {
   "cell_type": "code",
   "execution_count": 18,
   "id": "5e011e20",
   "metadata": {},
   "outputs": [],
   "source": [
    "df2['Recency_5'] = df2['Recency'].map(lambda x : {0 : 5, 1 : 4, 2 :4, 3 : 4, 4: 3, 5:3, 6:3, 7:2, 8:2, 9:2, 10:1, 11:1, 12:1}[x])"
   ]
  },
  {
   "cell_type": "code",
   "execution_count": 19,
   "id": "57d21aec",
   "metadata": {},
   "outputs": [],
   "source": [
    "df2['Frequency_5'] = pd.cut(df2['Frequency'], bins = [df2['Frequency'].quantile(0), df2['Frequency'].quantile(0.2), df2['Frequency'].quantile(0.4),\n",
    "                                 df2['Frequency'].quantile(0.6), df2['Frequency'].quantile(0.8), df2['Frequency'].quantile(1)],\n",
    "      labels = [1, 2, 3, 4, 5], include_lowest = True)"
   ]
  },
  {
   "cell_type": "code",
   "execution_count": 20,
   "id": "e877594e",
   "metadata": {},
   "outputs": [],
   "source": [
    "df2['Monetary_5'] = pd.cut(df2['Monetary'], bins = [df2['Monetary'].quantile(0), df2['Monetary'].quantile(0.2), df2['Monetary'].quantile(0.4),\n",
    "                                 df2['Monetary'].quantile(0.6), df2['Monetary'].quantile(0.8), df2['Monetary'].quantile(1)],\n",
    "      labels = [1, 2, 3, 4, 5], include_lowest = True)"
   ]
  },
  {
   "cell_type": "code",
   "execution_count": 21,
   "id": "19ce3fbb",
   "metadata": {},
   "outputs": [],
   "source": [
    "scaler = MinMaxScaler()\n",
    "df2['Recency_s'] = scaler.fit_transform(df2[['Recency']])\n",
    "df2['Frequency_s'] = scaler.fit_transform(df2[['Frequency']])\n",
    "df2['Monetary_s'] = scaler.fit_transform(df2[['Monetary']])"
   ]
  },
  {
   "cell_type": "code",
   "execution_count": 22,
   "id": "3fc420f8",
   "metadata": {},
   "outputs": [
    {
     "name": "stderr",
     "output_type": "stream",
     "text": [
      "C:\\Users\\User\\anaconda3\\lib\\site-packages\\sklearn\\cluster\\_kmeans.py:870: FutureWarning: The default value of `n_init` will change from 10 to 'auto' in 1.4. Set the value of `n_init` explicitly to suppress the warning\n",
      "  warnings.warn(\n",
      "C:\\Users\\User\\anaconda3\\lib\\site-packages\\sklearn\\cluster\\_kmeans.py:870: FutureWarning: The default value of `n_init` will change from 10 to 'auto' in 1.4. Set the value of `n_init` explicitly to suppress the warning\n",
      "  warnings.warn(\n",
      "C:\\Users\\User\\anaconda3\\lib\\site-packages\\sklearn\\cluster\\_kmeans.py:870: FutureWarning: The default value of `n_init` will change from 10 to 'auto' in 1.4. Set the value of `n_init` explicitly to suppress the warning\n",
      "  warnings.warn(\n",
      "C:\\Users\\User\\anaconda3\\lib\\site-packages\\sklearn\\cluster\\_kmeans.py:870: FutureWarning: The default value of `n_init` will change from 10 to 'auto' in 1.4. Set the value of `n_init` explicitly to suppress the warning\n",
      "  warnings.warn(\n",
      "C:\\Users\\User\\anaconda3\\lib\\site-packages\\sklearn\\cluster\\_kmeans.py:870: FutureWarning: The default value of `n_init` will change from 10 to 'auto' in 1.4. Set the value of `n_init` explicitly to suppress the warning\n",
      "  warnings.warn(\n",
      "C:\\Users\\User\\anaconda3\\lib\\site-packages\\sklearn\\cluster\\_kmeans.py:870: FutureWarning: The default value of `n_init` will change from 10 to 'auto' in 1.4. Set the value of `n_init` explicitly to suppress the warning\n",
      "  warnings.warn(\n",
      "C:\\Users\\User\\anaconda3\\lib\\site-packages\\sklearn\\cluster\\_kmeans.py:870: FutureWarning: The default value of `n_init` will change from 10 to 'auto' in 1.4. Set the value of `n_init` explicitly to suppress the warning\n",
      "  warnings.warn(\n",
      "C:\\Users\\User\\anaconda3\\lib\\site-packages\\sklearn\\cluster\\_kmeans.py:870: FutureWarning: The default value of `n_init` will change from 10 to 'auto' in 1.4. Set the value of `n_init` explicitly to suppress the warning\n",
      "  warnings.warn(\n",
      "C:\\Users\\User\\anaconda3\\lib\\site-packages\\sklearn\\cluster\\_kmeans.py:870: FutureWarning: The default value of `n_init` will change from 10 to 'auto' in 1.4. Set the value of `n_init` explicitly to suppress the warning\n",
      "  warnings.warn(\n"
     ]
    },
    {
     "data": {
      "text/html": [
       "<style>#sk-container-id-1 {color: black;background-color: white;}#sk-container-id-1 pre{padding: 0;}#sk-container-id-1 div.sk-toggleable {background-color: white;}#sk-container-id-1 label.sk-toggleable__label {cursor: pointer;display: block;width: 100%;margin-bottom: 0;padding: 0.3em;box-sizing: border-box;text-align: center;}#sk-container-id-1 label.sk-toggleable__label-arrow:before {content: \"▸\";float: left;margin-right: 0.25em;color: #696969;}#sk-container-id-1 label.sk-toggleable__label-arrow:hover:before {color: black;}#sk-container-id-1 div.sk-estimator:hover label.sk-toggleable__label-arrow:before {color: black;}#sk-container-id-1 div.sk-toggleable__content {max-height: 0;max-width: 0;overflow: hidden;text-align: left;background-color: #f0f8ff;}#sk-container-id-1 div.sk-toggleable__content pre {margin: 0.2em;color: black;border-radius: 0.25em;background-color: #f0f8ff;}#sk-container-id-1 input.sk-toggleable__control:checked~div.sk-toggleable__content {max-height: 200px;max-width: 100%;overflow: auto;}#sk-container-id-1 input.sk-toggleable__control:checked~label.sk-toggleable__label-arrow:before {content: \"▾\";}#sk-container-id-1 div.sk-estimator input.sk-toggleable__control:checked~label.sk-toggleable__label {background-color: #d4ebff;}#sk-container-id-1 div.sk-label input.sk-toggleable__control:checked~label.sk-toggleable__label {background-color: #d4ebff;}#sk-container-id-1 input.sk-hidden--visually {border: 0;clip: rect(1px 1px 1px 1px);clip: rect(1px, 1px, 1px, 1px);height: 1px;margin: -1px;overflow: hidden;padding: 0;position: absolute;width: 1px;}#sk-container-id-1 div.sk-estimator {font-family: monospace;background-color: #f0f8ff;border: 1px dotted black;border-radius: 0.25em;box-sizing: border-box;margin-bottom: 0.5em;}#sk-container-id-1 div.sk-estimator:hover {background-color: #d4ebff;}#sk-container-id-1 div.sk-parallel-item::after {content: \"\";width: 100%;border-bottom: 1px solid gray;flex-grow: 1;}#sk-container-id-1 div.sk-label:hover label.sk-toggleable__label {background-color: #d4ebff;}#sk-container-id-1 div.sk-serial::before {content: \"\";position: absolute;border-left: 1px solid gray;box-sizing: border-box;top: 0;bottom: 0;left: 50%;z-index: 0;}#sk-container-id-1 div.sk-serial {display: flex;flex-direction: column;align-items: center;background-color: white;padding-right: 0.2em;padding-left: 0.2em;position: relative;}#sk-container-id-1 div.sk-item {position: relative;z-index: 1;}#sk-container-id-1 div.sk-parallel {display: flex;align-items: stretch;justify-content: center;background-color: white;position: relative;}#sk-container-id-1 div.sk-item::before, #sk-container-id-1 div.sk-parallel-item::before {content: \"\";position: absolute;border-left: 1px solid gray;box-sizing: border-box;top: 0;bottom: 0;left: 50%;z-index: -1;}#sk-container-id-1 div.sk-parallel-item {display: flex;flex-direction: column;z-index: 1;position: relative;background-color: white;}#sk-container-id-1 div.sk-parallel-item:first-child::after {align-self: flex-end;width: 50%;}#sk-container-id-1 div.sk-parallel-item:last-child::after {align-self: flex-start;width: 50%;}#sk-container-id-1 div.sk-parallel-item:only-child::after {width: 0;}#sk-container-id-1 div.sk-dashed-wrapped {border: 1px dashed gray;margin: 0 0.4em 0.5em 0.4em;box-sizing: border-box;padding-bottom: 0.4em;background-color: white;}#sk-container-id-1 div.sk-label label {font-family: monospace;font-weight: bold;display: inline-block;line-height: 1.2em;}#sk-container-id-1 div.sk-label-container {text-align: center;}#sk-container-id-1 div.sk-container {/* jupyter's `normalize.less` sets `[hidden] { display: none; }` but bootstrap.min.css set `[hidden] { display: none !important; }` so we also need the `!important` here to be able to override the default hidden behavior on the sphinx rendered scikit-learn.org. See: https://github.com/scikit-learn/scikit-learn/issues/21755 */display: inline-block !important;position: relative;}#sk-container-id-1 div.sk-text-repr-fallback {display: none;}</style><div id=\"sk-container-id-1\" class=\"sk-top-container\"><div class=\"sk-text-repr-fallback\"><pre>KElbowVisualizer(ax=&lt;Axes: &gt;, estimator=KMeans(n_clusters=9), k=(1, 10))</pre><b>In a Jupyter environment, please rerun this cell to show the HTML representation or trust the notebook. <br />On GitHub, the HTML representation is unable to render, please try loading this page with nbviewer.org.</b></div><div class=\"sk-container\" hidden><div class=\"sk-item sk-dashed-wrapped\"><div class=\"sk-label-container\"><div class=\"sk-label sk-toggleable\"><input class=\"sk-toggleable__control sk-hidden--visually\" id=\"sk-estimator-id-1\" type=\"checkbox\" ><label for=\"sk-estimator-id-1\" class=\"sk-toggleable__label sk-toggleable__label-arrow\">KElbowVisualizer</label><div class=\"sk-toggleable__content\"><pre>KElbowVisualizer(ax=&lt;Axes: &gt;, estimator=KMeans(n_clusters=9), k=(1, 10))</pre></div></div></div><div class=\"sk-parallel\"><div class=\"sk-parallel-item\"><div class=\"sk-item\"><div class=\"sk-label-container\"><div class=\"sk-label sk-toggleable\"><input class=\"sk-toggleable__control sk-hidden--visually\" id=\"sk-estimator-id-2\" type=\"checkbox\" ><label for=\"sk-estimator-id-2\" class=\"sk-toggleable__label sk-toggleable__label-arrow\">estimator: KMeans</label><div class=\"sk-toggleable__content\"><pre>KMeans(n_clusters=9)</pre></div></div></div><div class=\"sk-serial\"><div class=\"sk-item\"><div class=\"sk-estimator sk-toggleable\"><input class=\"sk-toggleable__control sk-hidden--visually\" id=\"sk-estimator-id-3\" type=\"checkbox\" ><label for=\"sk-estimator-id-3\" class=\"sk-toggleable__label sk-toggleable__label-arrow\">KMeans</label><div class=\"sk-toggleable__content\"><pre>KMeans(n_clusters=9)</pre></div></div></div></div></div></div></div></div></div></div>"
      ],
      "text/plain": [
       "KElbowVisualizer(ax=<Axes: >, estimator=KMeans(n_clusters=9), k=(1, 10))"
      ]
     },
     "execution_count": 22,
     "metadata": {},
     "output_type": "execute_result"
    },
    {
     "data": {
      "image/png": "[encoded data removed]",
      "text/plain": [
       "<Figure size 800x550 with 2 Axes>"
      ]
     },
     "metadata": {},
     "output_type": "display_data"
    }
   ],
   "source": [
    "model = KMeans()\n",
    "visualizer = KElbowVisualizer(model, k=(1,10))\n",
    "visualizer.fit(df2[['Recency_s','Frequency_s','Monetary_s']])\n",
    "# k = 2"
   ]
  },
  {
   "cell_type": "code",
   "execution_count": 23,
   "id": "df66bd5d",
   "metadata": {},
   "outputs": [
    {
     "name": "stderr",
     "output_type": "stream",
     "text": [
      "C:\\Users\\User\\anaconda3\\lib\\site-packages\\sklearn\\cluster\\_kmeans.py:870: FutureWarning: The default value of `n_init` will change from 10 to 'auto' in 1.4. Set the value of `n_init` explicitly to suppress the warning\n",
      "  warnings.warn(\n"
     ]
    }
   ],
   "source": [
    "# KMeans 모델 생성 (k=2)\n",
    "kmeans = KMeans(n_clusters=2)\n",
    "# 모델 학습 및 예측\n",
    "labels = kmeans.fit_predict(df2[['Recency_s','Frequency_s','Monetary_s']])"
   ]
  },
  {
   "cell_type": "code",
   "execution_count": 24,
   "id": "5c7b1951",
   "metadata": {},
   "outputs": [],
   "source": [
    "df2['labels_k'] = labels"
   ]
  },
  {
   "cell_type": "code",
   "execution_count": 25,
   "id": "2acbf973",
   "metadata": {},
   "outputs": [
    {
     "data": {
      "text/plain": [
       "0.018152909471754602"
      ]
     },
     "execution_count": 25,
     "metadata": {},
     "output_type": "execute_result"
    }
   ],
   "source": [
    "df2.loc[df2['labels_k'] == 0, 'Recency_s'].mean()"
   ]
  },
  {
   "cell_type": "code",
   "execution_count": 26,
   "id": "d85bb8cf",
   "metadata": {},
   "outputs": [
    {
     "data": {
      "text/plain": [
       "0.8871801612337888"
      ]
     },
     "execution_count": 26,
     "metadata": {},
     "output_type": "execute_result"
    }
   ],
   "source": [
    "df2.loc[df2['labels_k'] == 1, 'Recency_s'].mean()"
   ]
  },
  {
   "cell_type": "code",
   "execution_count": 27,
   "id": "cc890a62",
   "metadata": {},
   "outputs": [
    {
     "data": {
      "text/html": [
       "<div>\n",
       "<style scoped>\n",
       "    .dataframe tbody tr th:only-of-type {\n",
       "        vertical-align: middle;\n",
       "    }\n",
       "\n",
       "    .dataframe tbody tr th {\n",
       "        vertical-align: top;\n",
       "    }\n",
       "\n",
       "    .dataframe thead th {\n",
       "        text-align: right;\n",
       "    }\n",
       "</style>\n",
       "<table border=\"1\" class=\"dataframe\">\n",
       "  <thead>\n",
       "    <tr style=\"text-align: right;\">\n",
       "      <th></th>\n",
       "      <th>Recency_s</th>\n",
       "      <th>Frequency_s</th>\n",
       "      <th>Monetary_s</th>\n",
       "    </tr>\n",
       "    <tr>\n",
       "      <th>labels_k</th>\n",
       "      <th></th>\n",
       "      <th></th>\n",
       "      <th></th>\n",
       "    </tr>\n",
       "  </thead>\n",
       "  <tbody>\n",
       "    <tr>\n",
       "      <th>0</th>\n",
       "      <td>0.018153</td>\n",
       "      <td>0.045819</td>\n",
       "      <td>0.002663</td>\n",
       "    </tr>\n",
       "    <tr>\n",
       "      <th>1</th>\n",
       "      <td>0.887180</td>\n",
       "      <td>0.004693</td>\n",
       "      <td>0.001014</td>\n",
       "    </tr>\n",
       "  </tbody>\n",
       "</table>\n",
       "</div>"
      ],
      "text/plain": [
       "          Recency_s  Frequency_s  Monetary_s\n",
       "labels_k                                    \n",
       "0          0.018153     0.045819    0.002663\n",
       "1          0.887180     0.004693    0.001014"
      ]
     },
     "execution_count": 27,
     "metadata": {},
     "output_type": "execute_result"
    }
   ],
   "source": [
    "df2.groupby('labels_k')[['Recency_s', 'Frequency_s', 'Monetary_s']].agg('mean')"
   ]
  },
  {
   "cell_type": "code",
   "execution_count": 28,
   "id": "b311a869",
   "metadata": {},
   "outputs": [
    {
     "data": {
      "text/html": [
       "<div>\n",
       "<style scoped>\n",
       "    .dataframe tbody tr th:only-of-type {\n",
       "        vertical-align: middle;\n",
       "    }\n",
       "\n",
       "    .dataframe tbody tr th {\n",
       "        vertical-align: top;\n",
       "    }\n",
       "\n",
       "    .dataframe thead th {\n",
       "        text-align: right;\n",
       "    }\n",
       "</style>\n",
       "<table border=\"1\" class=\"dataframe\">\n",
       "  <thead>\n",
       "    <tr style=\"text-align: right;\">\n",
       "      <th></th>\n",
       "      <th>Recency_s</th>\n",
       "      <th>Frequency_s</th>\n",
       "      <th>Monetary_s</th>\n",
       "    </tr>\n",
       "    <tr>\n",
       "      <th>labels_k</th>\n",
       "      <th></th>\n",
       "      <th></th>\n",
       "      <th></th>\n",
       "    </tr>\n",
       "  </thead>\n",
       "  <tbody>\n",
       "    <tr>\n",
       "      <th>0</th>\n",
       "      <td>3.707733</td>\n",
       "      <td>1.040649</td>\n",
       "      <td>1.242323</td>\n",
       "    </tr>\n",
       "    <tr>\n",
       "      <th>1</th>\n",
       "      <td>0.195777</td>\n",
       "      <td>1.055173</td>\n",
       "      <td>0.395543</td>\n",
       "    </tr>\n",
       "  </tbody>\n",
       "</table>\n",
       "</div>"
      ],
      "text/plain": [
       "          Recency_s  Frequency_s  Monetary_s\n",
       "labels_k                                    \n",
       "0          3.707733     1.040649    1.242323\n",
       "1          0.195777     1.055173    0.395543"
      ]
     },
     "execution_count": 28,
     "metadata": {},
     "output_type": "execute_result"
    }
   ],
   "source": [
    "# CV = k개 그룹에 대한 각 R,F,M의 표준편차 / 평균\n",
    "cv_k = df2.groupby('labels_k')[['Recency_s', 'Frequency_s', 'Monetary_s']].agg('std')/df2.groupby('labels_k')[['Recency_s', 'Frequency_s', 'Monetary_s']].agg('mean')\n",
    "cv_k"
   ]
  },
  {
   "cell_type": "code",
   "execution_count": 29,
   "id": "3741efa1",
   "metadata": {},
   "outputs": [
    {
     "data": {
      "text/plain": [
       "7.637197271068573"
      ]
     },
     "execution_count": 29,
     "metadata": {},
     "output_type": "execute_result"
    }
   ],
   "source": [
    "CV = cv_k.sum().sum()\n",
    "CV"
   ]
  },
  {
   "cell_type": "code",
   "execution_count": 30,
   "id": "df7bca36",
   "metadata": {},
   "outputs": [
    {
     "data": {
      "text/plain": [
       "Recency_s      0.025635\n",
       "Frequency_s    0.136261\n",
       "Monetary_s     0.051792\n",
       "dtype: float64"
      ]
     },
     "execution_count": 30,
     "metadata": {},
     "output_type": "execute_result"
    }
   ],
   "source": [
    "res2 = cv_k.min(axis = 0) / CV\n",
    "res2"
   ]
  },
  {
   "cell_type": "code",
   "execution_count": 31,
   "id": "52e34e1f",
   "metadata": {},
   "outputs": [
    {
     "name": "stdout",
     "output_type": "stream",
     "text": [
      "0.11996361044922198 0.6376649358629156 0.2423714536878624\n"
     ]
    }
   ],
   "source": [
    "# 가중치\n",
    "w1, w2, w3 = (res2 / res2.sum())\n",
    "print(w1, w2, w3)"
   ]
  },
  {
   "cell_type": "code",
   "execution_count": 32,
   "id": "a70e35ab",
   "metadata": {},
   "outputs": [
    {
     "data": {
      "text/html": [
       "<div>\n",
       "<style scoped>\n",
       "    .dataframe tbody tr th:only-of-type {\n",
       "        vertical-align: middle;\n",
       "    }\n",
       "\n",
       "    .dataframe tbody tr th {\n",
       "        vertical-align: top;\n",
       "    }\n",
       "\n",
       "    .dataframe thead th {\n",
       "        text-align: right;\n",
       "    }\n",
       "</style>\n",
       "<table border=\"1\" class=\"dataframe\">\n",
       "  <thead>\n",
       "    <tr style=\"text-align: right;\">\n",
       "      <th></th>\n",
       "      <th>회원번호</th>\n",
       "      <th>남녀구분코드</th>\n",
       "      <th>연령</th>\n",
       "      <th>소지여부_신용</th>\n",
       "      <th>입회일자_신용</th>\n",
       "      <th>입회경과개월수_신용</th>\n",
       "      <th>탈회여부</th>\n",
       "      <th>회원여부_연체</th>\n",
       "      <th>수신거부여부_TM</th>\n",
       "      <th>수신거부여부_DM</th>\n",
       "      <th>...</th>\n",
       "      <th>Monetary</th>\n",
       "      <th>Monetary_2</th>\n",
       "      <th>고객분류_RFM_2</th>\n",
       "      <th>Recency_5</th>\n",
       "      <th>Frequency_5</th>\n",
       "      <th>Monetary_5</th>\n",
       "      <th>Recency_s</th>\n",
       "      <th>Frequency_s</th>\n",
       "      <th>Monetary_s</th>\n",
       "      <th>labels_k</th>\n",
       "    </tr>\n",
       "  </thead>\n",
       "  <tbody>\n",
       "    <tr>\n",
       "      <th>0</th>\n",
       "      <td>YNtSN9Oa</td>\n",
       "      <td>2</td>\n",
       "      <td>64</td>\n",
       "      <td>1</td>\n",
       "      <td>20140709</td>\n",
       "      <td>54</td>\n",
       "      <td>1</td>\n",
       "      <td>0</td>\n",
       "      <td>0</td>\n",
       "      <td>0</td>\n",
       "      <td>...</td>\n",
       "      <td>615650</td>\n",
       "      <td>0</td>\n",
       "      <td>겨울잠고객</td>\n",
       "      <td>5</td>\n",
       "      <td>2</td>\n",
       "      <td>1</td>\n",
       "      <td>0.0</td>\n",
       "      <td>0.007771</td>\n",
       "      <td>0.001007</td>\n",
       "      <td>0</td>\n",
       "    </tr>\n",
       "    <tr>\n",
       "      <th>1</th>\n",
       "      <td>Rijqdlzu</td>\n",
       "      <td>1</td>\n",
       "      <td>24</td>\n",
       "      <td>1</td>\n",
       "      <td>20170412</td>\n",
       "      <td>21</td>\n",
       "      <td>0</td>\n",
       "      <td>0</td>\n",
       "      <td>0</td>\n",
       "      <td>0</td>\n",
       "      <td>...</td>\n",
       "      <td>840480</td>\n",
       "      <td>0</td>\n",
       "      <td>겨울잠고객</td>\n",
       "      <td>5</td>\n",
       "      <td>2</td>\n",
       "      <td>2</td>\n",
       "      <td>0.0</td>\n",
       "      <td>0.007009</td>\n",
       "      <td>0.001039</td>\n",
       "      <td>0</td>\n",
       "    </tr>\n",
       "    <tr>\n",
       "      <th>2</th>\n",
       "      <td>NOsf3TZS</td>\n",
       "      <td>2</td>\n",
       "      <td>43</td>\n",
       "      <td>1</td>\n",
       "      <td>20170426</td>\n",
       "      <td>21</td>\n",
       "      <td>1</td>\n",
       "      <td>0</td>\n",
       "      <td>1</td>\n",
       "      <td>0</td>\n",
       "      <td>...</td>\n",
       "      <td>905580</td>\n",
       "      <td>0</td>\n",
       "      <td>겨울잠고객</td>\n",
       "      <td>5</td>\n",
       "      <td>2</td>\n",
       "      <td>2</td>\n",
       "      <td>0.0</td>\n",
       "      <td>0.008990</td>\n",
       "      <td>0.001048</td>\n",
       "      <td>0</td>\n",
       "    </tr>\n",
       "    <tr>\n",
       "      <th>3</th>\n",
       "      <td>7IPZGTZu</td>\n",
       "      <td>2</td>\n",
       "      <td>79</td>\n",
       "      <td>1</td>\n",
       "      <td>20141128</td>\n",
       "      <td>50</td>\n",
       "      <td>0</td>\n",
       "      <td>0</td>\n",
       "      <td>0</td>\n",
       "      <td>0</td>\n",
       "      <td>...</td>\n",
       "      <td>3116870</td>\n",
       "      <td>0</td>\n",
       "      <td>겨울잠고객</td>\n",
       "      <td>5</td>\n",
       "      <td>3</td>\n",
       "      <td>2</td>\n",
       "      <td>0.0</td>\n",
       "      <td>0.018132</td>\n",
       "      <td>0.001366</td>\n",
       "      <td>0</td>\n",
       "    </tr>\n",
       "    <tr>\n",
       "      <th>4</th>\n",
       "      <td>pEEsUF2u</td>\n",
       "      <td>2</td>\n",
       "      <td>82</td>\n",
       "      <td>1</td>\n",
       "      <td>20120905</td>\n",
       "      <td>76</td>\n",
       "      <td>0</td>\n",
       "      <td>0</td>\n",
       "      <td>0</td>\n",
       "      <td>0</td>\n",
       "      <td>...</td>\n",
       "      <td>5391290</td>\n",
       "      <td>0</td>\n",
       "      <td>잠재충성고객</td>\n",
       "      <td>5</td>\n",
       "      <td>5</td>\n",
       "      <td>3</td>\n",
       "      <td>0.0</td>\n",
       "      <td>0.074052</td>\n",
       "      <td>0.001692</td>\n",
       "      <td>0</td>\n",
       "    </tr>\n",
       "    <tr>\n",
       "      <th>...</th>\n",
       "      <td>...</td>\n",
       "      <td>...</td>\n",
       "      <td>...</td>\n",
       "      <td>...</td>\n",
       "      <td>...</td>\n",
       "      <td>...</td>\n",
       "      <td>...</td>\n",
       "      <td>...</td>\n",
       "      <td>...</td>\n",
       "      <td>...</td>\n",
       "      <td>...</td>\n",
       "      <td>...</td>\n",
       "      <td>...</td>\n",
       "      <td>...</td>\n",
       "      <td>...</td>\n",
       "      <td>...</td>\n",
       "      <td>...</td>\n",
       "      <td>...</td>\n",
       "      <td>...</td>\n",
       "      <td>...</td>\n",
       "      <td>...</td>\n",
       "    </tr>\n",
       "    <tr>\n",
       "      <th>299995</th>\n",
       "      <td>Gso9Jlid</td>\n",
       "      <td>2</td>\n",
       "      <td>47</td>\n",
       "      <td>1</td>\n",
       "      <td>20170630</td>\n",
       "      <td>18</td>\n",
       "      <td>0</td>\n",
       "      <td>0</td>\n",
       "      <td>0</td>\n",
       "      <td>0</td>\n",
       "      <td>...</td>\n",
       "      <td>17636638</td>\n",
       "      <td>0</td>\n",
       "      <td>잠재충성고객</td>\n",
       "      <td>5</td>\n",
       "      <td>4</td>\n",
       "      <td>5</td>\n",
       "      <td>0.0</td>\n",
       "      <td>0.059119</td>\n",
       "      <td>0.003450</td>\n",
       "      <td>0</td>\n",
       "    </tr>\n",
       "    <tr>\n",
       "      <th>299996</th>\n",
       "      <td>EDQYlTTX</td>\n",
       "      <td>2</td>\n",
       "      <td>69</td>\n",
       "      <td>1</td>\n",
       "      <td>20150417</td>\n",
       "      <td>45</td>\n",
       "      <td>0</td>\n",
       "      <td>0</td>\n",
       "      <td>0</td>\n",
       "      <td>0</td>\n",
       "      <td>...</td>\n",
       "      <td>5935210</td>\n",
       "      <td>0</td>\n",
       "      <td>겨울잠고객</td>\n",
       "      <td>5</td>\n",
       "      <td>3</td>\n",
       "      <td>3</td>\n",
       "      <td>0.0</td>\n",
       "      <td>0.021332</td>\n",
       "      <td>0.001770</td>\n",
       "      <td>0</td>\n",
       "    </tr>\n",
       "    <tr>\n",
       "      <th>299997</th>\n",
       "      <td>82GwFS1D</td>\n",
       "      <td>1</td>\n",
       "      <td>36</td>\n",
       "      <td>1</td>\n",
       "      <td>20120608</td>\n",
       "      <td>79</td>\n",
       "      <td>0</td>\n",
       "      <td>0</td>\n",
       "      <td>0</td>\n",
       "      <td>0</td>\n",
       "      <td>...</td>\n",
       "      <td>4893790</td>\n",
       "      <td>0</td>\n",
       "      <td>충성고객</td>\n",
       "      <td>5</td>\n",
       "      <td>5</td>\n",
       "      <td>3</td>\n",
       "      <td>0.0</td>\n",
       "      <td>0.132866</td>\n",
       "      <td>0.001621</td>\n",
       "      <td>0</td>\n",
       "    </tr>\n",
       "    <tr>\n",
       "      <th>299998</th>\n",
       "      <td>LUYeNjki</td>\n",
       "      <td>1</td>\n",
       "      <td>48</td>\n",
       "      <td>1</td>\n",
       "      <td>20120508</td>\n",
       "      <td>80</td>\n",
       "      <td>1</td>\n",
       "      <td>0</td>\n",
       "      <td>0</td>\n",
       "      <td>0</td>\n",
       "      <td>...</td>\n",
       "      <td>1274300</td>\n",
       "      <td>0</td>\n",
       "      <td>겨울잠고객</td>\n",
       "      <td>5</td>\n",
       "      <td>1</td>\n",
       "      <td>2</td>\n",
       "      <td>0.0</td>\n",
       "      <td>0.005638</td>\n",
       "      <td>0.001101</td>\n",
       "      <td>0</td>\n",
       "    </tr>\n",
       "    <tr>\n",
       "      <th>299999</th>\n",
       "      <td>bnKXePYO</td>\n",
       "      <td>2</td>\n",
       "      <td>36</td>\n",
       "      <td>1</td>\n",
       "      <td>20180222</td>\n",
       "      <td>11</td>\n",
       "      <td>1</td>\n",
       "      <td>0</td>\n",
       "      <td>0</td>\n",
       "      <td>0</td>\n",
       "      <td>...</td>\n",
       "      <td>7108150</td>\n",
       "      <td>0</td>\n",
       "      <td>잠재충성고객</td>\n",
       "      <td>5</td>\n",
       "      <td>3</td>\n",
       "      <td>3</td>\n",
       "      <td>0.0</td>\n",
       "      <td>0.029864</td>\n",
       "      <td>0.001939</td>\n",
       "      <td>0</td>\n",
       "    </tr>\n",
       "  </tbody>\n",
       "</table>\n",
       "<p>300000 rows × 316 columns</p>\n",
       "</div>"
      ],
      "text/plain": [
       "            회원번호  남녀구분코드  연령  소지여부_신용   입회일자_신용  입회경과개월수_신용  탈회여부  회원여부_연체  \\\n",
       "0       YNtSN9Oa       2  64        1  20140709          54     1        0   \n",
       "1       Rijqdlzu       1  24        1  20170412          21     0        0   \n",
       "2       NOsf3TZS       2  43        1  20170426          21     1        0   \n",
       "3       7IPZGTZu       2  79        1  20141128          50     0        0   \n",
       "4       pEEsUF2u       2  82        1  20120905          76     0        0   \n",
       "...          ...     ...  ..      ...       ...         ...   ...      ...   \n",
       "299995  Gso9Jlid       2  47        1  20170630          18     0        0   \n",
       "299996  EDQYlTTX       2  69        1  20150417          45     0        0   \n",
       "299997  82GwFS1D       1  36        1  20120608          79     0        0   \n",
       "299998  LUYeNjki       1  48        1  20120508          80     1        0   \n",
       "299999  bnKXePYO       2  36        1  20180222          11     1        0   \n",
       "\n",
       "        수신거부여부_TM  수신거부여부_DM  ...  Monetary  Monetary_2 고객분류_RFM_2 Recency_5  \\\n",
       "0               0          0  ...    615650           0      겨울잠고객         5   \n",
       "1               0          0  ...    840480           0      겨울잠고객         5   \n",
       "2               1          0  ...    905580           0      겨울잠고객         5   \n",
       "3               0          0  ...   3116870           0      겨울잠고객         5   \n",
       "4               0          0  ...   5391290           0     잠재충성고객         5   \n",
       "...           ...        ...  ...       ...         ...        ...       ...   \n",
       "299995          0          0  ...  17636638           0     잠재충성고객         5   \n",
       "299996          0          0  ...   5935210           0      겨울잠고객         5   \n",
       "299997          0          0  ...   4893790           0       충성고객         5   \n",
       "299998          0          0  ...   1274300           0      겨울잠고객         5   \n",
       "299999          0          0  ...   7108150           0     잠재충성고객         5   \n",
       "\n",
       "       Frequency_5  Monetary_5  Recency_s  Frequency_s Monetary_s labels_k  \n",
       "0                2           1        0.0     0.007771   0.001007        0  \n",
       "1                2           2        0.0     0.007009   0.001039        0  \n",
       "2                2           2        0.0     0.008990   0.001048        0  \n",
       "3                3           2        0.0     0.018132   0.001366        0  \n",
       "4                5           3        0.0     0.074052   0.001692        0  \n",
       "...            ...         ...        ...          ...        ...      ...  \n",
       "299995           4           5        0.0     0.059119   0.003450        0  \n",
       "299996           3           3        0.0     0.021332   0.001770        0  \n",
       "299997           5           3        0.0     0.132866   0.001621        0  \n",
       "299998           1           2        0.0     0.005638   0.001101        0  \n",
       "299999           3           3        0.0     0.029864   0.001939        0  \n",
       "\n",
       "[300000 rows x 316 columns]"
      ]
     },
     "execution_count": 32,
     "metadata": {},
     "output_type": "execute_result"
    }
   ],
   "source": [
    "df2"
   ]
  },
  {
   "cell_type": "code",
   "execution_count": 33,
   "id": "05ab69e1",
   "metadata": {},
   "outputs": [],
   "source": [
    "df2['RFM_Score'] = w1 * df2['Recency'] + w2 * df2['Frequency'] + w3 * df2['Monetary']"
   ]
  },
  {
   "cell_type": "code",
   "execution_count": 34,
   "id": "6411a9f3",
   "metadata": {},
   "outputs": [],
   "source": [
    "df2['RFM_Class'] = pd.qcut(df2['RFM_Score'], q = 8, labels = ['겨울잠고객','이탈우려고객','관심필요고객','놓치면안될고객',\n",
    "                                                              '잠재충성고객','잠재VIP고객','충성고객','VIP고객'])"
   ]
  },
  {
   "cell_type": "code",
   "execution_count": 35,
   "id": "37184e2b",
   "metadata": {},
   "outputs": [
    {
     "data": {
      "text/plain": [
       "겨울잠고객      37500\n",
       "이탈우려고객     37500\n",
       "관심필요고객     37500\n",
       "놓치면안될고객    37500\n",
       "잠재충성고객     37500\n",
       "잠재VIP고객    37500\n",
       "충성고객       37500\n",
       "VIP고객      37500\n",
       "Name: RFM_Class, dtype: int64"
      ]
     },
     "execution_count": 35,
     "metadata": {},
     "output_type": "execute_result"
    }
   ],
   "source": [
    "df2['RFM_Class'].value_counts()"
   ]
  },
  {
   "cell_type": "code",
   "execution_count": 36,
   "id": "cea7ead5",
   "metadata": {},
   "outputs": [
    {
     "name": "stdout",
     "output_type": "stream",
     "text": [
      "겨울잠고객\n",
      "2    26639\n",
      "0     8393\n",
      "1     2468\n",
      "Name: 고객구분, dtype: int64\n",
      "\n",
      "이탈우려고객\n",
      "0    19589\n",
      "2     9774\n",
      "1     8137\n",
      "Name: 고객구분, dtype: int64\n",
      "\n",
      "관심필요고객\n",
      "0    24696\n",
      "1     7293\n",
      "2     5511\n",
      "Name: 고객구분, dtype: int64\n",
      "\n",
      "놓치면안될고객\n",
      "0    31178\n",
      "1     3805\n",
      "2     2517\n",
      "Name: 고객구분, dtype: int64\n",
      "\n",
      "잠재충성고객\n",
      "0    33563\n",
      "1     2508\n",
      "2     1429\n",
      "Name: 고객구분, dtype: int64\n",
      "\n",
      "잠재VIP고객\n",
      "0    34428\n",
      "1     2006\n",
      "2     1066\n",
      "Name: 고객구분, dtype: int64\n",
      "\n",
      "충성고객\n",
      "0    35133\n",
      "1     1615\n",
      "2      752\n",
      "Name: 고객구분, dtype: int64\n",
      "\n",
      "VIP고객\n",
      "0    35883\n",
      "1     1203\n",
      "2      414\n",
      "Name: 고객구분, dtype: int64\n",
      "\n"
     ]
    }
   ],
   "source": [
    "for rfm, customer_group in sorted(df2.groupby(by = ['RFM_Class'])[['고객구분']], key = lambda x : dict(zip(['겨울잠고객','이탈우려고객','관심필요고객','놓치면안될고객','잠재충성고객','잠재VIP고객','충성고객','VIP고객'], range(8)))[x[0]]):\n",
    "    print(rfm)\n",
    "    print(customer_group['고객구분'].value_counts())\n",
    "    print()"
   ]
  },
  {
   "cell_type": "code",
   "execution_count": null,
   "id": "d268570b",
   "metadata": {},
   "outputs": [],
   "source": []
  }
 ],
 "metadata": {
  "kernelspec": {
   "display_name": "Python 3 (ipykernel)",
   "language": "python",
   "name": "python3"
  },
  "language_info": {
   "codemirror_mode": {
    "name": "ipython",
    "version": 3
   },
   "file_extension": ".py",
   "mimetype": "text/x-python",
   "name": "python",
   "nbconvert_exporter": "python",
   "pygments_lexer": "ipython3",
   "version": "3.10.9"
  }
 },
 "nbformat": 4,
 "nbformat_minor": 5
}
