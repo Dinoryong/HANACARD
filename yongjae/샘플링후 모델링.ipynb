{
 "cells": [
  {
   "cell_type": "code",
   "execution_count": 72,
   "id": "1ec5bdb3",
   "metadata": {},
   "outputs": [],
   "source": [
    "import pandas as pd\n",
    "import numpy as np\n",
    "import matplotlib.pyplot as plt\n",
    "import seaborn as sns\n",
    "import scipy.stats as stats\n",
    "from sklearn.preprocessing import LabelEncoder\n",
    "from sklearn.model_selection import train_test_split\n",
    "from sklearn.ensemble import ExtraTreesClassifier\n",
    "from sklearn.ensemble import RandomForestClassifier\n",
    "from sklearn.metrics import accuracy_score\n",
    "from matplotlib.ticker import ScalarFormatter\n",
    "from sklearn.metrics import confusion_matrix\n",
    "from sklearn.preprocessing import StandardScaler\n",
    "from sklearn.decomposition import PCA"
   ]
  },
  {
   "cell_type": "code",
   "execution_count": 73,
   "id": "85e980bf",
   "metadata": {},
   "outputs": [],
   "source": [
    "import os\n",
    "\n",
    "if os.name == 'posix':\n",
    "    plt.rc(\"font\", family=\"AppleGothic\")\n",
    "else:\n",
    "    plt.rc(\"font\", family=\"Malgun Gothic\")"
   ]
  },
  {
   "cell_type": "code",
   "execution_count": 74,
   "id": "f3993d94",
   "metadata": {},
   "outputs": [],
   "source": [
    "df = pd.read_csv('C:/Users/Home/Desktop/Data/2차/CardData_new.csv', encoding = 'cp949')"
   ]
  },
  {
   "cell_type": "code",
   "execution_count": 75,
   "id": "3bd91d95",
   "metadata": {},
   "outputs": [],
   "source": [
    "d = {\n",
    "    '21.Active_연속' : 0,\n",
    "    '22.Active_간헐' : 1,\n",
    "    '34.휴면_9M+' : 2,\n",
    "    '32.휴면_6M-' : 2,\n",
    "    '33.휴면_9M-' : 2,\n",
    "    '31.휴면_3M' : 2\n",
    "}\n",
    "df['고객구분'] = df['고객구분'].map(d)"
   ]
  },
  {
   "cell_type": "code",
   "execution_count": 76,
   "id": "b266f6da",
   "metadata": {},
   "outputs": [],
   "source": [
    "df2 = df.copy()"
   ]
  },
  {
   "cell_type": "code",
   "execution_count": 77,
   "id": "2624fc34",
   "metadata": {},
   "outputs": [],
   "source": [
    "label_encoder = LabelEncoder()"
   ]
  },
  {
   "cell_type": "code",
   "execution_count": 78,
   "id": "d2de4f63",
   "metadata": {},
   "outputs": [],
   "source": [
    "df2['_1순위신용체크구분'] = label_encoder.fit_transform(df2['_1순위신용체크구분'])"
   ]
  },
  {
   "cell_type": "code",
   "execution_count": 79,
   "id": "22268d01",
   "metadata": {},
   "outputs": [],
   "source": [
    "df2['자격기준'] = label_encoder.fit_transform(df2['자격기준'])"
   ]
  },
  {
   "cell_type": "code",
   "execution_count": 80,
   "id": "910bba9c",
   "metadata": {},
   "outputs": [],
   "source": [
    "df2['Life_Stage'] = label_encoder.fit_transform(df2['Life_Stage'])"
   ]
  },
  {
   "cell_type": "code",
   "execution_count": 81,
   "id": "c17232de",
   "metadata": {},
   "outputs": [],
   "source": [
    "df2['이용금액대'] = label_encoder.fit_transform(df2['이용금액대'])"
   ]
  },
  {
   "cell_type": "code",
   "execution_count": 11,
   "id": "87486866",
   "metadata": {},
   "outputs": [],
   "source": [
    "df3 = df2[df2['고객구분'] != 1.0]"
   ]
  },
  {
   "cell_type": "code",
   "execution_count": 12,
   "id": "4b8ab41f",
   "metadata": {},
   "outputs": [],
   "source": [
    "col = ['회원번호','자격구분상세','연회비청구구분_B0M','거주시도명','거주시군구명','직장시도명','직장시군구명','납부_렌탈료이용금액','컨택건수_CA_TM_B0M','컨택건수_CA_EM_B0M','컨택건수_리볼빙_EM_B0M','컨택건수_리볼빙_청구서_B0M','컨택건수_카드론_인터넷_B0M','컨택건수_CA_인터넷_B0M','컨택건수_리볼빙_인터넷_B0M','컨택건수_CA_EM_R6M','컨택건수_리볼빙_EM_R6M','컨택건수_리볼빙_청구서_R6M','컨택건수_카드론_인터넷_R6M','컨택건수_CA_인터넷_R6M','컨택건수_리볼빙_인터넷_R6M']\n",
    "df3 = df3.drop(columns = col,axis = 1)\n",
    "#  모든값이 0 인 컬럼, 회원번호와 같이 의미없는 컬럼은 아예 제외하고 시작"
   ]
  },
  {
   "cell_type": "code",
   "execution_count": 38,
   "id": "69ed8e5f",
   "metadata": {},
   "outputs": [
    {
     "name": "stderr",
     "output_type": "stream",
     "text": [
      "C:\\Users\\Home\\AppData\\Local\\Temp\\ipykernel_14024\\3162449638.py:1: FutureWarning: The default value of numeric_only in DataFrame.corr is deprecated. In a future version, it will default to False. Select only valid columns or specify the value of numeric_only to silence this warning.\n",
      "  corr_matrix = df.corr()\n"
     ]
    }
   ],
   "source": [
    "corr_matrix = df.corr()\n",
    "\n",
    "threshold = 0.5\n",
    "high_corr_col = corr_matrix[corr_matrix['고객구분'].abs() > 0.8].index.tolist()"
   ]
  },
  {
   "cell_type": "code",
   "execution_count": 39,
   "id": "8d7262b8",
   "metadata": {},
   "outputs": [
    {
     "data": {
      "text/plain": [
       "['이용후경과월_신용',\n",
       " '이용후경과월_신판',\n",
       " '이용후경과월_일시불',\n",
       " '이용개월수_신용_R12M',\n",
       " '이용개월수_신판_R12M',\n",
       " '이용개월수_일시불_R12M',\n",
       " '이용개월수_신용_R6M',\n",
       " '이용개월수_신판_R6M',\n",
       " '이용개월수_일시불_R6M',\n",
       " '이용개월수_신용_R3M',\n",
       " '이용개월수_신판_R3M',\n",
       " '이용개월수_일시불_R3M',\n",
       " '이용개월수_오프라인_R6M',\n",
       " '이용개월수_전체_R3M',\n",
       " '고객구분']"
      ]
     },
     "execution_count": 39,
     "metadata": {},
     "output_type": "execute_result"
    }
   ],
   "source": [
    "high_corr_col"
   ]
  },
  {
   "cell_type": "code",
   "execution_count": 17,
   "id": "2772e8ef",
   "metadata": {},
   "outputs": [],
   "source": [
    "X= df3[['남녀구분코드',\n",
    " '연령',\n",
    " '탈회여부',\n",
    " '탈회횟수_발급1년이내',\n",
    " '이용건수_부분무이자_B0M',\n",
    " '증감_RP건수_전월',\n",
    " '증감_RP유형건수_전월',\n",
    " '컨택건수_CA_TM_R6M',\n",
    " '컨택건수_이용유도_LMS_R6M',\n",
    " '컨택건수_FDS_B0M',\n",
    " '접촉후경과월_R12M']]\n",
    "y = df3['고객구분']"
   ]
  },
  {
   "cell_type": "code",
   "execution_count": 18,
   "id": "14e38ed0",
   "metadata": {},
   "outputs": [
    {
     "data": {
      "text/html": [
       "<style>#sk-container-id-1 {color: black;}#sk-container-id-1 pre{padding: 0;}#sk-container-id-1 div.sk-toggleable {background-color: white;}#sk-container-id-1 label.sk-toggleable__label {cursor: pointer;display: block;width: 100%;margin-bottom: 0;padding: 0.3em;box-sizing: border-box;text-align: center;}#sk-container-id-1 label.sk-toggleable__label-arrow:before {content: \"▸\";float: left;margin-right: 0.25em;color: #696969;}#sk-container-id-1 label.sk-toggleable__label-arrow:hover:before {color: black;}#sk-container-id-1 div.sk-estimator:hover label.sk-toggleable__label-arrow:before {color: black;}#sk-container-id-1 div.sk-toggleable__content {max-height: 0;max-width: 0;overflow: hidden;text-align: left;background-color: #f0f8ff;}#sk-container-id-1 div.sk-toggleable__content pre {margin: 0.2em;color: black;border-radius: 0.25em;background-color: #f0f8ff;}#sk-container-id-1 input.sk-toggleable__control:checked~div.sk-toggleable__content {max-height: 200px;max-width: 100%;overflow: auto;}#sk-container-id-1 input.sk-toggleable__control:checked~label.sk-toggleable__label-arrow:before {content: \"▾\";}#sk-container-id-1 div.sk-estimator input.sk-toggleable__control:checked~label.sk-toggleable__label {background-color: #d4ebff;}#sk-container-id-1 div.sk-label input.sk-toggleable__control:checked~label.sk-toggleable__label {background-color: #d4ebff;}#sk-container-id-1 input.sk-hidden--visually {border: 0;clip: rect(1px 1px 1px 1px);clip: rect(1px, 1px, 1px, 1px);height: 1px;margin: -1px;overflow: hidden;padding: 0;position: absolute;width: 1px;}#sk-container-id-1 div.sk-estimator {font-family: monospace;background-color: #f0f8ff;border: 1px dotted black;border-radius: 0.25em;box-sizing: border-box;margin-bottom: 0.5em;}#sk-container-id-1 div.sk-estimator:hover {background-color: #d4ebff;}#sk-container-id-1 div.sk-parallel-item::after {content: \"\";width: 100%;border-bottom: 1px solid gray;flex-grow: 1;}#sk-container-id-1 div.sk-label:hover label.sk-toggleable__label {background-color: #d4ebff;}#sk-container-id-1 div.sk-serial::before {content: \"\";position: absolute;border-left: 1px solid gray;box-sizing: border-box;top: 0;bottom: 0;left: 50%;z-index: 0;}#sk-container-id-1 div.sk-serial {display: flex;flex-direction: column;align-items: center;background-color: white;padding-right: 0.2em;padding-left: 0.2em;position: relative;}#sk-container-id-1 div.sk-item {position: relative;z-index: 1;}#sk-container-id-1 div.sk-parallel {display: flex;align-items: stretch;justify-content: center;background-color: white;position: relative;}#sk-container-id-1 div.sk-item::before, #sk-container-id-1 div.sk-parallel-item::before {content: \"\";position: absolute;border-left: 1px solid gray;box-sizing: border-box;top: 0;bottom: 0;left: 50%;z-index: -1;}#sk-container-id-1 div.sk-parallel-item {display: flex;flex-direction: column;z-index: 1;position: relative;background-color: white;}#sk-container-id-1 div.sk-parallel-item:first-child::after {align-self: flex-end;width: 50%;}#sk-container-id-1 div.sk-parallel-item:last-child::after {align-self: flex-start;width: 50%;}#sk-container-id-1 div.sk-parallel-item:only-child::after {width: 0;}#sk-container-id-1 div.sk-dashed-wrapped {border: 1px dashed gray;margin: 0 0.4em 0.5em 0.4em;box-sizing: border-box;padding-bottom: 0.4em;background-color: white;}#sk-container-id-1 div.sk-label label {font-family: monospace;font-weight: bold;display: inline-block;line-height: 1.2em;}#sk-container-id-1 div.sk-label-container {text-align: center;}#sk-container-id-1 div.sk-container {/* jupyter's `normalize.less` sets `[hidden] { display: none; }` but bootstrap.min.css set `[hidden] { display: none !important; }` so we also need the `!important` here to be able to override the default hidden behavior on the sphinx rendered scikit-learn.org. See: https://github.com/scikit-learn/scikit-learn/issues/21755 */display: inline-block !important;position: relative;}#sk-container-id-1 div.sk-text-repr-fallback {display: none;}</style><div id=\"sk-container-id-1\" class=\"sk-top-container\"><div class=\"sk-text-repr-fallback\"><pre>RandomForestClassifier()</pre><b>In a Jupyter environment, please rerun this cell to show the HTML representation or trust the notebook. <br />On GitHub, the HTML representation is unable to render, please try loading this page with nbviewer.org.</b></div><div class=\"sk-container\" hidden><div class=\"sk-item\"><div class=\"sk-estimator sk-toggleable\"><input class=\"sk-toggleable__control sk-hidden--visually\" id=\"sk-estimator-id-1\" type=\"checkbox\" checked><label for=\"sk-estimator-id-1\" class=\"sk-toggleable__label sk-toggleable__label-arrow\">RandomForestClassifier</label><div class=\"sk-toggleable__content\"><pre>RandomForestClassifier()</pre></div></div></div></div></div>"
      ],
      "text/plain": [
       "RandomForestClassifier()"
      ]
     },
     "execution_count": 18,
     "metadata": {},
     "output_type": "execute_result"
    }
   ],
   "source": [
    "X_train, X_test, y_train, y_test = train_test_split(X, y, test_size=0.2, random_state=42)\n",
    "\n",
    "RF = RandomForestClassifier()\n",
    "RF.fit(X_train, y_train)"
   ]
  },
  {
   "cell_type": "code",
   "execution_count": 19,
   "id": "b696f5ad",
   "metadata": {},
   "outputs": [
    {
     "name": "stdout",
     "output_type": "stream",
     "text": [
      "0.796984850441939\n"
     ]
    }
   ],
   "source": [
    "y_pred = RF.predict(X_test)\n",
    "accuracy = accuracy_score(y_test, y_pred)\n",
    "print(accuracy)"
   ]
  },
  {
   "cell_type": "code",
   "execution_count": 20,
   "id": "92954741",
   "metadata": {},
   "outputs": [],
   "source": [
    "df4 = df2[df2['고객구분'] == 1.0]\n",
    "df4 = df4[['남녀구분코드',\n",
    " '연령',\n",
    " '탈회여부',\n",
    " '탈회횟수_발급1년이내',\n",
    " '이용건수_부분무이자_B0M',\n",
    " '증감_RP건수_전월',\n",
    " '증감_RP유형건수_전월',\n",
    " '컨택건수_CA_TM_R6M',\n",
    " '컨택건수_이용유도_LMS_R6M',\n",
    " '컨택건수_FDS_B0M',\n",
    " '접촉후경과월_R12M']]"
   ]
  },
  {
   "cell_type": "code",
   "execution_count": 21,
   "id": "59ea5107",
   "metadata": {},
   "outputs": [],
   "source": [
    "# df4 데이터의 X 컬럼 값을 사용하여 이진 분류 모델의 예측값 얻기\n",
    "df4['first_step_prediction'] = RF.predict(df4)"
   ]
  },
  {
   "cell_type": "code",
   "execution_count": 23,
   "id": "79992460",
   "metadata": {},
   "outputs": [
    {
     "name": "stdout",
     "output_type": "stream",
     "text": [
      "0    27421\n",
      "2     1614\n",
      "Name: first_step_prediction, dtype: int64\n"
     ]
    }
   ],
   "source": [
    "# 결과 출력\n",
    "print(df4['first_step_prediction'].value_counts())"
   ]
  },
  {
   "cell_type": "code",
   "execution_count": 24,
   "id": "7315030c",
   "metadata": {},
   "outputs": [
    {
     "name": "stderr",
     "output_type": "stream",
     "text": [
      "C:\\Users\\Home\\AppData\\Local\\Temp\\ipykernel_14024\\3716183004.py:1: FutureWarning: The default value of numeric_only in DataFrame.corr is deprecated. In a future version, it will default to False. Select only valid columns or specify the value of numeric_only to silence this warning.\n",
      "  correlations = df.corr()['고객구분']\n"
     ]
    }
   ],
   "source": [
    "correlations = df.corr()['고객구분']\n",
    "lowest_corr_col = correlations.abs().idxmin()"
   ]
  },
  {
   "cell_type": "code",
   "execution_count": 25,
   "id": "0d063bf6",
   "metadata": {},
   "outputs": [
    {
     "data": {
      "text/plain": [
       "'연령'"
      ]
     },
     "execution_count": 25,
     "metadata": {},
     "output_type": "execute_result"
    }
   ],
   "source": [
    "lowest_corr_col"
   ]
  },
  {
   "cell_type": "code",
   "execution_count": 28,
   "id": "4b125aa8",
   "metadata": {},
   "outputs": [],
   "source": [
    "X= df3[['연령']]\n",
    "y= df3['고객구분']"
   ]
  },
  {
   "cell_type": "code",
   "execution_count": 29,
   "id": "c65b0a4f",
   "metadata": {},
   "outputs": [
    {
     "data": {
      "text/html": [
       "<style>#sk-container-id-2 {color: black;}#sk-container-id-2 pre{padding: 0;}#sk-container-id-2 div.sk-toggleable {background-color: white;}#sk-container-id-2 label.sk-toggleable__label {cursor: pointer;display: block;width: 100%;margin-bottom: 0;padding: 0.3em;box-sizing: border-box;text-align: center;}#sk-container-id-2 label.sk-toggleable__label-arrow:before {content: \"▸\";float: left;margin-right: 0.25em;color: #696969;}#sk-container-id-2 label.sk-toggleable__label-arrow:hover:before {color: black;}#sk-container-id-2 div.sk-estimator:hover label.sk-toggleable__label-arrow:before {color: black;}#sk-container-id-2 div.sk-toggleable__content {max-height: 0;max-width: 0;overflow: hidden;text-align: left;background-color: #f0f8ff;}#sk-container-id-2 div.sk-toggleable__content pre {margin: 0.2em;color: black;border-radius: 0.25em;background-color: #f0f8ff;}#sk-container-id-2 input.sk-toggleable__control:checked~div.sk-toggleable__content {max-height: 200px;max-width: 100%;overflow: auto;}#sk-container-id-2 input.sk-toggleable__control:checked~label.sk-toggleable__label-arrow:before {content: \"▾\";}#sk-container-id-2 div.sk-estimator input.sk-toggleable__control:checked~label.sk-toggleable__label {background-color: #d4ebff;}#sk-container-id-2 div.sk-label input.sk-toggleable__control:checked~label.sk-toggleable__label {background-color: #d4ebff;}#sk-container-id-2 input.sk-hidden--visually {border: 0;clip: rect(1px 1px 1px 1px);clip: rect(1px, 1px, 1px, 1px);height: 1px;margin: -1px;overflow: hidden;padding: 0;position: absolute;width: 1px;}#sk-container-id-2 div.sk-estimator {font-family: monospace;background-color: #f0f8ff;border: 1px dotted black;border-radius: 0.25em;box-sizing: border-box;margin-bottom: 0.5em;}#sk-container-id-2 div.sk-estimator:hover {background-color: #d4ebff;}#sk-container-id-2 div.sk-parallel-item::after {content: \"\";width: 100%;border-bottom: 1px solid gray;flex-grow: 1;}#sk-container-id-2 div.sk-label:hover label.sk-toggleable__label {background-color: #d4ebff;}#sk-container-id-2 div.sk-serial::before {content: \"\";position: absolute;border-left: 1px solid gray;box-sizing: border-box;top: 0;bottom: 0;left: 50%;z-index: 0;}#sk-container-id-2 div.sk-serial {display: flex;flex-direction: column;align-items: center;background-color: white;padding-right: 0.2em;padding-left: 0.2em;position: relative;}#sk-container-id-2 div.sk-item {position: relative;z-index: 1;}#sk-container-id-2 div.sk-parallel {display: flex;align-items: stretch;justify-content: center;background-color: white;position: relative;}#sk-container-id-2 div.sk-item::before, #sk-container-id-2 div.sk-parallel-item::before {content: \"\";position: absolute;border-left: 1px solid gray;box-sizing: border-box;top: 0;bottom: 0;left: 50%;z-index: -1;}#sk-container-id-2 div.sk-parallel-item {display: flex;flex-direction: column;z-index: 1;position: relative;background-color: white;}#sk-container-id-2 div.sk-parallel-item:first-child::after {align-self: flex-end;width: 50%;}#sk-container-id-2 div.sk-parallel-item:last-child::after {align-self: flex-start;width: 50%;}#sk-container-id-2 div.sk-parallel-item:only-child::after {width: 0;}#sk-container-id-2 div.sk-dashed-wrapped {border: 1px dashed gray;margin: 0 0.4em 0.5em 0.4em;box-sizing: border-box;padding-bottom: 0.4em;background-color: white;}#sk-container-id-2 div.sk-label label {font-family: monospace;font-weight: bold;display: inline-block;line-height: 1.2em;}#sk-container-id-2 div.sk-label-container {text-align: center;}#sk-container-id-2 div.sk-container {/* jupyter's `normalize.less` sets `[hidden] { display: none; }` but bootstrap.min.css set `[hidden] { display: none !important; }` so we also need the `!important` here to be able to override the default hidden behavior on the sphinx rendered scikit-learn.org. See: https://github.com/scikit-learn/scikit-learn/issues/21755 */display: inline-block !important;position: relative;}#sk-container-id-2 div.sk-text-repr-fallback {display: none;}</style><div id=\"sk-container-id-2\" class=\"sk-top-container\"><div class=\"sk-text-repr-fallback\"><pre>RandomForestClassifier()</pre><b>In a Jupyter environment, please rerun this cell to show the HTML representation or trust the notebook. <br />On GitHub, the HTML representation is unable to render, please try loading this page with nbviewer.org.</b></div><div class=\"sk-container\" hidden><div class=\"sk-item\"><div class=\"sk-estimator sk-toggleable\"><input class=\"sk-toggleable__control sk-hidden--visually\" id=\"sk-estimator-id-2\" type=\"checkbox\" checked><label for=\"sk-estimator-id-2\" class=\"sk-toggleable__label sk-toggleable__label-arrow\">RandomForestClassifier</label><div class=\"sk-toggleable__content\"><pre>RandomForestClassifier()</pre></div></div></div></div></div>"
      ],
      "text/plain": [
       "RandomForestClassifier()"
      ]
     },
     "execution_count": 29,
     "metadata": {},
     "output_type": "execute_result"
    }
   ],
   "source": [
    "X_train, X_test, y_train, y_test = train_test_split(X, y, test_size=0.2, random_state=42)\n",
    "\n",
    "RF = RandomForestClassifier()\n",
    "RF.fit(X_train, y_train)"
   ]
  },
  {
   "cell_type": "code",
   "execution_count": 30,
   "id": "a8e7b519",
   "metadata": {},
   "outputs": [
    {
     "name": "stdout",
     "output_type": "stream",
     "text": [
      "0.8212499769342904\n"
     ]
    }
   ],
   "source": [
    "y_pred = RF.predict(X_test)\n",
    "accuracy = accuracy_score(y_test, y_pred)\n",
    "print(accuracy)"
   ]
  },
  {
   "cell_type": "code",
   "execution_count": 33,
   "id": "3abf5355",
   "metadata": {},
   "outputs": [],
   "source": [
    "df4 = df2[df2['고객구분'] == 1.0]\n",
    "df4 = df4[['연령']]"
   ]
  },
  {
   "cell_type": "code",
   "execution_count": 34,
   "id": "073b15d2",
   "metadata": {},
   "outputs": [],
   "source": [
    "# df4 데이터의 X 컬럼 값을 사용하여 이진 분류 모델의 예측값 얻기\n",
    "df4['first_step_prediction'] = RF.predict(df4)"
   ]
  },
  {
   "cell_type": "code",
   "execution_count": 35,
   "id": "0079b1c6",
   "metadata": {},
   "outputs": [
    {
     "name": "stdout",
     "output_type": "stream",
     "text": [
      "0    29035\n",
      "Name: first_step_prediction, dtype: int64\n"
     ]
    }
   ],
   "source": [
    "# 결과 출력\n",
    "print(df4['first_step_prediction'].value_counts())"
   ]
  },
  {
   "cell_type": "code",
   "execution_count": 82,
   "id": "d17e05a4",
   "metadata": {},
   "outputs": [],
   "source": [
    "np.random.seed(42)\n",
    "\n",
    "size = 20000\n",
    "condition = (df2['고객구분'] == 0)\n",
    "sample1 = df2[condition].sample(n=size)"
   ]
  },
  {
   "cell_type": "code",
   "execution_count": 83,
   "id": "4788d184",
   "metadata": {},
   "outputs": [
    {
     "data": {
      "text/plain": [
       "0    20000\n",
       "Name: 고객구분, dtype: int64"
      ]
     },
     "execution_count": 83,
     "metadata": {},
     "output_type": "execute_result"
    }
   ],
   "source": [
    "sample1['고객구분'].value_counts()"
   ]
  },
  {
   "cell_type": "code",
   "execution_count": 84,
   "id": "9ef87aa9",
   "metadata": {},
   "outputs": [],
   "source": [
    "c1 = df2['고객구분'] == 2\n",
    "sample2 = df2[c1].sample(n=size)"
   ]
  },
  {
   "cell_type": "code",
   "execution_count": 85,
   "id": "758e5c0f",
   "metadata": {},
   "outputs": [
    {
     "data": {
      "text/plain": [
       "2    20000\n",
       "Name: 고객구분, dtype: int64"
      ]
     },
     "execution_count": 85,
     "metadata": {},
     "output_type": "execute_result"
    }
   ],
   "source": [
    "sample2['고객구분'].value_counts()"
   ]
  },
  {
   "cell_type": "code",
   "execution_count": 86,
   "id": "154e72b2",
   "metadata": {},
   "outputs": [],
   "source": [
    "df2 = pd.concat([sample1, sample2])"
   ]
  },
  {
   "cell_type": "code",
   "execution_count": 87,
   "id": "b0ea7079",
   "metadata": {},
   "outputs": [
    {
     "data": {
      "text/plain": [
       "0    20000\n",
       "2    20000\n",
       "Name: 고객구분, dtype: int64"
      ]
     },
     "execution_count": 87,
     "metadata": {},
     "output_type": "execute_result"
    }
   ],
   "source": [
    "df2['고객구분'].value_counts()"
   ]
  },
  {
   "cell_type": "code",
   "execution_count": 93,
   "id": "be8cf27d",
   "metadata": {},
   "outputs": [],
   "source": [
    "col = ['회원번호','자격구분상세','연회비청구구분_B0M','거주시도명','거주시군구명','직장시도명','직장시군구명','납부_렌탈료이용금액','컨택건수_CA_TM_B0M','컨택건수_CA_EM_B0M','컨택건수_리볼빙_EM_B0M','컨택건수_리볼빙_청구서_B0M','컨택건수_카드론_인터넷_B0M','컨택건수_CA_인터넷_B0M','컨택건수_리볼빙_인터넷_B0M','컨택건수_CA_EM_R6M','컨택건수_리볼빙_EM_R6M','컨택건수_리볼빙_청구서_R6M','컨택건수_카드론_인터넷_R6M','컨택건수_CA_인터넷_R6M','컨택건수_리볼빙_인터넷_R6M']\n",
    "df2 = df2.drop(columns = col,axis = 1)"
   ]
  },
  {
   "cell_type": "code",
   "execution_count": 115,
   "id": "55d11941",
   "metadata": {},
   "outputs": [],
   "source": [
    "X = df2[['연령']]\n",
    "y = df2['고객구분']"
   ]
  },
  {
   "cell_type": "code",
   "execution_count": 116,
   "id": "cb1ba970",
   "metadata": {},
   "outputs": [
    {
     "data": {
      "text/html": [
       "<style>#sk-container-id-5 {color: black;}#sk-container-id-5 pre{padding: 0;}#sk-container-id-5 div.sk-toggleable {background-color: white;}#sk-container-id-5 label.sk-toggleable__label {cursor: pointer;display: block;width: 100%;margin-bottom: 0;padding: 0.3em;box-sizing: border-box;text-align: center;}#sk-container-id-5 label.sk-toggleable__label-arrow:before {content: \"▸\";float: left;margin-right: 0.25em;color: #696969;}#sk-container-id-5 label.sk-toggleable__label-arrow:hover:before {color: black;}#sk-container-id-5 div.sk-estimator:hover label.sk-toggleable__label-arrow:before {color: black;}#sk-container-id-5 div.sk-toggleable__content {max-height: 0;max-width: 0;overflow: hidden;text-align: left;background-color: #f0f8ff;}#sk-container-id-5 div.sk-toggleable__content pre {margin: 0.2em;color: black;border-radius: 0.25em;background-color: #f0f8ff;}#sk-container-id-5 input.sk-toggleable__control:checked~div.sk-toggleable__content {max-height: 200px;max-width: 100%;overflow: auto;}#sk-container-id-5 input.sk-toggleable__control:checked~label.sk-toggleable__label-arrow:before {content: \"▾\";}#sk-container-id-5 div.sk-estimator input.sk-toggleable__control:checked~label.sk-toggleable__label {background-color: #d4ebff;}#sk-container-id-5 div.sk-label input.sk-toggleable__control:checked~label.sk-toggleable__label {background-color: #d4ebff;}#sk-container-id-5 input.sk-hidden--visually {border: 0;clip: rect(1px 1px 1px 1px);clip: rect(1px, 1px, 1px, 1px);height: 1px;margin: -1px;overflow: hidden;padding: 0;position: absolute;width: 1px;}#sk-container-id-5 div.sk-estimator {font-family: monospace;background-color: #f0f8ff;border: 1px dotted black;border-radius: 0.25em;box-sizing: border-box;margin-bottom: 0.5em;}#sk-container-id-5 div.sk-estimator:hover {background-color: #d4ebff;}#sk-container-id-5 div.sk-parallel-item::after {content: \"\";width: 100%;border-bottom: 1px solid gray;flex-grow: 1;}#sk-container-id-5 div.sk-label:hover label.sk-toggleable__label {background-color: #d4ebff;}#sk-container-id-5 div.sk-serial::before {content: \"\";position: absolute;border-left: 1px solid gray;box-sizing: border-box;top: 0;bottom: 0;left: 50%;z-index: 0;}#sk-container-id-5 div.sk-serial {display: flex;flex-direction: column;align-items: center;background-color: white;padding-right: 0.2em;padding-left: 0.2em;position: relative;}#sk-container-id-5 div.sk-item {position: relative;z-index: 1;}#sk-container-id-5 div.sk-parallel {display: flex;align-items: stretch;justify-content: center;background-color: white;position: relative;}#sk-container-id-5 div.sk-item::before, #sk-container-id-5 div.sk-parallel-item::before {content: \"\";position: absolute;border-left: 1px solid gray;box-sizing: border-box;top: 0;bottom: 0;left: 50%;z-index: -1;}#sk-container-id-5 div.sk-parallel-item {display: flex;flex-direction: column;z-index: 1;position: relative;background-color: white;}#sk-container-id-5 div.sk-parallel-item:first-child::after {align-self: flex-end;width: 50%;}#sk-container-id-5 div.sk-parallel-item:last-child::after {align-self: flex-start;width: 50%;}#sk-container-id-5 div.sk-parallel-item:only-child::after {width: 0;}#sk-container-id-5 div.sk-dashed-wrapped {border: 1px dashed gray;margin: 0 0.4em 0.5em 0.4em;box-sizing: border-box;padding-bottom: 0.4em;background-color: white;}#sk-container-id-5 div.sk-label label {font-family: monospace;font-weight: bold;display: inline-block;line-height: 1.2em;}#sk-container-id-5 div.sk-label-container {text-align: center;}#sk-container-id-5 div.sk-container {/* jupyter's `normalize.less` sets `[hidden] { display: none; }` but bootstrap.min.css set `[hidden] { display: none !important; }` so we also need the `!important` here to be able to override the default hidden behavior on the sphinx rendered scikit-learn.org. See: https://github.com/scikit-learn/scikit-learn/issues/21755 */display: inline-block !important;position: relative;}#sk-container-id-5 div.sk-text-repr-fallback {display: none;}</style><div id=\"sk-container-id-5\" class=\"sk-top-container\"><div class=\"sk-text-repr-fallback\"><pre>RandomForestClassifier()</pre><b>In a Jupyter environment, please rerun this cell to show the HTML representation or trust the notebook. <br />On GitHub, the HTML representation is unable to render, please try loading this page with nbviewer.org.</b></div><div class=\"sk-container\" hidden><div class=\"sk-item\"><div class=\"sk-estimator sk-toggleable\"><input class=\"sk-toggleable__control sk-hidden--visually\" id=\"sk-estimator-id-5\" type=\"checkbox\" checked><label for=\"sk-estimator-id-5\" class=\"sk-toggleable__label sk-toggleable__label-arrow\">RandomForestClassifier</label><div class=\"sk-toggleable__content\"><pre>RandomForestClassifier()</pre></div></div></div></div></div>"
      ],
      "text/plain": [
       "RandomForestClassifier()"
      ]
     },
     "execution_count": 116,
     "metadata": {},
     "output_type": "execute_result"
    }
   ],
   "source": [
    "X_train, X_test, y_train, y_test = train_test_split(X, y, test_size=0.2, random_state=42)\n",
    "\n",
    "RF = RandomForestClassifier()\n",
    "RF.fit(X_train, y_train)"
   ]
  },
  {
   "cell_type": "code",
   "execution_count": 117,
   "id": "3563649f",
   "metadata": {},
   "outputs": [
    {
     "name": "stdout",
     "output_type": "stream",
     "text": [
      "0.495375\n"
     ]
    }
   ],
   "source": [
    "y_pred = RF.predict(X_test)\n",
    "accuracy = accuracy_score(y_test, y_pred)\n",
    "print(accuracy)"
   ]
  },
  {
   "cell_type": "code",
   "execution_count": 132,
   "id": "1c0fe6f8",
   "metadata": {},
   "outputs": [],
   "source": [
    "df4 = df[df['고객구분'] == 1]"
   ]
  },
  {
   "cell_type": "code",
   "execution_count": 128,
   "id": "7943ac2e",
   "metadata": {},
   "outputs": [
    {
     "name": "stderr",
     "output_type": "stream",
     "text": [
      "C:\\Users\\Home\\AppData\\Local\\Temp\\ipykernel_14024\\3871133042.py:1: SettingWithCopyWarning: \n",
      "A value is trying to be set on a copy of a slice from a DataFrame.\n",
      "Try using .loc[row_indexer,col_indexer] = value instead\n",
      "\n",
      "See the caveats in the documentation: https://pandas.pydata.org/pandas-docs/stable/user_guide/indexing.html#returning-a-view-versus-a-copy\n",
      "  df4['_1순위신용체크구분'] = label_encoder.fit_transform(df4['_1순위신용체크구분'])\n",
      "C:\\Users\\Home\\AppData\\Local\\Temp\\ipykernel_14024\\3871133042.py:3: SettingWithCopyWarning: \n",
      "A value is trying to be set on a copy of a slice from a DataFrame.\n",
      "Try using .loc[row_indexer,col_indexer] = value instead\n",
      "\n",
      "See the caveats in the documentation: https://pandas.pydata.org/pandas-docs/stable/user_guide/indexing.html#returning-a-view-versus-a-copy\n",
      "  df4['자격기준'] = label_encoder.fit_transform(df4['자격기준'])\n",
      "C:\\Users\\Home\\AppData\\Local\\Temp\\ipykernel_14024\\3871133042.py:5: SettingWithCopyWarning: \n",
      "A value is trying to be set on a copy of a slice from a DataFrame.\n",
      "Try using .loc[row_indexer,col_indexer] = value instead\n",
      "\n",
      "See the caveats in the documentation: https://pandas.pydata.org/pandas-docs/stable/user_guide/indexing.html#returning-a-view-versus-a-copy\n",
      "  df4['Life_Stage'] = label_encoder.fit_transform(df4['Life_Stage'])\n",
      "C:\\Users\\Home\\AppData\\Local\\Temp\\ipykernel_14024\\3871133042.py:7: SettingWithCopyWarning: \n",
      "A value is trying to be set on a copy of a slice from a DataFrame.\n",
      "Try using .loc[row_indexer,col_indexer] = value instead\n",
      "\n",
      "See the caveats in the documentation: https://pandas.pydata.org/pandas-docs/stable/user_guide/indexing.html#returning-a-view-versus-a-copy\n",
      "  df4['이용금액대'] = label_encoder.fit_transform(df4['이용금액대'])\n"
     ]
    }
   ],
   "source": [
    "df4['_1순위신용체크구분'] = label_encoder.fit_transform(df4['_1순위신용체크구분'])\n",
    "\n",
    "df4['자격기준'] = label_encoder.fit_transform(df4['자격기준'])\n",
    "\n",
    "df4['Life_Stage'] = label_encoder.fit_transform(df4['Life_Stage'])\n",
    "\n",
    "df4['이용금액대'] = label_encoder.fit_transform(df4['이용금액대'])"
   ]
  },
  {
   "cell_type": "code",
   "execution_count": 120,
   "id": "587ab381",
   "metadata": {},
   "outputs": [],
   "source": [
    "col = ['회원번호','자격구분상세','연회비청구구분_B0M','거주시도명','거주시군구명','직장시도명','직장시군구명','납부_렌탈료이용금액','컨택건수_CA_TM_B0M','컨택건수_CA_EM_B0M','컨택건수_리볼빙_EM_B0M','컨택건수_리볼빙_청구서_B0M','컨택건수_카드론_인터넷_B0M','컨택건수_CA_인터넷_B0M','컨택건수_리볼빙_인터넷_B0M','컨택건수_CA_EM_R6M','컨택건수_리볼빙_EM_R6M','컨택건수_리볼빙_청구서_R6M','컨택건수_카드론_인터넷_R6M','컨택건수_CA_인터넷_R6M','컨택건수_리볼빙_인터넷_R6M']\n",
    "df4 = df4.drop(columns = col,axis = 1)"
   ]
  },
  {
   "cell_type": "code",
   "execution_count": 133,
   "id": "e2275fa6",
   "metadata": {},
   "outputs": [],
   "source": [
    "# df4 = df4.drop('고객구분',axis = 1)\n",
    "df4 = df4[['연령']]"
   ]
  },
  {
   "cell_type": "code",
   "execution_count": 134,
   "id": "e3e0a295",
   "metadata": {},
   "outputs": [],
   "source": [
    "df4['first_step_prediction'] = RF.predict(df4)"
   ]
  },
  {
   "cell_type": "code",
   "execution_count": 135,
   "id": "be7b6ebb",
   "metadata": {},
   "outputs": [
    {
     "data": {
      "text/plain": [
       "2    15363\n",
       "0    13672\n",
       "Name: first_step_prediction, dtype: int64"
      ]
     },
     "execution_count": 135,
     "metadata": {},
     "output_type": "execute_result"
    }
   ],
   "source": [
    "df4['first_step_prediction'].value_counts()"
   ]
  },
  {
   "cell_type": "code",
   "execution_count": 138,
   "id": "f0cc0a3b",
   "metadata": {},
   "outputs": [
    {
     "data": {
      "text/plain": [
       "136"
      ]
     },
     "execution_count": 138,
     "metadata": {},
     "output_type": "execute_result"
    }
   ],
   "source": [
    "df.loc[69, '_1순위카드ID']"
   ]
  },
  {
   "cell_type": "code",
   "execution_count": null,
   "id": "c3ab4a39",
   "metadata": {},
   "outputs": [],
   "source": []
  }
 ],
 "metadata": {
  "kernelspec": {
   "display_name": "Python 3 (ipykernel)",
   "language": "python",
   "name": "python3"
  },
  "language_info": {
   "codemirror_mode": {
    "name": "ipython",
    "version": 3
   },
   "file_extension": ".py",
   "mimetype": "text/x-python",
   "name": "python",
   "nbconvert_exporter": "python",
   "pygments_lexer": "ipython3",
   "version": "3.10.9"
  }
 },
 "nbformat": 4,
 "nbformat_minor": 5
}
