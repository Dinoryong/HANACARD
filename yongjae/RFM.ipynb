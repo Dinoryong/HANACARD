{
 "cells": [
  {
   "cell_type": "code",
   "execution_count": 1,
   "id": "5f2e7308",
   "metadata": {},
   "outputs": [],
   "source": [
    "import pandas as pd\n",
    "import numpy as np\n",
    "import matplotlib.pyplot as plt\n",
    "import seaborn as sns\n",
    "import scipy.stats as stats\n",
    "from sklearn.preprocessing import LabelEncoder\n",
    "from sklearn.model_selection import train_test_split\n",
    "from sklearn.ensemble import ExtraTreesClassifier\n",
    "from sklearn.ensemble import RandomForestClassifier\n",
    "from sklearn.metrics import accuracy_score\n",
    "from matplotlib.ticker import ScalarFormatter\n",
    "from sklearn.metrics import confusion_matrix\n",
    "from sklearn.preprocessing import StandardScaler\n",
    "from sklearn.decomposition import PCA"
   ]
  },
  {
   "cell_type": "code",
   "execution_count": 2,
   "id": "4ab3db36",
   "metadata": {},
   "outputs": [],
   "source": [
    "import os\n",
    "\n",
    "if os.name == 'posix':\n",
    "    plt.rc(\"font\", family=\"AppleGothic\")\n",
    "else:\n",
    "    plt.rc(\"font\", family=\"Malgun Gothic\")"
   ]
  },
  {
   "cell_type": "code",
   "execution_count": 3,
   "id": "1e266297",
   "metadata": {},
   "outputs": [],
   "source": [
    "df = pd.read_csv('C:/Users/Home/Desktop/Data/2차/CardData_new.csv', encoding = 'cp949')"
   ]
  },
  {
   "cell_type": "code",
   "execution_count": 5,
   "id": "bf5fd5ac",
   "metadata": {},
   "outputs": [],
   "source": [
    "d = {\n",
    "    '21.Active_연속' : 0,\n",
    "    '22.Active_간헐' : 1,\n",
    "    '34.휴면_9M+' : 2,\n",
    "    '32.휴면_6M-' : 2,\n",
    "    '33.휴면_9M-' : 2,\n",
    "    '31.휴면_3M' : 2\n",
    "}\n",
    "df['고객구분'] = df['고객구분'].map(d)"
   ]
  },
  {
   "cell_type": "code",
   "execution_count": 6,
   "id": "c7646cd2",
   "metadata": {},
   "outputs": [],
   "source": [
    "df2 = df.copy()"
   ]
  },
  {
   "cell_type": "code",
   "execution_count": 7,
   "id": "ecc7c250",
   "metadata": {},
   "outputs": [
    {
     "data": {
      "text/plain": [
       "0      62116\n",
       "1      38308\n",
       "2      15646\n",
       "3      10565\n",
       "4       8461\n",
       "       ...  \n",
       "245        1\n",
       "318        1\n",
       "355        1\n",
       "261        1\n",
       "260        1\n",
       "Name: 이용건수_신용_B0M, Length: 271, dtype: int64"
      ]
     },
     "execution_count": 7,
     "metadata": {},
     "output_type": "execute_result"
    }
   ],
   "source": [
    "df2['이용건수_신용_B0M'].value_counts()"
   ]
  },
  {
   "cell_type": "code",
   "execution_count": 15,
   "id": "f86ee67a",
   "metadata": {},
   "outputs": [
    {
     "data": {
      "text/plain": [
       " 0      259808\n",
       " 1        5588\n",
       " 2        3168\n",
       " 3        2187\n",
       " 4        1744\n",
       "         ...  \n",
       " 282         1\n",
       " 168         1\n",
       " 158         1\n",
       " 302         1\n",
       "-28          1\n",
       "Name: 이용건수_체크_B0M, Length: 191, dtype: int64"
      ]
     },
     "execution_count": 15,
     "metadata": {},
     "output_type": "execute_result"
    }
   ],
   "source": [
    "df2['이용건수_체크_B0M'].value_counts()"
   ]
  },
  {
   "cell_type": "code",
   "execution_count": 20,
   "id": "446076d6",
   "metadata": {},
   "outputs": [],
   "source": [
    "df2['Recency'] = (df2['이용건수_신용_B0M'].apply(lambda x: 0 if x <= 0 else 1) +\n",
    "                 df2['이용건수_체크_B0M'].apply(lambda x: 0 if x <= 0 else 1) +\n",
    "                 df2['이용건수_카드론_B0M'].apply(lambda x: 0 if x <= 0 else 1) +\n",
    "                 df2['이용건수_카드론_R3M'].apply(lambda x: 0 if x <= 0 else 1) +\n",
    "                 df2['RP건수_B0M'].apply(lambda x: 0 if x <= 0 else 1) +\n",
    "                 df2['이용건수_온라인_B0M'].apply(lambda x: 0 if x <= 0 else 1) +\n",
    "                 df2['이용건수_오프라인_B0M'].apply(lambda x: 0 if x <= 0 else 1) +\n",
    "                 df2['이용건수_페이_오프라인_R3M'].apply(lambda x: 0 if x <= 0 else 1) +\n",
    "                 df2['이용건수_페이_온라인_B0M'].apply(lambda x: 0 if x <= 0 else 1) +\n",
    "                 df2['이용건수_페이_오프라인_B0M'].apply(lambda x: 0 if x <= 0 else 1) +\n",
    "                 df2['이용개월수_전체_R3M'].apply(lambda x: 0 if x <= 0 else 1))"
   ]
  },
  {
   "cell_type": "code",
   "execution_count": 22,
   "id": "118d47c9",
   "metadata": {},
   "outputs": [
    {
     "data": {
      "text/plain": [
       "0     37844\n",
       "1     19894\n",
       "2      6154\n",
       "3     49885\n",
       "4     80288\n",
       "5     37126\n",
       "6     41396\n",
       "7     13836\n",
       "8     11192\n",
       "9      2250\n",
       "10      113\n",
       "11       22\n",
       "Name: Recency, dtype: int64"
      ]
     },
     "execution_count": 22,
     "metadata": {},
     "output_type": "execute_result"
    }
   ],
   "source": [
    "df2['Recency'].value_counts().sort_index()"
   ]
  },
  {
   "cell_type": "code",
   "execution_count": 26,
   "id": "f745c4cc",
   "metadata": {},
   "outputs": [
    {
     "data": {
      "text/plain": [
       "True     299933\n",
       "False        67\n",
       "dtype: int64"
      ]
     },
     "execution_count": 26,
     "metadata": {},
     "output_type": "execute_result"
    }
   ],
   "source": [
    "(df2['_1순위카드이용건수'] <= df2['이용건수_신용_R12M']).value_counts()   "
   ]
  },
  {
   "cell_type": "code",
   "execution_count": 29,
   "id": "0c4223ad",
   "metadata": {},
   "outputs": [
    {
     "data": {
      "text/plain": [
       "True     299937\n",
       "False        63\n",
       "dtype: int64"
      ]
     },
     "execution_count": 29,
     "metadata": {},
     "output_type": "execute_result"
    }
   ],
   "source": [
    "(df2['_1순위카드이용건수'] <= df2['이용건수_신용_R12M'] + df2['이용건수_체크_R12M']).value_counts()"
   ]
  },
  {
   "cell_type": "code",
   "execution_count": 30,
   "id": "44fff61e",
   "metadata": {},
   "outputs": [],
   "source": [
    "df2['Frequency'] = df2['이용건수_신용_R12M']/12 + df2['이용건수_체크_R12M']/12 + df2['이용건수_카드론_R12M']/12"
   ]
  },
  {
   "cell_type": "code",
   "execution_count": 35,
   "id": "ad93e8cb",
   "metadata": {
    "scrolled": true
   },
   "outputs": [
    {
     "data": {
      "text/plain": [
       "True     299060\n",
       "False       940\n",
       "dtype: int64"
      ]
     },
     "execution_count": 35,
     "metadata": {},
     "output_type": "execute_result"
    }
   ],
   "source": [
    "(df2['이용금액_업종기준'] <= df2['이용금액_신용_R12M']+ df2['이용금액_체크_R12M']+ df2['이용금액_카드론_R12M']).value_counts()"
   ]
  },
  {
   "cell_type": "code",
   "execution_count": 36,
   "id": "ab8a8561",
   "metadata": {},
   "outputs": [],
   "source": [
    "df2['Monetary'] = df2['이용금액_신용_R12M'] + df2['이용금액_체크_R12M'] + df2['이용금액_카드론_R12M'] + df2['이용금액_업종기준']"
   ]
  },
  {
   "cell_type": "code",
   "execution_count": 38,
   "id": "24553809",
   "metadata": {},
   "outputs": [
    {
     "data": {
      "text/plain": [
       "01.100만원+    61467\n",
       "05.10만원-     59192\n",
       "02.50만원+     54216\n",
       "09.미사용       48480\n",
       "03.30만원+     39667\n",
       "04.10만원+     36978\n",
       "Name: 이용금액대, dtype: int64"
      ]
     },
     "execution_count": 38,
     "metadata": {},
     "output_type": "execute_result"
    }
   ],
   "source": [
    "df2['이용금액대'].value_counts()"
   ]
  },
  {
   "cell_type": "code",
   "execution_count": 40,
   "id": "bdd798cc",
   "metadata": {
    "scrolled": true
   },
   "outputs": [
    {
     "data": {
      "text/plain": [
       "0      24932\n",
       "1       7199\n",
       "2       5993\n",
       "3       5253\n",
       "4       5416\n",
       "5       5466\n",
       "6       6392\n",
       "7       9289\n",
       "8       9054\n",
       "9      10046\n",
       "10     12919\n",
       "11     18685\n",
       "12    179356\n",
       "Name: 이용개월수_신용_R12M, dtype: int64"
      ]
     },
     "execution_count": 40,
     "metadata": {},
     "output_type": "execute_result"
    }
   ],
   "source": [
    "df2['이용개월수_신용_R12M'].value_counts().sort_index()"
   ]
  },
  {
   "cell_type": "code",
   "execution_count": 44,
   "id": "d4321e93",
   "metadata": {},
   "outputs": [
    {
     "data": {
      "text/plain": [
       "14481927.5"
      ]
     },
     "execution_count": 44,
     "metadata": {},
     "output_type": "execute_result"
    }
   ],
   "source": [
    "df2['Monetary'].quantile(0.75)"
   ]
  },
  {
   "cell_type": "code",
   "execution_count": 43,
   "id": "481a0946",
   "metadata": {},
   "outputs": [
    {
     "data": {
      "text/plain": [
       "0     37844\n",
       "1     19894\n",
       "2      6154\n",
       "3     49885\n",
       "4     80288\n",
       "5     37126\n",
       "6     41396\n",
       "7     13836\n",
       "8     11192\n",
       "9      2250\n",
       "10      113\n",
       "11       22\n",
       "Name: Recency, dtype: int64"
      ]
     },
     "execution_count": 43,
     "metadata": {},
     "output_type": "execute_result"
    }
   ],
   "source": [
    "df2['Recency'].value_counts().sort_index()"
   ]
  },
  {
   "cell_type": "code",
   "execution_count": 48,
   "id": "42d1bbe0",
   "metadata": {},
   "outputs": [
    {
     "data": {
      "text/plain": [
       "67185525"
      ]
     },
     "execution_count": 48,
     "metadata": {},
     "output_type": "execute_result"
    }
   ],
   "source": [
    "df2['Monetary'].nlargest(3000).iloc[-1]"
   ]
  },
  {
   "cell_type": "markdown",
   "id": "5a53dbe0",
   "metadata": {},
   "source": [
    "실제 하나카드 VVIP 기준 소비금액 상위 3000명"
   ]
  },
  {
   "cell_type": "code",
   "execution_count": 49,
   "id": "de74c784",
   "metadata": {
    "scrolled": true
   },
   "outputs": [
    {
     "data": {
      "text/plain": [
       "0         False\n",
       "1         False\n",
       "2         False\n",
       "3         False\n",
       "4         False\n",
       "          ...  \n",
       "299995    False\n",
       "299996    False\n",
       "299997    False\n",
       "299998    False\n",
       "299999    False\n",
       "Name: Monetary, Length: 300000, dtype: bool"
      ]
     },
     "execution_count": 49,
     "metadata": {},
     "output_type": "execute_result"
    }
   ],
   "source": [
    "df2['Monetary'] == 67185525"
   ]
  },
  {
   "cell_type": "markdown",
   "id": "e529d859",
   "metadata": {},
   "source": [
    "퍼스트 - 종합금액 7천 초과 // 벌써 어긋남"
   ]
  },
  {
   "cell_type": "markdown",
   "id": "779581a0",
   "metadata": {},
   "source": [
    "로열 - 종합금액 3300만원 초과"
   ]
  },
  {
   "cell_type": "markdown",
   "id": "6b5065cd",
   "metadata": {},
   "source": [
    "클래식 - 종합금액 1700만원 초과"
   ]
  },
  {
   "cell_type": "markdown",
   "id": "d3c65697",
   "metadata": {},
   "source": [
    "자체기준  0 -> 0.2,"
   ]
  },
  {
   "cell_type": "markdown",
   "id": "7a46fe92",
   "metadata": {},
   "source": [
    "VIP"
   ]
  },
  {
   "cell_type": "code",
   "execution_count": 57,
   "id": "1afcfbfc",
   "metadata": {},
   "outputs": [
    {
     "data": {
      "text/plain": [
       "6375778.0"
      ]
     },
     "execution_count": 57,
     "metadata": {},
     "output_type": "execute_result"
    }
   ],
   "source": [
    "df2['Monetary'].quantile(0.5)"
   ]
  },
  {
   "cell_type": "code",
   "execution_count": 56,
   "id": "55108d47",
   "metadata": {},
   "outputs": [
    {
     "data": {
      "text/plain": [
       "1.3333333333333333"
      ]
     },
     "execution_count": 56,
     "metadata": {},
     "output_type": "execute_result"
    }
   ],
   "source": [
    "df2['Frequency'].quantile(0.2)"
   ]
  },
  {
   "cell_type": "code",
   "execution_count": null,
   "id": "203142dc",
   "metadata": {},
   "outputs": [],
   "source": [
    "df2['Recency'] > 9 , \n",
    "df2['Frequency'] > 55.25, #(0.9)\n",
    "df2['Monetary'] > 26192024 #(0.9)"
   ]
  },
  {
   "cell_type": "code",
   "execution_count": 58,
   "id": "b0706fdc",
   "metadata": {},
   "outputs": [
    {
     "data": {
      "text/plain": [
       "0    178046\n",
       "1    121954\n",
       "Name: 탈회여부, dtype: int64"
      ]
     },
     "execution_count": 58,
     "metadata": {},
     "output_type": "execute_result"
    }
   ],
   "source": [
    "df['탈회여부'].value_counts()"
   ]
  },
  {
   "cell_type": "markdown",
   "id": "53314b2d",
   "metadata": {},
   "source": [
    "충성고객"
   ]
  },
  {
   "cell_type": "code",
   "execution_count": null,
   "id": "8e0d559b",
   "metadata": {},
   "outputs": [],
   "source": [
    "df2['Recency'] > 9, \n",
    "df2['Frequency'] > 11 #(0.5),\n",
    "df2['Monetary'] < 670380 #(0.2)"
   ]
  },
  {
   "cell_type": "markdown",
   "id": "3107ba64",
   "metadata": {},
   "source": [
    "잠재 VIP 고객"
   ]
  },
  {
   "cell_type": "code",
   "execution_count": null,
   "id": "49161e35",
   "metadata": {},
   "outputs": [],
   "source": [
    "df2['Recency'] > 9,\n",
    "df2['Frequency'] < 1.3, #(0.2)\n",
    "df2['Monetary'] > 6375778 #(0.5)"
   ]
  },
  {
   "cell_type": "markdown",
   "id": "3e5e767c",
   "metadata": {},
   "source": [
    "잠재 충성 고객"
   ]
  },
  {
   "cell_type": "code",
   "execution_count": null,
   "id": "c6e69da8",
   "metadata": {},
   "outputs": [],
   "source": [
    "df2['Recency'] > 9,\n",
    "df2['Frequency'] < 1.3, #(0.2)\n",
    "df2['Monetary'] < 670380 #(0.2)"
   ]
  },
  {
   "cell_type": "markdown",
   "id": "92e6fb53",
   "metadata": {},
   "source": [
    "놓치면 안될 고객"
   ]
  },
  {
   "cell_type": "code",
   "execution_count": null,
   "id": "2a3f7b1a",
   "metadata": {},
   "outputs": [],
   "source": [
    "0 < df2['Recency'] <= 3,\n",
    "df2['Frequency'] > 11 #(0.5),\n",
    "df2['Monetary'] > 6375778 #(0.5)"
   ]
  },
  {
   "cell_type": "markdown",
   "id": "c76d70e1",
   "metadata": {},
   "source": [
    "관심필요고객"
   ]
  },
  {
   "cell_type": "code",
   "execution_count": null,
   "id": "9d0e65cf",
   "metadata": {},
   "outputs": [],
   "source": [
    "0 < df2['Recency'] <= 3,\n",
    "df2['Frequency'] > 11 #(0.5),\n",
    "df2['Monetary'] < 670380 #(0.2)"
   ]
  },
  {
   "cell_type": "markdown",
   "id": "08bbd9fa",
   "metadata": {},
   "source": [
    "이탈우려고객"
   ]
  },
  {
   "cell_type": "code",
   "execution_count": null,
   "id": "e45fe151",
   "metadata": {},
   "outputs": [],
   "source": [
    "0 < df2['Recency'] <= 3,\n",
    "df2['Frequency'] < 1.3, #(0.2)\n",
    "df2['Monetary'] > 6375778 #(0.5)"
   ]
  },
  {
   "cell_type": "markdown",
   "id": "4e4f68c1",
   "metadata": {},
   "source": [
    "겨울잠고객"
   ]
  },
  {
   "cell_type": "code",
   "execution_count": null,
   "id": "61698d6a",
   "metadata": {},
   "outputs": [],
   "source": [
    "df2['Recency'] <= 3\n",
    "df2['Frequency'] < 1.3, #(0.2)\n",
    "df2['Monetary'] < 670380 #(0.2)"
   ]
  }
 ],
 "metadata": {
  "kernelspec": {
   "display_name": "Python 3 (ipykernel)",
   "language": "python",
   "name": "python3"
  },
  "language_info": {
   "codemirror_mode": {
    "name": "ipython",
    "version": 3
   },
   "file_extension": ".py",
   "mimetype": "text/x-python",
   "name": "python",
   "nbconvert_exporter": "python",
   "pygments_lexer": "ipython3",
   "version": "3.10.9"
  }
 },
 "nbformat": 4,
 "nbformat_minor": 5
}
