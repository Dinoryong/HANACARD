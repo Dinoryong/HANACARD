{
 "cells": [
  {
   "cell_type": "code",
   "execution_count": 1,
   "id": "0984397a",
   "metadata": {},
   "outputs": [],
   "source": [
    "import pandas as pd\n",
    "import numpy as np\n",
    "import matplotlib.pyplot as plt\n",
    "import seaborn as sns\n",
    "import scipy.stats as stats\n",
    "from sklearn.preprocessing import LabelEncoder\n",
    "from sklearn.model_selection import train_test_split\n",
    "from sklearn.ensemble import ExtraTreesClassifier\n",
    "from sklearn.ensemble import RandomForestClassifier\n",
    "from sklearn.metrics import accuracy_score\n",
    "from matplotlib.ticker import ScalarFormatter\n",
    "from sklearn.metrics import confusion_matrix\n",
    "from sklearn.preprocessing import StandardScaler\n",
    "from sklearn.decomposition import PCA"
   ]
  },
  {
   "cell_type": "code",
   "execution_count": 2,
   "id": "3e98f842",
   "metadata": {},
   "outputs": [],
   "source": [
    "import os\n",
    "\n",
    "if os.name == 'posix':\n",
    "    plt.rc(\"font\", family=\"AppleGothic\")\n",
    "else:\n",
    "    plt.rc(\"font\", family=\"Malgun Gothic\")"
   ]
  },
  {
   "cell_type": "code",
   "execution_count": 3,
   "id": "f744496b",
   "metadata": {},
   "outputs": [],
   "source": [
    "df = pd.read_csv('C:/Users/Home/Desktop/Data/2차/CardData_new.csv', encoding = 'cp949')"
   ]
  },
  {
   "cell_type": "code",
   "execution_count": 5,
   "id": "eccb63ce",
   "metadata": {},
   "outputs": [],
   "source": [
    "d = {\n",
    "    '21.Active_연속' : 0,\n",
    "    '22.Active_간헐' : 1,\n",
    "    '34.휴면_9M+' : 2,\n",
    "    '32.휴면_6M-' : 2,\n",
    "    '33.휴면_9M-' : 2,\n",
    "    '31.휴면_3M' : 2\n",
    "}\n",
    "df['고객구분'] = df['고객구분'].map(d)"
   ]
  },
  {
   "cell_type": "code",
   "execution_count": 6,
   "id": "18c52a80",
   "metadata": {},
   "outputs": [],
   "source": [
    "df2 = df.copy()"
   ]
  },
  {
   "cell_type": "code",
   "execution_count": 7,
   "id": "bbd28b92",
   "metadata": {},
   "outputs": [
    {
     "data": {
      "text/plain": [
       "0      62116\n",
       "1      38308\n",
       "2      15646\n",
       "3      10565\n",
       "4       8461\n",
       "       ...  \n",
       "245        1\n",
       "318        1\n",
       "355        1\n",
       "261        1\n",
       "260        1\n",
       "Name: 이용건수_신용_B0M, Length: 271, dtype: int64"
      ]
     },
     "execution_count": 7,
     "metadata": {},
     "output_type": "execute_result"
    }
   ],
   "source": [
    "df2['이용건수_신용_B0M'].value_counts()"
   ]
  },
  {
   "cell_type": "code",
   "execution_count": 15,
   "id": "a10e871d",
   "metadata": {},
   "outputs": [
    {
     "data": {
      "text/plain": [
       " 0      259808\n",
       " 1        5588\n",
       " 2        3168\n",
       " 3        2187\n",
       " 4        1744\n",
       "         ...  \n",
       " 282         1\n",
       " 168         1\n",
       " 158         1\n",
       " 302         1\n",
       "-28          1\n",
       "Name: 이용건수_체크_B0M, Length: 191, dtype: int64"
      ]
     },
     "execution_count": 15,
     "metadata": {},
     "output_type": "execute_result"
    }
   ],
   "source": [
    "df2['이용건수_체크_B0M'].value_counts()"
   ]
  },
  {
   "cell_type": "code",
   "execution_count": 136,
   "id": "4fc38abd",
   "metadata": {},
   "outputs": [],
   "source": [
    "df2['Recency'] = (df2['이용건수_신용_B0M'].apply(lambda x: 0 if x <= 0 else 1) +\n",
    "                 df2['이용건수_체크_B0M'].apply(lambda x: 0 if x <= 0 else 1) +\n",
    "                 df2['이용건수_카드론_B0M'].apply(lambda x: 0 if x <= 0 else 1) +\n",
    "                 df2['이용건수_카드론_R3M'].apply(lambda x: 0 if x <= 0 else 1) +\n",
    "                 df2['RP건수_B0M'].apply(lambda x: 0 if x <= 0 else 1) +\n",
    "                 df2['이용건수_온라인_B0M'].apply(lambda x: 0 if x <= 0 else 1) +\n",
    "                 df2['이용건수_오프라인_B0M'].apply(lambda x: 0 if x <= 0 else 1) +\n",
    "                 df2['이용건수_페이_오프라인_R3M'].apply(lambda x: 0 if x <= 0 else 1) +\n",
    "                 df2['이용건수_페이_온라인_B0M'].apply(lambda x: 0 if x <= 0 else 1) +\n",
    "                 df2['이용건수_페이_오프라인_B0M'].apply(lambda x: 0 if x <= 0 else 1))"
   ]
  },
  {
   "cell_type": "code",
   "execution_count": 70,
   "id": "6b330450",
   "metadata": {
    "scrolled": false
   },
   "outputs": [
    {
     "data": {
      "text/plain": [
       "0     54091\n",
       "1      7604\n",
       "2     43771\n",
       "3     87611\n",
       "4     37835\n",
       "5     41597\n",
       "6     13884\n",
       "7     11222\n",
       "8      2250\n",
       "9       113\n",
       "10       22\n",
       "Name: Recency, dtype: int64"
      ]
     },
     "execution_count": 70,
     "metadata": {},
     "output_type": "execute_result"
    }
   ],
   "source": [
    "df2['Recency'].value_counts().sort_index()"
   ]
  },
  {
   "cell_type": "code",
   "execution_count": 137,
   "id": "b0054653",
   "metadata": {},
   "outputs": [],
   "source": [
    "df2['Frequency'] = df2['이용건수_신용_R12M'] + df2['이용건수_체크_R12M'] + df2['이용건수_카드론_R12M']"
   ]
  },
  {
   "cell_type": "code",
   "execution_count": 138,
   "id": "2453d7d2",
   "metadata": {},
   "outputs": [],
   "source": [
    "df2['Monetary'] = df2['이용금액_신용_R12M'] + df2['이용금액_체크_R12M'] + df2['이용금액_카드론_R12M'] + df2['이용금액_업종기준']"
   ]
  },
  {
   "cell_type": "code",
   "execution_count": 73,
   "id": "5a9ecd30",
   "metadata": {},
   "outputs": [
    {
     "data": {
      "text/plain": [
       "0     237508\n",
       "1       8844\n",
       "2       5546\n",
       "3       4539\n",
       "4       3309\n",
       "5       2951\n",
       "6       2691\n",
       "7       2394\n",
       "8       2038\n",
       "9       1832\n",
       "10      1790\n",
       "11      1626\n",
       "12     24932\n",
       "Name: 이용후경과월_신용, dtype: int64"
      ]
     },
     "execution_count": 73,
     "metadata": {},
     "output_type": "execute_result"
    }
   ],
   "source": [
    "df2['이용후경과월_신용'].value_counts().sort_index()"
   ]
  },
  {
   "cell_type": "code",
   "execution_count": 90,
   "id": "a67c66e4",
   "metadata": {},
   "outputs": [
    {
     "data": {
      "text/plain": [
       "0     54091\n",
       "1      7604\n",
       "2     43771\n",
       "3     87611\n",
       "4     37835\n",
       "5     41597\n",
       "6     13884\n",
       "7     11222\n",
       "8      2250\n",
       "9       113\n",
       "10       22\n",
       "Name: Recency, dtype: int64"
      ]
     },
     "execution_count": 90,
     "metadata": {},
     "output_type": "execute_result"
    }
   ],
   "source": [
    "df2['Recency'].value_counts().sort_index()"
   ]
  },
  {
   "cell_type": "code",
   "execution_count": 139,
   "id": "5d70796b",
   "metadata": {},
   "outputs": [],
   "source": [
    "df2['Recency_5'] = df2['Recency'].map(lambda x : {0 : 5, 1 : 5, 2 :4, 3 : 4, 4: 3, 5:3, 6:2, 7:2, 8:1, 9:1, 10:1}[x])"
   ]
  },
  {
   "cell_type": "code",
   "execution_count": 106,
   "id": "bc6c4824",
   "metadata": {},
   "outputs": [
    {
     "data": {
      "text/plain": [
       "434.0"
      ]
     },
     "execution_count": 106,
     "metadata": {},
     "output_type": "execute_result"
    }
   ],
   "source": [
    "df2['Frequency'].quantile(0.8)"
   ]
  },
  {
   "cell_type": "code",
   "execution_count": 140,
   "id": "5ee44c3e",
   "metadata": {},
   "outputs": [],
   "source": [
    "df2['Frequency_5'] = pd.cut(df2['Frequency'], bins = [df2['Frequency'].quantile(0), df2['Frequency'].quantile(0.2), df2['Frequency'].quantile(0.4),\n",
    "                                 df2['Frequency'].quantile(0.6), df2['Frequency'].quantile(0.8), df2['Frequency'].quantile(1)],\n",
    "      labels = [5, 4, 3, 2, 1], include_lowest = True)"
   ]
  },
  {
   "cell_type": "code",
   "execution_count": 127,
   "id": "f0eb818f",
   "metadata": {},
   "outputs": [
    {
     "data": {
      "text/plain": [
       "5    61253\n",
       "1    59997\n",
       "2    59906\n",
       "3    59529\n",
       "4    59315\n",
       "Name: Frequency, dtype: int64"
      ]
     },
     "execution_count": 127,
     "metadata": {},
     "output_type": "execute_result"
    }
   ],
   "source": [
    "pd.cut(df2['Frequency'], bins = [df2['Frequency'].quantile(0), df2['Frequency'].quantile(0.2), df2['Frequency'].quantile(0.4),\n",
    "                                 df2['Frequency'].quantile(0.6), df2['Frequency'].quantile(0.8), df2['Frequency'].quantile(1)],\n",
    "      labels = [5, 4, 3, 2, 1], include_lowest = True).value_counts()"
   ]
  },
  {
   "cell_type": "code",
   "execution_count": 96,
   "id": "3ded04be",
   "metadata": {},
   "outputs": [
    {
     "data": {
      "text/plain": [
       "5.0"
      ]
     },
     "execution_count": 96,
     "metadata": {},
     "output_type": "execute_result"
    }
   ],
   "source": [
    "df2['Recency'].quantile(0.8)"
   ]
  },
  {
   "cell_type": "code",
   "execution_count": 141,
   "id": "18003376",
   "metadata": {},
   "outputs": [],
   "source": [
    "df2['Monetary_5'] = pd.cut(df2['Monetary'], bins = [df2['Monetary'].quantile(0), df2['Monetary'].quantile(0.2), df2['Monetary'].quantile(0.4),\n",
    "                                 df2['Monetary'].quantile(0.6), df2['Monetary'].quantile(0.8), df2['Monetary'].quantile(1)],\n",
    "      labels = [5, 4, 3, 2, 1], include_lowest = True)"
   ]
  },
  {
   "cell_type": "code",
   "execution_count": 44,
   "id": "26afe9e7",
   "metadata": {},
   "outputs": [
    {
     "data": {
      "text/plain": [
       "14481927.5"
      ]
     },
     "execution_count": 44,
     "metadata": {},
     "output_type": "execute_result"
    }
   ],
   "source": [
    "df2['Monetary'].quantile(0.75)"
   ]
  },
  {
   "cell_type": "code",
   "execution_count": 43,
   "id": "e3206d6f",
   "metadata": {},
   "outputs": [
    {
     "data": {
      "text/plain": [
       "0     37844\n",
       "1     19894\n",
       "2      6154\n",
       "3     49885\n",
       "4     80288\n",
       "5     37126\n",
       "6     41396\n",
       "7     13836\n",
       "8     11192\n",
       "9      2250\n",
       "10      113\n",
       "11       22\n",
       "Name: Recency, dtype: int64"
      ]
     },
     "execution_count": 43,
     "metadata": {},
     "output_type": "execute_result"
    }
   ],
   "source": [
    "df2['Recency'].value_counts().sort_index()"
   ]
  },
  {
   "cell_type": "code",
   "execution_count": 146,
   "id": "57655094",
   "metadata": {},
   "outputs": [
    {
     "data": {
      "text/plain": [
       "5    60000\n",
       "4    60000\n",
       "3    60000\n",
       "2    60000\n",
       "1    60000\n",
       "Name: Monetary_5, dtype: int64"
      ]
     },
     "execution_count": 146,
     "metadata": {},
     "output_type": "execute_result"
    }
   ],
   "source": [
    "df2['Monetary_5'].value_counts()"
   ]
  },
  {
   "cell_type": "markdown",
   "id": "d7328199",
   "metadata": {},
   "source": [
    "RFM (0,1) 2진 분류"
   ]
  },
  {
   "cell_type": "code",
   "execution_count": 155,
   "id": "c7259e6f",
   "metadata": {},
   "outputs": [],
   "source": [
    "threshold = df2['Recency'].quantile(0.8)\n",
    "df2['Recency_2'] = df2['Recency'].apply(lambda x: 0 if x >= threshold else 1)"
   ]
  },
  {
   "cell_type": "code",
   "execution_count": 157,
   "id": "11e772d8",
   "metadata": {},
   "outputs": [],
   "source": [
    "threshold = df2['Frequency'].quantile(0.8)\n",
    "df2['Frequency_2'] = df2['Frequency'].apply(lambda x: 0 if x >= threshold else 1)"
   ]
  },
  {
   "cell_type": "code",
   "execution_count": 158,
   "id": "e51c11c2",
   "metadata": {},
   "outputs": [],
   "source": [
    "threshold = df2['Monetary'].quantile(0.8)\n",
    "df2['Monetary_2'] = df2['Monetary'].apply(lambda x: 0 if x >= threshold else 1)"
   ]
  },
  {
   "cell_type": "code",
   "execution_count": 161,
   "id": "8cdfc6e2",
   "metadata": {},
   "outputs": [
    {
     "data": {
      "text/plain": [
       "1    240000\n",
       "0     60000\n",
       "Name: Monetary_2, dtype: int64"
      ]
     },
     "execution_count": 161,
     "metadata": {},
     "output_type": "execute_result"
    }
   ],
   "source": [
    "df2['Monetary_2'].value_counts()"
   ]
  },
  {
   "cell_type": "markdown",
   "id": "25b42839",
   "metadata": {},
   "source": [
    "실제 하나카드 VVIP 기준 소비금액 상위 3000명"
   ]
  },
  {
   "cell_type": "markdown",
   "id": "faa8fa27",
   "metadata": {},
   "source": [
    "퍼스트 - 종합금액 7천 초과"
   ]
  },
  {
   "cell_type": "markdown",
   "id": "6ec8bd91",
   "metadata": {},
   "source": [
    "로열 - 종합금액 3300만원 초과"
   ]
  },
  {
   "cell_type": "markdown",
   "id": "ba029115",
   "metadata": {},
   "source": [
    "클래식 - 종합금액 1700만원 초과"
   ]
  },
  {
   "cell_type": "markdown",
   "id": "fec23941",
   "metadata": {},
   "source": [
    "자체기준  0 -> 0.2,"
   ]
  },
  {
   "cell_type": "markdown",
   "id": "1a387296",
   "metadata": {},
   "source": [
    "VIP"
   ]
  },
  {
   "cell_type": "markdown",
   "id": "8ff4e2fb",
   "metadata": {},
   "source": [
    "충성고객"
   ]
  },
  {
   "cell_type": "markdown",
   "id": "fb2d64bc",
   "metadata": {},
   "source": [
    "잠재 VIP 고객"
   ]
  },
  {
   "cell_type": "markdown",
   "id": "dc5c4531",
   "metadata": {},
   "source": [
    "잠재 충성 고객"
   ]
  },
  {
   "cell_type": "markdown",
   "id": "c89b9f61",
   "metadata": {},
   "source": [
    "놓치면 안될 고객"
   ]
  },
  {
   "cell_type": "markdown",
   "id": "74db5331",
   "metadata": {},
   "source": [
    "관심필요고객"
   ]
  },
  {
   "cell_type": "markdown",
   "id": "cb5aece4",
   "metadata": {},
   "source": [
    "이탈우려고객"
   ]
  },
  {
   "cell_type": "markdown",
   "id": "24c6f08a",
   "metadata": {},
   "source": [
    "겨울잠고객"
   ]
  },
  {
   "cell_type": "markdown",
   "id": "b74a4843",
   "metadata": {},
   "source": [
    "VIP"
   ]
  },
  {
   "cell_type": "code",
   "execution_count": null,
   "id": "03f9b5b6",
   "metadata": {},
   "outputs": [],
   "source": []
  },
  {
   "cell_type": "markdown",
   "id": "140dc07c",
   "metadata": {},
   "source": [
    "충성고객"
   ]
  },
  {
   "cell_type": "code",
   "execution_count": null,
   "id": "defc5492",
   "metadata": {},
   "outputs": [],
   "source": []
  },
  {
   "cell_type": "markdown",
   "id": "8a123430",
   "metadata": {},
   "source": [
    "잠재 VIP 고객"
   ]
  },
  {
   "cell_type": "code",
   "execution_count": null,
   "id": "07403275",
   "metadata": {},
   "outputs": [],
   "source": []
  },
  {
   "cell_type": "markdown",
   "id": "3e712569",
   "metadata": {},
   "source": [
    "잠재 충성 고객"
   ]
  },
  {
   "cell_type": "code",
   "execution_count": null,
   "id": "23b12166",
   "metadata": {},
   "outputs": [],
   "source": []
  },
  {
   "cell_type": "markdown",
   "id": "28484bf8",
   "metadata": {},
   "source": [
    "놓치면 안될 고객"
   ]
  },
  {
   "cell_type": "code",
   "execution_count": null,
   "id": "2d3b247a",
   "metadata": {},
   "outputs": [],
   "source": []
  },
  {
   "cell_type": "markdown",
   "id": "14a34629",
   "metadata": {},
   "source": [
    "관심필요고객"
   ]
  },
  {
   "cell_type": "code",
   "execution_count": null,
   "id": "ad4d54c8",
   "metadata": {},
   "outputs": [],
   "source": []
  },
  {
   "cell_type": "markdown",
   "id": "9ae15249",
   "metadata": {},
   "source": [
    "이탈우려고객"
   ]
  },
  {
   "cell_type": "code",
   "execution_count": null,
   "id": "edf1fbb7",
   "metadata": {},
   "outputs": [],
   "source": []
  },
  {
   "cell_type": "markdown",
   "id": "55b0e148",
   "metadata": {},
   "source": [
    "겨울잠고객"
   ]
  },
  {
   "cell_type": "code",
   "execution_count": null,
   "id": "835bd0f9",
   "metadata": {},
   "outputs": [],
   "source": []
  },
  {
   "cell_type": "code",
   "execution_count": null,
   "id": "43a963e3",
   "metadata": {},
   "outputs": [],
   "source": []
  },
  {
   "cell_type": "code",
   "execution_count": null,
   "id": "94b85185",
   "metadata": {},
   "outputs": [],
   "source": []
  }
 ],
 "metadata": {
  "kernelspec": {
   "display_name": "Python 3 (ipykernel)",
   "language": "python",
   "name": "python3"
  },
  "language_info": {
   "codemirror_mode": {
    "name": "ipython",
    "version": 3
   },
   "file_extension": ".py",
   "mimetype": "text/x-python",
   "name": "python",
   "nbconvert_exporter": "python",
   "pygments_lexer": "ipython3",
   "version": "3.10.9"
  }
 },
 "nbformat": 4,
 "nbformat_minor": 5
}
