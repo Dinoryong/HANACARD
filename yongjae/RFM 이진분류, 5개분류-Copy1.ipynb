{
 "cells": [
  {
   "cell_type": "code",
   "execution_count": 2,
   "id": "20cd1ec7",
   "metadata": {},
   "outputs": [],
   "source": [
    "import pandas as pd\n",
    "import numpy as np\n",
    "import matplotlib.pyplot as plt\n",
    "import seaborn as sns\n",
    "import scipy.stats as stats\n",
    "from sklearn.preprocessing import LabelEncoder\n",
    "from sklearn.model_selection import train_test_split\n",
    "from sklearn.ensemble import ExtraTreesClassifier\n",
    "from sklearn.ensemble import RandomForestClassifier\n",
    "from sklearn.metrics import accuracy_score\n",
    "from matplotlib.ticker import ScalarFormatter\n",
    "from sklearn.metrics import confusion_matrix\n",
    "from sklearn.preprocessing import StandardScaler\n",
    "from sklearn.decomposition import PCA"
   ]
  },
  {
   "cell_type": "code",
   "execution_count": 3,
   "id": "34deba91",
   "metadata": {},
   "outputs": [],
   "source": [
    "import os\n",
    "\n",
    "if os.name == 'posix':\n",
    "    plt.rc(\"font\", family=\"AppleGothic\")\n",
    "else:\n",
    "    plt.rc(\"font\", family=\"Malgun Gothic\")"
   ]
  },
  {
   "cell_type": "code",
   "execution_count": 5,
   "id": "c818c451",
   "metadata": {},
   "outputs": [],
   "source": [
    "df = pd.read_csv('C:\\data\\CardData_new.csv', encoding='cp949')"
   ]
  },
  {
   "cell_type": "code",
   "execution_count": 6,
   "id": "3cef3c71",
   "metadata": {},
   "outputs": [],
   "source": [
    "d = {\n",
    "    '21.Active_연속' : 0,\n",
    "    '22.Active_간헐' : 1,\n",
    "    '34.휴면_9M+' : 2,\n",
    "    '32.휴면_6M-' : 2,\n",
    "    '33.휴면_9M-' : 2,\n",
    "    '31.휴면_3M' : 2\n",
    "}\n",
    "df['고객구분'] = df['고객구분'].map(d)"
   ]
  },
  {
   "cell_type": "code",
   "execution_count": 7,
   "id": "0a224955",
   "metadata": {},
   "outputs": [],
   "source": [
    "df2 = df.copy()"
   ]
  },
  {
   "cell_type": "code",
   "execution_count": 8,
   "id": "6a00f1b4",
   "metadata": {},
   "outputs": [
    {
     "data": {
      "text/plain": [
       "0      62116\n",
       "1      38308\n",
       "2      15646\n",
       "3      10565\n",
       "4       8461\n",
       "       ...  \n",
       "245        1\n",
       "318        1\n",
       "355        1\n",
       "261        1\n",
       "260        1\n",
       "Name: 이용건수_신용_B0M, Length: 271, dtype: int64"
      ]
     },
     "execution_count": 8,
     "metadata": {},
     "output_type": "execute_result"
    }
   ],
   "source": [
    "df2['이용건수_신용_B0M'].value_counts()"
   ]
  },
  {
   "cell_type": "code",
   "execution_count": 9,
   "id": "1cefe34c",
   "metadata": {},
   "outputs": [
    {
     "data": {
      "text/plain": [
       " 0      259808\n",
       " 1        5588\n",
       " 2        3168\n",
       " 3        2187\n",
       " 4        1744\n",
       "         ...  \n",
       " 282         1\n",
       " 168         1\n",
       " 158         1\n",
       " 302         1\n",
       "-28          1\n",
       "Name: 이용건수_체크_B0M, Length: 191, dtype: int64"
      ]
     },
     "execution_count": 9,
     "metadata": {},
     "output_type": "execute_result"
    }
   ],
   "source": [
    "df2['이용건수_체크_B0M'].value_counts()"
   ]
  },
  {
   "cell_type": "code",
   "execution_count": 136,
   "id": "faff8a47",
   "metadata": {},
   "outputs": [],
   "source": [
    "# df2['Recency'] = (df2['이용건수_신용_B0M'].apply(lambda x: 0 if x <= 0 else 1) +\n",
    "#                  df2['이용건수_체크_B0M'].apply(lambda x: 0 if x <= 0 else 1) +\n",
    "#                  df2['이용건수_카드론_B0M'].apply(lambda x: 0 if x <= 0 else 1) +\n",
    "#                  df2['이용건수_카드론_R3M'].apply(lambda x: 0 if x <= 0 else 1) +\n",
    "#                  df2['RP건수_B0M'].apply(lambda x: 0 if x <= 0 else 1) +\n",
    "#                  df2['이용건수_온라인_B0M'].apply(lambda x: 0 if x <= 0 else 1) +\n",
    "#                  df2['이용건수_오프라인_B0M'].apply(lambda x: 0 if x <= 0 else 1) +\n",
    "#                  df2['이용건수_페이_오프라인_R3M'].apply(lambda x: 0 if x <= 0 else 1) +\n",
    "#                  df2['이용건수_페이_온라인_B0M'].apply(lambda x: 0 if x <= 0 else 1) +\n",
    "#                  df2['이용건수_페이_오프라인_B0M'].apply(lambda x: 0 if x <= 0 else 1))"
   ]
  },
  {
   "cell_type": "code",
   "execution_count": 11,
   "id": "5e131cae",
   "metadata": {},
   "outputs": [],
   "source": [
    "df2['Recency'] = (df[['이용후경과월_신용','이용후경과월_체크', '이용후경과월_카드론']]).min(axis= 1)"
   ]
  },
  {
   "cell_type": "code",
   "execution_count": 13,
   "id": "72e2e853",
   "metadata": {},
   "outputs": [
    {
     "data": {
      "text/plain": [
       "0         0\n",
       "1         0\n",
       "2         0\n",
       "3         0\n",
       "4         1\n",
       "         ..\n",
       "299995    1\n",
       "299996    0\n",
       "299997    1\n",
       "299998    0\n",
       "299999    1\n",
       "Length: 300000, dtype: int64"
      ]
     },
     "execution_count": 13,
     "metadata": {},
     "output_type": "execute_result"
    }
   ],
   "source": [
    "res = []\n",
    "const = (df2[['이용건수_신용_B0M', '이용건수_체크_B0M', '이용건수_카드론_B0M']].sum(axis = 1)).quantile(0.40)\n",
    "\n",
    "for i in range(len(df2)):\n",
    "    if df2.loc[i, 'Recency'] == 0 and (df2.loc[i, ['이용건수_신용_B0M', '이용건수_체크_B0M', '이용건수_카드론_B0M']].sum()) >= const:\n",
    "        res.append(1)\n",
    "    else:\n",
    "        res.append(0)\n",
    "\n",
    "pd.Series(res)"
   ]
  },
  {
   "cell_type": "code",
   "execution_count": 12,
   "id": "d5d9cd10",
   "metadata": {},
   "outputs": [
    {
     "ename": "NameError",
     "evalue": "name 'res' is not defined",
     "output_type": "error",
     "traceback": [
      "\u001b[1;31m---------------------------------------------------------------------------\u001b[0m",
      "\u001b[1;31mNameError\u001b[0m                                 Traceback (most recent call last)",
      "Cell \u001b[1;32mIn[12], line 1\u001b[0m\n\u001b[1;32m----> 1\u001b[0m df2[\u001b[38;5;124m'\u001b[39m\u001b[38;5;124mRecency_2\u001b[39m\u001b[38;5;124m'\u001b[39m] \u001b[38;5;241m=\u001b[39m \u001b[43mres\u001b[49m\n\u001b[0;32m      2\u001b[0m df2[\u001b[38;5;124m'\u001b[39m\u001b[38;5;124mRecency_2\u001b[39m\u001b[38;5;124m'\u001b[39m]\u001b[38;5;241m.\u001b[39mvalue_counts()\n",
      "\u001b[1;31mNameError\u001b[0m: name 'res' is not defined"
     ]
    }
   ],
   "source": [
    "df2['Recency_2'] = res\n",
    "df2['Recency_2'].value_counts()"
   ]
  },
  {
   "cell_type": "code",
   "execution_count": 211,
   "id": "13dd2f4d",
   "metadata": {},
   "outputs": [
    {
     "data": {
      "text/plain": [
       "0    238804\n",
       "1     61196\n",
       "Name: Recency_2, dtype: int64"
      ]
     },
     "execution_count": 211,
     "metadata": {},
     "output_type": "execute_result"
    }
   ],
   "source": [
    "df2['Recency_2'].value_counts()"
   ]
  },
  {
   "cell_type": "code",
   "execution_count": 137,
   "id": "10168ebb",
   "metadata": {},
   "outputs": [],
   "source": [
    "df2['Frequency'] = df2['이용건수_신용_R12M'] + df2['이용건수_체크_R12M'] + df2['이용건수_카드론_R12M']"
   ]
  },
  {
   "cell_type": "code",
   "execution_count": 138,
   "id": "6920520b",
   "metadata": {},
   "outputs": [],
   "source": [
    "df2['Monetary'] = df2['이용금액_신용_R12M'] + df2['이용금액_체크_R12M'] + df2['이용금액_카드론_R12M'] + df2['이용금액_업종기준']"
   ]
  },
  {
   "cell_type": "code",
   "execution_count": 73,
   "id": "652f0bc9",
   "metadata": {},
   "outputs": [
    {
     "data": {
      "text/plain": [
       "0     237508\n",
       "1       8844\n",
       "2       5546\n",
       "3       4539\n",
       "4       3309\n",
       "5       2951\n",
       "6       2691\n",
       "7       2394\n",
       "8       2038\n",
       "9       1832\n",
       "10      1790\n",
       "11      1626\n",
       "12     24932\n",
       "Name: 이용후경과월_신용, dtype: int64"
      ]
     },
     "execution_count": 73,
     "metadata": {},
     "output_type": "execute_result"
    }
   ],
   "source": [
    "df2['이용후경과월_신용'].value_counts().sort_index()"
   ]
  },
  {
   "cell_type": "code",
   "execution_count": 90,
   "id": "29e1de18",
   "metadata": {},
   "outputs": [
    {
     "data": {
      "text/plain": [
       "0     54091\n",
       "1      7604\n",
       "2     43771\n",
       "3     87611\n",
       "4     37835\n",
       "5     41597\n",
       "6     13884\n",
       "7     11222\n",
       "8      2250\n",
       "9       113\n",
       "10       22\n",
       "Name: Recency, dtype: int64"
      ]
     },
     "execution_count": 90,
     "metadata": {},
     "output_type": "execute_result"
    }
   ],
   "source": [
    "df2['Recency'].value_counts().sort_index()"
   ]
  },
  {
   "cell_type": "code",
   "execution_count": 139,
   "id": "62ac7420",
   "metadata": {},
   "outputs": [],
   "source": [
    "df2['Recency_5'] = df2['Recency'].map(lambda x : {0 : 5, 1 : 5, 2 :4, 3 : 4, 4: 3, 5:3, 6:2, 7:2, 8:1, 9:1, 10:1}[x])"
   ]
  },
  {
   "cell_type": "code",
   "execution_count": 106,
   "id": "b43b2482",
   "metadata": {},
   "outputs": [
    {
     "data": {
      "text/plain": [
       "434.0"
      ]
     },
     "execution_count": 106,
     "metadata": {},
     "output_type": "execute_result"
    }
   ],
   "source": [
    "df2['Frequency'].quantile(0.8)"
   ]
  },
  {
   "cell_type": "code",
   "execution_count": 140,
   "id": "f607acd8",
   "metadata": {},
   "outputs": [],
   "source": [
    "df2['Frequency_5'] = pd.cut(df2['Frequency'], bins = [df2['Frequency'].quantile(0), df2['Frequency'].quantile(0.2), df2['Frequency'].quantile(0.4),\n",
    "                                 df2['Frequency'].quantile(0.6), df2['Frequency'].quantile(0.8), df2['Frequency'].quantile(1)],\n",
    "      labels = [5, 4, 3, 2, 1], include_lowest = True)"
   ]
  },
  {
   "cell_type": "code",
   "execution_count": 127,
   "id": "4a2fe52e",
   "metadata": {},
   "outputs": [
    {
     "data": {
      "text/plain": [
       "5    61253\n",
       "1    59997\n",
       "2    59906\n",
       "3    59529\n",
       "4    59315\n",
       "Name: Frequency, dtype: int64"
      ]
     },
     "execution_count": 127,
     "metadata": {},
     "output_type": "execute_result"
    }
   ],
   "source": [
    "pd.cut(df2['Frequency'], bins = [df2['Frequency'].quantile(0), df2['Frequency'].quantile(0.2), df2['Frequency'].quantile(0.4),\n",
    "                                 df2['Frequency'].quantile(0.6), df2['Frequency'].quantile(0.8), df2['Frequency'].quantile(1)],\n",
    "      labels = [5, 4, 3, 2, 1], include_lowest = True).value_counts()"
   ]
  },
  {
   "cell_type": "code",
   "execution_count": 96,
   "id": "0937878b",
   "metadata": {},
   "outputs": [
    {
     "data": {
      "text/plain": [
       "5.0"
      ]
     },
     "execution_count": 96,
     "metadata": {},
     "output_type": "execute_result"
    }
   ],
   "source": [
    "df2['Recency'].quantile(0.8)"
   ]
  },
  {
   "cell_type": "code",
   "execution_count": 141,
   "id": "297a9c52",
   "metadata": {},
   "outputs": [],
   "source": [
    "df2['Monetary_5'] = pd.cut(df2['Monetary'], bins = [df2['Monetary'].quantile(0), df2['Monetary'].quantile(0.2), df2['Monetary'].quantile(0.4),\n",
    "                                 df2['Monetary'].quantile(0.6), df2['Monetary'].quantile(0.8), df2['Monetary'].quantile(1)],\n",
    "      labels = [5, 4, 3, 2, 1], include_lowest = True)"
   ]
  },
  {
   "cell_type": "code",
   "execution_count": 44,
   "id": "966f0921",
   "metadata": {},
   "outputs": [
    {
     "data": {
      "text/plain": [
       "14481927.5"
      ]
     },
     "execution_count": 44,
     "metadata": {},
     "output_type": "execute_result"
    }
   ],
   "source": [
    "df2['Monetary'].quantile(0.75)"
   ]
  },
  {
   "cell_type": "code",
   "execution_count": 43,
   "id": "aadd4368",
   "metadata": {},
   "outputs": [
    {
     "data": {
      "text/plain": [
       "0     37844\n",
       "1     19894\n",
       "2      6154\n",
       "3     49885\n",
       "4     80288\n",
       "5     37126\n",
       "6     41396\n",
       "7     13836\n",
       "8     11192\n",
       "9      2250\n",
       "10      113\n",
       "11       22\n",
       "Name: Recency, dtype: int64"
      ]
     },
     "execution_count": 43,
     "metadata": {},
     "output_type": "execute_result"
    }
   ],
   "source": [
    "df2['Recency'].value_counts().sort_index()"
   ]
  },
  {
   "cell_type": "code",
   "execution_count": 146,
   "id": "6c31edc4",
   "metadata": {},
   "outputs": [
    {
     "data": {
      "text/plain": [
       "5    60000\n",
       "4    60000\n",
       "3    60000\n",
       "2    60000\n",
       "1    60000\n",
       "Name: Monetary_5, dtype: int64"
      ]
     },
     "execution_count": 146,
     "metadata": {},
     "output_type": "execute_result"
    }
   ],
   "source": [
    "df2['Monetary_5'].value_counts()"
   ]
  },
  {
   "cell_type": "markdown",
   "id": "ddfc8259",
   "metadata": {},
   "source": [
    "RFM (0,1) 2진 분류"
   ]
  },
  {
   "cell_type": "code",
   "execution_count": 169,
   "id": "48f3d57a",
   "metadata": {},
   "outputs": [],
   "source": [
    "# threshold = df2['Recency'].quantile(0.8)\n",
    "# df2['Recency_2'] = df2['Recency'].apply(lambda x: 1 if x >= threshold else 0)"
   ]
  },
  {
   "cell_type": "code",
   "execution_count": 1,
   "id": "68ccf80d",
   "metadata": {},
   "outputs": [
    {
     "ename": "NameError",
     "evalue": "name 'df2' is not defined",
     "output_type": "error",
     "traceback": [
      "\u001b[1;31m---------------------------------------------------------------------------\u001b[0m",
      "\u001b[1;31mNameError\u001b[0m                                 Traceback (most recent call last)",
      "Cell \u001b[1;32mIn[1], line 1\u001b[0m\n\u001b[1;32m----> 1\u001b[0m threshold \u001b[38;5;241m=\u001b[39m \u001b[43mdf2\u001b[49m[\u001b[38;5;124m'\u001b[39m\u001b[38;5;124mFrequency\u001b[39m\u001b[38;5;124m'\u001b[39m]\u001b[38;5;241m.\u001b[39mquantile(\u001b[38;5;241m0.8\u001b[39m)\n\u001b[0;32m      2\u001b[0m df2[\u001b[38;5;124m'\u001b[39m\u001b[38;5;124mFrequency_2\u001b[39m\u001b[38;5;124m'\u001b[39m] \u001b[38;5;241m=\u001b[39m df2[\u001b[38;5;124m'\u001b[39m\u001b[38;5;124mFrequency\u001b[39m\u001b[38;5;124m'\u001b[39m]\u001b[38;5;241m.\u001b[39mapply(\u001b[38;5;28;01mlambda\u001b[39;00m x: \u001b[38;5;241m1\u001b[39m \u001b[38;5;28;01mif\u001b[39;00m x \u001b[38;5;241m>\u001b[39m\u001b[38;5;241m=\u001b[39m threshold \u001b[38;5;28;01melse\u001b[39;00m \u001b[38;5;241m0\u001b[39m)\n",
      "\u001b[1;31mNameError\u001b[0m: name 'df2' is not defined"
     ]
    }
   ],
   "source": [
    "threshold = df2['Frequency'].quantile(0.8)\n",
    "df2['Frequency_2'] = df2['Frequency'].apply(lambda x: 1 if x >= threshold else 0)"
   ]
  },
  {
   "cell_type": "code",
   "execution_count": 195,
   "id": "300c8bdf",
   "metadata": {},
   "outputs": [],
   "source": [
    "threshold = df2['Monetary'].quantile(0.8)\n",
    "df2['Monetary_2'] = df2['Monetary'].apply(lambda x: 1 if x >= threshold else 0)"
   ]
  },
  {
   "cell_type": "code",
   "execution_count": 172,
   "id": "913dae93",
   "metadata": {},
   "outputs": [
    {
     "data": {
      "text/plain": [
       "0    240000\n",
       "1     60000\n",
       "Name: Monetary_2, dtype: int64"
      ]
     },
     "execution_count": 172,
     "metadata": {},
     "output_type": "execute_result"
    }
   ],
   "source": [
    "df2['Monetary_2'].value_counts()"
   ]
  },
  {
   "cell_type": "code",
   "execution_count": 164,
   "id": "cac18988",
   "metadata": {},
   "outputs": [
    {
     "data": {
      "text/html": [
       "<div>\n",
       "<style scoped>\n",
       "    .dataframe tbody tr th:only-of-type {\n",
       "        vertical-align: middle;\n",
       "    }\n",
       "\n",
       "    .dataframe tbody tr th {\n",
       "        vertical-align: top;\n",
       "    }\n",
       "\n",
       "    .dataframe thead th {\n",
       "        text-align: right;\n",
       "    }\n",
       "</style>\n",
       "<table border=\"1\" class=\"dataframe\">\n",
       "  <thead>\n",
       "    <tr style=\"text-align: right;\">\n",
       "      <th></th>\n",
       "      <th>회원번호</th>\n",
       "      <th>남녀구분코드</th>\n",
       "      <th>연령</th>\n",
       "      <th>소지여부_신용</th>\n",
       "      <th>입회일자_신용</th>\n",
       "      <th>입회경과개월수_신용</th>\n",
       "      <th>탈회여부</th>\n",
       "      <th>회원여부_연체</th>\n",
       "      <th>수신거부여부_TM</th>\n",
       "      <th>수신거부여부_DM</th>\n",
       "      <th>...</th>\n",
       "      <th>recency</th>\n",
       "      <th>Recency</th>\n",
       "      <th>Frequency</th>\n",
       "      <th>Monetary</th>\n",
       "      <th>Recency_5</th>\n",
       "      <th>Frequency_5</th>\n",
       "      <th>Monetary_5</th>\n",
       "      <th>Recency_2</th>\n",
       "      <th>Frequency_2</th>\n",
       "      <th>Monetary_2</th>\n",
       "    </tr>\n",
       "  </thead>\n",
       "  <tbody>\n",
       "    <tr>\n",
       "      <th>0</th>\n",
       "      <td>YNtSN9Oa</td>\n",
       "      <td>2</td>\n",
       "      <td>64</td>\n",
       "      <td>1</td>\n",
       "      <td>20140709</td>\n",
       "      <td>54</td>\n",
       "      <td>1</td>\n",
       "      <td>0</td>\n",
       "      <td>0</td>\n",
       "      <td>0</td>\n",
       "      <td>...</td>\n",
       "      <td>1</td>\n",
       "      <td>3</td>\n",
       "      <td>29</td>\n",
       "      <td>615650</td>\n",
       "      <td>4</td>\n",
       "      <td>4</td>\n",
       "      <td>5</td>\n",
       "      <td>1</td>\n",
       "      <td>1</td>\n",
       "      <td>1</td>\n",
       "    </tr>\n",
       "    <tr>\n",
       "      <th>1</th>\n",
       "      <td>Rijqdlzu</td>\n",
       "      <td>1</td>\n",
       "      <td>24</td>\n",
       "      <td>1</td>\n",
       "      <td>20170412</td>\n",
       "      <td>21</td>\n",
       "      <td>0</td>\n",
       "      <td>0</td>\n",
       "      <td>0</td>\n",
       "      <td>0</td>\n",
       "      <td>...</td>\n",
       "      <td>1</td>\n",
       "      <td>3</td>\n",
       "      <td>24</td>\n",
       "      <td>840480</td>\n",
       "      <td>4</td>\n",
       "      <td>4</td>\n",
       "      <td>4</td>\n",
       "      <td>1</td>\n",
       "      <td>1</td>\n",
       "      <td>1</td>\n",
       "    </tr>\n",
       "    <tr>\n",
       "      <th>2</th>\n",
       "      <td>NOsf3TZS</td>\n",
       "      <td>2</td>\n",
       "      <td>43</td>\n",
       "      <td>1</td>\n",
       "      <td>20170426</td>\n",
       "      <td>21</td>\n",
       "      <td>1</td>\n",
       "      <td>0</td>\n",
       "      <td>1</td>\n",
       "      <td>0</td>\n",
       "      <td>...</td>\n",
       "      <td>1</td>\n",
       "      <td>2</td>\n",
       "      <td>37</td>\n",
       "      <td>905580</td>\n",
       "      <td>4</td>\n",
       "      <td>4</td>\n",
       "      <td>4</td>\n",
       "      <td>1</td>\n",
       "      <td>1</td>\n",
       "      <td>1</td>\n",
       "    </tr>\n",
       "    <tr>\n",
       "      <th>3</th>\n",
       "      <td>7IPZGTZu</td>\n",
       "      <td>2</td>\n",
       "      <td>79</td>\n",
       "      <td>1</td>\n",
       "      <td>20141128</td>\n",
       "      <td>50</td>\n",
       "      <td>0</td>\n",
       "      <td>0</td>\n",
       "      <td>0</td>\n",
       "      <td>0</td>\n",
       "      <td>...</td>\n",
       "      <td>1</td>\n",
       "      <td>2</td>\n",
       "      <td>97</td>\n",
       "      <td>3116870</td>\n",
       "      <td>4</td>\n",
       "      <td>3</td>\n",
       "      <td>4</td>\n",
       "      <td>1</td>\n",
       "      <td>1</td>\n",
       "      <td>1</td>\n",
       "    </tr>\n",
       "    <tr>\n",
       "      <th>4</th>\n",
       "      <td>pEEsUF2u</td>\n",
       "      <td>2</td>\n",
       "      <td>82</td>\n",
       "      <td>1</td>\n",
       "      <td>20120905</td>\n",
       "      <td>76</td>\n",
       "      <td>0</td>\n",
       "      <td>0</td>\n",
       "      <td>0</td>\n",
       "      <td>0</td>\n",
       "      <td>...</td>\n",
       "      <td>1</td>\n",
       "      <td>3</td>\n",
       "      <td>464</td>\n",
       "      <td>5391290</td>\n",
       "      <td>4</td>\n",
       "      <td>1</td>\n",
       "      <td>3</td>\n",
       "      <td>1</td>\n",
       "      <td>0</td>\n",
       "      <td>1</td>\n",
       "    </tr>\n",
       "    <tr>\n",
       "      <th>...</th>\n",
       "      <td>...</td>\n",
       "      <td>...</td>\n",
       "      <td>...</td>\n",
       "      <td>...</td>\n",
       "      <td>...</td>\n",
       "      <td>...</td>\n",
       "      <td>...</td>\n",
       "      <td>...</td>\n",
       "      <td>...</td>\n",
       "      <td>...</td>\n",
       "      <td>...</td>\n",
       "      <td>...</td>\n",
       "      <td>...</td>\n",
       "      <td>...</td>\n",
       "      <td>...</td>\n",
       "      <td>...</td>\n",
       "      <td>...</td>\n",
       "      <td>...</td>\n",
       "      <td>...</td>\n",
       "      <td>...</td>\n",
       "      <td>...</td>\n",
       "    </tr>\n",
       "    <tr>\n",
       "      <th>299995</th>\n",
       "      <td>Gso9Jlid</td>\n",
       "      <td>2</td>\n",
       "      <td>47</td>\n",
       "      <td>1</td>\n",
       "      <td>20170630</td>\n",
       "      <td>18</td>\n",
       "      <td>0</td>\n",
       "      <td>0</td>\n",
       "      <td>0</td>\n",
       "      <td>0</td>\n",
       "      <td>...</td>\n",
       "      <td>1</td>\n",
       "      <td>6</td>\n",
       "      <td>366</td>\n",
       "      <td>17636638</td>\n",
       "      <td>2</td>\n",
       "      <td>2</td>\n",
       "      <td>1</td>\n",
       "      <td>0</td>\n",
       "      <td>1</td>\n",
       "      <td>0</td>\n",
       "    </tr>\n",
       "    <tr>\n",
       "      <th>299996</th>\n",
       "      <td>EDQYlTTX</td>\n",
       "      <td>2</td>\n",
       "      <td>69</td>\n",
       "      <td>1</td>\n",
       "      <td>20150417</td>\n",
       "      <td>45</td>\n",
       "      <td>0</td>\n",
       "      <td>0</td>\n",
       "      <td>0</td>\n",
       "      <td>0</td>\n",
       "      <td>...</td>\n",
       "      <td>1</td>\n",
       "      <td>3</td>\n",
       "      <td>118</td>\n",
       "      <td>5935210</td>\n",
       "      <td>4</td>\n",
       "      <td>3</td>\n",
       "      <td>3</td>\n",
       "      <td>1</td>\n",
       "      <td>1</td>\n",
       "      <td>1</td>\n",
       "    </tr>\n",
       "    <tr>\n",
       "      <th>299997</th>\n",
       "      <td>82GwFS1D</td>\n",
       "      <td>1</td>\n",
       "      <td>36</td>\n",
       "      <td>1</td>\n",
       "      <td>20120608</td>\n",
       "      <td>79</td>\n",
       "      <td>0</td>\n",
       "      <td>0</td>\n",
       "      <td>0</td>\n",
       "      <td>0</td>\n",
       "      <td>...</td>\n",
       "      <td>1</td>\n",
       "      <td>5</td>\n",
       "      <td>850</td>\n",
       "      <td>4893790</td>\n",
       "      <td>3</td>\n",
       "      <td>1</td>\n",
       "      <td>3</td>\n",
       "      <td>0</td>\n",
       "      <td>0</td>\n",
       "      <td>1</td>\n",
       "    </tr>\n",
       "    <tr>\n",
       "      <th>299998</th>\n",
       "      <td>LUYeNjki</td>\n",
       "      <td>1</td>\n",
       "      <td>48</td>\n",
       "      <td>1</td>\n",
       "      <td>20120508</td>\n",
       "      <td>80</td>\n",
       "      <td>1</td>\n",
       "      <td>0</td>\n",
       "      <td>0</td>\n",
       "      <td>0</td>\n",
       "      <td>...</td>\n",
       "      <td>1</td>\n",
       "      <td>2</td>\n",
       "      <td>15</td>\n",
       "      <td>1274300</td>\n",
       "      <td>4</td>\n",
       "      <td>5</td>\n",
       "      <td>4</td>\n",
       "      <td>1</td>\n",
       "      <td>1</td>\n",
       "      <td>1</td>\n",
       "    </tr>\n",
       "    <tr>\n",
       "      <th>299999</th>\n",
       "      <td>bnKXePYO</td>\n",
       "      <td>2</td>\n",
       "      <td>36</td>\n",
       "      <td>1</td>\n",
       "      <td>20180222</td>\n",
       "      <td>11</td>\n",
       "      <td>1</td>\n",
       "      <td>0</td>\n",
       "      <td>0</td>\n",
       "      <td>0</td>\n",
       "      <td>...</td>\n",
       "      <td>1</td>\n",
       "      <td>3</td>\n",
       "      <td>174</td>\n",
       "      <td>7108150</td>\n",
       "      <td>4</td>\n",
       "      <td>3</td>\n",
       "      <td>3</td>\n",
       "      <td>1</td>\n",
       "      <td>1</td>\n",
       "      <td>1</td>\n",
       "    </tr>\n",
       "  </tbody>\n",
       "</table>\n",
       "<p>300000 rows × 312 columns</p>\n",
       "</div>"
      ],
      "text/plain": [
       "            회원번호  남녀구분코드  연령  소지여부_신용   입회일자_신용  입회경과개월수_신용  탈회여부  회원여부_연체  \\\n",
       "0       YNtSN9Oa       2  64        1  20140709          54     1        0   \n",
       "1       Rijqdlzu       1  24        1  20170412          21     0        0   \n",
       "2       NOsf3TZS       2  43        1  20170426          21     1        0   \n",
       "3       7IPZGTZu       2  79        1  20141128          50     0        0   \n",
       "4       pEEsUF2u       2  82        1  20120905          76     0        0   \n",
       "...          ...     ...  ..      ...       ...         ...   ...      ...   \n",
       "299995  Gso9Jlid       2  47        1  20170630          18     0        0   \n",
       "299996  EDQYlTTX       2  69        1  20150417          45     0        0   \n",
       "299997  82GwFS1D       1  36        1  20120608          79     0        0   \n",
       "299998  LUYeNjki       1  48        1  20120508          80     1        0   \n",
       "299999  bnKXePYO       2  36        1  20180222          11     1        0   \n",
       "\n",
       "        수신거부여부_TM  수신거부여부_DM  ...  recency  Recency Frequency  Monetary  \\\n",
       "0               0          0  ...        1        3        29    615650   \n",
       "1               0          0  ...        1        3        24    840480   \n",
       "2               1          0  ...        1        2        37    905580   \n",
       "3               0          0  ...        1        2        97   3116870   \n",
       "4               0          0  ...        1        3       464   5391290   \n",
       "...           ...        ...  ...      ...      ...       ...       ...   \n",
       "299995          0          0  ...        1        6       366  17636638   \n",
       "299996          0          0  ...        1        3       118   5935210   \n",
       "299997          0          0  ...        1        5       850   4893790   \n",
       "299998          0          0  ...        1        2        15   1274300   \n",
       "299999          0          0  ...        1        3       174   7108150   \n",
       "\n",
       "       Recency_5  Frequency_5  Monetary_5  Recency_2 Frequency_2 Monetary_2  \n",
       "0              4            4           5          1           1          1  \n",
       "1              4            4           4          1           1          1  \n",
       "2              4            4           4          1           1          1  \n",
       "3              4            3           4          1           1          1  \n",
       "4              4            1           3          1           0          1  \n",
       "...          ...          ...         ...        ...         ...        ...  \n",
       "299995         2            2           1          0           1          0  \n",
       "299996         4            3           3          1           1          1  \n",
       "299997         3            1           3          0           0          1  \n",
       "299998         4            5           4          1           1          1  \n",
       "299999         4            3           3          1           1          1  \n",
       "\n",
       "[300000 rows x 312 columns]"
      ]
     },
     "execution_count": 164,
     "metadata": {},
     "output_type": "execute_result"
    }
   ],
   "source": [
    "df2"
   ]
  },
  {
   "cell_type": "code",
   "execution_count": 218,
   "id": "db967a3a",
   "metadata": {},
   "outputs": [
    {
     "data": {
      "text/plain": [
       "0          겨울잠고객\n",
       "1          겨울잠고객\n",
       "2          겨울잠고객\n",
       "3          겨울잠고객\n",
       "4         잠재충성고객\n",
       "           ...  \n",
       "299995    잠재충성고객\n",
       "299996     겨울잠고객\n",
       "299997      충성고객\n",
       "299998     겨울잠고객\n",
       "299999    잠재충성고객\n",
       "Length: 300000, dtype: object"
      ]
     },
     "execution_count": 218,
     "metadata": {},
     "output_type": "execute_result"
    }
   ],
   "source": [
    "res = []\n",
    "\n",
    "for i in range(len(df2)):\n",
    "    if df2.loc[i, 'Recency_2'] == 1 and df2.loc[i, 'Frequency_2'] == 1 and df2.loc[i, 'Monetary_2'] == 1:\n",
    "        res.append('VIP고객')\n",
    "    elif df2.loc[i, 'Recency_2'] == 1 and df2.loc[i, 'Frequency_2'] == 1 and df2.loc[i, 'Monetary_2'] == 0:\n",
    "        res.append('충성고객')\n",
    "    elif df2.loc[i, 'Recency_2'] == 1 and df2.loc[i, 'Frequency_2'] == 0 and df2.loc[i, 'Monetary_2'] == 1:\n",
    "        res.append('잠재VIP고객')\n",
    "    elif df2.loc[i, 'Recency_2'] == 1 and df2.loc[i, 'Frequency_2'] == 0 and df2.loc[i, 'Monetary_2'] == 0:\n",
    "        res.append('잠재충성고객')\n",
    "    elif df2.loc[i, 'Recency_2'] == 0 and df2.loc[i, 'Frequency_2'] == 1 and df2.loc[i, 'Monetary_2'] == 1:\n",
    "        res.append('놓치면안될고객')\n",
    "    elif df2.loc[i, 'Recency_2'] == 0 and df2.loc[i, 'Frequency_2'] == 1 and df2.loc[i, 'Monetary_2'] == 0:\n",
    "        res.append('관심필요고객')\n",
    "    elif df2.loc[i, 'Recency_2'] == 0 and df2.loc[i, 'Frequency_2'] == 0 and df2.loc[i, 'Monetary_2'] == 1:\n",
    "        res.append('이탈우려고객')\n",
    "    elif df2.loc[i, 'Recency_2'] == 0 and df2.loc[i, 'Frequency_2'] == 0 and df2.loc[i, 'Monetary_2'] == 0:\n",
    "        res.append('겨울잠고객')\n",
    "        \n",
    "pd.Series(res)"
   ]
  },
  {
   "cell_type": "code",
   "execution_count": 219,
   "id": "3a4da10a",
   "metadata": {},
   "outputs": [],
   "source": [
    "df2['고객분류_RFM'] = res"
   ]
  },
  {
   "cell_type": "code",
   "execution_count": 220,
   "id": "0052138d",
   "metadata": {},
   "outputs": [
    {
     "data": {
      "text/plain": [
       "잠재충성고객     138529\n",
       "겨울잠고객      114367\n",
       "충성고객        16767\n",
       "잠재VIP고객     15001\n",
       "VIP고객       12927\n",
       "이탈우려고객       2000\n",
       "관심필요고객        337\n",
       "놓치면안될고객        72\n",
       "Name: 고객분류_RFM, dtype: int64"
      ]
     },
     "execution_count": 220,
     "metadata": {},
     "output_type": "execute_result"
    }
   ],
   "source": [
    "df2['고객분류_RFM'].value_counts()"
   ]
  },
  {
   "cell_type": "code",
   "execution_count": 175,
   "id": "0e75acd8",
   "metadata": {},
   "outputs": [
    {
     "data": {
      "text/plain": [
       "겨울잠고객      188508\n",
       "잠재충성고객      26094\n",
       "VIP고객       23617\n",
       "이탈우려고객      17728\n",
       "관심필요고객      13521\n",
       "충성고객        11877\n",
       "놓치면안될고객     11155\n",
       "잠재VIP고객      7500\n",
       "Name: 고객분류_RFM, dtype: int64"
      ]
     },
     "execution_count": 175,
     "metadata": {},
     "output_type": "execute_result"
    }
   ],
   "source": [
    "df2['고객분류_RFM'].value_counts()"
   ]
  },
  {
   "cell_type": "markdown",
   "id": "bff9238d",
   "metadata": {},
   "source": [
    "실제 하나카드 VVIP 기준 소비금액 상위 3000명"
   ]
  },
  {
   "cell_type": "markdown",
   "id": "d7be69c1",
   "metadata": {},
   "source": [
    "퍼스트 - 종합금액 7천 초과"
   ]
  },
  {
   "cell_type": "markdown",
   "id": "c9aaa1d5",
   "metadata": {},
   "source": [
    "로열 - 종합금액 3300만원 초과"
   ]
  },
  {
   "cell_type": "markdown",
   "id": "fdb208c2",
   "metadata": {},
   "source": [
    "클래식 - 종합금액 1700만원 초과"
   ]
  },
  {
   "cell_type": "markdown",
   "id": "18c8e9ef",
   "metadata": {},
   "source": [
    "자체기준  0 -> 0.2,"
   ]
  },
  {
   "cell_type": "markdown",
   "id": "df9d5f7f",
   "metadata": {},
   "source": [
    "VIP"
   ]
  },
  {
   "cell_type": "markdown",
   "id": "e5c67809",
   "metadata": {},
   "source": [
    "충성고객"
   ]
  },
  {
   "cell_type": "markdown",
   "id": "2ce4ec88",
   "metadata": {},
   "source": [
    "잠재 VIP 고객"
   ]
  },
  {
   "cell_type": "markdown",
   "id": "3f0c2a67",
   "metadata": {},
   "source": [
    "잠재 충성 고객"
   ]
  },
  {
   "cell_type": "markdown",
   "id": "9fe76b67",
   "metadata": {},
   "source": [
    "놓치면 안될 고객"
   ]
  },
  {
   "cell_type": "markdown",
   "id": "4a579afe",
   "metadata": {},
   "source": [
    "관심필요고객"
   ]
  },
  {
   "cell_type": "markdown",
   "id": "d7aad552",
   "metadata": {},
   "source": [
    "이탈우려고객"
   ]
  },
  {
   "cell_type": "markdown",
   "id": "a99be984",
   "metadata": {},
   "source": [
    "겨울잠고객"
   ]
  },
  {
   "cell_type": "markdown",
   "id": "9d34770c",
   "metadata": {},
   "source": [
    "VIP"
   ]
  },
  {
   "cell_type": "code",
   "execution_count": null,
   "id": "c4b8f856",
   "metadata": {},
   "outputs": [],
   "source": []
  },
  {
   "cell_type": "markdown",
   "id": "078e13c8",
   "metadata": {},
   "source": [
    "충성고객"
   ]
  },
  {
   "cell_type": "code",
   "execution_count": null,
   "id": "6524e7a5",
   "metadata": {},
   "outputs": [],
   "source": []
  },
  {
   "cell_type": "markdown",
   "id": "cc1dce24",
   "metadata": {},
   "source": [
    "잠재 VIP 고객"
   ]
  },
  {
   "cell_type": "code",
   "execution_count": null,
   "id": "d617c380",
   "metadata": {},
   "outputs": [],
   "source": []
  },
  {
   "cell_type": "markdown",
   "id": "a33e0fdb",
   "metadata": {},
   "source": [
    "잠재 충성 고객"
   ]
  },
  {
   "cell_type": "code",
   "execution_count": null,
   "id": "d40e1da6",
   "metadata": {},
   "outputs": [],
   "source": []
  },
  {
   "cell_type": "markdown",
   "id": "da57545d",
   "metadata": {},
   "source": [
    "놓치면 안될 고객"
   ]
  },
  {
   "cell_type": "code",
   "execution_count": null,
   "id": "d9efc6db",
   "metadata": {},
   "outputs": [],
   "source": []
  },
  {
   "cell_type": "markdown",
   "id": "26be4200",
   "metadata": {},
   "source": [
    "관심필요고객"
   ]
  },
  {
   "cell_type": "code",
   "execution_count": null,
   "id": "991d50e6",
   "metadata": {},
   "outputs": [],
   "source": []
  },
  {
   "cell_type": "markdown",
   "id": "95567d46",
   "metadata": {},
   "source": [
    "이탈우려고객"
   ]
  },
  {
   "cell_type": "code",
   "execution_count": null,
   "id": "43ef7da5",
   "metadata": {},
   "outputs": [],
   "source": []
  },
  {
   "cell_type": "markdown",
   "id": "05b6d1f4",
   "metadata": {},
   "source": [
    "겨울잠고객"
   ]
  },
  {
   "cell_type": "code",
   "execution_count": null,
   "id": "bcb5f35f",
   "metadata": {},
   "outputs": [],
   "source": []
  },
  {
   "cell_type": "code",
   "execution_count": null,
   "id": "1d67a2a2",
   "metadata": {},
   "outputs": [],
   "source": []
  },
  {
   "cell_type": "code",
   "execution_count": null,
   "id": "d121c4fa",
   "metadata": {},
   "outputs": [],
   "source": []
  }
 ],
 "metadata": {
  "kernelspec": {
   "display_name": "Python 3 (ipykernel)",
   "language": "python",
   "name": "python3"
  },
  "language_info": {
   "codemirror_mode": {
    "name": "ipython",
    "version": 3
   },
   "file_extension": ".py",
   "mimetype": "text/x-python",
   "name": "python",
   "nbconvert_exporter": "python",
   "pygments_lexer": "ipython3",
   "version": "3.10.9"
  }
 },
 "nbformat": 4,
 "nbformat_minor": 5
}
