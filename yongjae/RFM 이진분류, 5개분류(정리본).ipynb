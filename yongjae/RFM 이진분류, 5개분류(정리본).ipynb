{
 "cells": [
  {
   "cell_type": "code",
   "execution_count": 1,
   "id": "53990b4e",
   "metadata": {},
   "outputs": [],
   "source": [
    "import pandas as pd\n",
    "import numpy as np\n",
    "import matplotlib.pyplot as plt\n",
    "import seaborn as sns\n",
    "import scipy.stats as stats\n",
    "from sklearn.preprocessing import LabelEncoder\n",
    "from sklearn.model_selection import train_test_split\n",
    "from sklearn.ensemble import ExtraTreesClassifier\n",
    "from sklearn.ensemble import RandomForestClassifier\n",
    "from sklearn.metrics import accuracy_score\n",
    "from matplotlib.ticker import ScalarFormatter\n",
    "from sklearn.metrics import confusion_matrix\n",
    "from sklearn.preprocessing import StandardScaler\n",
    "from sklearn.decomposition import PCA"
   ]
  },
  {
   "cell_type": "code",
   "execution_count": 2,
   "id": "f08784dc",
   "metadata": {},
   "outputs": [],
   "source": [
    "import os\n",
    "\n",
    "if os.name == 'posix':\n",
    "    plt.rc(\"font\", family=\"AppleGothic\")\n",
    "else:\n",
    "    plt.rc(\"font\", family=\"Malgun Gothic\")"
   ]
  },
  {
   "cell_type": "code",
   "execution_count": 3,
   "id": "8efc3f63",
   "metadata": {},
   "outputs": [],
   "source": [
    "df = pd.read_csv('C:/Users/Home/Desktop/Data/2차/CardData_new.csv', encoding = 'cp949')"
   ]
  },
  {
   "cell_type": "code",
   "execution_count": 4,
   "id": "f7f4983f",
   "metadata": {},
   "outputs": [],
   "source": [
    "df2 = df.copy()"
   ]
  },
  {
   "cell_type": "code",
   "execution_count": 5,
   "id": "c1ce8f32",
   "metadata": {},
   "outputs": [],
   "source": [
    "d = {\n",
    "    '21.Active_연속' : 0,\n",
    "    '22.Active_간헐' : 1,\n",
    "    '34.휴면_9M+' : 2,\n",
    "    '32.휴면_6M-' : 2,\n",
    "    '33.휴면_9M-' : 2,\n",
    "    '31.휴면_3M' : 2\n",
    "}\n",
    "df2['고객구분'] = df2['고객구분'].map(d)"
   ]
  },
  {
   "cell_type": "markdown",
   "id": "b34b0c66",
   "metadata": {},
   "source": [
    "# RFM 0,1 분류"
   ]
  },
  {
   "cell_type": "code",
   "execution_count": 6,
   "id": "b08bbfdb",
   "metadata": {},
   "outputs": [],
   "source": [
    "df2['Recency'] = (df[['이용후경과월_신용','이용후경과월_체크', '이용후경과월_카드론']]).min(axis= 1)"
   ]
  },
  {
   "cell_type": "code",
   "execution_count": 7,
   "id": "a893e7b9",
   "metadata": {},
   "outputs": [],
   "source": [
    "df2['Recency_2'] = 0\n",
    "const = (df2[['이용건수_신용_B0M', '이용건수_체크_B0M', '이용건수_카드론_B0M']].sum(axis = 1)).quantile(0.40)\n",
    "\n",
    "df2.loc[(df2['Recency'] == 0) & (df2[['이용건수_신용_B0M', '이용건수_체크_B0M', '이용건수_카드론_B0M']].sum(axis = 1) >= const), ['Recency_2']] = 1"
   ]
  },
  {
   "cell_type": "code",
   "execution_count": 8,
   "id": "7b28bdfd",
   "metadata": {},
   "outputs": [
    {
     "data": {
      "text/plain": [
       "1    183224\n",
       "0    116776\n",
       "Name: Recency_2, dtype: int64"
      ]
     },
     "execution_count": 8,
     "metadata": {},
     "output_type": "execute_result"
    }
   ],
   "source": [
    "df2['Recency_2'].value_counts()"
   ]
  },
  {
   "cell_type": "code",
   "execution_count": 9,
   "id": "8766a4f7",
   "metadata": {},
   "outputs": [],
   "source": [
    "df2['Frequency'] = df2['이용건수_신용_R12M'] + df2['이용건수_체크_R12M'] + df2['이용건수_카드론_R12M']"
   ]
  },
  {
   "cell_type": "code",
   "execution_count": 11,
   "id": "26fb3dda",
   "metadata": {},
   "outputs": [],
   "source": [
    "threshold = df2['Frequency'].quantile(0.9)\n",
    "df2['Frequency_2'] = df2['Frequency'].apply(lambda x: 1 if x >= threshold else 0)"
   ]
  },
  {
   "cell_type": "code",
   "execution_count": 10,
   "id": "03d44206",
   "metadata": {},
   "outputs": [],
   "source": [
    "df2['Monetary'] = df2['이용금액_신용_R12M'] + df2['이용금액_체크_R12M'] + df2['이용금액_카드론_R12M'] + df2['이용금액_업종기준']"
   ]
  },
  {
   "cell_type": "code",
   "execution_count": 12,
   "id": "d617b7c8",
   "metadata": {},
   "outputs": [],
   "source": [
    "threshold = df2['Monetary'].quantile(0.9)\n",
    "df2['Monetary_2'] = df2['Monetary'].apply(lambda x: 1 if x >= threshold else 0)"
   ]
  },
  {
   "cell_type": "code",
   "execution_count": 13,
   "id": "59ecb422",
   "metadata": {},
   "outputs": [
    {
     "data": {
      "text/plain": [
       "0          겨울잠고객\n",
       "1          겨울잠고객\n",
       "2          겨울잠고객\n",
       "3          겨울잠고객\n",
       "4         잠재충성고객\n",
       "           ...  \n",
       "299995    잠재충성고객\n",
       "299996     겨울잠고객\n",
       "299997      충성고객\n",
       "299998     겨울잠고객\n",
       "299999    잠재충성고객\n",
       "Length: 300000, dtype: object"
      ]
     },
     "execution_count": 13,
     "metadata": {},
     "output_type": "execute_result"
    }
   ],
   "source": [
    "res = []\n",
    "\n",
    "for i in range(len(df2)):\n",
    "    if df2.loc[i, 'Recency_2'] == 1 and df2.loc[i, 'Frequency_2'] == 1 and df2.loc[i, 'Monetary_2'] == 1:\n",
    "        res.append('VIP고객')\n",
    "    elif df2.loc[i, 'Recency_2'] == 1 and df2.loc[i, 'Frequency_2'] == 1 and df2.loc[i, 'Monetary_2'] == 0:\n",
    "        res.append('충성고객')\n",
    "    elif df2.loc[i, 'Recency_2'] == 1 and df2.loc[i, 'Frequency_2'] == 0 and df2.loc[i, 'Monetary_2'] == 1:\n",
    "        res.append('잠재VIP고객')\n",
    "    elif df2.loc[i, 'Recency_2'] == 1 and df2.loc[i, 'Frequency_2'] == 0 and df2.loc[i, 'Monetary_2'] == 0:\n",
    "        res.append('잠재충성고객')\n",
    "    elif df2.loc[i, 'Recency_2'] == 0 and df2.loc[i, 'Frequency_2'] == 1 and df2.loc[i, 'Monetary_2'] == 1:\n",
    "        res.append('놓치면안될고객')\n",
    "    elif df2.loc[i, 'Recency_2'] == 0 and df2.loc[i, 'Frequency_2'] == 1 and df2.loc[i, 'Monetary_2'] == 0:\n",
    "        res.append('관심필요고객')\n",
    "    elif df2.loc[i, 'Recency_2'] == 0 and df2.loc[i, 'Frequency_2'] == 0 and df2.loc[i, 'Monetary_2'] == 1:\n",
    "        res.append('이탈우려고객')\n",
    "    elif df2.loc[i, 'Recency_2'] == 0 and df2.loc[i, 'Frequency_2'] == 0 and df2.loc[i, 'Monetary_2'] == 0:\n",
    "        res.append('겨울잠고객')\n",
    "        \n",
    "pd.Series(res)"
   ]
  },
  {
   "cell_type": "code",
   "execution_count": 14,
   "id": "cd3eccf1",
   "metadata": {},
   "outputs": [],
   "source": [
    "df2['고객분류_RFM_2'] = res"
   ]
  },
  {
   "cell_type": "code",
   "execution_count": 15,
   "id": "89f35678",
   "metadata": {},
   "outputs": [
    {
     "data": {
      "text/plain": [
       "잠재충성고객     138529\n",
       "겨울잠고객      114367\n",
       "충성고객        16767\n",
       "잠재VIP고객     15001\n",
       "VIP고객       12927\n",
       "이탈우려고객       2000\n",
       "관심필요고객        337\n",
       "놓치면안될고객        72\n",
       "Name: 고객분류_RFM_2, dtype: int64"
      ]
     },
     "execution_count": 15,
     "metadata": {},
     "output_type": "execute_result"
    }
   ],
   "source": [
    "df2['고객분류_RFM_2'].value_counts()"
   ]
  },
  {
   "cell_type": "markdown",
   "id": "1db16928",
   "metadata": {},
   "source": [
    "# RFM 5개 값 분류"
   ]
  },
  {
   "cell_type": "code",
   "execution_count": 17,
   "id": "fdc629f2",
   "metadata": {},
   "outputs": [],
   "source": [
    "df2['Recency_5'] = (df[['이용후경과월_신용','이용후경과월_체크', '이용후경과월_카드론']]).min(axis= 1)"
   ]
  },
  {
   "cell_type": "code",
   "execution_count": 18,
   "id": "dc444554",
   "metadata": {
    "scrolled": true
   },
   "outputs": [
    {
     "data": {
      "text/plain": [
       "0     243637\n",
       "1       8549\n",
       "2       5339\n",
       "3       4252\n",
       "4       3121\n",
       "5       2768\n",
       "6       2468\n",
       "7       2273\n",
       "8       1903\n",
       "9       1721\n",
       "10      1644\n",
       "11      1539\n",
       "12     20786\n",
       "Name: Recency_5, dtype: int64"
      ]
     },
     "execution_count": 18,
     "metadata": {},
     "output_type": "execute_result"
    }
   ],
   "source": [
    "df2['Recency_5'].value_counts().sort_index()"
   ]
  },
  {
   "cell_type": "code",
   "execution_count": 19,
   "id": "e59e773d",
   "metadata": {},
   "outputs": [],
   "source": [
    "df2['Recency_5'] = df2['Recency'].map(lambda x : {0 : 5, 1 : 4, 2 :4, 3 : 4, 4: 3, 5:3, 6:3, 7:2, 8:2, 9:2, 10:1, 11:1, 12:1}[x])"
   ]
  },
  {
   "cell_type": "code",
   "execution_count": 22,
   "id": "7f134473",
   "metadata": {},
   "outputs": [],
   "source": [
    "df2['Frequency_5'] = pd.cut(df2['Frequency'], bins = [df2['Frequency'].quantile(0), df2['Frequency'].quantile(0.2), df2['Frequency'].quantile(0.4),\n",
    "                                 df2['Frequency'].quantile(0.6), df2['Frequency'].quantile(0.8), df2['Frequency'].quantile(1)],\n",
    "      labels = [5, 4, 3, 2, 1], include_lowest = True)"
   ]
  },
  {
   "cell_type": "code",
   "execution_count": 23,
   "id": "1d203b24",
   "metadata": {},
   "outputs": [],
   "source": [
    "df2['Monetary_5'] = pd.cut(df2['Monetary'], bins = [df2['Monetary'].quantile(0), df2['Monetary'].quantile(0.2), df2['Monetary'].quantile(0.4),\n",
    "                                 df2['Monetary'].quantile(0.6), df2['Monetary'].quantile(0.8), df2['Monetary'].quantile(1)],\n",
    "      labels = [5, 4, 3, 2, 1], include_lowest = True)"
   ]
  },
  {
   "cell_type": "code",
   "execution_count": null,
   "id": "547105ec",
   "metadata": {},
   "outputs": [],
   "source": []
  }
 ],
 "metadata": {
  "kernelspec": {
   "display_name": "Python 3 (ipykernel)",
   "language": "python",
   "name": "python3"
  },
  "language_info": {
   "codemirror_mode": {
    "name": "ipython",
    "version": 3
   },
   "file_extension": ".py",
   "mimetype": "text/x-python",
   "name": "python",
   "nbconvert_exporter": "python",
   "pygments_lexer": "ipython3",
   "version": "3.10.9"
  }
 },
 "nbformat": 4,
 "nbformat_minor": 5
}
