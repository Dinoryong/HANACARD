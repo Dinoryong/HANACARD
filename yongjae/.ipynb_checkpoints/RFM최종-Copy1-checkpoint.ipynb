{
 "cells": [
  {
   "cell_type": "code",
   "execution_count": 3,
   "id": "8bfeff2b",
   "metadata": {},
   "outputs": [],
   "source": [
    "import pandas as pd\n",
    "import numpy as np\n",
    "import matplotlib.pyplot as plt\n",
    "import seaborn as sns\n",
    "import scipy.stats as stats\n",
    "from sklearn.preprocessing import LabelEncoder\n",
    "from sklearn.model_selection import train_test_split\n",
    "from sklearn.ensemble import ExtraTreesClassifier\n",
    "from sklearn.ensemble import RandomForestClassifier\n",
    "from sklearn.linear_model import LogisticRegression\n",
    "from sklearn.metrics import accuracy_score, confusion_matrix, classification_report\n",
    "from matplotlib.ticker import ScalarFormatter\n",
    "from sklearn.metrics import confusion_matrix\n",
    "from sklearn.preprocessing import StandardScaler\n",
    "from sklearn.decomposition import PCA\n",
    "from sklearn.preprocessing import MinMaxScaler\n",
    "from sklearn.cluster import KMeans\n",
    "from yellowbrick.cluster import KElbowVisualizer\n",
    "# import xgboost as xgb\n",
    "from scipy.stats import pearsonr, bartlett, levene, wilcoxon, mannwhitneyu, ttest_ind, f_oneway, kruskal\n",
    "from scipy.stats import shapiro, anderson, kstest, normaltest, jarque_bera\n",
    "import pingouin as pg\n",
    "import scikit_posthocs as sp\n",
    "from statsmodels.formula.api import ols\n",
    "from statsmodels.stats.anova import anova_lm\n",
    "from statsmodels.stats.multicomp import pairwise_tukeyhsd\n",
    "from statsmodels.stats.outliers_influence import variance_inflation_factor\n",
    "from sklearn.model_selection import cross_val_score"
   ]
  },
  {
   "cell_type": "code",
   "execution_count": 4,
   "id": "9c264dc0",
   "metadata": {},
   "outputs": [],
   "source": [
    "import os\n",
    "\n",
    "if os.name == 'posix':\n",
    "    plt.rc(\"font\", family=\"AppleGothic\")\n",
    "else:\n",
    "    plt.rc(\"font\", family=\"Malgun Gothic\")"
   ]
  },
  {
   "cell_type": "code",
   "execution_count": 5,
   "id": "7b3ed27f",
   "metadata": {},
   "outputs": [],
   "source": [
    "df = pd.read_csv(r'C:\\Users\\User\\Desktop\\DigitalHana_Project2\\Data\\HanaCard_Data.csv', encoding = 'cp949')"
   ]
  },
  {
   "cell_type": "code",
   "execution_count": 6,
   "id": "9aab9e11",
   "metadata": {},
   "outputs": [],
   "source": [
    "df2 = df.copy()"
   ]
  },
  {
   "cell_type": "code",
   "execution_count": 7,
   "id": "bef6c960",
   "metadata": {},
   "outputs": [],
   "source": [
    "d = {\n",
    "    '21.Active_연속' : 0,\n",
    "    '22.Active_간헐' : 1,\n",
    "    '34.휴면_9M+' : 2,\n",
    "    '32.휴면_6M-' : 2,\n",
    "    '33.휴면_9M-' : 2,\n",
    "    '31.휴면_3M' : 2\n",
    "}\n",
    "df2['고객구분'] = df2['고객구분'].map(d)"
   ]
  },
  {
   "cell_type": "code",
   "execution_count": 8,
   "id": "1cedc6c3",
   "metadata": {},
   "outputs": [],
   "source": [
    "df2['Recency'] = (df[['이용후경과월_신용','이용후경과월_체크', '이용후경과월_카드론']]).min(axis= 1)"
   ]
  },
  {
   "cell_type": "code",
   "execution_count": 9,
   "id": "5f70fa2e",
   "metadata": {},
   "outputs": [],
   "source": [
    "df2['Frequency'] = df2['이용건수_신용_R12M'] + df2['이용건수_체크_R12M'] + df2['이용건수_카드론_R12M']"
   ]
  },
  {
   "cell_type": "code",
   "execution_count": 10,
   "id": "de868675",
   "metadata": {},
   "outputs": [],
   "source": [
    "df2['Monetary'] = df2['이용금액_신용_R12M'] + df2['이용금액_체크_R12M'] + df2['이용금액_카드론_R12M'] + df2['이용금액_업종기준']"
   ]
  },
  {
   "cell_type": "markdown",
   "id": "a770174d",
   "metadata": {},
   "source": [
    "# RFM 8개 값 분류"
   ]
  },
  {
   "cell_type": "code",
   "execution_count": 11,
   "id": "ce91b7c5",
   "metadata": {},
   "outputs": [],
   "source": [
    "scaler = MinMaxScaler()\n",
    "df2['Recency_s'] = scaler.fit_transform(df2[['Recency']])\n",
    "df2['Frequency_s'] = scaler.fit_transform(df2[['Frequency']])\n",
    "df2['Monetary_s'] = scaler.fit_transform(df2[['Monetary']])"
   ]
  },
  {
   "cell_type": "code",
   "execution_count": 12,
   "id": "e36477c9",
   "metadata": {},
   "outputs": [
    {
     "name": "stderr",
     "output_type": "stream",
     "text": [
      "C:\\Users\\User\\anaconda3\\lib\\site-packages\\sklearn\\cluster\\_kmeans.py:870: FutureWarning: The default value of `n_init` will change from 10 to 'auto' in 1.4. Set the value of `n_init` explicitly to suppress the warning\n",
      "  warnings.warn(\n",
      "C:\\Users\\User\\anaconda3\\lib\\site-packages\\sklearn\\cluster\\_kmeans.py:870: FutureWarning: The default value of `n_init` will change from 10 to 'auto' in 1.4. Set the value of `n_init` explicitly to suppress the warning\n",
      "  warnings.warn(\n",
      "C:\\Users\\User\\anaconda3\\lib\\site-packages\\sklearn\\cluster\\_kmeans.py:870: FutureWarning: The default value of `n_init` will change from 10 to 'auto' in 1.4. Set the value of `n_init` explicitly to suppress the warning\n",
      "  warnings.warn(\n",
      "C:\\Users\\User\\anaconda3\\lib\\site-packages\\sklearn\\cluster\\_kmeans.py:870: FutureWarning: The default value of `n_init` will change from 10 to 'auto' in 1.4. Set the value of `n_init` explicitly to suppress the warning\n",
      "  warnings.warn(\n",
      "C:\\Users\\User\\anaconda3\\lib\\site-packages\\sklearn\\cluster\\_kmeans.py:870: FutureWarning: The default value of `n_init` will change from 10 to 'auto' in 1.4. Set the value of `n_init` explicitly to suppress the warning\n",
      "  warnings.warn(\n",
      "C:\\Users\\User\\anaconda3\\lib\\site-packages\\sklearn\\cluster\\_kmeans.py:870: FutureWarning: The default value of `n_init` will change from 10 to 'auto' in 1.4. Set the value of `n_init` explicitly to suppress the warning\n",
      "  warnings.warn(\n",
      "C:\\Users\\User\\anaconda3\\lib\\site-packages\\sklearn\\cluster\\_kmeans.py:870: FutureWarning: The default value of `n_init` will change from 10 to 'auto' in 1.4. Set the value of `n_init` explicitly to suppress the warning\n",
      "  warnings.warn(\n",
      "C:\\Users\\User\\anaconda3\\lib\\site-packages\\sklearn\\cluster\\_kmeans.py:870: FutureWarning: The default value of `n_init` will change from 10 to 'auto' in 1.4. Set the value of `n_init` explicitly to suppress the warning\n",
      "  warnings.warn(\n",
      "C:\\Users\\User\\anaconda3\\lib\\site-packages\\sklearn\\cluster\\_kmeans.py:870: FutureWarning: The default value of `n_init` will change from 10 to 'auto' in 1.4. Set the value of `n_init` explicitly to suppress the warning\n",
      "  warnings.warn(\n"
     ]
    },
    {
     "data": {
      "text/html": [
       "<style>#sk-container-id-1 {color: black;background-color: white;}#sk-container-id-1 pre{padding: 0;}#sk-container-id-1 div.sk-toggleable {background-color: white;}#sk-container-id-1 label.sk-toggleable__label {cursor: pointer;display: block;width: 100%;margin-bottom: 0;padding: 0.3em;box-sizing: border-box;text-align: center;}#sk-container-id-1 label.sk-toggleable__label-arrow:before {content: \"▸\";float: left;margin-right: 0.25em;color: #696969;}#sk-container-id-1 label.sk-toggleable__label-arrow:hover:before {color: black;}#sk-container-id-1 div.sk-estimator:hover label.sk-toggleable__label-arrow:before {color: black;}#sk-container-id-1 div.sk-toggleable__content {max-height: 0;max-width: 0;overflow: hidden;text-align: left;background-color: #f0f8ff;}#sk-container-id-1 div.sk-toggleable__content pre {margin: 0.2em;color: black;border-radius: 0.25em;background-color: #f0f8ff;}#sk-container-id-1 input.sk-toggleable__control:checked~div.sk-toggleable__content {max-height: 200px;max-width: 100%;overflow: auto;}#sk-container-id-1 input.sk-toggleable__control:checked~label.sk-toggleable__label-arrow:before {content: \"▾\";}#sk-container-id-1 div.sk-estimator input.sk-toggleable__control:checked~label.sk-toggleable__label {background-color: #d4ebff;}#sk-container-id-1 div.sk-label input.sk-toggleable__control:checked~label.sk-toggleable__label {background-color: #d4ebff;}#sk-container-id-1 input.sk-hidden--visually {border: 0;clip: rect(1px 1px 1px 1px);clip: rect(1px, 1px, 1px, 1px);height: 1px;margin: -1px;overflow: hidden;padding: 0;position: absolute;width: 1px;}#sk-container-id-1 div.sk-estimator {font-family: monospace;background-color: #f0f8ff;border: 1px dotted black;border-radius: 0.25em;box-sizing: border-box;margin-bottom: 0.5em;}#sk-container-id-1 div.sk-estimator:hover {background-color: #d4ebff;}#sk-container-id-1 div.sk-parallel-item::after {content: \"\";width: 100%;border-bottom: 1px solid gray;flex-grow: 1;}#sk-container-id-1 div.sk-label:hover label.sk-toggleable__label {background-color: #d4ebff;}#sk-container-id-1 div.sk-serial::before {content: \"\";position: absolute;border-left: 1px solid gray;box-sizing: border-box;top: 0;bottom: 0;left: 50%;z-index: 0;}#sk-container-id-1 div.sk-serial {display: flex;flex-direction: column;align-items: center;background-color: white;padding-right: 0.2em;padding-left: 0.2em;position: relative;}#sk-container-id-1 div.sk-item {position: relative;z-index: 1;}#sk-container-id-1 div.sk-parallel {display: flex;align-items: stretch;justify-content: center;background-color: white;position: relative;}#sk-container-id-1 div.sk-item::before, #sk-container-id-1 div.sk-parallel-item::before {content: \"\";position: absolute;border-left: 1px solid gray;box-sizing: border-box;top: 0;bottom: 0;left: 50%;z-index: -1;}#sk-container-id-1 div.sk-parallel-item {display: flex;flex-direction: column;z-index: 1;position: relative;background-color: white;}#sk-container-id-1 div.sk-parallel-item:first-child::after {align-self: flex-end;width: 50%;}#sk-container-id-1 div.sk-parallel-item:last-child::after {align-self: flex-start;width: 50%;}#sk-container-id-1 div.sk-parallel-item:only-child::after {width: 0;}#sk-container-id-1 div.sk-dashed-wrapped {border: 1px dashed gray;margin: 0 0.4em 0.5em 0.4em;box-sizing: border-box;padding-bottom: 0.4em;background-color: white;}#sk-container-id-1 div.sk-label label {font-family: monospace;font-weight: bold;display: inline-block;line-height: 1.2em;}#sk-container-id-1 div.sk-label-container {text-align: center;}#sk-container-id-1 div.sk-container {/* jupyter's `normalize.less` sets `[hidden] { display: none; }` but bootstrap.min.css set `[hidden] { display: none !important; }` so we also need the `!important` here to be able to override the default hidden behavior on the sphinx rendered scikit-learn.org. See: https://github.com/scikit-learn/scikit-learn/issues/21755 */display: inline-block !important;position: relative;}#sk-container-id-1 div.sk-text-repr-fallback {display: none;}</style><div id=\"sk-container-id-1\" class=\"sk-top-container\"><div class=\"sk-text-repr-fallback\"><pre>KElbowVisualizer(ax=&lt;Axes: &gt;, estimator=KMeans(n_clusters=9), k=(1, 10))</pre><b>In a Jupyter environment, please rerun this cell to show the HTML representation or trust the notebook. <br />On GitHub, the HTML representation is unable to render, please try loading this page with nbviewer.org.</b></div><div class=\"sk-container\" hidden><div class=\"sk-item sk-dashed-wrapped\"><div class=\"sk-label-container\"><div class=\"sk-label sk-toggleable\"><input class=\"sk-toggleable__control sk-hidden--visually\" id=\"sk-estimator-id-1\" type=\"checkbox\" ><label for=\"sk-estimator-id-1\" class=\"sk-toggleable__label sk-toggleable__label-arrow\">KElbowVisualizer</label><div class=\"sk-toggleable__content\"><pre>KElbowVisualizer(ax=&lt;Axes: &gt;, estimator=KMeans(n_clusters=9), k=(1, 10))</pre></div></div></div><div class=\"sk-parallel\"><div class=\"sk-parallel-item\"><div class=\"sk-item\"><div class=\"sk-label-container\"><div class=\"sk-label sk-toggleable\"><input class=\"sk-toggleable__control sk-hidden--visually\" id=\"sk-estimator-id-2\" type=\"checkbox\" ><label for=\"sk-estimator-id-2\" class=\"sk-toggleable__label sk-toggleable__label-arrow\">estimator: KMeans</label><div class=\"sk-toggleable__content\"><pre>KMeans(n_clusters=9)</pre></div></div></div><div class=\"sk-serial\"><div class=\"sk-item\"><div class=\"sk-estimator sk-toggleable\"><input class=\"sk-toggleable__control sk-hidden--visually\" id=\"sk-estimator-id-3\" type=\"checkbox\" ><label for=\"sk-estimator-id-3\" class=\"sk-toggleable__label sk-toggleable__label-arrow\">KMeans</label><div class=\"sk-toggleable__content\"><pre>KMeans(n_clusters=9)</pre></div></div></div></div></div></div></div></div></div></div>"
      ],
      "text/plain": [
       "KElbowVisualizer(ax=<Axes: >, estimator=KMeans(n_clusters=9), k=(1, 10))"
      ]
     },
     "execution_count": 12,
     "metadata": {},
     "output_type": "execute_result"
    },
    {
     "data": {
      "image/png": "[encoded data removed]",
      "text/plain": [
       "<Figure size 800x550 with 2 Axes>"
      ]
     },
     "metadata": {},
     "output_type": "display_data"
    }
   ],
   "source": [
    "model = KMeans()\n",
    "visualizer = KElbowVisualizer(model, k=(1,10))\n",
    "visualizer.fit(df2[['Recency_s','Frequency_s','Monetary_s']])\n",
    "# k = 2"
   ]
  },
  {
   "cell_type": "code",
   "execution_count": 13,
   "id": "a0df92ed",
   "metadata": {},
   "outputs": [
    {
     "name": "stderr",
     "output_type": "stream",
     "text": [
      "C:\\Users\\User\\anaconda3\\lib\\site-packages\\sklearn\\cluster\\_kmeans.py:870: FutureWarning: The default value of `n_init` will change from 10 to 'auto' in 1.4. Set the value of `n_init` explicitly to suppress the warning\n",
      "  warnings.warn(\n"
     ]
    }
   ],
   "source": [
    "# KMeans 모델 생성 (k=2)\n",
    "kmeans = KMeans(n_clusters=2)\n",
    "# 모델 학습 및 예측\n",
    "labels = kmeans.fit_predict(df2[['Recency_s','Frequency_s','Monetary_s']])"
   ]
  },
  {
   "cell_type": "code",
   "execution_count": 14,
   "id": "d1e9b0de",
   "metadata": {},
   "outputs": [],
   "source": [
    "df2['labels_k'] = labels"
   ]
  },
  {
   "cell_type": "code",
   "execution_count": 15,
   "id": "167e5d34",
   "metadata": {},
   "outputs": [
    {
     "data": {
      "text/html": [
       "<div>\n",
       "<style scoped>\n",
       "    .dataframe tbody tr th:only-of-type {\n",
       "        vertical-align: middle;\n",
       "    }\n",
       "\n",
       "    .dataframe tbody tr th {\n",
       "        vertical-align: top;\n",
       "    }\n",
       "\n",
       "    .dataframe thead th {\n",
       "        text-align: right;\n",
       "    }\n",
       "</style>\n",
       "<table border=\"1\" class=\"dataframe\">\n",
       "  <thead>\n",
       "    <tr style=\"text-align: right;\">\n",
       "      <th></th>\n",
       "      <th>Recency_s</th>\n",
       "      <th>Frequency_s</th>\n",
       "      <th>Monetary_s</th>\n",
       "    </tr>\n",
       "    <tr>\n",
       "      <th>labels_k</th>\n",
       "      <th></th>\n",
       "      <th></th>\n",
       "      <th></th>\n",
       "    </tr>\n",
       "  </thead>\n",
       "  <tbody>\n",
       "    <tr>\n",
       "      <th>0</th>\n",
       "      <td>0.018153</td>\n",
       "      <td>0.045819</td>\n",
       "      <td>0.002663</td>\n",
       "    </tr>\n",
       "    <tr>\n",
       "      <th>1</th>\n",
       "      <td>0.887180</td>\n",
       "      <td>0.004693</td>\n",
       "      <td>0.001014</td>\n",
       "    </tr>\n",
       "  </tbody>\n",
       "</table>\n",
       "</div>"
      ],
      "text/plain": [
       "          Recency_s  Frequency_s  Monetary_s\n",
       "labels_k                                    \n",
       "0          0.018153     0.045819    0.002663\n",
       "1          0.887180     0.004693    0.001014"
      ]
     },
     "execution_count": 15,
     "metadata": {},
     "output_type": "execute_result"
    }
   ],
   "source": [
    "df2.groupby('labels_k')[['Recency_s', 'Frequency_s', 'Monetary_s']].agg('mean')"
   ]
  },
  {
   "cell_type": "code",
   "execution_count": 16,
   "id": "279e8d47",
   "metadata": {},
   "outputs": [
    {
     "data": {
      "text/html": [
       "<div>\n",
       "<style scoped>\n",
       "    .dataframe tbody tr th:only-of-type {\n",
       "        vertical-align: middle;\n",
       "    }\n",
       "\n",
       "    .dataframe tbody tr th {\n",
       "        vertical-align: top;\n",
       "    }\n",
       "\n",
       "    .dataframe thead th {\n",
       "        text-align: right;\n",
       "    }\n",
       "</style>\n",
       "<table border=\"1\" class=\"dataframe\">\n",
       "  <thead>\n",
       "    <tr style=\"text-align: right;\">\n",
       "      <th></th>\n",
       "      <th>Recency_s</th>\n",
       "      <th>Frequency_s</th>\n",
       "      <th>Monetary_s</th>\n",
       "    </tr>\n",
       "    <tr>\n",
       "      <th>labels_k</th>\n",
       "      <th></th>\n",
       "      <th></th>\n",
       "      <th></th>\n",
       "    </tr>\n",
       "  </thead>\n",
       "  <tbody>\n",
       "    <tr>\n",
       "      <th>0</th>\n",
       "      <td>3.707733</td>\n",
       "      <td>1.040649</td>\n",
       "      <td>1.242323</td>\n",
       "    </tr>\n",
       "    <tr>\n",
       "      <th>1</th>\n",
       "      <td>0.195777</td>\n",
       "      <td>1.055173</td>\n",
       "      <td>0.395543</td>\n",
       "    </tr>\n",
       "  </tbody>\n",
       "</table>\n",
       "</div>"
      ],
      "text/plain": [
       "          Recency_s  Frequency_s  Monetary_s\n",
       "labels_k                                    \n",
       "0          3.707733     1.040649    1.242323\n",
       "1          0.195777     1.055173    0.395543"
      ]
     },
     "execution_count": 16,
     "metadata": {},
     "output_type": "execute_result"
    }
   ],
   "source": [
    "# CV = k개 그룹에 대한 각 R,F,M의 표준편차 / 평균\n",
    "cv_k = df2.groupby('labels_k')[['Recency_s', 'Frequency_s', 'Monetary_s']].agg('std')/df2.groupby('labels_k')[['Recency_s', 'Frequency_s', 'Monetary_s']].agg('mean')\n",
    "cv_k"
   ]
  },
  {
   "cell_type": "code",
   "execution_count": 17,
   "id": "495420f3",
   "metadata": {},
   "outputs": [
    {
     "data": {
      "text/plain": [
       "Recency_s      3.903510\n",
       "Frequency_s    2.095822\n",
       "Monetary_s     1.637866\n",
       "dtype: float64"
      ]
     },
     "execution_count": 17,
     "metadata": {},
     "output_type": "execute_result"
    }
   ],
   "source": [
    "CV = cv_k.sum()\n",
    "CV"
   ]
  },
  {
   "cell_type": "code",
   "execution_count": 18,
   "id": "a47c254a",
   "metadata": {},
   "outputs": [
    {
     "data": {
      "text/plain": [
       "Recency_s      0.050154\n",
       "Frequency_s    0.496535\n",
       "Monetary_s     0.241499\n",
       "dtype: float64"
      ]
     },
     "execution_count": 18,
     "metadata": {},
     "output_type": "execute_result"
    }
   ],
   "source": [
    "res2 = cv_k.min(axis = 0) / CV\n",
    "res2"
   ]
  },
  {
   "cell_type": "code",
   "execution_count": 19,
   "id": "3351d6d4",
   "metadata": {},
   "outputs": [
    {
     "name": "stdout",
     "output_type": "stream",
     "text": [
      "0.0636321049561043 0.629970431576547 0.30639746346734875\n"
     ]
    }
   ],
   "source": [
    "# 가중치\n",
    "w1, w2, w3 = (res2 / res2.sum())\n",
    "print(w1, w2, w3)"
   ]
  },
  {
   "cell_type": "code",
   "execution_count": 20,
   "id": "c7315776",
   "metadata": {},
   "outputs": [
    {
     "data": {
      "text/plain": [
       "[((1, 1, 1, 2, 3, 3, 1, 1), 83535.69104623143),\n",
       " ((1, 1, 1, 2, 2, 4, 1, 1), 83535.81543437351),\n",
       " ((1, 1, 1, 1, 3, 4, 1, 1), 83541.06718939409),\n",
       " ((1, 1, 2, 2, 2, 3, 1, 1), 83544.15026285716),\n",
       " ((1, 1, 1, 1, 2, 5, 1, 1), 83548.03889465543),\n",
       " ((1, 1, 1, 3, 2, 3, 1, 1), 83548.14907926702),\n",
       " ((1, 1, 2, 2, 3, 2, 1, 1), 83548.62772062747),\n",
       " ((1, 1, 1, 2, 4, 2, 1, 1), 83549.17612144016),\n",
       " ((1, 1, 2, 1, 3, 3, 1, 1), 83551.8176445868),\n",
       " ((1, 1, 2, 1, 2, 4, 1, 1), 83551.94200872038)]"
      ]
     },
     "execution_count": 20,
     "metadata": {},
     "output_type": "execute_result"
    }
   ],
   "source": [
    "import itertools\n",
    "val = [243637,   8549,   5339,   4252,   3121,   2768,   2468,   2273, 1903,   1721,   1644,   1539,  20786]\n",
    "res = []\n",
    "\n",
    "for case in filter(lambda x : sum(x) == 13, itertools.product(range(1, 7), repeat = 8)):\n",
    "    res.append((case, pd.Series([sum(val[:case[0]]), sum(val[case[0]:sum(case[:1])]), sum(val[sum(case[:1]):sum(case[:2])]), sum(val[sum(case[:2]):sum(case[:3])]), sum(val[sum(case[:3]):sum(case[:4])]), sum(val[sum(case[:4]):sum(case[:5])]), sum(val[sum(case[:5]):sum(case[:6])]), sum(val[sum(case[:6]):])]).std()))\n",
    "\n",
    "sorted(res, key = lambda x : x[1])[:10]"
   ]
  },
  {
   "cell_type": "code",
   "execution_count": 21,
   "id": "33679b26",
   "metadata": {},
   "outputs": [],
   "source": [
    "df2['Recency_8'] = df2['Recency'].map(lambda x : dict(zip(range(13), [8, 7, 6, 5, 5, 4, 4, 4, 3, 3, 3, 2, 1]))[x])"
   ]
  },
  {
   "cell_type": "code",
   "execution_count": 22,
   "id": "333ed0c9",
   "metadata": {},
   "outputs": [],
   "source": [
    "df2['Frequency_8'] = pd.cut(df2['Frequency'], bins = [df2['Frequency'].quantile(0), df2['Frequency'].quantile(0.125), df2['Frequency'].quantile(0.25), df2['Frequency'].quantile(0.375), df2['Frequency'].quantile(0.5), df2['Frequency'].quantile(0.625), df2['Frequency'].quantile(0.75), df2['Frequency'].quantile(0.875), df2['Frequency'].quantile(1)], labels = range(1, 9), include_lowest = True).astype(np.int64)"
   ]
  },
  {
   "cell_type": "code",
   "execution_count": 23,
   "id": "a39d02c3",
   "metadata": {},
   "outputs": [],
   "source": [
    "df2['Monetary_8'] = pd.cut(df2['Monetary'], bins = [df2['Monetary'].quantile(0), df2['Monetary'].quantile(0.125), df2['Monetary'].quantile(0.25), df2['Monetary'].quantile(0.375), df2['Monetary'].quantile(0.5), df2['Monetary'].quantile(0.625), df2['Monetary'].quantile(0.75), df2['Monetary'].quantile(0.875), df2['Monetary'].quantile(1)], labels = range(1, 9), include_lowest = True).astype(np.int64)"
   ]
  },
  {
   "cell_type": "code",
   "execution_count": 24,
   "id": "5e5728e8",
   "metadata": {},
   "outputs": [],
   "source": [
    "df2['RFM_Score'] = ((w1 * df2['Recency_8'] + w2 * df2['Frequency_8'] + w3 * df2['Monetary_8']) / 8) * 100"
   ]
  },
  {
   "cell_type": "code",
   "execution_count": 25,
   "id": "fd79fc89",
   "metadata": {},
   "outputs": [
    {
     "data": {
      "text/plain": [
       "이탈우려고객     44743\n",
       "잠재VIP고객    41408\n",
       "겨울잠고객      37522\n",
       "잠재충성고객     37134\n",
       "관심필요고객     37092\n",
       "충성고객       35958\n",
       "VIP고객      33888\n",
       "놓치면안될고객    32255\n",
       "Name: RFM_Class, dtype: int64"
      ]
     },
     "execution_count": 25,
     "metadata": {},
     "output_type": "execute_result"
    }
   ],
   "source": [
    "df2['RFM_Class'] = pd.cut(df2['RFM_Score'], bins = [df2['RFM_Score'].quantile(0), df2['RFM_Score'].quantile(0.125), df2['RFM_Score'].quantile(0.25), df2['RFM_Score'].quantile(0.375), df2['RFM_Score'].quantile(0.5), df2['RFM_Score'].quantile(0.625), df2['RFM_Score'].quantile(0.75), df2['RFM_Score'].quantile(0.875), df2['RFM_Score'].quantile(1)], labels = ['겨울잠고객','이탈우려고객','관심필요고객','놓치면안될고객','잠재충성고객','잠재VIP고객','충성고객','VIP고객'], include_lowest = True).astype(np.dtype('O'))\n",
    "df2['RFM_Class'].value_counts()"
   ]
  },
  {
   "cell_type": "code",
   "execution_count": 26,
   "id": "047dd371",
   "metadata": {},
   "outputs": [
    {
     "name": "stdout",
     "output_type": "stream",
     "text": [
      "VIP고객\n",
      "0    33121\n",
      "1      540\n",
      "2      227\n",
      "Name: 고객구분, dtype: int64\n",
      "\n",
      "충성고객\n",
      "0    34469\n",
      "1     1038\n",
      "2      451\n",
      "Name: 고객구분, dtype: int64\n",
      "\n",
      "잠재VIP고객\n",
      "0    38619\n",
      "1     1805\n",
      "2      984\n",
      "Name: 고객구분, dtype: int64\n",
      "\n",
      "잠재충성고객\n",
      "0    33689\n",
      "1     2129\n",
      "2     1316\n",
      "Name: 고객구분, dtype: int64\n",
      "\n",
      "놓치면안될고객\n",
      "0    26534\n",
      "1     3544\n",
      "2     2177\n",
      "Name: 고객구분, dtype: int64\n",
      "\n",
      "관심필요고객\n",
      "0    26307\n",
      "1     6563\n",
      "2     4222\n",
      "Name: 고객구분, dtype: int64\n",
      "\n",
      "이탈우려고객\n",
      "0    28217\n",
      "1     9055\n",
      "2     7471\n",
      "Name: 고객구분, dtype: int64\n",
      "\n",
      "겨울잠고객\n",
      "2    31254\n",
      "1     4361\n",
      "0     1907\n",
      "Name: 고객구분, dtype: int64\n",
      "\n"
     ]
    }
   ],
   "source": [
    "for rfm, customer_group in sorted(df2.groupby(by = ['RFM_Class'])[['고객구분']], key = lambda x : dict(zip(['겨울잠고객','이탈우려고객','관심필요고객','놓치면안될고객','잠재충성고객','잠재VIP고객','충성고객','VIP고객'], range(8, 0, -1)))[x[0]]):\n",
    "    print(rfm)\n",
    "    print(customer_group['고객구분'].value_counts())\n",
    "    print()"
   ]
  },
  {
   "cell_type": "code",
   "execution_count": 27,
   "id": "3c0a5274",
   "metadata": {},
   "outputs": [
    {
     "data": {
      "image/png": "[encoded data removed]",
      "text/plain": [
       "<Figure size 800x550 with 1 Axes>"
      ]
     },
     "metadata": {},
     "output_type": "display_data"
    }
   ],
   "source": [
    "sns.countplot(y = 'RFM_Class', data = df2, orient = 'h', order = reversed(['겨울잠고객','이탈우려고객','관심필요고객','놓치면안될고객', '잠재충성고객','잠재VIP고객','충성고객','VIP고객']))\n",
    "plt.show()"
   ]
  },
  {
   "cell_type": "code",
   "execution_count": 28,
   "id": "baa58bfb",
   "metadata": {},
   "outputs": [
    {
     "name": "stdout",
     "output_type": "stream",
     "text": [
      "column : Recency,     kruskal_pv : 0.0\n",
      "column : Frequency,     kruskal_pv : 0.0\n",
      "column : Monetary,     kruskal_pv : 0.0\n"
     ]
    }
   ],
   "source": [
    "# RFM_Class 그룹에 따른 R, F, M들의 평균값/중위값 차이가 있는지 분산분석\n",
    "for column in ['Recency', 'Frequency', 'Monetary']:\n",
    "  normally = []\n",
    "  for cla in df2['RFM_Class'].unique():\n",
    "    # 1. 정규성 검정\n",
    "    # shapiro나 kolmogorov-smirnov 같은 검정방법은 데이터의 갯수에 따라 달라지므로 데이터 갯수에 상관없이 하기 위해 normaltest로 검정\n",
    "    cla_tv, cla_pv = normaltest(df2.loc[df2['RFM_Class'] == cla, column])\n",
    "    if cla_pv >= 0.05:\n",
    "      normally.append(True)\n",
    "    else:\n",
    "      normally.append(False)\n",
    "\n",
    "  # 정규성인지 아닌지에 따라 등분산분석 할지 정하기\n",
    "  if all(normally):\n",
    "    # 2. 등분산분석\n",
    "    bartlett_tv, bartlett_pv = bartlett(*[df2.loc[df2['RFM_Class'] == cla, column] for cla in df2['RFM_Class'].unique()])\n",
    "    # 등분산이므로 F검정으로 일원분산분석\n",
    "    if bartlett_pv >= 0.05:\n",
    "      f_oneway_tv, f_oneway_pv = f_oneway(*[df2.loc[df2['RFM_Class'] == cla, column] for cla in df2['RFM_Class'].unique()])\n",
    "      if f_oneway_pv < 0.05:\n",
    "        print(f'column : {column},     f_oneway : {f_oneway_pv}')\n",
    "    # 등분산이 아니므로 Welch_Anova로 일원분산분석\n",
    "    else:\n",
    "      welch_anova_tv, welch_anova_pv = pg.welch_anova(dv = column, between = 'RFM_Class', data = df2)\n",
    "      if welch_anova_pv < 0.05:\n",
    "        print(f'column : {column},     welch_anova_pv : {welch_anova_pv}')\n",
    "  # 정규성을 만족하지 않으므로 Kruskal-Wallis H-test로 일원분산분석\n",
    "  else:\n",
    "    kruskal_tv, kruskal_pv = kruskal(*[df2.loc[df2['RFM_Class'] == cla, column] for cla in df2['RFM_Class'].unique()])\n",
    "    if kruskal_pv < 0.05:\n",
    "      print(f'column : {column},     kruskal_pv : {kruskal_pv}')"
   ]
  },
  {
   "cell_type": "code",
   "execution_count": 29,
   "id": "a15bd8ed",
   "metadata": {},
   "outputs": [
    {
     "data": {
      "text/html": [
       "<div>\n",
       "<style scoped>\n",
       "    .dataframe tbody tr th:only-of-type {\n",
       "        vertical-align: middle;\n",
       "    }\n",
       "\n",
       "    .dataframe tbody tr th {\n",
       "        vertical-align: top;\n",
       "    }\n",
       "\n",
       "    .dataframe thead th {\n",
       "        text-align: right;\n",
       "    }\n",
       "</style>\n",
       "<table border=\"1\" class=\"dataframe\">\n",
       "  <thead>\n",
       "    <tr style=\"text-align: right;\">\n",
       "      <th></th>\n",
       "      <th>Recency</th>\n",
       "      <th>Frequency</th>\n",
       "      <th>Monetary</th>\n",
       "    </tr>\n",
       "    <tr>\n",
       "      <th>RFM_Class</th>\n",
       "      <th></th>\n",
       "      <th></th>\n",
       "      <th></th>\n",
       "    </tr>\n",
       "  </thead>\n",
       "  <tbody>\n",
       "    <tr>\n",
       "      <th>VIP고객</th>\n",
       "      <td>0.0</td>\n",
       "      <td>832.0</td>\n",
       "      <td>24057959.0</td>\n",
       "    </tr>\n",
       "    <tr>\n",
       "      <th>충성고객</th>\n",
       "      <td>0.0</td>\n",
       "      <td>459.0</td>\n",
       "      <td>18081942.5</td>\n",
       "    </tr>\n",
       "    <tr>\n",
       "      <th>잠재VIP고객</th>\n",
       "      <td>0.0</td>\n",
       "      <td>296.0</td>\n",
       "      <td>10628446.0</td>\n",
       "    </tr>\n",
       "    <tr>\n",
       "      <th>잠재충성고객</th>\n",
       "      <td>0.0</td>\n",
       "      <td>186.0</td>\n",
       "      <td>6953471.0</td>\n",
       "    </tr>\n",
       "    <tr>\n",
       "      <th>놓치면안될고객</th>\n",
       "      <td>0.0</td>\n",
       "      <td>105.0</td>\n",
       "      <td>6323250.0</td>\n",
       "    </tr>\n",
       "    <tr>\n",
       "      <th>관심필요고객</th>\n",
       "      <td>0.0</td>\n",
       "      <td>56.0</td>\n",
       "      <td>2930139.5</td>\n",
       "    </tr>\n",
       "    <tr>\n",
       "      <th>이탈우려고객</th>\n",
       "      <td>0.0</td>\n",
       "      <td>17.0</td>\n",
       "      <td>640360.0</td>\n",
       "    </tr>\n",
       "    <tr>\n",
       "      <th>겨울잠고객</th>\n",
       "      <td>12.0</td>\n",
       "      <td>0.0</td>\n",
       "      <td>0.0</td>\n",
       "    </tr>\n",
       "  </tbody>\n",
       "</table>\n",
       "</div>"
      ],
      "text/plain": [
       "           Recency  Frequency    Monetary\n",
       "RFM_Class                                \n",
       "VIP고객          0.0      832.0  24057959.0\n",
       "충성고객           0.0      459.0  18081942.5\n",
       "잠재VIP고객        0.0      296.0  10628446.0\n",
       "잠재충성고객         0.0      186.0   6953471.0\n",
       "놓치면안될고객        0.0      105.0   6323250.0\n",
       "관심필요고객         0.0       56.0   2930139.5\n",
       "이탈우려고객         0.0       17.0    640360.0\n",
       "겨울잠고객         12.0        0.0         0.0"
      ]
     },
     "execution_count": 29,
     "metadata": {},
     "output_type": "execute_result"
    }
   ],
   "source": [
    "df2.groupby(by = ['RFM_Class'])[['Recency', 'Frequency', 'Monetary']].agg('median').sort_index(key = lambda x : x.map(lambda y : dict(zip(['겨울잠고객','이탈우려고객','관심필요고객','놓치면안될고객','잠재충성고객','잠재VIP고객','충성고객','VIP고객'], range(8, 0, -1)))[y]))"
   ]
  },
  {
   "cell_type": "code",
   "execution_count": 30,
   "id": "8a72483a",
   "metadata": {},
   "outputs": [],
   "source": [
    "# 연속 : VIP고객, 충성고객, 잠재VIP고객\n",
    "# 간헐 : 잠재충성고객, 놓치면안될고객\n",
    "# 휴면 : 겨울잠고객,이탈우려고객, 관심필요고객"
   ]
  },
  {
   "cell_type": "code",
   "execution_count": 31,
   "id": "49c82b74",
   "metadata": {},
   "outputs": [],
   "source": [
    "df2['고객구분_New'] = '임시'\n",
    "df2.loc[df2['RFM_Class'].isin(['VIP고객', '충성고객', '잠재VIP고객']), '고객구분_New'] = '연속'\n",
    "df2.loc[df2['RFM_Class'].isin(['잠재충성고객', '놓치면안될고객']), '고객구분_New'] = '간헐'\n",
    "df2.loc[df2['RFM_Class'].isin(['관심필요고객', '이탈우려고객', '겨울잠고객']), '고객구분_New'] = '휴면'"
   ]
  },
  {
   "cell_type": "code",
   "execution_count": 32,
   "id": "041cb9c7",
   "metadata": {},
   "outputs": [
    {
     "data": {
      "text/plain": [
       "휴면    119357\n",
       "연속    111254\n",
       "간헐     69389\n",
       "Name: 고객구분_New, dtype: int64"
      ]
     },
     "execution_count": 32,
     "metadata": {},
     "output_type": "execute_result"
    }
   ],
   "source": [
    "df2['고객구분_New'].value_counts()"
   ]
  },
  {
   "cell_type": "markdown",
   "id": "7666f9d0",
   "metadata": {},
   "source": [
    "# 모델링"
   ]
  },
  {
   "cell_type": "markdown",
   "id": "66a64044",
   "metadata": {},
   "source": [
    "## 로지스틱"
   ]
  },
  {
   "cell_type": "code",
   "execution_count": 36,
   "id": "329eca7d",
   "metadata": {},
   "outputs": [],
   "source": [
    "df3 = df2[df2['고객구분_New'] != '간헐']"
   ]
  },
  {
   "cell_type": "code",
   "execution_count": 38,
   "id": "20ac09db",
   "metadata": {},
   "outputs": [
    {
     "data": {
      "text/plain": [
       "0    222863\n",
       "2     48102\n",
       "Name: 고객구분, dtype: int64"
      ]
     },
     "execution_count": 38,
     "metadata": {},
     "output_type": "execute_result"
    }
   ],
   "source": [
    "df3['고객구분'].value_counts()"
   ]
  },
  {
   "cell_type": "code",
   "execution_count": 39,
   "id": "7c0e440d",
   "metadata": {},
   "outputs": [
    {
     "name": "stdout",
     "output_type": "stream",
     "text": [
      "Accuracy: 0.9808831398889155\n",
      "Confusion Matrix:\n",
      " [[44506     0]\n",
      " [ 1036  8651]]\n",
      "Classification Report:\n",
      "               precision    recall  f1-score   support\n",
      "\n",
      "           0       0.98      1.00      0.99     44506\n",
      "           2       1.00      0.89      0.94      9687\n",
      "\n",
      "    accuracy                           0.98     54193\n",
      "   macro avg       0.99      0.95      0.97     54193\n",
      "weighted avg       0.98      0.98      0.98     54193\n",
      "\n"
     ]
    }
   ],
   "source": [
    "# 데이터 준비 (X는 특성 데이터, y는 타겟 변수)\n",
    "X = df3[['Recency_s', 'Frequency_s', 'Monetary_s']]\n",
    "y = df3['고객구분']  # Target 컬럼에 이탈 여부 정보가 있는 것으로 가정\n",
    "\n",
    "# 데이터 분할 (학습 데이터와 테스트 데이터로 나누기)\n",
    "X_train, X_test, y_train, y_test = train_test_split(X, y, test_size=0.2, random_state=42)\n",
    "\n",
    "# 로지스틱 회귀 모델 생성\n",
    "logreg_model = LogisticRegression()\n",
    "\n",
    "# 모델 학습\n",
    "logreg_model.fit(X_train, y_train)\n",
    "\n",
    "# 테스트 데이터로 예측\n",
    "y_pred = logreg_model.predict(X_test)\n",
    "\n",
    "# 모델 성능 평가\n",
    "accuracy = accuracy_score(y_test, y_pred)\n",
    "conf_matrix = confusion_matrix(y_test, y_pred)\n",
    "classification_rep = classification_report(y_test, y_pred)\n",
    "\n",
    "print(\"Accuracy:\", accuracy)\n",
    "print(\"Confusion Matrix:\\n\", conf_matrix)\n",
    "print(\"Classification Report:\\n\", classification_rep)"
   ]
  },
  {
   "cell_type": "code",
   "execution_count": 40,
   "id": "93b40727",
   "metadata": {},
   "outputs": [],
   "source": [
    "df4 = df2[df2['고객구분'] == 1.0]"
   ]
  },
  {
   "cell_type": "code",
   "execution_count": 41,
   "id": "7bd7ce16",
   "metadata": {},
   "outputs": [],
   "source": [
    "df4 = df4[['Recency_s', 'Frequency_s', 'Monetary_s','RFM_Class']]"
   ]
  },
  {
   "cell_type": "code",
   "execution_count": 42,
   "id": "d9315207",
   "metadata": {},
   "outputs": [],
   "source": [
    "X1 = df4[['Recency_s', 'Frequency_s', 'Monetary_s']]"
   ]
  },
  {
   "cell_type": "code",
   "execution_count": 43,
   "id": "0729137e",
   "metadata": {},
   "outputs": [],
   "source": [
    "df4['first_step_prediction'] = logreg_model.predict(X1)"
   ]
  },
  {
   "cell_type": "code",
   "execution_count": 44,
   "id": "c31d05a0",
   "metadata": {},
   "outputs": [
    {
     "data": {
      "text/plain": [
       "0    24306\n",
       "2     4729\n",
       "Name: first_step_prediction, dtype: int64"
      ]
     },
     "execution_count": 44,
     "metadata": {},
     "output_type": "execute_result"
    }
   ],
   "source": [
    "df4['first_step_prediction'].value_counts()"
   ]
  },
  {
   "cell_type": "code",
   "execution_count": 45,
   "id": "ee58b794",
   "metadata": {},
   "outputs": [
    {
     "data": {
      "text/plain": [
       "0    510\n",
       "2     30\n",
       "Name: first_step_prediction, dtype: int64"
      ]
     },
     "execution_count": 45,
     "metadata": {},
     "output_type": "execute_result"
    }
   ],
   "source": [
    "df4.loc[df4['RFM_Class'] == 'VIP고객','first_step_prediction'].value_counts()"
   ]
  },
  {
   "cell_type": "code",
   "execution_count": 46,
   "id": "520bd60f",
   "metadata": {},
   "outputs": [
    {
     "data": {
      "text/plain": [
       "0    917\n",
       "2    121\n",
       "Name: first_step_prediction, dtype: int64"
      ]
     },
     "execution_count": 46,
     "metadata": {},
     "output_type": "execute_result"
    }
   ],
   "source": [
    "df4.loc[df4['RFM_Class'] == '충성고객','first_step_prediction'].value_counts()"
   ]
  },
  {
   "cell_type": "code",
   "execution_count": 47,
   "id": "d3521aca",
   "metadata": {},
   "outputs": [
    {
     "data": {
      "text/plain": [
       "0    1594\n",
       "2     211\n",
       "Name: first_step_prediction, dtype: int64"
      ]
     },
     "execution_count": 47,
     "metadata": {},
     "output_type": "execute_result"
    }
   ],
   "source": [
    "df4.loc[df4['RFM_Class'] == '잠재VIP고객','first_step_prediction'].value_counts()"
   ]
  },
  {
   "cell_type": "code",
   "execution_count": 48,
   "id": "992b6f27",
   "metadata": {},
   "outputs": [
    {
     "data": {
      "text/plain": [
       "0    1895\n",
       "2     234\n",
       "Name: first_step_prediction, dtype: int64"
      ]
     },
     "execution_count": 48,
     "metadata": {},
     "output_type": "execute_result"
    }
   ],
   "source": [
    "df4.loc[df4['RFM_Class'] == '잠재충성고객','first_step_prediction'].value_counts()"
   ]
  },
  {
   "cell_type": "code",
   "execution_count": 49,
   "id": "a0873dd2",
   "metadata": {},
   "outputs": [
    {
     "data": {
      "text/plain": [
       "0    3008\n",
       "2     536\n",
       "Name: first_step_prediction, dtype: int64"
      ]
     },
     "execution_count": 49,
     "metadata": {},
     "output_type": "execute_result"
    }
   ],
   "source": [
    "df4.loc[df4['RFM_Class'] == '놓치면안될고객','first_step_prediction'].value_counts()"
   ]
  },
  {
   "cell_type": "code",
   "execution_count": 50,
   "id": "6c50fbbb",
   "metadata": {},
   "outputs": [
    {
     "data": {
      "text/plain": [
       "0    5570\n",
       "2     993\n",
       "Name: first_step_prediction, dtype: int64"
      ]
     },
     "execution_count": 50,
     "metadata": {},
     "output_type": "execute_result"
    }
   ],
   "source": [
    "df4.loc[df4['RFM_Class'] == '관심필요고객','first_step_prediction'].value_counts()"
   ]
  },
  {
   "cell_type": "code",
   "execution_count": 51,
   "id": "042dda51",
   "metadata": {},
   "outputs": [
    {
     "data": {
      "text/plain": [
       "0    7542\n",
       "2    1513\n",
       "Name: first_step_prediction, dtype: int64"
      ]
     },
     "execution_count": 51,
     "metadata": {},
     "output_type": "execute_result"
    }
   ],
   "source": [
    "df4.loc[df4['RFM_Class'] == '이탈우려고객','first_step_prediction'].value_counts()"
   ]
  },
  {
   "cell_type": "code",
   "execution_count": 52,
   "id": "2600aed1",
   "metadata": {},
   "outputs": [
    {
     "data": {
      "text/plain": [
       "0    3270\n",
       "2    1091\n",
       "Name: first_step_prediction, dtype: int64"
      ]
     },
     "execution_count": 52,
     "metadata": {},
     "output_type": "execute_result"
    }
   ],
   "source": [
    "df4.loc[df4['RFM_Class'] == '겨울잠고객','first_step_prediction'].value_counts()"
   ]
  },
  {
   "cell_type": "markdown",
   "id": "5312668d",
   "metadata": {},
   "source": [
    "## 랜덤포레스트"
   ]
  },
  {
   "cell_type": "code",
   "execution_count": 44,
   "id": "18f0be68",
   "metadata": {},
   "outputs": [],
   "source": [
    "X = df3[df.columns[(df.dtypes == np.int64) | (df.dtypes == np.float64)]]"
   ]
  },
  {
   "cell_type": "code",
   "execution_count": 54,
   "id": "7bbbf796",
   "metadata": {},
   "outputs": [
    {
     "name": "stdout",
     "output_type": "stream",
     "text": [
      "Accuracy: 0.9764325824425991\n",
      "Confusion Matrix:\n",
      " [[21424  1002]\n",
      " [   85 23612]]\n",
      "Classification Report:\n",
      "               precision    recall  f1-score   support\n",
      "\n",
      "          연속       1.00      0.96      0.98     22426\n",
      "          휴면       0.96      1.00      0.98     23697\n",
      "\n",
      "    accuracy                           0.98     46123\n",
      "   macro avg       0.98      0.98      0.98     46123\n",
      "weighted avg       0.98      0.98      0.98     46123\n",
      "\n"
     ]
    }
   ],
   "source": [
    "# 데이터 준비 (X는 특성 데이터, y는 타겟 변수)\n",
    "X = df3[['청구금액_R6M', '이용가맹점수','이용건수_신판_R12M','이용금액_신판_R12M']]\n",
    "y = df3['고객구분_New']  # Target 컬럼에 이탈 여부 정보가 있는 것으로 가정\n",
    "\n",
    "# 데이터 분할 (학습 데이터와 테스트 데이터로 나누기)\n",
    "X_train, X_test, y_train, y_test = train_test_split(X, y, test_size=0.2, random_state=42)\n",
    "\n",
    "# 로지스틱 회귀 모델 생성\n",
    "RF_model = RandomForestClassifier()\n",
    "\n",
    "# 모델 학습\n",
    "RF_model.fit(X_train, y_train)\n",
    "\n",
    "# 테스트 데이터로 예측\n",
    "y_pred = RF_model.predict(X_test)\n",
    "\n",
    "# 모델 성능 평가\n",
    "accuracy = accuracy_score(y_test, y_pred)\n",
    "conf_matrix = confusion_matrix(y_test, y_pred)\n",
    "classification_rep = classification_report(y_test, y_pred)\n",
    "\n",
    "print(\"Accuracy:\", accuracy)\n",
    "print(\"Confusion Matrix:\\n\", conf_matrix)\n",
    "print(\"Classification Report:\\n\", classification_rep)"
   ]
  },
  {
   "cell_type": "code",
   "execution_count": 51,
   "id": "0e2774f8",
   "metadata": {},
   "outputs": [
    {
     "data": {
      "image/png": "[encoded data removed]",
      "text/plain": [
       "<Figure size 1000x600 with 1 Axes>"
      ]
     },
     "metadata": {},
     "output_type": "display_data"
    }
   ],
   "source": [
    "import matplotlib.pyplot as plt\n",
    "import seaborn as sns\n",
    "\n",
    "# 모델에서 특성 중요도 가져오기 (예: 랜덤 포레스트 모델)\n",
    "feature_importance = RF_model.feature_importances_\n",
    "feature_names = X.columns\n",
    "# 중요도를 내림차순으로 정렬\n",
    "sorted_idx = np.argsort(feature_importance)[::-1]\n",
    "\n",
    "# 상위 n개의 중요한 특성 선택 (예: 상위 10개)\n",
    "top_n = 30\n",
    "sorted_feature_importance = feature_importance[sorted_idx][:top_n]\n",
    "sorted_feature_names = feature_names[sorted_idx][:top_n]\n",
    "\n",
    "# 시각화\n",
    "plt.figure(figsize=(10, 6))\n",
    "sns.barplot(x=sorted_feature_importance, y=sorted_feature_names)\n",
    "plt.xlabel('Feature Importance')\n",
    "plt.ylabel('Features')\n",
    "plt.title('Top {} Feature Importance'.format(top_n))\n",
    "plt.show()"
   ]
  },
  {
   "cell_type": "code",
   "execution_count": 54,
   "id": "59400d63",
   "metadata": {},
   "outputs": [
    {
     "data": {
      "image/png": "[encoded data removed]",
      "text/plain": [
       "<Figure size 1000x600 with 1 Axes>"
      ]
     },
     "metadata": {},
     "output_type": "display_data"
    }
   ],
   "source": [
    "from sklearn.model_selection import learning_curve\n",
    "\n",
    "# 학습 데이터 크기 설정\n",
    "train_sizes = [0.4, 0.5, 0.6, 0.7, 0.8]\n",
    "\n",
    "# Learning Curve 계산\n",
    "train_sizes, train_scores, test_scores = learning_curve(\n",
    "    RF_model,  # 모델\n",
    "    X,  # 특성 행렬\n",
    "    y,  # 타겟 벡터\n",
    "    train_sizes=train_sizes,  # 학습 데이터 크기 설정\n",
    "    cv=5,  # 교차 검증 횟수 (폴드 수)\n",
    "    scoring='accuracy'  # 성능 지표 설정 (정확도 등)\n",
    ")\n",
    "\n",
    "# 성능 평균 및 표준편차 계산\n",
    "train_mean = np.mean(train_scores, axis=1)\n",
    "train_std = np.std(train_scores, axis=1)\n",
    "test_mean = np.mean(test_scores, axis=1)\n",
    "test_std = np.std(test_scores, axis=1)\n",
    "\n",
    "# Learning Curve 그리기\n",
    "plt.figure(figsize=(10, 6))\n",
    "plt.plot(train_sizes, train_mean, label='Train accuracy', marker='o', markersize=5)\n",
    "plt.fill_between(train_sizes, train_mean + train_std, train_mean - train_std, alpha=0.15)\n",
    "plt.plot(train_sizes, test_mean, label='Test accuracy', marker='s', markersize=5)\n",
    "plt.fill_between(train_sizes, test_mean + test_std, test_mean - test_std, alpha=0.15)\n",
    "plt.xlabel('Training Data Size')\n",
    "plt.ylabel('Accuracy')\n",
    "plt.legend()\n",
    "plt.grid()\n",
    "plt.show()"
   ]
  },
  {
   "cell_type": "code",
   "execution_count": 88,
   "id": "5450ec71",
   "metadata": {},
   "outputs": [
    {
     "name": "stdout",
     "output_type": "stream",
     "text": [
      "1번째 K-Fold 결과: 0.982082556787777\n",
      "2번째 K-Fold 결과: 0.9805325411030945\n",
      "3번째 K-Fold 결과: 0.981196833539387\n",
      "4번째 K-Fold 결과: 0.9817873157049803\n",
      "5번째 K-Fold 결과: 0.9815843374605576\n",
      "Average Accuracy: 0.9814367169191593\n"
     ]
    }
   ],
   "source": [
    "from sklearn.model_selection import StratifiedKFold\n",
    "from sklearn.model_selection import cross_val_score\n",
    "# K-Fold 교차 검증을 위한 K 값 설정\n",
    "k = 5  # 5개의 폴드로 나누어 검증\n",
    "X = df3[['Recency_s', 'Frequency_s', 'Monetary_s']]\n",
    "y = df3['고객구분']  # Target 컬럼에 이탈 여부 정보가 있는 것으로 가정\n",
    "# 모델 생성 (여기서는 RandomForestClassifier를 예시로 사용)\n",
    "RF_model = RandomForestClassifier()\n",
    "\n",
    "# K-Fold 교차 검증 수행\n",
    "kfold = StratifiedKFold(n_splits=k, shuffle=True, random_state=42)\n",
    "\n",
    "# K-Fold 교차 검증 결과를 담을 리스트\n",
    "results = []\n",
    "\n",
    "k_num =0\n",
    "\n",
    "# K번의 학습과 검증을 반복\n",
    "for train_index, test_index in kfold.split(X,y):\n",
    "    X_train, X_test = X.iloc[train_index], X.iloc[test_index]\n",
    "    y_train, y_test = y.iloc[train_index], y.iloc[test_index]\n",
    "    k_num += 1\n",
    "\n",
    "    # 모델 학습\n",
    "    RF_model.fit(X_train, y_train)\n",
    "\n",
    "    # 모델 평가 (여기서는 accuracy를 평가 지표로 사용)\n",
    "    score = RF_model.score(X_test, y_test)\n",
    "\n",
    "    # 결과 저장\n",
    "    results.append(score)\n",
    "\n",
    "    # K-Fold 교차 검증 결과 출력\n",
    "    print(f\"{k_num}번째 K-Fold 결과:\", results[-1])\\\n",
    "\n",
    "# K-Fold 교차 검증 결과 평균 출력\n",
    "print(\"Average Accuracy:\", sum(results) / k)"
   ]
  },
  {
   "cell_type": "code",
   "execution_count": 57,
   "id": "7b0e34e7",
   "metadata": {},
   "outputs": [
    {
     "name": "stdout",
     "output_type": "stream",
     "text": [
      "교차 검증 점수:  [0.9812891  0.98182422 0.98149207 0.98138136 0.98210101]\n"
     ]
    }
   ],
   "source": [
    "# k=5로 k-fold cross validation 수행\n",
    "scores = cross_val_score(RF_model, X, y, cv=5)\n",
    "print(\"교차 검증 점수: \", scores)"
   ]
  },
  {
   "cell_type": "code",
   "execution_count": 58,
   "id": "515c784b",
   "metadata": {},
   "outputs": [],
   "source": [
    "df4 = df2[df2['고객구분'] == 1.0]"
   ]
  },
  {
   "cell_type": "code",
   "execution_count": 59,
   "id": "44f61991",
   "metadata": {},
   "outputs": [],
   "source": [
    "df4 = df4[['Recency_s', 'Frequency_s', 'Monetary_s','RFM_Class']]"
   ]
  },
  {
   "cell_type": "code",
   "execution_count": 60,
   "id": "570937d3",
   "metadata": {},
   "outputs": [],
   "source": [
    "X1 = df4[['Recency_s', 'Frequency_s', 'Monetary_s']]"
   ]
  },
  {
   "cell_type": "code",
   "execution_count": 61,
   "id": "39b7ed8b",
   "metadata": {},
   "outputs": [],
   "source": [
    "df4['first_step_prediction'] = RF_model.predict(X1)"
   ]
  },
  {
   "cell_type": "code",
   "execution_count": 62,
   "id": "936cf307",
   "metadata": {},
   "outputs": [
    {
     "data": {
      "text/plain": [
       "0    14950\n",
       "2    14085\n",
       "Name: first_step_prediction, dtype: int64"
      ]
     },
     "execution_count": 62,
     "metadata": {},
     "output_type": "execute_result"
    }
   ],
   "source": [
    "df4['first_step_prediction'].value_counts()"
   ]
  },
  {
   "cell_type": "code",
   "execution_count": 63,
   "id": "3cb0f440",
   "metadata": {},
   "outputs": [
    {
     "data": {
      "text/plain": [
       "0    443\n",
       "2     97\n",
       "Name: first_step_prediction, dtype: int64"
      ]
     },
     "execution_count": 63,
     "metadata": {},
     "output_type": "execute_result"
    }
   ],
   "source": [
    "df4.loc[df4['RFM_Class'] == 'VIP고객','first_step_prediction'].value_counts()"
   ]
  },
  {
   "cell_type": "code",
   "execution_count": 64,
   "id": "5fb6416f",
   "metadata": {},
   "outputs": [
    {
     "data": {
      "text/plain": [
       "0    684\n",
       "2    354\n",
       "Name: first_step_prediction, dtype: int64"
      ]
     },
     "execution_count": 64,
     "metadata": {},
     "output_type": "execute_result"
    }
   ],
   "source": [
    "df4.loc[df4['RFM_Class'] == '충성고객','first_step_prediction'].value_counts()"
   ]
  },
  {
   "cell_type": "code",
   "execution_count": 65,
   "id": "ff77ec76",
   "metadata": {},
   "outputs": [
    {
     "data": {
      "text/plain": [
       "0    1157\n",
       "2     648\n",
       "Name: first_step_prediction, dtype: int64"
      ]
     },
     "execution_count": 65,
     "metadata": {},
     "output_type": "execute_result"
    }
   ],
   "source": [
    "df4.loc[df4['RFM_Class'] == '잠재VIP고객','first_step_prediction'].value_counts()"
   ]
  },
  {
   "cell_type": "code",
   "execution_count": 66,
   "id": "0ba1efd5",
   "metadata": {},
   "outputs": [
    {
     "data": {
      "text/plain": [
       "0    1438\n",
       "2     691\n",
       "Name: first_step_prediction, dtype: int64"
      ]
     },
     "execution_count": 66,
     "metadata": {},
     "output_type": "execute_result"
    }
   ],
   "source": [
    "df4.loc[df4['RFM_Class'] == '잠재충성고객','first_step_prediction'].value_counts()"
   ]
  },
  {
   "cell_type": "code",
   "execution_count": 67,
   "id": "3a5aaead",
   "metadata": {},
   "outputs": [
    {
     "data": {
      "text/plain": [
       "0    1874\n",
       "2    1670\n",
       "Name: first_step_prediction, dtype: int64"
      ]
     },
     "execution_count": 67,
     "metadata": {},
     "output_type": "execute_result"
    }
   ],
   "source": [
    "df4.loc[df4['RFM_Class'] == '놓치면안될고객','first_step_prediction'].value_counts()"
   ]
  },
  {
   "cell_type": "code",
   "execution_count": 68,
   "id": "4d1ec66b",
   "metadata": {},
   "outputs": [
    {
     "data": {
      "text/plain": [
       "0    3655\n",
       "2    2908\n",
       "Name: first_step_prediction, dtype: int64"
      ]
     },
     "execution_count": 68,
     "metadata": {},
     "output_type": "execute_result"
    }
   ],
   "source": [
    "df4.loc[df4['RFM_Class'] == '관심필요고객','first_step_prediction'].value_counts()"
   ]
  },
  {
   "cell_type": "code",
   "execution_count": 69,
   "id": "09b3a558",
   "metadata": {},
   "outputs": [
    {
     "data": {
      "text/plain": [
       "0    4864\n",
       "2    4191\n",
       "Name: first_step_prediction, dtype: int64"
      ]
     },
     "execution_count": 69,
     "metadata": {},
     "output_type": "execute_result"
    }
   ],
   "source": [
    "df4.loc[df4['RFM_Class'] == '이탈우려고객','first_step_prediction'].value_counts()"
   ]
  },
  {
   "cell_type": "code",
   "execution_count": 70,
   "id": "8f6795d7",
   "metadata": {},
   "outputs": [
    {
     "data": {
      "text/plain": [
       "2    3526\n",
       "0     835\n",
       "Name: first_step_prediction, dtype: int64"
      ]
     },
     "execution_count": 70,
     "metadata": {},
     "output_type": "execute_result"
    }
   ],
   "source": [
    "df4.loc[df4['RFM_Class'] == '겨울잠고객','first_step_prediction'].value_counts()"
   ]
  },
  {
   "cell_type": "markdown",
   "id": "bf17e4bf",
   "metadata": {},
   "source": [
    "## XGBoost"
   ]
  },
  {
   "cell_type": "code",
   "execution_count": 71,
   "id": "3422aa36",
   "metadata": {},
   "outputs": [
    {
     "name": "stderr",
     "output_type": "stream",
     "text": [
      "C:\\Users\\Home\\AppData\\Local\\Temp\\ipykernel_25348\\3585182153.py:1: SettingWithCopyWarning: \n",
      "A value is trying to be set on a copy of a slice from a DataFrame.\n",
      "Try using .loc[row_indexer,col_indexer] = value instead\n",
      "\n",
      "See the caveats in the documentation: https://pandas.pydata.org/pandas-docs/stable/user_guide/indexing.html#returning-a-view-versus-a-copy\n",
      "  df3['고객구분_xgb'] = df2['고객구분'].replace({2: 1})\n"
     ]
    }
   ],
   "source": [
    "df3['고객구분_xgb'] = df2['고객구분'].replace({2: 1})"
   ]
  },
  {
   "cell_type": "code",
   "execution_count": 72,
   "id": "13200dda",
   "metadata": {},
   "outputs": [
    {
     "data": {
      "text/plain": [
       "0    222863\n",
       "1     48102\n",
       "Name: 고객구분_xgb, dtype: int64"
      ]
     },
     "execution_count": 72,
     "metadata": {},
     "output_type": "execute_result"
    }
   ],
   "source": [
    "df3['고객구분_xgb'].value_counts()"
   ]
  },
  {
   "cell_type": "code",
   "execution_count": 73,
   "id": "60fac46c",
   "metadata": {},
   "outputs": [
    {
     "name": "stdout",
     "output_type": "stream",
     "text": [
      "Accuracy: 0.9841492443673537\n",
      "Confusion Matrix:\n",
      " [[44499     7]\n",
      " [  852  8835]]\n",
      "Classification Report:\n",
      "               precision    recall  f1-score   support\n",
      "\n",
      "           0       0.98      1.00      0.99     44506\n",
      "           1       1.00      0.91      0.95      9687\n",
      "\n",
      "    accuracy                           0.98     54193\n",
      "   macro avg       0.99      0.96      0.97     54193\n",
      "weighted avg       0.98      0.98      0.98     54193\n",
      "\n"
     ]
    }
   ],
   "source": [
    "# 데이터 준비 (X는 특성 데이터, y는 타겟 변수)\n",
    "X = df3[['Recency_s', 'Frequency_s', 'Monetary_s']]\n",
    "y = df3['고객구분_xgb']  # Target 컬럼에 이탈 여부 정보가 있는 것으로 가정\n",
    "\n",
    "#데이터 분할\n",
    "X_train, X_test, y_train, y_test = train_test_split(X, y, test_size=0.2, random_state=42)\n",
    "\n",
    "# XGBoost 분류 모델 생성\n",
    "xgb_model = xgb.XGBClassifier()\n",
    "\n",
    "# 모델 학습\n",
    "xgb_model.fit(X_train, y_train)\n",
    "\n",
    "# 테스트 데이터로 예측\n",
    "y_pred = xgb_model.predict(X_test)\n",
    "\n",
    "# 모델 성능 평가\n",
    "accuracy = accuracy_score(y_test, y_pred)\n",
    "conf_matrix = confusion_matrix(y_test, y_pred)\n",
    "classification_rep = classification_report(y_test, y_pred)\n",
    "\n",
    "print(\"Accuracy:\", accuracy)\n",
    "print(\"Confusion Matrix:\\n\", conf_matrix)\n",
    "print(\"Classification Report:\\n\", classification_rep)"
   ]
  },
  {
   "cell_type": "code",
   "execution_count": 74,
   "id": "a7c9c7a2",
   "metadata": {},
   "outputs": [
    {
     "name": "stdout",
     "output_type": "stream",
     "text": [
      "Accuracy: 0.9847996973778901\n",
      "Confusion Matrix:\n",
      " [[178342     15]\n",
      " [  3280  35135]]\n",
      "Classification Report:\n",
      "               precision    recall  f1-score   support\n",
      "\n",
      "           0       0.98      1.00      0.99    178357\n",
      "           1       1.00      0.91      0.96     38415\n",
      "\n",
      "    accuracy                           0.98    216772\n",
      "   macro avg       0.99      0.96      0.97    216772\n",
      "weighted avg       0.99      0.98      0.98    216772\n",
      "\n"
     ]
    }
   ],
   "source": [
    "# 학습 데이터로 예측\n",
    "y_pred_train = xgb_model.predict(X_train)\n",
    "\n",
    "# 성능 평가\n",
    "accuracy = accuracy_score(y_train, y_pred_train)\n",
    "conf_matrix = confusion_matrix(y_train, y_pred_train)\n",
    "classification_rep = classification_report(y_train, y_pred_train)\n",
    "\n",
    "print(\"Accuracy:\", accuracy)\n",
    "print(\"Confusion Matrix:\\n\", conf_matrix)\n",
    "print(\"Classification Report:\\n\", classification_rep)"
   ]
  },
  {
   "cell_type": "code",
   "execution_count": 75,
   "id": "80248920",
   "metadata": {},
   "outputs": [],
   "source": [
    "df4 = df2[df2['고객구분'] == 1.0]"
   ]
  },
  {
   "cell_type": "code",
   "execution_count": 76,
   "id": "98d66a81",
   "metadata": {},
   "outputs": [],
   "source": [
    "df4 = df4[['Recency_s', 'Frequency_s', 'Monetary_s','RFM_Class']]"
   ]
  },
  {
   "cell_type": "code",
   "execution_count": 77,
   "id": "e83454c9",
   "metadata": {},
   "outputs": [
    {
     "data": {
      "text/plain": [
       "0    24306\n",
       "2     4729\n",
       "Name: first_step_prediction, dtype: int64"
      ]
     },
     "execution_count": 77,
     "metadata": {},
     "output_type": "execute_result"
    }
   ],
   "source": [
    "X1 = df4[['Recency_s', 'Frequency_s', 'Monetary_s']]\n",
    "\n",
    "df4['first_step_prediction'] = logreg_model.predict(X1)\n",
    "\n",
    "df4['first_step_prediction'].value_counts()"
   ]
  },
  {
   "cell_type": "code",
   "execution_count": 78,
   "id": "2b8c48d7",
   "metadata": {},
   "outputs": [
    {
     "data": {
      "text/plain": [
       "0    510\n",
       "2     30\n",
       "Name: first_step_prediction, dtype: int64"
      ]
     },
     "execution_count": 78,
     "metadata": {},
     "output_type": "execute_result"
    }
   ],
   "source": [
    "df4.loc[df4['RFM_Class'] == 'VIP고객','first_step_prediction'].value_counts()"
   ]
  },
  {
   "cell_type": "code",
   "execution_count": 79,
   "id": "eea6280b",
   "metadata": {},
   "outputs": [
    {
     "data": {
      "text/plain": [
       "0    917\n",
       "2    121\n",
       "Name: first_step_prediction, dtype: int64"
      ]
     },
     "execution_count": 79,
     "metadata": {},
     "output_type": "execute_result"
    }
   ],
   "source": [
    "df4.loc[df4['RFM_Class'] == '충성고객','first_step_prediction'].value_counts()"
   ]
  },
  {
   "cell_type": "code",
   "execution_count": 80,
   "id": "33e67f96",
   "metadata": {},
   "outputs": [
    {
     "data": {
      "text/plain": [
       "0    1594\n",
       "2     211\n",
       "Name: first_step_prediction, dtype: int64"
      ]
     },
     "execution_count": 80,
     "metadata": {},
     "output_type": "execute_result"
    }
   ],
   "source": [
    "df4.loc[df4['RFM_Class'] == '잠재VIP고객','first_step_prediction'].value_counts()"
   ]
  },
  {
   "cell_type": "code",
   "execution_count": 81,
   "id": "e757585a",
   "metadata": {},
   "outputs": [
    {
     "data": {
      "text/plain": [
       "0    1895\n",
       "2     234\n",
       "Name: first_step_prediction, dtype: int64"
      ]
     },
     "execution_count": 81,
     "metadata": {},
     "output_type": "execute_result"
    }
   ],
   "source": [
    "df4.loc[df4['RFM_Class'] == '잠재충성고객','first_step_prediction'].value_counts()"
   ]
  },
  {
   "cell_type": "code",
   "execution_count": 82,
   "id": "a1828355",
   "metadata": {},
   "outputs": [
    {
     "data": {
      "text/plain": [
       "0    3008\n",
       "2     536\n",
       "Name: first_step_prediction, dtype: int64"
      ]
     },
     "execution_count": 82,
     "metadata": {},
     "output_type": "execute_result"
    }
   ],
   "source": [
    "df4.loc[df4['RFM_Class'] == '놓치면안될고객','first_step_prediction'].value_counts()"
   ]
  },
  {
   "cell_type": "code",
   "execution_count": 83,
   "id": "e46cae47",
   "metadata": {},
   "outputs": [
    {
     "data": {
      "text/plain": [
       "0    5570\n",
       "2     993\n",
       "Name: first_step_prediction, dtype: int64"
      ]
     },
     "execution_count": 83,
     "metadata": {},
     "output_type": "execute_result"
    }
   ],
   "source": [
    "df4.loc[df4['RFM_Class'] == '관심필요고객','first_step_prediction'].value_counts()"
   ]
  },
  {
   "cell_type": "code",
   "execution_count": 84,
   "id": "cafa75f8",
   "metadata": {},
   "outputs": [
    {
     "data": {
      "text/plain": [
       "0    7542\n",
       "2    1513\n",
       "Name: first_step_prediction, dtype: int64"
      ]
     },
     "execution_count": 84,
     "metadata": {},
     "output_type": "execute_result"
    }
   ],
   "source": [
    "df4.loc[df4['RFM_Class'] == '이탈우려고객','first_step_prediction'].value_counts()"
   ]
  },
  {
   "cell_type": "code",
   "execution_count": 85,
   "id": "33afa967",
   "metadata": {},
   "outputs": [
    {
     "data": {
      "text/plain": [
       "0    3270\n",
       "2    1091\n",
       "Name: first_step_prediction, dtype: int64"
      ]
     },
     "execution_count": 85,
     "metadata": {},
     "output_type": "execute_result"
    }
   ],
   "source": [
    "df4.loc[df4['RFM_Class'] == '겨울잠고객','first_step_prediction'].value_counts()"
   ]
  },
  {
   "cell_type": "code",
   "execution_count": null,
   "id": "7968d990",
   "metadata": {},
   "outputs": [],
   "source": []
  }
 ],
 "metadata": {
  "kernelspec": {
   "display_name": "Python 3 (ipykernel)",
   "language": "python",
   "name": "python3"
  },
  "language_info": {
   "codemirror_mode": {
    "name": "ipython",
    "version": 3
   },
   "file_extension": ".py",
   "mimetype": "text/x-python",
   "name": "python",
   "nbconvert_exporter": "python",
   "pygments_lexer": "ipython3",
   "version": "3.10.9"
  }
 },
 "nbformat": 4,
 "nbformat_minor": 5
}
