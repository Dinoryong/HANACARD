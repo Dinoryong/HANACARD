{
 "cells": [
  {
   "cell_type": "code",
   "execution_count": 208,
   "id": "57d0dab3",
   "metadata": {},
   "outputs": [],
   "source": [
    "import pandas as pd\n",
    "import numpy as np\n",
    "import matplotlib.pyplot as plt\n",
    "import seaborn as sns\n",
    "import scipy.stats as stats\n",
    "from sklearn.preprocessing import LabelEncoder\n",
    "from sklearn.model_selection import train_test_split\n",
    "from sklearn.ensemble import ExtraTreesClassifier\n",
    "from sklearn.ensemble import RandomForestClassifier\n",
    "from sklearn.metrics import accuracy_score"
   ]
  },
  {
   "cell_type": "code",
   "execution_count": 2,
   "id": "e9b31e66",
   "metadata": {},
   "outputs": [],
   "source": [
    "df = pd.read_csv('C:/Users/Home/Desktop/Data/2차/CardData_new.csv', encoding = 'cp949')"
   ]
  },
  {
   "cell_type": "code",
   "execution_count": 21,
   "id": "f061ebe5",
   "metadata": {},
   "outputs": [
    {
     "name": "stdout",
     "output_type": "stream",
     "text": [
      "q3=  605447.5 \n",
      "q1=  66217.5\n",
      "IQR =  539230.0\n",
      "lowest =  -742627.5\n",
      "highest =  1414292.5\n",
      "0 제외하고 따져본 이상치 개수 =  2651\n"
     ]
    }
   ],
   "source": [
    "def get_outlier(df=None, column=None):\n",
    "  # target 값과 상관관계가 높은 열을 우선적으로 진행\n",
    "  q3 = df.loc[df[column]>0, column].quantile(0.75)\n",
    "  q1 = df.loc[df[column]>0, column].quantile(0.25)\n",
    "\n",
    "  IQR = q3 - q1\n",
    "  \n",
    "  lowest = q1 - IQR*1.5\n",
    "  highest = q3 + IQR*1.5\n",
    "  \n",
    "  outlier_idx = df[column][ (df[column] < lowest) | (df[column] > highest) ].index\n",
    "  print('q3= ', q3, '\\nq1= ', q1)\n",
    "  print('IQR = ', IQR)\n",
    "  print('lowest = ', lowest)\n",
    "  print('highest = ', highest)\n",
    "  print('0 제외하고 따져본 이상치 개수 = ',len(outlier_idx))\n",
    "    \n",
    "  \n",
    "# 확인\n",
    "get_outlier(df=df, column='이용금액_체크_B0M')"
   ]
  },
  {
   "cell_type": "code",
   "execution_count": 28,
   "id": "3e078c97",
   "metadata": {},
   "outputs": [
    {
     "name": "stdout",
     "output_type": "stream",
     "text": [
      "q3=  28.0 \n",
      "q1=  3.0\n",
      "IQR =  25.0\n",
      "lowest =  -34.5\n",
      "highest =  65.5\n",
      "0 제외하고 따져본 이상치 개수 =  1835\n"
     ]
    }
   ],
   "source": [
    "get_outlier(df=df, column='이용건수_체크_B0M')"
   ]
  },
  {
   "cell_type": "code",
   "execution_count": 29,
   "id": "954832bc",
   "metadata": {},
   "outputs": [
    {
     "name": "stderr",
     "output_type": "stream",
     "text": [
      "C:\\Users\\Home\\anaconda3\\lib\\site-packages\\IPython\\core\\pylabtools.py:152: UserWarning: Glyph 49457 (\\N{HANGUL SYLLABLE SEONG}) missing from current font.\n",
      "  fig.canvas.print_figure(bytes_io, **kw)\n",
      "C:\\Users\\Home\\anaconda3\\lib\\site-packages\\IPython\\core\\pylabtools.py:152: UserWarning: Glyph 48324 (\\N{HANGUL SYLLABLE BYEOL}) missing from current font.\n",
      "  fig.canvas.print_figure(bytes_io, **kw)\n",
      "C:\\Users\\Home\\anaconda3\\lib\\site-packages\\IPython\\core\\pylabtools.py:152: UserWarning: Glyph 51060 (\\N{HANGUL SYLLABLE I}) missing from current font.\n",
      "  fig.canvas.print_figure(bytes_io, **kw)\n",
      "C:\\Users\\Home\\anaconda3\\lib\\site-packages\\IPython\\core\\pylabtools.py:152: UserWarning: Glyph 50857 (\\N{HANGUL SYLLABLE YONG}) missing from current font.\n",
      "  fig.canvas.print_figure(bytes_io, **kw)\n",
      "C:\\Users\\Home\\anaconda3\\lib\\site-packages\\IPython\\core\\pylabtools.py:152: UserWarning: Glyph 44552 (\\N{HANGUL SYLLABLE GEUM}) missing from current font.\n",
      "  fig.canvas.print_figure(bytes_io, **kw)\n",
      "C:\\Users\\Home\\anaconda3\\lib\\site-packages\\IPython\\core\\pylabtools.py:152: UserWarning: Glyph 50529 (\\N{HANGUL SYLLABLE AEG}) missing from current font.\n",
      "  fig.canvas.print_figure(bytes_io, **kw)\n",
      "C:\\Users\\Home\\anaconda3\\lib\\site-packages\\IPython\\core\\pylabtools.py:152: UserWarning: Glyph 45224 (\\N{HANGUL SYLLABLE NAM}) missing from current font.\n",
      "  fig.canvas.print_figure(bytes_io, **kw)\n",
      "C:\\Users\\Home\\anaconda3\\lib\\site-packages\\IPython\\core\\pylabtools.py:152: UserWarning: Glyph 45376 (\\N{HANGUL SYLLABLE NYEO}) missing from current font.\n",
      "  fig.canvas.print_figure(bytes_io, **kw)\n",
      "C:\\Users\\Home\\anaconda3\\lib\\site-packages\\IPython\\core\\pylabtools.py:152: UserWarning: Glyph 48516 (\\N{HANGUL SYLLABLE BUN}) missing from current font.\n",
      "  fig.canvas.print_figure(bytes_io, **kw)\n",
      "C:\\Users\\Home\\anaconda3\\lib\\site-packages\\IPython\\core\\pylabtools.py:152: UserWarning: Glyph 54252 (\\N{HANGUL SYLLABLE PO}) missing from current font.\n",
      "  fig.canvas.print_figure(bytes_io, **kw)\n"
     ]
    },
    {
     "data": {
      "image/png": "[encoded data removed]",
      "text/plain": [
       "<Figure size 1000x600 with 1 Axes>"
      ]
     },
     "metadata": {},
     "output_type": "display_data"
    }
   ],
   "source": [
    "sns.set(style=\"whitegrid\")\n",
    "plt.figure(figsize=(10, 6))\n",
    "\n",
    "sns.boxplot(x='남녀구분코드', y='이용금액_신용_B0M', data=df)\n",
    "plt.title('남녀별 이용금액 분포')\n",
    "plt.xlabel('성별')\n",
    "plt.ylabel('이용금액')\n",
    "plt.show()"
   ]
  },
  {
   "cell_type": "code",
   "execution_count": 32,
   "id": "725abf25",
   "metadata": {
    "scrolled": true
   },
   "outputs": [
    {
     "data": {
      "text/plain": [
       "0           25544\n",
       "9000         3985\n",
       "10800        1279\n",
       "2100          920\n",
       "1200          580\n",
       "            ...  \n",
       "19666652        1\n",
       "2029700         1\n",
       "5204906         1\n",
       "4565455         1\n",
       "6398850         1\n",
       "Name: 이용금액_신판_R12M, Length: 242669, dtype: int64"
      ]
     },
     "execution_count": 32,
     "metadata": {},
     "output_type": "execute_result"
    }
   ],
   "source": [
    "df['이용금액_신판_R12M'].value_counts()"
   ]
  },
  {
   "cell_type": "code",
   "execution_count": 67,
   "id": "09bd8c30",
   "metadata": {},
   "outputs": [
    {
     "data": {
      "text/plain": [
       "0           18587\n",
       "9000         3900\n",
       "10800        1220\n",
       "2100          883\n",
       "1200          533\n",
       "            ...  \n",
       "10835340        1\n",
       "12032950        1\n",
       "19666652        1\n",
       "2029700         1\n",
       "6398850         1\n",
       "Name: 이용금액_신용_R12M, Length: 238677, dtype: int64"
      ]
     },
     "execution_count": 67,
     "metadata": {},
     "output_type": "execute_result"
    }
   ],
   "source": [
    "df.loc[df['_1순위신용체크구분'] == '신용','이용금액_신용_R12M'].value_counts()"
   ]
  },
  {
   "cell_type": "code",
   "execution_count": 70,
   "id": "bbe3ea2e",
   "metadata": {
    "scrolled": true
   },
   "outputs": [
    {
     "data": {
      "text/plain": [
       "34.휴면_9M+       17315\n",
       "33.휴면_9M-        1235\n",
       "22.Active_간헐       17\n",
       "32.휴면_6M-          13\n",
       "31.휴면_3M            7\n",
       "Name: 고객구분, dtype: int64"
      ]
     },
     "execution_count": 70,
     "metadata": {},
     "output_type": "execute_result"
    }
   ],
   "source": [
    "df.loc[(df['_1순위신용체크구분'] == '신용') & (df['이용금액_신용_R12M'] == 0), '고객구분'].value_counts()"
   ]
  },
  {
   "cell_type": "code",
   "execution_count": 71,
   "id": "4651e98e",
   "metadata": {},
   "outputs": [
    {
     "data": {
      "text/plain": [
       "0           38026\n",
       "3600         4934\n",
       "1800         1917\n",
       "5400         1768\n",
       "1200         1125\n",
       "            ...  \n",
       "3149620         1\n",
       "19387394        1\n",
       "12367324        1\n",
       "6643209         1\n",
       "2338780         1\n",
       "Name: 이용금액_신판_R6M, Length: 216003, dtype: int64"
      ]
     },
     "execution_count": 71,
     "metadata": {},
     "output_type": "execute_result"
    }
   ],
   "source": [
    "df['이용금액_신판_R6M'].value_counts()"
   ]
  },
  {
   "cell_type": "code",
   "execution_count": 72,
   "id": "d293205a",
   "metadata": {},
   "outputs": [
    {
     "data": {
      "text/plain": [
       "0          28612\n",
       "3600        4836\n",
       "1800        1826\n",
       "5400        1687\n",
       "1200        1054\n",
       "           ...  \n",
       "3842380        1\n",
       "6185167        1\n",
       "7924530        1\n",
       "9793348        1\n",
       "2338780        1\n",
       "Name: 이용금액_신용_R6M, Length: 215350, dtype: int64"
      ]
     },
     "execution_count": 72,
     "metadata": {},
     "output_type": "execute_result"
    }
   ],
   "source": [
    "df.loc[df['_1순위신용체크구분'] == '신용','이용금액_신용_R6M'].value_counts()"
   ]
  },
  {
   "cell_type": "code",
   "execution_count": 73,
   "id": "28f44b62",
   "metadata": {},
   "outputs": [
    {
     "data": {
      "text/plain": [
       "34.휴면_9M+       20124\n",
       "33.휴면_9M-        6312\n",
       "32.휴면_6M-        2147\n",
       "22.Active_간헐       22\n",
       "31.휴면_3M            7\n",
       "Name: 고객구분, dtype: int64"
      ]
     },
     "execution_count": 73,
     "metadata": {},
     "output_type": "execute_result"
    }
   ],
   "source": [
    "df.loc[(df['_1순위신용체크구분'] == '신용') & (df['이용금액_신용_R6M'] == 0), '고객구분'].value_counts()"
   ]
  },
  {
   "cell_type": "code",
   "execution_count": 74,
   "id": "46ee777e",
   "metadata": {},
   "outputs": [
    {
     "data": {
      "text/plain": [
       "0          48950\n",
       "900         9566\n",
       "2700        2233\n",
       "600         1063\n",
       "1500         902\n",
       "           ...  \n",
       "3418005        1\n",
       "2056566        1\n",
       "474400         1\n",
       "20190          1\n",
       "128480         1\n",
       "Name: 이용금액_신판_R3M, Length: 187659, dtype: int64"
      ]
     },
     "execution_count": 74,
     "metadata": {},
     "output_type": "execute_result"
    }
   ],
   "source": [
    "df['이용금액_신판_R3M'].value_counts()"
   ]
  },
  {
   "cell_type": "code",
   "execution_count": 75,
   "id": "f5ebc7ff",
   "metadata": {},
   "outputs": [
    {
     "data": {
      "text/plain": [
       "0          37038\n",
       "900         9365\n",
       "2700        2119\n",
       "600          985\n",
       "1500         879\n",
       "           ...  \n",
       "394220         1\n",
       "530910         1\n",
       "3170281        1\n",
       "1890160        1\n",
       "128480         1\n",
       "Name: 이용금액_신용_R3M, Length: 189718, dtype: int64"
      ]
     },
     "execution_count": 75,
     "metadata": {},
     "output_type": "execute_result"
    }
   ],
   "source": [
    "df.loc[df['_1순위신용체크구분'] == '신용','이용금액_신용_R3M'].value_counts()"
   ]
  },
  {
   "cell_type": "code",
   "execution_count": 76,
   "id": "3184babe",
   "metadata": {},
   "outputs": [
    {
     "data": {
      "text/plain": [
       "34.휴면_9M+       20128\n",
       "32.휴면_6M-        6975\n",
       "33.휴면_9M-        6322\n",
       "31.휴면_3M         3579\n",
       "22.Active_간헐       34\n",
       "Name: 고객구분, dtype: int64"
      ]
     },
     "execution_count": 76,
     "metadata": {},
     "output_type": "execute_result"
    }
   ],
   "source": [
    "df.loc[(df['_1순위신용체크구분'] == '신용') & (df['이용금액_신용_R3M'] == 0), '고객구분'].value_counts()"
   ]
  },
  {
   "cell_type": "code",
   "execution_count": 89,
   "id": "a8edf6d8",
   "metadata": {},
   "outputs": [
    {
     "data": {
      "text/plain": [
       "29        22.Active_간헐\n",
       "31        22.Active_간헐\n",
       "33        22.Active_간헐\n",
       "35        22.Active_간헐\n",
       "46        22.Active_간헐\n",
       "              ...     \n",
       "299956    22.Active_간헐\n",
       "299967    22.Active_간헐\n",
       "299975    22.Active_간헐\n",
       "299989    22.Active_간헐\n",
       "299996    22.Active_간헐\n",
       "Name: 고객구분, Length: 29035, dtype: object"
      ]
     },
     "execution_count": 89,
     "metadata": {},
     "output_type": "execute_result"
    }
   ],
   "source": [
    "df.loc[(df['고객구분'] == '22.Active_간헐'),'고객구분']"
   ]
  },
  {
   "cell_type": "code",
   "execution_count": 91,
   "id": "6d2536c0",
   "metadata": {},
   "outputs": [],
   "source": [
    "df.loc[df['고객구분'].isin(['34.휴면_9M+','31.휴면_3M','33.휴면_9M-', '32.휴면_6M-']),'고객구분'] = '휴면'"
   ]
  },
  {
   "cell_type": "code",
   "execution_count": 100,
   "id": "140a1997",
   "metadata": {},
   "outputs": [
    {
     "data": {
      "text/plain": [
       "array(['21.Active_연속', '휴면', '22.Active_간헐'], dtype=object)"
      ]
     },
     "execution_count": 100,
     "metadata": {},
     "output_type": "execute_result"
    }
   ],
   "source": [
    "df['고객구분'].unique()"
   ]
  },
  {
   "cell_type": "code",
   "execution_count": 101,
   "id": "28c52719",
   "metadata": {},
   "outputs": [],
   "source": [
    "dormant_group = df[df['고객구분'] == '휴면']\n",
    "active_continuous_group = df[df['고객구분'] == '21.Active_연속']\n",
    "active_intermittent_group = df[df['고객구분'] == '22.Active_간헐']"
   ]
  },
  {
   "cell_type": "code",
   "execution_count": 114,
   "id": "536348b3",
   "metadata": {},
   "outputs": [
    {
     "data": {
      "image/png": "[encoded data removed]",
      "text/plain": [
       "<Figure size 1200x800 with 1 Axes>"
      ]
     },
     "metadata": {},
     "output_type": "display_data"
    }
   ],
   "source": [
    "import seaborn as sns\n",
    "import matplotlib.pyplot as plt\n",
    "from matplotlib.ticker import FuncFormatter\n",
    "\n",
    "def millions(x, pos):\n",
    "    'The two args are the value and tick position'\n",
    "    return f'{x/1e6:.0f}M'\n",
    "\n",
    "plt.figure(figsize=(12, 8))\n",
    "\n",
    "# 고객 구분별 이용금액 평균 계산\n",
    "mean_by_category = df.groupby('고객구분')['이용금액_신용_R12M'].mean().reset_index()\n",
    "\n",
    "# 고객 구분별 금액 평균 차이 시각화\n",
    "sns.barplot(data=mean_by_category, x='고객구분', y='이용금액_신용_R12M', palette='Blues')\n",
    "\n",
    "plt.xlabel('고객구분')\n",
    "plt.ylabel('이용금액_신용_R12M 평균')\n",
    "plt.title('고객 구분별 이용금액 평균 차이')\n",
    "\n",
    "# y축 레이블 형식 변경\n",
    "formatter = FuncFormatter(millions)\n",
    "plt.gca().yaxis.set_major_formatter(formatter)\n",
    "\n",
    "plt.show()"
   ]
  },
  {
   "cell_type": "code",
   "execution_count": 122,
   "id": "c83d0391",
   "metadata": {
    "scrolled": true
   },
   "outputs": [
    {
     "data": {
      "text/plain": [
       "-6467500       1\n",
       "-5567090       1\n",
       "-5065690       1\n",
       "-5045300       1\n",
       "-4400000       1\n",
       "              ..\n",
       " 704874959     1\n",
       " 875669222     1\n",
       " 1070504956    1\n",
       " 2513873068    1\n",
       " 4852613471    1\n",
       "Name: 이용금액_신용_R12M, Length: 244501, dtype: int64"
      ]
     },
     "execution_count": 122,
     "metadata": {},
     "output_type": "execute_result"
    }
   ],
   "source": [
    "df['이용금액_신용_R12M'].value_counts().sort_index()"
   ]
  },
  {
   "cell_type": "code",
   "execution_count": 144,
   "id": "8ef0523d",
   "metadata": {},
   "outputs": [
    {
     "data": {
      "text/plain": [
       "Int64Index([47242], dtype='int64')"
      ]
     },
     "execution_count": 144,
     "metadata": {},
     "output_type": "execute_result"
    }
   ],
   "source": [
    "df.index[df['이용금액_신용_R12M'] == -5567090]"
   ]
  },
  {
   "cell_type": "code",
   "execution_count": 136,
   "id": "e6ca573a",
   "metadata": {},
   "outputs": [],
   "source": [
    "pd.set_option('display.max_columns', None)"
   ]
  },
  {
   "cell_type": "code",
   "execution_count": 145,
   "id": "dc1ddd7d",
   "metadata": {
    "scrolled": false
   },
   "outputs": [
    {
     "data": {
      "text/plain": [
       "회원번호              OaHafSaJ\n",
       "남녀구분코드                   2\n",
       "연령                      57\n",
       "소지여부_신용                  1\n",
       "입회일자_신용           20140423\n",
       "                    ...   \n",
       "보험콜대상횟수_R12M             0\n",
       "보험콜통화횟수_R12M             0\n",
       "보험콜배정후경과월_R12M          12\n",
       "보험콜통화후경과월_R12M          12\n",
       "고객구분                    휴면\n",
       "Name: 47242, Length: 302, dtype: object"
      ]
     },
     "execution_count": 145,
     "metadata": {},
     "output_type": "execute_result"
    }
   ],
   "source": [
    "df.iloc[47242]"
   ]
  },
  {
   "cell_type": "code",
   "execution_count": 150,
   "id": "74d58a1d",
   "metadata": {},
   "outputs": [
    {
     "data": {
      "text/plain": [
       "휴면              69\n",
       "21.Active_연속    49\n",
       "22.Active_간헐    30\n",
       "Name: 고객구분, dtype: int64"
      ]
     },
     "execution_count": 150,
     "metadata": {},
     "output_type": "execute_result"
    }
   ],
   "source": [
    "df.loc[df['이용금액_신용_R12M'] < 0, '고객구분'].value_counts()"
   ]
  },
  {
   "cell_type": "code",
   "execution_count": 151,
   "id": "ea65fa30",
   "metadata": {},
   "outputs": [
    {
     "data": {
      "text/plain": [
       "휴면              9\n",
       "21.Active_연속    3\n",
       "22.Active_간헐    3\n",
       "Name: 고객구분, dtype: int64"
      ]
     },
     "execution_count": 151,
     "metadata": {},
     "output_type": "execute_result"
    }
   ],
   "source": [
    "df.loc[(df['이용금액_신용_R12M'] < 0) & (df['_1순위신용체크구분'] == '체크'), '고객구분'].value_counts()"
   ]
  },
  {
   "cell_type": "code",
   "execution_count": 163,
   "id": "d2e78c5b",
   "metadata": {},
   "outputs": [],
   "source": [
    "df2 = df[df['고객구분'] != '22.Active_간헐']"
   ]
  },
  {
   "cell_type": "code",
   "execution_count": 164,
   "id": "28246cc9",
   "metadata": {
    "scrolled": false
   },
   "outputs": [
    {
     "name": "stdout",
     "output_type": "stream",
     "text": [
      "<class 'pandas.core.frame.DataFrame'>\n",
      "Int64Index: 270965 entries, 0 to 299999\n",
      "Columns: 302 entries, 회원번호 to 고객구분\n",
      "dtypes: int64(290), object(12)\n",
      "memory usage: 626.4+ MB\n"
     ]
    }
   ],
   "source": [
    "df2.info()"
   ]
  },
  {
   "cell_type": "code",
   "execution_count": 166,
   "id": "902e8b19",
   "metadata": {},
   "outputs": [
    {
     "name": "stderr",
     "output_type": "stream",
     "text": [
      "C:\\Users\\Home\\AppData\\Local\\Temp\\ipykernel_9520\\1764354376.py:2: SettingWithCopyWarning: \n",
      "A value is trying to be set on a copy of a slice from a DataFrame.\n",
      "Try using .loc[row_indexer,col_indexer] = value instead\n",
      "\n",
      "See the caveats in the documentation: https://pandas.pydata.org/pandas-docs/stable/user_guide/indexing.html#returning-a-view-versus-a-copy\n",
      "  df2['남녀구분코드'] = label_encoder.fit_transform(df2['남녀구분코드'])\n"
     ]
    }
   ],
   "source": [
    "label_encoder = LabelEncoder()\n",
    "df2['남녀구분코드'] = label_encoder.fit_transform(df2['남녀구분코드'])"
   ]
  },
  {
   "cell_type": "code",
   "execution_count": 167,
   "id": "40167097",
   "metadata": {},
   "outputs": [
    {
     "data": {
      "text/plain": [
       "0    142726\n",
       "1    128239\n",
       "Name: 남녀구분코드, dtype: int64"
      ]
     },
     "execution_count": 167,
     "metadata": {},
     "output_type": "execute_result"
    }
   ],
   "source": [
    "df2['남녀구분코드'].value_counts()"
   ]
  },
  {
   "cell_type": "code",
   "execution_count": 168,
   "id": "8fd06c8c",
   "metadata": {},
   "outputs": [
    {
     "name": "stderr",
     "output_type": "stream",
     "text": [
      "C:\\Users\\Home\\AppData\\Local\\Temp\\ipykernel_9520\\1470834914.py:1: SettingWithCopyWarning: \n",
      "A value is trying to be set on a copy of a slice from a DataFrame.\n",
      "Try using .loc[row_indexer,col_indexer] = value instead\n",
      "\n",
      "See the caveats in the documentation: https://pandas.pydata.org/pandas-docs/stable/user_guide/indexing.html#returning-a-view-versus-a-copy\n",
      "  df2['자격기준'] = label_encoder.fit_transform(df2['자격기준'])\n"
     ]
    }
   ],
   "source": [
    "df2['자격기준'] = label_encoder.fit_transform(df2['자격기준'])"
   ]
  },
  {
   "cell_type": "code",
   "execution_count": 169,
   "id": "79574993",
   "metadata": {
    "scrolled": true
   },
   "outputs": [
    {
     "data": {
      "text/plain": [
       "5     72488\n",
       "7     69998\n",
       "10    57048\n",
       "0     14198\n",
       "1     10315\n",
       "11     9310\n",
       "3      9243\n",
       "12     8195\n",
       "9      6549\n",
       "2      5767\n",
       "6      5603\n",
       "8      1621\n",
       "4       630\n",
       "Name: 자격기준, dtype: int64"
      ]
     },
     "execution_count": 169,
     "metadata": {},
     "output_type": "execute_result"
    }
   ],
   "source": [
    "df2['자격기준'].value_counts()"
   ]
  },
  {
   "cell_type": "code",
   "execution_count": 172,
   "id": "93819ecf",
   "metadata": {},
   "outputs": [
    {
     "name": "stderr",
     "output_type": "stream",
     "text": [
      "C:\\Users\\Home\\AppData\\Local\\Temp\\ipykernel_9520\\554567197.py:1: SettingWithCopyWarning: \n",
      "A value is trying to be set on a copy of a slice from a DataFrame.\n",
      "Try using .loc[row_indexer,col_indexer] = value instead\n",
      "\n",
      "See the caveats in the documentation: https://pandas.pydata.org/pandas-docs/stable/user_guide/indexing.html#returning-a-view-versus-a-copy\n",
      "  df2['Life_Stage'] = label_encoder.fit_transform(df2['Life_Stage'])\n"
     ]
    }
   ],
   "source": [
    "df2['Life_Stage'] = label_encoder.fit_transform(df2['Life_Stage'])"
   ]
  },
  {
   "cell_type": "code",
   "execution_count": 200,
   "id": "71c8db07",
   "metadata": {},
   "outputs": [],
   "source": [
    "X = df2[['남녀구분코드','연령','소지여부_신용','자격기준','유효카드수_신용체크','이용금액_R3M_신용체크','Life_Stage',\n",
    "        '카드이용한도금액']]\n",
    "y = df2['고객구분']"
   ]
  },
  {
   "cell_type": "code",
   "execution_count": 201,
   "id": "51169c31",
   "metadata": {},
   "outputs": [],
   "source": [
    "y = label_encoder.fit_transform(y)"
   ]
  },
  {
   "cell_type": "code",
   "execution_count": 202,
   "id": "b4080a5d",
   "metadata": {},
   "outputs": [],
   "source": [
    "X_train, X_test, y_train, y_test = train_test_split(X, y, test_size = 0.2, random_state= 42)"
   ]
  },
  {
   "cell_type": "code",
   "execution_count": 203,
   "id": "c8b2b555",
   "metadata": {},
   "outputs": [
    {
     "data": {
      "text/html": [
       "<style>#sk-container-id-3 {color: black;background-color: white;}#sk-container-id-3 pre{padding: 0;}#sk-container-id-3 div.sk-toggleable {background-color: white;}#sk-container-id-3 label.sk-toggleable__label {cursor: pointer;display: block;width: 100%;margin-bottom: 0;padding: 0.3em;box-sizing: border-box;text-align: center;}#sk-container-id-3 label.sk-toggleable__label-arrow:before {content: \"▸\";float: left;margin-right: 0.25em;color: #696969;}#sk-container-id-3 label.sk-toggleable__label-arrow:hover:before {color: black;}#sk-container-id-3 div.sk-estimator:hover label.sk-toggleable__label-arrow:before {color: black;}#sk-container-id-3 div.sk-toggleable__content {max-height: 0;max-width: 0;overflow: hidden;text-align: left;background-color: #f0f8ff;}#sk-container-id-3 div.sk-toggleable__content pre {margin: 0.2em;color: black;border-radius: 0.25em;background-color: #f0f8ff;}#sk-container-id-3 input.sk-toggleable__control:checked~div.sk-toggleable__content {max-height: 200px;max-width: 100%;overflow: auto;}#sk-container-id-3 input.sk-toggleable__control:checked~label.sk-toggleable__label-arrow:before {content: \"▾\";}#sk-container-id-3 div.sk-estimator input.sk-toggleable__control:checked~label.sk-toggleable__label {background-color: #d4ebff;}#sk-container-id-3 div.sk-label input.sk-toggleable__control:checked~label.sk-toggleable__label {background-color: #d4ebff;}#sk-container-id-3 input.sk-hidden--visually {border: 0;clip: rect(1px 1px 1px 1px);clip: rect(1px, 1px, 1px, 1px);height: 1px;margin: -1px;overflow: hidden;padding: 0;position: absolute;width: 1px;}#sk-container-id-3 div.sk-estimator {font-family: monospace;background-color: #f0f8ff;border: 1px dotted black;border-radius: 0.25em;box-sizing: border-box;margin-bottom: 0.5em;}#sk-container-id-3 div.sk-estimator:hover {background-color: #d4ebff;}#sk-container-id-3 div.sk-parallel-item::after {content: \"\";width: 100%;border-bottom: 1px solid gray;flex-grow: 1;}#sk-container-id-3 div.sk-label:hover label.sk-toggleable__label {background-color: #d4ebff;}#sk-container-id-3 div.sk-serial::before {content: \"\";position: absolute;border-left: 1px solid gray;box-sizing: border-box;top: 0;bottom: 0;left: 50%;z-index: 0;}#sk-container-id-3 div.sk-serial {display: flex;flex-direction: column;align-items: center;background-color: white;padding-right: 0.2em;padding-left: 0.2em;position: relative;}#sk-container-id-3 div.sk-item {position: relative;z-index: 1;}#sk-container-id-3 div.sk-parallel {display: flex;align-items: stretch;justify-content: center;background-color: white;position: relative;}#sk-container-id-3 div.sk-item::before, #sk-container-id-3 div.sk-parallel-item::before {content: \"\";position: absolute;border-left: 1px solid gray;box-sizing: border-box;top: 0;bottom: 0;left: 50%;z-index: -1;}#sk-container-id-3 div.sk-parallel-item {display: flex;flex-direction: column;z-index: 1;position: relative;background-color: white;}#sk-container-id-3 div.sk-parallel-item:first-child::after {align-self: flex-end;width: 50%;}#sk-container-id-3 div.sk-parallel-item:last-child::after {align-self: flex-start;width: 50%;}#sk-container-id-3 div.sk-parallel-item:only-child::after {width: 0;}#sk-container-id-3 div.sk-dashed-wrapped {border: 1px dashed gray;margin: 0 0.4em 0.5em 0.4em;box-sizing: border-box;padding-bottom: 0.4em;background-color: white;}#sk-container-id-3 div.sk-label label {font-family: monospace;font-weight: bold;display: inline-block;line-height: 1.2em;}#sk-container-id-3 div.sk-label-container {text-align: center;}#sk-container-id-3 div.sk-container {/* jupyter's `normalize.less` sets `[hidden] { display: none; }` but bootstrap.min.css set `[hidden] { display: none !important; }` so we also need the `!important` here to be able to override the default hidden behavior on the sphinx rendered scikit-learn.org. See: https://github.com/scikit-learn/scikit-learn/issues/21755 */display: inline-block !important;position: relative;}#sk-container-id-3 div.sk-text-repr-fallback {display: none;}</style><div id=\"sk-container-id-3\" class=\"sk-top-container\"><div class=\"sk-text-repr-fallback\"><pre>ExtraTreesClassifier()</pre><b>In a Jupyter environment, please rerun this cell to show the HTML representation or trust the notebook. <br />On GitHub, the HTML representation is unable to render, please try loading this page with nbviewer.org.</b></div><div class=\"sk-container\" hidden><div class=\"sk-item\"><div class=\"sk-estimator sk-toggleable\"><input class=\"sk-toggleable__control sk-hidden--visually\" id=\"sk-estimator-id-3\" type=\"checkbox\" checked><label for=\"sk-estimator-id-3\" class=\"sk-toggleable__label sk-toggleable__label-arrow\">ExtraTreesClassifier</label><div class=\"sk-toggleable__content\"><pre>ExtraTreesClassifier()</pre></div></div></div></div></div>"
      ],
      "text/plain": [
       "ExtraTreesClassifier()"
      ]
     },
     "execution_count": 203,
     "metadata": {},
     "output_type": "execute_result"
    }
   ],
   "source": [
    "ETC = ExtraTreesClassifier()\n",
    "ETC.fit(X_train,y_train)"
   ]
  },
  {
   "cell_type": "code",
   "execution_count": 204,
   "id": "c6e9e662",
   "metadata": {},
   "outputs": [],
   "source": [
    "y_pred = ETC.predict(X_test)"
   ]
  },
  {
   "cell_type": "code",
   "execution_count": 205,
   "id": "03a75ffe",
   "metadata": {},
   "outputs": [
    {
     "data": {
      "text/plain": [
       "0.949716753086192"
      ]
     },
     "execution_count": 205,
     "metadata": {},
     "output_type": "execute_result"
    }
   ],
   "source": [
    "accuracy_score(y_pred, y_test)"
   ]
  },
  {
   "cell_type": "code",
   "execution_count": 207,
   "id": "b1f461da",
   "metadata": {
    "scrolled": false
   },
   "outputs": [
    {
     "data": {
      "image/png": "[encoded data removed]",
      "text/plain": [
       "<Figure size 1000x600 with 1 Axes>"
      ]
     },
     "metadata": {},
     "output_type": "display_data"
    }
   ],
   "source": [
    "feature_importances = ETC.feature_importances_\n",
    "\n",
    "importance_df = pd.DataFrame({'feature': X.columns, 'importance': feature_importances})\n",
    "importance_df = importance_df.sort_values(by='importance', ascending=False)\n",
    "\n",
    "plt.figure(figsize=(10, 6))\n",
    "plt.barh(importance_df['feature'], importance_df['importance'])\n",
    "plt.xlabel('Feature Importance')\n",
    "plt.ylabel('Features')\n",
    "plt.title('Feature Importance of ExtraTreeClassifier')\n",
    "plt.show()"
   ]
  },
  {
   "cell_type": "code",
   "execution_count": 209,
   "id": "cf64eaae",
   "metadata": {},
   "outputs": [
    {
     "data": {
      "text/html": [
       "<style>#sk-container-id-4 {color: black;background-color: white;}#sk-container-id-4 pre{padding: 0;}#sk-container-id-4 div.sk-toggleable {background-color: white;}#sk-container-id-4 label.sk-toggleable__label {cursor: pointer;display: block;width: 100%;margin-bottom: 0;padding: 0.3em;box-sizing: border-box;text-align: center;}#sk-container-id-4 label.sk-toggleable__label-arrow:before {content: \"▸\";float: left;margin-right: 0.25em;color: #696969;}#sk-container-id-4 label.sk-toggleable__label-arrow:hover:before {color: black;}#sk-container-id-4 div.sk-estimator:hover label.sk-toggleable__label-arrow:before {color: black;}#sk-container-id-4 div.sk-toggleable__content {max-height: 0;max-width: 0;overflow: hidden;text-align: left;background-color: #f0f8ff;}#sk-container-id-4 div.sk-toggleable__content pre {margin: 0.2em;color: black;border-radius: 0.25em;background-color: #f0f8ff;}#sk-container-id-4 input.sk-toggleable__control:checked~div.sk-toggleable__content {max-height: 200px;max-width: 100%;overflow: auto;}#sk-container-id-4 input.sk-toggleable__control:checked~label.sk-toggleable__label-arrow:before {content: \"▾\";}#sk-container-id-4 div.sk-estimator input.sk-toggleable__control:checked~label.sk-toggleable__label {background-color: #d4ebff;}#sk-container-id-4 div.sk-label input.sk-toggleable__control:checked~label.sk-toggleable__label {background-color: #d4ebff;}#sk-container-id-4 input.sk-hidden--visually {border: 0;clip: rect(1px 1px 1px 1px);clip: rect(1px, 1px, 1px, 1px);height: 1px;margin: -1px;overflow: hidden;padding: 0;position: absolute;width: 1px;}#sk-container-id-4 div.sk-estimator {font-family: monospace;background-color: #f0f8ff;border: 1px dotted black;border-radius: 0.25em;box-sizing: border-box;margin-bottom: 0.5em;}#sk-container-id-4 div.sk-estimator:hover {background-color: #d4ebff;}#sk-container-id-4 div.sk-parallel-item::after {content: \"\";width: 100%;border-bottom: 1px solid gray;flex-grow: 1;}#sk-container-id-4 div.sk-label:hover label.sk-toggleable__label {background-color: #d4ebff;}#sk-container-id-4 div.sk-serial::before {content: \"\";position: absolute;border-left: 1px solid gray;box-sizing: border-box;top: 0;bottom: 0;left: 50%;z-index: 0;}#sk-container-id-4 div.sk-serial {display: flex;flex-direction: column;align-items: center;background-color: white;padding-right: 0.2em;padding-left: 0.2em;position: relative;}#sk-container-id-4 div.sk-item {position: relative;z-index: 1;}#sk-container-id-4 div.sk-parallel {display: flex;align-items: stretch;justify-content: center;background-color: white;position: relative;}#sk-container-id-4 div.sk-item::before, #sk-container-id-4 div.sk-parallel-item::before {content: \"\";position: absolute;border-left: 1px solid gray;box-sizing: border-box;top: 0;bottom: 0;left: 50%;z-index: -1;}#sk-container-id-4 div.sk-parallel-item {display: flex;flex-direction: column;z-index: 1;position: relative;background-color: white;}#sk-container-id-4 div.sk-parallel-item:first-child::after {align-self: flex-end;width: 50%;}#sk-container-id-4 div.sk-parallel-item:last-child::after {align-self: flex-start;width: 50%;}#sk-container-id-4 div.sk-parallel-item:only-child::after {width: 0;}#sk-container-id-4 div.sk-dashed-wrapped {border: 1px dashed gray;margin: 0 0.4em 0.5em 0.4em;box-sizing: border-box;padding-bottom: 0.4em;background-color: white;}#sk-container-id-4 div.sk-label label {font-family: monospace;font-weight: bold;display: inline-block;line-height: 1.2em;}#sk-container-id-4 div.sk-label-container {text-align: center;}#sk-container-id-4 div.sk-container {/* jupyter's `normalize.less` sets `[hidden] { display: none; }` but bootstrap.min.css set `[hidden] { display: none !important; }` so we also need the `!important` here to be able to override the default hidden behavior on the sphinx rendered scikit-learn.org. See: https://github.com/scikit-learn/scikit-learn/issues/21755 */display: inline-block !important;position: relative;}#sk-container-id-4 div.sk-text-repr-fallback {display: none;}</style><div id=\"sk-container-id-4\" class=\"sk-top-container\"><div class=\"sk-text-repr-fallback\"><pre>RandomForestClassifier()</pre><b>In a Jupyter environment, please rerun this cell to show the HTML representation or trust the notebook. <br />On GitHub, the HTML representation is unable to render, please try loading this page with nbviewer.org.</b></div><div class=\"sk-container\" hidden><div class=\"sk-item\"><div class=\"sk-estimator sk-toggleable\"><input class=\"sk-toggleable__control sk-hidden--visually\" id=\"sk-estimator-id-4\" type=\"checkbox\" checked><label for=\"sk-estimator-id-4\" class=\"sk-toggleable__label sk-toggleable__label-arrow\">RandomForestClassifier</label><div class=\"sk-toggleable__content\"><pre>RandomForestClassifier()</pre></div></div></div></div></div>"
      ],
      "text/plain": [
       "RandomForestClassifier()"
      ]
     },
     "execution_count": 209,
     "metadata": {},
     "output_type": "execute_result"
    }
   ],
   "source": [
    "RF = RandomForestClassifier()\n",
    "RF.fit(X_train,y_train)"
   ]
  },
  {
   "cell_type": "code",
   "execution_count": 210,
   "id": "d500f2b8",
   "metadata": {},
   "outputs": [],
   "source": [
    "y_pred = RF.predict(X_test)"
   ]
  },
  {
   "cell_type": "code",
   "execution_count": 211,
   "id": "5a008588",
   "metadata": {},
   "outputs": [
    {
     "data": {
      "text/plain": [
       "0.9787610946063144"
      ]
     },
     "execution_count": 211,
     "metadata": {},
     "output_type": "execute_result"
    }
   ],
   "source": [
    "accuracy_score(y_pred,y_test)"
   ]
  },
  {
   "cell_type": "code",
   "execution_count": 212,
   "id": "08b26188",
   "metadata": {},
   "outputs": [
    {
     "data": {
      "image/png": "[encoded data removed]",
      "text/plain": [
       "<Figure size 1000x600 with 1 Axes>"
      ]
     },
     "metadata": {},
     "output_type": "display_data"
    }
   ],
   "source": [
    "feature_importances = RF.feature_importances_\n",
    "\n",
    "importance_df = pd.DataFrame({'feature': X.columns, 'importance': feature_importances})\n",
    "importance_df = importance_df.sort_values(by='importance', ascending=False)\n",
    "\n",
    "plt.figure(figsize=(10, 6))\n",
    "plt.barh(importance_df['feature'], importance_df['importance'])\n",
    "plt.xlabel('Feature Importance')\n",
    "plt.ylabel('Features')\n",
    "plt.title('Feature Importance of ExtraTreeClassifier')\n",
    "plt.show()"
   ]
  },
  {
   "cell_type": "code",
   "execution_count": 215,
   "id": "3f2b5a2e",
   "metadata": {},
   "outputs": [
    {
     "data": {
      "text/plain": [
       "0     299768\n",
       "1        170\n",
       "2         35\n",
       "3         13\n",
       "4          4\n",
       "5          4\n",
       "6          2\n",
       "9          1\n",
       "10         1\n",
       "12         1\n",
       "18         1\n",
       "Name: 컨택건수_FDS_B0M, dtype: int64"
      ]
     },
     "execution_count": 215,
     "metadata": {},
     "output_type": "execute_result"
    }
   ],
   "source": [
    "df['컨택건수_FDS_B0M'].value_counts().sort_index()"
   ]
  },
  {
   "cell_type": "code",
   "execution_count": 216,
   "id": "a281683f",
   "metadata": {},
   "outputs": [
    {
     "data": {
      "text/plain": [
       "0     298711\n",
       "1        788\n",
       "2        260\n",
       "3        118\n",
       "4         50\n",
       "5         29\n",
       "6         18\n",
       "7          7\n",
       "8          7\n",
       "9          5\n",
       "10         1\n",
       "11         2\n",
       "12         1\n",
       "14         1\n",
       "15         1\n",
       "18         1\n",
       "Name: 컨택건수_FDS_R6M, dtype: int64"
      ]
     },
     "execution_count": 216,
     "metadata": {},
     "output_type": "execute_result"
    }
   ],
   "source": [
    "df['컨택건수_FDS_R6M'].value_counts().sort_index()"
   ]
  },
  {
   "cell_type": "code",
   "execution_count": 230,
   "id": "55219fcd",
   "metadata": {},
   "outputs": [
    {
     "data": {
      "text/plain": [
       "161"
      ]
     },
     "execution_count": 230,
     "metadata": {},
     "output_type": "execute_result"
    }
   ],
   "source": [
    "df.loc[(df['컨택건수_FDS_R6M'] > 0) & (df['연령'] > 60) , '연령'].value_counts().sum()"
   ]
  },
  {
   "cell_type": "code",
   "execution_count": null,
   "id": "3b555fe8",
   "metadata": {},
   "outputs": [],
   "source": []
  }
 ],
 "metadata": {
  "kernelspec": {
   "display_name": "Python 3 (ipykernel)",
   "language": "python",
   "name": "python3"
  },
  "language_info": {
   "codemirror_mode": {
    "name": "ipython",
    "version": 3
   },
   "file_extension": ".py",
   "mimetype": "text/x-python",
   "name": "python",
   "nbconvert_exporter": "python",
   "pygments_lexer": "ipython3",
   "version": "3.10.9"
  }
 },
 "nbformat": 4,
 "nbformat_minor": 5
}
