{
 "cells": [
  {
   "cell_type": "markdown",
   "id": "88477c90",
   "metadata": {},
   "source": [
    "# 1. Summary"
   ]
  },
  {
   "cell_type": "markdown",
   "id": "182beb5c",
   "metadata": {},
   "source": [
    "## blar blar"
   ]
  },
  {
   "cell_type": "markdown",
   "id": "278ee165",
   "metadata": {},
   "source": [
    "# 2. Import Libraries"
   ]
  },
  {
   "cell_type": "code",
   "execution_count": 1,
   "id": "aec1aef9",
   "metadata": {},
   "outputs": [],
   "source": [
    "import numpy as np\n",
    "import pandas as pd\n",
    "import matplotlib.pyplot as plt\n",
    "import seaborn as sns\n",
    "import scipy.stats as stats\n",
    "import statistics\n",
    "\n",
    "from sklearn.model_selection import train_test_split\n",
    "from sklearn.tree import DecisionTreeClassifier\n",
    "from sklearn.ensemble import RandomForestClassifier\n",
    "from sklearn.naive_bayes import GaussianNB\n",
    "from sklearn.linear_model import LogisticRegression\n",
    "from sklearn.model_selection import cross_val_score\n",
    "from sklearn.neighbors import KNeighborsClassifier\n",
    "# import xgboost as xgb\n",
    "from sklearn.metrics import accuracy_score, precision_score, recall_score,classification_report,confusion_matrix"
   ]
  },
  {
   "cell_type": "code",
   "execution_count": 2,
   "id": "49de6500",
   "metadata": {},
   "outputs": [],
   "source": [
    "# hangel font for both mac, window\n",
    "import os\n",
    "\n",
    "if os.name == 'posix':\n",
    "    plt.rc(\"font\", family=\"AppleGothic\")\n",
    "else:\n",
    "    plt.rc(\"font\", family=\"Malgun Gothic\")"
   ]
  },
  {
   "cell_type": "markdown",
   "id": "200cf17f",
   "metadata": {},
   "source": [
    "# 3. Load Data "
   ]
  },
  {
   "cell_type": "code",
   "execution_count": 3,
   "id": "d1de5a04",
   "metadata": {
    "scrolled": true
   },
   "outputs": [
    {
     "data": {
      "text/html": [
       "<div>\n",
       "<style scoped>\n",
       "    .dataframe tbody tr th:only-of-type {\n",
       "        vertical-align: middle;\n",
       "    }\n",
       "\n",
       "    .dataframe tbody tr th {\n",
       "        vertical-align: top;\n",
       "    }\n",
       "\n",
       "    .dataframe thead th {\n",
       "        text-align: right;\n",
       "    }\n",
       "</style>\n",
       "<table border=\"1\" class=\"dataframe\">\n",
       "  <thead>\n",
       "    <tr style=\"text-align: right;\">\n",
       "      <th></th>\n",
       "      <th>회원번호</th>\n",
       "      <th>남녀구분코드</th>\n",
       "      <th>연령</th>\n",
       "      <th>소지여부_신용</th>\n",
       "      <th>입회일자_신용</th>\n",
       "      <th>입회경과개월수_신용</th>\n",
       "      <th>탈회여부</th>\n",
       "      <th>회원여부_연체</th>\n",
       "      <th>수신거부여부_TM</th>\n",
       "      <th>수신거부여부_DM</th>\n",
       "      <th>...</th>\n",
       "      <th>캠페인접촉건수_R12M</th>\n",
       "      <th>캠페인접촉일수_R12M</th>\n",
       "      <th>캠페인접촉월수_R12M</th>\n",
       "      <th>접촉후경과월_R12M</th>\n",
       "      <th>보험콜대상월수_R12M</th>\n",
       "      <th>보험콜대상횟수_R12M</th>\n",
       "      <th>보험콜통화횟수_R12M</th>\n",
       "      <th>보험콜배정후경과월_R12M</th>\n",
       "      <th>보험콜통화후경과월_R12M</th>\n",
       "      <th>고객구분</th>\n",
       "    </tr>\n",
       "  </thead>\n",
       "  <tbody>\n",
       "    <tr>\n",
       "      <th>0</th>\n",
       "      <td>YNtSN9Oa</td>\n",
       "      <td>2</td>\n",
       "      <td>64</td>\n",
       "      <td>1</td>\n",
       "      <td>20140709</td>\n",
       "      <td>54</td>\n",
       "      <td>1</td>\n",
       "      <td>0</td>\n",
       "      <td>0</td>\n",
       "      <td>0</td>\n",
       "      <td>...</td>\n",
       "      <td>3</td>\n",
       "      <td>3</td>\n",
       "      <td>2</td>\n",
       "      <td>5</td>\n",
       "      <td>5</td>\n",
       "      <td>5</td>\n",
       "      <td>9</td>\n",
       "      <td>0</td>\n",
       "      <td>0</td>\n",
       "      <td>21.Active_연속</td>\n",
       "    </tr>\n",
       "    <tr>\n",
       "      <th>1</th>\n",
       "      <td>Rijqdlzu</td>\n",
       "      <td>1</td>\n",
       "      <td>24</td>\n",
       "      <td>1</td>\n",
       "      <td>20170412</td>\n",
       "      <td>21</td>\n",
       "      <td>0</td>\n",
       "      <td>0</td>\n",
       "      <td>0</td>\n",
       "      <td>0</td>\n",
       "      <td>...</td>\n",
       "      <td>0</td>\n",
       "      <td>0</td>\n",
       "      <td>0</td>\n",
       "      <td>12</td>\n",
       "      <td>5</td>\n",
       "      <td>5</td>\n",
       "      <td>14</td>\n",
       "      <td>2</td>\n",
       "      <td>2</td>\n",
       "      <td>21.Active_연속</td>\n",
       "    </tr>\n",
       "    <tr>\n",
       "      <th>2</th>\n",
       "      <td>NOsf3TZS</td>\n",
       "      <td>2</td>\n",
       "      <td>43</td>\n",
       "      <td>1</td>\n",
       "      <td>20170426</td>\n",
       "      <td>21</td>\n",
       "      <td>1</td>\n",
       "      <td>0</td>\n",
       "      <td>1</td>\n",
       "      <td>0</td>\n",
       "      <td>...</td>\n",
       "      <td>0</td>\n",
       "      <td>0</td>\n",
       "      <td>0</td>\n",
       "      <td>12</td>\n",
       "      <td>0</td>\n",
       "      <td>0</td>\n",
       "      <td>0</td>\n",
       "      <td>12</td>\n",
       "      <td>12</td>\n",
       "      <td>21.Active_연속</td>\n",
       "    </tr>\n",
       "    <tr>\n",
       "      <th>3</th>\n",
       "      <td>7IPZGTZu</td>\n",
       "      <td>2</td>\n",
       "      <td>79</td>\n",
       "      <td>1</td>\n",
       "      <td>20141128</td>\n",
       "      <td>50</td>\n",
       "      <td>0</td>\n",
       "      <td>0</td>\n",
       "      <td>0</td>\n",
       "      <td>0</td>\n",
       "      <td>...</td>\n",
       "      <td>16</td>\n",
       "      <td>15</td>\n",
       "      <td>5</td>\n",
       "      <td>1</td>\n",
       "      <td>3</td>\n",
       "      <td>3</td>\n",
       "      <td>6</td>\n",
       "      <td>0</td>\n",
       "      <td>0</td>\n",
       "      <td>21.Active_연속</td>\n",
       "    </tr>\n",
       "    <tr>\n",
       "      <th>4</th>\n",
       "      <td>pEEsUF2u</td>\n",
       "      <td>2</td>\n",
       "      <td>82</td>\n",
       "      <td>1</td>\n",
       "      <td>20120905</td>\n",
       "      <td>76</td>\n",
       "      <td>0</td>\n",
       "      <td>0</td>\n",
       "      <td>0</td>\n",
       "      <td>0</td>\n",
       "      <td>...</td>\n",
       "      <td>4</td>\n",
       "      <td>4</td>\n",
       "      <td>3</td>\n",
       "      <td>1</td>\n",
       "      <td>1</td>\n",
       "      <td>1</td>\n",
       "      <td>4</td>\n",
       "      <td>3</td>\n",
       "      <td>2</td>\n",
       "      <td>21.Active_연속</td>\n",
       "    </tr>\n",
       "    <tr>\n",
       "      <th>...</th>\n",
       "      <td>...</td>\n",
       "      <td>...</td>\n",
       "      <td>...</td>\n",
       "      <td>...</td>\n",
       "      <td>...</td>\n",
       "      <td>...</td>\n",
       "      <td>...</td>\n",
       "      <td>...</td>\n",
       "      <td>...</td>\n",
       "      <td>...</td>\n",
       "      <td>...</td>\n",
       "      <td>...</td>\n",
       "      <td>...</td>\n",
       "      <td>...</td>\n",
       "      <td>...</td>\n",
       "      <td>...</td>\n",
       "      <td>...</td>\n",
       "      <td>...</td>\n",
       "      <td>...</td>\n",
       "      <td>...</td>\n",
       "      <td>...</td>\n",
       "    </tr>\n",
       "    <tr>\n",
       "      <th>299995</th>\n",
       "      <td>Gso9Jlid</td>\n",
       "      <td>2</td>\n",
       "      <td>47</td>\n",
       "      <td>1</td>\n",
       "      <td>20170630</td>\n",
       "      <td>18</td>\n",
       "      <td>0</td>\n",
       "      <td>0</td>\n",
       "      <td>0</td>\n",
       "      <td>0</td>\n",
       "      <td>...</td>\n",
       "      <td>3</td>\n",
       "      <td>3</td>\n",
       "      <td>2</td>\n",
       "      <td>9</td>\n",
       "      <td>5</td>\n",
       "      <td>5</td>\n",
       "      <td>16</td>\n",
       "      <td>0</td>\n",
       "      <td>0</td>\n",
       "      <td>21.Active_연속</td>\n",
       "    </tr>\n",
       "    <tr>\n",
       "      <th>299996</th>\n",
       "      <td>EDQYlTTX</td>\n",
       "      <td>2</td>\n",
       "      <td>69</td>\n",
       "      <td>1</td>\n",
       "      <td>20150417</td>\n",
       "      <td>45</td>\n",
       "      <td>0</td>\n",
       "      <td>0</td>\n",
       "      <td>0</td>\n",
       "      <td>0</td>\n",
       "      <td>...</td>\n",
       "      <td>2</td>\n",
       "      <td>2</td>\n",
       "      <td>2</td>\n",
       "      <td>1</td>\n",
       "      <td>0</td>\n",
       "      <td>0</td>\n",
       "      <td>0</td>\n",
       "      <td>12</td>\n",
       "      <td>12</td>\n",
       "      <td>22.Active_간헐</td>\n",
       "    </tr>\n",
       "    <tr>\n",
       "      <th>299997</th>\n",
       "      <td>82GwFS1D</td>\n",
       "      <td>1</td>\n",
       "      <td>36</td>\n",
       "      <td>1</td>\n",
       "      <td>20120608</td>\n",
       "      <td>79</td>\n",
       "      <td>0</td>\n",
       "      <td>0</td>\n",
       "      <td>0</td>\n",
       "      <td>0</td>\n",
       "      <td>...</td>\n",
       "      <td>0</td>\n",
       "      <td>0</td>\n",
       "      <td>0</td>\n",
       "      <td>12</td>\n",
       "      <td>0</td>\n",
       "      <td>0</td>\n",
       "      <td>0</td>\n",
       "      <td>12</td>\n",
       "      <td>12</td>\n",
       "      <td>21.Active_연속</td>\n",
       "    </tr>\n",
       "    <tr>\n",
       "      <th>299998</th>\n",
       "      <td>LUYeNjki</td>\n",
       "      <td>1</td>\n",
       "      <td>48</td>\n",
       "      <td>1</td>\n",
       "      <td>20120508</td>\n",
       "      <td>80</td>\n",
       "      <td>1</td>\n",
       "      <td>0</td>\n",
       "      <td>0</td>\n",
       "      <td>0</td>\n",
       "      <td>...</td>\n",
       "      <td>0</td>\n",
       "      <td>0</td>\n",
       "      <td>0</td>\n",
       "      <td>12</td>\n",
       "      <td>0</td>\n",
       "      <td>0</td>\n",
       "      <td>0</td>\n",
       "      <td>12</td>\n",
       "      <td>12</td>\n",
       "      <td>21.Active_연속</td>\n",
       "    </tr>\n",
       "    <tr>\n",
       "      <th>299999</th>\n",
       "      <td>bnKXePYO</td>\n",
       "      <td>2</td>\n",
       "      <td>36</td>\n",
       "      <td>1</td>\n",
       "      <td>20180222</td>\n",
       "      <td>11</td>\n",
       "      <td>1</td>\n",
       "      <td>0</td>\n",
       "      <td>0</td>\n",
       "      <td>0</td>\n",
       "      <td>...</td>\n",
       "      <td>20</td>\n",
       "      <td>20</td>\n",
       "      <td>5</td>\n",
       "      <td>0</td>\n",
       "      <td>1</td>\n",
       "      <td>1</td>\n",
       "      <td>0</td>\n",
       "      <td>6</td>\n",
       "      <td>12</td>\n",
       "      <td>21.Active_연속</td>\n",
       "    </tr>\n",
       "  </tbody>\n",
       "</table>\n",
       "<p>300000 rows × 302 columns</p>\n",
       "</div>"
      ],
      "text/plain": [
       "            회원번호  남녀구분코드  연령  소지여부_신용   입회일자_신용  입회경과개월수_신용  탈회여부  회원여부_연체  \\\n",
       "0       YNtSN9Oa       2  64        1  20140709          54     1        0   \n",
       "1       Rijqdlzu       1  24        1  20170412          21     0        0   \n",
       "2       NOsf3TZS       2  43        1  20170426          21     1        0   \n",
       "3       7IPZGTZu       2  79        1  20141128          50     0        0   \n",
       "4       pEEsUF2u       2  82        1  20120905          76     0        0   \n",
       "...          ...     ...  ..      ...       ...         ...   ...      ...   \n",
       "299995  Gso9Jlid       2  47        1  20170630          18     0        0   \n",
       "299996  EDQYlTTX       2  69        1  20150417          45     0        0   \n",
       "299997  82GwFS1D       1  36        1  20120608          79     0        0   \n",
       "299998  LUYeNjki       1  48        1  20120508          80     1        0   \n",
       "299999  bnKXePYO       2  36        1  20180222          11     1        0   \n",
       "\n",
       "        수신거부여부_TM  수신거부여부_DM  ...  캠페인접촉건수_R12M  캠페인접촉일수_R12M 캠페인접촉월수_R12M  \\\n",
       "0               0          0  ...             3             3            2   \n",
       "1               0          0  ...             0             0            0   \n",
       "2               1          0  ...             0             0            0   \n",
       "3               0          0  ...            16            15            5   \n",
       "4               0          0  ...             4             4            3   \n",
       "...           ...        ...  ...           ...           ...          ...   \n",
       "299995          0          0  ...             3             3            2   \n",
       "299996          0          0  ...             2             2            2   \n",
       "299997          0          0  ...             0             0            0   \n",
       "299998          0          0  ...             0             0            0   \n",
       "299999          0          0  ...            20            20            5   \n",
       "\n",
       "       접촉후경과월_R12M 보험콜대상월수_R12M  보험콜대상횟수_R12M  보험콜통화횟수_R12M  보험콜배정후경과월_R12M  \\\n",
       "0                5            5             5             9               0   \n",
       "1               12            5             5            14               2   \n",
       "2               12            0             0             0              12   \n",
       "3                1            3             3             6               0   \n",
       "4                1            1             1             4               3   \n",
       "...            ...          ...           ...           ...             ...   \n",
       "299995           9            5             5            16               0   \n",
       "299996           1            0             0             0              12   \n",
       "299997          12            0             0             0              12   \n",
       "299998          12            0             0             0              12   \n",
       "299999           0            1             1             0               6   \n",
       "\n",
       "       보험콜통화후경과월_R12M          고객구분  \n",
       "0                   0  21.Active_연속  \n",
       "1                   2  21.Active_연속  \n",
       "2                  12  21.Active_연속  \n",
       "3                   0  21.Active_연속  \n",
       "4                   2  21.Active_연속  \n",
       "...               ...           ...  \n",
       "299995              0  21.Active_연속  \n",
       "299996             12  22.Active_간헐  \n",
       "299997             12  21.Active_연속  \n",
       "299998             12  21.Active_연속  \n",
       "299999             12  21.Active_연속  \n",
       "\n",
       "[300000 rows x 302 columns]"
      ]
     },
     "execution_count": 3,
     "metadata": {},
     "output_type": "execute_result"
    }
   ],
   "source": [
    "# window\n",
    "# df=pd.read_csv(r\"C:\\Users\\User\\Desktop\\HANACARD\\CardData_new.csv\",encoding='cp949')\n",
    "\n",
    "# mac\n",
    "df=pd.read_csv(r\"/Users/youngzi/Desktop/HANACARD/CardData_new.csv\",encoding='cp949')\n",
    "df"
   ]
  },
  {
   "cell_type": "markdown",
   "id": "9dbbeed8",
   "metadata": {},
   "source": [
    "# 4. Exploratory Data Analysis"
   ]
  },
  {
   "cell_type": "markdown",
   "id": "d389c95a",
   "metadata": {},
   "source": [
    "# 4.1 Preview Dataset"
   ]
  },
  {
   "cell_type": "code",
   "execution_count": 4,
   "id": "7abb7209",
   "metadata": {},
   "outputs": [
    {
     "data": {
      "text/html": [
       "<div>\n",
       "<style scoped>\n",
       "    .dataframe tbody tr th:only-of-type {\n",
       "        vertical-align: middle;\n",
       "    }\n",
       "\n",
       "    .dataframe tbody tr th {\n",
       "        vertical-align: top;\n",
       "    }\n",
       "\n",
       "    .dataframe thead th {\n",
       "        text-align: right;\n",
       "    }\n",
       "</style>\n",
       "<table border=\"1\" class=\"dataframe\">\n",
       "  <thead>\n",
       "    <tr style=\"text-align: right;\">\n",
       "      <th></th>\n",
       "      <th>회원번호</th>\n",
       "      <th>남녀구분코드</th>\n",
       "      <th>연령</th>\n",
       "      <th>소지여부_신용</th>\n",
       "      <th>입회일자_신용</th>\n",
       "      <th>입회경과개월수_신용</th>\n",
       "      <th>탈회여부</th>\n",
       "      <th>회원여부_연체</th>\n",
       "      <th>수신거부여부_TM</th>\n",
       "      <th>수신거부여부_DM</th>\n",
       "      <th>...</th>\n",
       "      <th>캠페인접촉건수_R12M</th>\n",
       "      <th>캠페인접촉일수_R12M</th>\n",
       "      <th>캠페인접촉월수_R12M</th>\n",
       "      <th>접촉후경과월_R12M</th>\n",
       "      <th>보험콜대상월수_R12M</th>\n",
       "      <th>보험콜대상횟수_R12M</th>\n",
       "      <th>보험콜통화횟수_R12M</th>\n",
       "      <th>보험콜배정후경과월_R12M</th>\n",
       "      <th>보험콜통화후경과월_R12M</th>\n",
       "      <th>고객구분</th>\n",
       "    </tr>\n",
       "  </thead>\n",
       "  <tbody>\n",
       "    <tr>\n",
       "      <th>0</th>\n",
       "      <td>YNtSN9Oa</td>\n",
       "      <td>2</td>\n",
       "      <td>64</td>\n",
       "      <td>1</td>\n",
       "      <td>20140709</td>\n",
       "      <td>54</td>\n",
       "      <td>1</td>\n",
       "      <td>0</td>\n",
       "      <td>0</td>\n",
       "      <td>0</td>\n",
       "      <td>...</td>\n",
       "      <td>3</td>\n",
       "      <td>3</td>\n",
       "      <td>2</td>\n",
       "      <td>5</td>\n",
       "      <td>5</td>\n",
       "      <td>5</td>\n",
       "      <td>9</td>\n",
       "      <td>0</td>\n",
       "      <td>0</td>\n",
       "      <td>21.Active_연속</td>\n",
       "    </tr>\n",
       "    <tr>\n",
       "      <th>1</th>\n",
       "      <td>Rijqdlzu</td>\n",
       "      <td>1</td>\n",
       "      <td>24</td>\n",
       "      <td>1</td>\n",
       "      <td>20170412</td>\n",
       "      <td>21</td>\n",
       "      <td>0</td>\n",
       "      <td>0</td>\n",
       "      <td>0</td>\n",
       "      <td>0</td>\n",
       "      <td>...</td>\n",
       "      <td>0</td>\n",
       "      <td>0</td>\n",
       "      <td>0</td>\n",
       "      <td>12</td>\n",
       "      <td>5</td>\n",
       "      <td>5</td>\n",
       "      <td>14</td>\n",
       "      <td>2</td>\n",
       "      <td>2</td>\n",
       "      <td>21.Active_연속</td>\n",
       "    </tr>\n",
       "    <tr>\n",
       "      <th>2</th>\n",
       "      <td>NOsf3TZS</td>\n",
       "      <td>2</td>\n",
       "      <td>43</td>\n",
       "      <td>1</td>\n",
       "      <td>20170426</td>\n",
       "      <td>21</td>\n",
       "      <td>1</td>\n",
       "      <td>0</td>\n",
       "      <td>1</td>\n",
       "      <td>0</td>\n",
       "      <td>...</td>\n",
       "      <td>0</td>\n",
       "      <td>0</td>\n",
       "      <td>0</td>\n",
       "      <td>12</td>\n",
       "      <td>0</td>\n",
       "      <td>0</td>\n",
       "      <td>0</td>\n",
       "      <td>12</td>\n",
       "      <td>12</td>\n",
       "      <td>21.Active_연속</td>\n",
       "    </tr>\n",
       "    <tr>\n",
       "      <th>3</th>\n",
       "      <td>7IPZGTZu</td>\n",
       "      <td>2</td>\n",
       "      <td>79</td>\n",
       "      <td>1</td>\n",
       "      <td>20141128</td>\n",
       "      <td>50</td>\n",
       "      <td>0</td>\n",
       "      <td>0</td>\n",
       "      <td>0</td>\n",
       "      <td>0</td>\n",
       "      <td>...</td>\n",
       "      <td>16</td>\n",
       "      <td>15</td>\n",
       "      <td>5</td>\n",
       "      <td>1</td>\n",
       "      <td>3</td>\n",
       "      <td>3</td>\n",
       "      <td>6</td>\n",
       "      <td>0</td>\n",
       "      <td>0</td>\n",
       "      <td>21.Active_연속</td>\n",
       "    </tr>\n",
       "    <tr>\n",
       "      <th>4</th>\n",
       "      <td>pEEsUF2u</td>\n",
       "      <td>2</td>\n",
       "      <td>82</td>\n",
       "      <td>1</td>\n",
       "      <td>20120905</td>\n",
       "      <td>76</td>\n",
       "      <td>0</td>\n",
       "      <td>0</td>\n",
       "      <td>0</td>\n",
       "      <td>0</td>\n",
       "      <td>...</td>\n",
       "      <td>4</td>\n",
       "      <td>4</td>\n",
       "      <td>3</td>\n",
       "      <td>1</td>\n",
       "      <td>1</td>\n",
       "      <td>1</td>\n",
       "      <td>4</td>\n",
       "      <td>3</td>\n",
       "      <td>2</td>\n",
       "      <td>21.Active_연속</td>\n",
       "    </tr>\n",
       "  </tbody>\n",
       "</table>\n",
       "<p>5 rows × 302 columns</p>\n",
       "</div>"
      ],
      "text/plain": [
       "       회원번호  남녀구분코드  연령  소지여부_신용   입회일자_신용  입회경과개월수_신용  탈회여부  회원여부_연체  \\\n",
       "0  YNtSN9Oa       2  64        1  20140709          54     1        0   \n",
       "1  Rijqdlzu       1  24        1  20170412          21     0        0   \n",
       "2  NOsf3TZS       2  43        1  20170426          21     1        0   \n",
       "3  7IPZGTZu       2  79        1  20141128          50     0        0   \n",
       "4  pEEsUF2u       2  82        1  20120905          76     0        0   \n",
       "\n",
       "   수신거부여부_TM  수신거부여부_DM  ...  캠페인접촉건수_R12M  캠페인접촉일수_R12M 캠페인접촉월수_R12M  \\\n",
       "0          0          0  ...             3             3            2   \n",
       "1          0          0  ...             0             0            0   \n",
       "2          1          0  ...             0             0            0   \n",
       "3          0          0  ...            16            15            5   \n",
       "4          0          0  ...             4             4            3   \n",
       "\n",
       "  접촉후경과월_R12M 보험콜대상월수_R12M  보험콜대상횟수_R12M  보험콜통화횟수_R12M  보험콜배정후경과월_R12M  \\\n",
       "0           5            5             5             9               0   \n",
       "1          12            5             5            14               2   \n",
       "2          12            0             0             0              12   \n",
       "3           1            3             3             6               0   \n",
       "4           1            1             1             4               3   \n",
       "\n",
       "  보험콜통화후경과월_R12M          고객구분  \n",
       "0              0  21.Active_연속  \n",
       "1              2  21.Active_연속  \n",
       "2             12  21.Active_연속  \n",
       "3              0  21.Active_연속  \n",
       "4              2  21.Active_연속  \n",
       "\n",
       "[5 rows x 302 columns]"
      ]
     },
     "execution_count": 4,
     "metadata": {},
     "output_type": "execute_result"
    }
   ],
   "source": [
    "df.head()"
   ]
  },
  {
   "cell_type": "code",
   "execution_count": 5,
   "id": "ff436213",
   "metadata": {},
   "outputs": [
    {
     "name": "stdout",
     "output_type": "stream",
     "text": [
      "로우데이터 사이즈 :  (300000, 302)\n"
     ]
    }
   ],
   "source": [
    "# Check Data Size\n",
    "print('로우데이터 사이즈 : ',df.shape)"
   ]
  },
  {
   "cell_type": "code",
   "execution_count": 6,
   "id": "2ac1dbad",
   "metadata": {},
   "outputs": [
    {
     "data": {
      "text/plain": [
       "Index(['회원번호', '남녀구분코드', '연령', '소지여부_신용', '입회일자_신용', '입회경과개월수_신용', '탈회여부',\n",
       "       '회원여부_연체', '수신거부여부_TM', '수신거부여부_DM',\n",
       "       ...\n",
       "       '캠페인접촉건수_R12M', '캠페인접촉일수_R12M', '캠페인접촉월수_R12M', '접촉후경과월_R12M',\n",
       "       '보험콜대상월수_R12M', '보험콜대상횟수_R12M', '보험콜통화횟수_R12M', '보험콜배정후경과월_R12M',\n",
       "       '보험콜통화후경과월_R12M', '고객구분'],\n",
       "      dtype='object', length=302)"
      ]
     },
     "execution_count": 6,
     "metadata": {},
     "output_type": "execute_result"
    }
   ],
   "source": [
    "df.columns"
   ]
  },
  {
   "cell_type": "code",
   "execution_count": 7,
   "id": "f0d84829",
   "metadata": {},
   "outputs": [
    {
     "name": "stdout",
     "output_type": "stream",
     "text": [
      "<class 'pandas.core.frame.DataFrame'>\n",
      "RangeIndex: 300000 entries, 0 to 299999\n",
      "Columns: 302 entries, 회원번호 to 고객구분\n",
      "dtypes: int64(290), object(12)\n",
      "memory usage: 691.2+ MB\n"
     ]
    }
   ],
   "source": [
    "# Check dataset\n",
    "df.info()"
   ]
  },
  {
   "cell_type": "code",
   "execution_count": 8,
   "id": "4a32f3af",
   "metadata": {},
   "outputs": [
    {
     "data": {
      "text/html": [
       "<div>\n",
       "<style scoped>\n",
       "    .dataframe tbody tr th:only-of-type {\n",
       "        vertical-align: middle;\n",
       "    }\n",
       "\n",
       "    .dataframe tbody tr th {\n",
       "        vertical-align: top;\n",
       "    }\n",
       "\n",
       "    .dataframe thead th {\n",
       "        text-align: right;\n",
       "    }\n",
       "</style>\n",
       "<table border=\"1\" class=\"dataframe\">\n",
       "  <thead>\n",
       "    <tr style=\"text-align: right;\">\n",
       "      <th></th>\n",
       "      <th>count</th>\n",
       "      <th>mean</th>\n",
       "      <th>std</th>\n",
       "      <th>min</th>\n",
       "      <th>25%</th>\n",
       "      <th>50%</th>\n",
       "      <th>75%</th>\n",
       "      <th>max</th>\n",
       "    </tr>\n",
       "  </thead>\n",
       "  <tbody>\n",
       "    <tr>\n",
       "      <th>남녀구분코드</th>\n",
       "      <td>300000.0</td>\n",
       "      <td>1.473560e+00</td>\n",
       "      <td>0.499301</td>\n",
       "      <td>1.0</td>\n",
       "      <td>1.0</td>\n",
       "      <td>1.0</td>\n",
       "      <td>2.0</td>\n",
       "      <td>2.0</td>\n",
       "    </tr>\n",
       "    <tr>\n",
       "      <th>연령</th>\n",
       "      <td>300000.0</td>\n",
       "      <td>4.621211e+01</td>\n",
       "      <td>12.087588</td>\n",
       "      <td>19.0</td>\n",
       "      <td>37.0</td>\n",
       "      <td>46.0</td>\n",
       "      <td>54.0</td>\n",
       "      <td>98.0</td>\n",
       "    </tr>\n",
       "    <tr>\n",
       "      <th>소지여부_신용</th>\n",
       "      <td>300000.0</td>\n",
       "      <td>9.797400e-01</td>\n",
       "      <td>0.140889</td>\n",
       "      <td>0.0</td>\n",
       "      <td>1.0</td>\n",
       "      <td>1.0</td>\n",
       "      <td>1.0</td>\n",
       "      <td>1.0</td>\n",
       "    </tr>\n",
       "    <tr>\n",
       "      <th>입회일자_신용</th>\n",
       "      <td>300000.0</td>\n",
       "      <td>2.011614e+07</td>\n",
       "      <td>74549.268116</td>\n",
       "      <td>10101.0</td>\n",
       "      <td>20090128.0</td>\n",
       "      <td>20140106.0</td>\n",
       "      <td>20170227.0</td>\n",
       "      <td>20180629.0</td>\n",
       "    </tr>\n",
       "    <tr>\n",
       "      <th>입회경과개월수_신용</th>\n",
       "      <td>300000.0</td>\n",
       "      <td>8.397931e+01</td>\n",
       "      <td>77.670840</td>\n",
       "      <td>0.0</td>\n",
       "      <td>23.0</td>\n",
       "      <td>60.0</td>\n",
       "      <td>120.0</td>\n",
       "      <td>443.0</td>\n",
       "    </tr>\n",
       "    <tr>\n",
       "      <th>...</th>\n",
       "      <td>...</td>\n",
       "      <td>...</td>\n",
       "      <td>...</td>\n",
       "      <td>...</td>\n",
       "      <td>...</td>\n",
       "      <td>...</td>\n",
       "      <td>...</td>\n",
       "      <td>...</td>\n",
       "    </tr>\n",
       "    <tr>\n",
       "      <th>보험콜대상월수_R12M</th>\n",
       "      <td>300000.0</td>\n",
       "      <td>1.129337e+00</td>\n",
       "      <td>1.701430</td>\n",
       "      <td>0.0</td>\n",
       "      <td>0.0</td>\n",
       "      <td>0.0</td>\n",
       "      <td>2.0</td>\n",
       "      <td>7.0</td>\n",
       "    </tr>\n",
       "    <tr>\n",
       "      <th>보험콜대상횟수_R12M</th>\n",
       "      <td>300000.0</td>\n",
       "      <td>1.131863e+00</td>\n",
       "      <td>1.705944</td>\n",
       "      <td>0.0</td>\n",
       "      <td>0.0</td>\n",
       "      <td>0.0</td>\n",
       "      <td>2.0</td>\n",
       "      <td>7.0</td>\n",
       "    </tr>\n",
       "    <tr>\n",
       "      <th>보험콜통화횟수_R12M</th>\n",
       "      <td>300000.0</td>\n",
       "      <td>2.635803e+00</td>\n",
       "      <td>4.848282</td>\n",
       "      <td>0.0</td>\n",
       "      <td>0.0</td>\n",
       "      <td>0.0</td>\n",
       "      <td>4.0</td>\n",
       "      <td>568.0</td>\n",
       "    </tr>\n",
       "    <tr>\n",
       "      <th>보험콜배정후경과월_R12M</th>\n",
       "      <td>300000.0</td>\n",
       "      <td>8.231353e+00</td>\n",
       "      <td>4.955658</td>\n",
       "      <td>0.0</td>\n",
       "      <td>2.0</td>\n",
       "      <td>12.0</td>\n",
       "      <td>12.0</td>\n",
       "      <td>12.0</td>\n",
       "    </tr>\n",
       "    <tr>\n",
       "      <th>보험콜통화후경과월_R12M</th>\n",
       "      <td>300000.0</td>\n",
       "      <td>8.275930e+00</td>\n",
       "      <td>4.949356</td>\n",
       "      <td>0.0</td>\n",
       "      <td>2.0</td>\n",
       "      <td>12.0</td>\n",
       "      <td>12.0</td>\n",
       "      <td>12.0</td>\n",
       "    </tr>\n",
       "  </tbody>\n",
       "</table>\n",
       "<p>290 rows × 8 columns</p>\n",
       "</div>"
      ],
      "text/plain": [
       "                   count          mean           std      min         25%  \\\n",
       "남녀구분코드          300000.0  1.473560e+00      0.499301      1.0         1.0   \n",
       "연령              300000.0  4.621211e+01     12.087588     19.0        37.0   \n",
       "소지여부_신용         300000.0  9.797400e-01      0.140889      0.0         1.0   \n",
       "입회일자_신용         300000.0  2.011614e+07  74549.268116  10101.0  20090128.0   \n",
       "입회경과개월수_신용      300000.0  8.397931e+01     77.670840      0.0        23.0   \n",
       "...                  ...           ...           ...      ...         ...   \n",
       "보험콜대상월수_R12M    300000.0  1.129337e+00      1.701430      0.0         0.0   \n",
       "보험콜대상횟수_R12M    300000.0  1.131863e+00      1.705944      0.0         0.0   \n",
       "보험콜통화횟수_R12M    300000.0  2.635803e+00      4.848282      0.0         0.0   \n",
       "보험콜배정후경과월_R12M  300000.0  8.231353e+00      4.955658      0.0         2.0   \n",
       "보험콜통화후경과월_R12M  300000.0  8.275930e+00      4.949356      0.0         2.0   \n",
       "\n",
       "                       50%         75%         max  \n",
       "남녀구분코드                 1.0         2.0         2.0  \n",
       "연령                    46.0        54.0        98.0  \n",
       "소지여부_신용                1.0         1.0         1.0  \n",
       "입회일자_신용         20140106.0  20170227.0  20180629.0  \n",
       "입회경과개월수_신용            60.0       120.0       443.0  \n",
       "...                    ...         ...         ...  \n",
       "보험콜대상월수_R12M           0.0         2.0         7.0  \n",
       "보험콜대상횟수_R12M           0.0         2.0         7.0  \n",
       "보험콜통화횟수_R12M           0.0         4.0       568.0  \n",
       "보험콜배정후경과월_R12M        12.0        12.0        12.0  \n",
       "보험콜통화후경과월_R12M        12.0        12.0        12.0  \n",
       "\n",
       "[290 rows x 8 columns]"
      ]
     },
     "execution_count": 8,
     "metadata": {},
     "output_type": "execute_result"
    }
   ],
   "source": [
    "# Check statistical values for fields with numerical datatype\n",
    "df.describe().T"
   ]
  },
  {
   "cell_type": "code",
   "execution_count": 9,
   "id": "39d6e028",
   "metadata": {},
   "outputs": [
    {
     "data": {
      "text/html": [
       "<div>\n",
       "<style scoped>\n",
       "    .dataframe tbody tr th:only-of-type {\n",
       "        vertical-align: middle;\n",
       "    }\n",
       "\n",
       "    .dataframe tbody tr th {\n",
       "        vertical-align: top;\n",
       "    }\n",
       "\n",
       "    .dataframe thead th {\n",
       "        text-align: right;\n",
       "    }\n",
       "</style>\n",
       "<table border=\"1\" class=\"dataframe\">\n",
       "  <thead>\n",
       "    <tr style=\"text-align: right;\">\n",
       "      <th></th>\n",
       "      <th>count</th>\n",
       "      <th>unique</th>\n",
       "      <th>top</th>\n",
       "      <th>freq</th>\n",
       "    </tr>\n",
       "  </thead>\n",
       "  <tbody>\n",
       "    <tr>\n",
       "      <th>회원번호</th>\n",
       "      <td>300000</td>\n",
       "      <td>300000</td>\n",
       "      <td>UkstJVKb</td>\n",
       "      <td>1</td>\n",
       "    </tr>\n",
       "    <tr>\n",
       "      <th>자격기준</th>\n",
       "      <td>300000</td>\n",
       "      <td>13</td>\n",
       "      <td>06.기업체</td>\n",
       "      <td>79838</td>\n",
       "    </tr>\n",
       "    <tr>\n",
       "      <th>자격구분상세</th>\n",
       "      <td>300000</td>\n",
       "      <td>44</td>\n",
       "      <td>08.은행거래_수신평잔</td>\n",
       "      <td>61493</td>\n",
       "    </tr>\n",
       "    <tr>\n",
       "      <th>연회비청구구분_B0M</th>\n",
       "      <td>300000</td>\n",
       "      <td>4</td>\n",
       "      <td>4.미청구</td>\n",
       "      <td>274205</td>\n",
       "    </tr>\n",
       "    <tr>\n",
       "      <th>거주시도명</th>\n",
       "      <td>300000</td>\n",
       "      <td>16</td>\n",
       "      <td>경기</td>\n",
       "      <td>83450</td>\n",
       "    </tr>\n",
       "    <tr>\n",
       "      <th>거주시군구명</th>\n",
       "      <td>300000</td>\n",
       "      <td>210</td>\n",
       "      <td>서구</td>\n",
       "      <td>11222</td>\n",
       "    </tr>\n",
       "    <tr>\n",
       "      <th>직장시도명</th>\n",
       "      <td>244335</td>\n",
       "      <td>17</td>\n",
       "      <td>서울</td>\n",
       "      <td>81913</td>\n",
       "    </tr>\n",
       "    <tr>\n",
       "      <th>직장시군구명</th>\n",
       "      <td>243838</td>\n",
       "      <td>209</td>\n",
       "      <td>중구</td>\n",
       "      <td>13237</td>\n",
       "    </tr>\n",
       "    <tr>\n",
       "      <th>_1순위신용체크구분</th>\n",
       "      <td>300000</td>\n",
       "      <td>2</td>\n",
       "      <td>신용</td>\n",
       "      <td>284204</td>\n",
       "    </tr>\n",
       "    <tr>\n",
       "      <th>Life_Stage</th>\n",
       "      <td>300000</td>\n",
       "      <td>7</td>\n",
       "      <td>4.자녀성장기(1)</td>\n",
       "      <td>99160</td>\n",
       "    </tr>\n",
       "    <tr>\n",
       "      <th>이용금액대</th>\n",
       "      <td>300000</td>\n",
       "      <td>6</td>\n",
       "      <td>01.100만원+</td>\n",
       "      <td>61467</td>\n",
       "    </tr>\n",
       "    <tr>\n",
       "      <th>고객구분</th>\n",
       "      <td>300000</td>\n",
       "      <td>6</td>\n",
       "      <td>21.Active_연속</td>\n",
       "      <td>222863</td>\n",
       "    </tr>\n",
       "  </tbody>\n",
       "</table>\n",
       "</div>"
      ],
      "text/plain": [
       "              count  unique           top    freq\n",
       "회원번호         300000  300000      UkstJVKb       1\n",
       "자격기준         300000      13        06.기업체   79838\n",
       "자격구분상세       300000      44  08.은행거래_수신평잔   61493\n",
       "연회비청구구분_B0M  300000       4         4.미청구  274205\n",
       "거주시도명        300000      16            경기   83450\n",
       "거주시군구명       300000     210            서구   11222\n",
       "직장시도명        244335      17            서울   81913\n",
       "직장시군구명       243838     209            중구   13237\n",
       "_1순위신용체크구분   300000       2            신용  284204\n",
       "Life_Stage   300000       7    4.자녀성장기(1)   99160\n",
       "이용금액대        300000       6     01.100만원+   61467\n",
       "고객구분         300000       6  21.Active_연속  222863"
      ]
     },
     "execution_count": 9,
     "metadata": {},
     "output_type": "execute_result"
    }
   ],
   "source": [
    "# Check statistical values for fields with other than numerical datatype\n",
    "df.describe(exclude=np.number).T"
   ]
  },
  {
   "cell_type": "markdown",
   "id": "78689ee4",
   "metadata": {},
   "source": [
    "# Observations\n",
    "\n",
    "### 1. 음수 값 존재 column\n",
    "이용건수_할부_B0M, \n",
    "\n",
    "이용건수_할부_유이자_B0M,\n",
    "\n",
    "이용건수_할부_무이자_B0M,\n",
    "\n",
    "이용건수_부분무이자_B0M,\n",
    "\n",
    "이용건수_일시불_R12M,\n",
    "\n",
    "이용건수_할부_유이자_R12M,\n",
    "\n",
    "이용건수_부분무이자_R12M,\n",
    "\n",
    "이용건수_신용_R3M,\n",
    "\n",
    "이용건수_할부_유이자_R3M,\n",
    "\n",
    "이용건수_부분무이자_R3M,\n",
    "\n",
    "증감_RP건수_전월,\n",
    "\n",
    "증감_RP유형건수_전월,\n",
    "\n",
    "### 2. 0 값이 대부분인 column\n",
    "\n",
    "\n",
    "### 3. Categorical => \n",
    "자격기준,\n",
    "\n",
    "자격구분상세,\n",
    "\n",
    "연회비청구구분_B0M,\n",
    "\n",
    "거주시도명,\n",
    "\n",
    "거주시군구명,\n",
    "\n",
    "직장시도명,\n",
    "\n",
    "직장시군구명,\n",
    "\n",
    "_1순위신용체크구분,\n",
    "\n",
    "Life_Stage,\n",
    "\n",
    "이용금액대,\n",
    "\n",
    "고객구분\n",
    "\n",
    "\n",
    "### 4. 연속형 => \n",
    "연령 => 연령대\n",
    "이용금액 \n",
    "\n",
    "'''"
   ]
  },
  {
   "cell_type": "markdown",
   "id": "322a99d9",
   "metadata": {},
   "source": [
    "# 4.2 Functions\n"
   ]
  },
  {
   "cell_type": "code",
   "execution_count": 10,
   "id": "aac46d68",
   "metadata": {},
   "outputs": [],
   "source": [
    "# briefs on each column\n",
    "def get_column_details(df,column):\n",
    "    print(\"Details of\",column,\"column\")\n",
    "    \n",
    "    #DataType of column\n",
    "    print(\"\\nDataType: \",df[column].dtype)\n",
    "    \n",
    "    #Check if null values are present\n",
    "    count_null = df[column].isnull().sum()\n",
    "    if count_null==0:\n",
    "        print(\"\\nThere are no null values\")\n",
    "    elif count_null>0:\n",
    "        print(\"\\nThere are \",count_null,\" null values\")\n",
    "        \n",
    "    #Get Number of Unique Values\n",
    "    print(\"\\nNumber of Unique Values: \",df[column].nunique())\n",
    "    \n",
    "    #Get Distribution of Column    \n",
    "    print(\"\\nDistribution of column:\\n\")\n",
    "    print(df[column].value_counts())"
   ]
  },
  {
   "cell_type": "code",
   "execution_count": 11,
   "id": "a282c511",
   "metadata": {},
   "outputs": [],
   "source": [
    "# clean categorical field\n"
   ]
  },
  {
   "cell_type": "code",
   "execution_count": null,
   "id": "910c547a",
   "metadata": {},
   "outputs": [],
   "source": []
  },
  {
   "cell_type": "code",
   "execution_count": 12,
   "id": "edeefee1",
   "metadata": {},
   "outputs": [],
   "source": [
    "# 시각화 : countplot\n",
    "def plot_countplot(df,column,user_friendly_column_name,rotation=0):\n",
    "    print(\"\\n-----------------------------------------------------\")\n",
    "    print(f'\\n{user_friendly_column_name} Distribution')\n",
    "    palette = \"deep\" \n",
    "    sns.set_palette(palette)\n",
    "    \n",
    "    sns.countplot(data=df, x=column)\n",
    "\n",
    "    plt.xlabel(f'{user_friendly_column_name}')\n",
    "    plt.ylabel('Number of Records')\n",
    "    plt.title(f'{user_friendly_column_name} Distribution')\n",
    "    plt.xticks(rotation=rotation)\n",
    "\n",
    "    plt.show()"
   ]
  },
  {
   "cell_type": "code",
   "execution_count": 13,
   "id": "ff7e4a88",
   "metadata": {},
   "outputs": [],
   "source": [
    "# 시각화 : displot\n",
    "def plot_displot(df,column,user_friendly_column_name,rotation=0,bins=20):\n",
    "    print(\"\\n-----------------------------------------------------\")\n",
    "    print(f'\\n{user_friendly_column_name} Distribution')\n",
    "    palette = \"deep\" \n",
    "    sns.set_palette(palette)\n",
    "    \n",
    "    sns.displot(data=df, x=column, kde=True, bins=bins)\n",
    "\n",
    "    plt.xlabel(f'{user_friendly_column_name}')\n",
    "    plt.ylabel('Number of Records')\n",
    "    plt.title(f'{user_friendly_column_name} Distribution')\n",
    "    plt.xticks(rotation=rotation)\n",
    "\n",
    "    plt.show()"
   ]
  },
  {
   "cell_type": "code",
   "execution_count": 14,
   "id": "a37445ca",
   "metadata": {},
   "outputs": [],
   "source": [
    "# 시각화 : stacked bar\n",
    "def plot_stacked_bar(df,column1,column2,rotation=0):\n",
    "    print(\"\\n-----------------------------------------------------\")\n",
    "    print(f'\\n{column1} & {column2} Distribution')\n",
    "    palette = \"deep\" \n",
    "    sns.set_palette(palette)\n",
    "\n",
    "    pd.crosstab(df[column1], df[column2]).plot(kind='bar', stacked=True)\n",
    "    \n",
    "    plt.xlabel(f'{column1}')\n",
    "    plt.ylabel('Number of Records')\n",
    "    plt.title(f'{column1} & {column2} Distribution')\n",
    "    plt.xticks(rotation=rotation)\n",
    "\n",
    "    plt.show()"
   ]
  },
  {
   "cell_type": "code",
   "execution_count": 15,
   "id": "bb6443cc",
   "metadata": {},
   "outputs": [],
   "source": [
    "# 시각화 : scatter plot\n",
    "# def plot_scattplot(df,column,user_friendly_column_name,rotation=0):\n",
    "#     print(\"\\n-----------------------------------------------------\")\n",
    "#     print(f'\\n{user_friendly_column_name} Distribution')\n",
    "#     palette = \"deep\" \n",
    "#     sns.set_palette(palette)\n",
    "    \n",
    "#     sns.scatterplot(data=df, x=column, y=column)\n",
    "\n",
    "#     plt.xlabel(f'{user_friendly_column_name}')\n",
    "#     plt.ylabel('Number of Records')\n",
    "#     plt.title(f'{user_friendly_column_name} Distribution')\n",
    "#     plt.xticks(rotation=rotation)\n",
    "\n",
    "#     plt.show()"
   ]
  },
  {
   "cell_type": "code",
   "execution_count": null,
   "id": "ffac5154",
   "metadata": {},
   "outputs": [],
   "source": []
  },
  {
   "cell_type": "code",
   "execution_count": null,
   "id": "f325832b",
   "metadata": {},
   "outputs": [],
   "source": []
  },
  {
   "cell_type": "code",
   "execution_count": null,
   "id": "89fe4e4d",
   "metadata": {},
   "outputs": [],
   "source": []
  },
  {
   "cell_type": "code",
   "execution_count": null,
   "id": "55323756",
   "metadata": {},
   "outputs": [],
   "source": []
  },
  {
   "cell_type": "code",
   "execution_count": 16,
   "id": "7be605fc",
   "metadata": {},
   "outputs": [
    {
     "name": "stdout",
     "output_type": "stream",
     "text": [
      "Details of 연령 column\n",
      "\n",
      "DataType:  int64\n",
      "\n",
      "There are no null values\n",
      "\n",
      "Number of Unique Values:  79\n",
      "\n",
      "Distribution of column:\n",
      "\n",
      "47    9857\n",
      "46    9438\n",
      "48    9423\n",
      "45    9408\n",
      "39    9406\n",
      "      ... \n",
      "93       8\n",
      "95       5\n",
      "94       4\n",
      "98       3\n",
      "96       1\n",
      "Name: 연령, Length: 79, dtype: int64\n",
      "\n",
      "-----------------------------------------------------\n",
      "\n",
      "연령 Distribution\n"
     ]
    },
    {
     "data": {
      "image/png": "[encoded data removed]",
      "text/plain": [
       "<Figure size 432x288 with 1 Axes>"
      ]
     },
     "metadata": {
      "needs_background": "light"
     },
     "output_type": "display_data"
    }
   ],
   "source": [
    "# 연령\n",
    "\n",
    "column_name = '연령'\n",
    "user_friendly_name = '연령'\n",
    "\n",
    "#Get Details\n",
    "get_column_details(df,column_name)\n",
    "\n",
    "# 전체 Plot Graph\n",
    "plot_countplot(df,column_name,user_friendly_name)"
   ]
  },
  {
   "cell_type": "code",
   "execution_count": 17,
   "id": "20e5c2fe",
   "metadata": {},
   "outputs": [
    {
     "name": "stdout",
     "output_type": "stream",
     "text": [
      "Details of 연령대 column\n",
      "\n",
      "DataType:  category\n",
      "\n",
      "There are no null values\n",
      "\n",
      "Number of Unique Values:  9\n",
      "\n",
      "Distribution of column:\n",
      "\n",
      "40대       91043\n",
      "30대       74047\n",
      "50대       69369\n",
      "60대       31564\n",
      "20대       22765\n",
      "70대        9382\n",
      "80대        1678\n",
      "80대 이상       94\n",
      "10대          58\n",
      "Name: 연령대, dtype: int64\n",
      "\n",
      "-----------------------------------------------------\n",
      "\n",
      "연령대 Distribution\n"
     ]
    },
    {
     "data": {
      "image/png": "[encoded data removed]",
      "text/plain": [
       "<Figure size 432x288 with 1 Axes>"
      ]
     },
     "metadata": {
      "needs_background": "light"
     },
     "output_type": "display_data"
    },
    {
     "name": "stdout",
     "output_type": "stream",
     "text": [
      "\n",
      "-----------------------------------------------------\n",
      "\n",
      "연령대 & 고객구분 Distribution\n"
     ]
    },
    {
     "data": {
      "image/png": "[encoded data removed]",
      "text/plain": [
       "<Figure size 432x288 with 1 Axes>"
      ]
     },
     "metadata": {
      "needs_background": "light"
     },
     "output_type": "display_data"
    }
   ],
   "source": [
    "# 연령대\n",
    "\n",
    "# 연속형 데이터 '연령'을 범주형 데이터 '연령대'로 labeling (pandas cut()함수 이용)\n",
    "# '연령대'칼럼은 '연령'칼럼 앞에 value 모두 0으로 일단 삽입\n",
    "df.insert(2,'연령대',[0 for x in range(300000)])\n",
    "# 범주화\n",
    "df['연령대'] = pd.cut(df['연령'],bins=[0,19,29,39,49,59,69,79,89,100],labels=['10대','20대','30대','40대','50대','60대','70대','80대','80대 이상'])\n",
    "\n",
    "\n",
    "# # 내가 원하는대로 \"연령대\"column이 \"연령\"column 앞에 잘 추가되었나 확인\n",
    "# df.iloc[:, 0:4]\n",
    "\n",
    "column_name = '연령대'\n",
    "user_friendly_name = '연령대'\n",
    "\n",
    "#Get Details\n",
    "get_column_details(df,column_name)\n",
    "\n",
    "# Plot Graph\n",
    "plot_countplot(df,column_name,user_friendly_name)\n",
    "\n",
    "# Stacked bar\n",
    "column1 = column_name\n",
    "column2 = '고객구분'\n",
    "plot_stacked_bar(df,column1,column2,rotation=0)"
   ]
  },
  {
   "cell_type": "code",
   "execution_count": 18,
   "id": "b28f4d55",
   "metadata": {},
   "outputs": [
    {
     "name": "stdout",
     "output_type": "stream",
     "text": [
      "Details of 탈회여부 column\n",
      "\n",
      "DataType:  int64\n",
      "\n",
      "There are no null values\n",
      "\n",
      "Number of Unique Values:  2\n",
      "\n",
      "Distribution of column:\n",
      "\n",
      "0    178046\n",
      "1    121954\n",
      "Name: 탈회여부, dtype: int64\n",
      "\n",
      "-----------------------------------------------------\n",
      "\n",
      "탈회여부 Distribution\n"
     ]
    },
    {
     "data": {
      "image/png": "[encoded data removed]",
      "text/plain": [
       "<Figure size 432x288 with 1 Axes>"
      ]
     },
     "metadata": {
      "needs_background": "light"
     },
     "output_type": "display_data"
    }
   ],
   "source": [
    "column_name = '탈회여부'\n",
    "user_friendly_name = '탈회여부'\n",
    "\n",
    "#Get Details\n",
    "get_column_details(df,column_name)\n",
    "\n",
    "# Plot Graph\n",
    "plot_countplot(df,column_name,user_friendly_name)"
   ]
  },
  {
   "cell_type": "code",
   "execution_count": 19,
   "id": "512424d6",
   "metadata": {},
   "outputs": [
    {
     "name": "stdout",
     "output_type": "stream",
     "text": [
      "Details of 남녀구분코드 column\n",
      "\n",
      "DataType:  int64\n",
      "\n",
      "There are no null values\n",
      "\n",
      "Number of Unique Values:  2\n",
      "\n",
      "Distribution of column:\n",
      "\n",
      "1    157932\n",
      "2    142068\n",
      "Name: 남녀구분코드, dtype: int64\n",
      "\n",
      "-----------------------------------------------------\n",
      "\n",
      "남녀구분코드 Distribution\n"
     ]
    },
    {
     "data": {
      "image/png": "[encoded data removed]",
      "text/plain": [
       "<Figure size 432x288 with 1 Axes>"
      ]
     },
     "metadata": {
      "needs_background": "light"
     },
     "output_type": "display_data"
    }
   ],
   "source": [
    "column_name = '남녀구분코드'\n",
    "user_friendly_name = '남녀구분코드'\n",
    "\n",
    "#Get Details\n",
    "get_column_details(df,column_name)\n",
    "\n",
    "# Plot Graph\n",
    "plot_countplot(df,column_name,user_friendly_name)"
   ]
  },
  {
   "cell_type": "code",
   "execution_count": 20,
   "id": "9ca2371b",
   "metadata": {},
   "outputs": [
    {
     "name": "stdout",
     "output_type": "stream",
     "text": [
      "Details of 소지여부_신용 column\n",
      "\n",
      "DataType:  int64\n",
      "\n",
      "There are no null values\n",
      "\n",
      "Number of Unique Values:  2\n",
      "\n",
      "Distribution of column:\n",
      "\n",
      "1    293922\n",
      "0      6078\n",
      "Name: 소지여부_신용, dtype: int64\n",
      "\n",
      "-----------------------------------------------------\n",
      "\n",
      "소지여부_신용 Distribution\n"
     ]
    },
    {
     "data": {
      "image/png": "[encoded data removed]",
      "text/plain": [
       "<Figure size 432x288 with 1 Axes>"
      ]
     },
     "metadata": {
      "needs_background": "light"
     },
     "output_type": "display_data"
    }
   ],
   "source": [
    "column_name = '소지여부_신용'\n",
    "user_friendly_name = '소지여부_신용'\n",
    "\n",
    "#Get Details\n",
    "get_column_details(df,column_name)\n",
    "\n",
    "# Plot Graph\n",
    "plot_countplot(df,column_name,user_friendly_name)"
   ]
  },
  {
   "cell_type": "code",
   "execution_count": 21,
   "id": "b2b6f204",
   "metadata": {},
   "outputs": [
    {
     "name": "stdout",
     "output_type": "stream",
     "text": [
      "Details of 입회일자_신용 column\n",
      "\n",
      "DataType:  int64\n",
      "\n",
      "There are no null values\n",
      "\n",
      "Number of Unique Values:  8523\n",
      "\n",
      "Distribution of column:\n",
      "\n",
      "20070330    398\n",
      "20180123    350\n",
      "20171010    350\n",
      "20180201    342\n",
      "20180129    335\n",
      "           ... \n",
      "19980922      1\n",
      "19891220      1\n",
      "20020427      1\n",
      "19980410      1\n",
      "19920411      1\n",
      "Name: 입회일자_신용, Length: 8523, dtype: int64\n",
      "\n",
      "-----------------------------------------------------\n",
      "\n",
      "입회일자_신용 Distribution\n"
     ]
    },
    {
     "data": {
      "image/png": "[encoded data removed]",
      "text/plain": [
       "<Figure size 360x360 with 1 Axes>"
      ]
     },
     "metadata": {
      "needs_background": "light"
     },
     "output_type": "display_data"
    }
   ],
   "source": [
    "column_name = '입회일자_신용'\n",
    "user_friendly_name = '입회일자_신용'\n",
    "\n",
    "#Get Details\n",
    "get_column_details(df,column_name)\n",
    "\n",
    "# Displot\n",
    "plot_displot(df,column_name,user_friendly_name,rotation=0,bins=20)"
   ]
  },
  {
   "cell_type": "code",
   "execution_count": 22,
   "id": "09f90edf",
   "metadata": {},
   "outputs": [
    {
     "name": "stdout",
     "output_type": "stream",
     "text": [
      "Details of 입회경과개월수_신용 column\n",
      "\n",
      "DataType:  int64\n",
      "\n",
      "There are no null values\n",
      "\n",
      "Number of Unique Values:  423\n",
      "\n",
      "Distribution of column:\n",
      "\n",
      "12     5866\n",
      "10     5687\n",
      "14     5234\n",
      "13     5139\n",
      "17     5116\n",
      "       ... \n",
      "443       1\n",
      "437       1\n",
      "422       1\n",
      "429       1\n",
      "0         1\n",
      "Name: 입회경과개월수_신용, Length: 423, dtype: int64\n",
      "\n",
      "-----------------------------------------------------\n",
      "\n",
      "입회경과개월수_신용 Distribution\n"
     ]
    },
    {
     "data": {
      "image/png": "[encoded data removed]",
      "text/plain": [
       "<Figure size 432x288 with 1 Axes>"
      ]
     },
     "metadata": {
      "needs_background": "light"
     },
     "output_type": "display_data"
    }
   ],
   "source": [
    "column_name = '입회경과개월수_신용'\n",
    "user_friendly_name = '입회경과개월수_신용'\n",
    "\n",
    "#Get Details\n",
    "get_column_details(df,column_name)\n",
    "\n",
    "# Plot Graph\n",
    "plot_countplot(df,column_name,user_friendly_name)"
   ]
  },
  {
   "cell_type": "code",
   "execution_count": 23,
   "id": "fb753c81",
   "metadata": {},
   "outputs": [
    {
     "name": "stdout",
     "output_type": "stream",
     "text": [
      "Details of 회원여부_연체 column\n",
      "\n",
      "DataType:  int64\n",
      "\n",
      "There are no null values\n",
      "\n",
      "Number of Unique Values:  2\n",
      "\n",
      "Distribution of column:\n",
      "\n",
      "0    296097\n",
      "1      3903\n",
      "Name: 회원여부_연체, dtype: int64\n",
      "\n",
      "-----------------------------------------------------\n",
      "\n",
      "회원여부_연체 Distribution\n"
     ]
    },
    {
     "data": {
      "image/png": "[encoded data removed]",
      "text/plain": [
       "<Figure size 432x288 with 1 Axes>"
      ]
     },
     "metadata": {
      "needs_background": "light"
     },
     "output_type": "display_data"
    }
   ],
   "source": [
    "column_name = '회원여부_연체'\n",
    "user_friendly_name = '회원여부_연체'\n",
    "\n",
    "#Get Details\n",
    "get_column_details(df,column_name)\n",
    "\n",
    "# Plot Graph\n",
    "plot_countplot(df,column_name,user_friendly_name)"
   ]
  },
  {
   "cell_type": "code",
   "execution_count": 24,
   "id": "ff8233ba",
   "metadata": {},
   "outputs": [
    {
     "name": "stdout",
     "output_type": "stream",
     "text": [
      "Details of 수신거부여부_TM column\n",
      "\n",
      "DataType:  int64\n",
      "\n",
      "There are no null values\n",
      "\n",
      "Number of Unique Values:  2\n",
      "\n",
      "Distribution of column:\n",
      "\n",
      "0    186041\n",
      "1    113959\n",
      "Name: 수신거부여부_TM, dtype: int64\n",
      "\n",
      "-----------------------------------------------------\n",
      "\n",
      "수신거부여부_TM Distribution\n"
     ]
    },
    {
     "data": {
      "image/png": "[encoded data removed]",
      "text/plain": [
       "<Figure size 432x288 with 1 Axes>"
      ]
     },
     "metadata": {
      "needs_background": "light"
     },
     "output_type": "display_data"
    }
   ],
   "source": [
    "column_name = '수신거부여부_TM'\n",
    "user_friendly_name = '수신거부여부_TM'\n",
    "\n",
    "#Get Details\n",
    "get_column_details(df,column_name)\n",
    "\n",
    "# Plot Graph\n",
    "plot_countplot(df,column_name,user_friendly_name)"
   ]
  },
  {
   "cell_type": "code",
   "execution_count": 25,
   "id": "3eeea3f5",
   "metadata": {},
   "outputs": [
    {
     "name": "stdout",
     "output_type": "stream",
     "text": [
      "Details of 수신거부여부_DM column\n",
      "\n",
      "DataType:  int64\n",
      "\n",
      "There are no null values\n",
      "\n",
      "Number of Unique Values:  2\n",
      "\n",
      "Distribution of column:\n",
      "\n",
      "0    203088\n",
      "1     96912\n",
      "Name: 수신거부여부_DM, dtype: int64\n",
      "\n",
      "-----------------------------------------------------\n",
      "\n",
      "수신거부여부_DM Distribution\n"
     ]
    },
    {
     "data": {
      "image/png": "[encoded data removed]",
      "text/plain": [
       "<Figure size 432x288 with 1 Axes>"
      ]
     },
     "metadata": {
      "needs_background": "light"
     },
     "output_type": "display_data"
    }
   ],
   "source": [
    "column_name = '수신거부여부_DM'\n",
    "user_friendly_name = '수신거부여부_DM'\n",
    "\n",
    "#Get Details\n",
    "get_column_details(df,column_name)\n",
    "\n",
    "# Plot Graph\n",
    "plot_countplot(df,column_name,user_friendly_name)"
   ]
  },
  {
   "cell_type": "code",
   "execution_count": 26,
   "id": "ad289265",
   "metadata": {},
   "outputs": [
    {
     "name": "stdout",
     "output_type": "stream",
     "text": [
      "Details of 수신거부여부_메일 column\n",
      "\n",
      "DataType:  int64\n",
      "\n",
      "There are no null values\n",
      "\n",
      "Number of Unique Values:  2\n",
      "\n",
      "Distribution of column:\n",
      "\n",
      "0    201866\n",
      "1     98134\n",
      "Name: 수신거부여부_메일, dtype: int64\n",
      "\n",
      "-----------------------------------------------------\n",
      "\n",
      "수신거부여부_메일 Distribution\n"
     ]
    },
    {
     "data": {
      "image/png": "[encoded data removed]",
      "text/plain": [
       "<Figure size 432x288 with 1 Axes>"
      ]
     },
     "metadata": {
      "needs_background": "light"
     },
     "output_type": "display_data"
    }
   ],
   "source": [
    "column_name = '수신거부여부_메일'\n",
    "user_friendly_name = '수신거부여부_메일'\n",
    "\n",
    "#Get Details\n",
    "get_column_details(df,column_name)\n",
    "\n",
    "# Plot Graph\n",
    "plot_countplot(df,column_name,user_friendly_name)"
   ]
  },
  {
   "cell_type": "code",
   "execution_count": 27,
   "id": "bba2952e",
   "metadata": {},
   "outputs": [
    {
     "name": "stdout",
     "output_type": "stream",
     "text": [
      "Details of 수신거부여부_SMS column\n",
      "\n",
      "DataType:  int64\n",
      "\n",
      "There are no null values\n",
      "\n",
      "Number of Unique Values:  2\n",
      "\n",
      "Distribution of column:\n",
      "\n",
      "0    187467\n",
      "1    112533\n",
      "Name: 수신거부여부_SMS, dtype: int64\n",
      "\n",
      "-----------------------------------------------------\n",
      "\n",
      "수신거부여부_SMS Distribution\n"
     ]
    },
    {
     "data": {
      "image/png": "[encoded data removed]",
      "text/plain": [
       "<Figure size 432x288 with 1 Axes>"
      ]
     },
     "metadata": {
      "needs_background": "light"
     },
     "output_type": "display_data"
    }
   ],
   "source": [
    "column_name = '수신거부여부_SMS'\n",
    "user_friendly_name = '수신거부여부_SMS'\n",
    "\n",
    "#Get Details\n",
    "get_column_details(df,column_name)\n",
    "\n",
    "# Plot Graph\n",
    "plot_countplot(df,column_name,user_friendly_name)"
   ]
  },
  {
   "cell_type": "code",
   "execution_count": 28,
   "id": "ed89d45e",
   "metadata": {},
   "outputs": [
    {
     "name": "stdout",
     "output_type": "stream",
     "text": [
      "Details of 자격기준 column\n",
      "\n",
      "DataType:  object\n",
      "\n",
      "There are no null values\n",
      "\n",
      "Number of Unique Values:  13\n",
      "\n",
      "Distribution of column:\n",
      "\n",
      "06.기업체     79838\n",
      "08.은행거래    78590\n",
      "11.자영업자    62562\n",
      "01.공무원     16083\n",
      "02.교육기관    11310\n",
      "04.의료기관    10215\n",
      "12.체크전환    10166\n",
      "99.기타       8921\n",
      "10.배우자      7241\n",
      "03.금융기관     6299\n",
      "07.소기업      6284\n",
      "09.전문직      1785\n",
      "05.언론기관      706\n",
      "Name: 자격기준, dtype: int64\n",
      "\n",
      "-----------------------------------------------------\n",
      "\n",
      "자격기준 Distribution\n"
     ]
    },
    {
     "data": {
      "image/png": "[encoded data removed]",
      "text/plain": [
       "<Figure size 432x288 with 1 Axes>"
      ]
     },
     "metadata": {
      "needs_background": "light"
     },
     "output_type": "display_data"
    },
    {
     "name": "stdout",
     "output_type": "stream",
     "text": [
      "\n",
      "-----------------------------------------------------\n",
      "\n",
      "자격기준 & 고객구분 Distribution\n"
     ]
    },
    {
     "data": {
      "image/png": "[encoded data removed]",
      "text/plain": [
       "<Figure size 432x288 with 1 Axes>"
      ]
     },
     "metadata": {
      "needs_background": "light"
     },
     "output_type": "display_data"
    }
   ],
   "source": [
    "column_name = '자격기준'\n",
    "user_friendly_name = '자격기준'\n",
    "\n",
    "#Get Details\n",
    "get_column_details(df,column_name)\n",
    "\n",
    "# Plot Graph\n",
    "plot_countplot(df,column_name,user_friendly_name)\n",
    "\n",
    "# Stacked_Bar\n",
    "column1 = column_name\n",
    "column2 = '고객구분'\n",
    "plot_stacked_bar(df,column1,column2,rotation=0)"
   ]
  },
  {
   "cell_type": "code",
   "execution_count": 29,
   "id": "f3f94cf4",
   "metadata": {},
   "outputs": [
    {
     "name": "stdout",
     "output_type": "stream",
     "text": [
      "Details of 자격구분상세 column\n",
      "\n",
      "DataType:  object\n",
      "\n",
      "There are no null values\n",
      "\n",
      "Number of Unique Values:  44\n",
      "\n",
      "Distribution of column:\n",
      "\n",
      "08.은행거래_수신평잔                    61493\n",
      "10.부동산보유                        35972\n",
      "06.기업체_개인사업체임의단체연소득2.4천이상       24937\n",
      "99.기타                           23101\n",
      "06.기업체_납입자본금3억이상중소기업            20110\n",
      "06.기업체_30대그룹계열사및상장법인            19073\n",
      "06.기업체_납입자본금3억미만중소기업            13111\n",
      "07.소기업                          12213\n",
      "13.체크전환                         10166\n",
      "01.공무원_일반                        8230\n",
      "08.은행거래_부동산담보대출                  7925\n",
      "11.배우자                           7241\n",
      "01.공무원_정부투자공공기관                  6673\n",
      "08.은행거래_신용대출                     6179\n",
      "02.교육기관_초중고교사                    4840\n",
      "04.의료기관_의료관련면허소시자                4113\n",
      "04.의료기관                          3207\n",
      "00.SK제휴사                         3099\n",
      "14.사업소득                          3052\n",
      "04.의료기관_의사약사한의사                  2895\n",
      "03.금융기관_은행증권보험은행연합회              2662\n",
      "06.기업체_코스닥등록기업                   2043\n",
      "08.은행거래_급여이체                     2019\n",
      "02.교육기관_유치원어린이집                  1869\n",
      "00.하나카드및관계사                      1544\n",
      "02.교육기관_학교법인직원                   1532\n",
      "02.교육기관_대학교교원                    1464\n",
      "03.금융기관_여신전문금융기관                 1310\n",
      "02.교육기관_학원강사                     1256\n",
      "01.공무원_군인                        1180\n",
      "09.전문직                            966\n",
      "08.은행거래_수신평잔3천이상                  814\n",
      "05.언론기관                           706\n",
      "03.금융기관_금고저축은행신협상호금융              696\n",
      "06.기업체                            564\n",
      "09.전문직_공인회계사기술사건축사세무사             438\n",
      "02.교육기관_학술연구단체                    349\n",
      "09.전문직_변호사변리사                     197\n",
      "09.전문직_손해사정인법무사노무사통역사행정사보험계리      184\n",
      "08.은행거래_하나대투거래                    165\n",
      "12.자영업자                           165\n",
      "08.은행거래                           145\n",
      "03.금융기관                            87\n",
      "08.은행거래_하나저축은행거래                   15\n",
      "Name: 자격구분상세, dtype: int64\n",
      "\n",
      "-----------------------------------------------------\n",
      "\n",
      "자격구분상세 Distribution\n"
     ]
    },
    {
     "data": {
      "image/png": "[encoded data removed]",
      "text/plain": [
       "<Figure size 432x288 with 1 Axes>"
      ]
     },
     "metadata": {
      "needs_background": "light"
     },
     "output_type": "display_data"
    }
   ],
   "source": [
    "column_name = '자격구분상세'\n",
    "user_friendly_name = '자격구분상세'\n",
    "\n",
    "#Get Details\n",
    "get_column_details(df,column_name)\n",
    "\n",
    "# Plot Graph\n",
    "plot_countplot(df,column_name,user_friendly_name)"
   ]
  },
  {
   "cell_type": "code",
   "execution_count": 30,
   "id": "803633c1",
   "metadata": {},
   "outputs": [
    {
     "name": "stdout",
     "output_type": "stream",
     "text": [
      "Details of 연회비청구구분_B0M column\n",
      "\n",
      "DataType:  object\n",
      "\n",
      "There are no null values\n",
      "\n",
      "Number of Unique Values:  4\n",
      "\n",
      "Distribution of column:\n",
      "\n",
      "4.미청구     274205\n",
      "1.정상청구     19384\n",
      "3.면제        5643\n",
      "2.할인청구       768\n",
      "Name: 연회비청구구분_B0M, dtype: int64\n",
      "\n",
      "-----------------------------------------------------\n",
      "\n",
      "연회비청구구분_B0M Distribution\n"
     ]
    },
    {
     "data": {
      "image/png": "[encoded data removed]",
      "text/plain": [
       "<Figure size 432x288 with 1 Axes>"
      ]
     },
     "metadata": {
      "needs_background": "light"
     },
     "output_type": "display_data"
    }
   ],
   "source": [
    "column_name = '연회비청구구분_B0M'\n",
    "user_friendly_name = '연회비청구구분_B0M'\n",
    "\n",
    "#Get Details\n",
    "get_column_details(df,column_name)\n",
    "\n",
    "# Plot Graph\n",
    "plot_countplot(df,column_name,user_friendly_name)"
   ]
  },
  {
   "cell_type": "code",
   "execution_count": 31,
   "id": "8e2718f8",
   "metadata": {},
   "outputs": [
    {
     "name": "stdout",
     "output_type": "stream",
     "text": [
      "Details of BL여부_R12M column\n",
      "\n",
      "DataType:  int64\n",
      "\n",
      "There are no null values\n",
      "\n",
      "Number of Unique Values:  2\n",
      "\n",
      "Distribution of column:\n",
      "\n",
      "0    295761\n",
      "1      4239\n",
      "Name: BL여부_R12M, dtype: int64\n",
      "\n",
      "-----------------------------------------------------\n",
      "\n",
      "BL여부_R12M Distribution\n"
     ]
    },
    {
     "data": {
      "image/png": "[encoded data removed]",
      "text/plain": [
       "<Figure size 432x288 with 1 Axes>"
      ]
     },
     "metadata": {
      "needs_background": "light"
     },
     "output_type": "display_data"
    }
   ],
   "source": [
    "column_name = 'BL여부_R12M'\n",
    "user_friendly_name = 'BL여부_R12M'\n",
    "\n",
    "#Get Details\n",
    "get_column_details(df,column_name)\n",
    "\n",
    "# Plot Graph\n",
    "plot_countplot(df,column_name,user_friendly_name)"
   ]
  },
  {
   "cell_type": "code",
   "execution_count": 32,
   "id": "92a0c2a3",
   "metadata": {},
   "outputs": [
    {
     "name": "stdout",
     "output_type": "stream",
     "text": [
      "Details of 탈회횟수_누적 column\n",
      "\n",
      "DataType:  int64\n",
      "\n",
      "There are no null values\n",
      "\n",
      "Number of Unique Values:  12\n",
      "\n",
      "Distribution of column:\n",
      "\n",
      "0     178046\n",
      "1      94170\n",
      "2      23184\n",
      "3       3837\n",
      "4        608\n",
      "5        102\n",
      "6         38\n",
      "7         11\n",
      "8          1\n",
      "10         1\n",
      "11         1\n",
      "12         1\n",
      "Name: 탈회횟수_누적, dtype: int64\n",
      "\n",
      "-----------------------------------------------------\n",
      "\n",
      "탈회횟수_누적 Distribution\n"
     ]
    },
    {
     "data": {
      "image/png": "[encoded data removed]",
      "text/plain": [
       "<Figure size 432x288 with 1 Axes>"
      ]
     },
     "metadata": {
      "needs_background": "light"
     },
     "output_type": "display_data"
    }
   ],
   "source": [
    "column_name = '탈회횟수_누적'\n",
    "user_friendly_name = '탈회횟수_누적'\n",
    "\n",
    "#Get Details\n",
    "get_column_details(df,column_name)\n",
    "\n",
    "# Plot Graph\n",
    "plot_countplot(df,column_name,user_friendly_name)"
   ]
  },
  {
   "cell_type": "code",
   "execution_count": 33,
   "id": "21b8e290",
   "metadata": {},
   "outputs": [
    {
     "name": "stdout",
     "output_type": "stream",
     "text": [
      "Details of 탈회횟수_발급1년이내 column\n",
      "\n",
      "DataType:  int64\n",
      "\n",
      "There are no null values\n",
      "\n",
      "Number of Unique Values:  10\n",
      "\n",
      "Distribution of column:\n",
      "\n",
      "0     280938\n",
      "1      16597\n",
      "2       1943\n",
      "3        392\n",
      "4         83\n",
      "5         28\n",
      "6         13\n",
      "7          4\n",
      "11         1\n",
      "12         1\n",
      "Name: 탈회횟수_발급1년이내, dtype: int64\n",
      "\n",
      "-----------------------------------------------------\n",
      "\n",
      "탈회횟수_발급1년이내 Distribution\n"
     ]
    },
    {
     "data": {
      "image/png": "[encoded data removed]",
      "text/plain": [
       "<Figure size 432x288 with 1 Axes>"
      ]
     },
     "metadata": {
      "needs_background": "light"
     },
     "output_type": "display_data"
    }
   ],
   "source": [
    "column_name = '탈회횟수_발급1년이내'\n",
    "user_friendly_name = '탈회횟수_발급1년이내'\n",
    "\n",
    "#Get Details\n",
    "get_column_details(df,column_name)\n",
    "\n",
    "# Plot Graph\n",
    "plot_countplot(df,column_name,user_friendly_name)"
   ]
  },
  {
   "cell_type": "code",
   "execution_count": 34,
   "id": "bf68a449",
   "metadata": {},
   "outputs": [
    {
     "name": "stdout",
     "output_type": "stream",
     "text": [
      "Details of 거주시도명 column\n",
      "\n",
      "DataType:  object\n",
      "\n",
      "There are no null values\n",
      "\n",
      "Number of Unique Values:  16\n",
      "\n",
      "Distribution of column:\n",
      "\n",
      "경기    83450\n",
      "서울    83061\n",
      "부산    17817\n",
      "인천    16967\n",
      "대전    16208\n",
      "경남    12521\n",
      "대구    11132\n",
      "경북     9744\n",
      "충남     9447\n",
      "전북     7361\n",
      "광주     7012\n",
      "울산     6654\n",
      "충북     5799\n",
      "전남     5789\n",
      "강원     4847\n",
      "제주     2191\n",
      "Name: 거주시도명, dtype: int64\n",
      "\n",
      "-----------------------------------------------------\n",
      "\n",
      "거주시도명 Distribution\n"
     ]
    },
    {
     "data": {
      "image/png": "[encoded data removed]",
      "text/plain": [
       "<Figure size 432x288 with 1 Axes>"
      ]
     },
     "metadata": {
      "needs_background": "light"
     },
     "output_type": "display_data"
    }
   ],
   "source": [
    "column_name = '거주시도명'\n",
    "user_friendly_name = '거주시도명'\n",
    "\n",
    "#Get Details\n",
    "get_column_details(df,column_name)\n",
    "\n",
    "# Plot Graph\n",
    "plot_countplot(df,column_name,user_friendly_name)"
   ]
  },
  {
   "cell_type": "code",
   "execution_count": 35,
   "id": "63315bbe",
   "metadata": {},
   "outputs": [
    {
     "name": "stdout",
     "output_type": "stream",
     "text": [
      "Details of 거주시군구명 column\n",
      "\n",
      "DataType:  object\n",
      "\n",
      "There are no null values\n",
      "\n",
      "Number of Unique Values:  210\n",
      "\n",
      "Distribution of column:\n",
      "\n",
      "서구     11222\n",
      "성남시     8388\n",
      "용인시     8334\n",
      "고양시     8306\n",
      "수원시     7944\n",
      "       ...  \n",
      "울릉군       16\n",
      "당진군        4\n",
      "청원군        3\n",
      "마산시        1\n",
      "여주군        1\n",
      "Name: 거주시군구명, Length: 210, dtype: int64\n",
      "\n",
      "-----------------------------------------------------\n",
      "\n",
      "거주시군구명 Distribution\n"
     ]
    },
    {
     "data": {
      "image/png": "[encoded data removed]",
      "text/plain": [
       "<Figure size 432x288 with 1 Axes>"
      ]
     },
     "metadata": {
      "needs_background": "light"
     },
     "output_type": "display_data"
    }
   ],
   "source": [
    "column_name = '거주시군구명'\n",
    "user_friendly_name = '거주시군구명'\n",
    "\n",
    "#Get Details\n",
    "get_column_details(df,column_name)\n",
    "\n",
    "# Plot Graph\n",
    "plot_countplot(df,column_name,user_friendly_name)"
   ]
  },
  {
   "cell_type": "code",
   "execution_count": 36,
   "id": "f54c3750",
   "metadata": {},
   "outputs": [
    {
     "name": "stdout",
     "output_type": "stream",
     "text": [
      "Details of 직장시도명 column\n",
      "\n",
      "DataType:  object\n",
      "\n",
      "There are  55665  null values\n",
      "\n",
      "Number of Unique Values:  17\n",
      "\n",
      "Distribution of column:\n",
      "\n",
      "서울    81913\n",
      "경기    55254\n",
      "부산    13575\n",
      "대전    11723\n",
      "인천    11579\n",
      "경남    10324\n",
      "경북     9180\n",
      "충남     8542\n",
      "대구     8392\n",
      "전북     6227\n",
      "울산     5669\n",
      "광주     5326\n",
      "전남     5102\n",
      "충북     5093\n",
      "강원     4166\n",
      "제주     1773\n",
      "세종      497\n",
      "Name: 직장시도명, dtype: int64\n",
      "\n",
      "-----------------------------------------------------\n",
      "\n",
      "직장시도명 Distribution\n"
     ]
    },
    {
     "data": {
      "image/png": "[encoded data removed]",
      "text/plain": [
       "<Figure size 432x288 with 1 Axes>"
      ]
     },
     "metadata": {
      "needs_background": "light"
     },
     "output_type": "display_data"
    }
   ],
   "source": [
    "column_name = '직장시도명'\n",
    "user_friendly_name = '직장시도명'\n",
    "\n",
    "#Get Details\n",
    "get_column_details(df,column_name)\n",
    "\n",
    "# Plot Graph\n",
    "plot_countplot(df,column_name,user_friendly_name)"
   ]
  },
  {
   "cell_type": "code",
   "execution_count": 37,
   "id": "548c05a5",
   "metadata": {},
   "outputs": [
    {
     "name": "stdout",
     "output_type": "stream",
     "text": [
      "Details of 직장시군구명 column\n",
      "\n",
      "DataType:  object\n",
      "\n",
      "There are  56162  null values\n",
      "\n",
      "Number of Unique Values:  209\n",
      "\n",
      "Distribution of column:\n",
      "\n",
      "중구      13237\n",
      "강남구     12748\n",
      "서구       7806\n",
      "서초구      7150\n",
      "성남시      6772\n",
      "        ...  \n",
      "울릉군        16\n",
      "영양군        15\n",
      "청원군         1\n",
      "여주군         1\n",
      "북제주군        1\n",
      "Name: 직장시군구명, Length: 209, dtype: int64\n",
      "\n",
      "-----------------------------------------------------\n",
      "\n",
      "직장시군구명 Distribution\n"
     ]
    },
    {
     "data": {
      "image/png": "[encoded data removed]",
      "text/plain": [
       "<Figure size 432x288 with 1 Axes>"
      ]
     },
     "metadata": {
      "needs_background": "light"
     },
     "output_type": "display_data"
    }
   ],
   "source": [
    "column_name = '직장시군구명'\n",
    "user_friendly_name = '직장시군구명'\n",
    "\n",
    "#Get Details\n",
    "get_column_details(df,column_name)\n",
    "\n",
    "# Plot Graph\n",
    "plot_countplot(df,column_name,user_friendly_name)"
   ]
  },
  {
   "cell_type": "code",
   "execution_count": 38,
   "id": "82292333",
   "metadata": {},
   "outputs": [
    {
     "name": "stdout",
     "output_type": "stream",
     "text": [
      "Details of 마케팅동의여부 column\n",
      "\n",
      "DataType:  int64\n",
      "\n",
      "There are no null values\n",
      "\n",
      "Number of Unique Values:  2\n",
      "\n",
      "Distribution of column:\n",
      "\n",
      "1    240503\n",
      "0     59497\n",
      "Name: 마케팅동의여부, dtype: int64\n",
      "\n",
      "-----------------------------------------------------\n",
      "\n",
      "마케팅동의여부 Distribution\n"
     ]
    },
    {
     "data": {
      "image/png": "[encoded data removed]",
      "text/plain": [
       "<Figure size 432x288 with 1 Axes>"
      ]
     },
     "metadata": {
      "needs_background": "light"
     },
     "output_type": "display_data"
    }
   ],
   "source": [
    "column_name = '마케팅동의여부'\n",
    "user_friendly_name = '마케팅동의여부'\n",
    "\n",
    "#Get Details\n",
    "get_column_details(df,column_name)\n",
    "\n",
    "# Plot Graph\n",
    "plot_countplot(df,column_name,user_friendly_name)"
   ]
  },
  {
   "cell_type": "code",
   "execution_count": 39,
   "id": "c9cbef12",
   "metadata": {},
   "outputs": [
    {
     "name": "stdout",
     "output_type": "stream",
     "text": [
      "Details of 유효카드수_신용체크 column\n",
      "\n",
      "DataType:  int64\n",
      "\n",
      "There are no null values\n",
      "\n",
      "Number of Unique Values:  28\n",
      "\n",
      "Distribution of column:\n",
      "\n",
      "1     117811\n",
      "2      92065\n",
      "3      47798\n",
      "4      22736\n",
      "5      10454\n",
      "6       4895\n",
      "7       2110\n",
      "8        991\n",
      "9        522\n",
      "10       256\n",
      "11       150\n",
      "12        77\n",
      "13        55\n",
      "14        27\n",
      "15        14\n",
      "16        13\n",
      "18         9\n",
      "17         4\n",
      "19         2\n",
      "20         2\n",
      "25         2\n",
      "21         1\n",
      "24         1\n",
      "26         1\n",
      "27         1\n",
      "28         1\n",
      "31         1\n",
      "37         1\n",
      "Name: 유효카드수_신용체크, dtype: int64\n",
      "\n",
      "-----------------------------------------------------\n",
      "\n",
      "유효카드수_신용체크 Distribution\n"
     ]
    },
    {
     "data": {
      "image/png": "[encoded data removed]",
      "text/plain": [
       "<Figure size 432x288 with 1 Axes>"
      ]
     },
     "metadata": {
      "needs_background": "light"
     },
     "output_type": "display_data"
    }
   ],
   "source": [
    "column_name = '유효카드수_신용체크'\n",
    "user_friendly_name = '유효카드수_신용체크'\n",
    "\n",
    "#Get Details\n",
    "get_column_details(df,column_name)\n",
    "\n",
    "# Plot Graph\n",
    "plot_countplot(df,column_name,user_friendly_name)"
   ]
  },
  {
   "cell_type": "code",
   "execution_count": 40,
   "id": "9050bef4",
   "metadata": {},
   "outputs": [
    {
     "name": "stdout",
     "output_type": "stream",
     "text": [
      "Details of 유효카드수_신용 column\n",
      "\n",
      "DataType:  int64\n",
      "\n",
      "There are no null values\n",
      "\n",
      "Number of Unique Values:  23\n",
      "\n",
      "Distribution of column:\n",
      "\n",
      "1     183340\n",
      "2      74630\n",
      "3      22153\n",
      "4       8256\n",
      "0       6078\n",
      "5       3300\n",
      "6       1235\n",
      "7        505\n",
      "8        253\n",
      "9        108\n",
      "10        62\n",
      "11        27\n",
      "12        22\n",
      "13        15\n",
      "14         6\n",
      "15         2\n",
      "17         2\n",
      "18         1\n",
      "20         1\n",
      "24         1\n",
      "26         1\n",
      "30         1\n",
      "32         1\n",
      "Name: 유효카드수_신용, dtype: int64\n",
      "\n",
      "-----------------------------------------------------\n",
      "\n",
      "유효카드수_신용 Distribution\n"
     ]
    },
    {
     "data": {
      "image/png": "[encoded data removed]",
      "text/plain": [
       "<Figure size 432x288 with 1 Axes>"
      ]
     },
     "metadata": {
      "needs_background": "light"
     },
     "output_type": "display_data"
    }
   ],
   "source": [
    "column_name = '유효카드수_신용'\n",
    "user_friendly_name = '유효카드수_신용'\n",
    "\n",
    "#Get Details\n",
    "get_column_details(df,column_name)\n",
    "\n",
    "# Plot Graph\n",
    "plot_countplot(df,column_name,user_friendly_name)"
   ]
  },
  {
   "cell_type": "code",
   "execution_count": 41,
   "id": "d9d8542e",
   "metadata": {},
   "outputs": [
    {
     "name": "stdout",
     "output_type": "stream",
     "text": [
      "Details of 유효카드수_체크 column\n",
      "\n",
      "DataType:  int64\n",
      "\n",
      "There are no null values\n",
      "\n",
      "Number of Unique Values:  16\n",
      "\n",
      "Distribution of column:\n",
      "\n",
      "0     173989\n",
      "1      84999\n",
      "2      27281\n",
      "3       8959\n",
      "4       3061\n",
      "5       1073\n",
      "6        400\n",
      "7        136\n",
      "8         59\n",
      "9         24\n",
      "10         7\n",
      "11         5\n",
      "14         4\n",
      "12         1\n",
      "16         1\n",
      "18         1\n",
      "Name: 유효카드수_체크, dtype: int64\n",
      "\n",
      "-----------------------------------------------------\n",
      "\n",
      "유효카드수_체크 Distribution\n"
     ]
    },
    {
     "data": {
      "image/png": "[encoded data removed]",
      "text/plain": [
       "<Figure size 432x288 with 1 Axes>"
      ]
     },
     "metadata": {
      "needs_background": "light"
     },
     "output_type": "display_data"
    }
   ],
   "source": [
    "column_name = '유효카드수_체크'\n",
    "user_friendly_name = '유효카드수_체크'\n",
    "\n",
    "#Get Details\n",
    "get_column_details(df,column_name)\n",
    "\n",
    "# Plot Graph\n",
    "plot_countplot(df,column_name,user_friendly_name)"
   ]
  },
  {
   "cell_type": "code",
   "execution_count": 42,
   "id": "014e4614",
   "metadata": {},
   "outputs": [
    {
     "name": "stdout",
     "output_type": "stream",
     "text": [
      "Details of 이용금액_R3M_신용체크 column\n",
      "\n",
      "DataType:  int64\n",
      "\n",
      "There are no null values\n",
      "\n",
      "Number of Unique Values:  196913\n",
      "\n",
      "Distribution of column:\n",
      "\n",
      "0          45960\n",
      "900         6398\n",
      "1800        1667\n",
      "2700        1462\n",
      "600         1012\n",
      "           ...  \n",
      "2934210        1\n",
      "3448265        1\n",
      "1344970        1\n",
      "822731         1\n",
      "1576958        1\n",
      "Name: 이용금액_R3M_신용체크, Length: 196913, dtype: int64\n"
     ]
    }
   ],
   "source": [
    "column_name = '이용금액_R3M_신용체크'\n",
    "user_friendly_name = '이용금액_R3M_신용체크'\n",
    "\n",
    "#Get Details\n",
    "get_column_details(df,column_name)\n",
    "\n"
   ]
  },
  {
   "cell_type": "code",
   "execution_count": 43,
   "id": "0de0e5f7",
   "metadata": {},
   "outputs": [
    {
     "name": "stdout",
     "output_type": "stream",
     "text": [
      "Details of 이용금액_R3M_신용 column\n",
      "\n",
      "DataType:  int64\n",
      "\n",
      "There are no null values\n",
      "\n",
      "Number of Unique Values:  186521\n",
      "\n",
      "Distribution of column:\n",
      "\n",
      "0          51863\n",
      "900         7364\n",
      "1800        1891\n",
      "2700        1635\n",
      "600         1194\n",
      "           ...  \n",
      "2486247        1\n",
      "5085160        1\n",
      "4055370        1\n",
      "1423340        1\n",
      "1703650        1\n",
      "Name: 이용금액_R3M_신용, Length: 186521, dtype: int64\n"
     ]
    }
   ],
   "source": [
    "column_name = '이용금액_R3M_신용'\n",
    "user_friendly_name = '이용금액_R3M_신용'\n",
    "\n",
    "#Get Details\n",
    "get_column_details(df,column_name)\n",
    "\n"
   ]
  },
  {
   "cell_type": "code",
   "execution_count": 44,
   "id": "d351c024",
   "metadata": {},
   "outputs": [
    {
     "name": "stdout",
     "output_type": "stream",
     "text": [
      "Details of 이용금액_R3M_체크 column\n",
      "\n",
      "DataType:  int64\n",
      "\n",
      "There are no null values\n",
      "\n",
      "Number of Unique Values:  38902\n",
      "\n",
      "Distribution of column:\n",
      "\n",
      "0          250898\n",
      "10000         107\n",
      "4500           96\n",
      "30000          95\n",
      "50000          81\n",
      "            ...  \n",
      "552020          1\n",
      "130150          1\n",
      "1162350         1\n",
      "613490          1\n",
      "1093610         1\n",
      "Name: 이용금액_R3M_체크, Length: 38902, dtype: int64\n"
     ]
    }
   ],
   "source": [
    "column_name = '이용금액_R3M_체크'\n",
    "user_friendly_name = '이용금액_R3M_체크'\n",
    "\n",
    "#Get Details\n",
    "get_column_details(df,column_name)\n",
    "\n"
   ]
  },
  {
   "cell_type": "code",
   "execution_count": 45,
   "id": "55cc39e3",
   "metadata": {},
   "outputs": [
    {
     "name": "stdout",
     "output_type": "stream",
     "text": [
      "Details of _1순위카드ID column\n",
      "\n",
      "DataType:  int64\n",
      "\n",
      "There are no null values\n",
      "\n",
      "Number of Unique Values:  1743\n",
      "\n",
      "Distribution of column:\n",
      "\n",
      "136     18737\n",
      "156     17092\n",
      "229     11856\n",
      "1561     9769\n",
      "126      9097\n",
      "        ...  \n",
      "362         1\n",
      "620         1\n",
      "1644        1\n",
      "365         1\n",
      "256         1\n",
      "Name: _1순위카드ID, Length: 1743, dtype: int64\n"
     ]
    }
   ],
   "source": [
    "column_name = '_1순위카드ID'\n",
    "user_friendly_name = '_1순위카드ID'\n",
    "\n",
    "#Get Details\n",
    "get_column_details(df,column_name)\n",
    "\n"
   ]
  },
  {
   "cell_type": "code",
   "execution_count": 46,
   "id": "5c22288f",
   "metadata": {},
   "outputs": [
    {
     "name": "stdout",
     "output_type": "stream",
     "text": [
      "Details of _1순위카드이용금액 column\n",
      "\n",
      "DataType:  int64\n",
      "\n",
      "There are no null values\n",
      "\n",
      "Number of Unique Values:  181490\n",
      "\n",
      "Distribution of column:\n",
      "\n",
      "0          52030\n",
      "900         9201\n",
      "2700        2175\n",
      "600         1235\n",
      "300         1077\n",
      "           ...  \n",
      "851140         1\n",
      "1369287        1\n",
      "3980492        1\n",
      "1334480        1\n",
      "4724733        1\n",
      "Name: _1순위카드이용금액, Length: 181490, dtype: int64\n"
     ]
    }
   ],
   "source": [
    "column_name = '_1순위카드이용금액'\n",
    "user_friendly_name = '_1순위카드이용금액'\n",
    "\n",
    "#Get Details\n",
    "get_column_details(df,column_name)\n"
   ]
  },
  {
   "cell_type": "code",
   "execution_count": 47,
   "id": "455818b9",
   "metadata": {},
   "outputs": [
    {
     "name": "stdout",
     "output_type": "stream",
     "text": [
      "Details of _1순위카드이용건수 column\n",
      "\n",
      "DataType:  int64\n",
      "\n",
      "There are no null values\n",
      "\n",
      "Number of Unique Values:  572\n",
      "\n",
      "Distribution of column:\n",
      "\n",
      "0      52044\n",
      "3      24766\n",
      "1       7896\n",
      "6       7710\n",
      "2       6484\n",
      "       ...  \n",
      "574        1\n",
      "478        1\n",
      "596        1\n",
      "477        1\n",
      "511        1\n",
      "Name: _1순위카드이용건수, Length: 572, dtype: int64\n"
     ]
    }
   ],
   "source": [
    "column_name = '_1순위카드이용건수'\n",
    "user_friendly_name = '_1순위카드이용건수'\n",
    "\n",
    "#Get Details\n",
    "get_column_details(df,column_name)\n"
   ]
  },
  {
   "cell_type": "code",
   "execution_count": 48,
   "id": "1ad9a1a1",
   "metadata": {},
   "outputs": [
    {
     "name": "stdout",
     "output_type": "stream",
     "text": [
      "Details of _1순위신용체크구분 column\n",
      "\n",
      "DataType:  object\n",
      "\n",
      "There are no null values\n",
      "\n",
      "Number of Unique Values:  2\n",
      "\n",
      "Distribution of column:\n",
      "\n",
      "신용    284204\n",
      "체크     15796\n",
      "Name: _1순위신용체크구분, dtype: int64\n",
      "\n",
      "-----------------------------------------------------\n",
      "\n",
      "_1순위신용체크구분 Distribution\n"
     ]
    },
    {
     "data": {
      "image/png": "[encoded data removed]",
      "text/plain": [
       "<Figure size 432x288 with 1 Axes>"
      ]
     },
     "metadata": {
      "needs_background": "light"
     },
     "output_type": "display_data"
    }
   ],
   "source": [
    "column_name = '_1순위신용체크구분'\n",
    "user_friendly_name = '_1순위신용체크구분'\n",
    "\n",
    "#Get Details\n",
    "get_column_details(df,column_name)\n",
    "\n",
    "# Plot Graph\n",
    "plot_countplot(df,column_name,user_friendly_name)"
   ]
  },
  {
   "cell_type": "code",
   "execution_count": 49,
   "id": "658b2d7e",
   "metadata": {},
   "outputs": [
    {
     "name": "stdout",
     "output_type": "stream",
     "text": [
      "Details of 기본연회비_B0M column\n",
      "\n",
      "DataType:  int64\n",
      "\n",
      "There are no null values\n",
      "\n",
      "Number of Unique Values:  65\n",
      "\n",
      "Distribution of column:\n",
      "\n",
      "0         275303\n",
      "5000        6767\n",
      "10000       4754\n",
      "8000        3545\n",
      "12000       2356\n",
      "           ...  \n",
      "34000          1\n",
      "90000          1\n",
      "135000         1\n",
      "200000         1\n",
      "31000          1\n",
      "Name: 기본연회비_B0M, Length: 65, dtype: int64\n"
     ]
    }
   ],
   "source": [
    "column_name = '기본연회비_B0M'\n",
    "user_friendly_name = '기본연회비_B0M'\n",
    "\n",
    "#Get Details\n",
    "get_column_details(df,column_name)\n"
   ]
  },
  {
   "cell_type": "code",
   "execution_count": 50,
   "id": "a1c0ac44",
   "metadata": {},
   "outputs": [
    {
     "name": "stdout",
     "output_type": "stream",
     "text": [
      "Details of Life_Stage column\n",
      "\n",
      "DataType:  object\n",
      "\n",
      "There are no null values\n",
      "\n",
      "Number of Unique Values:  7\n",
      "\n",
      "Distribution of column:\n",
      "\n",
      "4.자녀성장기(1)    99160\n",
      "5.자녀성장기(2)    74692\n",
      "3.자녀출산기       30693\n",
      "2.가족형성기       29736\n",
      "7.노령          29532\n",
      "6.자녀출가기       25365\n",
      "1.Single      10822\n",
      "Name: Life_Stage, dtype: int64\n",
      "\n",
      "-----------------------------------------------------\n",
      "\n",
      "Life_Stage Distribution\n"
     ]
    },
    {
     "data": {
      "image/png": "[encoded data removed]",
      "text/plain": [
       "<Figure size 432x288 with 1 Axes>"
      ]
     },
     "metadata": {
      "needs_background": "light"
     },
     "output_type": "display_data"
    }
   ],
   "source": [
    "column_name = 'Life_Stage'\n",
    "user_friendly_name = 'Life_Stage'\n",
    "\n",
    "#Get Details\n",
    "get_column_details(df,column_name)\n",
    "\n",
    "# Plot Graph\n",
    "plot_countplot(df,column_name,user_friendly_name)"
   ]
  },
  {
   "cell_type": "code",
   "execution_count": 51,
   "id": "18ac043d",
   "metadata": {},
   "outputs": [
    {
     "name": "stdout",
     "output_type": "stream",
     "text": [
      "Details of 카드이용한도금액 column\n",
      "\n",
      "DataType:  int64\n",
      "\n",
      "There are no null values\n",
      "\n",
      "Number of Unique Values:  426\n",
      "\n",
      "Distribution of column:\n",
      "\n",
      "1000000     35283\n",
      "5000000     26726\n",
      "3000000     20076\n",
      "10000000    19889\n",
      "0           12576\n",
      "            ...  \n",
      "33700000        1\n",
      "98500000        1\n",
      "35200000        1\n",
      "4350000         1\n",
      "86000000        1\n",
      "Name: 카드이용한도금액, Length: 426, dtype: int64\n"
     ]
    }
   ],
   "source": [
    "column_name = '카드이용한도금액'\n",
    "user_friendly_name = '카드이용한도금액'\n",
    "\n",
    "#Get Details\n",
    "get_column_details(df,column_name)\n"
   ]
  },
  {
   "cell_type": "code",
   "execution_count": 52,
   "id": "1afb7662",
   "metadata": {},
   "outputs": [
    {
     "name": "stdout",
     "output_type": "stream",
     "text": [
      "Details of 고객구분 column\n",
      "\n",
      "DataType:  object\n",
      "\n",
      "There are no null values\n",
      "\n",
      "Number of Unique Values:  6\n",
      "\n",
      "Distribution of column:\n",
      "\n",
      "21.Active_연속    222863\n",
      "22.Active_간헐     29035\n",
      "34.휴면_9M+        26974\n",
      "32.휴면_6M-         8951\n",
      "33.휴면_9M-         7638\n",
      "31.휴면_3M          4539\n",
      "Name: 고객구분, dtype: int64\n",
      "\n",
      "-----------------------------------------------------\n",
      "\n",
      "고객구분 Distribution\n"
     ]
    },
    {
     "data": {
      "image/png": "[encoded data removed]",
      "text/plain": [
       "<Figure size 432x288 with 1 Axes>"
      ]
     },
     "metadata": {
      "needs_background": "light"
     },
     "output_type": "display_data"
    }
   ],
   "source": [
    "column_name = '고객구분'\n",
    "user_friendly_name = '고객구분'\n",
    "\n",
    "#Get Details\n",
    "get_column_details(df,column_name)\n",
    "\n",
    "# Plot Graph\n",
    "plot_countplot(df,column_name,user_friendly_name)"
   ]
  },
  {
   "cell_type": "code",
   "execution_count": 53,
   "id": "6314b12e",
   "metadata": {},
   "outputs": [
    {
     "name": "stdout",
     "output_type": "stream",
     "text": [
      "Details of 이용건수_신판_B0M column\n",
      "\n",
      "DataType:  int64\n",
      "\n",
      "There are no null values\n",
      "\n",
      "Number of Unique Values:  271\n",
      "\n",
      "Distribution of column:\n",
      "\n",
      "0      63342\n",
      "1      38614\n",
      "2      15407\n",
      "3      10361\n",
      "4       8272\n",
      "       ...  \n",
      "295        1\n",
      "236        1\n",
      "237        1\n",
      "209        1\n",
      "350        1\n",
      "Name: 이용건수_신판_B0M, Length: 271, dtype: int64\n"
     ]
    }
   ],
   "source": [
    "column_name = '이용건수_신판_B0M'\n",
    "user_friendly_name = '이용건수_신판_B0M'\n",
    "\n",
    "#Get Details\n",
    "get_column_details(df,column_name)\n"
   ]
  },
  {
   "cell_type": "code",
   "execution_count": 54,
   "id": "39557174",
   "metadata": {},
   "outputs": [
    {
     "name": "stdout",
     "output_type": "stream",
     "text": [
      "Details of 이용건수_일시불_B0M column\n",
      "\n",
      "DataType:  int64\n",
      "\n",
      "There are no null values\n",
      "\n",
      "Number of Unique Values:  268\n",
      "\n",
      "Distribution of column:\n",
      "\n",
      "0      65083\n",
      "1      39314\n",
      "2      15368\n",
      "3      10244\n",
      "4       8345\n",
      "       ...  \n",
      "229        1\n",
      "230        1\n",
      "262        1\n",
      "264        1\n",
      "351        1\n",
      "Name: 이용건수_일시불_B0M, Length: 268, dtype: int64\n"
     ]
    }
   ],
   "source": [
    "column_name = '이용건수_일시불_B0M'\n",
    "user_friendly_name = '이용건수_일시불_B0M'\n",
    "\n",
    "#Get Details\n",
    "get_column_details(df,column_name)\n"
   ]
  },
  {
   "cell_type": "code",
   "execution_count": 55,
   "id": "0980680c",
   "metadata": {},
   "outputs": [
    {
     "name": "stdout",
     "output_type": "stream",
     "text": [
      "Details of 이용건수_할부_B0M column\n",
      "\n",
      "DataType:  int64\n",
      "\n",
      "There are no null values\n",
      "\n",
      "Number of Unique Values:  47\n",
      "\n",
      "Distribution of column:\n",
      "\n",
      " 0     252108\n",
      " 1      25742\n",
      " 2      10180\n",
      " 3       4842\n",
      " 4       2555\n",
      " 5       1487\n",
      " 6        865\n",
      "-1        700\n",
      " 7        501\n",
      " 8        280\n",
      " 9        187\n",
      " 10       128\n",
      " 11        80\n",
      "-2         80\n",
      " 12        50\n",
      " 13        44\n",
      "-3         27\n",
      " 15        22\n",
      " 14        18\n",
      " 16        10\n",
      " 18        10\n",
      "-4         10\n",
      " 23         8\n",
      " 19         7\n",
      "-5          6\n",
      "-6          6\n",
      " 17         5\n",
      " 20         5\n",
      " 22         4\n",
      " 24         4\n",
      " 25         4\n",
      " 29         3\n",
      "-7          3\n",
      "-8          2\n",
      "-9          2\n",
      " 28         2\n",
      " 32         2\n",
      " 21         2\n",
      " 70         1\n",
      "-14         1\n",
      " 64         1\n",
      " 41         1\n",
      " 40         1\n",
      " 37         1\n",
      " 33         1\n",
      " 27         1\n",
      " 67         1\n",
      "Name: 이용건수_할부_B0M, dtype: int64\n",
      "\n",
      "-----------------------------------------------------\n",
      "\n",
      "이용건수_할부_B0M Distribution\n"
     ]
    },
    {
     "data": {
      "image/png": "[encoded data removed]",
      "text/plain": [
       "<Figure size 432x288 with 1 Axes>"
      ]
     },
     "metadata": {
      "needs_background": "light"
     },
     "output_type": "display_data"
    }
   ],
   "source": [
    "column_name = '이용건수_할부_B0M'\n",
    "user_friendly_name = '이용건수_할부_B0M'\n",
    "\n",
    "#Get Details\n",
    "get_column_details(df,column_name)\n",
    "\n",
    "# Plot Graph\n",
    "plot_countplot(df,column_name,user_friendly_name)"
   ]
  },
  {
   "cell_type": "code",
   "execution_count": 56,
   "id": "087a7536",
   "metadata": {},
   "outputs": [
    {
     "name": "stdout",
     "output_type": "stream",
     "text": [
      "Details of 이용건수_할부_유이자_B0M column\n",
      "\n",
      "DataType:  int64\n",
      "\n",
      "There are no null values\n",
      "\n",
      "Number of Unique Values:  27\n",
      "\n",
      "Distribution of column:\n",
      "\n",
      " 0     281472\n",
      " 1      12436\n",
      " 2       3277\n",
      " 3       1231\n",
      " 4        507\n",
      "-1        497\n",
      " 5        227\n",
      " 6        115\n",
      "-2         62\n",
      " 7         60\n",
      " 8         37\n",
      "-3         21\n",
      " 9         17\n",
      " 10        13\n",
      " 11         6\n",
      "-4          5\n",
      " 13         3\n",
      " 12         3\n",
      "-6          2\n",
      " 15         2\n",
      " 24         1\n",
      " 29         1\n",
      "-61         1\n",
      "-8          1\n",
      "-5          1\n",
      " 14         1\n",
      " 20         1\n",
      "Name: 이용건수_할부_유이자_B0M, dtype: int64\n",
      "\n",
      "-----------------------------------------------------\n",
      "\n",
      "이용건수_할부_유이자_B0M Distribution\n"
     ]
    },
    {
     "data": {
      "image/png": "[encoded data removed]",
      "text/plain": [
       "<Figure size 432x288 with 1 Axes>"
      ]
     },
     "metadata": {
      "needs_background": "light"
     },
     "output_type": "display_data"
    }
   ],
   "source": [
    "column_name = '이용건수_할부_유이자_B0M'\n",
    "user_friendly_name = '이용건수_할부_유이자_B0M'\n",
    "\n",
    "#Get Details\n",
    "get_column_details(df,column_name)\n",
    "\n",
    "# Plot Graph\n",
    "plot_countplot(df,column_name,user_friendly_name)"
   ]
  },
  {
   "cell_type": "code",
   "execution_count": 57,
   "id": "7d031a22",
   "metadata": {},
   "outputs": [
    {
     "name": "stdout",
     "output_type": "stream",
     "text": [
      "Details of 이용건수_할부_무이자_B0M column\n",
      "\n",
      "DataType:  int64\n",
      "\n",
      "There are no null values\n",
      "\n",
      "Number of Unique Values:  48\n",
      "\n",
      "Distribution of column:\n",
      "\n",
      " 0     263495\n",
      " 1      20974\n",
      " 2       7401\n",
      " 3       3301\n",
      " 4       1681\n",
      " 5        935\n",
      "-1        677\n",
      " 6        540\n",
      " 7        285\n",
      " 8        183\n",
      " 9        109\n",
      " 10        83\n",
      "-2         77\n",
      " 11        47\n",
      " 12        42\n",
      "-3         24\n",
      " 13        24\n",
      " 15        18\n",
      " 14        16\n",
      "-4         11\n",
      " 18        10\n",
      " 23         6\n",
      " 16         6\n",
      " 20         5\n",
      " 17         5\n",
      "-5          5\n",
      " 22         4\n",
      "-6          4\n",
      "-7          3\n",
      " 24         3\n",
      " 19         3\n",
      " 21         3\n",
      "-9          2\n",
      " 25         2\n",
      " 29         2\n",
      "-8          2\n",
      " 33         1\n",
      " 27         1\n",
      " 31         1\n",
      " 32         1\n",
      "-10         1\n",
      "-14         1\n",
      " 69         1\n",
      " 67         1\n",
      " 64         1\n",
      " 41         1\n",
      " 40         1\n",
      " 28         1\n",
      "Name: 이용건수_할부_무이자_B0M, dtype: int64\n",
      "\n",
      "-----------------------------------------------------\n",
      "\n",
      "이용건수_할부_무이자_B0M Distribution\n"
     ]
    },
    {
     "data": {
      "image/png": "[encoded data removed]",
      "text/plain": [
       "<Figure size 432x288 with 1 Axes>"
      ]
     },
     "metadata": {
      "needs_background": "light"
     },
     "output_type": "display_data"
    }
   ],
   "source": [
    "column_name = '이용건수_할부_무이자_B0M'\n",
    "user_friendly_name = '이용건수_할부_무이자_B0M'\n",
    "\n",
    "#Get Details\n",
    "get_column_details(df,column_name)\n",
    "\n",
    "# Plot Graph\n",
    "plot_countplot(df,column_name,user_friendly_name)"
   ]
  },
  {
   "cell_type": "code",
   "execution_count": 58,
   "id": "94918eb8",
   "metadata": {},
   "outputs": [
    {
     "name": "stdout",
     "output_type": "stream",
     "text": [
      "Details of 이용건수_부분무이자_B0M column\n",
      "\n",
      "DataType:  int64\n",
      "\n",
      "There are no null values\n",
      "\n",
      "Number of Unique Values:  10\n",
      "\n",
      "Distribution of column:\n",
      "\n",
      " 0     299427\n",
      " 1        451\n",
      " 2         61\n",
      "-1         29\n",
      " 3         21\n",
      " 4          5\n",
      "-2          3\n",
      " 5          1\n",
      " 6          1\n",
      " 61         1\n",
      "Name: 이용건수_부분무이자_B0M, dtype: int64\n",
      "\n",
      "-----------------------------------------------------\n",
      "\n",
      "이용건수_부분무이자_B0M Distribution\n"
     ]
    },
    {
     "data": {
      "image/png": "[encoded data removed]",
      "text/plain": [
       "<Figure size 432x288 with 1 Axes>"
      ]
     },
     "metadata": {
      "needs_background": "light"
     },
     "output_type": "display_data"
    }
   ],
   "source": [
    "column_name = '이용건수_부분무이자_B0M'\n",
    "user_friendly_name = '이용건수_부분무이자_B0M'\n",
    "\n",
    "#Get Details\n",
    "get_column_details(df,column_name)\n",
    "\n",
    "# Plot Graph\n",
    "plot_countplot(df,column_name,user_friendly_name)"
   ]
  },
  {
   "cell_type": "code",
   "execution_count": null,
   "id": "4b07240a",
   "metadata": {},
   "outputs": [],
   "source": [
    "column_name = '이용건수_CA_B0M'\n",
    "user_friendly_name = '이용건수_CA_B0M'\n",
    "\n",
    "#Get Details\n",
    "get_column_details(df,column_name)\n",
    "\n",
    "# Plot Graph\n",
    "plot_countplot(df,column_name,user_friendly_name)"
   ]
  },
  {
   "cell_type": "code",
   "execution_count": null,
   "id": "f92e850a",
   "metadata": {},
   "outputs": [],
   "source": [
    "column_name = '이용건수_체크_B0M'\n",
    "user_friendly_name = '이용건수_체크_B0M'\n",
    "\n",
    "#Get Details\n",
    "get_column_details(df,column_name)\n"
   ]
  },
  {
   "cell_type": "code",
   "execution_count": null,
   "id": "f745c025",
   "metadata": {},
   "outputs": [],
   "source": [
    "column_name = '이용건수_카드론_B0M'\n",
    "user_friendly_name = '이용건수_카드론_B0M'\n",
    "\n",
    "#Get Details\n",
    "get_column_details(df,column_name)\n",
    "\n",
    "# Plot Graph\n",
    "plot_countplot(df,column_name,user_friendly_name)"
   ]
  },
  {
   "cell_type": "code",
   "execution_count": null,
   "id": "e5cb05f0",
   "metadata": {},
   "outputs": [],
   "source": [
    "column_name = '이용금액_신용_B0M'\n",
    "user_friendly_name = '이용금액_신용_B0M'\n",
    "\n",
    "#Get Details\n",
    "get_column_details(df,column_name)\n"
   ]
  },
  {
   "cell_type": "code",
   "execution_count": null,
   "id": "a3406607",
   "metadata": {},
   "outputs": [],
   "source": [
    "column_name = '이용금액_신판_B0M'\n",
    "user_friendly_name = '이용금액_신판_B0M'\n",
    "\n",
    "#Get Details\n",
    "get_column_details(df,column_name)\n"
   ]
  },
  {
   "cell_type": "code",
   "execution_count": null,
   "id": "b2d9be4d",
   "metadata": {},
   "outputs": [],
   "source": [
    "column_name = '이용금액_일시불_B0M'\n",
    "user_friendly_name = '이용금액_일시불_B0M'\n",
    "\n",
    "#Get Details\n",
    "get_column_details(df,column_name)\n"
   ]
  },
  {
   "cell_type": "code",
   "execution_count": null,
   "id": "6ded1c26",
   "metadata": {},
   "outputs": [],
   "source": [
    "column_name = '이용금액_할부_B0M'\n",
    "user_friendly_name = '이용금액_할부_B0M'\n",
    "\n",
    "#Get Details\n",
    "get_column_details(df,column_name)\n"
   ]
  },
  {
   "cell_type": "code",
   "execution_count": null,
   "id": "6d34b2f5",
   "metadata": {},
   "outputs": [],
   "source": [
    "column_name = '이용금액_할부_유이자_B0M'\n",
    "user_friendly_name = '이용금액_할부_유이자_B0M'\n",
    "\n",
    "#Get Details\n",
    "get_column_details(df,column_name)\n"
   ]
  },
  {
   "cell_type": "code",
   "execution_count": null,
   "id": "78be3dd4",
   "metadata": {},
   "outputs": [],
   "source": [
    "column_name = '이용금액_할부_무이자_B0M'\n",
    "user_friendly_name = '이용금액_할부_무이자_B0M'\n",
    "\n",
    "#Get Details\n",
    "get_column_details(df,column_name)\n"
   ]
  },
  {
   "cell_type": "code",
   "execution_count": null,
   "id": "5ca83e1f",
   "metadata": {},
   "outputs": [],
   "source": [
    "column_name = '이용금액_부분무이자_B0M'\n",
    "user_friendly_name = '이용금액_부분무이자_B0M'\n",
    "\n",
    "#Get Details\n",
    "get_column_details(df,column_name)\n"
   ]
  },
  {
   "cell_type": "code",
   "execution_count": null,
   "id": "a8c1bf6c",
   "metadata": {},
   "outputs": [],
   "source": [
    "column_name = '이용금액_CA_B0M'\n",
    "user_friendly_name = '이용금액_CA_B0M'\n",
    "\n",
    "#Get Details\n",
    "get_column_details(df,column_name)\n"
   ]
  },
  {
   "cell_type": "code",
   "execution_count": null,
   "id": "10ee87e9",
   "metadata": {},
   "outputs": [],
   "source": [
    "column_name = '이용금액_체크_B0M'\n",
    "user_friendly_name = '이용금액_체크_B0M'\n",
    "\n",
    "#Get Details\n",
    "get_column_details(df,column_name)\n"
   ]
  },
  {
   "cell_type": "code",
   "execution_count": null,
   "id": "1a8b0cce",
   "metadata": {},
   "outputs": [],
   "source": [
    "column_name = '이용금액_카드론_B0M'\n",
    "user_friendly_name = '이용금액_카드론_B0M'\n",
    "\n",
    "#Get Details\n",
    "get_column_details(df,column_name)\n"
   ]
  },
  {
   "cell_type": "code",
   "execution_count": null,
   "id": "cec9861e",
   "metadata": {},
   "outputs": [],
   "source": [
    "column_name = '이용후경과월_신용'\n",
    "user_friendly_name = '이용후경과월_신용'\n",
    "\n",
    "#Get Details\n",
    "get_column_details(df,column_name)\n",
    "\n",
    "# Plot Graph\n",
    "plot_countplot(df,column_name,user_friendly_name)"
   ]
  },
  {
   "cell_type": "code",
   "execution_count": null,
   "id": "155bbdc0",
   "metadata": {},
   "outputs": [],
   "source": [
    "column_name = '이용후경과월_신판'\n",
    "user_friendly_name = '이용후경과월_신판'\n",
    "\n",
    "#Get Details\n",
    "get_column_details(df,column_name)\n",
    "\n",
    "# Plot Graph\n",
    "plot_countplot(df,column_name,user_friendly_name)"
   ]
  },
  {
   "cell_type": "code",
   "execution_count": null,
   "id": "bf6e7d19",
   "metadata": {},
   "outputs": [],
   "source": [
    "column_name = '이용후경과월_일시불'\n",
    "user_friendly_name = '이용후경과월_일시불'\n",
    "\n",
    "#Get Details\n",
    "get_column_details(df,column_name)\n",
    "\n",
    "# Plot Graph\n",
    "plot_countplot(df,column_name,user_friendly_name)"
   ]
  },
  {
   "cell_type": "code",
   "execution_count": null,
   "id": "55a626b2",
   "metadata": {},
   "outputs": [],
   "source": [
    "column_name = '이용후경과월_할부'\n",
    "user_friendly_name = '이용후경과월_할부'\n",
    "\n",
    "#Get Details\n",
    "get_column_details(df,column_name)\n",
    "\n",
    "# Plot Graph\n",
    "plot_countplot(df,column_name,user_friendly_name)"
   ]
  },
  {
   "cell_type": "code",
   "execution_count": null,
   "id": "943602da",
   "metadata": {},
   "outputs": [],
   "source": [
    "column_name = '이용후경과월_할부_유이자'\n",
    "user_friendly_name = '이용후경과월_할부_유이자'\n",
    "\n",
    "#Get Details\n",
    "get_column_details(df,column_name)\n",
    "\n",
    "# Plot Graph\n",
    "plot_countplot(df,column_name,user_friendly_name)"
   ]
  },
  {
   "cell_type": "code",
   "execution_count": null,
   "id": "60841be0",
   "metadata": {},
   "outputs": [],
   "source": [
    "column_name = '이용후경과월_할부_무이자'\n",
    "user_friendly_name = '이용후경과월_할부_무이자'\n",
    "\n",
    "#Get Details\n",
    "get_column_details(df,column_name)\n",
    "\n",
    "# Plot Graph\n",
    "plot_countplot(df,column_name,user_friendly_name)"
   ]
  },
  {
   "cell_type": "code",
   "execution_count": null,
   "id": "75cad3f8",
   "metadata": {},
   "outputs": [],
   "source": [
    "column_name = '이용후경과월_부분무이자'\n",
    "user_friendly_name = '이용후경과월_부분무이자'\n",
    "\n",
    "#Get Details\n",
    "get_column_details(df,column_name)\n",
    "\n",
    "# Plot Graph\n",
    "plot_countplot(df,column_name,user_friendly_name)"
   ]
  },
  {
   "cell_type": "code",
   "execution_count": null,
   "id": "ef052654",
   "metadata": {},
   "outputs": [],
   "source": [
    "column_name = '이용후경과월_CA'\n",
    "user_friendly_name = '이용후경과월_CA'\n",
    "\n",
    "#Get Details\n",
    "get_column_details(df,column_name)\n",
    "\n",
    "# Plot Graph\n",
    "plot_countplot(df,column_name,user_friendly_name)"
   ]
  },
  {
   "cell_type": "code",
   "execution_count": null,
   "id": "9b9e6dbd",
   "metadata": {},
   "outputs": [],
   "source": [
    "column_name = '이용후경과월_체크'\n",
    "user_friendly_name = '이용후경과월_체크'\n",
    "\n",
    "#Get Details\n",
    "get_column_details(df,column_name)\n",
    "\n",
    "# Plot Graph\n",
    "plot_countplot(df,column_name,user_friendly_name)"
   ]
  },
  {
   "cell_type": "code",
   "execution_count": null,
   "id": "96263f35",
   "metadata": {},
   "outputs": [],
   "source": [
    "column_name = '이용후경과월_카드론'\n",
    "user_friendly_name = '이용후경과월_카드론'\n",
    "\n",
    "#Get Details\n",
    "get_column_details(df,column_name)\n",
    "\n",
    "# Plot Graph\n",
    "plot_countplot(df,column_name,user_friendly_name)"
   ]
  },
  {
   "cell_type": "code",
   "execution_count": null,
   "id": "9192044b",
   "metadata": {},
   "outputs": [],
   "source": [
    "column_name = '이용건수_신용_R12M'\n",
    "user_friendly_name = '이용건수_신용_R12M'\n",
    "\n",
    "#Get Details\n",
    "get_column_details(df,column_name)\n",
    "\n",
    "# Plot Graph\n",
    "plot_countplot(df,column_name,user_friendly_name)"
   ]
  },
  {
   "cell_type": "code",
   "execution_count": null,
   "id": "0a1b0fbf",
   "metadata": {},
   "outputs": [],
   "source": [
    "column_name = '이용건수_신판_R12M'\n",
    "user_friendly_name = '이용건수_신판_R12M'\n",
    "\n",
    "#Get Details\n",
    "get_column_details(df,column_name)\n"
   ]
  },
  {
   "cell_type": "code",
   "execution_count": null,
   "id": "81a6f884",
   "metadata": {},
   "outputs": [],
   "source": [
    "column_name = '이용건수_일시불_R12M'\n",
    "user_friendly_name = '이용건수_일시불_R12M'\n",
    "\n",
    "#Get Details\n",
    "get_column_details(df,column_name)\n"
   ]
  },
  {
   "cell_type": "code",
   "execution_count": null,
   "id": "a1fd660d",
   "metadata": {},
   "outputs": [],
   "source": [
    "column_name = '이용건수_할부_R12M'\n",
    "user_friendly_name = '이용건수_할부_R12M'\n",
    "\n",
    "#Get Details\n",
    "get_column_details(df,column_name)"
   ]
  },
  {
   "cell_type": "code",
   "execution_count": null,
   "id": "8e9b1d30",
   "metadata": {},
   "outputs": [],
   "source": [
    "column_name = '이용건수_할부_유이자_R12M'\n",
    "user_friendly_name = '이용건수_할부_유이자_R12M'\n",
    "\n",
    "#Get Details\n",
    "get_column_details(df,column_name)"
   ]
  },
  {
   "cell_type": "code",
   "execution_count": null,
   "id": "08832768",
   "metadata": {},
   "outputs": [],
   "source": [
    "column_name = '이용건수_할부_무이자_R12M'\n",
    "user_friendly_name = '이용건수_할부_무이자_R12M'\n",
    "\n",
    "#Get Details\n",
    "get_column_details(df,column_name)"
   ]
  },
  {
   "cell_type": "code",
   "execution_count": null,
   "id": "2278ce40",
   "metadata": {},
   "outputs": [],
   "source": [
    "column_name = '이용건수_부분무이자_R12M'\n",
    "user_friendly_name = '이용건수_부분무이자_R12M'\n",
    "\n",
    "#Get Details\n",
    "get_column_details(df,column_name)"
   ]
  },
  {
   "cell_type": "code",
   "execution_count": null,
   "id": "b66b2123",
   "metadata": {},
   "outputs": [],
   "source": [
    "column_name = '이용건수_CA_R12M'\n",
    "user_friendly_name = '이용건수_CA_R12M'\n",
    "\n",
    "#Get Details\n",
    "get_column_details(df,column_name)"
   ]
  },
  {
   "cell_type": "code",
   "execution_count": null,
   "id": "8b3780a0",
   "metadata": {},
   "outputs": [],
   "source": [
    "column_name = '이용건수_체크_R12M'\n",
    "user_friendly_name = '이용건수_체크_R12M'\n",
    "\n",
    "#Get Details\n",
    "get_column_details(df,column_name)"
   ]
  },
  {
   "cell_type": "code",
   "execution_count": null,
   "id": "22045fa9",
   "metadata": {},
   "outputs": [],
   "source": [
    "column_name = '이용건수_카드론_R12M'\n",
    "user_friendly_name = '이용건수_카드론_R12M'\n",
    "\n",
    "#Get Details\n",
    "get_column_details(df,column_name)"
   ]
  },
  {
   "cell_type": "code",
   "execution_count": null,
   "id": "b731ef32",
   "metadata": {},
   "outputs": [],
   "source": [
    "column_name = '이용금액_신용_R12M'\n",
    "user_friendly_name = '이용금액_신용_R12M'\n",
    "\n",
    "#Get Details\n",
    "get_column_details(df,column_name)"
   ]
  },
  {
   "cell_type": "code",
   "execution_count": null,
   "id": "4ed50688",
   "metadata": {},
   "outputs": [],
   "source": [
    "column_name = '이용금액_신판_R12M'\n",
    "user_friendly_name = '이용금액_신판_R12M'\n",
    "\n",
    "#Get Details\n",
    "get_column_details(df,column_name)"
   ]
  },
  {
   "cell_type": "code",
   "execution_count": null,
   "id": "7428632b",
   "metadata": {},
   "outputs": [],
   "source": [
    "column_name = '이용금액_일시불_R12M'\n",
    "user_friendly_name = '이용금액_일시불_R12M'\n",
    "\n",
    "#Get Details\n",
    "get_column_details(df,column_name)"
   ]
  },
  {
   "cell_type": "code",
   "execution_count": null,
   "id": "74a417f2",
   "metadata": {},
   "outputs": [],
   "source": [
    "column_name = '이용금액_할부_R12M'\n",
    "user_friendly_name = '이용금액_할부_R12M'\n",
    "\n",
    "#Get Details\n",
    "get_column_details(df,column_name)"
   ]
  },
  {
   "cell_type": "code",
   "execution_count": null,
   "id": "b305bdb9",
   "metadata": {},
   "outputs": [],
   "source": [
    "column_name = '이용금액_할부_유이자_R12M'\n",
    "user_friendly_name = '이용금액_할부_유이자_R12M'\n",
    "\n",
    "#Get Details\n",
    "get_column_details(df,column_name)"
   ]
  },
  {
   "cell_type": "code",
   "execution_count": null,
   "id": "a5caa94b",
   "metadata": {},
   "outputs": [],
   "source": [
    "column_name = '이용금액_할부_무이자_R12M'\n",
    "user_friendly_name = '이용금액_할부_무이자_R12M'\n",
    "\n",
    "#Get Details\n",
    "get_column_details(df,column_name)"
   ]
  },
  {
   "cell_type": "code",
   "execution_count": null,
   "id": "08b9a36a",
   "metadata": {},
   "outputs": [],
   "source": [
    "column_name = '이용금액_부분무이자_R12M'\n",
    "user_friendly_name = '이용금액_부분무이자_R12M'\n",
    "\n",
    "#Get Details\n",
    "get_column_details(df,column_name)"
   ]
  },
  {
   "cell_type": "code",
   "execution_count": null,
   "id": "dda92dfd",
   "metadata": {},
   "outputs": [],
   "source": [
    "column_name = '이용금액_CA_R12M'\n",
    "user_friendly_name = '이용금액_CA_R12M'\n",
    "\n",
    "#Get Details\n",
    "get_column_details(df,column_name)"
   ]
  },
  {
   "cell_type": "code",
   "execution_count": null,
   "id": "a11898c0",
   "metadata": {},
   "outputs": [],
   "source": [
    "column_name = '이용금액_체크_R12M'\n",
    "user_friendly_name = '이용금액_체크_R12M'\n",
    "\n",
    "#Get Details\n",
    "get_column_details(df,column_name)"
   ]
  },
  {
   "cell_type": "code",
   "execution_count": null,
   "id": "09476e36",
   "metadata": {},
   "outputs": [],
   "source": [
    "column_name = '이용금액_카드론_R12M'\n",
    "user_friendly_name = '이용금액_카드론_R12M'\n",
    "\n",
    "#Get Details\n",
    "get_column_details(df,column_name)"
   ]
  },
  {
   "cell_type": "code",
   "execution_count": null,
   "id": "b1c5cf2c",
   "metadata": {},
   "outputs": [],
   "source": [
    "column_name = '이용개월수_신용_R12M'\n",
    "user_friendly_name = '이용개월수_신용_R12M'\n",
    "\n",
    "#Get Details\n",
    "get_column_details(df,column_name)\n",
    "\n",
    "# Plot Graph\n",
    "plot_countplot(df,column_name,user_friendly_name)"
   ]
  },
  {
   "cell_type": "code",
   "execution_count": null,
   "id": "c08d9064",
   "metadata": {},
   "outputs": [],
   "source": [
    "column_name = '이용개월수_신판_R12M'\n",
    "user_friendly_name = '이용개월수_신판_R12M'\n",
    "\n",
    "#Get Details\n",
    "get_column_details(df,column_name)\n",
    "\n",
    "# Plot Graph\n",
    "plot_countplot(df,column_name,user_friendly_name)"
   ]
  },
  {
   "cell_type": "code",
   "execution_count": null,
   "id": "b83344b2",
   "metadata": {},
   "outputs": [],
   "source": [
    "column_name = '이용개월수_일시불_R12M'\n",
    "user_friendly_name = '이용개월수_일시불_R12M'\n",
    "\n",
    "#Get Details\n",
    "get_column_details(df,column_name)\n",
    "\n",
    "# Plot Graph\n",
    "plot_countplot(df,column_name,user_friendly_name)"
   ]
  },
  {
   "cell_type": "code",
   "execution_count": null,
   "id": "b3f71f2e",
   "metadata": {},
   "outputs": [],
   "source": [
    "column_name = '이용개월수_할부_R12M'\n",
    "user_friendly_name = '이용개월수_할부_R12M'\n",
    "\n",
    "#Get Details\n",
    "get_column_details(df,column_name)\n",
    "\n",
    "# Plot Graph\n",
    "plot_countplot(df,column_name,user_friendly_name)"
   ]
  },
  {
   "cell_type": "code",
   "execution_count": null,
   "id": "33d86a8d",
   "metadata": {},
   "outputs": [],
   "source": [
    "column_name = '이용개월수_할부_유이자_R12M'\n",
    "user_friendly_name = '이용개월수_할부_유이자_R12M'\n",
    "\n",
    "#Get Details\n",
    "get_column_details(df,column_name)\n",
    "\n",
    "# Plot Graph\n",
    "plot_countplot(df,column_name,user_friendly_name)"
   ]
  },
  {
   "cell_type": "code",
   "execution_count": null,
   "id": "d1a5fe5f",
   "metadata": {},
   "outputs": [],
   "source": [
    "column_name = '이용개월수_할부_무이자_R12M'\n",
    "user_friendly_name = '이용개월수_할부_무이자_R12M'\n",
    "\n",
    "#Get Details\n",
    "get_column_details(df,column_name)\n",
    "\n",
    "# Plot Graph\n",
    "plot_countplot(df,column_name,user_friendly_name)"
   ]
  },
  {
   "cell_type": "code",
   "execution_count": null,
   "id": "6e6c0218",
   "metadata": {},
   "outputs": [],
   "source": [
    "column_name = '이용개월수_부분무이자_R12M'\n",
    "user_friendly_name = '이용개월수_부분무이자_R12M'\n",
    "\n",
    "#Get Details\n",
    "get_column_details(df,column_name)\n",
    "\n",
    "# Plot Graph\n",
    "plot_countplot(df,column_name,user_friendly_name)"
   ]
  },
  {
   "cell_type": "code",
   "execution_count": null,
   "id": "2cabd602",
   "metadata": {},
   "outputs": [],
   "source": [
    "column_name = '이용개월수_CA_R12M'\n",
    "user_friendly_name = '이용개월수_CA_R12M'\n",
    "\n",
    "#Get Details\n",
    "get_column_details(df,column_name)\n",
    "\n",
    "# Plot Graph\n",
    "plot_countplot(df,column_name,user_friendly_name)"
   ]
  },
  {
   "cell_type": "code",
   "execution_count": null,
   "id": "31413924",
   "metadata": {},
   "outputs": [],
   "source": [
    "column_name = '이용개월수_체크_R12M'\n",
    "user_friendly_name = '이용개월수_체크_R12M'\n",
    "\n",
    "#Get Details\n",
    "get_column_details(df,column_name)\n",
    "\n",
    "# Plot Graph\n",
    "plot_countplot(df,column_name,user_friendly_name)"
   ]
  },
  {
   "cell_type": "code",
   "execution_count": null,
   "id": "72112bb3",
   "metadata": {},
   "outputs": [],
   "source": [
    "column_name = '이용개월수_카드론_R12M'\n",
    "user_friendly_name = '이용개월수_카드론_R12M'\n",
    "\n",
    "#Get Details\n",
    "get_column_details(df,column_name)\n",
    "\n",
    "# Plot Graph\n",
    "plot_countplot(df,column_name,user_friendly_name)"
   ]
  },
  {
   "cell_type": "code",
   "execution_count": null,
   "id": "74d33f0a",
   "metadata": {},
   "outputs": [],
   "source": [
    "column_name = '이용건수_신용_R6M'\n",
    "user_friendly_name = '이용건수_신용_R6M'\n",
    "\n",
    "#Get Details\n",
    "get_column_details(df,column_name)"
   ]
  },
  {
   "cell_type": "code",
   "execution_count": null,
   "id": "39040f47",
   "metadata": {},
   "outputs": [],
   "source": [
    "column_name = '이용건수_신판_R6M'\n",
    "user_friendly_name = '이용건수_신판_R6M'\n",
    "\n",
    "#Get Details\n",
    "get_column_details(df,column_name)"
   ]
  },
  {
   "cell_type": "code",
   "execution_count": null,
   "id": "c3e54889",
   "metadata": {},
   "outputs": [],
   "source": [
    "column_name = '이용건수_일시불_R6M'\n",
    "user_friendly_name = '이용건수_일시불_R6M'\n",
    "\n",
    "#Get Details\n",
    "get_column_details(df,column_name)"
   ]
  },
  {
   "cell_type": "code",
   "execution_count": null,
   "id": "2227f3b4",
   "metadata": {},
   "outputs": [],
   "source": [
    "column_name = '이용건수_할부_R6M'\n",
    "user_friendly_name = '이용건수_할부_R6M'\n",
    "\n",
    "#Get Details\n",
    "get_column_details(df,column_name)"
   ]
  },
  {
   "cell_type": "code",
   "execution_count": null,
   "id": "7ec90469",
   "metadata": {},
   "outputs": [],
   "source": [
    "column_name = '이용건수_할부_유이자_R6M'\n",
    "user_friendly_name = '이용건수_할부_유이자_R6M'\n",
    "\n",
    "#Get Details\n",
    "get_column_details(df,column_name)"
   ]
  },
  {
   "cell_type": "code",
   "execution_count": null,
   "id": "2b3463c2",
   "metadata": {},
   "outputs": [],
   "source": [
    "column_name = '이용건수_할부_무이자_R6M'\n",
    "user_friendly_name = '이용건수_할부_무이자_R6M'\n",
    "\n",
    "#Get Details\n",
    "get_column_details(df,column_name)"
   ]
  },
  {
   "cell_type": "code",
   "execution_count": null,
   "id": "bab29ee6",
   "metadata": {},
   "outputs": [],
   "source": [
    "column_name = '이용건수_CA_R6M'\n",
    "user_friendly_name = '이용건수_CA_R6M'\n",
    "\n",
    "#Get Details\n",
    "get_column_details(df,column_name)"
   ]
  },
  {
   "cell_type": "code",
   "execution_count": null,
   "id": "493cf1e2",
   "metadata": {},
   "outputs": [],
   "source": [
    "column_name = '이용건수_체크_R6M'\n",
    "user_friendly_name = '이용건수_체크_R6M'\n",
    "\n",
    "#Get Details\n",
    "get_column_details(df,column_name)"
   ]
  },
  {
   "cell_type": "code",
   "execution_count": null,
   "id": "6df67ad3",
   "metadata": {},
   "outputs": [],
   "source": [
    "column_name = '이용건수_카드론_R6M'\n",
    "user_friendly_name = '이용건수_카드론_R6M'\n",
    "\n",
    "#Get Details\n",
    "get_column_details(df,column_name)"
   ]
  },
  {
   "cell_type": "code",
   "execution_count": null,
   "id": "6b0f0c7f",
   "metadata": {},
   "outputs": [],
   "source": [
    "column_name = '이용금액_신용_R6M'\n",
    "user_friendly_name = '이용금액_신용_R6M'\n",
    "\n",
    "#Get Details\n",
    "get_column_details(df,column_name)"
   ]
  },
  {
   "cell_type": "code",
   "execution_count": null,
   "id": "95bb2e87",
   "metadata": {},
   "outputs": [],
   "source": [
    "column_name = '이용금액_신판_R6M'\n",
    "user_friendly_name = '이용금액_신판_R6M'\n",
    "\n",
    "#Get Details\n",
    "get_column_details(df,column_name)"
   ]
  },
  {
   "cell_type": "code",
   "execution_count": null,
   "id": "e0987da1",
   "metadata": {},
   "outputs": [],
   "source": [
    "column_name = '이용금액_일시불_R6M'\n",
    "user_friendly_name = '이용금액_일시불_R6M'\n",
    "\n",
    "#Get Details\n",
    "get_column_details(df,column_name)"
   ]
  },
  {
   "cell_type": "code",
   "execution_count": null,
   "id": "c2ba5bc2",
   "metadata": {},
   "outputs": [],
   "source": [
    "column_name = '이용금액_할부_R6M'\n",
    "user_friendly_name = '이용금액_할부_R6M'\n",
    "\n",
    "#Get Details\n",
    "get_column_details(df,column_name)"
   ]
  },
  {
   "cell_type": "code",
   "execution_count": null,
   "id": "d371fd66",
   "metadata": {},
   "outputs": [],
   "source": [
    "column_name = '이용금액_할부_유이자_R6M'\n",
    "user_friendly_name = '이용금액_할부_유이자_R6M'\n",
    "\n",
    "#Get Details\n",
    "get_column_details(df,column_name)"
   ]
  },
  {
   "cell_type": "code",
   "execution_count": null,
   "id": "9289c700",
   "metadata": {},
   "outputs": [],
   "source": [
    "column_name = '이용금액_할부_무이자_R6M'\n",
    "user_friendly_name = '이용금액_할부_무이자_R6M'\n",
    "\n",
    "#Get Details\n",
    "get_column_details(df,column_name)"
   ]
  },
  {
   "cell_type": "code",
   "execution_count": null,
   "id": "8c954952",
   "metadata": {},
   "outputs": [],
   "source": [
    "column_name = '이용금액_부분무이자_R6M'\n",
    "user_friendly_name = '이용금액_부분무이자_R6M'\n",
    "\n",
    "#Get Details\n",
    "get_column_details(df,column_name)"
   ]
  },
  {
   "cell_type": "code",
   "execution_count": null,
   "id": "ba15eb6d",
   "metadata": {},
   "outputs": [],
   "source": [
    "column_name = '이용금액_CA_R6M'\n",
    "user_friendly_name = '이용금액_CA_R6M'\n",
    "\n",
    "#Get Details\n",
    "get_column_details(df,column_name)"
   ]
  },
  {
   "cell_type": "code",
   "execution_count": null,
   "id": "6aedc9a9",
   "metadata": {},
   "outputs": [],
   "source": [
    "column_name = '이용금액_체크_R6M'\n",
    "user_friendly_name = '이용금액_체크_R6M'\n",
    "\n",
    "#Get Details\n",
    "get_column_details(df,column_name)"
   ]
  },
  {
   "cell_type": "code",
   "execution_count": null,
   "id": "698bfdde",
   "metadata": {},
   "outputs": [],
   "source": [
    "column_name = '이용금액_카드론_R6M'\n",
    "user_friendly_name = '이용금액_카드론_R6M'\n",
    "\n",
    "#Get Details\n",
    "get_column_details(df,column_name)"
   ]
  },
  {
   "cell_type": "code",
   "execution_count": null,
   "id": "baa4e32e",
   "metadata": {},
   "outputs": [],
   "source": [
    "column_name = '이용개월수_신용_R6M'\n",
    "user_friendly_name = '이용개월수_신용_R6M'\n",
    "\n",
    "#Get Details\n",
    "get_column_details(df,column_name)\n",
    "\n",
    "# Plot Graph\n",
    "plot_countplot(df,column_name,user_friendly_name)"
   ]
  },
  {
   "cell_type": "code",
   "execution_count": null,
   "id": "c560e3d2",
   "metadata": {},
   "outputs": [],
   "source": [
    "column_name = '이용개월수_신판_R6M'\n",
    "user_friendly_name = '이용개월수_신판_R6M'\n",
    "\n",
    "#Get Details\n",
    "get_column_details(df,column_name)\n",
    "\n",
    "# Plot Graph\n",
    "plot_countplot(df,column_name,user_friendly_name)"
   ]
  },
  {
   "cell_type": "code",
   "execution_count": null,
   "id": "c97c0b69",
   "metadata": {},
   "outputs": [],
   "source": [
    "column_name = '이용개월수_일시불_R6M'\n",
    "user_friendly_name = '이용개월수_일시불_R6M'\n",
    "\n",
    "#Get Details\n",
    "get_column_details(df,column_name)\n",
    "\n",
    "# Plot Graph\n",
    "plot_countplot(df,column_name,user_friendly_name)"
   ]
  },
  {
   "cell_type": "code",
   "execution_count": null,
   "id": "2e05ff49",
   "metadata": {},
   "outputs": [],
   "source": [
    "column_name = '이용개월수_할부_R6M'\n",
    "user_friendly_name = '이용개월수_할부_R6M'\n",
    "\n",
    "#Get Details\n",
    "get_column_details(df,column_name)\n",
    "\n",
    "# Plot Graph\n",
    "plot_countplot(df,column_name,user_friendly_name)"
   ]
  },
  {
   "cell_type": "code",
   "execution_count": null,
   "id": "0c3fc0a2",
   "metadata": {},
   "outputs": [],
   "source": [
    "column_name = '이용개월수_할부_유이자_R6M'\n",
    "user_friendly_name = '이용개월수_할부_유이자_R6M'\n",
    "\n",
    "#Get Details\n",
    "get_column_details(df,column_name)\n",
    "\n",
    "# Plot Graph\n",
    "plot_countplot(df,column_name,user_friendly_name)"
   ]
  },
  {
   "cell_type": "code",
   "execution_count": null,
   "id": "5f2f57b4",
   "metadata": {},
   "outputs": [],
   "source": [
    "column_name = '이용개월수_할부_무이자_R6M'\n",
    "user_friendly_name = '이용개월수_할부_무이자_R6M'\n",
    "\n",
    "#Get Details\n",
    "get_column_details(df,column_name)\n",
    "\n",
    "# Plot Graph\n",
    "plot_countplot(df,column_name,user_friendly_name)"
   ]
  },
  {
   "cell_type": "code",
   "execution_count": null,
   "id": "380b9ada",
   "metadata": {},
   "outputs": [],
   "source": [
    "column_name = '이용개월수_부분무이자_R6M'\n",
    "user_friendly_name = '이용개월수_부분무이자_R6M'\n",
    "\n",
    "#Get Details\n",
    "get_column_details(df,column_name)\n",
    "\n",
    "# Plot Graph\n",
    "plot_countplot(df,column_name,user_friendly_name)"
   ]
  },
  {
   "cell_type": "code",
   "execution_count": null,
   "id": "1d51a1f6",
   "metadata": {},
   "outputs": [],
   "source": [
    "column_name = '이용개월수_CA_R6M'\n",
    "user_friendly_name = '이용개월수_CA_R6M'\n",
    "\n",
    "#Get Details\n",
    "get_column_details(df,column_name)\n",
    "\n",
    "# Plot Graph\n",
    "plot_countplot(df,column_name,user_friendly_name)"
   ]
  },
  {
   "cell_type": "code",
   "execution_count": null,
   "id": "2058c734",
   "metadata": {},
   "outputs": [],
   "source": [
    "column_name = '이용개월수_체크_R6M'\n",
    "user_friendly_name = '이용개월수_체크_R6M'\n",
    "\n",
    "#Get Details\n",
    "get_column_details(df,column_name)\n",
    "\n",
    "# Plot Graph\n",
    "plot_countplot(df,column_name,user_friendly_name)"
   ]
  },
  {
   "cell_type": "code",
   "execution_count": null,
   "id": "94fced8c",
   "metadata": {},
   "outputs": [],
   "source": [
    "column_name = '이용개월수_카드론_R6M'\n",
    "user_friendly_name = '이용개월수_카드론_R6M'\n",
    "\n",
    "#Get Details\n",
    "get_column_details(df,column_name)\n",
    "\n",
    "# Plot Graph\n",
    "plot_countplot(df,column_name,user_friendly_name)"
   ]
  },
  {
   "cell_type": "code",
   "execution_count": null,
   "id": "21342ce2",
   "metadata": {},
   "outputs": [],
   "source": [
    "column_name = '이용건수_신용_R3M'\n",
    "user_friendly_name = '이용건수_신용_R3M'\n",
    "\n",
    "#Get Details\n",
    "get_column_details(df,column_name)"
   ]
  },
  {
   "cell_type": "code",
   "execution_count": null,
   "id": "c0232717",
   "metadata": {},
   "outputs": [],
   "source": [
    "column_name = '이용건수_신판_R3M'\n",
    "user_friendly_name = '이용건수_신판_R3M'\n",
    "\n",
    "#Get Details\n",
    "get_column_details(df,column_name)"
   ]
  },
  {
   "cell_type": "code",
   "execution_count": null,
   "id": "3d7888ab",
   "metadata": {},
   "outputs": [],
   "source": [
    "column_name = '이용건수_일시불_R3M'\n",
    "user_friendly_name = '이용건수_일시불_R3M'\n",
    "\n",
    "#Get Details\n",
    "get_column_details(df,column_name)"
   ]
  },
  {
   "cell_type": "code",
   "execution_count": null,
   "id": "5f507156",
   "metadata": {},
   "outputs": [],
   "source": [
    "column_name = '이용건수_할부_R3M'\n",
    "user_friendly_name = '이용건수_할부_R3M'\n",
    "\n",
    "#Get Details\n",
    "get_column_details(df,column_name)"
   ]
  },
  {
   "cell_type": "code",
   "execution_count": null,
   "id": "e6b32b52",
   "metadata": {},
   "outputs": [],
   "source": [
    "column_name = '이용건수_할부_유이자_R3M'\n",
    "user_friendly_name = '이용건수_할부_유이자_R3M'\n",
    "\n",
    "#Get Details\n",
    "get_column_details(df,column_name)"
   ]
  },
  {
   "cell_type": "code",
   "execution_count": null,
   "id": "4823aca0",
   "metadata": {},
   "outputs": [],
   "source": [
    "column_name = '이용건수_할부_무이자_R3M'\n",
    "user_friendly_name = '이용건수_할부_무이자_R3M'\n",
    "\n",
    "#Get Details\n",
    "get_column_details(df,column_name)"
   ]
  },
  {
   "cell_type": "code",
   "execution_count": null,
   "id": "88dbbe9a",
   "metadata": {},
   "outputs": [],
   "source": [
    "column_name = '이용건수_부분무이자_R3M'\n",
    "user_friendly_name = '이용건수_부분무이자_R3M'\n",
    "\n",
    "#Get Details\n",
    "get_column_details(df,column_name)"
   ]
  },
  {
   "cell_type": "code",
   "execution_count": null,
   "id": "e2d2a2b1",
   "metadata": {},
   "outputs": [],
   "source": [
    "column_name = '이용건수_CA_R3M'\n",
    "user_friendly_name = '이용건수_CA_R3M'\n",
    "\n",
    "#Get Details\n",
    "get_column_details(df,column_name)"
   ]
  },
  {
   "cell_type": "code",
   "execution_count": null,
   "id": "ee9f5527",
   "metadata": {},
   "outputs": [],
   "source": [
    "column_name = '이용건수_체크_R3M'\n",
    "user_friendly_name = '이용건수_체크_R3M'\n",
    "\n",
    "#Get Details\n",
    "get_column_details(df,column_name)"
   ]
  },
  {
   "cell_type": "code",
   "execution_count": null,
   "id": "785b9139",
   "metadata": {},
   "outputs": [],
   "source": [
    "column_name = '이용건수_카드론_R3M'\n",
    "user_friendly_name = '이용건수_카드론_R3M'\n",
    "\n",
    "#Get Details\n",
    "get_column_details(df,column_name)"
   ]
  },
  {
   "cell_type": "code",
   "execution_count": null,
   "id": "8344fce1",
   "metadata": {},
   "outputs": [],
   "source": [
    "column_name = '이용금액_신용_R3M'\n",
    "user_friendly_name = '이용금액_신용_R3M'\n",
    "\n",
    "#Get Details\n",
    "get_column_details(df,column_name)"
   ]
  },
  {
   "cell_type": "code",
   "execution_count": null,
   "id": "d325654c",
   "metadata": {},
   "outputs": [],
   "source": [
    "column_name = '이용금액_신판_R3M'\n",
    "user_friendly_name = '이용금액_신판_R3M'\n",
    "\n",
    "#Get Details\n",
    "get_column_details(df,column_name)"
   ]
  },
  {
   "cell_type": "code",
   "execution_count": null,
   "id": "87b6e383",
   "metadata": {},
   "outputs": [],
   "source": [
    "column_name = '이용금액_일시불_R3M'\n",
    "user_friendly_name = '이용금액_일시불_R3M'\n",
    "\n",
    "#Get Details\n",
    "get_column_details(df,column_name)"
   ]
  },
  {
   "cell_type": "code",
   "execution_count": null,
   "id": "ad59138a",
   "metadata": {},
   "outputs": [],
   "source": [
    "column_name = '이용금액_할부_R3M'\n",
    "user_friendly_name = '이용금액_할부_R3M'\n",
    "\n",
    "#Get Details\n",
    "get_column_details(df,column_name)"
   ]
  },
  {
   "cell_type": "code",
   "execution_count": null,
   "id": "cdf1422c",
   "metadata": {},
   "outputs": [],
   "source": [
    "column_name = '이용금액_할부_유이자_R3M'\n",
    "user_friendly_name = '이용금액_할부_유이자_R3M'\n",
    "\n",
    "#Get Details\n",
    "get_column_details(df,column_name)"
   ]
  },
  {
   "cell_type": "code",
   "execution_count": null,
   "id": "fd513288",
   "metadata": {},
   "outputs": [],
   "source": [
    "column_name = '이용금액_할부_무이자_R3M'\n",
    "user_friendly_name = '이용금액_할부_무이자_R3M'\n",
    "\n",
    "#Get Details\n",
    "get_column_details(df,column_name)"
   ]
  },
  {
   "cell_type": "code",
   "execution_count": null,
   "id": "81233632",
   "metadata": {},
   "outputs": [],
   "source": [
    "column_name = '이용금액_부분무이자_R3M'\n",
    "user_friendly_name = '이용금액_부분무이자_R3M'\n",
    "\n",
    "#Get Details\n",
    "get_column_details(df,column_name)"
   ]
  },
  {
   "cell_type": "code",
   "execution_count": null,
   "id": "8ae8b476",
   "metadata": {},
   "outputs": [],
   "source": [
    "column_name = '이용금액_CA_R3M'\n",
    "user_friendly_name = '이용금액_CA_R3M'\n",
    "\n",
    "#Get Details\n",
    "get_column_details(df,column_name)"
   ]
  },
  {
   "cell_type": "code",
   "execution_count": null,
   "id": "4286117e",
   "metadata": {},
   "outputs": [],
   "source": [
    "column_name = '이용금액_체크_R3M'\n",
    "user_friendly_name = '이용금액_체크_R3M'\n",
    "\n",
    "#Get Details\n",
    "get_column_details(df,column_name)"
   ]
  },
  {
   "cell_type": "code",
   "execution_count": null,
   "id": "2fb4e256",
   "metadata": {},
   "outputs": [],
   "source": [
    "column_name = '이용금액_카드론_R3M'\n",
    "user_friendly_name = '이용금액_카드론_R3M'\n",
    "\n",
    "#Get Details\n",
    "get_column_details(df,column_name)"
   ]
  },
  {
   "cell_type": "code",
   "execution_count": null,
   "id": "c4626f6f",
   "metadata": {},
   "outputs": [],
   "source": [
    "column_name = '이용개월수_신용_R3M'\n",
    "user_friendly_name = '이용개월수_신용_R3M'\n",
    "\n",
    "#Get Details\n",
    "get_column_details(df,column_name)\n",
    "\n",
    "# Plot Graph\n",
    "plot_countplot(df,column_name,user_friendly_name)"
   ]
  },
  {
   "cell_type": "code",
   "execution_count": null,
   "id": "131e5d29",
   "metadata": {},
   "outputs": [],
   "source": [
    "column_name = '이용개월수_신판_R3M'\n",
    "user_friendly_name = '이용개월수_신판_R3M'\n",
    "\n",
    "#Get Details\n",
    "get_column_details(df,column_name)\n",
    "\n",
    "# Plot Graph\n",
    "plot_countplot(df,column_name,user_friendly_name)"
   ]
  },
  {
   "cell_type": "code",
   "execution_count": null,
   "id": "e7ec8442",
   "metadata": {},
   "outputs": [],
   "source": [
    "column_name = '이용개월수_일시불_R3M'\n",
    "user_friendly_name = '이용개월수_일시불_R3M'\n",
    "\n",
    "#Get Details\n",
    "get_column_details(df,column_name)\n",
    "\n",
    "# Plot Graph\n",
    "plot_countplot(df,column_name,user_friendly_name)"
   ]
  },
  {
   "cell_type": "code",
   "execution_count": null,
   "id": "354d7959",
   "metadata": {},
   "outputs": [],
   "source": [
    "column_name = '이용개월수_할부_R3M'\n",
    "user_friendly_name = '이용개월수_할부_R3M'\n",
    "\n",
    "#Get Details\n",
    "get_column_details(df,column_name)\n",
    "\n",
    "# Plot Graph\n",
    "plot_countplot(df,column_name,user_friendly_name)"
   ]
  },
  {
   "cell_type": "code",
   "execution_count": null,
   "id": "628172af",
   "metadata": {},
   "outputs": [],
   "source": [
    "column_name = '이용개월수_할부_유이자_R3M'\n",
    "user_friendly_name = '이용개월수_할부_유이자_R3M'\n",
    "\n",
    "#Get Details\n",
    "get_column_details(df,column_name)\n",
    "\n",
    "# Plot Graph\n",
    "plot_countplot(df,column_name,user_friendly_name)"
   ]
  },
  {
   "cell_type": "code",
   "execution_count": null,
   "id": "39d17230",
   "metadata": {},
   "outputs": [],
   "source": [
    "column_name = '이용개월수_할부_무이자_R3M'\n",
    "user_friendly_name = '이용개월수_할부_무이자_R3M'\n",
    "\n",
    "#Get Details\n",
    "get_column_details(df,column_name)\n",
    "\n",
    "# Plot Graph\n",
    "plot_countplot(df,column_name,user_friendly_name)"
   ]
  },
  {
   "cell_type": "code",
   "execution_count": null,
   "id": "06c92ded",
   "metadata": {},
   "outputs": [],
   "source": [
    "column_name = '이용개월수_부분무이자_R3M'\n",
    "user_friendly_name = '이용개월수_부분무이자_R3M'\n",
    "\n",
    "#Get Details\n",
    "get_column_details(df,column_name)\n",
    "\n",
    "# Plot Graph\n",
    "plot_countplot(df,column_name,user_friendly_name)"
   ]
  },
  {
   "cell_type": "code",
   "execution_count": null,
   "id": "fa616a97",
   "metadata": {},
   "outputs": [],
   "source": [
    "column_name = '이용개월수_CA_R3M'\n",
    "user_friendly_name = '이용개월수_CA_R3M'\n",
    "\n",
    "#Get Details\n",
    "get_column_details(df,column_name)\n",
    "\n",
    "# Plot Graph\n",
    "plot_countplot(df,column_name,user_friendly_name)"
   ]
  },
  {
   "cell_type": "code",
   "execution_count": null,
   "id": "46465080",
   "metadata": {},
   "outputs": [],
   "source": [
    "column_name = '이용개월수_체크_R3M'\n",
    "user_friendly_name = '이용개월수_체크_R3M'\n",
    "\n",
    "#Get Details\n",
    "get_column_details(df,column_name)\n",
    "\n",
    "# Plot Graph\n",
    "plot_countplot(df,column_name,user_friendly_name)"
   ]
  },
  {
   "cell_type": "code",
   "execution_count": null,
   "id": "3169bdcc",
   "metadata": {},
   "outputs": [],
   "source": [
    "column_name = '이용개월수_카드론_R3M'\n",
    "user_friendly_name = '이용개월수_카드론_R3M'\n",
    "\n",
    "#Get Details\n",
    "get_column_details(df,column_name)\n",
    "\n",
    "# Plot Graph\n",
    "plot_countplot(df,column_name,user_friendly_name)"
   ]
  },
  {
   "cell_type": "code",
   "execution_count": null,
   "id": "d4befac0",
   "metadata": {},
   "outputs": [],
   "source": [
    "column_name = '이용가맹점수'\n",
    "user_friendly_name = '이용가맹점수'\n",
    "\n",
    "#Get Details\n",
    "get_column_details(df,column_name)"
   ]
  },
  {
   "cell_type": "code",
   "execution_count": null,
   "id": "8418c063",
   "metadata": {},
   "outputs": [],
   "source": [
    "column_name = '이용금액_업종기준'\n",
    "user_friendly_name = '이용금액_업종기준'\n",
    "\n",
    "#Get Details\n",
    "get_column_details(df,column_name)"
   ]
  },
  {
   "cell_type": "code",
   "execution_count": null,
   "id": "9f7bfb3d",
   "metadata": {},
   "outputs": [],
   "source": [
    "column_name = '이용금액_쇼핑'\n",
    "user_friendly_name = '이용금액_쇼핑'\n",
    "\n",
    "#Get Details\n",
    "get_column_details(df,column_name)"
   ]
  },
  {
   "cell_type": "code",
   "execution_count": null,
   "id": "73c5c205",
   "metadata": {},
   "outputs": [],
   "source": [
    "column_name = '이용금액_요식'\n",
    "user_friendly_name = '이용금액_요식'\n",
    "\n",
    "#Get Details\n",
    "get_column_details(df,column_name)"
   ]
  },
  {
   "cell_type": "code",
   "execution_count": null,
   "id": "26b907b9",
   "metadata": {},
   "outputs": [],
   "source": [
    "column_name = '이용금액_교통'\n",
    "user_friendly_name = '이용금액_교통'\n",
    "\n",
    "#Get Details\n",
    "get_column_details(df,column_name)"
   ]
  },
  {
   "cell_type": "code",
   "execution_count": null,
   "id": "bd105e5b",
   "metadata": {},
   "outputs": [],
   "source": [
    "column_name = '이용금액_의료'\n",
    "user_friendly_name = '이용금액_의료'\n",
    "\n",
    "#Get Details\n",
    "get_column_details(df,column_name)"
   ]
  },
  {
   "cell_type": "code",
   "execution_count": null,
   "id": "897bf176",
   "metadata": {},
   "outputs": [],
   "source": [
    "column_name = '이용금액_납부'\n",
    "user_friendly_name = '이용금액_납부'\n",
    "\n",
    "#Get Details\n",
    "get_column_details(df,column_name)"
   ]
  },
  {
   "cell_type": "code",
   "execution_count": null,
   "id": "e2e17689",
   "metadata": {},
   "outputs": [],
   "source": [
    "column_name = '이용금액_교육'\n",
    "user_friendly_name = '이용금액_교육'\n",
    "\n",
    "#Get Details\n",
    "get_column_details(df,column_name)"
   ]
  },
  {
   "cell_type": "code",
   "execution_count": null,
   "id": "faa60560",
   "metadata": {},
   "outputs": [],
   "source": [
    "column_name = '이용금액_여유생활'\n",
    "user_friendly_name = '이용금액_여유생활'\n",
    "\n",
    "#Get Details\n",
    "get_column_details(df,column_name)"
   ]
  },
  {
   "cell_type": "code",
   "execution_count": null,
   "id": "9a0c07e4",
   "metadata": {},
   "outputs": [],
   "source": [
    "column_name = '이용금액_사교활동'\n",
    "user_friendly_name = '이용금액_사교활동'\n",
    "\n",
    "#Get Details\n",
    "get_column_details(df,column_name)"
   ]
  },
  {
   "cell_type": "code",
   "execution_count": null,
   "id": "8e783ab9",
   "metadata": {},
   "outputs": [],
   "source": [
    "column_name = '이용금액_일상생활'\n",
    "user_friendly_name = '이용금액_일상생활'\n",
    "\n",
    "#Get Details\n",
    "get_column_details(df,column_name)"
   ]
  },
  {
   "cell_type": "code",
   "execution_count": null,
   "id": "e7c3089b",
   "metadata": {},
   "outputs": [],
   "source": [
    "column_name = '이용금액_해외'\n",
    "user_friendly_name = '이용금액_해외'\n",
    "\n",
    "#Get Details\n",
    "get_column_details(df,column_name)"
   ]
  },
  {
   "cell_type": "code",
   "execution_count": null,
   "id": "4d172570",
   "metadata": {},
   "outputs": [],
   "source": [
    "column_name = '쇼핑_도소매_이용금액'\n",
    "user_friendly_name = '쇼핑_도소매_이용금액'\n",
    "\n",
    "#Get Details\n",
    "get_column_details(df,column_name)"
   ]
  },
  {
   "cell_type": "code",
   "execution_count": null,
   "id": "f172619d",
   "metadata": {},
   "outputs": [],
   "source": [
    "column_name = '쇼핑_백화점_이용금액'\n",
    "user_friendly_name = '쇼핑_백화점_이용금액'\n",
    "\n",
    "#Get Details\n",
    "get_column_details(df,column_name)"
   ]
  },
  {
   "cell_type": "code",
   "execution_count": null,
   "id": "2090e98e",
   "metadata": {},
   "outputs": [],
   "source": [
    "column_name = '쇼핑_마트_이용금액'\n",
    "user_friendly_name = '쇼핑_마트_이용금액'\n",
    "\n",
    "#Get Details\n",
    "get_column_details(df,column_name)"
   ]
  },
  {
   "cell_type": "code",
   "execution_count": null,
   "id": "5cd8591e",
   "metadata": {},
   "outputs": [],
   "source": [
    "column_name = '쇼핑_슈퍼마켓_이용금액'\n",
    "user_friendly_name = '쇼핑_슈퍼마켓_이용금액'\n",
    "\n",
    "#Get Details\n",
    "get_column_details(df,column_name)"
   ]
  },
  {
   "cell_type": "code",
   "execution_count": null,
   "id": "8973d531",
   "metadata": {},
   "outputs": [],
   "source": [
    "column_name = '쇼핑_편의점_이용금액'\n",
    "user_friendly_name = '쇼핑_편의점_이용금액'\n",
    "\n",
    "#Get Details\n",
    "get_column_details(df,column_name)"
   ]
  },
  {
   "cell_type": "code",
   "execution_count": null,
   "id": "bcc90112",
   "metadata": {},
   "outputs": [],
   "source": [
    "column_name = '쇼핑_아울렛_이용금액'\n",
    "user_friendly_name = '쇼핑_아울렛_이용금액'\n",
    "\n",
    "#Get Details\n",
    "get_column_details(df,column_name)"
   ]
  },
  {
   "cell_type": "code",
   "execution_count": null,
   "id": "9f7bf713",
   "metadata": {},
   "outputs": [],
   "source": [
    "column_name = '쇼핑_온라인_이용금액'\n",
    "user_friendly_name = '쇼핑_온라인_이용금액'\n",
    "\n",
    "#Get Details\n",
    "get_column_details(df,column_name)"
   ]
  },
  {
   "cell_type": "code",
   "execution_count": null,
   "id": "ac03cc7e",
   "metadata": {},
   "outputs": [],
   "source": [
    "column_name = '쇼핑_기타_이용금액'\n",
    "user_friendly_name = '쇼핑_기타_이용금액'\n",
    "\n",
    "#Get Details\n",
    "get_column_details(df,column_name)"
   ]
  },
  {
   "cell_type": "code",
   "execution_count": null,
   "id": "3a782eae",
   "metadata": {},
   "outputs": [],
   "source": [
    "column_name = '쇼핑_전체_이용금액'\n",
    "user_friendly_name = '쇼핑_전체_이용금액'\n",
    "\n",
    "#Get Details\n",
    "get_column_details(df,column_name)"
   ]
  },
  {
   "cell_type": "code",
   "execution_count": null,
   "id": "ed6e2af0",
   "metadata": {},
   "outputs": [],
   "source": [
    "column_name = '교통_주유이용금액'\n",
    "user_friendly_name = '교통_주유이용금액'\n",
    "\n",
    "#Get Details\n",
    "get_column_details(df,column_name)"
   ]
  },
  {
   "cell_type": "code",
   "execution_count": null,
   "id": "fe008ef0",
   "metadata": {},
   "outputs": [],
   "source": [
    "column_name = '교통_정비이용금액'\n",
    "user_friendly_name = '교통_정비이용금액'\n",
    "\n",
    "#Get Details\n",
    "get_column_details(df,column_name)"
   ]
  },
  {
   "cell_type": "code",
   "execution_count": null,
   "id": "8c7741eb",
   "metadata": {},
   "outputs": [],
   "source": [
    "column_name = '교통_통행료이용금액'\n",
    "user_friendly_name = '교통_통행료이용금액'\n",
    "\n",
    "#Get Details\n",
    "get_column_details(df,column_name)"
   ]
  },
  {
   "cell_type": "code",
   "execution_count": null,
   "id": "f1ffd4f6",
   "metadata": {},
   "outputs": [],
   "source": [
    "column_name = '교통_버스지하철이용금액'\n",
    "user_friendly_name = '교통_버스지하철이용금액'\n",
    "\n",
    "#Get Details\n",
    "get_column_details(df,column_name)"
   ]
  },
  {
   "cell_type": "code",
   "execution_count": null,
   "id": "0645b5c0",
   "metadata": {},
   "outputs": [],
   "source": [
    "column_name = '교통_택시이용금액'\n",
    "user_friendly_name = '교통_택시이용금액'\n",
    "\n",
    "#Get Details\n",
    "get_column_details(df,column_name)"
   ]
  },
  {
   "cell_type": "code",
   "execution_count": null,
   "id": "debc762b",
   "metadata": {},
   "outputs": [],
   "source": [
    "column_name = '교통_철도버스이용금액'\n",
    "user_friendly_name = '교통_철도버스이용금액'\n",
    "\n",
    "#Get Details\n",
    "get_column_details(df,column_name)"
   ]
  },
  {
   "cell_type": "code",
   "execution_count": null,
   "id": "71177b53",
   "metadata": {},
   "outputs": [],
   "source": [
    "column_name = '교통_전체이용금액'\n",
    "user_friendly_name = '교통_전체이용금액'\n",
    "\n",
    "#Get Details\n",
    "get_column_details(df,column_name)"
   ]
  },
  {
   "cell_type": "code",
   "execution_count": null,
   "id": "51cc8521",
   "metadata": {},
   "outputs": [],
   "source": [
    "column_name = '여유_운동이용금액'\n",
    "user_friendly_name = '여유_운동이용금액'\n",
    "\n",
    "#Get Details\n",
    "get_column_details(df,column_name)"
   ]
  },
  {
   "cell_type": "code",
   "execution_count": null,
   "id": "62a47469",
   "metadata": {},
   "outputs": [],
   "source": [
    "column_name = '여유_Pet이용금액'\n",
    "user_friendly_name = '여유_Pet이용금액'\n",
    "\n",
    "#Get Details\n",
    "get_column_details(df,column_name)"
   ]
  },
  {
   "cell_type": "code",
   "execution_count": null,
   "id": "957fbc6f",
   "metadata": {},
   "outputs": [],
   "source": [
    "column_name = '여유_공연이용금액'\n",
    "user_friendly_name = '여유_공연이용금액'\n",
    "\n",
    "#Get Details\n",
    "get_column_details(df,column_name)"
   ]
  },
  {
   "cell_type": "code",
   "execution_count": null,
   "id": "adbba165",
   "metadata": {},
   "outputs": [],
   "source": [
    "column_name = '여유_공원이용금액'\n",
    "user_friendly_name = '여유_공원이용금액'\n",
    "\n",
    "#Get Details\n",
    "get_column_details(df,column_name)"
   ]
  },
  {
   "cell_type": "code",
   "execution_count": null,
   "id": "27f06032",
   "metadata": {},
   "outputs": [],
   "source": [
    "column_name = '여유_숙박이용금액'\n",
    "user_friendly_name = '여유_숙박이용금액'\n",
    "\n",
    "#Get Details\n",
    "get_column_details(df,column_name)"
   ]
  },
  {
   "cell_type": "code",
   "execution_count": null,
   "id": "823ab514",
   "metadata": {},
   "outputs": [],
   "source": [
    "column_name = '여유_여행이용금액'\n",
    "user_friendly_name = '여유_여행이용금액'\n",
    "\n",
    "#Get Details\n",
    "get_column_details(df,column_name)"
   ]
  },
  {
   "cell_type": "code",
   "execution_count": null,
   "id": "65daf82a",
   "metadata": {},
   "outputs": [],
   "source": [
    "column_name = '여유_항공이용금액'\n",
    "user_friendly_name = '여유_항공이용금액'\n",
    "\n",
    "#Get Details\n",
    "get_column_details(df,column_name)"
   ]
  },
  {
   "cell_type": "code",
   "execution_count": null,
   "id": "dd4bf48e",
   "metadata": {},
   "outputs": [],
   "source": [
    "column_name = '여유_기타이용금액'\n",
    "user_friendly_name = '여유_기타이용금액'\n",
    "\n",
    "#Get Details\n",
    "get_column_details(df,column_name)"
   ]
  },
  {
   "cell_type": "code",
   "execution_count": null,
   "id": "7ab3947c",
   "metadata": {},
   "outputs": [],
   "source": [
    "column_name = '여유_전체이용금액'\n",
    "user_friendly_name = '여유_전체이용금액'\n",
    "\n",
    "#Get Details\n",
    "get_column_details(df,column_name)"
   ]
  },
  {
   "cell_type": "code",
   "execution_count": null,
   "id": "12bfcfab",
   "metadata": {},
   "outputs": [],
   "source": [
    "column_name = '납부_통신비이용금액'\n",
    "user_friendly_name = '납부_통신비이용금액'\n",
    "\n",
    "#Get Details\n",
    "get_column_details(df,column_name)"
   ]
  },
  {
   "cell_type": "code",
   "execution_count": null,
   "id": "2db0d019",
   "metadata": {},
   "outputs": [],
   "source": [
    "column_name = '납부_관리비이용금액'\n",
    "user_friendly_name = '납부_관리비이용금액'\n",
    "\n",
    "#Get Details\n",
    "get_column_details(df,column_name)"
   ]
  },
  {
   "cell_type": "code",
   "execution_count": null,
   "id": "8f462e2c",
   "metadata": {},
   "outputs": [],
   "source": [
    "column_name = '납부_렌탈료이용금액'\n",
    "user_friendly_name = '납부_렌탈료이용금액'\n",
    "\n",
    "#Get Details\n",
    "get_column_details(df,column_name)"
   ]
  },
  {
   "cell_type": "code",
   "execution_count": null,
   "id": "6de1b7cb",
   "metadata": {},
   "outputs": [],
   "source": [
    "column_name = '납부_가스전기료이용금액'\n",
    "user_friendly_name = '납부_가스전기료이용금액'\n",
    "\n",
    "#Get Details\n",
    "get_column_details(df,column_name)"
   ]
  },
  {
   "cell_type": "code",
   "execution_count": null,
   "id": "ab91d38d",
   "metadata": {},
   "outputs": [],
   "source": [
    "column_name = '납부_보험료이용금액'\n",
    "user_friendly_name = '납부_보험료이용금액'\n",
    "\n",
    "#Get Details\n",
    "get_column_details(df,column_name)"
   ]
  },
  {
   "cell_type": "code",
   "execution_count": null,
   "id": "4ddedbf0",
   "metadata": {},
   "outputs": [],
   "source": [
    "column_name = '납부_유선방송이용금액'\n",
    "user_friendly_name = '납부_유선방송이용금액'\n",
    "\n",
    "#Get Details\n",
    "get_column_details(df,column_name)"
   ]
  },
  {
   "cell_type": "code",
   "execution_count": null,
   "id": "49613fa9",
   "metadata": {},
   "outputs": [],
   "source": [
    "column_name = '납부_건강연금이용금액'\n",
    "user_friendly_name = '납부_건강연금이용금액'\n",
    "\n",
    "#Get Details\n",
    "get_column_details(df,column_name)"
   ]
  },
  {
   "cell_type": "code",
   "execution_count": null,
   "id": "9ebf1bdb",
   "metadata": {},
   "outputs": [],
   "source": [
    "column_name = '납부_기타이용금액'\n",
    "user_friendly_name = '납부_기타이용금액'\n",
    "\n",
    "#Get Details\n",
    "get_column_details(df,column_name)"
   ]
  },
  {
   "cell_type": "code",
   "execution_count": null,
   "id": "b47e7fce",
   "metadata": {},
   "outputs": [],
   "source": [
    "column_name = '납부_전체이용금액'\n",
    "user_friendly_name = '납부_전체이용금액'\n",
    "\n",
    "#Get Details\n",
    "get_column_details(df,column_name)"
   ]
  },
  {
   "cell_type": "code",
   "execution_count": null,
   "id": "ba58a14c",
   "metadata": {},
   "outputs": [],
   "source": [
    "column_name = '할부건수_3M_R12M'\n",
    "user_friendly_name = '할부건수_3M_R12M'\n",
    "\n",
    "#Get Details\n",
    "get_column_details(df,column_name)"
   ]
  },
  {
   "cell_type": "code",
   "execution_count": null,
   "id": "ced09641",
   "metadata": {},
   "outputs": [],
   "source": [
    "column_name = '할부건수_6M_R12M'\n",
    "user_friendly_name = '할부건수_6M_R12M'\n",
    "\n",
    "#Get Details\n",
    "get_column_details(df,column_name)"
   ]
  },
  {
   "cell_type": "code",
   "execution_count": null,
   "id": "071e7600",
   "metadata": {},
   "outputs": [],
   "source": [
    "column_name = '할부건수_12M_R12M'\n",
    "user_friendly_name = '할부건수_12M_R12M'\n",
    "\n",
    "#Get Details\n",
    "get_column_details(df,column_name)"
   ]
  },
  {
   "cell_type": "code",
   "execution_count": null,
   "id": "0410f8a7",
   "metadata": {},
   "outputs": [],
   "source": [
    "column_name = 'RP건수_B0M'\n",
    "user_friendly_name = 'RP건수_B0M'\n",
    "\n",
    "#Get Details\n",
    "get_column_details(df,column_name)"
   ]
  },
  {
   "cell_type": "code",
   "execution_count": null,
   "id": "eb794195",
   "metadata": {},
   "outputs": [],
   "source": [
    "column_name = 'RP금액_B0M'\n",
    "user_friendly_name = 'RP금액_B0M'\n",
    "\n",
    "#Get Details\n",
    "get_column_details(df,column_name)"
   ]
  },
  {
   "cell_type": "code",
   "execution_count": null,
   "id": "c2d9028d",
   "metadata": {},
   "outputs": [],
   "source": [
    "column_name = '증감_RP건수_전월'\n",
    "user_friendly_name = '증감_RP건수_전월'\n",
    "\n",
    "#Get Details\n",
    "get_column_details(df,column_name)"
   ]
  },
  {
   "cell_type": "code",
   "execution_count": null,
   "id": "a611af07",
   "metadata": {},
   "outputs": [],
   "source": [
    "column_name = '증감_RP유형건수_전월'\n",
    "user_friendly_name = '증감_RP유형건수_전월'\n",
    "\n",
    "#Get Details\n",
    "get_column_details(df,column_name)\n",
    "\n",
    "# Plot Graph\n",
    "plot_countplot(df,column_name,user_friendly_name)"
   ]
  },
  {
   "cell_type": "code",
   "execution_count": null,
   "id": "c21f1a9b",
   "metadata": {},
   "outputs": [],
   "source": [
    "column_name = '이용개월수_온라인_R6M'\n",
    "user_friendly_name = '이용개월수_온라인_R6M'\n",
    "\n",
    "#Get Details\n",
    "get_column_details(df,column_name)\n",
    "\n",
    "# Plot Graph\n",
    "plot_countplot(df,column_name,user_friendly_name)"
   ]
  },
  {
   "cell_type": "code",
   "execution_count": null,
   "id": "6476176e",
   "metadata": {},
   "outputs": [],
   "source": [
    "column_name = '이용개월수_오프라인_R6M'\n",
    "user_friendly_name = '이용개월수_오프라인_R6M'\n",
    "\n",
    "#Get Details\n",
    "get_column_details(df,column_name)\n",
    "\n",
    "# Plot Graph\n",
    "plot_countplot(df,column_name,user_friendly_name)"
   ]
  },
  {
   "cell_type": "code",
   "execution_count": null,
   "id": "aea1ffc0",
   "metadata": {},
   "outputs": [],
   "source": [
    "column_name = '이용건수_오프라인_R6M'\n",
    "user_friendly_name = '이용건수_오프라인_R6M'\n",
    "\n",
    "#Get Details\n",
    "get_column_details(df,column_name)"
   ]
  },
  {
   "cell_type": "code",
   "execution_count": null,
   "id": "c767fc95",
   "metadata": {},
   "outputs": [],
   "source": [
    "column_name = '이용건수_온라인_B0M'\n",
    "user_friendly_name = '이용건수_온라인_B0M'\n",
    "\n",
    "#Get Details\n",
    "get_column_details(df,column_name)"
   ]
  },
  {
   "cell_type": "code",
   "execution_count": null,
   "id": "f5f20307",
   "metadata": {},
   "outputs": [],
   "source": [
    "column_name = '이용건수_오프라인_B0M'\n",
    "user_friendly_name = '이용건수_오프라인_B0M'\n",
    "\n",
    "#Get Details\n",
    "get_column_details(df,column_name)"
   ]
  },
  {
   "cell_type": "code",
   "execution_count": null,
   "id": "e0200710",
   "metadata": {},
   "outputs": [],
   "source": [
    "column_name = '이용개월수_페이_온라인_R6M'\n",
    "user_friendly_name = '이용개월수_페이_온라인_R6M'\n",
    "\n",
    "#Get Details\n",
    "get_column_details(df,column_name)\n",
    "\n",
    "# Plot Graph\n",
    "plot_countplot(df,column_name,user_friendly_name)"
   ]
  },
  {
   "cell_type": "code",
   "execution_count": null,
   "id": "dffea6b4",
   "metadata": {},
   "outputs": [],
   "source": [
    "column_name = '이용개월수_페이_오프라인_R6M'\n",
    "user_friendly_name = '이용개월수_페이_오프라인_R6M'\n",
    "\n",
    "#Get Details\n",
    "get_column_details(df,column_name)\n",
    "\n",
    "# Plot Graph\n",
    "plot_countplot(df,column_name,user_friendly_name)"
   ]
  },
  {
   "cell_type": "code",
   "execution_count": null,
   "id": "b08ab29c",
   "metadata": {},
   "outputs": [],
   "source": [
    "column_name = '이용금액_페이_온라인_R6M'\n",
    "user_friendly_name = '이용금액_페이_온라인_R6M'\n",
    "\n",
    "#Get Details\n",
    "get_column_details(df,column_name)"
   ]
  },
  {
   "cell_type": "code",
   "execution_count": null,
   "id": "9002e12c",
   "metadata": {},
   "outputs": [],
   "source": [
    "column_name = '이용건수_페이_온라인_R6M'\n",
    "user_friendly_name = '이용건수_페이_온라인_R6M'\n",
    "\n",
    "#Get Details\n",
    "get_column_details(df,column_name)"
   ]
  },
  {
   "cell_type": "code",
   "execution_count": null,
   "id": "f365f618",
   "metadata": {},
   "outputs": [],
   "source": [
    "column_name = '이용건수_페이_오프라인_R6M'\n",
    "user_friendly_name = '이용건수_페이_오프라인_R6M'\n",
    "\n",
    "#Get Details\n",
    "get_column_details(df,column_name)"
   ]
  },
  {
   "cell_type": "code",
   "execution_count": null,
   "id": "5c040de2",
   "metadata": {},
   "outputs": [],
   "source": [
    "column_name = '이용건수_페이_오프라인_R3M'\n",
    "user_friendly_name = '이용건수_페이_오프라인_R3M'\n",
    "\n",
    "#Get Details\n",
    "get_column_details(df,column_name)"
   ]
  },
  {
   "cell_type": "code",
   "execution_count": null,
   "id": "6e5dc596",
   "metadata": {},
   "outputs": [],
   "source": [
    "column_name = '이용건수_페이_온라인_B0M'\n",
    "user_friendly_name = '이용건수_페이_온라인_B0M'\n",
    "\n",
    "#Get Details\n",
    "get_column_details(df,column_name)"
   ]
  },
  {
   "cell_type": "code",
   "execution_count": null,
   "id": "d35b5709",
   "metadata": {},
   "outputs": [],
   "source": [
    "column_name = '이용건수_페이_오프라인_B0M'\n",
    "user_friendly_name = '이용건수_페이_오프라인_B0M'\n",
    "\n",
    "#Get Details\n",
    "get_column_details(df,column_name)"
   ]
  },
  {
   "cell_type": "code",
   "execution_count": null,
   "id": "8dd85ec9",
   "metadata": {},
   "outputs": [],
   "source": [
    "column_name = '이용개월수_간편결제_R6M'\n",
    "user_friendly_name = '이용개월수_간편결제_R6M'\n",
    "\n",
    "#Get Details\n",
    "get_column_details(df,column_name)\n",
    "\n",
    "# Plot Graph\n",
    "plot_countplot(df,column_name,user_friendly_name)\n",
    "\n"
   ]
  },
  {
   "cell_type": "code",
   "execution_count": null,
   "id": "ad54bab6",
   "metadata": {},
   "outputs": [],
   "source": [
    "column_name = '이용개월수_전체_R6M'\n",
    "user_friendly_name = '이용개월수_전체_R6M'\n",
    "\n",
    "#Get Details\n",
    "get_column_details(df,column_name)\n",
    "\n",
    "# Plot Graph\n",
    "plot_countplot(df,column_name,user_friendly_name)"
   ]
  },
  {
   "cell_type": "code",
   "execution_count": null,
   "id": "14f0ab3d",
   "metadata": {},
   "outputs": [],
   "source": [
    "column_name = '이용개월수_전체_R3M'\n",
    "user_friendly_name = '이용개월수_전체_R3M'\n",
    "\n",
    "#Get Details\n",
    "get_column_details(df,column_name)\n",
    "\n",
    "# Plot Graph\n",
    "plot_countplot(df,column_name,user_friendly_name)"
   ]
  },
  {
   "cell_type": "code",
   "execution_count": null,
   "id": "53e54efd",
   "metadata": {},
   "outputs": [],
   "source": [
    "column_name = '이용개월수_결제일_R6M'\n",
    "user_friendly_name = '이용개월수_결제일_R6M'\n",
    "\n",
    "#Get Details\n",
    "get_column_details(df,column_name)\n",
    "\n",
    "# Plot Graph\n",
    "plot_countplot(df,column_name,user_friendly_name)"
   ]
  },
  {
   "cell_type": "code",
   "execution_count": null,
   "id": "3bb972c7",
   "metadata": {},
   "outputs": [],
   "source": [
    "column_name = '이용금액대'\n",
    "user_friendly_name = '이용금액대'\n",
    "\n",
    "#Get Details\n",
    "get_column_details(df,column_name)"
   ]
  },
  {
   "cell_type": "code",
   "execution_count": null,
   "id": "e609e9cc",
   "metadata": {},
   "outputs": [],
   "source": [
    "column_name = '청구금액_R3M'\n",
    "user_friendly_name = '청구금액_R3M'\n",
    "\n",
    "#Get Details\n",
    "get_column_details(df,column_name)"
   ]
  },
  {
   "cell_type": "code",
   "execution_count": null,
   "id": "9e6e7ea6",
   "metadata": {},
   "outputs": [],
   "source": [
    "column_name = '청구금액_R6M'\n",
    "user_friendly_name = '청구금액_R6M'\n",
    "\n",
    "#Get Details\n",
    "get_column_details(df,column_name)"
   ]
  },
  {
   "cell_type": "code",
   "execution_count": null,
   "id": "b0245f14",
   "metadata": {},
   "outputs": [],
   "source": [
    "column_name = '할인건수_R3M'\n",
    "user_friendly_name = '할인건수_R3M'\n",
    "\n",
    "#Get Details\n",
    "get_column_details(df,column_name)"
   ]
  },
  {
   "cell_type": "code",
   "execution_count": null,
   "id": "dda2f91c",
   "metadata": {},
   "outputs": [],
   "source": [
    "column_name = '할인금액_R3M'\n",
    "user_friendly_name = '할인금액_R3M'\n",
    "\n",
    "#Get Details\n",
    "get_column_details(df,column_name)"
   ]
  },
  {
   "cell_type": "code",
   "execution_count": null,
   "id": "f325d987",
   "metadata": {},
   "outputs": [],
   "source": [
    "column_name = '할인건수_B0M'\n",
    "user_friendly_name = '할인건수_B0M'\n",
    "\n",
    "#Get Details\n",
    "get_column_details(df,column_name)"
   ]
  },
  {
   "cell_type": "code",
   "execution_count": null,
   "id": "84bd33da",
   "metadata": {},
   "outputs": [],
   "source": [
    "column_name = '할인금액_B0M'\n",
    "user_friendly_name = '할인금액_B0M'\n",
    "\n",
    "#Get Details\n",
    "get_column_details(df,column_name)"
   ]
  },
  {
   "cell_type": "code",
   "execution_count": null,
   "id": "280e89d9",
   "metadata": {},
   "outputs": [],
   "source": [
    "column_name = '상환개월수_R12M'\n",
    "user_friendly_name = '상환개월수_R12M'\n",
    "\n",
    "#Get Details\n",
    "get_column_details(df,column_name)\n",
    "\n",
    "# Plot Graph\n",
    "plot_countplot(df,column_name,user_friendly_name)"
   ]
  },
  {
   "cell_type": "code",
   "execution_count": null,
   "id": "651c6bc8",
   "metadata": {},
   "outputs": [],
   "source": [
    "column_name = '상환개월수_결제일_R12M'\n",
    "user_friendly_name = '상환개월수_결제일_R12M'\n",
    "\n",
    "#Get Details\n",
    "get_column_details(df,column_name)\n",
    "\n",
    "# Plot Graph\n",
    "plot_countplot(df,column_name,user_friendly_name)"
   ]
  },
  {
   "cell_type": "code",
   "execution_count": null,
   "id": "12a8c8c6",
   "metadata": {},
   "outputs": [],
   "source": [
    "column_name = '상환개월수_결제일_R6M'\n",
    "user_friendly_name = '상환개월수_결제일_R6M'\n",
    "\n",
    "#Get Details\n",
    "get_column_details(df,column_name)\n",
    "\n",
    "# Plot Graph\n",
    "plot_countplot(df,column_name,user_friendly_name)"
   ]
  },
  {
   "cell_type": "code",
   "execution_count": null,
   "id": "fa4714c9",
   "metadata": {},
   "outputs": [],
   "source": [
    "column_name = '상환개월수_결제일_R3M'\n",
    "user_friendly_name = '상환개월수_결제일_R3M'\n",
    "\n",
    "#Get Details\n",
    "get_column_details(df,column_name)\n",
    "\n",
    "# Plot Graph\n",
    "plot_countplot(df,column_name,user_friendly_name)"
   ]
  },
  {
   "cell_type": "code",
   "execution_count": null,
   "id": "03bf1bd0",
   "metadata": {},
   "outputs": [],
   "source": [
    "column_name = '연체건수_R12M'\n",
    "user_friendly_name = '연체건수_R12M'\n",
    "\n",
    "#Get Details\n",
    "get_column_details(df,column_name)"
   ]
  },
  {
   "cell_type": "code",
   "execution_count": null,
   "id": "ade208be",
   "metadata": {},
   "outputs": [],
   "source": [
    "column_name = '연체건수_R6M'\n",
    "user_friendly_name = '연체건수_R6M'\n",
    "\n",
    "#Get Details\n",
    "get_column_details(df,column_name)"
   ]
  },
  {
   "cell_type": "code",
   "execution_count": null,
   "id": "3a536c6a",
   "metadata": {},
   "outputs": [],
   "source": [
    "column_name = '연체건수_R3M'\n",
    "user_friendly_name = '연체건수_R3M'\n",
    "\n",
    "#Get Details\n",
    "get_column_details(df,column_name)"
   ]
  },
  {
   "cell_type": "code",
   "execution_count": null,
   "id": "0708a239",
   "metadata": {},
   "outputs": [],
   "source": [
    "column_name = '혜택수혜금액'\n",
    "user_friendly_name = '혜택수혜금액'\n",
    "\n",
    "#Get Details\n",
    "get_column_details(df,column_name)"
   ]
  },
  {
   "cell_type": "code",
   "execution_count": null,
   "id": "7d02976e",
   "metadata": {},
   "outputs": [],
   "source": [
    "column_name = '컨택건수_카드론_TM_B0M'\n",
    "user_friendly_name = '컨택건수_카드론_TM_B0M'\n",
    "\n",
    "#Get Details\n",
    "get_column_details(df,column_name)"
   ]
  },
  {
   "cell_type": "code",
   "execution_count": null,
   "id": "ecdccc51",
   "metadata": {},
   "outputs": [],
   "source": [
    "column_name = '컨택건수_리볼빙_TM_B0M'\n",
    "user_friendly_name = '컨택건수_리볼빙_TM_B0M'\n",
    "\n",
    "#Get Details\n",
    "get_column_details(df,column_name)"
   ]
  },
  {
   "cell_type": "code",
   "execution_count": null,
   "id": "c09ee67c",
   "metadata": {},
   "outputs": [],
   "source": [
    "column_name = '컨택건수_CA_TM_B0M'\n",
    "user_friendly_name = '컨택건수_CA_TM_B0M'\n",
    "\n",
    "#Get Details\n",
    "get_column_details(df,column_name)"
   ]
  },
  {
   "cell_type": "code",
   "execution_count": null,
   "id": "da022a8f",
   "metadata": {},
   "outputs": [],
   "source": [
    "column_name = '컨택건수_이용유도_TM_B0M'\n",
    "user_friendly_name = '컨택건수_이용유도_TM_B0M'\n",
    "\n",
    "#Get Details\n",
    "get_column_details(df,column_name)"
   ]
  },
  {
   "cell_type": "code",
   "execution_count": null,
   "id": "397d7750",
   "metadata": {},
   "outputs": [],
   "source": [
    "column_name = '컨택건수_신용발급_TM_B0M'\n",
    "user_friendly_name = '컨택건수_신용발급_TM_B0M'\n",
    "\n",
    "#Get Details\n",
    "get_column_details(df,column_name)"
   ]
  },
  {
   "cell_type": "code",
   "execution_count": null,
   "id": "494ba350",
   "metadata": {},
   "outputs": [],
   "source": [
    "column_name = '컨택건수_부대서비스_TM_B0M'\n",
    "user_friendly_name = '컨택건수_부대서비스_TM_B0M'\n",
    "\n",
    "#Get Details\n",
    "get_column_details(df,column_name)"
   ]
  },
  {
   "cell_type": "code",
   "execution_count": null,
   "id": "351fb44a",
   "metadata": {},
   "outputs": [],
   "source": [
    "column_name = '컨택건수_포인트소진_TM_B0M'\n",
    "user_friendly_name = '컨택건수_포인트소진_TM_B0M'\n",
    "\n",
    "#Get Details\n",
    "get_column_details(df,column_name)"
   ]
  },
  {
   "cell_type": "code",
   "execution_count": null,
   "id": "85bf2a28",
   "metadata": {},
   "outputs": [],
   "source": [
    "column_name = '컨택건수_보험_TM_B0M'\n",
    "user_friendly_name = '컨택건수_보험_TM_B0M'\n",
    "\n",
    "#Get Details\n",
    "get_column_details(df,column_name)"
   ]
  },
  {
   "cell_type": "code",
   "execution_count": null,
   "id": "f1a96d86",
   "metadata": {},
   "outputs": [],
   "source": [
    "column_name = '컨택건수_카드론_LMS_B0M'\n",
    "user_friendly_name = '컨택건수_카드론_LMS_B0M'\n",
    "\n",
    "#Get Details\n",
    "get_column_details(df,column_name)"
   ]
  },
  {
   "cell_type": "code",
   "execution_count": null,
   "id": "dbcc6e7c",
   "metadata": {},
   "outputs": [],
   "source": [
    "column_name = '컨택건수_CA_LMS_B0M'\n",
    "user_friendly_name = '컨택건수_CA_LMS_B0M'\n",
    "\n",
    "#Get Details\n",
    "get_column_details(df,column_name)"
   ]
  },
  {
   "cell_type": "code",
   "execution_count": null,
   "id": "680198d0",
   "metadata": {},
   "outputs": [],
   "source": [
    "column_name = '컨택건수_리볼빙_LMS_B0M'\n",
    "user_friendly_name = '컨택건수_리볼빙_LMS_B0M'\n",
    "\n",
    "#Get Details\n",
    "get_column_details(df,column_name)"
   ]
  },
  {
   "cell_type": "code",
   "execution_count": null,
   "id": "5ec58b65",
   "metadata": {},
   "outputs": [],
   "source": [
    "column_name = '컨택건수_이용유도_LMS_B0M'\n",
    "user_friendly_name = '컨택건수_이용유도_LMS_B0M'\n",
    "\n",
    "#Get Details\n",
    "get_column_details(df,column_name)"
   ]
  },
  {
   "cell_type": "code",
   "execution_count": null,
   "id": "04903ec0",
   "metadata": {},
   "outputs": [],
   "source": [
    "column_name = '컨택건수_카드론_EM_B0M'\n",
    "user_friendly_name = '컨택건수_카드론_EM_B0M'\n",
    "\n",
    "#Get Details\n",
    "get_column_details(df,column_name)"
   ]
  },
  {
   "cell_type": "code",
   "execution_count": null,
   "id": "0dfb9a70",
   "metadata": {},
   "outputs": [],
   "source": [
    "column_name = '컨택건수_CA_EM_B0M'\n",
    "user_friendly_name = '컨택건수_CA_EM_B0M'\n",
    "\n",
    "#Get Details\n",
    "get_column_details(df,column_name)"
   ]
  },
  {
   "cell_type": "code",
   "execution_count": null,
   "id": "a5b1826c",
   "metadata": {},
   "outputs": [],
   "source": [
    "column_name = '컨택건수_리볼빙_EM_B0M'\n",
    "user_friendly_name = '컨택건수_리볼빙_EM_B0M'\n",
    "\n",
    "#Get Details\n",
    "get_column_details(df,column_name)"
   ]
  },
  {
   "cell_type": "code",
   "execution_count": null,
   "id": "52db641d",
   "metadata": {},
   "outputs": [],
   "source": [
    "column_name = '컨택건수_이용유도_EM_B0M'\n",
    "user_friendly_name = '컨택건수_이용유도_EM_B0M'\n",
    "\n",
    "#Get Details\n",
    "get_column_details(df,column_name)"
   ]
  },
  {
   "cell_type": "code",
   "execution_count": null,
   "id": "ccbd0d0d",
   "metadata": {},
   "outputs": [],
   "source": [
    "column_name = '컨택건수_카드론_청구서_B0M'\n",
    "user_friendly_name = '컨택건수_카드론_청구서_B0M'\n",
    "\n",
    "#Get Details\n",
    "get_column_details(df,column_name)"
   ]
  },
  {
   "cell_type": "code",
   "execution_count": null,
   "id": "ad67e2f7",
   "metadata": {},
   "outputs": [],
   "source": [
    "column_name = '컨택건수_CA_청구서_B0M'\n",
    "user_friendly_name = '컨택건수_CA_청구서_B0M'\n",
    "\n",
    "#Get Details\n",
    "get_column_details(df,column_name)"
   ]
  },
  {
   "cell_type": "code",
   "execution_count": null,
   "id": "78202a21",
   "metadata": {},
   "outputs": [],
   "source": [
    "column_name = '컨택건수_리볼빙_청구서_B0M'\n",
    "user_friendly_name = '컨택건수_리볼빙_청구서_B0M'\n",
    "\n",
    "#Get Details\n",
    "get_column_details(df,column_name)"
   ]
  },
  {
   "cell_type": "code",
   "execution_count": null,
   "id": "8c100cdf",
   "metadata": {},
   "outputs": [],
   "source": [
    "column_name = '컨택건수_이용유도_청구서_B0M'\n",
    "user_friendly_name = '컨택건수_이용유도_청구서_B0M'\n",
    "\n",
    "#Get Details\n",
    "get_column_details(df,column_name)"
   ]
  },
  {
   "cell_type": "code",
   "execution_count": null,
   "id": "03a8edcb",
   "metadata": {},
   "outputs": [],
   "source": [
    "column_name = '컨택건수_카드론_인터넷_B0M'\n",
    "user_friendly_name = '컨택건수_카드론_인터넷_B0M'\n",
    "\n",
    "#Get Details\n",
    "get_column_details(df,column_name)"
   ]
  },
  {
   "cell_type": "code",
   "execution_count": null,
   "id": "6e17e41b",
   "metadata": {},
   "outputs": [],
   "source": [
    "column_name = '컨택건수_CA_인터넷_B0M'\n",
    "user_friendly_name = '컨택건수_CA_인터넷_B0M'\n",
    "\n",
    "#Get Details\n",
    "get_column_details(df,column_name)"
   ]
  },
  {
   "cell_type": "code",
   "execution_count": null,
   "id": "c16318a7",
   "metadata": {},
   "outputs": [],
   "source": [
    "column_name = '컨택건수_리볼빙_인터넷_B0M'\n",
    "user_friendly_name = '컨택건수_리볼빙_인터넷_B0M'\n",
    "\n",
    "#Get Details\n",
    "get_column_details(df,column_name)"
   ]
  },
  {
   "cell_type": "code",
   "execution_count": null,
   "id": "3dbf2d77",
   "metadata": {},
   "outputs": [],
   "source": [
    "column_name = '컨택건수_이용유도_인터넷_B0M'\n",
    "user_friendly_name = '컨택건수_이용유도_인터넷_B0M'\n",
    "\n",
    "#Get Details\n",
    "get_column_details(df,column_name)"
   ]
  },
  {
   "cell_type": "code",
   "execution_count": null,
   "id": "c37dd646",
   "metadata": {},
   "outputs": [],
   "source": [
    "column_name = '컨택건수_카드론_TM_R6M'\n",
    "user_friendly_name = '컨택건수_카드론_TM_R6M'\n",
    "\n",
    "#Get Details\n",
    "get_column_details(df,column_name)"
   ]
  },
  {
   "cell_type": "code",
   "execution_count": null,
   "id": "eaf579d8",
   "metadata": {},
   "outputs": [],
   "source": [
    "column_name = '컨택건수_리볼빙_TM_R6M'\n",
    "user_friendly_name = '컨택건수_리볼빙_TM_R6M'\n",
    "\n",
    "#Get Details\n",
    "get_column_details(df,column_name)"
   ]
  },
  {
   "cell_type": "code",
   "execution_count": null,
   "id": "484eb05b",
   "metadata": {},
   "outputs": [],
   "source": [
    "column_name = '컨택건수_CA_TM_R6M'\n",
    "user_friendly_name = '컨택건수_CA_TM_R6M'\n",
    "\n",
    "#Get Details\n",
    "get_column_details(df,column_name)"
   ]
  },
  {
   "cell_type": "code",
   "execution_count": null,
   "id": "fbf64ab1",
   "metadata": {},
   "outputs": [],
   "source": [
    "column_name = '컨택건수_이용유도_TM_R6M'\n",
    "user_friendly_name = '컨택건수_이용유도_TM_R6M'\n",
    "\n",
    "#Get Details\n",
    "get_column_details(df,column_name)"
   ]
  },
  {
   "cell_type": "code",
   "execution_count": null,
   "id": "4dc71182",
   "metadata": {},
   "outputs": [],
   "source": [
    "column_name = '컨택건수_신용발급_TM_R6M'\n",
    "user_friendly_name = '컨택건수_신용발급_TM_R6M'\n",
    "\n",
    "#Get Details\n",
    "get_column_details(df,column_name)"
   ]
  },
  {
   "cell_type": "code",
   "execution_count": null,
   "id": "ce181110",
   "metadata": {},
   "outputs": [],
   "source": [
    "column_name = '컨택건수_부대서비스_TM_R6M'\n",
    "user_friendly_name = '컨택건수_부대서비스_TM_R6M'\n",
    "\n",
    "#Get Details\n",
    "get_column_details(df,column_name)"
   ]
  },
  {
   "cell_type": "code",
   "execution_count": null,
   "id": "8dbac1fe",
   "metadata": {},
   "outputs": [],
   "source": [
    "column_name = '컨택건수_포인트소진_TM_R6M'\n",
    "user_friendly_name = '컨택건수_포인트소진_TM_R6M'\n",
    "\n",
    "#Get Details\n",
    "get_column_details(df,column_name)"
   ]
  },
  {
   "cell_type": "code",
   "execution_count": null,
   "id": "07f9cf63",
   "metadata": {},
   "outputs": [],
   "source": [
    "column_name = '컨택건수_보험_TM_R6M'\n",
    "user_friendly_name = '컨택건수_보험_TM_R6M'\n",
    "\n",
    "#Get Details\n",
    "get_column_details(df,column_name)"
   ]
  },
  {
   "cell_type": "code",
   "execution_count": null,
   "id": "0acb43ce",
   "metadata": {},
   "outputs": [],
   "source": [
    "column_name = '컨택건수_카드론_LMS_R6M'\n",
    "user_friendly_name = '컨택건수_카드론_LMS_R6M'\n",
    "\n",
    "#Get Details\n",
    "get_column_details(df,column_name)"
   ]
  },
  {
   "cell_type": "code",
   "execution_count": null,
   "id": "22064f87",
   "metadata": {},
   "outputs": [],
   "source": [
    "column_name = '컨택건수_CA_LMS_R6M'\n",
    "user_friendly_name = '컨택건수_CA_LMS_R6M'\n",
    "\n",
    "#Get Details\n",
    "get_column_details(df,column_name)"
   ]
  },
  {
   "cell_type": "code",
   "execution_count": null,
   "id": "347c3bdf",
   "metadata": {},
   "outputs": [],
   "source": [
    "column_name = '컨택건수_리볼빙_LMS_R6M'\n",
    "user_friendly_name = '컨택건수_리볼빙_LMS_R6M'\n",
    "\n",
    "#Get Details\n",
    "get_column_details(df,column_name)"
   ]
  },
  {
   "cell_type": "code",
   "execution_count": null,
   "id": "c3faa4c1",
   "metadata": {},
   "outputs": [],
   "source": [
    "column_name = '컨택건수_이용유도_LMS_R6M'\n",
    "user_friendly_name = '컨택건수_이용유도_LMS_R6M'\n",
    "\n",
    "#Get Details\n",
    "get_column_details(df,column_name)"
   ]
  },
  {
   "cell_type": "code",
   "execution_count": null,
   "id": "4255ae96",
   "metadata": {},
   "outputs": [],
   "source": [
    "column_name = '컨택건수_카드론_EM_R6M'\n",
    "user_friendly_name = '컨택건수_카드론_EM_R6M'\n",
    "\n",
    "#Get Details\n",
    "get_column_details(df,column_name)"
   ]
  },
  {
   "cell_type": "code",
   "execution_count": null,
   "id": "e45f2d30",
   "metadata": {},
   "outputs": [],
   "source": [
    "column_name = '컨택건수_CA_EM_R6M'\n",
    "user_friendly_name = '컨택건수_CA_EM_R6M'\n",
    "\n",
    "#Get Details\n",
    "get_column_details(df,column_name)"
   ]
  },
  {
   "cell_type": "code",
   "execution_count": null,
   "id": "0f785ead",
   "metadata": {},
   "outputs": [],
   "source": [
    "column_name = '컨택건수_리볼빙_EM_R6M'\n",
    "user_friendly_name = '컨택건수_리볼빙_EM_R6M'\n",
    "\n",
    "#Get Details\n",
    "get_column_details(df,column_name)"
   ]
  },
  {
   "cell_type": "code",
   "execution_count": null,
   "id": "00320527",
   "metadata": {},
   "outputs": [],
   "source": [
    "column_name = '컨택건수_이용유도_EM_R6M'\n",
    "user_friendly_name = '컨택건수_이용유도_EM_R6M'\n",
    "\n",
    "#Get Details\n",
    "get_column_details(df,column_name)"
   ]
  },
  {
   "cell_type": "code",
   "execution_count": null,
   "id": "e7a0c019",
   "metadata": {},
   "outputs": [],
   "source": [
    "column_name = '컨택건수_카드론_청구서_R6M'\n",
    "user_friendly_name = '컨택건수_카드론_청구서_R6M'\n",
    "\n",
    "#Get Details\n",
    "get_column_details(df,column_name)"
   ]
  },
  {
   "cell_type": "code",
   "execution_count": null,
   "id": "affeeeb3",
   "metadata": {},
   "outputs": [],
   "source": [
    "column_name = '컨택건수_CA_청구서_R6M'\n",
    "user_friendly_name = '컨택건수_CA_청구서_R6M'\n",
    "\n",
    "#Get Details\n",
    "get_column_details(df,column_name)"
   ]
  },
  {
   "cell_type": "code",
   "execution_count": null,
   "id": "e9002578",
   "metadata": {},
   "outputs": [],
   "source": [
    "column_name = '컨택건수_리볼빙_청구서_R6M'\n",
    "user_friendly_name = '컨택건수_리볼빙_청구서_R6M'\n",
    "\n",
    "#Get Details\n",
    "get_column_details(df,column_name)"
   ]
  },
  {
   "cell_type": "code",
   "execution_count": null,
   "id": "3b63a1e0",
   "metadata": {},
   "outputs": [],
   "source": [
    "column_name = '컨택건수_이용유도_청구서_R6M'\n",
    "user_friendly_name = '컨택건수_이용유도_청구서_R6M'\n",
    "\n",
    "#Get Details\n",
    "get_column_details(df,column_name)"
   ]
  },
  {
   "cell_type": "code",
   "execution_count": null,
   "id": "4d2c7a2d",
   "metadata": {},
   "outputs": [],
   "source": [
    "column_name = '컨택건수_카드론_인터넷_R6M'\n",
    "user_friendly_name = '컨택건수_카드론_인터넷_R6M'\n",
    "\n",
    "#Get Details\n",
    "get_column_details(df,column_name)"
   ]
  },
  {
   "cell_type": "code",
   "execution_count": null,
   "id": "ec07be41",
   "metadata": {},
   "outputs": [],
   "source": [
    "column_name = '컨택건수_CA_인터넷_R6M'\n",
    "user_friendly_name = '컨택건수_CA_인터넷_R6M'\n",
    "\n",
    "#Get Details\n",
    "get_column_details(df,column_name)"
   ]
  },
  {
   "cell_type": "code",
   "execution_count": null,
   "id": "0c355968",
   "metadata": {},
   "outputs": [],
   "source": [
    "column_name = '컨택건수_리볼빙_인터넷_R6M'\n",
    "user_friendly_name = '컨택건수_리볼빙_인터넷_R6M'\n",
    "\n",
    "#Get Details\n",
    "get_column_details(df,column_name)"
   ]
  },
  {
   "cell_type": "code",
   "execution_count": null,
   "id": "b0924d3c",
   "metadata": {},
   "outputs": [],
   "source": [
    "column_name = '컨택건수_채권_B0M'\n",
    "user_friendly_name = '컨택건수_채권_B0M'\n",
    "\n",
    "#Get Details\n",
    "get_column_details(df,column_name)"
   ]
  },
  {
   "cell_type": "code",
   "execution_count": null,
   "id": "3b215d6d",
   "metadata": {},
   "outputs": [],
   "source": [
    "column_name = '컨택건수_FDS_B0M'\n",
    "user_friendly_name = '컨택건수_FDS_B0M'\n",
    "\n",
    "#Get Details\n",
    "get_column_details(df,column_name)"
   ]
  },
  {
   "cell_type": "code",
   "execution_count": null,
   "id": "2ff8664e",
   "metadata": {},
   "outputs": [],
   "source": [
    "column_name = '컨택건수_채권_R6M'\n",
    "user_friendly_name = '컨택건수_채권_R6M'\n",
    "\n",
    "#Get Details\n",
    "get_column_details(df,column_name)"
   ]
  },
  {
   "cell_type": "code",
   "execution_count": null,
   "id": "d2a55e89",
   "metadata": {},
   "outputs": [],
   "source": [
    "column_name = '컨택건수_FDS_R6M'\n",
    "user_friendly_name = '컨택건수_FDS_R6M'\n",
    "\n",
    "#Get Details\n",
    "get_column_details(df,column_name)"
   ]
  },
  {
   "cell_type": "code",
   "execution_count": null,
   "id": "c2260cf5",
   "metadata": {},
   "outputs": [],
   "source": [
    "column_name = '캠페인접촉건수_R12M'\n",
    "user_friendly_name = '캠페인접촉건수_R12M'\n",
    "\n",
    "#Get Details\n",
    "get_column_details(df,column_name)"
   ]
  },
  {
   "cell_type": "code",
   "execution_count": null,
   "id": "7808a376",
   "metadata": {},
   "outputs": [],
   "source": [
    "column_name = '캠페인접촉일수_R12M'\n",
    "user_friendly_name = '캠페인접촉일수_R12M'\n",
    "\n",
    "#Get Details\n",
    "get_column_details(df,column_name)"
   ]
  },
  {
   "cell_type": "code",
   "execution_count": null,
   "id": "598d996e",
   "metadata": {},
   "outputs": [],
   "source": [
    "column_name = '캠페인접촉월수_R12M'\n",
    "user_friendly_name = '캠페인접촉월수_R12M'\n",
    "\n",
    "#Get Details\n",
    "get_column_details(df,column_name)"
   ]
  },
  {
   "cell_type": "code",
   "execution_count": null,
   "id": "b4b385df",
   "metadata": {},
   "outputs": [],
   "source": [
    "column_name = '접촉후경과월_R12M'\n",
    "user_friendly_name = '접촉후경과월_R12M'\n",
    "\n",
    "#Get Details\n",
    "get_column_details(df,column_name)\n",
    "\n",
    "# Plot Graph\n",
    "plot_countplot(df,column_name,user_friendly_name)"
   ]
  },
  {
   "cell_type": "code",
   "execution_count": null,
   "id": "305fe50f",
   "metadata": {},
   "outputs": [],
   "source": [
    "column_name = '보험콜대상월수_R12M'\n",
    "user_friendly_name = '보험콜대상월수_R12M'\n",
    "\n",
    "#Get Details\n",
    "get_column_details(df,column_name)"
   ]
  },
  {
   "cell_type": "code",
   "execution_count": null,
   "id": "cc0e2818",
   "metadata": {},
   "outputs": [],
   "source": [
    "column_name = '보험콜대상횟수_R12M'\n",
    "user_friendly_name = '보험콜대상횟수_R12M'\n",
    "\n",
    "#Get Details\n",
    "get_column_details(df,column_name)"
   ]
  },
  {
   "cell_type": "code",
   "execution_count": null,
   "id": "6ab6bf8e",
   "metadata": {},
   "outputs": [],
   "source": [
    "column_name = '보험콜통화횟수_R12M'\n",
    "user_friendly_name = '보험콜통화횟수_R12M'\n",
    "\n",
    "#Get Details\n",
    "get_column_details(df,column_name)"
   ]
  },
  {
   "cell_type": "code",
   "execution_count": null,
   "id": "099f8cc1",
   "metadata": {},
   "outputs": [],
   "source": [
    "column_name = '보험콜배정후경과월_R12M'\n",
    "user_friendly_name = '보험콜배정후경과월_R12M'\n",
    "\n",
    "#Get Details\n",
    "get_column_details(df,column_name)\n",
    "\n",
    "# Plot Graph\n",
    "plot_countplot(df,column_name,user_friendly_name)"
   ]
  },
  {
   "cell_type": "code",
   "execution_count": null,
   "id": "cafaed7c",
   "metadata": {},
   "outputs": [],
   "source": [
    "column_name = '보험콜통화후경과월_R12M'\n",
    "user_friendly_name = '보험콜통화후경과월_R12M'\n",
    "\n",
    "#Get Details\n",
    "get_column_details(df,column_name)\n",
    "\n",
    "# Plot Graph\n",
    "plot_countplot(df,column_name,user_friendly_name)"
   ]
  },
  {
   "cell_type": "code",
   "execution_count": null,
   "id": "85a56b0a",
   "metadata": {},
   "outputs": [],
   "source": []
  },
  {
   "cell_type": "code",
   "execution_count": null,
   "id": "d27c0588",
   "metadata": {},
   "outputs": [],
   "source": []
  },
  {
   "cell_type": "code",
   "execution_count": null,
   "id": "526640ac",
   "metadata": {},
   "outputs": [],
   "source": []
  }
 ],
 "metadata": {
  "kernelspec": {
   "display_name": "Python 3",
   "language": "python",
   "name": "python3"
  },
  "language_info": {
   "codemirror_mode": {
    "name": "ipython",
    "version": 3
   },
   "file_extension": ".py",
   "mimetype": "text/x-python",
   "name": "python",
   "nbconvert_exporter": "python",
   "pygments_lexer": "ipython3",
   "version": "3.8.8"
  }
 },
 "nbformat": 4,
 "nbformat_minor": 5
}
