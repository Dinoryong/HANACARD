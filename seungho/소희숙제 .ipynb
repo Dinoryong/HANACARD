{
 "cells": [
  {
   "cell_type": "code",
   "execution_count": 2,
   "id": "b3526ff0",
   "metadata": {},
   "outputs": [],
   "source": [
    "# 라이브러리 불러오기\n",
    "import pandas as pd\n",
    "import numpy as np\n",
    "import matplotlib.pyplot as plt\n",
    "import seaborn as sns\n",
    "import statistics\n",
    "import re\n",
    "from sklearn.model_selection import train_test_split\n",
    "from sklearn.ensemble import RandomForestClassifier\n",
    "from sklearn.metrics import accuracy_score\n",
    "from sklearn.preprocessing import OneHotEncoder"
   ]
  },
  {
   "cell_type": "code",
   "execution_count": 8,
   "id": "ce5faffd",
   "metadata": {
    "scrolled": true
   },
   "outputs": [
    {
     "data": {
      "text/html": [
       "<div>\n",
       "<style scoped>\n",
       "    .dataframe tbody tr th:only-of-type {\n",
       "        vertical-align: middle;\n",
       "    }\n",
       "\n",
       "    .dataframe tbody tr th {\n",
       "        vertical-align: top;\n",
       "    }\n",
       "\n",
       "    .dataframe thead th {\n",
       "        text-align: right;\n",
       "    }\n",
       "</style>\n",
       "<table border=\"1\" class=\"dataframe\">\n",
       "  <thead>\n",
       "    <tr style=\"text-align: right;\">\n",
       "      <th></th>\n",
       "      <th>_1순위카드ID</th>\n",
       "      <th>서비스업종코드</th>\n",
       "      <th>서비스코드명</th>\n",
       "    </tr>\n",
       "  </thead>\n",
       "  <tbody>\n",
       "    <tr>\n",
       "      <th>0</th>\n",
       "      <td>1</td>\n",
       "      <td>209</td>\n",
       "      <td>온라인쇼핑할인</td>\n",
       "    </tr>\n",
       "    <tr>\n",
       "      <th>1</th>\n",
       "      <td>1</td>\n",
       "      <td>201</td>\n",
       "      <td>주유 할인</td>\n",
       "    </tr>\n",
       "    <tr>\n",
       "      <th>2</th>\n",
       "      <td>1</td>\n",
       "      <td>204</td>\n",
       "      <td>놀이공원할인</td>\n",
       "    </tr>\n",
       "    <tr>\n",
       "      <th>3</th>\n",
       "      <td>1</td>\n",
       "      <td>211</td>\n",
       "      <td>아파트할인</td>\n",
       "    </tr>\n",
       "    <tr>\n",
       "      <th>4</th>\n",
       "      <td>1</td>\n",
       "      <td>209</td>\n",
       "      <td>온라인쇼핑할인</td>\n",
       "    </tr>\n",
       "  </tbody>\n",
       "</table>\n",
       "</div>"
      ],
      "text/plain": [
       "   _1순위카드ID 서비스업종코드   서비스코드명\n",
       "0         1     209  온라인쇼핑할인\n",
       "1         1     201    주유 할인\n",
       "2         1     204   놀이공원할인\n",
       "3         1     211    아파트할인\n",
       "4         1     209  온라인쇼핑할인"
      ]
     },
     "execution_count": 8,
     "metadata": {},
     "output_type": "execute_result"
    }
   ],
   "source": [
    "df = pd.read_csv('C:/data/CardCategory.csv', encoding='euc-kr')\n",
    "df.head()"
   ]
  },
  {
   "cell_type": "code",
   "execution_count": 17,
   "id": "a5bfdd3e",
   "metadata": {},
   "outputs": [
    {
     "data": {
      "text/plain": [
       "플래티늄서비스     18\n",
       "통신할인         8\n",
       "주유 할인        6\n",
       "유통/마트 할인     5\n",
       "자동차할인        4\n",
       "문화생활할인       3\n",
       "커피할인         2\n",
       "교육관련할인       2\n",
       "교통할인         2\n",
       "외식할인         2\n",
       "기타           2\n",
       "전가맹점할인       1\n",
       "Name: 서비스코드명, dtype: int64"
      ]
     },
     "execution_count": 17,
     "metadata": {},
     "output_type": "execute_result"
    }
   ],
   "source": [
    "df[df['_1순위카드ID'] == 156]['서비스코드명'].value_counts()"
   ]
  },
  {
   "cell_type": "code",
   "execution_count": 18,
   "id": "811b1266",
   "metadata": {},
   "outputs": [
    {
     "data": {
      "text/plain": [
       "놀이공원할인      104\n",
       "외식할인         59\n",
       "자동차할인        48\n",
       "주유 할인        26\n",
       "커피할인         25\n",
       "문화생활할인       17\n",
       "통신할인         17\n",
       "교통할인         17\n",
       "기타            9\n",
       "_             6\n",
       "유통/마트 할인      6\n",
       "온라인쇼핑할인       4\n",
       "Name: 서비스코드명, dtype: int64"
      ]
     },
     "execution_count": 18,
     "metadata": {},
     "output_type": "execute_result"
    }
   ],
   "source": [
    "df[df['_1순위카드ID'] == 136]['서비스코드명'].value_counts()"
   ]
  },
  {
   "cell_type": "code",
   "execution_count": 19,
   "id": "d268cb10",
   "metadata": {},
   "outputs": [
    {
     "data": {
      "text/plain": [
       "통신할인       12\n",
       "자동차할인       4\n",
       "외식할인        3\n",
       "놀이공원할인      3\n",
       "기타          2\n",
       "커피할인        2\n",
       "주유 할인       2\n",
       "문화생활할인      1\n",
       "교통할인        1\n",
       "온라인쇼핑할인     1\n",
       "Name: 서비스코드명, dtype: int64"
      ]
     },
     "execution_count": 19,
     "metadata": {},
     "output_type": "execute_result"
    }
   ],
   "source": [
    "df[df['_1순위카드ID'] == 229]['서비스코드명'].value_counts()"
   ]
  },
  {
   "cell_type": "code",
   "execution_count": 20,
   "id": "b51226da",
   "metadata": {},
   "outputs": [
    {
     "data": {
      "text/plain": [
       "기타 원금할인    2\n",
       "교육관련할인     1\n",
       "커피할인       1\n",
       "온라인쇼핑할인    1\n",
       "Name: 서비스코드명, dtype: int64"
      ]
     },
     "execution_count": 20,
     "metadata": {},
     "output_type": "execute_result"
    }
   ],
   "source": [
    "df[df['_1순위카드ID'] == 1077]['서비스코드명'].value_counts()"
   ]
  }
 ],
 "metadata": {
  "kernelspec": {
   "display_name": "Python 3 (ipykernel)",
   "language": "python",
   "name": "python3"
  },
  "language_info": {
   "codemirror_mode": {
    "name": "ipython",
    "version": 3
   },
   "file_extension": ".py",
   "mimetype": "text/x-python",
   "name": "python",
   "nbconvert_exporter": "python",
   "pygments_lexer": "ipython3",
   "version": "3.10.9"
  }
 },
 "nbformat": 4,
 "nbformat_minor": 5
}
