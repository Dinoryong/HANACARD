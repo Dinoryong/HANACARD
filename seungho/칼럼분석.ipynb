{
  "nbformat": 4,
  "nbformat_minor": 0,
  "metadata": {
    "colab": {
      "provenance": [],
      "mount_file_id": "1T39BB6yl450ZPd2Bi1TjuXOwhgf-alTY",
      "authorship_tag": "ABX9TyNvqY5zYYa9fpKdYvsXcvQz",
      "include_colab_link": true
    },
    "kernelspec": {
      "name": "python3",
      "display_name": "Python 3"
    },
    "language_info": {
      "name": "python"
    }
  },
  "cells": [
    {
      "cell_type": "markdown",
      "metadata": {
        "id": "view-in-github",
        "colab_type": "text"
      },
      "source": [
        "<a href=\"https://colab.research.google.com/github/Dinoryong/HANACARD/blob/main/%EC%B9%BC%EB%9F%BC%EB%B6%84%EC%84%9D.ipynb\" target=\"_parent\"><img src=\"https://colab.research.google.com/assets/colab-badge.svg\" alt=\"Open In Colab\"/></a>"
      ]
    },
    {
      "cell_type": "code",
      "execution_count": null,
      "metadata": {
        "id": "owCyG7bMGtVK"
      },
      "outputs": [],
      "source": []
    },
    {
      "cell_type": "markdown",
      "source": [
        "# 프로젝트2컬럼 분석"
      ],
      "metadata": {
        "id": "hLCelA8S3wKz"
      }
    },
    {
      "cell_type": "code",
      "source": [
        "# 한글 폰트 설치\n",
        "!sudo apt-get install -y fonts-nanum\n",
        "!sudo fc-cache -fv\n",
        "!rm ~/.cache/matplotlib -rf\n",
        "# 설치 후, 런타임 재실행 해야 함"
      ],
      "metadata": {
        "colab": {
          "base_uri": "https://localhost:8080/"
        },
        "id": "daH3rFG3XAlQ",
        "outputId": "eab02b6f-dc56-41bf-fa79-81b7a9de228d"
      },
      "execution_count": 1,
      "outputs": [
        {
          "output_type": "stream",
          "name": "stdout",
          "text": [
            "Reading package lists... Done\n",
            "Building dependency tree... Done\n",
            "Reading state information... Done\n",
            "The following NEW packages will be installed:\n",
            "  fonts-nanum\n",
            "0 upgraded, 1 newly installed, 0 to remove and 16 not upgraded.\n",
            "Need to get 10.3 MB of archives.\n",
            "After this operation, 34.1 MB of additional disk space will be used.\n",
            "Get:1 http://archive.ubuntu.com/ubuntu jammy/universe amd64 fonts-nanum all 20200506-1 [10.3 MB]\n",
            "Fetched 10.3 MB in 0s (23.1 MB/s)\n",
            "debconf: unable to initialize frontend: Dialog\n",
            "debconf: (No usable dialog-like program is installed, so the dialog based frontend cannot be used. at /usr/share/perl5/Debconf/FrontEnd/Dialog.pm line 78, <> line 1.)\n",
            "debconf: falling back to frontend: Readline\n",
            "debconf: unable to initialize frontend: Readline\n",
            "debconf: (This frontend requires a controlling tty.)\n",
            "debconf: falling back to frontend: Teletype\n",
            "dpkg-preconfigure: unable to re-open stdin: \n",
            "Selecting previously unselected package fonts-nanum.\n",
            "(Reading database ... 120511 files and directories currently installed.)\n",
            "Preparing to unpack .../fonts-nanum_20200506-1_all.deb ...\n",
            "Unpacking fonts-nanum (20200506-1) ...\n",
            "Setting up fonts-nanum (20200506-1) ...\n",
            "Processing triggers for fontconfig (2.13.1-4.2ubuntu5) ...\n",
            "/usr/share/fonts: caching, new cache contents: 0 fonts, 1 dirs\n",
            "/usr/share/fonts/truetype: caching, new cache contents: 0 fonts, 3 dirs\n",
            "/usr/share/fonts/truetype/humor-sans: caching, new cache contents: 1 fonts, 0 dirs\n",
            "/usr/share/fonts/truetype/liberation: caching, new cache contents: 16 fonts, 0 dirs\n",
            "/usr/share/fonts/truetype/nanum: caching, new cache contents: 12 fonts, 0 dirs\n",
            "/usr/local/share/fonts: caching, new cache contents: 0 fonts, 0 dirs\n",
            "/root/.local/share/fonts: skipping, no such directory\n",
            "/root/.fonts: skipping, no such directory\n",
            "/usr/share/fonts/truetype: skipping, looped directory detected\n",
            "/usr/share/fonts/truetype/humor-sans: skipping, looped directory detected\n",
            "/usr/share/fonts/truetype/liberation: skipping, looped directory detected\n",
            "/usr/share/fonts/truetype/nanum: skipping, looped directory detected\n",
            "/var/cache/fontconfig: cleaning cache directory\n",
            "/root/.cache/fontconfig: not cleaning non-existent cache directory\n",
            "/root/.fontconfig: not cleaning non-existent cache directory\n",
            "fc-cache: succeeded\n"
          ]
        }
      ]
    },
    {
      "cell_type": "code",
      "source": [],
      "metadata": {
        "id": "9JAASjOH2B5x"
      },
      "execution_count": null,
      "outputs": []
    },
    {
      "cell_type": "code",
      "execution_count": 1,
      "metadata": {
        "id": "V8Bqewhsg4bR"
      },
      "outputs": [],
      "source": [
        "import numpy as np\n",
        "import pandas as pd\n",
        "import matplotlib.pyplot as plt\n",
        "import seaborn as sns"
      ]
    },
    {
      "cell_type": "code",
      "source": [
        "# 한글 폰트 지정\n",
        "plt.rc('font', family = 'NanumGothic')"
      ],
      "metadata": {
        "id": "eKGAsPxZbGxI"
      },
      "execution_count": 2,
      "outputs": []
    },
    {
      "cell_type": "code",
      "execution_count": 27,
      "metadata": {
        "colab": {
          "base_uri": "https://localhost:8080/",
          "height": 1000
        },
        "id": "Y0fJ7AIHg4bR",
        "outputId": "cedc70c9-f806-4947-eac4-f0fcec725fa7"
      },
      "outputs": [
        {
          "output_type": "execute_result",
          "data": {
            "text/plain": [
              "        회원번호  남녀구분코드  연령  소지여부_신용   입회일자_신용  입회경과개월수_신용  탈회여부  회원여부_연체  \\\n",
              "0   YNtSN9Oa       2  64        1  20140709          54     1        0   \n",
              "1   Rijqdlzu       1  24        1  20170412          21     0        0   \n",
              "2   NOsf3TZS       2  43        1  20170426          21     1        0   \n",
              "3   7IPZGTZu       2  79        1  20141128          50     0        0   \n",
              "4   pEEsUF2u       2  82        1  20120905          76     0        0   \n",
              "5   mrILBIsf       1  38        1  20180201          11     0        0   \n",
              "6   w8NeFjRo       2  38        1  20170609          19     1        0   \n",
              "7   G5RWJoOf       1  26        1  20170504          20     0        0   \n",
              "8   9QifHQRq       2  38        1  20120822          77     0        0   \n",
              "9   OdlqFy2F       2  42        1  20100816         101     0        0   \n",
              "10  5AccYtv1       2  68        1  20160218          35     0        0   \n",
              "11  PjmGznTm       1  45        1  19950524         284     0        0   \n",
              "12  KPkvpnyj       2  28        1  20090623         115     0        0   \n",
              "13  hJuUv1Wg       2  42        1  20060601         151     0        0   \n",
              "14  IxIAzGdU       1  54        1  20130717          66     1        0   \n",
              "15  RM6mSMbs       1  47        1  20130124          72     0        0   \n",
              "16  Os3UUS88       1  80        1  20171128          14     0        0   \n",
              "17  RbyiT53l       2  32        1  20180514           8     1        0   \n",
              "18  Yu0oqOMi       2  46        0  20151119          38     0        0   \n",
              "19  LDhsZIdO       2  54        0  20140218          59     0        0   \n",
              "20  Cr9MNwh4       1  45        1  20141210          49     1        0   \n",
              "21  iyLpbo3v       2  26        1  20160527          32     0        0   \n",
              "22  38tCEqm5       2  45        1  20120822          77     0        0   \n",
              "23  StPMscHA       1  54        1  20080310         130     0        0   \n",
              "24  Kk7MrnLQ       2  38        1  20130107          72     1        0   \n",
              "25  CRX23tPQ       1  34        1  20170921          16     1        0   \n",
              "26  rTGKwyLF       2  27        1  20121016          75     0        0   \n",
              "27  jlTpRmd7       1  22        1  20180330          10     0        0   \n",
              "28  ETWu0tro       1  45        1  20150817          41     0        0   \n",
              "29  2fsUR2XG       1  51        1  20120110          84     0        0   \n",
              "30  MFrzYvgD       1  43        1  20040408         177     0        0   \n",
              "31  OvevYQ6x       2  34        1  20130328          70     1        0   \n",
              "32  jj7Azrdt       2  51        1  20100603         103     1        0   \n",
              "33  8ZIcQLtP       1  50        1  20060508         152     0        0   \n",
              "34  WEBIgoGW       2  31        1  20180504           8     0        0   \n",
              "35  SgpTYrgf       2  36        1  20140127          60     0        0   \n",
              "36  gPVkhN5u       2  54        1  20140911          52     1        0   \n",
              "37  FuLkRpRu       1  40        1  20070314         142     0        0   \n",
              "38  y9Xnq4vY       2  30        1  20080522         128     1        0   \n",
              "39  SrWxrVng       1  36        1  20131007          63     1        0   \n",
              "40  XcUJwYQn       2  43        1  20150423          45     0        0   \n",
              "41  RXXu9eO4       1  36        1  20170719          18     0        0   \n",
              "42  7LHm1JRf       1  28        1  20061019         147     1        0   \n",
              "43  sytxTIWe       1  54        1  20160202          35     0        0   \n",
              "44  Vz5rDFrH       2  61        1  20170731          17     0        0   \n",
              "45  2aoLrV6A       2  56        1  20111124          86     0        0   \n",
              "46  sTWYLpxd       1  38        1  20130425          69     0        0   \n",
              "47  VbdK7eLX       2  30        1  20180313          10     1        0   \n",
              "48  WxRscmE8       1  30        1  19960918         268     0        0   \n",
              "49  M5r7YFPR       2  45        1  20161028          27     1        0   \n",
              "\n",
              "    수신거부여부_TM  수신거부여부_DM  ...  캠페인접촉건수_R12M  캠페인접촉일수_R12M 캠페인접촉월수_R12M  \\\n",
              "0           0          0  ...             3             3            2   \n",
              "1           0          0  ...             0             0            0   \n",
              "2           1          0  ...             0             0            0   \n",
              "3           0          0  ...            16            15            5   \n",
              "4           0          0  ...             4             4            3   \n",
              "5           0          0  ...             9             7            7   \n",
              "6           0          0  ...             0             0            0   \n",
              "7           0          0  ...             0             0            0   \n",
              "8           0          0  ...             1             1            1   \n",
              "9           0          0  ...             0             0            0   \n",
              "10          1          0  ...             0             0            0   \n",
              "11          1          1  ...             0             0            0   \n",
              "12          0          1  ...            14            14            9   \n",
              "13          0          0  ...             1             1            1   \n",
              "14          0          0  ...             2             2            1   \n",
              "15          1          1  ...             0             0            0   \n",
              "16          0          0  ...             0             0            0   \n",
              "17          1          0  ...            10            10            6   \n",
              "18          1          1  ...             1             1            1   \n",
              "19          1          1  ...             0             0            0   \n",
              "20          0          0  ...             0             0            0   \n",
              "21          1          1  ...             1             1            1   \n",
              "22          0          0  ...             0             0            0   \n",
              "23          0          0  ...            11            11            6   \n",
              "24          0          0  ...             0             0            0   \n",
              "25          0          0  ...             1             1            1   \n",
              "26          0          0  ...             0             0            0   \n",
              "27          0          0  ...             5             5            4   \n",
              "28          1          1  ...             0             0            0   \n",
              "29          1          1  ...             0             0            0   \n",
              "30          1          1  ...             0             0            0   \n",
              "31          1          1  ...             0             0            0   \n",
              "32          0          0  ...             8             8            5   \n",
              "33          0          0  ...             7             7            5   \n",
              "34          0          0  ...             4             4            3   \n",
              "35          0          0  ...             5             5            4   \n",
              "36          0          0  ...             0             0            0   \n",
              "37          0          0  ...             2             2            2   \n",
              "38          0          0  ...             0             0            0   \n",
              "39          0          0  ...             6             5            5   \n",
              "40          0          0  ...             0             0            0   \n",
              "41          1          0  ...             5             5            5   \n",
              "42          1          1  ...             0             0            0   \n",
              "43          0          0  ...            12            12            7   \n",
              "44          1          1  ...             0             0            0   \n",
              "45          0          0  ...             2             2            1   \n",
              "46          1          0  ...             0             0            0   \n",
              "47          0          0  ...             0             0            0   \n",
              "48          0          0  ...             0             0            0   \n",
              "49          0          0  ...            17            17            6   \n",
              "\n",
              "   접촉후경과월_R12M 보험콜대상월수_R12M  보험콜대상횟수_R12M  보험콜통화횟수_R12M  보험콜배정후경과월_R12M  \\\n",
              "0            5            5             5             9               0   \n",
              "1           12            5             5            14               2   \n",
              "2           12            0             0             0              12   \n",
              "3            1            3             3             6               0   \n",
              "4            1            1             1             4               3   \n",
              "5            0            4             4             3               0   \n",
              "6           12            0             0             0              12   \n",
              "7           12            0             0             0              12   \n",
              "8            1            0             0             0              12   \n",
              "9           12            0             0             0              12   \n",
              "10          12            0             0             0              12   \n",
              "11          12            0             0             0              12   \n",
              "12           0            1             1             1               3   \n",
              "13           5            4             4            15               1   \n",
              "14           4            2             2             3               1   \n",
              "15          12            0             0             0              12   \n",
              "16          12            0             0             0              12   \n",
              "17           0            2             2             2               1   \n",
              "18           6            0             0             0              12   \n",
              "19          12            0             0             0              12   \n",
              "20          12            0             0             0              12   \n",
              "21           6            0             0             0              12   \n",
              "22          12            0             0             0              12   \n",
              "23           3            0             0             0              12   \n",
              "24          12            1             1             3               6   \n",
              "25           6            2             2             3               5   \n",
              "26          12            0             0             0              12   \n",
              "27           0            2             2             7               1   \n",
              "28          12            0             0             0              12   \n",
              "29          12            0             0             0              12   \n",
              "30          12            0             0             0              12   \n",
              "31          12            0             0             0              12   \n",
              "32           0            2             2             2               3   \n",
              "33           0            2             2             4               1   \n",
              "34           2            0             0             0              12   \n",
              "35           1            3             3             4               0   \n",
              "36          12            0             0             0              12   \n",
              "37           2            6             6            10               0   \n",
              "38          12            0             0             0              12   \n",
              "39           3            5             5            11               1   \n",
              "40          12            1             1             4               3   \n",
              "41           1            3             3             4               5   \n",
              "42          12            0             0             0              12   \n",
              "43           0            1             1             2               7   \n",
              "44          12            0             0             0              12   \n",
              "45           2            5             5            16               1   \n",
              "46          12            0             0             0              12   \n",
              "47          12            0             0             0              12   \n",
              "48          12            0             0             0              12   \n",
              "49           0            4             4             5               2   \n",
              "\n",
              "   보험콜통화후경과월_R12M          고객구분  \n",
              "0               0  21.Active_연속  \n",
              "1               2  21.Active_연속  \n",
              "2              12  21.Active_연속  \n",
              "3               0  21.Active_연속  \n",
              "4               2  21.Active_연속  \n",
              "5               0  21.Active_연속  \n",
              "6              12  21.Active_연속  \n",
              "7              12  21.Active_연속  \n",
              "8              12     34.휴면_9M+  \n",
              "9              12  21.Active_연속  \n",
              "10             12  21.Active_연속  \n",
              "11             12  21.Active_연속  \n",
              "12              3  21.Active_연속  \n",
              "13              0  21.Active_연속  \n",
              "14              1  21.Active_연속  \n",
              "15             12     34.휴면_9M+  \n",
              "16             12  21.Active_연속  \n",
              "17              1  21.Active_연속  \n",
              "18             12      31.휴면_3M  \n",
              "19             12     34.휴면_9M+  \n",
              "20             12     34.휴면_9M+  \n",
              "21             12  21.Active_연속  \n",
              "22             12  21.Active_연속  \n",
              "23             12  21.Active_연속  \n",
              "24              6  21.Active_연속  \n",
              "25              5  21.Active_연속  \n",
              "26             12  21.Active_연속  \n",
              "27              1  21.Active_연속  \n",
              "28             12     33.휴면_9M-  \n",
              "29             12  22.Active_간헐  \n",
              "30             12  21.Active_연속  \n",
              "31             12  22.Active_간헐  \n",
              "32              3  21.Active_연속  \n",
              "33              1  22.Active_간헐  \n",
              "34             12     33.휴면_9M-  \n",
              "35              0  22.Active_간헐  \n",
              "36             12     34.휴면_9M+  \n",
              "37              0  21.Active_연속  \n",
              "38             12     34.휴면_9M+  \n",
              "39              1  21.Active_연속  \n",
              "40              3  21.Active_연속  \n",
              "41              5     34.휴면_9M+  \n",
              "42             12  21.Active_연속  \n",
              "43              7  21.Active_연속  \n",
              "44             12  21.Active_연속  \n",
              "45              1  21.Active_연속  \n",
              "46             12  22.Active_간헐  \n",
              "47             12  21.Active_연속  \n",
              "48             12  21.Active_연속  \n",
              "49              2  22.Active_간헐  \n",
              "\n",
              "[50 rows x 302 columns]"
            ],
            "text/html": [
              "\n",
              "\n",
              "  <div id=\"df-c053443a-5e8e-43e2-b53d-27a3a71b0d4f\">\n",
              "    <div class=\"colab-df-container\">\n",
              "      <div>\n",
              "<style scoped>\n",
              "    .dataframe tbody tr th:only-of-type {\n",
              "        vertical-align: middle;\n",
              "    }\n",
              "\n",
              "    .dataframe tbody tr th {\n",
              "        vertical-align: top;\n",
              "    }\n",
              "\n",
              "    .dataframe thead th {\n",
              "        text-align: right;\n",
              "    }\n",
              "</style>\n",
              "<table border=\"1\" class=\"dataframe\">\n",
              "  <thead>\n",
              "    <tr style=\"text-align: right;\">\n",
              "      <th></th>\n",
              "      <th>회원번호</th>\n",
              "      <th>남녀구분코드</th>\n",
              "      <th>연령</th>\n",
              "      <th>소지여부_신용</th>\n",
              "      <th>입회일자_신용</th>\n",
              "      <th>입회경과개월수_신용</th>\n",
              "      <th>탈회여부</th>\n",
              "      <th>회원여부_연체</th>\n",
              "      <th>수신거부여부_TM</th>\n",
              "      <th>수신거부여부_DM</th>\n",
              "      <th>...</th>\n",
              "      <th>캠페인접촉건수_R12M</th>\n",
              "      <th>캠페인접촉일수_R12M</th>\n",
              "      <th>캠페인접촉월수_R12M</th>\n",
              "      <th>접촉후경과월_R12M</th>\n",
              "      <th>보험콜대상월수_R12M</th>\n",
              "      <th>보험콜대상횟수_R12M</th>\n",
              "      <th>보험콜통화횟수_R12M</th>\n",
              "      <th>보험콜배정후경과월_R12M</th>\n",
              "      <th>보험콜통화후경과월_R12M</th>\n",
              "      <th>고객구분</th>\n",
              "    </tr>\n",
              "  </thead>\n",
              "  <tbody>\n",
              "    <tr>\n",
              "      <th>0</th>\n",
              "      <td>YNtSN9Oa</td>\n",
              "      <td>2</td>\n",
              "      <td>64</td>\n",
              "      <td>1</td>\n",
              "      <td>20140709</td>\n",
              "      <td>54</td>\n",
              "      <td>1</td>\n",
              "      <td>0</td>\n",
              "      <td>0</td>\n",
              "      <td>0</td>\n",
              "      <td>...</td>\n",
              "      <td>3</td>\n",
              "      <td>3</td>\n",
              "      <td>2</td>\n",
              "      <td>5</td>\n",
              "      <td>5</td>\n",
              "      <td>5</td>\n",
              "      <td>9</td>\n",
              "      <td>0</td>\n",
              "      <td>0</td>\n",
              "      <td>21.Active_연속</td>\n",
              "    </tr>\n",
              "    <tr>\n",
              "      <th>1</th>\n",
              "      <td>Rijqdlzu</td>\n",
              "      <td>1</td>\n",
              "      <td>24</td>\n",
              "      <td>1</td>\n",
              "      <td>20170412</td>\n",
              "      <td>21</td>\n",
              "      <td>0</td>\n",
              "      <td>0</td>\n",
              "      <td>0</td>\n",
              "      <td>0</td>\n",
              "      <td>...</td>\n",
              "      <td>0</td>\n",
              "      <td>0</td>\n",
              "      <td>0</td>\n",
              "      <td>12</td>\n",
              "      <td>5</td>\n",
              "      <td>5</td>\n",
              "      <td>14</td>\n",
              "      <td>2</td>\n",
              "      <td>2</td>\n",
              "      <td>21.Active_연속</td>\n",
              "    </tr>\n",
              "    <tr>\n",
              "      <th>2</th>\n",
              "      <td>NOsf3TZS</td>\n",
              "      <td>2</td>\n",
              "      <td>43</td>\n",
              "      <td>1</td>\n",
              "      <td>20170426</td>\n",
              "      <td>21</td>\n",
              "      <td>1</td>\n",
              "      <td>0</td>\n",
              "      <td>1</td>\n",
              "      <td>0</td>\n",
              "      <td>...</td>\n",
              "      <td>0</td>\n",
              "      <td>0</td>\n",
              "      <td>0</td>\n",
              "      <td>12</td>\n",
              "      <td>0</td>\n",
              "      <td>0</td>\n",
              "      <td>0</td>\n",
              "      <td>12</td>\n",
              "      <td>12</td>\n",
              "      <td>21.Active_연속</td>\n",
              "    </tr>\n",
              "    <tr>\n",
              "      <th>3</th>\n",
              "      <td>7IPZGTZu</td>\n",
              "      <td>2</td>\n",
              "      <td>79</td>\n",
              "      <td>1</td>\n",
              "      <td>20141128</td>\n",
              "      <td>50</td>\n",
              "      <td>0</td>\n",
              "      <td>0</td>\n",
              "      <td>0</td>\n",
              "      <td>0</td>\n",
              "      <td>...</td>\n",
              "      <td>16</td>\n",
              "      <td>15</td>\n",
              "      <td>5</td>\n",
              "      <td>1</td>\n",
              "      <td>3</td>\n",
              "      <td>3</td>\n",
              "      <td>6</td>\n",
              "      <td>0</td>\n",
              "      <td>0</td>\n",
              "      <td>21.Active_연속</td>\n",
              "    </tr>\n",
              "    <tr>\n",
              "      <th>4</th>\n",
              "      <td>pEEsUF2u</td>\n",
              "      <td>2</td>\n",
              "      <td>82</td>\n",
              "      <td>1</td>\n",
              "      <td>20120905</td>\n",
              "      <td>76</td>\n",
              "      <td>0</td>\n",
              "      <td>0</td>\n",
              "      <td>0</td>\n",
              "      <td>0</td>\n",
              "      <td>...</td>\n",
              "      <td>4</td>\n",
              "      <td>4</td>\n",
              "      <td>3</td>\n",
              "      <td>1</td>\n",
              "      <td>1</td>\n",
              "      <td>1</td>\n",
              "      <td>4</td>\n",
              "      <td>3</td>\n",
              "      <td>2</td>\n",
              "      <td>21.Active_연속</td>\n",
              "    </tr>\n",
              "    <tr>\n",
              "      <th>5</th>\n",
              "      <td>mrILBIsf</td>\n",
              "      <td>1</td>\n",
              "      <td>38</td>\n",
              "      <td>1</td>\n",
              "      <td>20180201</td>\n",
              "      <td>11</td>\n",
              "      <td>0</td>\n",
              "      <td>0</td>\n",
              "      <td>0</td>\n",
              "      <td>0</td>\n",
              "      <td>...</td>\n",
              "      <td>9</td>\n",
              "      <td>7</td>\n",
              "      <td>7</td>\n",
              "      <td>0</td>\n",
              "      <td>4</td>\n",
              "      <td>4</td>\n",
              "      <td>3</td>\n",
              "      <td>0</td>\n",
              "      <td>0</td>\n",
              "      <td>21.Active_연속</td>\n",
              "    </tr>\n",
              "    <tr>\n",
              "      <th>6</th>\n",
              "      <td>w8NeFjRo</td>\n",
              "      <td>2</td>\n",
              "      <td>38</td>\n",
              "      <td>1</td>\n",
              "      <td>20170609</td>\n",
              "      <td>19</td>\n",
              "      <td>1</td>\n",
              "      <td>0</td>\n",
              "      <td>0</td>\n",
              "      <td>0</td>\n",
              "      <td>...</td>\n",
              "      <td>0</td>\n",
              "      <td>0</td>\n",
              "      <td>0</td>\n",
              "      <td>12</td>\n",
              "      <td>0</td>\n",
              "      <td>0</td>\n",
              "      <td>0</td>\n",
              "      <td>12</td>\n",
              "      <td>12</td>\n",
              "      <td>21.Active_연속</td>\n",
              "    </tr>\n",
              "    <tr>\n",
              "      <th>7</th>\n",
              "      <td>G5RWJoOf</td>\n",
              "      <td>1</td>\n",
              "      <td>26</td>\n",
              "      <td>1</td>\n",
              "      <td>20170504</td>\n",
              "      <td>20</td>\n",
              "      <td>0</td>\n",
              "      <td>0</td>\n",
              "      <td>0</td>\n",
              "      <td>0</td>\n",
              "      <td>...</td>\n",
              "      <td>0</td>\n",
              "      <td>0</td>\n",
              "      <td>0</td>\n",
              "      <td>12</td>\n",
              "      <td>0</td>\n",
              "      <td>0</td>\n",
              "      <td>0</td>\n",
              "      <td>12</td>\n",
              "      <td>12</td>\n",
              "      <td>21.Active_연속</td>\n",
              "    </tr>\n",
              "    <tr>\n",
              "      <th>8</th>\n",
              "      <td>9QifHQRq</td>\n",
              "      <td>2</td>\n",
              "      <td>38</td>\n",
              "      <td>1</td>\n",
              "      <td>20120822</td>\n",
              "      <td>77</td>\n",
              "      <td>0</td>\n",
              "      <td>0</td>\n",
              "      <td>0</td>\n",
              "      <td>0</td>\n",
              "      <td>...</td>\n",
              "      <td>1</td>\n",
              "      <td>1</td>\n",
              "      <td>1</td>\n",
              "      <td>1</td>\n",
              "      <td>0</td>\n",
              "      <td>0</td>\n",
              "      <td>0</td>\n",
              "      <td>12</td>\n",
              "      <td>12</td>\n",
              "      <td>34.휴면_9M+</td>\n",
              "    </tr>\n",
              "    <tr>\n",
              "      <th>9</th>\n",
              "      <td>OdlqFy2F</td>\n",
              "      <td>2</td>\n",
              "      <td>42</td>\n",
              "      <td>1</td>\n",
              "      <td>20100816</td>\n",
              "      <td>101</td>\n",
              "      <td>0</td>\n",
              "      <td>0</td>\n",
              "      <td>0</td>\n",
              "      <td>0</td>\n",
              "      <td>...</td>\n",
              "      <td>0</td>\n",
              "      <td>0</td>\n",
              "      <td>0</td>\n",
              "      <td>12</td>\n",
              "      <td>0</td>\n",
              "      <td>0</td>\n",
              "      <td>0</td>\n",
              "      <td>12</td>\n",
              "      <td>12</td>\n",
              "      <td>21.Active_연속</td>\n",
              "    </tr>\n",
              "    <tr>\n",
              "      <th>10</th>\n",
              "      <td>5AccYtv1</td>\n",
              "      <td>2</td>\n",
              "      <td>68</td>\n",
              "      <td>1</td>\n",
              "      <td>20160218</td>\n",
              "      <td>35</td>\n",
              "      <td>0</td>\n",
              "      <td>0</td>\n",
              "      <td>1</td>\n",
              "      <td>0</td>\n",
              "      <td>...</td>\n",
              "      <td>0</td>\n",
              "      <td>0</td>\n",
              "      <td>0</td>\n",
              "      <td>12</td>\n",
              "      <td>0</td>\n",
              "      <td>0</td>\n",
              "      <td>0</td>\n",
              "      <td>12</td>\n",
              "      <td>12</td>\n",
              "      <td>21.Active_연속</td>\n",
              "    </tr>\n",
              "    <tr>\n",
              "      <th>11</th>\n",
              "      <td>PjmGznTm</td>\n",
              "      <td>1</td>\n",
              "      <td>45</td>\n",
              "      <td>1</td>\n",
              "      <td>19950524</td>\n",
              "      <td>284</td>\n",
              "      <td>0</td>\n",
              "      <td>0</td>\n",
              "      <td>1</td>\n",
              "      <td>1</td>\n",
              "      <td>...</td>\n",
              "      <td>0</td>\n",
              "      <td>0</td>\n",
              "      <td>0</td>\n",
              "      <td>12</td>\n",
              "      <td>0</td>\n",
              "      <td>0</td>\n",
              "      <td>0</td>\n",
              "      <td>12</td>\n",
              "      <td>12</td>\n",
              "      <td>21.Active_연속</td>\n",
              "    </tr>\n",
              "    <tr>\n",
              "      <th>12</th>\n",
              "      <td>KPkvpnyj</td>\n",
              "      <td>2</td>\n",
              "      <td>28</td>\n",
              "      <td>1</td>\n",
              "      <td>20090623</td>\n",
              "      <td>115</td>\n",
              "      <td>0</td>\n",
              "      <td>0</td>\n",
              "      <td>0</td>\n",
              "      <td>1</td>\n",
              "      <td>...</td>\n",
              "      <td>14</td>\n",
              "      <td>14</td>\n",
              "      <td>9</td>\n",
              "      <td>0</td>\n",
              "      <td>1</td>\n",
              "      <td>1</td>\n",
              "      <td>1</td>\n",
              "      <td>3</td>\n",
              "      <td>3</td>\n",
              "      <td>21.Active_연속</td>\n",
              "    </tr>\n",
              "    <tr>\n",
              "      <th>13</th>\n",
              "      <td>hJuUv1Wg</td>\n",
              "      <td>2</td>\n",
              "      <td>42</td>\n",
              "      <td>1</td>\n",
              "      <td>20060601</td>\n",
              "      <td>151</td>\n",
              "      <td>0</td>\n",
              "      <td>0</td>\n",
              "      <td>0</td>\n",
              "      <td>0</td>\n",
              "      <td>...</td>\n",
              "      <td>1</td>\n",
              "      <td>1</td>\n",
              "      <td>1</td>\n",
              "      <td>5</td>\n",
              "      <td>4</td>\n",
              "      <td>4</td>\n",
              "      <td>15</td>\n",
              "      <td>1</td>\n",
              "      <td>0</td>\n",
              "      <td>21.Active_연속</td>\n",
              "    </tr>\n",
              "    <tr>\n",
              "      <th>14</th>\n",
              "      <td>IxIAzGdU</td>\n",
              "      <td>1</td>\n",
              "      <td>54</td>\n",
              "      <td>1</td>\n",
              "      <td>20130717</td>\n",
              "      <td>66</td>\n",
              "      <td>1</td>\n",
              "      <td>0</td>\n",
              "      <td>0</td>\n",
              "      <td>0</td>\n",
              "      <td>...</td>\n",
              "      <td>2</td>\n",
              "      <td>2</td>\n",
              "      <td>1</td>\n",
              "      <td>4</td>\n",
              "      <td>2</td>\n",
              "      <td>2</td>\n",
              "      <td>3</td>\n",
              "      <td>1</td>\n",
              "      <td>1</td>\n",
              "      <td>21.Active_연속</td>\n",
              "    </tr>\n",
              "    <tr>\n",
              "      <th>15</th>\n",
              "      <td>RM6mSMbs</td>\n",
              "      <td>1</td>\n",
              "      <td>47</td>\n",
              "      <td>1</td>\n",
              "      <td>20130124</td>\n",
              "      <td>72</td>\n",
              "      <td>0</td>\n",
              "      <td>0</td>\n",
              "      <td>1</td>\n",
              "      <td>1</td>\n",
              "      <td>...</td>\n",
              "      <td>0</td>\n",
              "      <td>0</td>\n",
              "      <td>0</td>\n",
              "      <td>12</td>\n",
              "      <td>0</td>\n",
              "      <td>0</td>\n",
              "      <td>0</td>\n",
              "      <td>12</td>\n",
              "      <td>12</td>\n",
              "      <td>34.휴면_9M+</td>\n",
              "    </tr>\n",
              "    <tr>\n",
              "      <th>16</th>\n",
              "      <td>Os3UUS88</td>\n",
              "      <td>1</td>\n",
              "      <td>80</td>\n",
              "      <td>1</td>\n",
              "      <td>20171128</td>\n",
              "      <td>14</td>\n",
              "      <td>0</td>\n",
              "      <td>0</td>\n",
              "      <td>0</td>\n",
              "      <td>0</td>\n",
              "      <td>...</td>\n",
              "      <td>0</td>\n",
              "      <td>0</td>\n",
              "      <td>0</td>\n",
              "      <td>12</td>\n",
              "      <td>0</td>\n",
              "      <td>0</td>\n",
              "      <td>0</td>\n",
              "      <td>12</td>\n",
              "      <td>12</td>\n",
              "      <td>21.Active_연속</td>\n",
              "    </tr>\n",
              "    <tr>\n",
              "      <th>17</th>\n",
              "      <td>RbyiT53l</td>\n",
              "      <td>2</td>\n",
              "      <td>32</td>\n",
              "      <td>1</td>\n",
              "      <td>20180514</td>\n",
              "      <td>8</td>\n",
              "      <td>1</td>\n",
              "      <td>0</td>\n",
              "      <td>1</td>\n",
              "      <td>0</td>\n",
              "      <td>...</td>\n",
              "      <td>10</td>\n",
              "      <td>10</td>\n",
              "      <td>6</td>\n",
              "      <td>0</td>\n",
              "      <td>2</td>\n",
              "      <td>2</td>\n",
              "      <td>2</td>\n",
              "      <td>1</td>\n",
              "      <td>1</td>\n",
              "      <td>21.Active_연속</td>\n",
              "    </tr>\n",
              "    <tr>\n",
              "      <th>18</th>\n",
              "      <td>Yu0oqOMi</td>\n",
              "      <td>2</td>\n",
              "      <td>46</td>\n",
              "      <td>0</td>\n",
              "      <td>20151119</td>\n",
              "      <td>38</td>\n",
              "      <td>0</td>\n",
              "      <td>0</td>\n",
              "      <td>1</td>\n",
              "      <td>1</td>\n",
              "      <td>...</td>\n",
              "      <td>1</td>\n",
              "      <td>1</td>\n",
              "      <td>1</td>\n",
              "      <td>6</td>\n",
              "      <td>0</td>\n",
              "      <td>0</td>\n",
              "      <td>0</td>\n",
              "      <td>12</td>\n",
              "      <td>12</td>\n",
              "      <td>31.휴면_3M</td>\n",
              "    </tr>\n",
              "    <tr>\n",
              "      <th>19</th>\n",
              "      <td>LDhsZIdO</td>\n",
              "      <td>2</td>\n",
              "      <td>54</td>\n",
              "      <td>0</td>\n",
              "      <td>20140218</td>\n",
              "      <td>59</td>\n",
              "      <td>0</td>\n",
              "      <td>0</td>\n",
              "      <td>1</td>\n",
              "      <td>1</td>\n",
              "      <td>...</td>\n",
              "      <td>0</td>\n",
              "      <td>0</td>\n",
              "      <td>0</td>\n",
              "      <td>12</td>\n",
              "      <td>0</td>\n",
              "      <td>0</td>\n",
              "      <td>0</td>\n",
              "      <td>12</td>\n",
              "      <td>12</td>\n",
              "      <td>34.휴면_9M+</td>\n",
              "    </tr>\n",
              "    <tr>\n",
              "      <th>20</th>\n",
              "      <td>Cr9MNwh4</td>\n",
              "      <td>1</td>\n",
              "      <td>45</td>\n",
              "      <td>1</td>\n",
              "      <td>20141210</td>\n",
              "      <td>49</td>\n",
              "      <td>1</td>\n",
              "      <td>0</td>\n",
              "      <td>0</td>\n",
              "      <td>0</td>\n",
              "      <td>...</td>\n",
              "      <td>0</td>\n",
              "      <td>0</td>\n",
              "      <td>0</td>\n",
              "      <td>12</td>\n",
              "      <td>0</td>\n",
              "      <td>0</td>\n",
              "      <td>0</td>\n",
              "      <td>12</td>\n",
              "      <td>12</td>\n",
              "      <td>34.휴면_9M+</td>\n",
              "    </tr>\n",
              "    <tr>\n",
              "      <th>21</th>\n",
              "      <td>iyLpbo3v</td>\n",
              "      <td>2</td>\n",
              "      <td>26</td>\n",
              "      <td>1</td>\n",
              "      <td>20160527</td>\n",
              "      <td>32</td>\n",
              "      <td>0</td>\n",
              "      <td>0</td>\n",
              "      <td>1</td>\n",
              "      <td>1</td>\n",
              "      <td>...</td>\n",
              "      <td>1</td>\n",
              "      <td>1</td>\n",
              "      <td>1</td>\n",
              "      <td>6</td>\n",
              "      <td>0</td>\n",
              "      <td>0</td>\n",
              "      <td>0</td>\n",
              "      <td>12</td>\n",
              "      <td>12</td>\n",
              "      <td>21.Active_연속</td>\n",
              "    </tr>\n",
              "    <tr>\n",
              "      <th>22</th>\n",
              "      <td>38tCEqm5</td>\n",
              "      <td>2</td>\n",
              "      <td>45</td>\n",
              "      <td>1</td>\n",
              "      <td>20120822</td>\n",
              "      <td>77</td>\n",
              "      <td>0</td>\n",
              "      <td>0</td>\n",
              "      <td>0</td>\n",
              "      <td>0</td>\n",
              "      <td>...</td>\n",
              "      <td>0</td>\n",
              "      <td>0</td>\n",
              "      <td>0</td>\n",
              "      <td>12</td>\n",
              "      <td>0</td>\n",
              "      <td>0</td>\n",
              "      <td>0</td>\n",
              "      <td>12</td>\n",
              "      <td>12</td>\n",
              "      <td>21.Active_연속</td>\n",
              "    </tr>\n",
              "    <tr>\n",
              "      <th>23</th>\n",
              "      <td>StPMscHA</td>\n",
              "      <td>1</td>\n",
              "      <td>54</td>\n",
              "      <td>1</td>\n",
              "      <td>20080310</td>\n",
              "      <td>130</td>\n",
              "      <td>0</td>\n",
              "      <td>0</td>\n",
              "      <td>0</td>\n",
              "      <td>0</td>\n",
              "      <td>...</td>\n",
              "      <td>11</td>\n",
              "      <td>11</td>\n",
              "      <td>6</td>\n",
              "      <td>3</td>\n",
              "      <td>0</td>\n",
              "      <td>0</td>\n",
              "      <td>0</td>\n",
              "      <td>12</td>\n",
              "      <td>12</td>\n",
              "      <td>21.Active_연속</td>\n",
              "    </tr>\n",
              "    <tr>\n",
              "      <th>24</th>\n",
              "      <td>Kk7MrnLQ</td>\n",
              "      <td>2</td>\n",
              "      <td>38</td>\n",
              "      <td>1</td>\n",
              "      <td>20130107</td>\n",
              "      <td>72</td>\n",
              "      <td>1</td>\n",
              "      <td>0</td>\n",
              "      <td>0</td>\n",
              "      <td>0</td>\n",
              "      <td>...</td>\n",
              "      <td>0</td>\n",
              "      <td>0</td>\n",
              "      <td>0</td>\n",
              "      <td>12</td>\n",
              "      <td>1</td>\n",
              "      <td>1</td>\n",
              "      <td>3</td>\n",
              "      <td>6</td>\n",
              "      <td>6</td>\n",
              "      <td>21.Active_연속</td>\n",
              "    </tr>\n",
              "    <tr>\n",
              "      <th>25</th>\n",
              "      <td>CRX23tPQ</td>\n",
              "      <td>1</td>\n",
              "      <td>34</td>\n",
              "      <td>1</td>\n",
              "      <td>20170921</td>\n",
              "      <td>16</td>\n",
              "      <td>1</td>\n",
              "      <td>0</td>\n",
              "      <td>0</td>\n",
              "      <td>0</td>\n",
              "      <td>...</td>\n",
              "      <td>1</td>\n",
              "      <td>1</td>\n",
              "      <td>1</td>\n",
              "      <td>6</td>\n",
              "      <td>2</td>\n",
              "      <td>2</td>\n",
              "      <td>3</td>\n",
              "      <td>5</td>\n",
              "      <td>5</td>\n",
              "      <td>21.Active_연속</td>\n",
              "    </tr>\n",
              "    <tr>\n",
              "      <th>26</th>\n",
              "      <td>rTGKwyLF</td>\n",
              "      <td>2</td>\n",
              "      <td>27</td>\n",
              "      <td>1</td>\n",
              "      <td>20121016</td>\n",
              "      <td>75</td>\n",
              "      <td>0</td>\n",
              "      <td>0</td>\n",
              "      <td>0</td>\n",
              "      <td>0</td>\n",
              "      <td>...</td>\n",
              "      <td>0</td>\n",
              "      <td>0</td>\n",
              "      <td>0</td>\n",
              "      <td>12</td>\n",
              "      <td>0</td>\n",
              "      <td>0</td>\n",
              "      <td>0</td>\n",
              "      <td>12</td>\n",
              "      <td>12</td>\n",
              "      <td>21.Active_연속</td>\n",
              "    </tr>\n",
              "    <tr>\n",
              "      <th>27</th>\n",
              "      <td>jlTpRmd7</td>\n",
              "      <td>1</td>\n",
              "      <td>22</td>\n",
              "      <td>1</td>\n",
              "      <td>20180330</td>\n",
              "      <td>10</td>\n",
              "      <td>0</td>\n",
              "      <td>0</td>\n",
              "      <td>0</td>\n",
              "      <td>0</td>\n",
              "      <td>...</td>\n",
              "      <td>5</td>\n",
              "      <td>5</td>\n",
              "      <td>4</td>\n",
              "      <td>0</td>\n",
              "      <td>2</td>\n",
              "      <td>2</td>\n",
              "      <td>7</td>\n",
              "      <td>1</td>\n",
              "      <td>1</td>\n",
              "      <td>21.Active_연속</td>\n",
              "    </tr>\n",
              "    <tr>\n",
              "      <th>28</th>\n",
              "      <td>ETWu0tro</td>\n",
              "      <td>1</td>\n",
              "      <td>45</td>\n",
              "      <td>1</td>\n",
              "      <td>20150817</td>\n",
              "      <td>41</td>\n",
              "      <td>0</td>\n",
              "      <td>0</td>\n",
              "      <td>1</td>\n",
              "      <td>1</td>\n",
              "      <td>...</td>\n",
              "      <td>0</td>\n",
              "      <td>0</td>\n",
              "      <td>0</td>\n",
              "      <td>12</td>\n",
              "      <td>0</td>\n",
              "      <td>0</td>\n",
              "      <td>0</td>\n",
              "      <td>12</td>\n",
              "      <td>12</td>\n",
              "      <td>33.휴면_9M-</td>\n",
              "    </tr>\n",
              "    <tr>\n",
              "      <th>29</th>\n",
              "      <td>2fsUR2XG</td>\n",
              "      <td>1</td>\n",
              "      <td>51</td>\n",
              "      <td>1</td>\n",
              "      <td>20120110</td>\n",
              "      <td>84</td>\n",
              "      <td>0</td>\n",
              "      <td>0</td>\n",
              "      <td>1</td>\n",
              "      <td>1</td>\n",
              "      <td>...</td>\n",
              "      <td>0</td>\n",
              "      <td>0</td>\n",
              "      <td>0</td>\n",
              "      <td>12</td>\n",
              "      <td>0</td>\n",
              "      <td>0</td>\n",
              "      <td>0</td>\n",
              "      <td>12</td>\n",
              "      <td>12</td>\n",
              "      <td>22.Active_간헐</td>\n",
              "    </tr>\n",
              "    <tr>\n",
              "      <th>30</th>\n",
              "      <td>MFrzYvgD</td>\n",
              "      <td>1</td>\n",
              "      <td>43</td>\n",
              "      <td>1</td>\n",
              "      <td>20040408</td>\n",
              "      <td>177</td>\n",
              "      <td>0</td>\n",
              "      <td>0</td>\n",
              "      <td>1</td>\n",
              "      <td>1</td>\n",
              "      <td>...</td>\n",
              "      <td>0</td>\n",
              "      <td>0</td>\n",
              "      <td>0</td>\n",
              "      <td>12</td>\n",
              "      <td>0</td>\n",
              "      <td>0</td>\n",
              "      <td>0</td>\n",
              "      <td>12</td>\n",
              "      <td>12</td>\n",
              "      <td>21.Active_연속</td>\n",
              "    </tr>\n",
              "    <tr>\n",
              "      <th>31</th>\n",
              "      <td>OvevYQ6x</td>\n",
              "      <td>2</td>\n",
              "      <td>34</td>\n",
              "      <td>1</td>\n",
              "      <td>20130328</td>\n",
              "      <td>70</td>\n",
              "      <td>1</td>\n",
              "      <td>0</td>\n",
              "      <td>1</td>\n",
              "      <td>1</td>\n",
              "      <td>...</td>\n",
              "      <td>0</td>\n",
              "      <td>0</td>\n",
              "      <td>0</td>\n",
              "      <td>12</td>\n",
              "      <td>0</td>\n",
              "      <td>0</td>\n",
              "      <td>0</td>\n",
              "      <td>12</td>\n",
              "      <td>12</td>\n",
              "      <td>22.Active_간헐</td>\n",
              "    </tr>\n",
              "    <tr>\n",
              "      <th>32</th>\n",
              "      <td>jj7Azrdt</td>\n",
              "      <td>2</td>\n",
              "      <td>51</td>\n",
              "      <td>1</td>\n",
              "      <td>20100603</td>\n",
              "      <td>103</td>\n",
              "      <td>1</td>\n",
              "      <td>0</td>\n",
              "      <td>0</td>\n",
              "      <td>0</td>\n",
              "      <td>...</td>\n",
              "      <td>8</td>\n",
              "      <td>8</td>\n",
              "      <td>5</td>\n",
              "      <td>0</td>\n",
              "      <td>2</td>\n",
              "      <td>2</td>\n",
              "      <td>2</td>\n",
              "      <td>3</td>\n",
              "      <td>3</td>\n",
              "      <td>21.Active_연속</td>\n",
              "    </tr>\n",
              "    <tr>\n",
              "      <th>33</th>\n",
              "      <td>8ZIcQLtP</td>\n",
              "      <td>1</td>\n",
              "      <td>50</td>\n",
              "      <td>1</td>\n",
              "      <td>20060508</td>\n",
              "      <td>152</td>\n",
              "      <td>0</td>\n",
              "      <td>0</td>\n",
              "      <td>0</td>\n",
              "      <td>0</td>\n",
              "      <td>...</td>\n",
              "      <td>7</td>\n",
              "      <td>7</td>\n",
              "      <td>5</td>\n",
              "      <td>0</td>\n",
              "      <td>2</td>\n",
              "      <td>2</td>\n",
              "      <td>4</td>\n",
              "      <td>1</td>\n",
              "      <td>1</td>\n",
              "      <td>22.Active_간헐</td>\n",
              "    </tr>\n",
              "    <tr>\n",
              "      <th>34</th>\n",
              "      <td>WEBIgoGW</td>\n",
              "      <td>2</td>\n",
              "      <td>31</td>\n",
              "      <td>1</td>\n",
              "      <td>20180504</td>\n",
              "      <td>8</td>\n",
              "      <td>0</td>\n",
              "      <td>0</td>\n",
              "      <td>0</td>\n",
              "      <td>0</td>\n",
              "      <td>...</td>\n",
              "      <td>4</td>\n",
              "      <td>4</td>\n",
              "      <td>3</td>\n",
              "      <td>2</td>\n",
              "      <td>0</td>\n",
              "      <td>0</td>\n",
              "      <td>0</td>\n",
              "      <td>12</td>\n",
              "      <td>12</td>\n",
              "      <td>33.휴면_9M-</td>\n",
              "    </tr>\n",
              "    <tr>\n",
              "      <th>35</th>\n",
              "      <td>SgpTYrgf</td>\n",
              "      <td>2</td>\n",
              "      <td>36</td>\n",
              "      <td>1</td>\n",
              "      <td>20140127</td>\n",
              "      <td>60</td>\n",
              "      <td>0</td>\n",
              "      <td>0</td>\n",
              "      <td>0</td>\n",
              "      <td>0</td>\n",
              "      <td>...</td>\n",
              "      <td>5</td>\n",
              "      <td>5</td>\n",
              "      <td>4</td>\n",
              "      <td>1</td>\n",
              "      <td>3</td>\n",
              "      <td>3</td>\n",
              "      <td>4</td>\n",
              "      <td>0</td>\n",
              "      <td>0</td>\n",
              "      <td>22.Active_간헐</td>\n",
              "    </tr>\n",
              "    <tr>\n",
              "      <th>36</th>\n",
              "      <td>gPVkhN5u</td>\n",
              "      <td>2</td>\n",
              "      <td>54</td>\n",
              "      <td>1</td>\n",
              "      <td>20140911</td>\n",
              "      <td>52</td>\n",
              "      <td>1</td>\n",
              "      <td>0</td>\n",
              "      <td>0</td>\n",
              "      <td>0</td>\n",
              "      <td>...</td>\n",
              "      <td>0</td>\n",
              "      <td>0</td>\n",
              "      <td>0</td>\n",
              "      <td>12</td>\n",
              "      <td>0</td>\n",
              "      <td>0</td>\n",
              "      <td>0</td>\n",
              "      <td>12</td>\n",
              "      <td>12</td>\n",
              "      <td>34.휴면_9M+</td>\n",
              "    </tr>\n",
              "    <tr>\n",
              "      <th>37</th>\n",
              "      <td>FuLkRpRu</td>\n",
              "      <td>1</td>\n",
              "      <td>40</td>\n",
              "      <td>1</td>\n",
              "      <td>20070314</td>\n",
              "      <td>142</td>\n",
              "      <td>0</td>\n",
              "      <td>0</td>\n",
              "      <td>0</td>\n",
              "      <td>0</td>\n",
              "      <td>...</td>\n",
              "      <td>2</td>\n",
              "      <td>2</td>\n",
              "      <td>2</td>\n",
              "      <td>2</td>\n",
              "      <td>6</td>\n",
              "      <td>6</td>\n",
              "      <td>10</td>\n",
              "      <td>0</td>\n",
              "      <td>0</td>\n",
              "      <td>21.Active_연속</td>\n",
              "    </tr>\n",
              "    <tr>\n",
              "      <th>38</th>\n",
              "      <td>y9Xnq4vY</td>\n",
              "      <td>2</td>\n",
              "      <td>30</td>\n",
              "      <td>1</td>\n",
              "      <td>20080522</td>\n",
              "      <td>128</td>\n",
              "      <td>1</td>\n",
              "      <td>0</td>\n",
              "      <td>0</td>\n",
              "      <td>0</td>\n",
              "      <td>...</td>\n",
              "      <td>0</td>\n",
              "      <td>0</td>\n",
              "      <td>0</td>\n",
              "      <td>12</td>\n",
              "      <td>0</td>\n",
              "      <td>0</td>\n",
              "      <td>0</td>\n",
              "      <td>12</td>\n",
              "      <td>12</td>\n",
              "      <td>34.휴면_9M+</td>\n",
              "    </tr>\n",
              "    <tr>\n",
              "      <th>39</th>\n",
              "      <td>SrWxrVng</td>\n",
              "      <td>1</td>\n",
              "      <td>36</td>\n",
              "      <td>1</td>\n",
              "      <td>20131007</td>\n",
              "      <td>63</td>\n",
              "      <td>1</td>\n",
              "      <td>0</td>\n",
              "      <td>0</td>\n",
              "      <td>0</td>\n",
              "      <td>...</td>\n",
              "      <td>6</td>\n",
              "      <td>5</td>\n",
              "      <td>5</td>\n",
              "      <td>3</td>\n",
              "      <td>5</td>\n",
              "      <td>5</td>\n",
              "      <td>11</td>\n",
              "      <td>1</td>\n",
              "      <td>1</td>\n",
              "      <td>21.Active_연속</td>\n",
              "    </tr>\n",
              "    <tr>\n",
              "      <th>40</th>\n",
              "      <td>XcUJwYQn</td>\n",
              "      <td>2</td>\n",
              "      <td>43</td>\n",
              "      <td>1</td>\n",
              "      <td>20150423</td>\n",
              "      <td>45</td>\n",
              "      <td>0</td>\n",
              "      <td>0</td>\n",
              "      <td>0</td>\n",
              "      <td>0</td>\n",
              "      <td>...</td>\n",
              "      <td>0</td>\n",
              "      <td>0</td>\n",
              "      <td>0</td>\n",
              "      <td>12</td>\n",
              "      <td>1</td>\n",
              "      <td>1</td>\n",
              "      <td>4</td>\n",
              "      <td>3</td>\n",
              "      <td>3</td>\n",
              "      <td>21.Active_연속</td>\n",
              "    </tr>\n",
              "    <tr>\n",
              "      <th>41</th>\n",
              "      <td>RXXu9eO4</td>\n",
              "      <td>1</td>\n",
              "      <td>36</td>\n",
              "      <td>1</td>\n",
              "      <td>20170719</td>\n",
              "      <td>18</td>\n",
              "      <td>0</td>\n",
              "      <td>0</td>\n",
              "      <td>1</td>\n",
              "      <td>0</td>\n",
              "      <td>...</td>\n",
              "      <td>5</td>\n",
              "      <td>5</td>\n",
              "      <td>5</td>\n",
              "      <td>1</td>\n",
              "      <td>3</td>\n",
              "      <td>3</td>\n",
              "      <td>4</td>\n",
              "      <td>5</td>\n",
              "      <td>5</td>\n",
              "      <td>34.휴면_9M+</td>\n",
              "    </tr>\n",
              "    <tr>\n",
              "      <th>42</th>\n",
              "      <td>7LHm1JRf</td>\n",
              "      <td>1</td>\n",
              "      <td>28</td>\n",
              "      <td>1</td>\n",
              "      <td>20061019</td>\n",
              "      <td>147</td>\n",
              "      <td>1</td>\n",
              "      <td>0</td>\n",
              "      <td>1</td>\n",
              "      <td>1</td>\n",
              "      <td>...</td>\n",
              "      <td>0</td>\n",
              "      <td>0</td>\n",
              "      <td>0</td>\n",
              "      <td>12</td>\n",
              "      <td>0</td>\n",
              "      <td>0</td>\n",
              "      <td>0</td>\n",
              "      <td>12</td>\n",
              "      <td>12</td>\n",
              "      <td>21.Active_연속</td>\n",
              "    </tr>\n",
              "    <tr>\n",
              "      <th>43</th>\n",
              "      <td>sytxTIWe</td>\n",
              "      <td>1</td>\n",
              "      <td>54</td>\n",
              "      <td>1</td>\n",
              "      <td>20160202</td>\n",
              "      <td>35</td>\n",
              "      <td>0</td>\n",
              "      <td>0</td>\n",
              "      <td>0</td>\n",
              "      <td>0</td>\n",
              "      <td>...</td>\n",
              "      <td>12</td>\n",
              "      <td>12</td>\n",
              "      <td>7</td>\n",
              "      <td>0</td>\n",
              "      <td>1</td>\n",
              "      <td>1</td>\n",
              "      <td>2</td>\n",
              "      <td>7</td>\n",
              "      <td>7</td>\n",
              "      <td>21.Active_연속</td>\n",
              "    </tr>\n",
              "    <tr>\n",
              "      <th>44</th>\n",
              "      <td>Vz5rDFrH</td>\n",
              "      <td>2</td>\n",
              "      <td>61</td>\n",
              "      <td>1</td>\n",
              "      <td>20170731</td>\n",
              "      <td>17</td>\n",
              "      <td>0</td>\n",
              "      <td>0</td>\n",
              "      <td>1</td>\n",
              "      <td>1</td>\n",
              "      <td>...</td>\n",
              "      <td>0</td>\n",
              "      <td>0</td>\n",
              "      <td>0</td>\n",
              "      <td>12</td>\n",
              "      <td>0</td>\n",
              "      <td>0</td>\n",
              "      <td>0</td>\n",
              "      <td>12</td>\n",
              "      <td>12</td>\n",
              "      <td>21.Active_연속</td>\n",
              "    </tr>\n",
              "    <tr>\n",
              "      <th>45</th>\n",
              "      <td>2aoLrV6A</td>\n",
              "      <td>2</td>\n",
              "      <td>56</td>\n",
              "      <td>1</td>\n",
              "      <td>20111124</td>\n",
              "      <td>86</td>\n",
              "      <td>0</td>\n",
              "      <td>0</td>\n",
              "      <td>0</td>\n",
              "      <td>0</td>\n",
              "      <td>...</td>\n",
              "      <td>2</td>\n",
              "      <td>2</td>\n",
              "      <td>1</td>\n",
              "      <td>2</td>\n",
              "      <td>5</td>\n",
              "      <td>5</td>\n",
              "      <td>16</td>\n",
              "      <td>1</td>\n",
              "      <td>1</td>\n",
              "      <td>21.Active_연속</td>\n",
              "    </tr>\n",
              "    <tr>\n",
              "      <th>46</th>\n",
              "      <td>sTWYLpxd</td>\n",
              "      <td>1</td>\n",
              "      <td>38</td>\n",
              "      <td>1</td>\n",
              "      <td>20130425</td>\n",
              "      <td>69</td>\n",
              "      <td>0</td>\n",
              "      <td>0</td>\n",
              "      <td>1</td>\n",
              "      <td>0</td>\n",
              "      <td>...</td>\n",
              "      <td>0</td>\n",
              "      <td>0</td>\n",
              "      <td>0</td>\n",
              "      <td>12</td>\n",
              "      <td>0</td>\n",
              "      <td>0</td>\n",
              "      <td>0</td>\n",
              "      <td>12</td>\n",
              "      <td>12</td>\n",
              "      <td>22.Active_간헐</td>\n",
              "    </tr>\n",
              "    <tr>\n",
              "      <th>47</th>\n",
              "      <td>VbdK7eLX</td>\n",
              "      <td>2</td>\n",
              "      <td>30</td>\n",
              "      <td>1</td>\n",
              "      <td>20180313</td>\n",
              "      <td>10</td>\n",
              "      <td>1</td>\n",
              "      <td>0</td>\n",
              "      <td>0</td>\n",
              "      <td>0</td>\n",
              "      <td>...</td>\n",
              "      <td>0</td>\n",
              "      <td>0</td>\n",
              "      <td>0</td>\n",
              "      <td>12</td>\n",
              "      <td>0</td>\n",
              "      <td>0</td>\n",
              "      <td>0</td>\n",
              "      <td>12</td>\n",
              "      <td>12</td>\n",
              "      <td>21.Active_연속</td>\n",
              "    </tr>\n",
              "    <tr>\n",
              "      <th>48</th>\n",
              "      <td>WxRscmE8</td>\n",
              "      <td>1</td>\n",
              "      <td>30</td>\n",
              "      <td>1</td>\n",
              "      <td>19960918</td>\n",
              "      <td>268</td>\n",
              "      <td>0</td>\n",
              "      <td>0</td>\n",
              "      <td>0</td>\n",
              "      <td>0</td>\n",
              "      <td>...</td>\n",
              "      <td>0</td>\n",
              "      <td>0</td>\n",
              "      <td>0</td>\n",
              "      <td>12</td>\n",
              "      <td>0</td>\n",
              "      <td>0</td>\n",
              "      <td>0</td>\n",
              "      <td>12</td>\n",
              "      <td>12</td>\n",
              "      <td>21.Active_연속</td>\n",
              "    </tr>\n",
              "    <tr>\n",
              "      <th>49</th>\n",
              "      <td>M5r7YFPR</td>\n",
              "      <td>2</td>\n",
              "      <td>45</td>\n",
              "      <td>1</td>\n",
              "      <td>20161028</td>\n",
              "      <td>27</td>\n",
              "      <td>1</td>\n",
              "      <td>0</td>\n",
              "      <td>0</td>\n",
              "      <td>0</td>\n",
              "      <td>...</td>\n",
              "      <td>17</td>\n",
              "      <td>17</td>\n",
              "      <td>6</td>\n",
              "      <td>0</td>\n",
              "      <td>4</td>\n",
              "      <td>4</td>\n",
              "      <td>5</td>\n",
              "      <td>2</td>\n",
              "      <td>2</td>\n",
              "      <td>22.Active_간헐</td>\n",
              "    </tr>\n",
              "  </tbody>\n",
              "</table>\n",
              "<p>50 rows × 302 columns</p>\n",
              "</div>\n",
              "      <button class=\"colab-df-convert\" onclick=\"convertToInteractive('df-c053443a-5e8e-43e2-b53d-27a3a71b0d4f')\"\n",
              "              title=\"Convert this dataframe to an interactive table.\"\n",
              "              style=\"display:none;\">\n",
              "\n",
              "  <svg xmlns=\"http://www.w3.org/2000/svg\" height=\"24px\"viewBox=\"0 0 24 24\"\n",
              "       width=\"24px\">\n",
              "    <path d=\"M0 0h24v24H0V0z\" fill=\"none\"/>\n",
              "    <path d=\"M18.56 5.44l.94 2.06.94-2.06 2.06-.94-2.06-.94-.94-2.06-.94 2.06-2.06.94zm-11 1L8.5 8.5l.94-2.06 2.06-.94-2.06-.94L8.5 2.5l-.94 2.06-2.06.94zm10 10l.94 2.06.94-2.06 2.06-.94-2.06-.94-.94-2.06-.94 2.06-2.06.94z\"/><path d=\"M17.41 7.96l-1.37-1.37c-.4-.4-.92-.59-1.43-.59-.52 0-1.04.2-1.43.59L10.3 9.45l-7.72 7.72c-.78.78-.78 2.05 0 2.83L4 21.41c.39.39.9.59 1.41.59.51 0 1.02-.2 1.41-.59l7.78-7.78 2.81-2.81c.8-.78.8-2.07 0-2.86zM5.41 20L4 18.59l7.72-7.72 1.47 1.35L5.41 20z\"/>\n",
              "  </svg>\n",
              "      </button>\n",
              "\n",
              "\n",
              "\n",
              "    <div id=\"df-d76d44f0-8a99-4b2e-9cdb-5742f514f571\">\n",
              "      <button class=\"colab-df-quickchart\" onclick=\"quickchart('df-d76d44f0-8a99-4b2e-9cdb-5742f514f571')\"\n",
              "              title=\"Suggest charts.\"\n",
              "              style=\"display:none;\">\n",
              "\n",
              "<svg xmlns=\"http://www.w3.org/2000/svg\" height=\"24px\"viewBox=\"0 0 24 24\"\n",
              "     width=\"24px\">\n",
              "    <g>\n",
              "        <path d=\"M19 3H5c-1.1 0-2 .9-2 2v14c0 1.1.9 2 2 2h14c1.1 0 2-.9 2-2V5c0-1.1-.9-2-2-2zM9 17H7v-7h2v7zm4 0h-2V7h2v10zm4 0h-2v-4h2v4z\"/>\n",
              "    </g>\n",
              "</svg>\n",
              "      </button>\n",
              "    </div>\n",
              "\n",
              "<style>\n",
              "  .colab-df-quickchart {\n",
              "    background-color: #E8F0FE;\n",
              "    border: none;\n",
              "    border-radius: 50%;\n",
              "    cursor: pointer;\n",
              "    display: none;\n",
              "    fill: #1967D2;\n",
              "    height: 32px;\n",
              "    padding: 0 0 0 0;\n",
              "    width: 32px;\n",
              "  }\n",
              "\n",
              "  .colab-df-quickchart:hover {\n",
              "    background-color: #E2EBFA;\n",
              "    box-shadow: 0px 1px 2px rgba(60, 64, 67, 0.3), 0px 1px 3px 1px rgba(60, 64, 67, 0.15);\n",
              "    fill: #174EA6;\n",
              "  }\n",
              "\n",
              "  [theme=dark] .colab-df-quickchart {\n",
              "    background-color: #3B4455;\n",
              "    fill: #D2E3FC;\n",
              "  }\n",
              "\n",
              "  [theme=dark] .colab-df-quickchart:hover {\n",
              "    background-color: #434B5C;\n",
              "    box-shadow: 0px 1px 3px 1px rgba(0, 0, 0, 0.15);\n",
              "    filter: drop-shadow(0px 1px 2px rgba(0, 0, 0, 0.3));\n",
              "    fill: #FFFFFF;\n",
              "  }\n",
              "</style>\n",
              "\n",
              "    <script>\n",
              "      async function quickchart(key) {\n",
              "        const containerElement = document.querySelector('#' + key);\n",
              "        const charts = await google.colab.kernel.invokeFunction(\n",
              "            'suggestCharts', [key], {});\n",
              "      }\n",
              "    </script>\n",
              "\n",
              "      <script>\n",
              "\n",
              "function displayQuickchartButton(domScope) {\n",
              "  let quickchartButtonEl =\n",
              "    domScope.querySelector('#df-d76d44f0-8a99-4b2e-9cdb-5742f514f571 button.colab-df-quickchart');\n",
              "  quickchartButtonEl.style.display =\n",
              "    google.colab.kernel.accessAllowed ? 'block' : 'none';\n",
              "}\n",
              "\n",
              "        displayQuickchartButton(document);\n",
              "      </script>\n",
              "      <style>\n",
              "    .colab-df-container {\n",
              "      display:flex;\n",
              "      flex-wrap:wrap;\n",
              "      gap: 12px;\n",
              "    }\n",
              "\n",
              "    .colab-df-convert {\n",
              "      background-color: #E8F0FE;\n",
              "      border: none;\n",
              "      border-radius: 50%;\n",
              "      cursor: pointer;\n",
              "      display: none;\n",
              "      fill: #1967D2;\n",
              "      height: 32px;\n",
              "      padding: 0 0 0 0;\n",
              "      width: 32px;\n",
              "    }\n",
              "\n",
              "    .colab-df-convert:hover {\n",
              "      background-color: #E2EBFA;\n",
              "      box-shadow: 0px 1px 2px rgba(60, 64, 67, 0.3), 0px 1px 3px 1px rgba(60, 64, 67, 0.15);\n",
              "      fill: #174EA6;\n",
              "    }\n",
              "\n",
              "    [theme=dark] .colab-df-convert {\n",
              "      background-color: #3B4455;\n",
              "      fill: #D2E3FC;\n",
              "    }\n",
              "\n",
              "    [theme=dark] .colab-df-convert:hover {\n",
              "      background-color: #434B5C;\n",
              "      box-shadow: 0px 1px 3px 1px rgba(0, 0, 0, 0.15);\n",
              "      filter: drop-shadow(0px 1px 2px rgba(0, 0, 0, 0.3));\n",
              "      fill: #FFFFFF;\n",
              "    }\n",
              "  </style>\n",
              "\n",
              "      <script>\n",
              "        const buttonEl =\n",
              "          document.querySelector('#df-c053443a-5e8e-43e2-b53d-27a3a71b0d4f button.colab-df-convert');\n",
              "        buttonEl.style.display =\n",
              "          google.colab.kernel.accessAllowed ? 'block' : 'none';\n",
              "\n",
              "        async function convertToInteractive(key) {\n",
              "          const element = document.querySelector('#df-c053443a-5e8e-43e2-b53d-27a3a71b0d4f');\n",
              "          const dataTable =\n",
              "            await google.colab.kernel.invokeFunction('convertToInteractive',\n",
              "                                                     [key], {});\n",
              "          if (!dataTable) return;\n",
              "\n",
              "          const docLinkHtml = 'Like what you see? Visit the ' +\n",
              "            '<a target=\"_blank\" href=https://colab.research.google.com/notebooks/data_table.ipynb>data table notebook</a>'\n",
              "            + ' to learn more about interactive tables.';\n",
              "          element.innerHTML = '';\n",
              "          dataTable['output_type'] = 'display_data';\n",
              "          await google.colab.output.renderOutput(dataTable, element);\n",
              "          const docLink = document.createElement('div');\n",
              "          docLink.innerHTML = docLinkHtml;\n",
              "          element.appendChild(docLink);\n",
              "        }\n",
              "      </script>\n",
              "    </div>\n",
              "  </div>\n"
            ]
          },
          "metadata": {},
          "execution_count": 27
        }
      ],
      "source": [
        "df = pd.read_csv('/content/drive/MyDrive/2차프로젝트/데이터/CardData_new.csv', encoding='cp949')\n",
        "df.head(50)"
      ]
    },
    {
      "cell_type": "markdown",
      "source": [
        "## 연령\n"
      ],
      "metadata": {
        "id": "u4ZMWbnk3ufk"
      }
    },
    {
      "cell_type": "code",
      "source": [
        "df['연령'].unique()"
      ],
      "metadata": {
        "colab": {
          "base_uri": "https://localhost:8080/"
        },
        "id": "xfn94S58dfAd",
        "outputId": "d54029be-c8b5-4085-dcc6-c58e51c7e49b"
      },
      "execution_count": 14,
      "outputs": [
        {
          "output_type": "execute_result",
          "data": {
            "text/plain": [
              "array([64, 24, 43, 79, 82, 38, 26, 42, 68, 45, 28, 54, 47, 80, 32, 46, 34,\n",
              "       27, 22, 51, 50, 31, 36, 40, 30, 61, 56, 35, 37, 58, 53, 48, 66, 44,\n",
              "       55, 39, 41, 65, 52, 59, 21, 77, 33, 57, 60, 29, 74, 62, 76, 69, 63,\n",
              "       49, 75, 81, 23, 67, 25, 71, 73, 70, 83, 84, 72, 78, 89, 19, 85, 87,\n",
              "       86, 20, 94, 90, 88, 91, 92, 93, 95, 98, 96])"
            ]
          },
          "metadata": {},
          "execution_count": 14
        }
      ]
    },
    {
      "cell_type": "code",
      "source": [
        "plt.hist(data=df, x='연령', bins=20, range=(0, 100),width  = 4)\n",
        "plt.xlabel('연령')\n",
        "plt.ylabel('빈도수')\n",
        "plt.title('연령대 분포')\n",
        "plt.show()\n",
        "\n"
      ],
      "metadata": {
        "colab": {
          "base_uri": "https://localhost:8080/",
          "height": 469
        },
        "id": "5S-WahPfHyuA",
        "outputId": "cdc999e9-8891-4d0e-e576-b14a894839ea"
      },
      "execution_count": 21,
      "outputs": [
        {
          "output_type": "display_data",
          "data": {
            "text/plain": [
              "<Figure size 640x480 with 1 Axes>"
            ],
            "image/png": "[encoded data removed]"
          },
          "metadata": {}
        }
      ]
    },
    {
      "cell_type": "code",
      "source": [
        "df.columns"
      ],
      "metadata": {
        "colab": {
          "base_uri": "https://localhost:8080/"
        },
        "id": "TNbmIksm9ia_",
        "outputId": "5363a6af-3989-440c-9567-8d79c5bc6134"
      },
      "execution_count": 32,
      "outputs": [
        {
          "output_type": "execute_result",
          "data": {
            "text/plain": [
              "Index(['회원번호', '남녀구분코드', '연령', '소지여부_신용', '입회일자_신용', '입회경과개월수_신용', '탈회여부',\n",
              "       '회원여부_연체', '수신거부여부_TM', '수신거부여부_DM',\n",
              "       ...\n",
              "       '캠페인접촉건수_R12M', '캠페인접촉일수_R12M', '캠페인접촉월수_R12M', '접촉후경과월_R12M',\n",
              "       '보험콜대상월수_R12M', '보험콜대상횟수_R12M', '보험콜통화횟수_R12M', '보험콜배정후경과월_R12M',\n",
              "       '보험콜통화후경과월_R12M', '고객구분'],\n",
              "      dtype='object', length=302)"
            ]
          },
          "metadata": {},
          "execution_count": 32
        }
      ]
    },
    {
      "cell_type": "markdown",
      "source": [],
      "metadata": {
        "id": "HZZ_48OtA-Fw"
      }
    },
    {
      "cell_type": "markdown",
      "source": [
        "## 이용금액_할부_유이자_R12M\n"
      ],
      "metadata": {
        "id": "ebXSWa0K46jY"
      }
    },
    {
      "cell_type": "code",
      "source": [
        "df['이용금액_할부_유이자_R12M'].info()\n"
      ],
      "metadata": {
        "colab": {
          "base_uri": "https://localhost:8080/"
        },
        "id": "-yiacTKi-A7V",
        "outputId": "770a04e8-ffa3-44d0-bff8-b479d57ef74e"
      },
      "execution_count": 36,
      "outputs": [
        {
          "output_type": "stream",
          "name": "stdout",
          "text": [
            "<class 'pandas.core.series.Series'>\n",
            "RangeIndex: 300000 entries, 0 to 299999\n",
            "Series name: 이용금액_할부_유이자_R12M\n",
            "Non-Null Count   Dtype\n",
            "--------------   -----\n",
            "300000 non-null  int64\n",
            "dtypes: int64(1)\n",
            "memory usage: 2.3 MB\n"
          ]
        }
      ]
    },
    {
      "cell_type": "code",
      "source": [
        "df['이용금액_할부_유이자_R12M'].isnull().sum()"
      ],
      "metadata": {
        "colab": {
          "base_uri": "https://localhost:8080/"
        },
        "id": "6uWBIre048I9",
        "outputId": "29c2a629-4c0f-4fb0-d572-9af4e6631de6"
      },
      "execution_count": 35,
      "outputs": [
        {
          "output_type": "execute_result",
          "data": {
            "text/plain": [
              "0"
            ]
          },
          "metadata": {},
          "execution_count": 35
        }
      ]
    },
    {
      "cell_type": "code",
      "source": [
        "df['이용금액_할부_유이자_R12M'].describe()"
      ],
      "metadata": {
        "colab": {
          "base_uri": "https://localhost:8080/"
        },
        "id": "qwz1vk0u5K2j",
        "outputId": "dbf4b407-96c8-4ef9-ce56-39e3f525c4c6"
      },
      "execution_count": 38,
      "outputs": [
        {
          "output_type": "execute_result",
          "data": {
            "text/plain": [
              "count    3.000000e+05\n",
              "mean     2.844522e+05\n",
              "std      1.252066e+06\n",
              "min     -4.824300e+07\n",
              "25%      0.000000e+00\n",
              "50%      0.000000e+00\n",
              "75%      0.000000e+00\n",
              "max      8.395090e+07\n",
              "Name: 이용금액_할부_유이자_R12M, dtype: float64"
            ]
          },
          "metadata": {},
          "execution_count": 38
        }
      ]
    },
    {
      "cell_type": "code",
      "source": [
        "df['이용금액_할부_유이자_R12M'].unique()"
      ],
      "metadata": {
        "colab": {
          "base_uri": "https://localhost:8080/"
        },
        "id": "sJrrrt8H5U-g",
        "outputId": "e720d94f-78cd-419c-883c-47ec069830a4"
      },
      "execution_count": 39,
      "outputs": [
        {
          "output_type": "execute_result",
          "data": {
            "text/plain": [
              "array([      0,  593000,  261200, ...,  234624,  157970, 1717400])"
            ]
          },
          "metadata": {},
          "execution_count": 39
        }
      ]
    },
    {
      "cell_type": "code",
      "source": [],
      "metadata": {
        "id": "uGNZjC18-z0A"
      },
      "execution_count": 42,
      "outputs": []
    },
    {
      "cell_type": "code",
      "source": [],
      "metadata": {
        "colab": {
          "base_uri": "https://localhost:8080/",
          "height": 182
        },
        "id": "RJxYl69I5qXY",
        "outputId": "0a4ca6d3-bc44-4f0a-d674-0f1bbe975ced"
      },
      "execution_count": 43,
      "outputs": [
        {
          "output_type": "error",
          "ename": "AttributeError",
          "evalue": "ignored",
          "traceback": [
            "\u001b[0;31m---------------------------------------------------------------------------\u001b[0m",
            "\u001b[0;31mAttributeError\u001b[0m                            Traceback (most recent call last)",
            "\u001b[0;32m<ipython-input-43-a5128a6ff5b5>\u001b[0m in \u001b[0;36m<cell line: 1>\u001b[0;34m()\u001b[0m\n\u001b[0;32m----> 1\u001b[0;31m \u001b[0moutliers_iqr\u001b[0m\u001b[0;34m.\u001b[0m\u001b[0mdf\u001b[0m\u001b[0;34m[\u001b[0m\u001b[0;34m'이용금액_할부_유이자_R12M'\u001b[0m\u001b[0;34m]\u001b[0m\u001b[0;34m\u001b[0m\u001b[0;34m\u001b[0m\u001b[0m\n\u001b[0m",
            "\u001b[0;31mAttributeError\u001b[0m: 'function' object has no attribute 'df'"
          ]
        }
      ]
    },
    {
      "cell_type": "markdown",
      "source": [
        "##이용금액_할부_무이자_R12M"
      ],
      "metadata": {
        "id": "U1pMT_MTAKZJ"
      }
    },
    {
      "cell_type": "code",
      "source": [
        "df['이용금액_할부_무이자_R12M'].describe()"
      ],
      "metadata": {
        "colab": {
          "base_uri": "https://localhost:8080/"
        },
        "id": "hqWd9fgwAORz",
        "outputId": "d6b9f54f-cb60-4b24-df7e-1aef400fc166"
      },
      "execution_count": 40,
      "outputs": [
        {
          "output_type": "execute_result",
          "data": {
            "text/plain": [
              "count    3.000000e+05\n",
              "mean     7.972724e+05\n",
              "std      3.076562e+06\n",
              "min     -1.386000e+07\n",
              "25%      0.000000e+00\n",
              "50%      0.000000e+00\n",
              "75%      7.000000e+05\n",
              "max      6.975663e+08\n",
              "Name: 이용금액_할부_무이자_R12M, dtype: float64"
            ]
          },
          "metadata": {},
          "execution_count": 40
        }
      ]
    },
    {
      "cell_type": "markdown",
      "source": [
        "## 이용금액_할부_R12M"
      ],
      "metadata": {
        "id": "LiNAOLCTAWBW"
      }
    },
    {
      "cell_type": "code",
      "source": [
        "df['이용금액_할부_R12M'].describe()"
      ],
      "metadata": {
        "colab": {
          "base_uri": "https://localhost:8080/"
        },
        "id": "qy2eWWKkAVxe",
        "outputId": "789b5961-0944-4569-e328-b77c7b988ec8"
      },
      "execution_count": 41,
      "outputs": [
        {
          "output_type": "execute_result",
          "data": {
            "text/plain": [
              "count    3.000000e+05\n",
              "mean     1.108304e+06\n",
              "std      3.522232e+06\n",
              "min     -1.386000e+07\n",
              "25%      0.000000e+00\n",
              "50%      0.000000e+00\n",
              "75%      1.065202e+06\n",
              "max      6.975663e+08\n",
              "Name: 이용금액_할부_R12M, dtype: float64"
            ]
          },
          "metadata": {},
          "execution_count": 41
        }
      ]
    },
    {
      "cell_type": "markdown",
      "source": [
        "##이용금액_CA_R12M"
      ],
      "metadata": {
        "id": "aw4HbLIkBOg_"
      }
    },
    {
      "cell_type": "code",
      "source": [
        "df['이용금액_CA_R12M'].describe()"
      ],
      "metadata": {
        "colab": {
          "base_uri": "https://localhost:8080/"
        },
        "id": "urWc8EADBQn9",
        "outputId": "62acfcea-e752-4f2b-a66a-74056b829edf"
      },
      "execution_count": 44,
      "outputs": [
        {
          "output_type": "execute_result",
          "data": {
            "text/plain": [
              "count    3.000000e+05\n",
              "mean     8.270063e+05\n",
              "std      4.180751e+06\n",
              "min     -8.480000e+02\n",
              "25%      0.000000e+00\n",
              "50%      0.000000e+00\n",
              "75%      0.000000e+00\n",
              "max      2.685000e+08\n",
              "Name: 이용금액_CA_R12M, dtype: float64"
            ]
          },
          "metadata": {},
          "execution_count": 44
        }
      ]
    },
    {
      "cell_type": "markdown",
      "source": [
        "## 이용금액_할부_R12M=이용금액_할부_유이자_R12M+이용금액_할부_무이자_R12M+이용금액_할부_무이자_R12M 를 사용해서 이상치 확인"
      ],
      "metadata": {
        "id": "5hQ58fawB5c3"
      }
    },
    {
      "cell_type": "code",
      "source": [
        "df['이용금액_할부_R12M_calculated'] = df['이용금액_할부_유이자_R12M'] + df['이용금액_할부_무이자_R12M'] + df['이용금액_부분무이자_R12M']\n",
        "\n",
        "df['이용금액_할부_R12M_diff'] = df['이용금액_할부_R12M'] - df['이용금액_할부_R12M_calculated']\n",
        "\n",
        "outliers = df[df['이용금액_할부_R12M_diff'] != 0]\n",
        "print(len(outliers))"
      ],
      "metadata": {
        "colab": {
          "base_uri": "https://localhost:8080/"
        },
        "id": "_iwlRnZyB7yC",
        "outputId": "a5bfcdd8-a984-49d9-abc7-3e11beccd834"
      },
      "execution_count": 55,
      "outputs": [
        {
          "output_type": "stream",
          "name": "stdout",
          "text": [
            "0\n"
          ]
        }
      ]
    },
    {
      "cell_type": "markdown",
      "source": [
        "##이용금액_CA_R12M"
      ],
      "metadata": {
        "id": "BLX2fyl2Dknm"
      }
    },
    {
      "cell_type": "code",
      "source": [
        "df['이용금액_CA_R12M'].describe()"
      ],
      "metadata": {
        "colab": {
          "base_uri": "https://localhost:8080/"
        },
        "id": "MsL63nH5DmYo",
        "outputId": "525b8d7f-32fe-41c0-9c68-555422dec293"
      },
      "execution_count": 54,
      "outputs": [
        {
          "output_type": "execute_result",
          "data": {
            "text/plain": [
              "count    3.000000e+05\n",
              "mean     8.270063e+05\n",
              "std      4.180751e+06\n",
              "min     -8.480000e+02\n",
              "25%      0.000000e+00\n",
              "50%      0.000000e+00\n",
              "75%      0.000000e+00\n",
              "max      2.685000e+08\n",
              "Name: 이용금액_CA_R12M, dtype: float64"
            ]
          },
          "metadata": {},
          "execution_count": 54
        }
      ]
    },
    {
      "cell_type": "markdown",
      "source": [
        "## 신판=일시불 + 할부"
      ],
      "metadata": {
        "id": "quzblRNEL436"
      }
    },
    {
      "cell_type": "code",
      "source": [
        "df['이용금액_신판_R12M_calculated'] =  df['이용금액_일시불_R12M'] + df['이용금액_할부_R12M']\n",
        "\n",
        "df['이용금액_신판_R12M_diff'] = df['이용금액_신판_R12M'] - df['이용금액_신판_R12M_calculated']\n",
        "\n",
        "outliers = df[df['이용금액_신판_R12M_diff'] != 0]\n",
        "print(len(outliers))"
      ],
      "metadata": {
        "colab": {
          "base_uri": "https://localhost:8080/"
        },
        "id": "7m8yaiU1L532",
        "outputId": "9ecb4d2a-8ff2-49cf-a2c1-21776cab031e"
      },
      "execution_count": 56,
      "outputs": [
        {
          "output_type": "stream",
          "name": "stdout",
          "text": [
            "0\n"
          ]
        }
      ]
    },
    {
      "cell_type": "markdown",
      "source": [
        "##신용=신판+CA"
      ],
      "metadata": {
        "id": "2bWY2NUEMV6u"
      }
    },
    {
      "cell_type": "code",
      "source": [
        "df['이용금액_신용_R12M_calculated'] =  df['이용금액_신판_R12M'] + df['이용금액_CA_R12M']\n",
        "\n",
        "df['이용금액_신용_R12M_diff'] = df['이용금액_신용_R12M'] - df['이용금액_신용_R12M_calculated']\n",
        "\n",
        "outliers = df[df['이용금액_신용_R12M_diff'] != 0]\n",
        "print(len(outliers))"
      ],
      "metadata": {
        "colab": {
          "base_uri": "https://localhost:8080/"
        },
        "id": "QPw9Wo7cMYEW",
        "outputId": "461019e8-0351-4ba3-eebb-2d95fd00194c"
      },
      "execution_count": 57,
      "outputs": [
        {
          "output_type": "stream",
          "name": "stdout",
          "text": [
            "0\n"
          ]
        }
      ]
    },
    {
      "cell_type": "markdown",
      "source": [
        "##이용금액_체크_R12M"
      ],
      "metadata": {
        "id": "8-2YKH_7MmwJ"
      }
    },
    {
      "cell_type": "code",
      "source": [
        "df['이용금액_체크_R12M'].describe()"
      ],
      "metadata": {
        "colab": {
          "base_uri": "https://localhost:8080/"
        },
        "id": "-pdlWCTTMn45",
        "outputId": "b935a12d-1913-4fdb-d921-817e7d839dbe"
      },
      "execution_count": 58,
      "outputs": [
        {
          "output_type": "execute_result",
          "data": {
            "text/plain": [
              "count    3.000000e+05\n",
              "mean     7.639283e+05\n",
              "std      4.338603e+06\n",
              "min     -8.212222e+06\n",
              "25%      0.000000e+00\n",
              "50%      0.000000e+00\n",
              "75%      0.000000e+00\n",
              "max      1.385934e+09\n",
              "Name: 이용금액_체크_R12M, dtype: float64"
            ]
          },
          "metadata": {},
          "execution_count": 58
        }
      ]
    },
    {
      "cell_type": "markdown",
      "source": [
        "##이용개월수_신용_R12M"
      ],
      "metadata": {
        "id": "glPlwjMsPYMe"
      }
    },
    {
      "cell_type": "code",
      "source": [
        "df['이용개월수_신용_R12M'].unique()"
      ],
      "metadata": {
        "colab": {
          "base_uri": "https://localhost:8080/"
        },
        "id": "iQLz4JOBP6Kr",
        "outputId": "f8cc1b15-2a56-4a58-91a8-56086c6ac8b0"
      },
      "execution_count": 63,
      "outputs": [
        {
          "output_type": "execute_result",
          "data": {
            "text/plain": [
              "array([12, 11,  8,  0, 10,  1,  6,  7,  9,  3,  4,  2,  5])"
            ]
          },
          "metadata": {},
          "execution_count": 63
        }
      ]
    },
    {
      "cell_type": "code",
      "source": [
        "df['이용개월수_신용_R12M'].describe()"
      ],
      "metadata": {
        "colab": {
          "base_uri": "https://localhost:8080/"
        },
        "id": "agnJd8lRPZyw",
        "outputId": "be5d7c82-65c4-44a6-a00c-ac82c9123103"
      },
      "execution_count": 59,
      "outputs": [
        {
          "output_type": "execute_result",
          "data": {
            "text/plain": [
              "count    300000.000000\n",
              "mean          9.457187\n",
              "std           4.053295\n",
              "min           0.000000\n",
              "25%           8.000000\n",
              "50%          12.000000\n",
              "75%          12.000000\n",
              "max          12.000000\n",
              "Name: 이용개월수_신용_R12M, dtype: float64"
            ]
          },
          "metadata": {},
          "execution_count": 59
        }
      ]
    },
    {
      "cell_type": "code",
      "source": [
        "plt.hist(data=df, x='이용개월수_신용_R12M', bins=(20) ,width  = 4)\n",
        "plt.xlabel('이용개월수_신용_R12M')\n",
        "plt.ylabel('빈도수')\n",
        "plt.title('이용개월수_신용_R12M 분포')\n",
        "plt.show()"
      ],
      "metadata": {
        "colab": {
          "base_uri": "https://localhost:8080/",
          "height": 470
        },
        "id": "BHH2j0YUPdC5",
        "outputId": "0dfafe95-cf0e-407f-96f0-6e28221cccf7"
      },
      "execution_count": 96,
      "outputs": [
        {
          "output_type": "display_data",
          "data": {
            "text/plain": [
              "<Figure size 640x480 with 1 Axes>"
            ],
            "image/png": "[encoded data removed]"
          },
          "metadata": {}
        }
      ]
    },
    {
      "cell_type": "code",
      "source": [
        "plt.hist(data=df, x='이용금액_신용_R12M', bins=20 ,width  = 4)\n",
        "plt.xlabel('이용금액_신용_R12M')\n",
        "plt.ylabel('빈도수')\n",
        "plt.title('이용금액_신용_R12M 분포')\n",
        "plt.show()"
      ],
      "metadata": {
        "colab": {
          "base_uri": "https://localhost:8080/",
          "height": 470
        },
        "id": "YAg3InpMT5Bk",
        "outputId": "82a02c9a-d429-46d3-8bcc-7bcc86bd16b1"
      },
      "execution_count": 97,
      "outputs": [
        {
          "output_type": "display_data",
          "data": {
            "text/plain": [
              "<Figure size 640x480 with 1 Axes>"
            ],
            "image/png": "[encoded data removed]"
          },
          "metadata": {}
        }
      ]
    },
    {
      "cell_type": "code",
      "source": [],
      "metadata": {
        "id": "ifk3cICSTyok"
      },
      "execution_count": null,
      "outputs": []
    },
    {
      "cell_type": "code",
      "source": [
        "df['이용개월수_신용_R12M'].unique()"
      ],
      "metadata": {
        "colab": {
          "base_uri": "https://localhost:8080/"
        },
        "id": "AZOi5nK2QQnd",
        "outputId": "af1aa30e-5929-4d50-cebf-c5fd7efa8d25"
      },
      "execution_count": 65,
      "outputs": [
        {
          "output_type": "execute_result",
          "data": {
            "text/plain": [
              "array([12, 11,  8,  0, 10,  1,  6,  7,  9,  3,  4,  2,  5])"
            ]
          },
          "metadata": {},
          "execution_count": 65
        }
      ]
    },
    {
      "cell_type": "code",
      "source": [
        "df['이용개월수_신판_R12M'].unique()"
      ],
      "metadata": {
        "colab": {
          "base_uri": "https://localhost:8080/"
        },
        "id": "FPTUNlu2QR5a",
        "outputId": "c1c038c8-93d0-4de6-d1e8-db7786dbaa0f"
      },
      "execution_count": 66,
      "outputs": [
        {
          "output_type": "execute_result",
          "data": {
            "text/plain": [
              "array([12, 11,  8,  0,  1,  6,  7,  9,  3,  4,  2, 10,  5])"
            ]
          },
          "metadata": {},
          "execution_count": 66
        }
      ]
    },
    {
      "cell_type": "code",
      "source": [
        "df['이용개월수_일시불_R12M'].unique()"
      ],
      "metadata": {
        "colab": {
          "base_uri": "https://localhost:8080/"
        },
        "id": "vvfotoNPQR8P",
        "outputId": "e9da263d-a716-4f80-9a49-0b77b60aafa0"
      },
      "execution_count": 68,
      "outputs": [
        {
          "output_type": "execute_result",
          "data": {
            "text/plain": [
              "array([12, 11,  7,  0,  6,  8,  1,  9,  3,  4,  2, 10,  5])"
            ]
          },
          "metadata": {},
          "execution_count": 68
        }
      ]
    },
    {
      "cell_type": "code",
      "source": [
        "df['이용개월수_할부_R12M'].unique()"
      ],
      "metadata": {
        "colab": {
          "base_uri": "https://localhost:8080/"
        },
        "id": "aU73tQ4nQR-v",
        "outputId": "1d4d2f79-ef50-4b5d-c3eb-6ce150120132"
      },
      "execution_count": 69,
      "outputs": [
        {
          "output_type": "execute_result",
          "data": {
            "text/plain": [
              "array([ 0,  3,  1,  6,  4,  9,  2,  7, 11,  8,  5, 10, 12])"
            ]
          },
          "metadata": {},
          "execution_count": 69
        }
      ]
    },
    {
      "cell_type": "code",
      "source": [
        "df['이용개월수_할부_유이자_R12M'].unique()"
      ],
      "metadata": {
        "colab": {
          "base_uri": "https://localhost:8080/"
        },
        "id": "a3tm_6bPQSBS",
        "outputId": "60cf0233-2b12-4dee-9701-a2d4a2648a40"
      },
      "execution_count": 70,
      "outputs": [
        {
          "output_type": "execute_result",
          "data": {
            "text/plain": [
              "array([ 0,  3,  2,  7,  1,  4,  8,  5, 11,  6,  9, 10, 12])"
            ]
          },
          "metadata": {},
          "execution_count": 70
        }
      ]
    },
    {
      "cell_type": "code",
      "source": [
        "df['이용개월수_할부_무이자_R12M'].unique()"
      ],
      "metadata": {
        "colab": {
          "base_uri": "https://localhost:8080/"
        },
        "id": "UYxd9jwNQSDs",
        "outputId": "9ef9545c-4041-49eb-b9af-e6a99df1a6b8"
      },
      "execution_count": 71,
      "outputs": [
        {
          "output_type": "execute_result",
          "data": {
            "text/plain": [
              "array([ 0,  3,  1,  6,  2,  8,  4, 11,  5, 12,  9, 10,  7])"
            ]
          },
          "metadata": {},
          "execution_count": 71
        }
      ]
    },
    {
      "cell_type": "code",
      "source": [
        "df['이용개월수_부분무이자_R12M'].unique()"
      ],
      "metadata": {
        "colab": {
          "base_uri": "https://localhost:8080/"
        },
        "id": "0GDEdX58QSF9",
        "outputId": "978cbe4a-87ab-4f97-e1fa-25317a07c60b"
      },
      "execution_count": 73,
      "outputs": [
        {
          "output_type": "execute_result",
          "data": {
            "text/plain": [
              "array([ 0,  1, 11,  6,  2,  4,  3, 10,  5,  7,  9,  8, 12])"
            ]
          },
          "metadata": {},
          "execution_count": 73
        }
      ]
    },
    {
      "cell_type": "code",
      "source": [
        "df['이용개월수_CA_R12M'].unique()"
      ],
      "metadata": {
        "colab": {
          "base_uri": "https://localhost:8080/"
        },
        "id": "am6Hofi0QSIP",
        "outputId": "23336cfd-74e4-4949-9de1-4c5888acc919"
      },
      "execution_count": 72,
      "outputs": [
        {
          "output_type": "execute_result",
          "data": {
            "text/plain": [
              "array([ 0,  8, 12,  3,  5,  9,  2, 11,  6,  1,  4, 10,  7])"
            ]
          },
          "metadata": {},
          "execution_count": 72
        }
      ]
    },
    {
      "cell_type": "code",
      "source": [
        "df['이용개월수_체크_R12M'].unique()"
      ],
      "metadata": {
        "colab": {
          "base_uri": "https://localhost:8080/"
        },
        "id": "r0BsP2FxQRCx",
        "outputId": "04a8621b-aba2-402e-e17e-59d7bcb93efb"
      },
      "execution_count": 74,
      "outputs": [
        {
          "output_type": "execute_result",
          "data": {
            "text/plain": [
              "array([ 0,  2,  1,  3,  6, 12, 10,  4,  7,  5, 11,  8,  9])"
            ]
          },
          "metadata": {},
          "execution_count": 74
        }
      ]
    },
    {
      "cell_type": "code",
      "source": [
        "df['이용개월수_카드론_R12M'].unique()"
      ],
      "metadata": {
        "colab": {
          "base_uri": "https://localhost:8080/"
        },
        "id": "KYe2S0V5Qitl",
        "outputId": "660d1a67-a6e6-4f97-a6fd-8e2f264c137c"
      },
      "execution_count": 77,
      "outputs": [
        {
          "output_type": "execute_result",
          "data": {
            "text/plain": [
              "array([ 0,  1,  2,  3,  6,  5,  4,  9, 10,  7, 11,  8, 12])"
            ]
          },
          "metadata": {},
          "execution_count": 77
        }
      ]
    },
    {
      "cell_type": "code",
      "source": [
        "df['이용건수_CA_R6M'].unique()"
      ],
      "metadata": {
        "colab": {
          "base_uri": "https://localhost:8080/"
        },
        "id": "z-XoIYs9Qs-y",
        "outputId": "e34dd44f-c15b-4514-a772-8caf890d14d6"
      },
      "execution_count": 78,
      "outputs": [
        {
          "output_type": "execute_result",
          "data": {
            "text/plain": [
              "array([  0,   6,   3,  11,  17,   4,   7,   8,   5,   2,  15,   1,  12,\n",
              "         9,  13,  26,  10,  16,  25,  21,  14,  30,  28,  18,  27,  20,\n",
              "        19,  24,  38,  31,  45,  42,  23,  29,  34,  22,  53,  33,  44,\n",
              "        43,  40,  58,  63,  32,  35,  66,  70,  46,  84,  36,  96, 125,\n",
              "        52,  41,  59,  37,  56,  49,  47,  54,  89,  61,  50, 118,  74,\n",
              "        55,  67,  39,  95,  69,  60,  62])"
            ]
          },
          "metadata": {},
          "execution_count": 78
        }
      ]
    },
    {
      "cell_type": "markdown",
      "source": [
        "#이용건수 R6M"
      ],
      "metadata": {
        "id": "QrQRbc8NQy1I"
      }
    },
    {
      "cell_type": "code",
      "source": [
        "df['이용_신용_R6M'].describe()"
      ],
      "metadata": {
        "colab": {
          "base_uri": "https://localhost:8080/"
        },
        "id": "6TiDx7jeQ1vl",
        "outputId": "dad79ec3-50d6-429d-e2fc-a97ca5f34732"
      },
      "execution_count": 83,
      "outputs": [
        {
          "output_type": "execute_result",
          "data": {
            "text/plain": [
              "count    300000.000000\n",
              "mean        110.877797\n",
              "std         147.330622\n",
              "min         -15.000000\n",
              "25%           7.000000\n",
              "50%          53.000000\n",
              "75%         159.000000\n",
              "max        4088.000000\n",
              "Name: 이용건수_신용_R6M, dtype: float64"
            ]
          },
          "metadata": {},
          "execution_count": 83
        }
      ]
    },
    {
      "cell_type": "code",
      "source": [
        "\n",
        "Q1 = df['이용건수_신용_R6M'].quantile(0.25)\n",
        "Q3 = df['이용건수_신용_R6M'].quantile(0.75)\n",
        "IQR = Q3 - Q1\n",
        "\n",
        "# 이상치 확인\n",
        "lower_bound = Q1 - 1.5 * IQR\n",
        "upper_bound = Q3 + 1.5 * IQR\n",
        "\n",
        "outliers = df[(df['이용건수_신용_R6M'] < lower_bound) | (df['이용건수_신용_R6M'] > upper_bound)]\n",
        "print(len(outliers))"
      ],
      "metadata": {
        "colab": {
          "base_uri": "https://localhost:8080/"
        },
        "id": "Ur0soHT2Q7_-",
        "outputId": "5a847232-4c23-4f58-ed2f-babf771dbd0f"
      },
      "execution_count": 90,
      "outputs": [
        {
          "output_type": "stream",
          "name": "stdout",
          "text": [
            "17899\n"
          ]
        }
      ]
    },
    {
      "cell_type": "code",
      "source": [
        "columns_to_check = ['이용금액_신용_R12M','이용금액_신판_R12M', '이용금액_일시불_R12M', '이용금액_할부_R12M', '이용금액_할부_유이자_R12M','이용금액_할부_무이자_R12M','이용금액_부분무이자_R12M','이용금액_CA_R12M','이용금액_체크_R12M','이용금액_카드론_R12M']\n",
        "\n",
        "for column in columns_to_check:\n",
        "    Q1 = df[column].quantile(0.25)\n",
        "    Q3 = df[column].quantile(0.75)\n",
        "    IQR = Q3 - Q1\n",
        "\n",
        "    lower_bound = Q1 - 1.5 * IQR\n",
        "    upper_bound = Q3 + 1.5 * IQR\n",
        "\n",
        "    outliers = df[(df[column] < lower_bound) | (df[column] > upper_bound)]\n",
        "\n",
        "    print(f\"Column: {column}, Number of outliers: {len(outliers)}\")"
      ],
      "metadata": {
        "colab": {
          "base_uri": "https://localhost:8080/"
        },
        "id": "0vk9DkerS4Fv",
        "outputId": "95c53948-71f2-4fcb-d56f-3708600f17d6"
      },
      "execution_count": 109,
      "outputs": [
        {
          "output_type": "stream",
          "name": "stdout",
          "text": [
            "Column: 이용금액_신용_R12M, Number of outliers: 19053\n",
            "Column: 이용금액_신판_R12M, Number of outliers: 18197\n",
            "Column: 이용금액_일시불_R12M, Number of outliers: 20226\n",
            "Column: 이용금액_할부_R12M, Number of outliers: 36533\n",
            "Column: 이용금액_할부_유이자_R12M, Number of outliers: 72325\n",
            "Column: 이용금액_할부_무이자_R12M, Number of outliers: 39087\n",
            "Column: 이용금액_부분무이자_R12M, Number of outliers: 6102\n",
            "Column: 이용금액_CA_R12M, Number of outliers: 41321\n",
            "Column: 이용금액_체크_R12M, Number of outliers: 68069\n",
            "Column: 이용금액_카드론_R12M, Number of outliers: 19995\n"
          ]
        }
      ]
    },
    {
      "cell_type": "code",
      "source": [
        "columns_to_check = ['이용개월수_신용_R12M','이용개월수_신판_R12M', '이용개월수_일시불_R12M', '이용개월수_할부_R12M', '이용개월수_할부_유이자_R12M','이용개월수_할부_무이자_R12M','이용개월수_부분무이자_R12M','이용개월수_CA_R12M','이용개월수_체크_R12M','이용개월수_카드론_R12M']\n",
        "\n",
        "for column in columns_to_check:\n",
        "    Q1 = df[column].quantile(0.25)\n",
        "    Q3 = df[column].quantile(0.75)\n",
        "    IQR = Q3 - Q1\n",
        "\n",
        "    lower_bound = Q1 - 1.5 * IQR\n",
        "    upper_bound = Q3 + 1.5 * IQR\n",
        "\n",
        "    outliers = df[(df[column] < lower_bound) | (df[column] > upper_bound)]\n",
        "\n",
        "    print(f\"Column: {column}, Number of outliers: {len(outliers)}\")"
      ],
      "metadata": {
        "colab": {
          "base_uri": "https://localhost:8080/"
        },
        "id": "otim6k2xVH1I",
        "outputId": "e1332a3c-d305-4d26-8fd2-374ed8b07bc5"
      },
      "execution_count": 107,
      "outputs": [
        {
          "output_type": "stream",
          "name": "stdout",
          "text": [
            "Column: 이용개월수_신용_R12M, Number of outliers: 32131\n",
            "Column: 이용개월수_신판_R12M, Number of outliers: 32965\n",
            "Column: 이용개월수_일시불_R12M, Number of outliers: 34325\n",
            "Column: 이용개월수_할부_R12M, Number of outliers: 25313\n",
            "Column: 이용개월수_할부_유이자_R12M, Number of outliers: 70902\n",
            "Column: 이용개월수_할부_무이자_R12M, Number of outliers: 30582\n",
            "Column: 이용개월수_부분무이자_R12M, Number of outliers: 6142\n",
            "Column: 이용개월수_CA_R12M, Number of outliers: 41321\n",
            "Column: 이용개월수_체크_R12M, Number of outliers: 68062\n",
            "Column: 이용개월수_카드론_R12M, Number of outliers: 19995\n"
          ]
        }
      ]
    },
    {
      "cell_type": "markdown",
      "source": [
        "# 이용건수에는 부분무이자가 없다"
      ],
      "metadata": {
        "id": "KyULIJ6UVzfr"
      }
    },
    {
      "cell_type": "code",
      "source": [
        "columns_to_check = ['이용건수_신용_R6M','이용건수_신판_R6M', '이용건수_일시불_R6M', '이용건수_할부_R6M', '이용건수_할부_유이자_R6M','이용건수_할부_무이자_R6M','이용건수_CA_R6M','이용건수_체크_R6M','이용건수_카드론_R6M']\n",
        "\n",
        "for column in columns_to_check:\n",
        "    Q1 = df[column].quantile(0.25)\n",
        "    Q3 = df[column].quantile(0.75)\n",
        "    IQR = Q3 - Q1\n",
        "\n",
        "    lower_bound = Q1 - 1.5 * IQR\n",
        "    upper_bound = Q3 + 1.5 * IQR\n",
        "\n",
        "    outliers = df[(df[column] < lower_bound) | (df[column] > upper_bound)]\n",
        "\n",
        "    print(f\"Column: {column}, Number of outliers: {len(outliers)}\")"
      ],
      "metadata": {
        "colab": {
          "base_uri": "https://localhost:8080/"
        },
        "id": "YQeYmjl-VTGT",
        "outputId": "2c061e3a-290e-4ece-f08a-465a3fcaa2c5"
      },
      "execution_count": 105,
      "outputs": [
        {
          "output_type": "stream",
          "name": "stdout",
          "text": [
            "Column: 이용건수_신용_R6M, Number of outliers: 17899\n",
            "Column: 이용건수_신판_R6M, Number of outliers: 17814\n",
            "Column: 이용건수_일시불_R6M, Number of outliers: 18074\n",
            "Column: 이용건수_할부_R6M, Number of outliers: 57193\n",
            "Column: 이용건수_할부_유이자_R6M, Number of outliers: 54481\n",
            "Column: 이용건수_할부_무이자_R6M, Number of outliers: 42025\n",
            "Column: 이용건수_CA_R6M, Number of outliers: 31196\n",
            "Column: 이용건수_체크_R6M, Number of outliers: 57933\n",
            "Column: 이용건수_카드론_R6M, Number of outliers: 11069\n"
          ]
        }
      ]
    },
    {
      "cell_type": "code",
      "source": [
        "columns_to_check = ['이용금액_신용_R6M','이용금액_신판_R6M', '이용금액_일시불_R6M','이용금액_할부_R6M', '이용금액_할부_유이자_R6M','이용금액_할부_무이자_R6M','이용금액_부분무이자_R6M','이용금액_CA_R6M','이용금액_체크_R6M','이용금액_카드론_R6M']\n",
        "\n",
        "for column in columns_to_check:\n",
        "    Q1 = df[column].quantile(0.25)\n",
        "    Q3 = df[column].quantile(0.75)\n",
        "    IQR = Q3 - Q1\n",
        "\n",
        "    lower_bound = Q1 - 1.5 * IQR\n",
        "    upper_bound = Q3 + 1.5 * IQR\n",
        "\n",
        "    outliers = df[(df[column] < lower_bound) | (df[column] > upper_bound)]\n",
        "\n",
        "    print(f\"Column: {column}, Number of outliers: {len(outliers)}\")"
      ],
      "metadata": {
        "colab": {
          "base_uri": "https://localhost:8080/"
        },
        "id": "U6ELP_GsV2MD",
        "outputId": "3edeefec-d89b-4d6e-f51d-e8f7dd83a554"
      },
      "execution_count": 104,
      "outputs": [
        {
          "output_type": "stream",
          "name": "stdout",
          "text": [
            "Column: 이용금액_신용_R6M, Number of outliers: 18899\n",
            "Column: 이용금액_신판_R6M, Number of outliers: 17996\n",
            "Column: 이용금액_일시불_R6M, Number of outliers: 19740\n",
            "Column: 이용금액_할부_R6M, Number of outliers: 45277\n",
            "Column: 이용금액_할부_유이자_R6M, Number of outliers: 54998\n",
            "Column: 이용금액_할부_무이자_R6M, Number of outliers: 55754\n",
            "Column: 이용금액_부분무이자_R6M, Number of outliers: 2835\n",
            "Column: 이용금액_CA_R6M, Number of outliers: 31196\n",
            "Column: 이용금액_체크_R6M, Number of outliers: 57959\n",
            "Column: 이용금액_카드론_R6M, Number of outliers: 11069\n"
          ]
        }
      ]
    }
  ]
}