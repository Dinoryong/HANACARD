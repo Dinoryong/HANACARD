{
 "cells": [
  {
   "cell_type": "code",
   "execution_count": 1,
   "id": "d9e1632a",
   "metadata": {},
   "outputs": [],
   "source": [
    "# 라이브러리 불러오기\n",
    "import pandas as pd\n",
    "import numpy as np\n",
    "import matplotlib.pyplot as plt\n",
    "import seaborn as sns\n",
    "import statistics\n",
    "import re\n",
    "from sklearn.model_selection import train_test_split\n",
    "from sklearn.ensemble import RandomForestClassifier\n",
    "from sklearn.metrics import accuracy_score\n",
    "from sklearn.preprocessing import OneHotEncoder\n"
   ]
  },
  {
   "cell_type": "code",
   "execution_count": 68,
   "id": "c4f514da",
   "metadata": {},
   "outputs": [
    {
     "data": {
      "text/html": [
       "<div>\n",
       "<style scoped>\n",
       "    .dataframe tbody tr th:only-of-type {\n",
       "        vertical-align: middle;\n",
       "    }\n",
       "\n",
       "    .dataframe tbody tr th {\n",
       "        vertical-align: top;\n",
       "    }\n",
       "\n",
       "    .dataframe thead th {\n",
       "        text-align: right;\n",
       "    }\n",
       "</style>\n",
       "<table border=\"1\" class=\"dataframe\">\n",
       "  <thead>\n",
       "    <tr style=\"text-align: right;\">\n",
       "      <th></th>\n",
       "      <th>회원번호</th>\n",
       "      <th>남녀구분코드</th>\n",
       "      <th>연령</th>\n",
       "      <th>소지여부_신용</th>\n",
       "      <th>입회일자_신용</th>\n",
       "      <th>입회경과개월수_신용</th>\n",
       "      <th>탈회여부</th>\n",
       "      <th>회원여부_연체</th>\n",
       "      <th>수신거부여부_TM</th>\n",
       "      <th>수신거부여부_DM</th>\n",
       "      <th>...</th>\n",
       "      <th>캠페인접촉건수_R12M</th>\n",
       "      <th>캠페인접촉일수_R12M</th>\n",
       "      <th>캠페인접촉월수_R12M</th>\n",
       "      <th>접촉후경과월_R12M</th>\n",
       "      <th>보험콜대상월수_R12M</th>\n",
       "      <th>보험콜대상횟수_R12M</th>\n",
       "      <th>보험콜통화횟수_R12M</th>\n",
       "      <th>보험콜배정후경과월_R12M</th>\n",
       "      <th>보험콜통화후경과월_R12M</th>\n",
       "      <th>고객구분</th>\n",
       "    </tr>\n",
       "  </thead>\n",
       "  <tbody>\n",
       "    <tr>\n",
       "      <th>0</th>\n",
       "      <td>YNtSN9Oa</td>\n",
       "      <td>2</td>\n",
       "      <td>64</td>\n",
       "      <td>1</td>\n",
       "      <td>20140709</td>\n",
       "      <td>54</td>\n",
       "      <td>1</td>\n",
       "      <td>0</td>\n",
       "      <td>0</td>\n",
       "      <td>0</td>\n",
       "      <td>...</td>\n",
       "      <td>3</td>\n",
       "      <td>3</td>\n",
       "      <td>2</td>\n",
       "      <td>5</td>\n",
       "      <td>5</td>\n",
       "      <td>5</td>\n",
       "      <td>9</td>\n",
       "      <td>0</td>\n",
       "      <td>0</td>\n",
       "      <td>21.Active_연속</td>\n",
       "    </tr>\n",
       "    <tr>\n",
       "      <th>1</th>\n",
       "      <td>Rijqdlzu</td>\n",
       "      <td>1</td>\n",
       "      <td>24</td>\n",
       "      <td>1</td>\n",
       "      <td>20170412</td>\n",
       "      <td>21</td>\n",
       "      <td>0</td>\n",
       "      <td>0</td>\n",
       "      <td>0</td>\n",
       "      <td>0</td>\n",
       "      <td>...</td>\n",
       "      <td>0</td>\n",
       "      <td>0</td>\n",
       "      <td>0</td>\n",
       "      <td>12</td>\n",
       "      <td>5</td>\n",
       "      <td>5</td>\n",
       "      <td>14</td>\n",
       "      <td>2</td>\n",
       "      <td>2</td>\n",
       "      <td>21.Active_연속</td>\n",
       "    </tr>\n",
       "    <tr>\n",
       "      <th>2</th>\n",
       "      <td>NOsf3TZS</td>\n",
       "      <td>2</td>\n",
       "      <td>43</td>\n",
       "      <td>1</td>\n",
       "      <td>20170426</td>\n",
       "      <td>21</td>\n",
       "      <td>1</td>\n",
       "      <td>0</td>\n",
       "      <td>1</td>\n",
       "      <td>0</td>\n",
       "      <td>...</td>\n",
       "      <td>0</td>\n",
       "      <td>0</td>\n",
       "      <td>0</td>\n",
       "      <td>12</td>\n",
       "      <td>0</td>\n",
       "      <td>0</td>\n",
       "      <td>0</td>\n",
       "      <td>12</td>\n",
       "      <td>12</td>\n",
       "      <td>21.Active_연속</td>\n",
       "    </tr>\n",
       "    <tr>\n",
       "      <th>3</th>\n",
       "      <td>7IPZGTZu</td>\n",
       "      <td>2</td>\n",
       "      <td>79</td>\n",
       "      <td>1</td>\n",
       "      <td>20141128</td>\n",
       "      <td>50</td>\n",
       "      <td>0</td>\n",
       "      <td>0</td>\n",
       "      <td>0</td>\n",
       "      <td>0</td>\n",
       "      <td>...</td>\n",
       "      <td>16</td>\n",
       "      <td>15</td>\n",
       "      <td>5</td>\n",
       "      <td>1</td>\n",
       "      <td>3</td>\n",
       "      <td>3</td>\n",
       "      <td>6</td>\n",
       "      <td>0</td>\n",
       "      <td>0</td>\n",
       "      <td>21.Active_연속</td>\n",
       "    </tr>\n",
       "    <tr>\n",
       "      <th>4</th>\n",
       "      <td>pEEsUF2u</td>\n",
       "      <td>2</td>\n",
       "      <td>82</td>\n",
       "      <td>1</td>\n",
       "      <td>20120905</td>\n",
       "      <td>76</td>\n",
       "      <td>0</td>\n",
       "      <td>0</td>\n",
       "      <td>0</td>\n",
       "      <td>0</td>\n",
       "      <td>...</td>\n",
       "      <td>4</td>\n",
       "      <td>4</td>\n",
       "      <td>3</td>\n",
       "      <td>1</td>\n",
       "      <td>1</td>\n",
       "      <td>1</td>\n",
       "      <td>4</td>\n",
       "      <td>3</td>\n",
       "      <td>2</td>\n",
       "      <td>21.Active_연속</td>\n",
       "    </tr>\n",
       "  </tbody>\n",
       "</table>\n",
       "<p>5 rows × 302 columns</p>\n",
       "</div>"
      ],
      "text/plain": [
       "       회원번호  남녀구분코드  연령  소지여부_신용   입회일자_신용  입회경과개월수_신용  탈회여부  회원여부_연체  \\\n",
       "0  YNtSN9Oa       2  64        1  20140709          54     1        0   \n",
       "1  Rijqdlzu       1  24        1  20170412          21     0        0   \n",
       "2  NOsf3TZS       2  43        1  20170426          21     1        0   \n",
       "3  7IPZGTZu       2  79        1  20141128          50     0        0   \n",
       "4  pEEsUF2u       2  82        1  20120905          76     0        0   \n",
       "\n",
       "   수신거부여부_TM  수신거부여부_DM  ...  캠페인접촉건수_R12M  캠페인접촉일수_R12M 캠페인접촉월수_R12M  \\\n",
       "0          0          0  ...             3             3            2   \n",
       "1          0          0  ...             0             0            0   \n",
       "2          1          0  ...             0             0            0   \n",
       "3          0          0  ...            16            15            5   \n",
       "4          0          0  ...             4             4            3   \n",
       "\n",
       "  접촉후경과월_R12M 보험콜대상월수_R12M  보험콜대상횟수_R12M  보험콜통화횟수_R12M  보험콜배정후경과월_R12M  \\\n",
       "0           5            5             5             9               0   \n",
       "1          12            5             5            14               2   \n",
       "2          12            0             0             0              12   \n",
       "3           1            3             3             6               0   \n",
       "4           1            1             1             4               3   \n",
       "\n",
       "  보험콜통화후경과월_R12M          고객구분  \n",
       "0              0  21.Active_연속  \n",
       "1              2  21.Active_연속  \n",
       "2             12  21.Active_연속  \n",
       "3              0  21.Active_연속  \n",
       "4              2  21.Active_연속  \n",
       "\n",
       "[5 rows x 302 columns]"
      ]
     },
     "execution_count": 68,
     "metadata": {},
     "output_type": "execute_result"
    }
   ],
   "source": [
    "df = pd.read_csv('C:\\data\\CardData_new.csv', encoding='cp949')\n",
    "df.head()"
   ]
  },
  {
   "cell_type": "code",
   "execution_count": 3,
   "id": "5f277663",
   "metadata": {},
   "outputs": [
    {
     "data": {
      "text/plain": [
       "21.Active_연속    222863\n",
       "22.Active_간헐     29035\n",
       "34.휴면_9M+        26974\n",
       "32.휴면_6M-         8951\n",
       "33.휴면_9M-         7638\n",
       "31.휴면_3M          4539\n",
       "Name: 고객구분, dtype: int64"
      ]
     },
     "execution_count": 3,
     "metadata": {},
     "output_type": "execute_result"
    }
   ],
   "source": [
    "df['고객구분'].value_counts()"
   ]
  },
  {
   "cell_type": "code",
   "execution_count": 11,
   "id": "f7d5ae81",
   "metadata": {},
   "outputs": [
    {
     "data": {
      "text/plain": [
       "고객구분          이용후경과월_신용\n",
       "21.Active_연속  0            222863\n",
       "34.휴면_9M+     12            23562\n",
       "22.Active_간헐  0             14645\n",
       "              1              8844\n",
       "              2              5546\n",
       "31.휴면_3M      3              4539\n",
       "32.휴면_6M-     4              3309\n",
       "              5              2951\n",
       "              6              2691\n",
       "33.휴면_9M-     7              2394\n",
       "              8              2038\n",
       "              9              1832\n",
       "34.휴면_9M+     10             1787\n",
       "              11             1625\n",
       "33.휴면_9M-     12             1370\n",
       "              10                3\n",
       "              11                1\n",
       "dtype: int64"
      ]
     },
     "execution_count": 11,
     "metadata": {},
     "output_type": "execute_result"
    }
   ],
   "source": [
    "df[['고객구분','이용후경과월_신용']].value_counts()"
   ]
  },
  {
   "cell_type": "code",
   "execution_count": 32,
   "id": "6f0469e4",
   "metadata": {},
   "outputs": [
    {
     "name": "stdout",
     "output_type": "stream",
     "text": [
      "0\n"
     ]
    }
   ],
   "source": [
    "count = len(df[(df['고객구분'] == '휴면_9M- ') & (df['이용후경과월_신용'] == 10)])\n",
    "\n",
    "# 개수 출력\n",
    "print(count)"
   ]
  },
  {
   "cell_type": "code",
   "execution_count": 26,
   "id": "d2c508e1",
   "metadata": {},
   "outputs": [
    {
     "name": "stdout",
     "output_type": "stream",
     "text": [
      "27075\n"
     ]
    }
   ],
   "source": [
    "count = len(df[df['입회경과개월수_신용']<=12])\n",
    "\n",
    "# 개수 출력\n",
    "print(count)"
   ]
  },
  {
   "cell_type": "code",
   "execution_count": 27,
   "id": "e1e24f40",
   "metadata": {},
   "outputs": [
    {
     "name": "stdout",
     "output_type": "stream",
     "text": [
      "9506\n"
     ]
    }
   ],
   "source": [
    "count = len(df[(df['입회경과개월수_신용'] <= 12) & (df['연령'] <= 40)])\n",
    "\n",
    "# 개수 출력\n",
    "print(count)"
   ]
  },
  {
   "cell_type": "code",
   "execution_count": 48,
   "id": "c97961f3",
   "metadata": {},
   "outputs": [],
   "source": [
    "import matplotlib.pyplot as plt\n",
    "import matplotlib.font_manager as fm\n",
    "\n",
    "# 한글 폰트 경로 설정\n",
    "font_path = 'C:/Windows/Fonts/malgun.ttf'  # 한글 폰트 경로를 맞게 설정해주세요\n",
    "font_prop = fm.FontProperties(fname=font_path, size=12)\n"
   ]
  },
  {
   "cell_type": "code",
   "execution_count": 74,
   "id": "515a8832",
   "metadata": {},
   "outputs": [
    {
     "name": "stderr",
     "output_type": "stream",
     "text": [
      "C:\\Users\\shinseungho\\anaconda3\\lib\\site-packages\\IPython\\core\\pylabtools.py:152: UserWarning: Glyph 48712 (\\N{HANGUL SYLLABLE BIN}) missing from current font.\n",
      "  fig.canvas.print_figure(bytes_io, **kw)\n",
      "C:\\Users\\shinseungho\\anaconda3\\lib\\site-packages\\IPython\\core\\pylabtools.py:152: UserWarning: Glyph 46020 (\\N{HANGUL SYLLABLE DO}) missing from current font.\n",
      "  fig.canvas.print_figure(bytes_io, **kw)\n",
      "C:\\Users\\shinseungho\\anaconda3\\lib\\site-packages\\IPython\\core\\pylabtools.py:152: UserWarning: Glyph 49688 (\\N{HANGUL SYLLABLE SU}) missing from current font.\n",
      "  fig.canvas.print_figure(bytes_io, **kw)\n",
      "C:\\Users\\shinseungho\\anaconda3\\lib\\site-packages\\IPython\\core\\pylabtools.py:152: UserWarning: Glyph 51060 (\\N{HANGUL SYLLABLE I}) missing from current font.\n",
      "  fig.canvas.print_figure(bytes_io, **kw)\n",
      "C:\\Users\\shinseungho\\anaconda3\\lib\\site-packages\\IPython\\core\\pylabtools.py:152: UserWarning: Glyph 50857 (\\N{HANGUL SYLLABLE YONG}) missing from current font.\n",
      "  fig.canvas.print_figure(bytes_io, **kw)\n",
      "C:\\Users\\shinseungho\\anaconda3\\lib\\site-packages\\IPython\\core\\pylabtools.py:152: UserWarning: Glyph 44060 (\\N{HANGUL SYLLABLE GAE}) missing from current font.\n",
      "  fig.canvas.print_figure(bytes_io, **kw)\n",
      "C:\\Users\\shinseungho\\anaconda3\\lib\\site-packages\\IPython\\core\\pylabtools.py:152: UserWarning: Glyph 50900 (\\N{HANGUL SYLLABLE WEOL}) missing from current font.\n",
      "  fig.canvas.print_figure(bytes_io, **kw)\n",
      "C:\\Users\\shinseungho\\anaconda3\\lib\\site-packages\\IPython\\core\\pylabtools.py:152: UserWarning: Glyph 49888 (\\N{HANGUL SYLLABLE SIN}) missing from current font.\n",
      "  fig.canvas.print_figure(bytes_io, **kw)\n",
      "C:\\Users\\shinseungho\\anaconda3\\lib\\site-packages\\IPython\\core\\pylabtools.py:152: UserWarning: Glyph 48516 (\\N{HANGUL SYLLABLE BUN}) missing from current font.\n",
      "  fig.canvas.print_figure(bytes_io, **kw)\n",
      "C:\\Users\\shinseungho\\anaconda3\\lib\\site-packages\\IPython\\core\\pylabtools.py:152: UserWarning: Glyph 54252 (\\N{HANGUL SYLLABLE PO}) missing from current font.\n",
      "  fig.canvas.print_figure(bytes_io, **kw)\n"
     ]
    },
    {
     "data": {
      "image/png": "[encoded data removed]",
      "text/plain": [
       "<Figure size 640x480 with 1 Axes>"
      ]
     },
     "metadata": {},
     "output_type": "display_data"
    }
   ],
   "source": [
    "t = df[(df['고객구분'] == '22.Active_간헐')] \n",
    "\n",
    "plt.hist(data=t, x='이용건수_신용_B0M', bins=(50) ,width  = 4)\n",
    "plt.xlabel('이용개월수_신용_R12M')\n",
    "plt.ylabel('빈도수')\n",
    "plt.title('이용개월수_신용_R12M 분포')\n",
    "plt.show()\n"
   ]
  },
  {
   "cell_type": "code",
   "execution_count": 64,
   "id": "46ecca26",
   "metadata": {},
   "outputs": [
    {
     "data": {
      "text/plain": [
       "5미만     25117\n",
       "10미만     1844\n",
       "20이상      967\n",
       "15미만      666\n",
       "20미만      441\n",
       "Name: 이용건수대, dtype: int64"
      ]
     },
     "execution_count": 64,
     "metadata": {},
     "output_type": "execute_result"
    }
   ],
   "source": [
    "# 이용건수_신용_B0M 나누기\n",
    "def get_age_group(age):\n",
    "    if age < 5:\n",
    "        return '5미만'\n",
    "    elif age < 10:\n",
    "        return '10미만'\n",
    "    elif age < 15:\n",
    "        return '15미만'\n",
    "    elif age < 20:\n",
    "        return '20미만'\n",
    "    else:\n",
    "        return '20이상'\n",
    "# '연령대' 열 추가\n",
    "df['이용건수대'] = t['이용건수_신용_B0M'].apply(get_age_group)\n",
    "df['이용건수대'].value_counts()"
   ]
  },
  {
   "cell_type": "code",
   "execution_count": 65,
   "id": "14bf6e04",
   "metadata": {},
   "outputs": [
    {
     "data": {
      "text/plain": [
       "0      14018\n",
       "1       6705\n",
       "6이상     3341\n",
       "2       2171\n",
       "3       1248\n",
       "4        811\n",
       "5        577\n",
       "0미만      164\n",
       "Name: 이용건수대, dtype: int64"
      ]
     },
     "execution_count": 65,
     "metadata": {},
     "output_type": "execute_result"
    }
   ],
   "source": [
    "# 이용건수_신용_B0M 나누기\n",
    "def get_age_group(age):\n",
    "    if age < 0:\n",
    "        return '0미만'\n",
    "    elif age == 0:\n",
    "        return '0'\n",
    "    elif age == 1:\n",
    "        return '1'\n",
    "    elif age == 2:\n",
    "        return '2'\n",
    "    elif age == 3:\n",
    "        return '3'\n",
    "    elif age == 4:\n",
    "        return '4'\n",
    "    elif age == 5:\n",
    "        return '5'\n",
    "    else:\n",
    "        return '6이상'\n",
    "# '연령대' 열 추가\n",
    "df['이용건수대'] = t['이용건수_신용_B0M'].apply(get_age_group)\n",
    "df['이용건수대'].value_counts()"
   ]
  },
  {
   "cell_type": "code",
   "execution_count": 66,
   "id": "5986f83e",
   "metadata": {},
   "outputs": [
    {
     "data": {
      "text/plain": [
       "5미만     25117\n",
       "10미만     1844\n",
       "20이상      967\n",
       "15미만      666\n",
       "20미만      441\n",
       "Name: 이용건수대, dtype: int64"
      ]
     },
     "execution_count": 66,
     "metadata": {},
     "output_type": "execute_result"
    }
   ],
   "source": [
    "# 이용건수_신용_B0M 나누기\n",
    "def get_age_group(age):\n",
    "    if age < 5:\n",
    "        return '5미만'\n",
    "    elif age < 10:\n",
    "        return '10미만'\n",
    "    elif age < 15:\n",
    "        return '15미만'\n",
    "    elif age < 20:\n",
    "        return '20미만'\n",
    "    else:\n",
    "        return '20이상'\n",
    "# '연령대' 열 추가\n",
    "df['이용건수대'] = t['이용건수_신용_B0M'].apply(get_age_group)\n",
    "df['이용건수대'].value_counts()"
   ]
  },
  {
   "cell_type": "code",
   "execution_count": 70,
   "id": "cedeff89",
   "metadata": {},
   "outputs": [
    {
     "data": {
      "image/png": "[encoded data removed]",
      "text/plain": [
       "<Figure size 640x480 with 1 Axes>"
      ]
     },
     "metadata": {},
     "output_type": "display_data"
    }
   ],
   "source": [
    "f = df[(df['고객구분'] == '21.Active_연속')] \n",
    "\n",
    "plt.hist(data=f, x='이용건수_신용_B0M', bins=(50) ,width  = 4)\n",
    "plt.xlabel('이용개월수_신용_R12M')\n",
    "plt.ylabel('빈도수')\n",
    "plt.title('이용개월수_신용_R12M 분포')\n",
    "plt.show()\n"
   ]
  },
  {
   "cell_type": "code",
   "execution_count": 72,
   "id": "fe26d8d9",
   "metadata": {},
   "outputs": [
    {
     "data": {
      "text/plain": [
       "6이상    221876\n",
       "4         531\n",
       "5         399\n",
       "3          53\n",
       "0미만         3\n",
       "0           1\n",
       "Name: 이용건수대, dtype: int64"
      ]
     },
     "execution_count": 72,
     "metadata": {},
     "output_type": "execute_result"
    }
   ],
   "source": [
    "# 이용건수_신용_B0M 나누기\n",
    "def get_age_group(age):\n",
    "    if age < 0:\n",
    "        return '0미만'\n",
    "    elif age == 0:\n",
    "        return '0'\n",
    "    elif age == 1:\n",
    "        return '1'\n",
    "    elif age == 2:\n",
    "        return '2'\n",
    "    elif age == 3:\n",
    "        return '3'\n",
    "    elif age == 4:\n",
    "        return '4'\n",
    "    elif age == 5:\n",
    "        return '5'\n",
    "    else:\n",
    "        return '6이상'\n",
    "# '연령대' 열 추가\n",
    "df['이용건수대'] = f['이용건수_신용_R12M'].apply(get_age_group)\n",
    "df['이용건수대'].value_counts()"
   ]
  },
  {
   "cell_type": "code",
   "execution_count": 75,
   "id": "fb76611b",
   "metadata": {},
   "outputs": [
    {
     "data": {
      "text/plain": [
       "6이상    24554\n",
       "2       1091\n",
       "3        911\n",
       "1        864\n",
       "5        797\n",
       "4        763\n",
       "0         46\n",
       "0미만        9\n",
       "Name: 이용건수대, dtype: int64"
      ]
     },
     "execution_count": 75,
     "metadata": {},
     "output_type": "execute_result"
    }
   ],
   "source": [
    "# 이용건수_신용_B0M 나누기\n",
    "def get_age_group(age):\n",
    "    if age < 0:\n",
    "        return '0미만'\n",
    "    elif age == 0:\n",
    "        return '0'\n",
    "    elif age == 1:\n",
    "        return '1'\n",
    "    elif age == 2:\n",
    "        return '2'\n",
    "    elif age == 3:\n",
    "        return '3'\n",
    "    elif age == 4:\n",
    "        return '4'\n",
    "    elif age == 5:\n",
    "        return '5'\n",
    "    else:\n",
    "        return '6이상'\n",
    "# '연령대' 열 추가\n",
    "df['이용건수대'] = t['이용건수_신용_R12M'].apply(get_age_group)\n",
    "df['이용건수대'].value_counts()"
   ]
  },
  {
   "cell_type": "code",
   "execution_count": 76,
   "id": "04c6e54b",
   "metadata": {},
   "outputs": [
    {
     "name": "stdout",
     "output_type": "stream",
     "text": [
      "14645\n"
     ]
    }
   ],
   "source": [
    "count = len(df[(df['고객구분'] == '22.Active_간헐') & (df['이용후경과월_신용'] == 0)])\n",
    "\n",
    "# 개수 출력\n",
    "print(count)"
   ]
  },
  {
   "cell_type": "code",
   "execution_count": 78,
   "id": "f9d6f0e1",
   "metadata": {},
   "outputs": [
    {
     "name": "stdout",
     "output_type": "stream",
     "text": [
      "222863\n"
     ]
    }
   ],
   "source": [
    "a= df[(df['고객구분'] == '21.Active_연속') & (df['이용후경과월_신용'] == 0)]\n",
    "\n",
    "a['이용금액대'].value_counts()"
   ]
  },
  {
   "cell_type": "code",
   "execution_count": 79,
   "id": "d344f9a4",
   "metadata": {},
   "outputs": [
    {
     "name": "stdout",
     "output_type": "stream",
     "text": [
      "14390\n"
     ]
    }
   ],
   "source": [
    "count = len(df[(df['고객구분'] == '22.Active_간헐') & (df['이용후경과월_신용'] != 0)])\n",
    "\n",
    "# 개수 출력\n",
    "print(count)"
   ]
  },
  {
   "cell_type": "code",
   "execution_count": 80,
   "id": "a31123c5",
   "metadata": {
    "scrolled": false
   },
   "outputs": [
    {
     "ename": "NameError",
     "evalue": "name 'a' is not defined",
     "output_type": "error",
     "traceback": [
      "\u001b[1;31m---------------------------------------------------------------------------\u001b[0m",
      "\u001b[1;31mNameError\u001b[0m                                 Traceback (most recent call last)",
      "Cell \u001b[1;32mIn[80], line 1\u001b[0m\n\u001b[1;32m----> 1\u001b[0m \u001b[43ma\u001b[49m[\u001b[38;5;124m'\u001b[39m\u001b[38;5;124m이용금액대\u001b[39m\u001b[38;5;124m'\u001b[39m]\u001b[38;5;241m.\u001b[39mvalue_counts()\n",
      "\u001b[1;31mNameError\u001b[0m: name 'a' is not defined"
     ]
    }
   ],
   "source": [
    "a['이용금액대'].value_counts()"
   ]
  },
  {
   "cell_type": "code",
   "execution_count": 83,
   "id": "93657535",
   "metadata": {},
   "outputs": [
    {
     "data": {
      "text/plain": [
       "05.10만원-     7718\n",
       "04.10만원+     2808\n",
       "02.50만원+     1381\n",
       "03.30만원+     1302\n",
       "01.100만원+    1280\n",
       "09.미사용        156\n",
       "Name: 이용금액대, dtype: int64"
      ]
     },
     "execution_count": 83,
     "metadata": {},
     "output_type": "execute_result"
    }
   ],
   "source": [
    "a = df[(df['고객구분'] == '22.Active_간헐') & (df['이용후경과월_신용'] == 0)]\n",
    "a['이용금액대'].value_counts()\n"
   ]
  },
  {
   "cell_type": "code",
   "execution_count": 85,
   "id": "4e77fc7f",
   "metadata": {},
   "outputs": [
    {
     "data": {
      "text/plain": [
       "137027"
      ]
     },
     "execution_count": 85,
     "metadata": {},
     "output_type": "execute_result"
    }
   ],
   "source": [
    "len(df[df['혜택수혜금액']>0])"
   ]
  }
 ],
 "metadata": {
  "kernelspec": {
   "display_name": "Python 3 (ipykernel)",
   "language": "python",
   "name": "python3"
  },
  "language_info": {
   "codemirror_mode": {
    "name": "ipython",
    "version": 3
   },
   "file_extension": ".py",
   "mimetype": "text/x-python",
   "name": "python",
   "nbconvert_exporter": "python",
   "pygments_lexer": "ipython3",
   "version": "3.10.9"
  }
 },
 "nbformat": 4,
 "nbformat_minor": 5
}
