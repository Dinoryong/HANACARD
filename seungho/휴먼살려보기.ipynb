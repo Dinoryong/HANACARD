{
 "cells": [
  {
   "cell_type": "code",
   "execution_count": 2,
   "id": "818ec6cd",
   "metadata": {},
   "outputs": [],
   "source": [
    "# 라이브러리 불러오기\n",
    "import pandas as pd\n",
    "import numpy as np\n",
    "import matplotlib.pyplot as plt\n",
    "import seaborn as sns\n",
    "import statistics\n",
    "import re\n",
    "from sklearn.model_selection import train_test_split\n",
    "from sklearn.ensemble import RandomForestClassifier\n",
    "from sklearn.metrics import accuracy_score\n",
    "from sklearn.preprocessing import OneHotEncoder\n"
   ]
  },
  {
   "cell_type": "code",
   "execution_count": 3,
   "id": "49d15630",
   "metadata": {
    "scrolled": true
   },
   "outputs": [
    {
     "data": {
      "text/html": [
       "<div>\n",
       "<style scoped>\n",
       "    .dataframe tbody tr th:only-of-type {\n",
       "        vertical-align: middle;\n",
       "    }\n",
       "\n",
       "    .dataframe tbody tr th {\n",
       "        vertical-align: top;\n",
       "    }\n",
       "\n",
       "    .dataframe thead th {\n",
       "        text-align: right;\n",
       "    }\n",
       "</style>\n",
       "<table border=\"1\" class=\"dataframe\">\n",
       "  <thead>\n",
       "    <tr style=\"text-align: right;\">\n",
       "      <th></th>\n",
       "      <th>회원번호</th>\n",
       "      <th>남녀구분코드</th>\n",
       "      <th>연령</th>\n",
       "      <th>소지여부_신용</th>\n",
       "      <th>입회일자_신용</th>\n",
       "      <th>입회경과개월수_신용</th>\n",
       "      <th>탈회여부</th>\n",
       "      <th>회원여부_연체</th>\n",
       "      <th>수신거부여부_TM</th>\n",
       "      <th>수신거부여부_DM</th>\n",
       "      <th>...</th>\n",
       "      <th>캠페인접촉건수_R12M</th>\n",
       "      <th>캠페인접촉일수_R12M</th>\n",
       "      <th>캠페인접촉월수_R12M</th>\n",
       "      <th>접촉후경과월_R12M</th>\n",
       "      <th>보험콜대상월수_R12M</th>\n",
       "      <th>보험콜대상횟수_R12M</th>\n",
       "      <th>보험콜통화횟수_R12M</th>\n",
       "      <th>보험콜배정후경과월_R12M</th>\n",
       "      <th>보험콜통화후경과월_R12M</th>\n",
       "      <th>고객구분</th>\n",
       "    </tr>\n",
       "  </thead>\n",
       "  <tbody>\n",
       "    <tr>\n",
       "      <th>0</th>\n",
       "      <td>YNtSN9Oa</td>\n",
       "      <td>2</td>\n",
       "      <td>64</td>\n",
       "      <td>1</td>\n",
       "      <td>20140709</td>\n",
       "      <td>54</td>\n",
       "      <td>1</td>\n",
       "      <td>0</td>\n",
       "      <td>0</td>\n",
       "      <td>0</td>\n",
       "      <td>...</td>\n",
       "      <td>3</td>\n",
       "      <td>3</td>\n",
       "      <td>2</td>\n",
       "      <td>5</td>\n",
       "      <td>5</td>\n",
       "      <td>5</td>\n",
       "      <td>9</td>\n",
       "      <td>0</td>\n",
       "      <td>0</td>\n",
       "      <td>21.Active_연속</td>\n",
       "    </tr>\n",
       "    <tr>\n",
       "      <th>1</th>\n",
       "      <td>Rijqdlzu</td>\n",
       "      <td>1</td>\n",
       "      <td>24</td>\n",
       "      <td>1</td>\n",
       "      <td>20170412</td>\n",
       "      <td>21</td>\n",
       "      <td>0</td>\n",
       "      <td>0</td>\n",
       "      <td>0</td>\n",
       "      <td>0</td>\n",
       "      <td>...</td>\n",
       "      <td>0</td>\n",
       "      <td>0</td>\n",
       "      <td>0</td>\n",
       "      <td>12</td>\n",
       "      <td>5</td>\n",
       "      <td>5</td>\n",
       "      <td>14</td>\n",
       "      <td>2</td>\n",
       "      <td>2</td>\n",
       "      <td>21.Active_연속</td>\n",
       "    </tr>\n",
       "    <tr>\n",
       "      <th>2</th>\n",
       "      <td>NOsf3TZS</td>\n",
       "      <td>2</td>\n",
       "      <td>43</td>\n",
       "      <td>1</td>\n",
       "      <td>20170426</td>\n",
       "      <td>21</td>\n",
       "      <td>1</td>\n",
       "      <td>0</td>\n",
       "      <td>1</td>\n",
       "      <td>0</td>\n",
       "      <td>...</td>\n",
       "      <td>0</td>\n",
       "      <td>0</td>\n",
       "      <td>0</td>\n",
       "      <td>12</td>\n",
       "      <td>0</td>\n",
       "      <td>0</td>\n",
       "      <td>0</td>\n",
       "      <td>12</td>\n",
       "      <td>12</td>\n",
       "      <td>21.Active_연속</td>\n",
       "    </tr>\n",
       "    <tr>\n",
       "      <th>3</th>\n",
       "      <td>7IPZGTZu</td>\n",
       "      <td>2</td>\n",
       "      <td>79</td>\n",
       "      <td>1</td>\n",
       "      <td>20141128</td>\n",
       "      <td>50</td>\n",
       "      <td>0</td>\n",
       "      <td>0</td>\n",
       "      <td>0</td>\n",
       "      <td>0</td>\n",
       "      <td>...</td>\n",
       "      <td>16</td>\n",
       "      <td>15</td>\n",
       "      <td>5</td>\n",
       "      <td>1</td>\n",
       "      <td>3</td>\n",
       "      <td>3</td>\n",
       "      <td>6</td>\n",
       "      <td>0</td>\n",
       "      <td>0</td>\n",
       "      <td>21.Active_연속</td>\n",
       "    </tr>\n",
       "    <tr>\n",
       "      <th>4</th>\n",
       "      <td>pEEsUF2u</td>\n",
       "      <td>2</td>\n",
       "      <td>82</td>\n",
       "      <td>1</td>\n",
       "      <td>20120905</td>\n",
       "      <td>76</td>\n",
       "      <td>0</td>\n",
       "      <td>0</td>\n",
       "      <td>0</td>\n",
       "      <td>0</td>\n",
       "      <td>...</td>\n",
       "      <td>4</td>\n",
       "      <td>4</td>\n",
       "      <td>3</td>\n",
       "      <td>1</td>\n",
       "      <td>1</td>\n",
       "      <td>1</td>\n",
       "      <td>4</td>\n",
       "      <td>3</td>\n",
       "      <td>2</td>\n",
       "      <td>21.Active_연속</td>\n",
       "    </tr>\n",
       "  </tbody>\n",
       "</table>\n",
       "<p>5 rows × 302 columns</p>\n",
       "</div>"
      ],
      "text/plain": [
       "       회원번호  남녀구분코드  연령  소지여부_신용   입회일자_신용  입회경과개월수_신용  탈회여부  회원여부_연체  \\\n",
       "0  YNtSN9Oa       2  64        1  20140709          54     1        0   \n",
       "1  Rijqdlzu       1  24        1  20170412          21     0        0   \n",
       "2  NOsf3TZS       2  43        1  20170426          21     1        0   \n",
       "3  7IPZGTZu       2  79        1  20141128          50     0        0   \n",
       "4  pEEsUF2u       2  82        1  20120905          76     0        0   \n",
       "\n",
       "   수신거부여부_TM  수신거부여부_DM  ...  캠페인접촉건수_R12M  캠페인접촉일수_R12M 캠페인접촉월수_R12M  \\\n",
       "0          0          0  ...             3             3            2   \n",
       "1          0          0  ...             0             0            0   \n",
       "2          1          0  ...             0             0            0   \n",
       "3          0          0  ...            16            15            5   \n",
       "4          0          0  ...             4             4            3   \n",
       "\n",
       "  접촉후경과월_R12M 보험콜대상월수_R12M  보험콜대상횟수_R12M  보험콜통화횟수_R12M  보험콜배정후경과월_R12M  \\\n",
       "0           5            5             5             9               0   \n",
       "1          12            5             5            14               2   \n",
       "2          12            0             0             0              12   \n",
       "3           1            3             3             6               0   \n",
       "4           1            1             1             4               3   \n",
       "\n",
       "  보험콜통화후경과월_R12M          고객구분  \n",
       "0              0  21.Active_연속  \n",
       "1              2  21.Active_연속  \n",
       "2             12  21.Active_연속  \n",
       "3              0  21.Active_연속  \n",
       "4              2  21.Active_연속  \n",
       "\n",
       "[5 rows x 302 columns]"
      ]
     },
     "execution_count": 3,
     "metadata": {},
     "output_type": "execute_result"
    }
   ],
   "source": [
    "df = pd.read_csv('C:\\data\\CardData_new.csv', encoding='cp949')\n",
    "df.head()"
   ]
  },
  {
   "cell_type": "code",
   "execution_count": 23,
   "id": "dfb1492a",
   "metadata": {},
   "outputs": [
    {
     "name": "stdout",
     "output_type": "stream",
     "text": [
      "7443\n"
     ]
    }
   ],
   "source": [
    "count = len(df[(df['이용후경과월_신용'] == 0) &(df['고객구분'] == '22.Active_간헐')& ((df['이용금액_신용_R12M'] / 12) - df['이용금액_신용_B0M'] > 0)])\n",
    "print(count)\n",
    "\n"
   ]
  },
  {
   "cell_type": "code",
   "execution_count": 18,
   "id": "3f6250dc",
   "metadata": {},
   "outputs": [
    {
     "name": "stdout",
     "output_type": "stream",
     "text": [
      "8818\n"
     ]
    }
   ],
   "source": [
    "count = len(df[(df['이용후경과월_신용'] == 0) &(df['고객구분'] == '22.Active_간헐')& ((df['이용금액_신용_R12M'] / 12) - df['이용금액_신용_R3M']/3 > 0)])\n",
    "print(count)\n"
   ]
  },
  {
   "cell_type": "code",
   "execution_count": 13,
   "id": "5eb41dab",
   "metadata": {},
   "outputs": [
    {
     "name": "stdout",
     "output_type": "stream",
     "text": [
      "110716\n"
     ]
    }
   ],
   "source": [
    "count = len(df[(df['이용후경과월_신용'] == 0) & ((df['이용금액_신용_R12M'] / 12) - df['이용금액_신용_R6M']/6 > 0)])\n",
    "print(count)"
   ]
  },
  {
   "cell_type": "code",
   "execution_count": 14,
   "id": "50cb29d4",
   "metadata": {},
   "outputs": [
    {
     "name": "stdout",
     "output_type": "stream",
     "text": [
      "115112\n"
     ]
    }
   ],
   "source": [
    "count = len(df[(df['이용후경과월_신용'] == 0) & ((df['이용건수_신용_R12M'] / 12) - df['이용건수_신용_B0M'] > 0)])\n",
    "print(count)"
   ]
  },
  {
   "cell_type": "code",
   "execution_count": 20,
   "id": "554cbc2b",
   "metadata": {},
   "outputs": [
    {
     "name": "stdout",
     "output_type": "stream",
     "text": [
      "95360\n"
     ]
    }
   ],
   "source": [
    "count = len(df[(df['이용후경과월_신용'] == 0) & ((df['이용건수_신용_R12M'] / 12) - df['이용건수_신용_R6M']/6 > 0)])\n",
    "print(count)"
   ]
  },
  {
   "cell_type": "code",
   "execution_count": 22,
   "id": "b088a74c",
   "metadata": {},
   "outputs": [
    {
     "name": "stdout",
     "output_type": "stream",
     "text": [
      "107033\n"
     ]
    }
   ],
   "source": [
    "count = len(df[(df['이용후경과월_신용'] == 0) & ((df['이용건수_신용_R12M'] / 12) - df['이용건수_신용_R3M']/3 > 0)])\n",
    "print(count)"
   ]
  },
  {
   "cell_type": "code",
   "execution_count": 24,
   "id": "469f5bb0",
   "metadata": {},
   "outputs": [
    {
     "name": "stdout",
     "output_type": "stream",
     "text": [
      "5776\n"
     ]
    }
   ],
   "source": [
    "count = len(df[(df['이용후경과월_신용'] == 0) &(df['고객구분'] == '22.Active_간헐')& ((df['이용건수_신용_R12M'] / 12) - df['이용건수_신용_B0M'] > 0)])\n",
    "print(count)\n"
   ]
  },
  {
   "cell_type": "code",
   "execution_count": 26,
   "id": "8e5a11c8",
   "metadata": {},
   "outputs": [
    {
     "name": "stdout",
     "output_type": "stream",
     "text": [
      "8197\n"
     ]
    }
   ],
   "source": [
    "count = len(df[(df['이용후경과월_신용'] == 0) &(df['고객구분'] == '22.Active_간헐')& ((df['이용건수_신용_R12M'] / 12) - df['이용건수_신용_R3M']/3 > 0)])\n",
    "print(count)"
   ]
  },
  {
   "cell_type": "code",
   "execution_count": 27,
   "id": "a398dc39",
   "metadata": {},
   "outputs": [
    {
     "name": "stdout",
     "output_type": "stream",
     "text": [
      "7390\n"
     ]
    }
   ],
   "source": [
    "count = len(df[(df['이용후경과월_신용'] == 0) &(df['고객구분'] == '22.Active_간헐')& ((df['이용건수_신용_R12M'] / 12) - df['이용건수_신용_R6M']/6 > 0)])\n",
    "print(count)"
   ]
  },
  {
   "cell_type": "code",
   "execution_count": null,
   "id": "cf196a87",
   "metadata": {},
   "outputs": [],
   "source": [
    "#휴면 3M 이용금액으로 하기"
   ]
  },
  {
   "cell_type": "code",
   "execution_count": 28,
   "id": "79264901",
   "metadata": {},
   "outputs": [
    {
     "name": "stdout",
     "output_type": "stream",
     "text": [
      "2170\n"
     ]
    }
   ],
   "source": [
    "count = len(df[(df['이용후경과월_신용'] == 3) & ((df['이용금액_신용_R12M'] / 9) - df['이용금액_신용_R6M']/3 > 0)])\n",
    "print(count)"
   ]
  },
  {
   "cell_type": "code",
   "execution_count": 29,
   "id": "0a271c57",
   "metadata": {},
   "outputs": [
    {
     "name": "stdout",
     "output_type": "stream",
     "text": [
      "1545\n"
     ]
    }
   ],
   "source": [
    "count = len(df[(df['이용후경과월_신용'] == 4) & ((df['이용금액_신용_R12M'] / 8) - df['이용금액_신용_R6M']/2 > 0)])\n",
    "print(count)"
   ]
  },
  {
   "cell_type": "code",
   "execution_count": 30,
   "id": "bdf0f3ab",
   "metadata": {},
   "outputs": [
    {
     "name": "stdout",
     "output_type": "stream",
     "text": [
      "1416\n"
     ]
    }
   ],
   "source": [
    "count = len(df[(df['이용후경과월_신용'] == 5) & ((df['이용금액_신용_R12M'] / 7) - df['이용금액_신용_R6M'] > 0)])\n",
    "print(count)"
   ]
  },
  {
   "cell_type": "code",
   "execution_count": null,
   "id": "b86f4d66",
   "metadata": {},
   "outputs": [],
   "source": [
    "#휴면 3M 이용건수로 하기"
   ]
  },
  {
   "cell_type": "code",
   "execution_count": 31,
   "id": "bba92ba1",
   "metadata": {},
   "outputs": [
    {
     "name": "stdout",
     "output_type": "stream",
     "text": [
      "1879\n"
     ]
    }
   ],
   "source": [
    "count = len(df[(df['이용후경과월_신용'] == 3) & ((df['이용건수_신용_R12M'] / 9) - df['이용건수_신용_R6M']/3 > 0)])\n",
    "print(count)"
   ]
  },
  {
   "cell_type": "code",
   "execution_count": 32,
   "id": "9532c014",
   "metadata": {},
   "outputs": [
    {
     "name": "stdout",
     "output_type": "stream",
     "text": [
      "1348\n"
     ]
    }
   ],
   "source": [
    "count = len(df[(df['이용후경과월_신용'] == 4) & ((df['이용건수_신용_R12M'] / 8) - df['이용건수_신용_R6M']/2 > 0)])\n",
    "print(count)"
   ]
  },
  {
   "cell_type": "code",
   "execution_count": 33,
   "id": "e48e8372",
   "metadata": {},
   "outputs": [
    {
     "name": "stdout",
     "output_type": "stream",
     "text": [
      "1216\n"
     ]
    }
   ],
   "source": [
    "count = len(df[(df['이용후경과월_신용'] == 5) & ((df['이용건수_신용_R12M'] / 7) - df['이용건수_신용_R6M'] > 0)])\n",
    "print(count)"
   ]
  },
  {
   "cell_type": "code",
   "execution_count": null,
   "id": "8ab20166",
   "metadata": {},
   "outputs": [],
   "source": [
    "# 금액 건수 둘다 충족"
   ]
  },
  {
   "cell_type": "code",
   "execution_count": 60,
   "id": "8dd35f79",
   "metadata": {},
   "outputs": [
    {
     "name": "stdout",
     "output_type": "stream",
     "text": [
      "4539\n",
      "2976\n"
     ]
    }
   ],
   "source": [
    "print(len(df[df['이용후경과월_신용'] == 3]))\n",
    "count = len(df[df['이용후경과월_신용'] == 3]) -len(df[(df['이용후경과월_신용'] == 3) & \n",
    "               ((df['이용금액_신용_R12M'] / 9) - (df['이용금액_신용_R6M'] / 3) > 0) & \n",
    "               ((df['이용건수_신용_R12M'] / 9) - (df['이용건수_신용_R6M'] / 3) > 0)])\n",
    "print(count)"
   ]
  },
  {
   "cell_type": "code",
   "execution_count": 61,
   "id": "f9824f80",
   "metadata": {},
   "outputs": [
    {
     "name": "stdout",
     "output_type": "stream",
     "text": [
      "3309\n",
      "2187\n"
     ]
    }
   ],
   "source": [
    "print(len(df[df['이용후경과월_신용'] == 4]))\n",
    "\n",
    "count = len(df[df['이용후경과월_신용'] == 4]) -len(df[(df['이용후경과월_신용'] == 4) & \n",
    "               ((df['이용금액_신용_R12M'] / 8) - (df['이용금액_신용_R6M'] / 2) > 0) & \n",
    "               ((df['이용건수_신용_R12M'] / 8) - (df['이용건수_신용_R6M'] / 2) > 0)])\n",
    "print(count)"
   ]
  },
  {
   "cell_type": "code",
   "execution_count": 62,
   "id": "e95dd664",
   "metadata": {},
   "outputs": [
    {
     "name": "stdout",
     "output_type": "stream",
     "text": [
      "2951\n",
      "1931\n"
     ]
    }
   ],
   "source": [
    "print(len(df[df['이용후경과월_신용'] == 5]) )\n",
    "\n",
    "count = len(df[df['이용후경과월_신용'] == 5]) - len(df[(df['이용후경과월_신용'] == 5) & \n",
    "                                                  ((df['이용금액_신용_R12M'] / 7) - (df['이용금액_신용_R6M']) > 0) & \n",
    "                                                  ((df['이용건수_신용_R12M'] / 7) - (df['이용건수_신용_R6M']) > 0)])\n",
    "print(count)"
   ]
  },
  {
   "cell_type": "code",
   "execution_count": null,
   "id": "8c5df2b6",
   "metadata": {},
   "outputs": [],
   "source": [
    "#간헐찾아보기"
   ]
  },
  {
   "cell_type": "code",
   "execution_count": 52,
   "id": "f78e472b",
   "metadata": {},
   "outputs": [
    {
     "name": "stdout",
     "output_type": "stream",
     "text": [
      "4654\n"
     ]
    }
   ],
   "source": [
    "count = len(df[(df['이용후경과월_신용'] == 0) & (df['고객구분'] == '22.Active_간헐') & \n",
    "               ((df['이용금액_신용_R12M'] / 12) - df['이용금액_신용_B0M'] > 0) &\n",
    "               ((df['이용건수_신용_R12M'] / 12) - df['이용건수_신용_B0M'] > 0)])\n",
    "print(count)\n"
   ]
  },
  {
   "cell_type": "code",
   "execution_count": 53,
   "id": "490c37e3",
   "metadata": {},
   "outputs": [
    {
     "name": "stdout",
     "output_type": "stream",
     "text": [
      "3213\n"
     ]
    }
   ],
   "source": [
    "count = len(df[(df['이용후경과월_신용'] == 0) & (df['고객구분'] == '22.Active_간헐') & \n",
    "               ((df['이용금액_신용_R6M'] / 6) - df['이용금액_신용_B0M'] > 0) &\n",
    "               ((df['이용건수_신용_R6M'] / 6) - df['이용건수_신용_B0M'] > 0)])\n",
    "print(count)"
   ]
  },
  {
   "cell_type": "code",
   "execution_count": 54,
   "id": "967687ea",
   "metadata": {},
   "outputs": [
    {
     "name": "stdout",
     "output_type": "stream",
     "text": [
      "1284\n"
     ]
    }
   ],
   "source": [
    "count = len(df[(df['이용후경과월_신용'] == 0) & (df['고객구분'] == '22.Active_간헐') & \n",
    "               ((df['이용금액_신용_R3M'] / 3) - df['이용금액_신용_B0M'] > 0) &\n",
    "               ((df['이용건수_신용_R3M'] / 3) - df['이용건수_신용_B0M'] > 0)])\n",
    "print(count)"
   ]
  },
  {
   "cell_type": "code",
   "execution_count": 58,
   "id": "b95a1334",
   "metadata": {},
   "outputs": [
    {
     "name": "stdout",
     "output_type": "stream",
     "text": [
      "4654\n"
     ]
    }
   ],
   "source": [
    "count = len(df[(df['이용후경과월_신용'] == 0) & (df['고객구분'] == '22.Active_간헐') & \n",
    "               ((df['이용금액_신용_R12M'] / 12) - df['이용금액_신용_B0M'] > 0) &\n",
    "               ((df['이용건수_신용_R12M'] / 12) - df['이용건수_신용_B0M'] > 0)])\n",
    "print(count)"
   ]
  },
  {
   "cell_type": "code",
   "execution_count": 56,
   "id": "adf9d453",
   "metadata": {},
   "outputs": [
    {
     "name": "stdout",
     "output_type": "stream",
     "text": [
      "7242\n"
     ]
    }
   ],
   "source": [
    "count = len(df[(df['이용후경과월_신용'] == 0) & (df['고객구분'] == '22.Active_간헐') & \n",
    "               (((df['이용금액_신용_R12M'] - df['이용금액_신용_R6M']) / 6) - df['이용금액_신용_B0M'] > 0) &\n",
    "               (((df['이용금액_신용_R12M'] - df['이용금액_신용_R6M']) / 6) - df['이용건수_신용_B0M'] > 0)])\n",
    "print(count)"
   ]
  },
  {
   "cell_type": "code",
   "execution_count": 57,
   "id": "e11390d5",
   "metadata": {},
   "outputs": [
    {
     "name": "stdout",
     "output_type": "stream",
     "text": [
      "7551\n"
     ]
    }
   ],
   "source": [
    "count = len(df[(df['이용후경과월_신용'] == 0) & (df['고객구분'] == '22.Active_간헐') & \n",
    "               (((df['이용금액_신용_R12M'] - df['이용금액_신용_R3M']) / 9) - df['이용금액_신용_B0M'] > 0) &\n",
    "               (((df['이용금액_신용_R12M'] - df['이용금액_신용_R3M']) / 9) - df['이용건수_신용_B0M'] > 0)])\n",
    "print(count)"
   ]
  },
  {
   "cell_type": "code",
   "execution_count": null,
   "id": "93f64c33",
   "metadata": {},
   "outputs": [],
   "source": []
  }
 ],
 "metadata": {
  "kernelspec": {
   "display_name": "Python 3 (ipykernel)",
   "language": "python",
   "name": "python3"
  },
  "language_info": {
   "codemirror_mode": {
    "name": "ipython",
    "version": 3
   },
   "file_extension": ".py",
   "mimetype": "text/x-python",
   "name": "python",
   "nbconvert_exporter": "python",
   "pygments_lexer": "ipython3",
   "version": "3.10.9"
  }
 },
 "nbformat": 4,
 "nbformat_minor": 5
}
